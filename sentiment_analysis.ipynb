{
 "metadata": {
  "language_info": {
   "codemirror_mode": {
    "name": "ipython",
    "version": 3
   },
   "file_extension": ".py",
   "mimetype": "text/x-python",
   "name": "python",
   "nbconvert_exporter": "python",
   "pygments_lexer": "ipython3",
   "version": "3.8.1-final"
  },
  "orig_nbformat": 2,
  "kernelspec": {
   "name": "Python 3.8.1 64-bit ('venv': venv)",
   "display_name": "Python 3.8.1 64-bit ('venv': venv)",
   "metadata": {
    "interpreter": {
     "hash": "068a41564a2eb474d53eb9101d726c138c998715c5e969eb289beffaf72be0e2"
    }
   }
  }
 },
 "nbformat": 4,
 "nbformat_minor": 2,
 "cells": [
  {
   "source": [
    "# IMDB sentiment analysis"
   ],
   "cell_type": "markdown",
   "metadata": {}
  },
  {
   "cell_type": "code",
   "execution_count": 43,
   "metadata": {},
   "outputs": [
    {
     "output_type": "stream",
     "name": "stderr",
     "text": [
      "[nltk_data] Downloading package stopwords to /Users/jobs/nltk_data...\n[nltk_data]   Package stopwords is already up-to-date!\n[nltk_data] Downloading package punkt to /Users/jobs/nltk_data...\n[nltk_data]   Package punkt is already up-to-date!\n[nltk_data] Downloading package wordnet to /Users/jobs/nltk_data...\n[nltk_data]   Package wordnet is already up-to-date!\n"
     ]
    }
   ],
   "source": [
    "import os \n",
    "import shutil\n",
    "import sys\n",
    "import urllib.request\n",
    "import tarfile\n",
    "import re\n",
    "from functools import partial\n",
    "\n",
    "import pandas as pd\n",
    "import numpy as np\n",
    "import matplotlib.pyplot as plt\n",
    "\n",
    "from sklearn.feature_extraction.text import CountVectorizer, TfidfTransformer, TfidfVectorizer\n",
    "from sklearn.model_selection import train_test_split\n",
    "from sklearn.naive_bayes import MultinomialNB\n",
    "from sklearn.linear_model import LogisticRegression\n",
    "from sklearn.pipeline import Pipeline\n",
    "from sklearn.model_selection import GridSearchCV\n",
    "from sklearn.metrics import r2_score, mean_absolute_error, mean_squared_error, classification_report, confusion_matrix, plot_confusion_matrix, make_scorer\n",
    "\n",
    "import nltk\n",
    "from nltk.corpus import stopwords\n",
    "from nltk.tokenize import word_tokenize\n",
    "from nltk.sentiment.util import mark_negation\n",
    "nltk.download('stopwords')\n",
    "nltk.download('punkt')\n",
    "nltk.download('wordnet')\n",
    "\n",
    "RANDOM_SEED = 42"
   ]
  },
  {
   "source": [
    "## Data loading"
   ],
   "cell_type": "markdown",
   "metadata": {}
  },
  {
   "cell_type": "code",
   "execution_count": 4,
   "metadata": {},
   "outputs": [],
   "source": [
    "# Set the dataset name and URL\n",
    "dataset_name = \"imdb\"\n",
    "dataset_url = 'http://ai.stanford.edu/~amaas/data/sentiment/aclImdb_v1.tar.gz'\n",
    "\n",
    "# Create the dataset folder\n",
    "dataset_folder = os.path.join(os.getcwd(), \"datasets\", dataset_name)\n",
    "original_dataset_folder = os.path.join(dataset_folder, \"original\")\n",
    "if not os.path.exists(original_dataset_folder):\n",
    "    os.makedirs(original_dataset_folder)\n",
    "\n",
    "# Create the dataframe folder\n",
    "df_folder = os.path.join(dataset_folder, \"dataframe\")\n",
    "if not os.path.exists(df_folder):\n",
    "    os.makedirs(df_folder)\n",
    "dataframe_path = os.path.join(df_folder, dataset_name + \".pkl\")"
   ]
  },
  {
   "cell_type": "code",
   "execution_count": 5,
   "metadata": {},
   "outputs": [
    {
     "output_type": "stream",
     "name": "stdout",
     "text": [
      "Dataset already downloaded and extracted\n"
     ]
    }
   ],
   "source": [
    "# Download and extract the dataset\n",
    "original_dataset_path = os.path.join(original_dataset_folder, \"movies.tar.gz\")\n",
    "if not os.path.exists(original_dataset_path):\n",
    "    urllib.request.urlretrieve(dataset_url, original_dataset_path)\n",
    "    print(\"Successful download\")\n",
    "    tar = tarfile.open(original_dataset_path)\n",
    "    tar.extractall(original_dataset_folder)\n",
    "    extracted_folder_name = tar.getnames()[0]\n",
    "    tar.close()\n",
    "    print(\"Successful extraction\")\n",
    "else:\n",
    "    print(\"Dataset already downloaded and extracted\")"
   ]
  },
  {
   "cell_type": "code",
   "execution_count": 6,
   "metadata": {},
   "outputs": [
    {
     "output_type": "stream",
     "name": "stdout",
     "text": [
      "Dataframe already saved as a pickle file\n"
     ]
    }
   ],
   "source": [
    "if not os.path.exists(dataframe_path):\n",
    "    dataframe_rows = []\n",
    "    for split in ['train', 'test']:\n",
    "        for sentiment in ['pos', 'neg']:\n",
    "            folder = os.path.join(original_dataset_folder, extracted_folder_name, split, sentiment)\n",
    "            for filename in os.listdir(folder):\n",
    "                file_path = os.path.join(folder, filename)\n",
    "                try:\n",
    "                    if os.path.isfile(file_path):\n",
    "                        with open(file_path, mode='r', encoding='utf-8') as text_file:\n",
    "                            # Extract info\n",
    "                            text = text_file.read()\n",
    "                            score = filename.split(\"_\")[1].split(\".\")[0]\n",
    "                            file_id = filename.split(\"_\")[0]\n",
    "\n",
    "                            # Compute sentiment\n",
    "                            num_sentiment = -1\n",
    "                            if sentiment == \"pos\" : num_sentiment = 1\n",
    "                            elif sentiment == \"neg\" : num_sentiment = 0\n",
    "\n",
    "                            # Create single dataframe row\n",
    "                            dataframe_row = {\n",
    "                                \"file_id\": file_id,\n",
    "                                \"score\": score,\n",
    "                                \"sentiment\": num_sentiment,\n",
    "                                \"text\": text\n",
    "                            }\n",
    "                            dataframe_rows.append(dataframe_row)\n",
    "                except Exception as e:\n",
    "                    print('Failed to process %s. Reason: %s' % (file_path, e))\n",
    "                    sys.exit(0)\n",
    "\n",
    "    # Transform the list of rows in a proper dataframe\n",
    "    dataframe = pd.DataFrame(dataframe_rows)\n",
    "    dataframe_cols = [\"file_id\", \"score\", \"sentiment\", \"text\"]\n",
    "    dataframe = dataframe[dataframe_cols]\n",
    "    dataframe.to_pickle(dataframe_path)\n",
    "else:\n",
    "    print(\"Dataframe already saved as a pickle file\")"
   ]
  },
  {
   "cell_type": "code",
   "execution_count": 7,
   "metadata": {},
   "outputs": [
    {
     "output_type": "execute_result",
     "data": {
      "text/plain": [
       "  file_id  score  sentiment                                               text\n",
       "0    4715      9          1  For a movie that gets no respect there sure ar...\n",
       "1   12390      8          1  Bizarre horror movie filled with famous faces ...\n",
       "2    8329      7          1  A solid, if unremarkable film. Matthau, as Ein...\n",
       "3    9063      8          1  It's a strange feeling to sit alone in a theat...\n",
       "4    3092     10          1  You probably all already know this by now, but..."
      ],
      "text/html": "<div>\n<style scoped>\n    .dataframe tbody tr th:only-of-type {\n        vertical-align: middle;\n    }\n\n    .dataframe tbody tr th {\n        vertical-align: top;\n    }\n\n    .dataframe thead th {\n        text-align: right;\n    }\n</style>\n<table border=\"1\" class=\"dataframe\">\n  <thead>\n    <tr style=\"text-align: right;\">\n      <th></th>\n      <th>file_id</th>\n      <th>score</th>\n      <th>sentiment</th>\n      <th>text</th>\n    </tr>\n  </thead>\n  <tbody>\n    <tr>\n      <th>0</th>\n      <td>4715</td>\n      <td>9</td>\n      <td>1</td>\n      <td>For a movie that gets no respect there sure ar...</td>\n    </tr>\n    <tr>\n      <th>1</th>\n      <td>12390</td>\n      <td>8</td>\n      <td>1</td>\n      <td>Bizarre horror movie filled with famous faces ...</td>\n    </tr>\n    <tr>\n      <th>2</th>\n      <td>8329</td>\n      <td>7</td>\n      <td>1</td>\n      <td>A solid, if unremarkable film. Matthau, as Ein...</td>\n    </tr>\n    <tr>\n      <th>3</th>\n      <td>9063</td>\n      <td>8</td>\n      <td>1</td>\n      <td>It's a strange feeling to sit alone in a theat...</td>\n    </tr>\n    <tr>\n      <th>4</th>\n      <td>3092</td>\n      <td>10</td>\n      <td>1</td>\n      <td>You probably all already know this by now, but...</td>\n    </tr>\n  </tbody>\n</table>\n</div>"
     },
     "metadata": {},
     "execution_count": 7
    }
   ],
   "source": [
    "df = pd.read_pickle(dataframe_path)\n",
    "df['score'] = pd.to_numeric(df['score'])\n",
    "df.head()"
   ]
  },
  {
   "source": [
    "## Data exploration"
   ],
   "cell_type": "markdown",
   "metadata": {}
  },
  {
   "cell_type": "code",
   "execution_count": 8,
   "metadata": {},
   "outputs": [
    {
     "output_type": "stream",
     "name": "stdout",
     "text": [
      "Distribution of scores: \n"
     ]
    },
    {
     "output_type": "execute_result",
     "data": {
      "text/plain": [
       "1     10122\n",
       "10     9731\n",
       "8      5859\n",
       "4      5331\n",
       "3      4961\n",
       "7      4803\n",
       "9      4607\n",
       "2      4586\n",
       "Name: score, dtype: int64"
      ]
     },
     "metadata": {},
     "execution_count": 8
    }
   ],
   "source": [
    "print(\"Distribution of scores: \")\n",
    "df['score'].value_counts()"
   ]
  },
  {
   "cell_type": "code",
   "execution_count": 21,
   "metadata": {},
   "outputs": [
    {
     "output_type": "stream",
     "name": "stdout",
     "text": [
      "Score labels: [1, 2, 3, 4, 7, 8, 9, 10]\n"
     ]
    }
   ],
   "source": [
    "score_labels = sorted(df['score'].unique())\n",
    "print(f\"Score labels: {score_labels}\")"
   ]
  },
  {
   "cell_type": "code",
   "execution_count": 31,
   "metadata": {},
   "outputs": [
    {
     "output_type": "stream",
     "name": "stdout",
     "text": [
      "Number of duplicated texts: 418\n"
     ]
    }
   ],
   "source": [
    "print(f\"Number of duplicated texts: {df['text'].duplicated().value_counts()[True]}\")"
   ]
  },
  {
   "cell_type": "code",
   "execution_count": null,
   "metadata": {},
   "outputs": [],
   "source": [
    "def compute_freqs(words, top, thresh):\n",
    "    '''\n",
    "    Return the `top` most frequent words of the dataset,\n",
    "    after filtering them to be after `thresh` frequency \n",
    "    '''\n",
    "    fdist = nltk.FreqDist(words)\n",
    "    common = {k: fdist.freq(k) for k, _ in sorted(fdist.items(), key=lambda i: i[1], reverse=True)}\n",
    "    words = list(common.keys())\n",
    "    freqs = list(common.values())\n",
    "    common_cumulative = {k: sum(freqs[:i]) for i, k in enumerate(words)}\n",
    "    return [k for k, v in common_cumulative.items() if v >= thresh][:top]\n",
    "\n",
    "def print_df_freqs(dataframe, top=10, thresh=0.7):\n",
    "    '''\n",
    "    Print the `top` most frequent words of the dataset,\n",
    "    for each class\n",
    "    '''\n",
    "    for c in score_labels:\n",
    "        words = []\n",
    "        text = df.query(f'score == {c}')['text'].to_numpy()\n",
    "        for t in text:\n",
    "            words.extend(word_tokenize(t.lower()))\n",
    "        print(f\"Number of different words in class {c}: {len(set(words))}\")\n",
    "        common = compute_freqs(words, top=top, thresh=thresh)\n",
    "        print(f\"{top} most frequent (after {thresh} frequency) words in class {c}:\")\n",
    "        print(common)\n",
    "        print()\n",
    "\n",
    "print_df_freqs(df)"
   ]
  },
  {
   "cell_type": "code",
   "execution_count": 39,
   "metadata": {},
   "outputs": [
    {
     "output_type": "stream",
     "name": "stdout",
     "text": [
      "Number of texts with dates:\n",
      "False    49997\n",
      "True         3\n",
      "Name: text, dtype: int64\n",
      "\n",
      "Number of texts with decimal numbers:\n",
      "False    49814\n",
      "True       186\n",
      "Name: text, dtype: int64\n",
      "\n",
      "Number of texts with integers:\n",
      "False    50000\n",
      "Name: text, dtype: int64\n",
      "\n",
      "Number of texts with elements in square brackets:\n",
      "False    49987\n",
      "True        13\n",
      "Name: text, dtype: int64\n",
      "\n",
      "Number of texts with HTML tags:\n",
      "False    49846\n",
      "True       154\n",
      "Name: text, dtype: int64\n",
      "\n"
     ]
    }
   ],
   "source": [
    "def re_match(regex, text):\n",
    "    '''\n",
    "    Return True if the given regex matches inside the given text,\n",
    "    otherwise return False\n",
    "    '''\n",
    "    return re.match(regex, text) != None\n",
    "\n",
    "# Find dates\n",
    "DATE_RE = r'\\d{1,2}[-\\/\\.]\\d{1,2}[-\\/\\.]\\d{2,4}'\n",
    "num_dates = df['text'].map(partial(re_match, DATE_RE)).value_counts()\n",
    "print(\"Number of texts with dates:\")\n",
    "print(num_dates)\n",
    "print()\n",
    "\n",
    "# Find floats\n",
    "FLOAT_RE = r'(\\d*\\,)?\\d+.\\d*'\n",
    "num_floats = df['text'].map(partial(re_match, FLOAT_RE)).value_counts()\n",
    "print(\"Number of texts with decimal numbers:\")\n",
    "print(num_floats)\n",
    "print()\n",
    "\n",
    "# Find ints\n",
    "INT_RE = r'(?<=\\s)\\d+(?=\\s)'\n",
    "num_ints = df['text'].map(partial(re_match, INT_RE)).value_counts()\n",
    "print(\"Number of texts with integers:\")\n",
    "print(num_ints)\n",
    "print()\n",
    "\n",
    "# Find brackets\n",
    "BRACKETS_RE = r'\\[[^]]*\\]'\n",
    "num_brackets = df['text'].map(partial(re_match, BRACKETS_RE)).value_counts()\n",
    "print(\"Number of texts with elements in square brackets:\")\n",
    "print(num_brackets)\n",
    "print()\n",
    "\n",
    "# Find HTML tags\n",
    "HTML_RE = r'<.*?>'\n",
    "num_html = df['text'].map(partial(re_match, HTML_RE)).value_counts()\n",
    "print(\"Number of texts with HTML tags:\")\n",
    "print(num_html)\n",
    "print()\n",
    "\n",
    "# Find punctuation\n",
    "PUNCTUATION_RE = r'[^\\w{w}\\s\\{<>}]+'"
   ]
  },
  {
   "source": [
    "## Train/test utils"
   ],
   "cell_type": "markdown",
   "metadata": {}
  },
  {
   "cell_type": "code",
   "execution_count": 13,
   "metadata": {},
   "outputs": [
    {
     "output_type": "stream",
     "name": "stdout",
     "text": [
      "Shape of the train data: (40000,)\nShape of the test data: (10000,)\n"
     ]
    }
   ],
   "source": [
    "x_train, x_test, y_train, y_test = train_test_split(df['text'], df['score'], shuffle=True, test_size=0.2, random_state=RANDOM_SEED)\n",
    "print(f\"Shape of the train data: {x_train.shape}\")\n",
    "print(f\"Shape of the test data: {x_test.shape}\")"
   ]
  },
  {
   "cell_type": "code",
   "execution_count": 25,
   "metadata": {},
   "outputs": [],
   "source": [
    "def predict(classifier, x_train, x_test):\n",
    "    return (\n",
    "        classifier.predict(x_train),\n",
    "        classifier.predict(x_test),\n",
    "        np.around(y_pred_test)\n",
    "    )"
   ]
  },
  {
   "cell_type": "code",
   "execution_count": 26,
   "metadata": {},
   "outputs": [],
   "source": [
    "def print_evaluation(y_test, y_pred_test, y_pred_test_class):\n",
    "    # Evaluation as a regression task\n",
    "    print(\"R2 score %f\" % (r2_score(y_test, y_pred_test)))\n",
    "    print(\"MAE %f\" % (mean_absolute_error(y_test, y_pred_test)))\n",
    "    print(\"MSE %f\" % (mean_squared_error(y_test, y_pred_test)))\n",
    "    print()\n",
    "\n",
    "    # Evaluation as a multi-class classification task\n",
    "    report = classification_report(y_test, y_pred_test_class, labels=score_labels)\n",
    "    print(report)\n",
    "\n",
    "    # Fancy confusion matrix\n",
    "    plot_confusion_matrix(classifier, x_test, y_test, normalize='true', cmap=plt.cm.Blues, values_format=\".2f\")"
   ]
  },
  {
   "source": [
    "## Preprocessing"
   ],
   "cell_type": "markdown",
   "metadata": {}
  },
  {
   "cell_type": "code",
   "execution_count": 35,
   "metadata": {},
   "outputs": [
    {
     "output_type": "stream",
     "name": "stdout",
     "text": [
      "Stopwords (179): {'but', 'herself', 'will', 'don', 'before', 'the', \"you've\", 'her', 'mightn', \"isn't\", 'down', 'nor', 'only', 'when', 'be', 'in', 'up', 'against', \"mightn't\", 'themselves', 'and', \"needn't\", 'ma', 'for', 'between', 'to', 'too', \"you'll\", \"won't\", 'some', 'it', 'with', \"hasn't\", 'below', 'are', 'is', 'myself', 'few', \"she's\", 't', 'hers', 'has', \"wasn't\", \"didn't\", 'over', 'shouldn', 'this', 'once', 'd', 've', 'being', 'did', 'him', 'if', 'hadn', 'have', 'why', 'after', 'same', 'out', 'those', 'each', \"wouldn't\", 'am', 'theirs', 'own', 'weren', 'himself', 'we', \"mustn't\", \"should've\", 'had', 'so', 'y', 'where', 'mustn', 'aren', 'yourselves', 'ourselves', 'wouldn', 'doesn', 'their', 'than', 'isn', 's', 'yours', 'been', 'other', 'our', 'ain', 'itself', 'can', 'ours', 'needn', 'until', 'such', 'again', \"shan't\", 'he', 'his', 'i', 'or', 'you', 'me', 're', 'haven', 'as', 'll', 'on', 'an', 'm', 'into', \"couldn't\", \"shouldn't\", 'which', 'no', 'couldn', 'whom', 'how', 'just', 'she', 'a', 'that', \"haven't\", 'yourself', \"don't\", 'having', 'shan', 'do', 'about', 'doing', 'they', 'should', 'by', 'at', 'off', 'wasn', \"that'll\", \"doesn't\", 'all', \"aren't\", 'very', \"it's\", \"hadn't\", 'your', 'above', 'not', 'then', 'there', 'of', 'both', 'my', 'because', 'under', 'most', 'during', 'does', \"you're\", \"weren't\", 'any', 'more', 'didn', 'its', 'were', 'what', 'o', 'now', 'these', 'won', 'them', 'through', \"you'd\", 'further', 'hasn', 'here', 'from', 'who', 'was', 'while'}\n"
     ]
    }
   ],
   "source": [
    "EN_STOPWORDS = set(stopwords.words('english'))\n",
    "print(f'Stopwords ({len(EN_STOPWORDS)}): {EN_STOPWORDS}')"
   ]
  },
  {
   "cell_type": "code",
   "execution_count": 41,
   "metadata": {},
   "outputs": [],
   "source": [
    "STEMMER = nltk.porter.PorterStemmer()\n",
    "LEMMATIZER = nltk.wordnet.WordNetLemmatizer()\n",
    "\n",
    "def stem_text(text):\n",
    "    return [STEMMER.stem(word) for word in text]\n",
    "\n",
    "def lemmatize_text(text):\n",
    "    return [LEMMATIZER.lemmatize(word) for word in text]\n",
    "\n",
    "def preprocess_text(text):\n",
    "    # Strip trailing spaces and remove newlines\n",
    "    text = text.strip().replace('\\n', ' ').replace('\\r', ' ')\n",
    "    # Convert to lowercase\n",
    "    text = text.lower()\n",
    "    # Remove HTML tags\n",
    "    text = re.sub(HTML_RE, '', text)\n",
    "    # Remove text in square brackets\n",
    "    text = re.sub(BRACKETS_RE, '', text)\n",
    "    # Remove dates\n",
    "    text = re.sub(DATE_RE, '', text)\n",
    "    # Remove floating numbers\n",
    "    text = re.sub(FLOAT_RE, '', text)\n",
    "    # Mark negation\n",
    "    # text = ' '.join(mark_negation(text.split(), double_neg_flip=False))\n",
    "    # EN_STOPWORDS.add(\"_NEG\")\n",
    "    # Remove punctuation\n",
    "    # text = re.sub(PUNCTUATION_RE, '', text)\n",
    "    # Leave single whitespace\n",
    "    # text = text.split()\n",
    "    # Remove words with less than `n` chars\n",
    "    # text = [word for word in text if len(word) >= 2]\n",
    "    # Remove stopwords\n",
    "    # text = [word for word in text if word not in EN_STOPWORDS]\n",
    "    # Perform stemming/lemmatization\n",
    "    # text = stem_text(text)\n",
    "    # Return the text as a string\n",
    "    # return ' '.join(text)\n",
    "    return text"
   ]
  },
  {
   "cell_type": "code",
   "execution_count": 42,
   "metadata": {},
   "outputs": [
    {
     "output_type": "stream",
     "name": "stdout",
     "text": [
      "Random text with score 9\n\nBefore pre-processing:\n\"Dô desu ka den\" is the first colored movie of Master Akira Kurosawa, and surprisingly is not about samurais, ronins, warlords or battlefields. It is inside a very poor community in a slum in Tokyo, where the dwellers are homeless drunkards, beggars, tramps, abused women, losers. I do not know the reason why Kurosawa selected this tragic theme and environment to put colors, but indeed they are very sad stories, some of them heart-breaking. I personally like the touching story of the boy and his father that dream with a house of their own and built by them; the story of the retarded boy that believes he pilots a train; the story of the man that raises five children as if they were their own sons and daughters; and the story of the young woman abused by her stepfather. My vote is nine.<br /><br />Title (Brazil): \"Dodeskaden  O Caminho da Vida\" (\"Dodeskaden  The Way of the Life\")\n\nAfter pre-processing:\n\"dô desu ka den\" is the first colored movie of master akira kurosawa, and surprisingly is not about samurais, ronins, warlords or battlefields. it is inside a very poor community in a slum in tokyo, where the dwellers are homeless drunkards, beggars, tramps, abused women, losers. i do not know the reason why kurosawa selected this tragic theme and environment to put colors, but indeed they are very sad stories, some of them heart-breaking. i personally like the touching story of the boy and his father that dream with a house of their own and built by them; the story of the retarded boy that believes he pilots a train; the story of the man that raises five children as if they were their own sons and daughters; and the story of the young woman abused by her stepfather. my vote is nine.title (brazil): \"dodeskaden  o caminho da vida\" (\"dodeskaden  the way of the life\")\n"
     ]
    }
   ],
   "source": [
    "rnd_text = np.random.choice(df.index, 1)[0]\n",
    "print(f\"Random text with score {df['score'].iloc[rnd_text]}\")\n",
    "print()\n",
    "print(f\"Before pre-processing:\")\n",
    "print(df['text'].iloc[rnd_text])\n",
    "print()\n",
    "print(\"After pre-processing:\")\n",
    "print(preprocess_text(df['text'].iloc[rnd_text]))"
   ]
  },
  {
   "source": [
    "## Baseline"
   ],
   "cell_type": "markdown",
   "metadata": {}
  },
  {
   "cell_type": "code",
   "execution_count": 48,
   "metadata": {},
   "outputs": [],
   "source": [
    "text_clf = Pipeline([\n",
    "    ('tfidf', TfidfVectorizer()),\n",
    "    ('clf', LogisticRegression(random_state=RANDOM_SEED, max_iter=1000)),\n",
    "])\n",
    "text_clf = text_clf.fit(x_train, y_train)"
   ]
  },
  {
   "cell_type": "code",
   "execution_count": 49,
   "metadata": {},
   "outputs": [
    {
     "output_type": "stream",
     "name": "stdout",
     "text": [
      "R2 score 0.049922\nMAE 2.183000\nMSE 11.397800\n\n              precision    recall  f1-score   support\n\n           1       0.33      0.97      0.49      1939\n           2       0.00      0.00      0.00       934\n           3       0.00      0.00      0.00      1027\n           4       0.50      0.00      0.00      1045\n           7       0.00      0.00      0.00       971\n           8       1.00      0.00      0.00      1185\n           9       0.00      0.00      0.00       974\n          10       0.37      0.81      0.50      1925\n\n    accuracy                           0.34     10000\n   macro avg       0.27      0.22      0.12     10000\nweighted avg       0.30      0.34      0.19     10000\n\n"
     ]
    },
    {
     "output_type": "display_data",
     "data": {
      "text/plain": "<Figure size 432x288 with 2 Axes>",
      "image/svg+xml": "<?xml version=\"1.0\" encoding=\"utf-8\" standalone=\"no\"?>\n<!DOCTYPE svg PUBLIC \"-//W3C//DTD SVG 1.1//EN\"\n  \"http://www.w3.org/Graphics/SVG/1.1/DTD/svg11.dtd\">\n<!-- Created with matplotlib (https://matplotlib.org/) -->\n<svg height=\"262.19625pt\" version=\"1.1\" viewBox=\"0 0 315.75825 262.19625\" width=\"315.75825pt\" xmlns=\"http://www.w3.org/2000/svg\" xmlns:xlink=\"http://www.w3.org/1999/xlink\">\n <metadata>\n  <rdf:RDF xmlns:cc=\"http://creativecommons.org/ns#\" xmlns:dc=\"http://purl.org/dc/elements/1.1/\" xmlns:rdf=\"http://www.w3.org/1999/02/22-rdf-syntax-ns#\">\n   <cc:Work>\n    <dc:type rdf:resource=\"http://purl.org/dc/dcmitype/StillImage\"/>\n    <dc:date>2020-10-20T11:56:53.917960</dc:date>\n    <dc:format>image/svg+xml</dc:format>\n    <dc:creator>\n     <cc:Agent>\n      <dc:title>Matplotlib v3.3.2, https://matplotlib.org/</dc:title>\n     </cc:Agent>\n    </dc:creator>\n   </cc:Work>\n  </rdf:RDF>\n </metadata>\n <defs>\n  <style type=\"text/css\">*{stroke-linecap:butt;stroke-linejoin:round;}</style>\n </defs>\n <g id=\"figure_1\">\n  <g id=\"patch_1\">\n   <path d=\"M 0 262.19625 \nL 315.75825 262.19625 \nL 315.75825 0 \nL 0 0 \nz\n\" style=\"fill:none;\"/>\n  </g>\n  <g id=\"axes_1\">\n   <g id=\"patch_2\">\n    <path d=\"M 40.603125 224.64 \nL 258.043125 224.64 \nL 258.043125 7.2 \nL 40.603125 7.2 \nz\n\" style=\"fill:#ffffff;\"/>\n   </g>\n   <g clip-path=\"url(#pd0220a6906)\">\n    <image height=\"218\" id=\"imagef9d95aa775\" transform=\"scale(1 -1)translate(0 -218)\" width=\"218\" x=\"40.603125\" xlink:href=\"data:image/png;base64,\niVBORw0KGgoAAAANSUhEUgAAANoAAADaCAYAAADAHVzbAAAC6ElEQVR4nO3VTS6DYRSG4ZaPVoRRJ2zAkoy7LXOJ5ZhYgGg6lYifoFFLMLvfgevawHMmd878/vFlP4tcXZ5VU/Cni/VttnWQLcE/JjQICA0CQoOA0CAgNAgIDQJCg4DQICA0CAgNAkKDgNAgIDQICA0CQoOA0CAgNAgIDQJCg4DQICA0CAgNAkKDgNAgIDQITJ+7n9E3wBCL5SLb8tEgIDQICA0CQoOA0CAgNAgIDQJCg4DQICA0CAgNAkKDgNAgIDQICA0CQoOA0CAgNAgIDQJCg4DQICA0CAgNAkKDgNAgIDQICA0C0/v3bvQNMMTydJlt+WgQEBoEhAYBoUFAaBAQGgSEBgGhQUBoEBAaBIQGAaFBQGgQEBoEhAYBoUFAaBAQGgSEBgGhQUBoEBAaBIQGAaFBQGgQEBoEpu3bx+gbYIjV6jTb8tEgIDQICA0CQoOA0CAgNAgIDQJCg4DQICA0CAgNAkKDgNAgIDQICA0CQoOA0CAgNAgIDQJCg4DQICA0CAgNAkKDgNAgIDQIzFfru3019nRzXU3Bnx42L9mWjwYBoUFAaBAQGgSEBgGhQUBoEBAaBIQGAaFBQGgQEBoEhAYBoUFAaBAQGgSEBgGhQUBoEBAaBIQGAaFBQGgQEBoEhAYBoUFget08jb4BhlidHWdbPhoEhAYBoUFAaBAQGgSEBgGhQUBoEBAaBIQGAaFBQGgQEBoEhAYBoUFAaBAQGgSEBgGhQUBoEBAaBIQGAaFBQGgQEBoEhAYBoUFgmj1vR98AQ5yfHGVbPhoEhAYBoUFAaBAQGgSEBgGhQUBoEBAaBIQGAaFBQGgQEBoEhAYBoUFAaBAQGgSEBgGhQUBoEBAaBIQGAaFBQGgQEBoEhAaBabb7Gn0DDHF4MM+2fDQICA0CQoOA0CAgNAgIDQJCg4DQICA0CAgNAkKDgNAgIDQICA0CQoOA0CAgNAgIDQJCg4DQICA0CAgNAkKDgNAgIDQICA0CvwPkHU4UGfa9AAAAAElFTkSuQmCC\" y=\"-6.64\"/>\n   </g>\n   <g id=\"matplotlib.axis_1\">\n    <g id=\"xtick_1\">\n     <g id=\"line2d_1\">\n      <defs>\n       <path d=\"M 0 0 \nL 0 3.5 \n\" id=\"mdc4b13a675\" style=\"stroke:#000000;stroke-width:0.8;\"/>\n      </defs>\n      <g>\n       <use style=\"stroke:#000000;stroke-width:0.8;\" x=\"54.193125\" xlink:href=\"#mdc4b13a675\" y=\"224.64\"/>\n      </g>\n     </g>\n     <g id=\"text_1\">\n      <!-- 1 -->\n      <g transform=\"translate(51.011875 239.238437)scale(0.1 -0.1)\">\n       <defs>\n        <path d=\"M 12.40625 8.296875 \nL 28.515625 8.296875 \nL 28.515625 63.921875 \nL 10.984375 60.40625 \nL 10.984375 69.390625 \nL 28.421875 72.90625 \nL 38.28125 72.90625 \nL 38.28125 8.296875 \nL 54.390625 8.296875 \nL 54.390625 0 \nL 12.40625 0 \nz\n\" id=\"DejaVuSans-49\"/>\n       </defs>\n       <use xlink:href=\"#DejaVuSans-49\"/>\n      </g>\n     </g>\n    </g>\n    <g id=\"xtick_2\">\n     <g id=\"line2d_2\">\n      <g>\n       <use style=\"stroke:#000000;stroke-width:0.8;\" x=\"81.373125\" xlink:href=\"#mdc4b13a675\" y=\"224.64\"/>\n      </g>\n     </g>\n     <g id=\"text_2\">\n      <!-- 2 -->\n      <g transform=\"translate(78.191875 239.238437)scale(0.1 -0.1)\">\n       <defs>\n        <path d=\"M 19.1875 8.296875 \nL 53.609375 8.296875 \nL 53.609375 0 \nL 7.328125 0 \nL 7.328125 8.296875 \nQ 12.9375 14.109375 22.625 23.890625 \nQ 32.328125 33.6875 34.8125 36.53125 \nQ 39.546875 41.84375 41.421875 45.53125 \nQ 43.3125 49.21875 43.3125 52.78125 \nQ 43.3125 58.59375 39.234375 62.25 \nQ 35.15625 65.921875 28.609375 65.921875 \nQ 23.96875 65.921875 18.8125 64.3125 \nQ 13.671875 62.703125 7.8125 59.421875 \nL 7.8125 69.390625 \nQ 13.765625 71.78125 18.9375 73 \nQ 24.125 74.21875 28.421875 74.21875 \nQ 39.75 74.21875 46.484375 68.546875 \nQ 53.21875 62.890625 53.21875 53.421875 \nQ 53.21875 48.921875 51.53125 44.890625 \nQ 49.859375 40.875 45.40625 35.40625 \nQ 44.1875 33.984375 37.640625 27.21875 \nQ 31.109375 20.453125 19.1875 8.296875 \nz\n\" id=\"DejaVuSans-50\"/>\n       </defs>\n       <use xlink:href=\"#DejaVuSans-50\"/>\n      </g>\n     </g>\n    </g>\n    <g id=\"xtick_3\">\n     <g id=\"line2d_3\">\n      <g>\n       <use style=\"stroke:#000000;stroke-width:0.8;\" x=\"108.553125\" xlink:href=\"#mdc4b13a675\" y=\"224.64\"/>\n      </g>\n     </g>\n     <g id=\"text_3\">\n      <!-- 3 -->\n      <g transform=\"translate(105.371875 239.238437)scale(0.1 -0.1)\">\n       <defs>\n        <path d=\"M 40.578125 39.3125 \nQ 47.65625 37.796875 51.625 33 \nQ 55.609375 28.21875 55.609375 21.1875 \nQ 55.609375 10.40625 48.1875 4.484375 \nQ 40.765625 -1.421875 27.09375 -1.421875 \nQ 22.515625 -1.421875 17.65625 -0.515625 \nQ 12.796875 0.390625 7.625 2.203125 \nL 7.625 11.71875 \nQ 11.71875 9.328125 16.59375 8.109375 \nQ 21.484375 6.890625 26.8125 6.890625 \nQ 36.078125 6.890625 40.9375 10.546875 \nQ 45.796875 14.203125 45.796875 21.1875 \nQ 45.796875 27.640625 41.28125 31.265625 \nQ 36.765625 34.90625 28.71875 34.90625 \nL 20.21875 34.90625 \nL 20.21875 43.015625 \nL 29.109375 43.015625 \nQ 36.375 43.015625 40.234375 45.921875 \nQ 44.09375 48.828125 44.09375 54.296875 \nQ 44.09375 59.90625 40.109375 62.90625 \nQ 36.140625 65.921875 28.71875 65.921875 \nQ 24.65625 65.921875 20.015625 65.03125 \nQ 15.375 64.15625 9.8125 62.3125 \nL 9.8125 71.09375 \nQ 15.4375 72.65625 20.34375 73.4375 \nQ 25.25 74.21875 29.59375 74.21875 \nQ 40.828125 74.21875 47.359375 69.109375 \nQ 53.90625 64.015625 53.90625 55.328125 \nQ 53.90625 49.265625 50.4375 45.09375 \nQ 46.96875 40.921875 40.578125 39.3125 \nz\n\" id=\"DejaVuSans-51\"/>\n       </defs>\n       <use xlink:href=\"#DejaVuSans-51\"/>\n      </g>\n     </g>\n    </g>\n    <g id=\"xtick_4\">\n     <g id=\"line2d_4\">\n      <g>\n       <use style=\"stroke:#000000;stroke-width:0.8;\" x=\"135.733125\" xlink:href=\"#mdc4b13a675\" y=\"224.64\"/>\n      </g>\n     </g>\n     <g id=\"text_4\">\n      <!-- 4 -->\n      <g transform=\"translate(132.551875 239.238437)scale(0.1 -0.1)\">\n       <defs>\n        <path d=\"M 37.796875 64.3125 \nL 12.890625 25.390625 \nL 37.796875 25.390625 \nz\nM 35.203125 72.90625 \nL 47.609375 72.90625 \nL 47.609375 25.390625 \nL 58.015625 25.390625 \nL 58.015625 17.1875 \nL 47.609375 17.1875 \nL 47.609375 0 \nL 37.796875 0 \nL 37.796875 17.1875 \nL 4.890625 17.1875 \nL 4.890625 26.703125 \nz\n\" id=\"DejaVuSans-52\"/>\n       </defs>\n       <use xlink:href=\"#DejaVuSans-52\"/>\n      </g>\n     </g>\n    </g>\n    <g id=\"xtick_5\">\n     <g id=\"line2d_5\">\n      <g>\n       <use style=\"stroke:#000000;stroke-width:0.8;\" x=\"162.913125\" xlink:href=\"#mdc4b13a675\" y=\"224.64\"/>\n      </g>\n     </g>\n     <g id=\"text_5\">\n      <!-- 7 -->\n      <g transform=\"translate(159.731875 239.238437)scale(0.1 -0.1)\">\n       <defs>\n        <path d=\"M 8.203125 72.90625 \nL 55.078125 72.90625 \nL 55.078125 68.703125 \nL 28.609375 0 \nL 18.3125 0 \nL 43.21875 64.59375 \nL 8.203125 64.59375 \nz\n\" id=\"DejaVuSans-55\"/>\n       </defs>\n       <use xlink:href=\"#DejaVuSans-55\"/>\n      </g>\n     </g>\n    </g>\n    <g id=\"xtick_6\">\n     <g id=\"line2d_6\">\n      <g>\n       <use style=\"stroke:#000000;stroke-width:0.8;\" x=\"190.093125\" xlink:href=\"#mdc4b13a675\" y=\"224.64\"/>\n      </g>\n     </g>\n     <g id=\"text_6\">\n      <!-- 8 -->\n      <g transform=\"translate(186.911875 239.238437)scale(0.1 -0.1)\">\n       <defs>\n        <path d=\"M 31.78125 34.625 \nQ 24.75 34.625 20.71875 30.859375 \nQ 16.703125 27.09375 16.703125 20.515625 \nQ 16.703125 13.921875 20.71875 10.15625 \nQ 24.75 6.390625 31.78125 6.390625 \nQ 38.8125 6.390625 42.859375 10.171875 \nQ 46.921875 13.96875 46.921875 20.515625 \nQ 46.921875 27.09375 42.890625 30.859375 \nQ 38.875 34.625 31.78125 34.625 \nz\nM 21.921875 38.8125 \nQ 15.578125 40.375 12.03125 44.71875 \nQ 8.5 49.078125 8.5 55.328125 \nQ 8.5 64.0625 14.71875 69.140625 \nQ 20.953125 74.21875 31.78125 74.21875 \nQ 42.671875 74.21875 48.875 69.140625 \nQ 55.078125 64.0625 55.078125 55.328125 \nQ 55.078125 49.078125 51.53125 44.71875 \nQ 48 40.375 41.703125 38.8125 \nQ 48.828125 37.15625 52.796875 32.3125 \nQ 56.78125 27.484375 56.78125 20.515625 \nQ 56.78125 9.90625 50.3125 4.234375 \nQ 43.84375 -1.421875 31.78125 -1.421875 \nQ 19.734375 -1.421875 13.25 4.234375 \nQ 6.78125 9.90625 6.78125 20.515625 \nQ 6.78125 27.484375 10.78125 32.3125 \nQ 14.796875 37.15625 21.921875 38.8125 \nz\nM 18.3125 54.390625 \nQ 18.3125 48.734375 21.84375 45.5625 \nQ 25.390625 42.390625 31.78125 42.390625 \nQ 38.140625 42.390625 41.71875 45.5625 \nQ 45.3125 48.734375 45.3125 54.390625 \nQ 45.3125 60.0625 41.71875 63.234375 \nQ 38.140625 66.40625 31.78125 66.40625 \nQ 25.390625 66.40625 21.84375 63.234375 \nQ 18.3125 60.0625 18.3125 54.390625 \nz\n\" id=\"DejaVuSans-56\"/>\n       </defs>\n       <use xlink:href=\"#DejaVuSans-56\"/>\n      </g>\n     </g>\n    </g>\n    <g id=\"xtick_7\">\n     <g id=\"line2d_7\">\n      <g>\n       <use style=\"stroke:#000000;stroke-width:0.8;\" x=\"217.273125\" xlink:href=\"#mdc4b13a675\" y=\"224.64\"/>\n      </g>\n     </g>\n     <g id=\"text_7\">\n      <!-- 9 -->\n      <g transform=\"translate(214.091875 239.238437)scale(0.1 -0.1)\">\n       <defs>\n        <path d=\"M 10.984375 1.515625 \nL 10.984375 10.5 \nQ 14.703125 8.734375 18.5 7.8125 \nQ 22.3125 6.890625 25.984375 6.890625 \nQ 35.75 6.890625 40.890625 13.453125 \nQ 46.046875 20.015625 46.78125 33.40625 \nQ 43.953125 29.203125 39.59375 26.953125 \nQ 35.25 24.703125 29.984375 24.703125 \nQ 19.046875 24.703125 12.671875 31.3125 \nQ 6.296875 37.9375 6.296875 49.421875 \nQ 6.296875 60.640625 12.9375 67.421875 \nQ 19.578125 74.21875 30.609375 74.21875 \nQ 43.265625 74.21875 49.921875 64.515625 \nQ 56.59375 54.828125 56.59375 36.375 \nQ 56.59375 19.140625 48.40625 8.859375 \nQ 40.234375 -1.421875 26.421875 -1.421875 \nQ 22.703125 -1.421875 18.890625 -0.6875 \nQ 15.09375 0.046875 10.984375 1.515625 \nz\nM 30.609375 32.421875 \nQ 37.25 32.421875 41.125 36.953125 \nQ 45.015625 41.5 45.015625 49.421875 \nQ 45.015625 57.28125 41.125 61.84375 \nQ 37.25 66.40625 30.609375 66.40625 \nQ 23.96875 66.40625 20.09375 61.84375 \nQ 16.21875 57.28125 16.21875 49.421875 \nQ 16.21875 41.5 20.09375 36.953125 \nQ 23.96875 32.421875 30.609375 32.421875 \nz\n\" id=\"DejaVuSans-57\"/>\n       </defs>\n       <use xlink:href=\"#DejaVuSans-57\"/>\n      </g>\n     </g>\n    </g>\n    <g id=\"xtick_8\">\n     <g id=\"line2d_8\">\n      <g>\n       <use style=\"stroke:#000000;stroke-width:0.8;\" x=\"244.453125\" xlink:href=\"#mdc4b13a675\" y=\"224.64\"/>\n      </g>\n     </g>\n     <g id=\"text_8\">\n      <!-- 10 -->\n      <g transform=\"translate(238.090625 239.238437)scale(0.1 -0.1)\">\n       <defs>\n        <path d=\"M 31.78125 66.40625 \nQ 24.171875 66.40625 20.328125 58.90625 \nQ 16.5 51.421875 16.5 36.375 \nQ 16.5 21.390625 20.328125 13.890625 \nQ 24.171875 6.390625 31.78125 6.390625 \nQ 39.453125 6.390625 43.28125 13.890625 \nQ 47.125 21.390625 47.125 36.375 \nQ 47.125 51.421875 43.28125 58.90625 \nQ 39.453125 66.40625 31.78125 66.40625 \nz\nM 31.78125 74.21875 \nQ 44.046875 74.21875 50.515625 64.515625 \nQ 56.984375 54.828125 56.984375 36.375 \nQ 56.984375 17.96875 50.515625 8.265625 \nQ 44.046875 -1.421875 31.78125 -1.421875 \nQ 19.53125 -1.421875 13.0625 8.265625 \nQ 6.59375 17.96875 6.59375 36.375 \nQ 6.59375 54.828125 13.0625 64.515625 \nQ 19.53125 74.21875 31.78125 74.21875 \nz\n\" id=\"DejaVuSans-48\"/>\n       </defs>\n       <use xlink:href=\"#DejaVuSans-49\"/>\n       <use x=\"63.623047\" xlink:href=\"#DejaVuSans-48\"/>\n      </g>\n     </g>\n    </g>\n    <g id=\"text_9\">\n     <!-- Predicted label -->\n     <g transform=\"translate(112.170781 252.916562)scale(0.1 -0.1)\">\n      <defs>\n       <path d=\"M 19.671875 64.796875 \nL 19.671875 37.40625 \nL 32.078125 37.40625 \nQ 38.96875 37.40625 42.71875 40.96875 \nQ 46.484375 44.53125 46.484375 51.125 \nQ 46.484375 57.671875 42.71875 61.234375 \nQ 38.96875 64.796875 32.078125 64.796875 \nz\nM 9.8125 72.90625 \nL 32.078125 72.90625 \nQ 44.34375 72.90625 50.609375 67.359375 \nQ 56.890625 61.8125 56.890625 51.125 \nQ 56.890625 40.328125 50.609375 34.8125 \nQ 44.34375 29.296875 32.078125 29.296875 \nL 19.671875 29.296875 \nL 19.671875 0 \nL 9.8125 0 \nz\n\" id=\"DejaVuSans-80\"/>\n       <path d=\"M 41.109375 46.296875 \nQ 39.59375 47.171875 37.8125 47.578125 \nQ 36.03125 48 33.890625 48 \nQ 26.265625 48 22.1875 43.046875 \nQ 18.109375 38.09375 18.109375 28.8125 \nL 18.109375 0 \nL 9.078125 0 \nL 9.078125 54.6875 \nL 18.109375 54.6875 \nL 18.109375 46.1875 \nQ 20.953125 51.171875 25.484375 53.578125 \nQ 30.03125 56 36.53125 56 \nQ 37.453125 56 38.578125 55.875 \nQ 39.703125 55.765625 41.0625 55.515625 \nz\n\" id=\"DejaVuSans-114\"/>\n       <path d=\"M 56.203125 29.59375 \nL 56.203125 25.203125 \nL 14.890625 25.203125 \nQ 15.484375 15.921875 20.484375 11.0625 \nQ 25.484375 6.203125 34.421875 6.203125 \nQ 39.59375 6.203125 44.453125 7.46875 \nQ 49.3125 8.734375 54.109375 11.28125 \nL 54.109375 2.78125 \nQ 49.265625 0.734375 44.1875 -0.34375 \nQ 39.109375 -1.421875 33.890625 -1.421875 \nQ 20.796875 -1.421875 13.15625 6.1875 \nQ 5.515625 13.8125 5.515625 26.8125 \nQ 5.515625 40.234375 12.765625 48.109375 \nQ 20.015625 56 32.328125 56 \nQ 43.359375 56 49.78125 48.890625 \nQ 56.203125 41.796875 56.203125 29.59375 \nz\nM 47.21875 32.234375 \nQ 47.125 39.59375 43.09375 43.984375 \nQ 39.0625 48.390625 32.421875 48.390625 \nQ 24.90625 48.390625 20.390625 44.140625 \nQ 15.875 39.890625 15.1875 32.171875 \nz\n\" id=\"DejaVuSans-101\"/>\n       <path d=\"M 45.40625 46.390625 \nL 45.40625 75.984375 \nL 54.390625 75.984375 \nL 54.390625 0 \nL 45.40625 0 \nL 45.40625 8.203125 \nQ 42.578125 3.328125 38.25 0.953125 \nQ 33.9375 -1.421875 27.875 -1.421875 \nQ 17.96875 -1.421875 11.734375 6.484375 \nQ 5.515625 14.40625 5.515625 27.296875 \nQ 5.515625 40.1875 11.734375 48.09375 \nQ 17.96875 56 27.875 56 \nQ 33.9375 56 38.25 53.625 \nQ 42.578125 51.265625 45.40625 46.390625 \nz\nM 14.796875 27.296875 \nQ 14.796875 17.390625 18.875 11.75 \nQ 22.953125 6.109375 30.078125 6.109375 \nQ 37.203125 6.109375 41.296875 11.75 \nQ 45.40625 17.390625 45.40625 27.296875 \nQ 45.40625 37.203125 41.296875 42.84375 \nQ 37.203125 48.484375 30.078125 48.484375 \nQ 22.953125 48.484375 18.875 42.84375 \nQ 14.796875 37.203125 14.796875 27.296875 \nz\n\" id=\"DejaVuSans-100\"/>\n       <path d=\"M 9.421875 54.6875 \nL 18.40625 54.6875 \nL 18.40625 0 \nL 9.421875 0 \nz\nM 9.421875 75.984375 \nL 18.40625 75.984375 \nL 18.40625 64.59375 \nL 9.421875 64.59375 \nz\n\" id=\"DejaVuSans-105\"/>\n       <path d=\"M 48.78125 52.59375 \nL 48.78125 44.1875 \nQ 44.96875 46.296875 41.140625 47.34375 \nQ 37.3125 48.390625 33.40625 48.390625 \nQ 24.65625 48.390625 19.8125 42.84375 \nQ 14.984375 37.3125 14.984375 27.296875 \nQ 14.984375 17.28125 19.8125 11.734375 \nQ 24.65625 6.203125 33.40625 6.203125 \nQ 37.3125 6.203125 41.140625 7.25 \nQ 44.96875 8.296875 48.78125 10.40625 \nL 48.78125 2.09375 \nQ 45.015625 0.34375 40.984375 -0.53125 \nQ 36.96875 -1.421875 32.421875 -1.421875 \nQ 20.0625 -1.421875 12.78125 6.34375 \nQ 5.515625 14.109375 5.515625 27.296875 \nQ 5.515625 40.671875 12.859375 48.328125 \nQ 20.21875 56 33.015625 56 \nQ 37.15625 56 41.109375 55.140625 \nQ 45.0625 54.296875 48.78125 52.59375 \nz\n\" id=\"DejaVuSans-99\"/>\n       <path d=\"M 18.3125 70.21875 \nL 18.3125 54.6875 \nL 36.8125 54.6875 \nL 36.8125 47.703125 \nL 18.3125 47.703125 \nL 18.3125 18.015625 \nQ 18.3125 11.328125 20.140625 9.421875 \nQ 21.96875 7.515625 27.59375 7.515625 \nL 36.8125 7.515625 \nL 36.8125 0 \nL 27.59375 0 \nQ 17.1875 0 13.234375 3.875 \nQ 9.28125 7.765625 9.28125 18.015625 \nL 9.28125 47.703125 \nL 2.6875 47.703125 \nL 2.6875 54.6875 \nL 9.28125 54.6875 \nL 9.28125 70.21875 \nz\n\" id=\"DejaVuSans-116\"/>\n       <path id=\"DejaVuSans-32\"/>\n       <path d=\"M 9.421875 75.984375 \nL 18.40625 75.984375 \nL 18.40625 0 \nL 9.421875 0 \nz\n\" id=\"DejaVuSans-108\"/>\n       <path d=\"M 34.28125 27.484375 \nQ 23.390625 27.484375 19.1875 25 \nQ 14.984375 22.515625 14.984375 16.5 \nQ 14.984375 11.71875 18.140625 8.90625 \nQ 21.296875 6.109375 26.703125 6.109375 \nQ 34.1875 6.109375 38.703125 11.40625 \nQ 43.21875 16.703125 43.21875 25.484375 \nL 43.21875 27.484375 \nz\nM 52.203125 31.203125 \nL 52.203125 0 \nL 43.21875 0 \nL 43.21875 8.296875 \nQ 40.140625 3.328125 35.546875 0.953125 \nQ 30.953125 -1.421875 24.3125 -1.421875 \nQ 15.921875 -1.421875 10.953125 3.296875 \nQ 6 8.015625 6 15.921875 \nQ 6 25.140625 12.171875 29.828125 \nQ 18.359375 34.515625 30.609375 34.515625 \nL 43.21875 34.515625 \nL 43.21875 35.40625 \nQ 43.21875 41.609375 39.140625 45 \nQ 35.0625 48.390625 27.6875 48.390625 \nQ 23 48.390625 18.546875 47.265625 \nQ 14.109375 46.140625 10.015625 43.890625 \nL 10.015625 52.203125 \nQ 14.9375 54.109375 19.578125 55.046875 \nQ 24.21875 56 28.609375 56 \nQ 40.484375 56 46.34375 49.84375 \nQ 52.203125 43.703125 52.203125 31.203125 \nz\n\" id=\"DejaVuSans-97\"/>\n       <path d=\"M 48.6875 27.296875 \nQ 48.6875 37.203125 44.609375 42.84375 \nQ 40.53125 48.484375 33.40625 48.484375 \nQ 26.265625 48.484375 22.1875 42.84375 \nQ 18.109375 37.203125 18.109375 27.296875 \nQ 18.109375 17.390625 22.1875 11.75 \nQ 26.265625 6.109375 33.40625 6.109375 \nQ 40.53125 6.109375 44.609375 11.75 \nQ 48.6875 17.390625 48.6875 27.296875 \nz\nM 18.109375 46.390625 \nQ 20.953125 51.265625 25.265625 53.625 \nQ 29.59375 56 35.59375 56 \nQ 45.5625 56 51.78125 48.09375 \nQ 58.015625 40.1875 58.015625 27.296875 \nQ 58.015625 14.40625 51.78125 6.484375 \nQ 45.5625 -1.421875 35.59375 -1.421875 \nQ 29.59375 -1.421875 25.265625 0.953125 \nQ 20.953125 3.328125 18.109375 8.203125 \nL 18.109375 0 \nL 9.078125 0 \nL 9.078125 75.984375 \nL 18.109375 75.984375 \nz\n\" id=\"DejaVuSans-98\"/>\n      </defs>\n      <use xlink:href=\"#DejaVuSans-80\"/>\n      <use x=\"58.552734\" xlink:href=\"#DejaVuSans-114\"/>\n      <use x=\"97.416016\" xlink:href=\"#DejaVuSans-101\"/>\n      <use x=\"158.939453\" xlink:href=\"#DejaVuSans-100\"/>\n      <use x=\"222.416016\" xlink:href=\"#DejaVuSans-105\"/>\n      <use x=\"250.199219\" xlink:href=\"#DejaVuSans-99\"/>\n      <use x=\"305.179688\" xlink:href=\"#DejaVuSans-116\"/>\n      <use x=\"344.388672\" xlink:href=\"#DejaVuSans-101\"/>\n      <use x=\"405.912109\" xlink:href=\"#DejaVuSans-100\"/>\n      <use x=\"469.388672\" xlink:href=\"#DejaVuSans-32\"/>\n      <use x=\"501.175781\" xlink:href=\"#DejaVuSans-108\"/>\n      <use x=\"528.958984\" xlink:href=\"#DejaVuSans-97\"/>\n      <use x=\"590.238281\" xlink:href=\"#DejaVuSans-98\"/>\n      <use x=\"653.714844\" xlink:href=\"#DejaVuSans-101\"/>\n      <use x=\"715.238281\" xlink:href=\"#DejaVuSans-108\"/>\n     </g>\n    </g>\n   </g>\n   <g id=\"matplotlib.axis_2\">\n    <g id=\"ytick_1\">\n     <g id=\"line2d_9\">\n      <defs>\n       <path d=\"M 0 0 \nL -3.5 0 \n\" id=\"ma8367fc22f\" style=\"stroke:#000000;stroke-width:0.8;\"/>\n      </defs>\n      <g>\n       <use style=\"stroke:#000000;stroke-width:0.8;\" x=\"40.603125\" xlink:href=\"#ma8367fc22f\" y=\"20.79\"/>\n      </g>\n     </g>\n     <g id=\"text_10\">\n      <!-- 1 -->\n      <g transform=\"translate(27.240625 24.589219)scale(0.1 -0.1)\">\n       <use xlink:href=\"#DejaVuSans-49\"/>\n      </g>\n     </g>\n    </g>\n    <g id=\"ytick_2\">\n     <g id=\"line2d_10\">\n      <g>\n       <use style=\"stroke:#000000;stroke-width:0.8;\" x=\"40.603125\" xlink:href=\"#ma8367fc22f\" y=\"47.97\"/>\n      </g>\n     </g>\n     <g id=\"text_11\">\n      <!-- 2 -->\n      <g transform=\"translate(27.240625 51.769219)scale(0.1 -0.1)\">\n       <use xlink:href=\"#DejaVuSans-50\"/>\n      </g>\n     </g>\n    </g>\n    <g id=\"ytick_3\">\n     <g id=\"line2d_11\">\n      <g>\n       <use style=\"stroke:#000000;stroke-width:0.8;\" x=\"40.603125\" xlink:href=\"#ma8367fc22f\" y=\"75.15\"/>\n      </g>\n     </g>\n     <g id=\"text_12\">\n      <!-- 3 -->\n      <g transform=\"translate(27.240625 78.949219)scale(0.1 -0.1)\">\n       <use xlink:href=\"#DejaVuSans-51\"/>\n      </g>\n     </g>\n    </g>\n    <g id=\"ytick_4\">\n     <g id=\"line2d_12\">\n      <g>\n       <use style=\"stroke:#000000;stroke-width:0.8;\" x=\"40.603125\" xlink:href=\"#ma8367fc22f\" y=\"102.33\"/>\n      </g>\n     </g>\n     <g id=\"text_13\">\n      <!-- 4 -->\n      <g transform=\"translate(27.240625 106.129219)scale(0.1 -0.1)\">\n       <use xlink:href=\"#DejaVuSans-52\"/>\n      </g>\n     </g>\n    </g>\n    <g id=\"ytick_5\">\n     <g id=\"line2d_13\">\n      <g>\n       <use style=\"stroke:#000000;stroke-width:0.8;\" x=\"40.603125\" xlink:href=\"#ma8367fc22f\" y=\"129.51\"/>\n      </g>\n     </g>\n     <g id=\"text_14\">\n      <!-- 7 -->\n      <g transform=\"translate(27.240625 133.309219)scale(0.1 -0.1)\">\n       <use xlink:href=\"#DejaVuSans-55\"/>\n      </g>\n     </g>\n    </g>\n    <g id=\"ytick_6\">\n     <g id=\"line2d_14\">\n      <g>\n       <use style=\"stroke:#000000;stroke-width:0.8;\" x=\"40.603125\" xlink:href=\"#ma8367fc22f\" y=\"156.69\"/>\n      </g>\n     </g>\n     <g id=\"text_15\">\n      <!-- 8 -->\n      <g transform=\"translate(27.240625 160.489219)scale(0.1 -0.1)\">\n       <use xlink:href=\"#DejaVuSans-56\"/>\n      </g>\n     </g>\n    </g>\n    <g id=\"ytick_7\">\n     <g id=\"line2d_15\">\n      <g>\n       <use style=\"stroke:#000000;stroke-width:0.8;\" x=\"40.603125\" xlink:href=\"#ma8367fc22f\" y=\"183.87\"/>\n      </g>\n     </g>\n     <g id=\"text_16\">\n      <!-- 9 -->\n      <g transform=\"translate(27.240625 187.669219)scale(0.1 -0.1)\">\n       <use xlink:href=\"#DejaVuSans-57\"/>\n      </g>\n     </g>\n    </g>\n    <g id=\"ytick_8\">\n     <g id=\"line2d_16\">\n      <g>\n       <use style=\"stroke:#000000;stroke-width:0.8;\" x=\"40.603125\" xlink:href=\"#ma8367fc22f\" y=\"211.05\"/>\n      </g>\n     </g>\n     <g id=\"text_17\">\n      <!-- 10 -->\n      <g transform=\"translate(20.878125 214.849219)scale(0.1 -0.1)\">\n       <use xlink:href=\"#DejaVuSans-49\"/>\n       <use x=\"63.623047\" xlink:href=\"#DejaVuSans-48\"/>\n      </g>\n     </g>\n    </g>\n    <g id=\"text_18\">\n     <!-- True label -->\n     <g transform=\"translate(14.798438 140.219219)rotate(-90)scale(0.1 -0.1)\">\n      <defs>\n       <path d=\"M -0.296875 72.90625 \nL 61.375 72.90625 \nL 61.375 64.59375 \nL 35.5 64.59375 \nL 35.5 0 \nL 25.59375 0 \nL 25.59375 64.59375 \nL -0.296875 64.59375 \nz\n\" id=\"DejaVuSans-84\"/>\n       <path d=\"M 8.5 21.578125 \nL 8.5 54.6875 \nL 17.484375 54.6875 \nL 17.484375 21.921875 \nQ 17.484375 14.15625 20.5 10.265625 \nQ 23.53125 6.390625 29.59375 6.390625 \nQ 36.859375 6.390625 41.078125 11.03125 \nQ 45.3125 15.671875 45.3125 23.6875 \nL 45.3125 54.6875 \nL 54.296875 54.6875 \nL 54.296875 0 \nL 45.3125 0 \nL 45.3125 8.40625 \nQ 42.046875 3.421875 37.71875 1 \nQ 33.40625 -1.421875 27.6875 -1.421875 \nQ 18.265625 -1.421875 13.375 4.4375 \nQ 8.5 10.296875 8.5 21.578125 \nz\nM 31.109375 56 \nz\n\" id=\"DejaVuSans-117\"/>\n      </defs>\n      <use xlink:href=\"#DejaVuSans-84\"/>\n      <use x=\"46.333984\" xlink:href=\"#DejaVuSans-114\"/>\n      <use x=\"87.447266\" xlink:href=\"#DejaVuSans-117\"/>\n      <use x=\"150.826172\" xlink:href=\"#DejaVuSans-101\"/>\n      <use x=\"212.349609\" xlink:href=\"#DejaVuSans-32\"/>\n      <use x=\"244.136719\" xlink:href=\"#DejaVuSans-108\"/>\n      <use x=\"271.919922\" xlink:href=\"#DejaVuSans-97\"/>\n      <use x=\"333.199219\" xlink:href=\"#DejaVuSans-98\"/>\n      <use x=\"396.675781\" xlink:href=\"#DejaVuSans-101\"/>\n      <use x=\"458.199219\" xlink:href=\"#DejaVuSans-108\"/>\n     </g>\n    </g>\n   </g>\n   <g id=\"patch_3\">\n    <path d=\"M 40.603125 224.64 \nL 40.603125 7.2 \n\" style=\"fill:none;stroke:#000000;stroke-linecap:square;stroke-linejoin:miter;stroke-width:0.8;\"/>\n   </g>\n   <g id=\"patch_4\">\n    <path d=\"M 258.043125 224.64 \nL 258.043125 7.2 \n\" style=\"fill:none;stroke:#000000;stroke-linecap:square;stroke-linejoin:miter;stroke-width:0.8;\"/>\n   </g>\n   <g id=\"patch_5\">\n    <path d=\"M 40.603125 224.64 \nL 258.043125 224.64 \n\" style=\"fill:none;stroke:#000000;stroke-linecap:square;stroke-linejoin:miter;stroke-width:0.8;\"/>\n   </g>\n   <g id=\"patch_6\">\n    <path d=\"M 40.603125 7.2 \nL 258.043125 7.2 \n\" style=\"fill:none;stroke:#000000;stroke-linecap:square;stroke-linejoin:miter;stroke-width:0.8;\"/>\n   </g>\n   <g id=\"text_19\">\n    <!-- 0.97 -->\n    <g style=\"fill:#f7fbff;\" transform=\"translate(43.060313 23.549375)scale(0.1 -0.1)\">\n     <defs>\n      <path d=\"M 10.6875 12.40625 \nL 21 12.40625 \nL 21 0 \nL 10.6875 0 \nz\n\" id=\"DejaVuSans-46\"/>\n     </defs>\n     <use xlink:href=\"#DejaVuSans-48\"/>\n     <use x=\"63.623047\" xlink:href=\"#DejaVuSans-46\"/>\n     <use x=\"95.410156\" xlink:href=\"#DejaVuSans-57\"/>\n     <use x=\"159.033203\" xlink:href=\"#DejaVuSans-55\"/>\n    </g>\n   </g>\n   <g id=\"text_20\">\n    <!-- 0.00 -->\n    <g style=\"fill:#08306b;\" transform=\"translate(70.240313 23.549375)scale(0.1 -0.1)\">\n     <use xlink:href=\"#DejaVuSans-48\"/>\n     <use x=\"63.623047\" xlink:href=\"#DejaVuSans-46\"/>\n     <use x=\"95.410156\" xlink:href=\"#DejaVuSans-48\"/>\n     <use x=\"159.033203\" xlink:href=\"#DejaVuSans-48\"/>\n    </g>\n   </g>\n   <g id=\"text_21\">\n    <!-- 0.00 -->\n    <g style=\"fill:#08306b;\" transform=\"translate(97.420312 23.549375)scale(0.1 -0.1)\">\n     <use xlink:href=\"#DejaVuSans-48\"/>\n     <use x=\"63.623047\" xlink:href=\"#DejaVuSans-46\"/>\n     <use x=\"95.410156\" xlink:href=\"#DejaVuSans-48\"/>\n     <use x=\"159.033203\" xlink:href=\"#DejaVuSans-48\"/>\n    </g>\n   </g>\n   <g id=\"text_22\">\n    <!-- 0.00 -->\n    <g style=\"fill:#08306b;\" transform=\"translate(124.600313 23.549375)scale(0.1 -0.1)\">\n     <use xlink:href=\"#DejaVuSans-48\"/>\n     <use x=\"63.623047\" xlink:href=\"#DejaVuSans-46\"/>\n     <use x=\"95.410156\" xlink:href=\"#DejaVuSans-48\"/>\n     <use x=\"159.033203\" xlink:href=\"#DejaVuSans-48\"/>\n    </g>\n   </g>\n   <g id=\"text_23\">\n    <!-- 0.00 -->\n    <g style=\"fill:#08306b;\" transform=\"translate(151.780312 23.549375)scale(0.1 -0.1)\">\n     <use xlink:href=\"#DejaVuSans-48\"/>\n     <use x=\"63.623047\" xlink:href=\"#DejaVuSans-46\"/>\n     <use x=\"95.410156\" xlink:href=\"#DejaVuSans-48\"/>\n     <use x=\"159.033203\" xlink:href=\"#DejaVuSans-48\"/>\n    </g>\n   </g>\n   <g id=\"text_24\">\n    <!-- 0.00 -->\n    <g style=\"fill:#08306b;\" transform=\"translate(178.960312 23.549375)scale(0.1 -0.1)\">\n     <use xlink:href=\"#DejaVuSans-48\"/>\n     <use x=\"63.623047\" xlink:href=\"#DejaVuSans-46\"/>\n     <use x=\"95.410156\" xlink:href=\"#DejaVuSans-48\"/>\n     <use x=\"159.033203\" xlink:href=\"#DejaVuSans-48\"/>\n    </g>\n   </g>\n   <g id=\"text_25\">\n    <!-- 0.00 -->\n    <g style=\"fill:#08306b;\" transform=\"translate(206.140312 23.549375)scale(0.1 -0.1)\">\n     <use xlink:href=\"#DejaVuSans-48\"/>\n     <use x=\"63.623047\" xlink:href=\"#DejaVuSans-46\"/>\n     <use x=\"95.410156\" xlink:href=\"#DejaVuSans-48\"/>\n     <use x=\"159.033203\" xlink:href=\"#DejaVuSans-48\"/>\n    </g>\n   </g>\n   <g id=\"text_26\">\n    <!-- 0.03 -->\n    <g style=\"fill:#08306b;\" transform=\"translate(233.320312 23.549375)scale(0.1 -0.1)\">\n     <use xlink:href=\"#DejaVuSans-48\"/>\n     <use x=\"63.623047\" xlink:href=\"#DejaVuSans-46\"/>\n     <use x=\"95.410156\" xlink:href=\"#DejaVuSans-48\"/>\n     <use x=\"159.033203\" xlink:href=\"#DejaVuSans-51\"/>\n    </g>\n   </g>\n   <g id=\"text_27\">\n    <!-- 0.96 -->\n    <g style=\"fill:#f7fbff;\" transform=\"translate(43.060313 50.729375)scale(0.1 -0.1)\">\n     <defs>\n      <path d=\"M 33.015625 40.375 \nQ 26.375 40.375 22.484375 35.828125 \nQ 18.609375 31.296875 18.609375 23.390625 \nQ 18.609375 15.53125 22.484375 10.953125 \nQ 26.375 6.390625 33.015625 6.390625 \nQ 39.65625 6.390625 43.53125 10.953125 \nQ 47.40625 15.53125 47.40625 23.390625 \nQ 47.40625 31.296875 43.53125 35.828125 \nQ 39.65625 40.375 33.015625 40.375 \nz\nM 52.59375 71.296875 \nL 52.59375 62.3125 \nQ 48.875 64.0625 45.09375 64.984375 \nQ 41.3125 65.921875 37.59375 65.921875 \nQ 27.828125 65.921875 22.671875 59.328125 \nQ 17.53125 52.734375 16.796875 39.40625 \nQ 19.671875 43.65625 24.015625 45.921875 \nQ 28.375 48.1875 33.59375 48.1875 \nQ 44.578125 48.1875 50.953125 41.515625 \nQ 57.328125 34.859375 57.328125 23.390625 \nQ 57.328125 12.15625 50.6875 5.359375 \nQ 44.046875 -1.421875 33.015625 -1.421875 \nQ 20.359375 -1.421875 13.671875 8.265625 \nQ 6.984375 17.96875 6.984375 36.375 \nQ 6.984375 53.65625 15.1875 63.9375 \nQ 23.390625 74.21875 37.203125 74.21875 \nQ 40.921875 74.21875 44.703125 73.484375 \nQ 48.484375 72.75 52.59375 71.296875 \nz\n\" id=\"DejaVuSans-54\"/>\n     </defs>\n     <use xlink:href=\"#DejaVuSans-48\"/>\n     <use x=\"63.623047\" xlink:href=\"#DejaVuSans-46\"/>\n     <use x=\"95.410156\" xlink:href=\"#DejaVuSans-57\"/>\n     <use x=\"159.033203\" xlink:href=\"#DejaVuSans-54\"/>\n    </g>\n   </g>\n   <g id=\"text_28\">\n    <!-- 0.00 -->\n    <g style=\"fill:#08306b;\" transform=\"translate(70.240313 50.729375)scale(0.1 -0.1)\">\n     <use xlink:href=\"#DejaVuSans-48\"/>\n     <use x=\"63.623047\" xlink:href=\"#DejaVuSans-46\"/>\n     <use x=\"95.410156\" xlink:href=\"#DejaVuSans-48\"/>\n     <use x=\"159.033203\" xlink:href=\"#DejaVuSans-48\"/>\n    </g>\n   </g>\n   <g id=\"text_29\">\n    <!-- 0.00 -->\n    <g style=\"fill:#08306b;\" transform=\"translate(97.420312 50.729375)scale(0.1 -0.1)\">\n     <use xlink:href=\"#DejaVuSans-48\"/>\n     <use x=\"63.623047\" xlink:href=\"#DejaVuSans-46\"/>\n     <use x=\"95.410156\" xlink:href=\"#DejaVuSans-48\"/>\n     <use x=\"159.033203\" xlink:href=\"#DejaVuSans-48\"/>\n    </g>\n   </g>\n   <g id=\"text_30\">\n    <!-- 0.00 -->\n    <g style=\"fill:#08306b;\" transform=\"translate(124.600313 50.729375)scale(0.1 -0.1)\">\n     <use xlink:href=\"#DejaVuSans-48\"/>\n     <use x=\"63.623047\" xlink:href=\"#DejaVuSans-46\"/>\n     <use x=\"95.410156\" xlink:href=\"#DejaVuSans-48\"/>\n     <use x=\"159.033203\" xlink:href=\"#DejaVuSans-48\"/>\n    </g>\n   </g>\n   <g id=\"text_31\">\n    <!-- 0.00 -->\n    <g style=\"fill:#08306b;\" transform=\"translate(151.780312 50.729375)scale(0.1 -0.1)\">\n     <use xlink:href=\"#DejaVuSans-48\"/>\n     <use x=\"63.623047\" xlink:href=\"#DejaVuSans-46\"/>\n     <use x=\"95.410156\" xlink:href=\"#DejaVuSans-48\"/>\n     <use x=\"159.033203\" xlink:href=\"#DejaVuSans-48\"/>\n    </g>\n   </g>\n   <g id=\"text_32\">\n    <!-- 0.00 -->\n    <g style=\"fill:#08306b;\" transform=\"translate(178.960312 50.729375)scale(0.1 -0.1)\">\n     <use xlink:href=\"#DejaVuSans-48\"/>\n     <use x=\"63.623047\" xlink:href=\"#DejaVuSans-46\"/>\n     <use x=\"95.410156\" xlink:href=\"#DejaVuSans-48\"/>\n     <use x=\"159.033203\" xlink:href=\"#DejaVuSans-48\"/>\n    </g>\n   </g>\n   <g id=\"text_33\">\n    <!-- 0.00 -->\n    <g style=\"fill:#08306b;\" transform=\"translate(206.140312 50.729375)scale(0.1 -0.1)\">\n     <use xlink:href=\"#DejaVuSans-48\"/>\n     <use x=\"63.623047\" xlink:href=\"#DejaVuSans-46\"/>\n     <use x=\"95.410156\" xlink:href=\"#DejaVuSans-48\"/>\n     <use x=\"159.033203\" xlink:href=\"#DejaVuSans-48\"/>\n    </g>\n   </g>\n   <g id=\"text_34\">\n    <!-- 0.04 -->\n    <g style=\"fill:#08306b;\" transform=\"translate(233.320312 50.729375)scale(0.1 -0.1)\">\n     <use xlink:href=\"#DejaVuSans-48\"/>\n     <use x=\"63.623047\" xlink:href=\"#DejaVuSans-46\"/>\n     <use x=\"95.410156\" xlink:href=\"#DejaVuSans-48\"/>\n     <use x=\"159.033203\" xlink:href=\"#DejaVuSans-52\"/>\n    </g>\n   </g>\n   <g id=\"text_35\">\n    <!-- 0.89 -->\n    <g style=\"fill:#f7fbff;\" transform=\"translate(43.060313 77.909375)scale(0.1 -0.1)\">\n     <use xlink:href=\"#DejaVuSans-48\"/>\n     <use x=\"63.623047\" xlink:href=\"#DejaVuSans-46\"/>\n     <use x=\"95.410156\" xlink:href=\"#DejaVuSans-56\"/>\n     <use x=\"159.033203\" xlink:href=\"#DejaVuSans-57\"/>\n    </g>\n   </g>\n   <g id=\"text_36\">\n    <!-- 0.00 -->\n    <g style=\"fill:#08306b;\" transform=\"translate(70.240313 77.909375)scale(0.1 -0.1)\">\n     <use xlink:href=\"#DejaVuSans-48\"/>\n     <use x=\"63.623047\" xlink:href=\"#DejaVuSans-46\"/>\n     <use x=\"95.410156\" xlink:href=\"#DejaVuSans-48\"/>\n     <use x=\"159.033203\" xlink:href=\"#DejaVuSans-48\"/>\n    </g>\n   </g>\n   <g id=\"text_37\">\n    <!-- 0.00 -->\n    <g style=\"fill:#08306b;\" transform=\"translate(97.420312 77.909375)scale(0.1 -0.1)\">\n     <use xlink:href=\"#DejaVuSans-48\"/>\n     <use x=\"63.623047\" xlink:href=\"#DejaVuSans-46\"/>\n     <use x=\"95.410156\" xlink:href=\"#DejaVuSans-48\"/>\n     <use x=\"159.033203\" xlink:href=\"#DejaVuSans-48\"/>\n    </g>\n   </g>\n   <g id=\"text_38\">\n    <!-- 0.00 -->\n    <g style=\"fill:#08306b;\" transform=\"translate(124.600313 77.909375)scale(0.1 -0.1)\">\n     <use xlink:href=\"#DejaVuSans-48\"/>\n     <use x=\"63.623047\" xlink:href=\"#DejaVuSans-46\"/>\n     <use x=\"95.410156\" xlink:href=\"#DejaVuSans-48\"/>\n     <use x=\"159.033203\" xlink:href=\"#DejaVuSans-48\"/>\n    </g>\n   </g>\n   <g id=\"text_39\">\n    <!-- 0.00 -->\n    <g style=\"fill:#08306b;\" transform=\"translate(151.780312 77.909375)scale(0.1 -0.1)\">\n     <use xlink:href=\"#DejaVuSans-48\"/>\n     <use x=\"63.623047\" xlink:href=\"#DejaVuSans-46\"/>\n     <use x=\"95.410156\" xlink:href=\"#DejaVuSans-48\"/>\n     <use x=\"159.033203\" xlink:href=\"#DejaVuSans-48\"/>\n    </g>\n   </g>\n   <g id=\"text_40\">\n    <!-- 0.00 -->\n    <g style=\"fill:#08306b;\" transform=\"translate(178.960312 77.909375)scale(0.1 -0.1)\">\n     <use xlink:href=\"#DejaVuSans-48\"/>\n     <use x=\"63.623047\" xlink:href=\"#DejaVuSans-46\"/>\n     <use x=\"95.410156\" xlink:href=\"#DejaVuSans-48\"/>\n     <use x=\"159.033203\" xlink:href=\"#DejaVuSans-48\"/>\n    </g>\n   </g>\n   <g id=\"text_41\">\n    <!-- 0.00 -->\n    <g style=\"fill:#08306b;\" transform=\"translate(206.140312 77.909375)scale(0.1 -0.1)\">\n     <use xlink:href=\"#DejaVuSans-48\"/>\n     <use x=\"63.623047\" xlink:href=\"#DejaVuSans-46\"/>\n     <use x=\"95.410156\" xlink:href=\"#DejaVuSans-48\"/>\n     <use x=\"159.033203\" xlink:href=\"#DejaVuSans-48\"/>\n    </g>\n   </g>\n   <g id=\"text_42\">\n    <!-- 0.11 -->\n    <g style=\"fill:#08306b;\" transform=\"translate(233.320312 77.909375)scale(0.1 -0.1)\">\n     <use xlink:href=\"#DejaVuSans-48\"/>\n     <use x=\"63.623047\" xlink:href=\"#DejaVuSans-46\"/>\n     <use x=\"95.410156\" xlink:href=\"#DejaVuSans-49\"/>\n     <use x=\"159.033203\" xlink:href=\"#DejaVuSans-49\"/>\n    </g>\n   </g>\n   <g id=\"text_43\">\n    <!-- 0.79 -->\n    <g style=\"fill:#f7fbff;\" transform=\"translate(43.060313 105.089375)scale(0.1 -0.1)\">\n     <use xlink:href=\"#DejaVuSans-48\"/>\n     <use x=\"63.623047\" xlink:href=\"#DejaVuSans-46\"/>\n     <use x=\"95.410156\" xlink:href=\"#DejaVuSans-55\"/>\n     <use x=\"159.033203\" xlink:href=\"#DejaVuSans-57\"/>\n    </g>\n   </g>\n   <g id=\"text_44\">\n    <!-- 0.00 -->\n    <g style=\"fill:#08306b;\" transform=\"translate(70.240313 105.089375)scale(0.1 -0.1)\">\n     <use xlink:href=\"#DejaVuSans-48\"/>\n     <use x=\"63.623047\" xlink:href=\"#DejaVuSans-46\"/>\n     <use x=\"95.410156\" xlink:href=\"#DejaVuSans-48\"/>\n     <use x=\"159.033203\" xlink:href=\"#DejaVuSans-48\"/>\n    </g>\n   </g>\n   <g id=\"text_45\">\n    <!-- 0.00 -->\n    <g style=\"fill:#08306b;\" transform=\"translate(97.420312 105.089375)scale(0.1 -0.1)\">\n     <use xlink:href=\"#DejaVuSans-48\"/>\n     <use x=\"63.623047\" xlink:href=\"#DejaVuSans-46\"/>\n     <use x=\"95.410156\" xlink:href=\"#DejaVuSans-48\"/>\n     <use x=\"159.033203\" xlink:href=\"#DejaVuSans-48\"/>\n    </g>\n   </g>\n   <g id=\"text_46\">\n    <!-- 0.00 -->\n    <g style=\"fill:#08306b;\" transform=\"translate(124.600313 105.089375)scale(0.1 -0.1)\">\n     <use xlink:href=\"#DejaVuSans-48\"/>\n     <use x=\"63.623047\" xlink:href=\"#DejaVuSans-46\"/>\n     <use x=\"95.410156\" xlink:href=\"#DejaVuSans-48\"/>\n     <use x=\"159.033203\" xlink:href=\"#DejaVuSans-48\"/>\n    </g>\n   </g>\n   <g id=\"text_47\">\n    <!-- 0.00 -->\n    <g style=\"fill:#08306b;\" transform=\"translate(151.780312 105.089375)scale(0.1 -0.1)\">\n     <use xlink:href=\"#DejaVuSans-48\"/>\n     <use x=\"63.623047\" xlink:href=\"#DejaVuSans-46\"/>\n     <use x=\"95.410156\" xlink:href=\"#DejaVuSans-48\"/>\n     <use x=\"159.033203\" xlink:href=\"#DejaVuSans-48\"/>\n    </g>\n   </g>\n   <g id=\"text_48\">\n    <!-- 0.00 -->\n    <g style=\"fill:#08306b;\" transform=\"translate(178.960312 105.089375)scale(0.1 -0.1)\">\n     <use xlink:href=\"#DejaVuSans-48\"/>\n     <use x=\"63.623047\" xlink:href=\"#DejaVuSans-46\"/>\n     <use x=\"95.410156\" xlink:href=\"#DejaVuSans-48\"/>\n     <use x=\"159.033203\" xlink:href=\"#DejaVuSans-48\"/>\n    </g>\n   </g>\n   <g id=\"text_49\">\n    <!-- 0.00 -->\n    <g style=\"fill:#08306b;\" transform=\"translate(206.140312 105.089375)scale(0.1 -0.1)\">\n     <use xlink:href=\"#DejaVuSans-48\"/>\n     <use x=\"63.623047\" xlink:href=\"#DejaVuSans-46\"/>\n     <use x=\"95.410156\" xlink:href=\"#DejaVuSans-48\"/>\n     <use x=\"159.033203\" xlink:href=\"#DejaVuSans-48\"/>\n    </g>\n   </g>\n   <g id=\"text_50\">\n    <!-- 0.21 -->\n    <g style=\"fill:#08306b;\" transform=\"translate(233.320312 105.089375)scale(0.1 -0.1)\">\n     <use xlink:href=\"#DejaVuSans-48\"/>\n     <use x=\"63.623047\" xlink:href=\"#DejaVuSans-46\"/>\n     <use x=\"95.410156\" xlink:href=\"#DejaVuSans-50\"/>\n     <use x=\"159.033203\" xlink:href=\"#DejaVuSans-49\"/>\n    </g>\n   </g>\n   <g id=\"text_51\">\n    <!-- 0.34 -->\n    <g style=\"fill:#08306b;\" transform=\"translate(43.060313 132.269375)scale(0.1 -0.1)\">\n     <use xlink:href=\"#DejaVuSans-48\"/>\n     <use x=\"63.623047\" xlink:href=\"#DejaVuSans-46\"/>\n     <use x=\"95.410156\" xlink:href=\"#DejaVuSans-51\"/>\n     <use x=\"159.033203\" xlink:href=\"#DejaVuSans-52\"/>\n    </g>\n   </g>\n   <g id=\"text_52\">\n    <!-- 0.00 -->\n    <g style=\"fill:#08306b;\" transform=\"translate(70.240313 132.269375)scale(0.1 -0.1)\">\n     <use xlink:href=\"#DejaVuSans-48\"/>\n     <use x=\"63.623047\" xlink:href=\"#DejaVuSans-46\"/>\n     <use x=\"95.410156\" xlink:href=\"#DejaVuSans-48\"/>\n     <use x=\"159.033203\" xlink:href=\"#DejaVuSans-48\"/>\n    </g>\n   </g>\n   <g id=\"text_53\">\n    <!-- 0.00 -->\n    <g style=\"fill:#08306b;\" transform=\"translate(97.420312 132.269375)scale(0.1 -0.1)\">\n     <use xlink:href=\"#DejaVuSans-48\"/>\n     <use x=\"63.623047\" xlink:href=\"#DejaVuSans-46\"/>\n     <use x=\"95.410156\" xlink:href=\"#DejaVuSans-48\"/>\n     <use x=\"159.033203\" xlink:href=\"#DejaVuSans-48\"/>\n    </g>\n   </g>\n   <g id=\"text_54\">\n    <!-- 0.00 -->\n    <g style=\"fill:#08306b;\" transform=\"translate(124.600313 132.269375)scale(0.1 -0.1)\">\n     <use xlink:href=\"#DejaVuSans-48\"/>\n     <use x=\"63.623047\" xlink:href=\"#DejaVuSans-46\"/>\n     <use x=\"95.410156\" xlink:href=\"#DejaVuSans-48\"/>\n     <use x=\"159.033203\" xlink:href=\"#DejaVuSans-48\"/>\n    </g>\n   </g>\n   <g id=\"text_55\">\n    <!-- 0.00 -->\n    <g style=\"fill:#08306b;\" transform=\"translate(151.780312 132.269375)scale(0.1 -0.1)\">\n     <use xlink:href=\"#DejaVuSans-48\"/>\n     <use x=\"63.623047\" xlink:href=\"#DejaVuSans-46\"/>\n     <use x=\"95.410156\" xlink:href=\"#DejaVuSans-48\"/>\n     <use x=\"159.033203\" xlink:href=\"#DejaVuSans-48\"/>\n    </g>\n   </g>\n   <g id=\"text_56\">\n    <!-- 0.00 -->\n    <g style=\"fill:#08306b;\" transform=\"translate(178.960312 132.269375)scale(0.1 -0.1)\">\n     <use xlink:href=\"#DejaVuSans-48\"/>\n     <use x=\"63.623047\" xlink:href=\"#DejaVuSans-46\"/>\n     <use x=\"95.410156\" xlink:href=\"#DejaVuSans-48\"/>\n     <use x=\"159.033203\" xlink:href=\"#DejaVuSans-48\"/>\n    </g>\n   </g>\n   <g id=\"text_57\">\n    <!-- 0.00 -->\n    <g style=\"fill:#08306b;\" transform=\"translate(206.140312 132.269375)scale(0.1 -0.1)\">\n     <use xlink:href=\"#DejaVuSans-48\"/>\n     <use x=\"63.623047\" xlink:href=\"#DejaVuSans-46\"/>\n     <use x=\"95.410156\" xlink:href=\"#DejaVuSans-48\"/>\n     <use x=\"159.033203\" xlink:href=\"#DejaVuSans-48\"/>\n    </g>\n   </g>\n   <g id=\"text_58\">\n    <!-- 0.66 -->\n    <g style=\"fill:#f7fbff;\" transform=\"translate(233.320312 132.269375)scale(0.1 -0.1)\">\n     <use xlink:href=\"#DejaVuSans-48\"/>\n     <use x=\"63.623047\" xlink:href=\"#DejaVuSans-46\"/>\n     <use x=\"95.410156\" xlink:href=\"#DejaVuSans-54\"/>\n     <use x=\"159.033203\" xlink:href=\"#DejaVuSans-54\"/>\n    </g>\n   </g>\n   <g id=\"text_59\">\n    <!-- 0.26 -->\n    <g style=\"fill:#08306b;\" transform=\"translate(43.060313 159.449375)scale(0.1 -0.1)\">\n     <use xlink:href=\"#DejaVuSans-48\"/>\n     <use x=\"63.623047\" xlink:href=\"#DejaVuSans-46\"/>\n     <use x=\"95.410156\" xlink:href=\"#DejaVuSans-50\"/>\n     <use x=\"159.033203\" xlink:href=\"#DejaVuSans-54\"/>\n    </g>\n   </g>\n   <g id=\"text_60\">\n    <!-- 0.00 -->\n    <g style=\"fill:#08306b;\" transform=\"translate(70.240313 159.449375)scale(0.1 -0.1)\">\n     <use xlink:href=\"#DejaVuSans-48\"/>\n     <use x=\"63.623047\" xlink:href=\"#DejaVuSans-46\"/>\n     <use x=\"95.410156\" xlink:href=\"#DejaVuSans-48\"/>\n     <use x=\"159.033203\" xlink:href=\"#DejaVuSans-48\"/>\n    </g>\n   </g>\n   <g id=\"text_61\">\n    <!-- 0.00 -->\n    <g style=\"fill:#08306b;\" transform=\"translate(97.420312 159.449375)scale(0.1 -0.1)\">\n     <use xlink:href=\"#DejaVuSans-48\"/>\n     <use x=\"63.623047\" xlink:href=\"#DejaVuSans-46\"/>\n     <use x=\"95.410156\" xlink:href=\"#DejaVuSans-48\"/>\n     <use x=\"159.033203\" xlink:href=\"#DejaVuSans-48\"/>\n    </g>\n   </g>\n   <g id=\"text_62\">\n    <!-- 0.00 -->\n    <g style=\"fill:#08306b;\" transform=\"translate(124.600313 159.449375)scale(0.1 -0.1)\">\n     <use xlink:href=\"#DejaVuSans-48\"/>\n     <use x=\"63.623047\" xlink:href=\"#DejaVuSans-46\"/>\n     <use x=\"95.410156\" xlink:href=\"#DejaVuSans-48\"/>\n     <use x=\"159.033203\" xlink:href=\"#DejaVuSans-48\"/>\n    </g>\n   </g>\n   <g id=\"text_63\">\n    <!-- 0.00 -->\n    <g style=\"fill:#08306b;\" transform=\"translate(151.780312 159.449375)scale(0.1 -0.1)\">\n     <use xlink:href=\"#DejaVuSans-48\"/>\n     <use x=\"63.623047\" xlink:href=\"#DejaVuSans-46\"/>\n     <use x=\"95.410156\" xlink:href=\"#DejaVuSans-48\"/>\n     <use x=\"159.033203\" xlink:href=\"#DejaVuSans-48\"/>\n    </g>\n   </g>\n   <g id=\"text_64\">\n    <!-- 0.00 -->\n    <g style=\"fill:#08306b;\" transform=\"translate(178.960312 159.449375)scale(0.1 -0.1)\">\n     <use xlink:href=\"#DejaVuSans-48\"/>\n     <use x=\"63.623047\" xlink:href=\"#DejaVuSans-46\"/>\n     <use x=\"95.410156\" xlink:href=\"#DejaVuSans-48\"/>\n     <use x=\"159.033203\" xlink:href=\"#DejaVuSans-48\"/>\n    </g>\n   </g>\n   <g id=\"text_65\">\n    <!-- 0.00 -->\n    <g style=\"fill:#08306b;\" transform=\"translate(206.140312 159.449375)scale(0.1 -0.1)\">\n     <use xlink:href=\"#DejaVuSans-48\"/>\n     <use x=\"63.623047\" xlink:href=\"#DejaVuSans-46\"/>\n     <use x=\"95.410156\" xlink:href=\"#DejaVuSans-48\"/>\n     <use x=\"159.033203\" xlink:href=\"#DejaVuSans-48\"/>\n    </g>\n   </g>\n   <g id=\"text_66\">\n    <!-- 0.73 -->\n    <g style=\"fill:#f7fbff;\" transform=\"translate(233.320312 159.449375)scale(0.1 -0.1)\">\n     <use xlink:href=\"#DejaVuSans-48\"/>\n     <use x=\"63.623047\" xlink:href=\"#DejaVuSans-46\"/>\n     <use x=\"95.410156\" xlink:href=\"#DejaVuSans-55\"/>\n     <use x=\"159.033203\" xlink:href=\"#DejaVuSans-51\"/>\n    </g>\n   </g>\n   <g id=\"text_67\">\n    <!-- 0.22 -->\n    <g style=\"fill:#08306b;\" transform=\"translate(43.060313 186.629375)scale(0.1 -0.1)\">\n     <use xlink:href=\"#DejaVuSans-48\"/>\n     <use x=\"63.623047\" xlink:href=\"#DejaVuSans-46\"/>\n     <use x=\"95.410156\" xlink:href=\"#DejaVuSans-50\"/>\n     <use x=\"159.033203\" xlink:href=\"#DejaVuSans-50\"/>\n    </g>\n   </g>\n   <g id=\"text_68\">\n    <!-- 0.00 -->\n    <g style=\"fill:#08306b;\" transform=\"translate(70.240313 186.629375)scale(0.1 -0.1)\">\n     <use xlink:href=\"#DejaVuSans-48\"/>\n     <use x=\"63.623047\" xlink:href=\"#DejaVuSans-46\"/>\n     <use x=\"95.410156\" xlink:href=\"#DejaVuSans-48\"/>\n     <use x=\"159.033203\" xlink:href=\"#DejaVuSans-48\"/>\n    </g>\n   </g>\n   <g id=\"text_69\">\n    <!-- 0.00 -->\n    <g style=\"fill:#08306b;\" transform=\"translate(97.420312 186.629375)scale(0.1 -0.1)\">\n     <use xlink:href=\"#DejaVuSans-48\"/>\n     <use x=\"63.623047\" xlink:href=\"#DejaVuSans-46\"/>\n     <use x=\"95.410156\" xlink:href=\"#DejaVuSans-48\"/>\n     <use x=\"159.033203\" xlink:href=\"#DejaVuSans-48\"/>\n    </g>\n   </g>\n   <g id=\"text_70\">\n    <!-- 0.00 -->\n    <g style=\"fill:#08306b;\" transform=\"translate(124.600313 186.629375)scale(0.1 -0.1)\">\n     <use xlink:href=\"#DejaVuSans-48\"/>\n     <use x=\"63.623047\" xlink:href=\"#DejaVuSans-46\"/>\n     <use x=\"95.410156\" xlink:href=\"#DejaVuSans-48\"/>\n     <use x=\"159.033203\" xlink:href=\"#DejaVuSans-48\"/>\n    </g>\n   </g>\n   <g id=\"text_71\">\n    <!-- 0.00 -->\n    <g style=\"fill:#08306b;\" transform=\"translate(151.780312 186.629375)scale(0.1 -0.1)\">\n     <use xlink:href=\"#DejaVuSans-48\"/>\n     <use x=\"63.623047\" xlink:href=\"#DejaVuSans-46\"/>\n     <use x=\"95.410156\" xlink:href=\"#DejaVuSans-48\"/>\n     <use x=\"159.033203\" xlink:href=\"#DejaVuSans-48\"/>\n    </g>\n   </g>\n   <g id=\"text_72\">\n    <!-- 0.00 -->\n    <g style=\"fill:#08306b;\" transform=\"translate(178.960312 186.629375)scale(0.1 -0.1)\">\n     <use xlink:href=\"#DejaVuSans-48\"/>\n     <use x=\"63.623047\" xlink:href=\"#DejaVuSans-46\"/>\n     <use x=\"95.410156\" xlink:href=\"#DejaVuSans-48\"/>\n     <use x=\"159.033203\" xlink:href=\"#DejaVuSans-48\"/>\n    </g>\n   </g>\n   <g id=\"text_73\">\n    <!-- 0.00 -->\n    <g style=\"fill:#08306b;\" transform=\"translate(206.140312 186.629375)scale(0.1 -0.1)\">\n     <use xlink:href=\"#DejaVuSans-48\"/>\n     <use x=\"63.623047\" xlink:href=\"#DejaVuSans-46\"/>\n     <use x=\"95.410156\" xlink:href=\"#DejaVuSans-48\"/>\n     <use x=\"159.033203\" xlink:href=\"#DejaVuSans-48\"/>\n    </g>\n   </g>\n   <g id=\"text_74\">\n    <!-- 0.78 -->\n    <g style=\"fill:#f7fbff;\" transform=\"translate(233.320312 186.629375)scale(0.1 -0.1)\">\n     <use xlink:href=\"#DejaVuSans-48\"/>\n     <use x=\"63.623047\" xlink:href=\"#DejaVuSans-46\"/>\n     <use x=\"95.410156\" xlink:href=\"#DejaVuSans-55\"/>\n     <use x=\"159.033203\" xlink:href=\"#DejaVuSans-56\"/>\n    </g>\n   </g>\n   <g id=\"text_75\">\n    <!-- 0.19 -->\n    <g style=\"fill:#08306b;\" transform=\"translate(43.060313 213.809375)scale(0.1 -0.1)\">\n     <use xlink:href=\"#DejaVuSans-48\"/>\n     <use x=\"63.623047\" xlink:href=\"#DejaVuSans-46\"/>\n     <use x=\"95.410156\" xlink:href=\"#DejaVuSans-49\"/>\n     <use x=\"159.033203\" xlink:href=\"#DejaVuSans-57\"/>\n    </g>\n   </g>\n   <g id=\"text_76\">\n    <!-- 0.00 -->\n    <g style=\"fill:#08306b;\" transform=\"translate(70.240313 213.809375)scale(0.1 -0.1)\">\n     <use xlink:href=\"#DejaVuSans-48\"/>\n     <use x=\"63.623047\" xlink:href=\"#DejaVuSans-46\"/>\n     <use x=\"95.410156\" xlink:href=\"#DejaVuSans-48\"/>\n     <use x=\"159.033203\" xlink:href=\"#DejaVuSans-48\"/>\n    </g>\n   </g>\n   <g id=\"text_77\">\n    <!-- 0.00 -->\n    <g style=\"fill:#08306b;\" transform=\"translate(97.420312 213.809375)scale(0.1 -0.1)\">\n     <use xlink:href=\"#DejaVuSans-48\"/>\n     <use x=\"63.623047\" xlink:href=\"#DejaVuSans-46\"/>\n     <use x=\"95.410156\" xlink:href=\"#DejaVuSans-48\"/>\n     <use x=\"159.033203\" xlink:href=\"#DejaVuSans-48\"/>\n    </g>\n   </g>\n   <g id=\"text_78\">\n    <!-- 0.00 -->\n    <g style=\"fill:#08306b;\" transform=\"translate(124.600313 213.809375)scale(0.1 -0.1)\">\n     <use xlink:href=\"#DejaVuSans-48\"/>\n     <use x=\"63.623047\" xlink:href=\"#DejaVuSans-46\"/>\n     <use x=\"95.410156\" xlink:href=\"#DejaVuSans-48\"/>\n     <use x=\"159.033203\" xlink:href=\"#DejaVuSans-48\"/>\n    </g>\n   </g>\n   <g id=\"text_79\">\n    <!-- 0.00 -->\n    <g style=\"fill:#08306b;\" transform=\"translate(151.780312 213.809375)scale(0.1 -0.1)\">\n     <use xlink:href=\"#DejaVuSans-48\"/>\n     <use x=\"63.623047\" xlink:href=\"#DejaVuSans-46\"/>\n     <use x=\"95.410156\" xlink:href=\"#DejaVuSans-48\"/>\n     <use x=\"159.033203\" xlink:href=\"#DejaVuSans-48\"/>\n    </g>\n   </g>\n   <g id=\"text_80\">\n    <!-- 0.00 -->\n    <g style=\"fill:#08306b;\" transform=\"translate(178.960312 213.809375)scale(0.1 -0.1)\">\n     <use xlink:href=\"#DejaVuSans-48\"/>\n     <use x=\"63.623047\" xlink:href=\"#DejaVuSans-46\"/>\n     <use x=\"95.410156\" xlink:href=\"#DejaVuSans-48\"/>\n     <use x=\"159.033203\" xlink:href=\"#DejaVuSans-48\"/>\n    </g>\n   </g>\n   <g id=\"text_81\">\n    <!-- 0.00 -->\n    <g style=\"fill:#08306b;\" transform=\"translate(206.140312 213.809375)scale(0.1 -0.1)\">\n     <use xlink:href=\"#DejaVuSans-48\"/>\n     <use x=\"63.623047\" xlink:href=\"#DejaVuSans-46\"/>\n     <use x=\"95.410156\" xlink:href=\"#DejaVuSans-48\"/>\n     <use x=\"159.033203\" xlink:href=\"#DejaVuSans-48\"/>\n    </g>\n   </g>\n   <g id=\"text_82\">\n    <!-- 0.81 -->\n    <g style=\"fill:#f7fbff;\" transform=\"translate(233.320312 213.809375)scale(0.1 -0.1)\">\n     <use xlink:href=\"#DejaVuSans-48\"/>\n     <use x=\"63.623047\" xlink:href=\"#DejaVuSans-46\"/>\n     <use x=\"95.410156\" xlink:href=\"#DejaVuSans-56\"/>\n     <use x=\"159.033203\" xlink:href=\"#DejaVuSans-49\"/>\n    </g>\n   </g>\n  </g>\n  <g id=\"axes_2\">\n   <g id=\"patch_7\">\n    <path clip-path=\"url(#p28e230d405)\" d=\"M 274.783125 224.64 \nL 274.783125 223.790625 \nL 274.783125 8.049375 \nL 274.783125 7.2 \nL 285.655125 7.2 \nL 285.655125 8.049375 \nL 285.655125 223.790625 \nL 285.655125 224.64 \nz\n\" style=\"fill:#ffffff;stroke:#ffffff;stroke-linejoin:miter;stroke-width:0.01;\"/>\n   </g>\n   <image height=\"217\" id=\"image0afde1d6e2\" transform=\"scale(1 -1)translate(0 -217)\" width=\"11\" x=\"275\" xlink:href=\"data:image/png;base64,\niVBORw0KGgoAAAANSUhEUgAAAAsAAADZCAYAAAD2WsoCAAABHElEQVR4nO2YMQ4CMRADA8r/n0uByIYWukwxyIvuamvl2F4nutvjufc4/OYex9gxz+diMKEBsGMCLORcAH0HLEzpQhyEkwEYZgNwLk26kSEdzAbh7NHQeoPZ3bC+OvZGinRX+H9CI0Q67VWQckBkNzygdsNqDi50wAzOlZHnOh/stqjFuUBGGWezN8Dk5VWBlzrtcYKqQGxR7e5eJM9eP3sOIp0X6ALTwXOsScPLBrQ7osw9ndk9KLaot7AR0nn93DEbaLs9nc2/EKj5I3YwJBvslctoRKgBD2jRCJls2g1oeEHy7O4YpJDtZn8CxWycvxlTODNwht0h2fh/u69sfICh3YhGw8n1sia3VGNF0ECTycJedn+BO9ptTX4DblXiEVeBW/gAAAAASUVORK5CYII=\" y=\"-7\"/>\n   <g id=\"matplotlib.axis_3\"/>\n   <g id=\"matplotlib.axis_4\">\n    <g id=\"ytick_9\">\n     <g id=\"line2d_17\">\n      <defs>\n       <path d=\"M 0 0 \nL 3.5 0 \n\" id=\"m072e914eb8\" style=\"stroke:#000000;stroke-width:0.8;\"/>\n      </defs>\n      <g>\n       <use style=\"stroke:#000000;stroke-width:0.8;\" x=\"285.655125\" xlink:href=\"#m072e914eb8\" y=\"224.64\"/>\n      </g>\n     </g>\n     <g id=\"text_83\">\n      <!-- 0.0 -->\n      <g transform=\"translate(292.655125 228.439219)scale(0.1 -0.1)\">\n       <use xlink:href=\"#DejaVuSans-48\"/>\n       <use x=\"63.623047\" xlink:href=\"#DejaVuSans-46\"/>\n       <use x=\"95.410156\" xlink:href=\"#DejaVuSans-48\"/>\n      </g>\n     </g>\n    </g>\n    <g id=\"ytick_10\">\n     <g id=\"line2d_18\">\n      <g>\n       <use style=\"stroke:#000000;stroke-width:0.8;\" x=\"285.655125\" xlink:href=\"#m072e914eb8\" y=\"179.882446\"/>\n      </g>\n     </g>\n     <g id=\"text_84\">\n      <!-- 0.2 -->\n      <g transform=\"translate(292.655125 183.681665)scale(0.1 -0.1)\">\n       <use xlink:href=\"#DejaVuSans-48\"/>\n       <use x=\"63.623047\" xlink:href=\"#DejaVuSans-46\"/>\n       <use x=\"95.410156\" xlink:href=\"#DejaVuSans-50\"/>\n      </g>\n     </g>\n    </g>\n    <g id=\"ytick_11\">\n     <g id=\"line2d_19\">\n      <g>\n       <use style=\"stroke:#000000;stroke-width:0.8;\" x=\"285.655125\" xlink:href=\"#m072e914eb8\" y=\"135.124892\"/>\n      </g>\n     </g>\n     <g id=\"text_85\">\n      <!-- 0.4 -->\n      <g transform=\"translate(292.655125 138.92411)scale(0.1 -0.1)\">\n       <use xlink:href=\"#DejaVuSans-48\"/>\n       <use x=\"63.623047\" xlink:href=\"#DejaVuSans-46\"/>\n       <use x=\"95.410156\" xlink:href=\"#DejaVuSans-52\"/>\n      </g>\n     </g>\n    </g>\n    <g id=\"ytick_12\">\n     <g id=\"line2d_20\">\n      <g>\n       <use style=\"stroke:#000000;stroke-width:0.8;\" x=\"285.655125\" xlink:href=\"#m072e914eb8\" y=\"90.367338\"/>\n      </g>\n     </g>\n     <g id=\"text_86\">\n      <!-- 0.6 -->\n      <g transform=\"translate(292.655125 94.166556)scale(0.1 -0.1)\">\n       <use xlink:href=\"#DejaVuSans-48\"/>\n       <use x=\"63.623047\" xlink:href=\"#DejaVuSans-46\"/>\n       <use x=\"95.410156\" xlink:href=\"#DejaVuSans-54\"/>\n      </g>\n     </g>\n    </g>\n    <g id=\"ytick_13\">\n     <g id=\"line2d_21\">\n      <g>\n       <use style=\"stroke:#000000;stroke-width:0.8;\" x=\"285.655125\" xlink:href=\"#m072e914eb8\" y=\"45.609783\"/>\n      </g>\n     </g>\n     <g id=\"text_87\">\n      <!-- 0.8 -->\n      <g transform=\"translate(292.655125 49.409002)scale(0.1 -0.1)\">\n       <use xlink:href=\"#DejaVuSans-48\"/>\n       <use x=\"63.623047\" xlink:href=\"#DejaVuSans-46\"/>\n       <use x=\"95.410156\" xlink:href=\"#DejaVuSans-56\"/>\n      </g>\n     </g>\n    </g>\n   </g>\n   <g id=\"patch_8\">\n    <path d=\"M 274.783125 224.64 \nL 274.783125 223.790625 \nL 274.783125 8.049375 \nL 274.783125 7.2 \nL 285.655125 7.2 \nL 285.655125 8.049375 \nL 285.655125 223.790625 \nL 285.655125 224.64 \nz\n\" style=\"fill:none;stroke:#000000;stroke-linejoin:miter;stroke-width:0.8;\"/>\n   </g>\n  </g>\n </g>\n <defs>\n  <clipPath id=\"pd0220a6906\">\n   <rect height=\"217.44\" width=\"217.44\" x=\"40.603125\" y=\"7.2\"/>\n  </clipPath>\n  <clipPath id=\"p28e230d405\">\n   <rect height=\"217.44\" width=\"10.872\" x=\"274.783125\" y=\"7.2\"/>\n  </clipPath>\n </defs>\n</svg>\n",
      "image/png": "[encoded data removed]"
     },
     "metadata": {
      "needs_background": "light"
     }
    }
   ],
   "source": [
    "y_pred_train, y_pred_test, y_pred_test_class = predict(classifier, x_train, x_test)\n",
    "print_evaluation(y_test, y_pred_test, y_pred_test_class)"
   ]
  },
  {
   "source": [
    "## Classification with logistic regression"
   ],
   "cell_type": "markdown",
   "metadata": {}
  },
  {
   "cell_type": "code",
   "execution_count": null,
   "metadata": {},
   "outputs": [],
   "source": [
    "text_clf = Pipeline([\n",
    "    ('vect' CountVectorizer())\n",
    "    ('tfidf', TfidfTransformer()),\n",
    "    ('clf', LogisticRegression(random_state=RANDOM_SEED, max_iter=1000)),\n",
    "])\n",
    "\n",
    "parameters = {\n",
    "    'vect__ngram_range': [(1, 1), (1, 2)],\n",
    "    'tfidf__use_idf': (True, False),\n",
    "}\n",
    "classifier = GridSearchCV(text_clf, parameters, scoring=make_scorer(r2_score), cv=5, n_jobs=-1)\n",
    "classifier = classifier.fit(x_train, y_train)\n",
    "print(f\"Best parameters: {classifier.best_params_}\")"
   ]
  },
  {
   "cell_type": "code",
   "execution_count": null,
   "metadata": {},
   "outputs": [],
   "source": [
    "y_pred_train, y_pred_test, y_pred_test_class = predict(classifier, x_train, x_test)\n",
    "print_evaluation(y_test, y_pred_test, y_pred_test_class)"
   ]
  },
  {
   "source": [
    "## Classification with another classifier"
   ],
   "cell_type": "markdown",
   "metadata": {}
  },
  {
   "cell_type": "code",
   "execution_count": null,
   "metadata": {},
   "outputs": [],
   "source": [
    "text_clf = Pipeline([\n",
    "    ('vect' CountVectorizer())\n",
    "    ('tfidf', TfidfTransformer()),\n",
    "    ('clf', SGDClassifier(random_state=RANDOM_SEED, loss='hinge', penalty='l2', alpha=1e-3, max_iter=500, tol=None)),\n",
    "])\n",
    "\n",
    "parameters = {\n",
    "    'vect__ngram_range': [(1, 1), (1, 2)],\n",
    "    'tfidf__use_idf': (True, False),\n",
    "    'clf__alpha': (1e-2, 1e-3),\n",
    "}\n",
    "classifier = GridSearchCV(text_clf, parameters, scoring=make_scorer(r2_score), cv=5, n_jobs=-1)\n",
    "classifier = classifier.fit(x_train, y_train)\n",
    "print(f\"Best parameters: {classifier.best_params_}\")"
   ]
  },
  {
   "cell_type": "code",
   "execution_count": null,
   "metadata": {},
   "outputs": [],
   "source": [
    "y_pred_train, y_pred_test, y_pred_test_class = predict(classifier, x_train, x_test)\n",
    "print_evaluation(y_test, y_pred_test, y_pred_test_class)"
   ]
  }
 ]
}