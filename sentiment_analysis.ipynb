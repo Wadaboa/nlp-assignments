{
 "cells": [
  {
   "cell_type": "markdown",
   "metadata": {},
   "source": [
    "# IMDB sentiment analysis"
   ]
  },
  {
   "cell_type": "markdown",
   "metadata": {},
   "source": [
    "This notebook contains an approach to address the task of predicting scores from the famous IMDB movie review dataset. Usually, this dataset is exploited for simple positive/negative sentiment analysis and it has been shown that great results can be obtained by using simple features, like `BoW` (e.g. with `TF-IDF`). \n",
    "\n",
    "Instead, the task of predicting 1 to 10 scores is much more challenging, since, for example, small scale variations in the score value could be due to human arbitrary decisions. Moreover, simple approaches, like the above-mentioned `BoW`, may result in poor classification metrics."
   ]
  },
  {
   "cell_type": "code",
   "execution_count": 4,
   "metadata": {
    "execution": {
     "iopub.execute_input": "2020-11-05T15:45:15.916233Z",
     "iopub.status.busy": "2020-11-05T15:45:15.915808Z",
     "iopub.status.idle": "2020-11-05T15:45:15.930944Z",
     "shell.execute_reply": "2020-11-05T15:45:15.929859Z",
     "shell.execute_reply.started": "2020-11-05T15:45:15.916188Z"
    }
   },
   "outputs": [],
   "source": [
    "import os\n",
    "import re\n",
    "import sys\n",
    "import tarfile\n",
    "import urllib.request\n",
    "from functools import partial\n",
    "\n",
    "import matplotlib.pyplot as plt\n",
    "import numpy as np\n",
    "import pandas as pd\n",
    "import nltk\n",
    "from nltk.corpus import stopwords\n",
    "from nltk.sentiment.util import mark_negation\n",
    "from nltk.tokenize import word_tokenize\n",
    "from sklearn.pipeline import Pipeline\n",
    "from sklearn.feature_selection import SelectKBest, chi2\n",
    "from sklearn.preprocessing import Normalizer\n",
    "from sklearn.model_selection import GridSearchCV\n",
    "from sklearn.feature_extraction.text import (\n",
    "    CountVectorizer,\n",
    "    TfidfTransformer,\n",
    "    TfidfVectorizer,\n",
    ")\n",
    "from sklearn.metrics import (\n",
    "    classification_report,\n",
    "    mean_absolute_error,\n",
    "    mean_squared_error,\n",
    "    plot_confusion_matrix,\n",
    "    r2_score,\n",
    ")\n",
    "from sklearn.linear_model import (\n",
    "    LogisticRegression,\n",
    "    PassiveAggressiveClassifier,\n",
    "    RidgeClassifier,\n",
    ")\n",
    "from sklearn.neighbors import KNeighborsClassifier\n",
    "from sklearn.svm import LinearSVC\n",
    "\n",
    "import utils"
   ]
  },
  {
   "cell_type": "code",
   "execution_count": 5,
   "metadata": {
    "execution": {
     "iopub.execute_input": "2020-11-05T15:45:18.839552Z",
     "iopub.status.busy": "2020-11-05T15:45:18.839109Z",
     "iopub.status.idle": "2020-11-05T15:45:19.136544Z",
     "shell.execute_reply": "2020-11-05T15:45:19.135210Z",
     "shell.execute_reply.started": "2020-11-05T15:45:18.839504Z"
    }
   },
   "outputs": [
    {
     "name": "stderr",
     "output_type": "stream",
     "text": [
      "[nltk_data] Downloading package stopwords to /root/nltk_data...\n",
      "[nltk_data]   Package stopwords is already up-to-date!\n",
      "[nltk_data] Downloading package punkt to /root/nltk_data...\n",
      "[nltk_data]   Package punkt is already up-to-date!\n",
      "[nltk_data] Downloading package wordnet to /root/nltk_data...\n",
      "[nltk_data]   Package wordnet is already up-to-date!\n"
     ]
    },
    {
     "data": {
      "text/plain": [
       "True"
      ]
     },
     "execution_count": 5,
     "metadata": {},
     "output_type": "execute_result"
    }
   ],
   "source": [
    "nltk.download(\"stopwords\")\n",
    "nltk.download(\"punkt\")\n",
    "nltk.download(\"wordnet\")"
   ]
  },
  {
   "cell_type": "code",
   "execution_count": 6,
   "metadata": {
    "execution": {
     "iopub.execute_input": "2020-11-05T15:45:20.569254Z",
     "iopub.status.busy": "2020-11-05T15:45:20.568729Z",
     "iopub.status.idle": "2020-11-05T15:45:20.574848Z",
     "shell.execute_reply": "2020-11-05T15:45:20.573613Z",
     "shell.execute_reply.started": "2020-11-05T15:45:20.569197Z"
    }
   },
   "outputs": [],
   "source": [
    "RANDOM_SEED = 42"
   ]
  },
  {
   "cell_type": "markdown",
   "metadata": {},
   "source": [
    "## Data loading"
   ]
  },
  {
   "cell_type": "markdown",
   "metadata": {},
   "source": [
    "This section is dedicated to downloading the IMDB dataset, extracting it and loading a proper dataframe. If you've already downloaded the dataset, the code below will directly load the pickled dataframe."
   ]
  },
  {
   "cell_type": "code",
   "execution_count": 9,
   "metadata": {
    "execution": {
     "iopub.execute_input": "2020-11-05T15:46:49.404099Z",
     "iopub.status.busy": "2020-11-05T15:46:49.403681Z",
     "iopub.status.idle": "2020-11-05T15:46:49.579799Z",
     "shell.execute_reply": "2020-11-05T15:46:49.578394Z",
     "shell.execute_reply.started": "2020-11-05T15:46:49.404054Z"
    }
   },
   "outputs": [],
   "source": [
    "dataset = utils.IMDBDataset()\n",
    "df = dataset.dataframe"
   ]
  },
  {
   "cell_type": "markdown",
   "metadata": {},
   "source": [
    "Let's have a look at the first few rows of the dataframe itself.. "
   ]
  },
  {
   "cell_type": "code",
   "execution_count": 10,
   "metadata": {
    "execution": {
     "iopub.execute_input": "2020-11-05T15:46:50.316299Z",
     "iopub.status.busy": "2020-11-05T15:46:50.315875Z",
     "iopub.status.idle": "2020-11-05T15:46:50.382674Z",
     "shell.execute_reply": "2020-11-05T15:46:50.381333Z",
     "shell.execute_reply.started": "2020-11-05T15:46:50.316254Z"
    }
   },
   "outputs": [
    {
     "data": {
      "text/html": [
       "<div>\n",
       "<style scoped>\n",
       "    .dataframe tbody tr th:only-of-type {\n",
       "        vertical-align: middle;\n",
       "    }\n",
       "\n",
       "    .dataframe tbody tr th {\n",
       "        vertical-align: top;\n",
       "    }\n",
       "\n",
       "    .dataframe thead th {\n",
       "        text-align: right;\n",
       "    }\n",
       "</style>\n",
       "<table border=\"1\" class=\"dataframe\">\n",
       "  <thead>\n",
       "    <tr style=\"text-align: right;\">\n",
       "      <th></th>\n",
       "      <th>file_id</th>\n",
       "      <th>score</th>\n",
       "      <th>sentiment</th>\n",
       "      <th>split</th>\n",
       "      <th>text</th>\n",
       "    </tr>\n",
       "  </thead>\n",
       "  <tbody>\n",
       "    <tr>\n",
       "      <th>0</th>\n",
       "      <td>2257</td>\n",
       "      <td>7</td>\n",
       "      <td>1</td>\n",
       "      <td>train</td>\n",
       "      <td>Sarafina was a fun movie, and some of the song...</td>\n",
       "    </tr>\n",
       "    <tr>\n",
       "      <th>1</th>\n",
       "      <td>4778</td>\n",
       "      <td>9</td>\n",
       "      <td>1</td>\n",
       "      <td>train</td>\n",
       "      <td>Like his early masterpiece \"The Elephant Man\" ...</td>\n",
       "    </tr>\n",
       "    <tr>\n",
       "      <th>2</th>\n",
       "      <td>7284</td>\n",
       "      <td>8</td>\n",
       "      <td>1</td>\n",
       "      <td>train</td>\n",
       "      <td>When I was young I had seen very few movies. M...</td>\n",
       "    </tr>\n",
       "    <tr>\n",
       "      <th>3</th>\n",
       "      <td>4845</td>\n",
       "      <td>9</td>\n",
       "      <td>1</td>\n",
       "      <td>train</td>\n",
       "      <td>Hello Playmates.I recently watched this film f...</td>\n",
       "    </tr>\n",
       "    <tr>\n",
       "      <th>4</th>\n",
       "      <td>6822</td>\n",
       "      <td>7</td>\n",
       "      <td>1</td>\n",
       "      <td>train</td>\n",
       "      <td>\"Opening Night\" released in 1977, tries to be ...</td>\n",
       "    </tr>\n",
       "  </tbody>\n",
       "</table>\n",
       "</div>"
      ],
      "text/plain": [
       "  file_id  score  sentiment  split  \\\n",
       "0    2257      7          1  train   \n",
       "1    4778      9          1  train   \n",
       "2    7284      8          1  train   \n",
       "3    4845      9          1  train   \n",
       "4    6822      7          1  train   \n",
       "\n",
       "                                                text  \n",
       "0  Sarafina was a fun movie, and some of the song...  \n",
       "1  Like his early masterpiece \"The Elephant Man\" ...  \n",
       "2  When I was young I had seen very few movies. M...  \n",
       "3  Hello Playmates.I recently watched this film f...  \n",
       "4  \"Opening Night\" released in 1977, tries to be ...  "
      ]
     },
     "execution_count": 10,
     "metadata": {},
     "output_type": "execute_result"
    }
   ],
   "source": [
    "df[\"score\"] = pd.to_numeric(df[\"score\"])\n",
    "df.head()"
   ]
  },
  {
   "cell_type": "markdown",
   "metadata": {},
   "source": [
    "## Data exploration"
   ]
  },
  {
   "cell_type": "markdown",
   "metadata": {},
   "source": [
    "Below we can see that the number of examples in classes 1 and 10 is much higher than the number of examples in the other classes. This means that most probably our classification results will be skewed towards very high or very low classes. This aspect is also reinforced by the inherent difficulty of the task, i.e. it is easy to discriminate between positive and negative reviews, while it may be very difficult to obtain a good estimate of the exact score number."
   ]
  },
  {
   "cell_type": "code",
   "execution_count": 6,
   "metadata": {
    "execution": {
     "iopub.execute_input": "2020-10-24T11:44:23.681910Z",
     "iopub.status.busy": "2020-10-24T11:44:23.681461Z",
     "iopub.status.idle": "2020-10-24T11:44:23.696948Z",
     "shell.execute_reply": "2020-10-24T11:44:23.695581Z",
     "shell.execute_reply.started": "2020-10-24T11:44:23.681845Z"
    }
   },
   "outputs": [
    {
     "name": "stdout",
     "output_type": "stream",
     "text": [
      "Distribution of scores: \n"
     ]
    },
    {
     "data": {
      "text/plain": [
       "1     10122\n",
       "10     9731\n",
       "8      5859\n",
       "4      5331\n",
       "3      4961\n",
       "7      4803\n",
       "9      4607\n",
       "2      4586\n",
       "Name: score, dtype: int64"
      ]
     },
     "execution_count": 6,
     "metadata": {},
     "output_type": "execute_result"
    }
   ],
   "source": [
    "print(\"Distribution of scores: \")\n",
    "df[\"score\"].value_counts()"
   ]
  },
  {
   "cell_type": "code",
   "execution_count": 7,
   "metadata": {
    "execution": {
     "iopub.execute_input": "2020-10-24T11:44:24.362697Z",
     "iopub.status.busy": "2020-10-24T11:44:24.362348Z",
     "iopub.status.idle": "2020-10-24T11:44:24.370593Z",
     "shell.execute_reply": "2020-10-24T11:44:24.369145Z",
     "shell.execute_reply.started": "2020-10-24T11:44:24.362656Z"
    }
   },
   "outputs": [
    {
     "name": "stdout",
     "output_type": "stream",
     "text": [
      "Score labels: [1, 2, 3, 4, 7, 8, 9, 10]\n"
     ]
    }
   ],
   "source": [
    "score_labels = sorted(df[\"score\"].unique())\n",
    "print(f\"Score labels: {score_labels}\")"
   ]
  },
  {
   "cell_type": "markdown",
   "metadata": {},
   "source": [
    "Something which may be worth considering is that some reviews are present multiple times in the dataset. The strange thing is that we don't observe real duplicates (since rows are unique), but we can see that some texts are present more than once in the dataset.\n",
    "\n",
    "In theory, this could get us in trouble with some estimators, like naive Bayes, which assumes i.i.d. samples."
   ]
  },
  {
   "cell_type": "code",
   "execution_count": 136,
   "metadata": {},
   "outputs": [
    {
     "name": "stdout",
     "output_type": "stream",
     "text": [
      "Number of duplicated texts: 418\n",
      "Number of duplicated rows: 0\n"
     ]
    }
   ],
   "source": [
    "num_dup_texts = df[\"text\"].duplicated().value_counts()[True]\n",
    "num_dup_rows = (\n",
    "    num_dup_texts - df.drop_duplicates()[\"text\"].duplicated().value_counts()[True]\n",
    ")\n",
    "print(f\"Number of duplicated texts: {num_dup_texts}\")\n",
    "print(f\"Number of duplicated rows: {num_dup_rows}\")"
   ]
  },
  {
   "cell_type": "markdown",
   "metadata": {},
   "source": [
    "To check how duplicates are formed, we group them by the `text` column and aggregate values of other columns present in different rows of the same group. In particular, we use a `frozenset` aggregation, in order to have an hashable iterable structure. "
   ]
  },
  {
   "cell_type": "code",
   "execution_count": 93,
   "metadata": {},
   "outputs": [
    {
     "data": {
      "text/html": [
       "<div>\n",
       "<style scoped>\n",
       "    .dataframe tbody tr th:only-of-type {\n",
       "        vertical-align: middle;\n",
       "    }\n",
       "\n",
       "    .dataframe tbody tr th {\n",
       "        vertical-align: top;\n",
       "    }\n",
       "\n",
       "    .dataframe thead th {\n",
       "        text-align: right;\n",
       "    }\n",
       "</style>\n",
       "<table border=\"1\" class=\"dataframe\">\n",
       "  <thead>\n",
       "    <tr style=\"text-align: right;\">\n",
       "      <th></th>\n",
       "      <th>file_id</th>\n",
       "      <th>score</th>\n",
       "      <th>sentiment</th>\n",
       "      <th>split</th>\n",
       "    </tr>\n",
       "    <tr>\n",
       "      <th>text</th>\n",
       "      <th></th>\n",
       "      <th></th>\n",
       "      <th></th>\n",
       "      <th></th>\n",
       "    </tr>\n",
       "  </thead>\n",
       "  <tbody>\n",
       "    <tr>\n",
       "      <th>\"Go Fish\" garnered Rose Troche rightly or wrongly the reputation of a film maker with much promise.&lt;br /&gt;&lt;br /&gt;Its then hard to understand how she could turn out a movie made up of stereotypes that one associates with inferior sitcoms. The entire film rings hollow. I cringed the whole way through.&lt;br /&gt;&lt;br /&gt;Its supposed to be a look into nineties human sexuality. Well not much more here to be learned than from \"In and Out\". By now most of us actually do know, that there are men who are sexually attracted to women and there men who are sexually attracted to men and there are even men sexually attracted to both sexes. &lt;br /&gt;&lt;br /&gt;Seldom has this revelation been portrayed on the screen with so little wit and style.&lt;br /&gt;&lt;br /&gt;Pathetic.</th>\n",
       "      <td>(2183, 10977)</td>\n",
       "      <td>(2)</td>\n",
       "      <td>(0)</td>\n",
       "      <td>(test)</td>\n",
       "    </tr>\n",
       "    <tr>\n",
       "      <th>\"Three\" is a seriously dumb shipwreck movie. Masquerading as a psychological thriller, it's closest relative is the monumentally superior \"Dead Calm\" (also featuring Billy Zane). \"Dead Calm\" provided well drawn characters to root for in the form of Sam Neil and Nicole Kidman's grieving parents attempting to re-define their relationship on an ocean cruise. They end up being terrorised by Zane's adrift psycho-killer. It provided sharp, increasingly ratcheted suspense, a scary feeling of claustrophobia in open seas as the cat and mouse game of life and death unfolded.&lt;br /&gt;&lt;br /&gt;\"Three\" suffers from poorly drawn characterisation (the audience doesn't care what happens to any of them), a stupid and unnecessary voodoo plot device, a total lack of suspense or excitement and some thudding, hammy performances from the principal players. Zane in particular goes way over the top in an irritatingly mannered fashion. In \"Dead Calm\" he was menacing, wired and seething with barely controlled sexual violence. Here he is bombastic, petulant slimy, and unravelled. And where does he get his seemingly inexhaustible supply of dry cigarettes and cigars? And how come his lighter stays full of juice for over a year? Ms Brook is very picturesque, stunningly pretty, but both her chest and rear appear to have been wildly over-inflated by some sort of life-raft pump. They do, however, succeed in acting with more skill and conviction than the rest of her. Dramatic actress, in the purest sense of the term, she is not. The guy playing the voodoo-hexed Manuel, the third component of this sorry triangle, could have been replaced by a lump of driftwood - no one would notice. In fact, judging by his complete lack of ability to deliver dialogue in any meaningful or dynamic way, driftwood represents a potential improvement in the casting stakes (excuse pun).&lt;br /&gt;&lt;br /&gt;Plus sides: the scenery is nice and the cinematography (above and below the water) is credible.&lt;br /&gt;&lt;br /&gt;I'm guessing this had a very limited (if any) theatrical release or went straight to rental and retail DVD. The reason for this is it's not very good. If you want something decent along these lines, get \"Dead Calm.\" It was made by people who knew a bit about cinema.</th>\n",
       "      <td>(6089, 4129)</td>\n",
       "      <td>(3)</td>\n",
       "      <td>(0)</td>\n",
       "      <td>(test)</td>\n",
       "    </tr>\n",
       "    <tr>\n",
       "      <th>\"Witchery\" might just be the most incoherent and lamentably scripted horror movie of the 80's but, luckily enough, it has a few compensating qualities like fantastic gore effects, an exhilarating musical score and some terrific casting choices. Honestly the screenplay doesn't make one iota of sense, but who cares when Linda Blair (with an exploded hairstyle) portrays yet another girl possessed by evil powers and David Hasselhof depicts a hunky photographer (who can't seem to get laid) in a movie that constantly features bloody voodoo, sewn-shut lips, upside down crucifixions, vicious burnings and an overused but genuinely creepy tune. Eight random people are gathered together on an abandoned vacation resort island off the coast of Massachusetts. The young couple is there to investigate the place's dark history; the dysfunctional family (with a pregnant Linda Blair even though nobody seems to bother about who the father is and what his whereabouts are) considers re-opening the hotel and the yummy female architect simply tagged along for casual sex. They're forced to stay the night in the ramshackle hotel and then suddenly the previous landlady  an aging actress or something who always dresses in black  starts taking them out in various engrossing ways. Everything is somehow related to the intro sequence showing a woman accused of witchery jump out of a window. Anyway, the plot is definitely of minor importance in an Italian horror franchise that started as an unofficial spin-off of \"The Evil Dead\". The atmosphere is occasionally unsettling and the make-up effects are undoubtedly the most superior element of the entire film. There's something supremely morbid and unsettling about staring at a defenseless woman hanging upside down a chimney and waiting to get fried.</th>\n",
       "      <td>(12298, 69)</td>\n",
       "      <td>(4)</td>\n",
       "      <td>(0)</td>\n",
       "      <td>(test, train)</td>\n",
       "    </tr>\n",
       "    <tr>\n",
       "      <th>'Dead Letter Office' is a low-budget film about a couple of employees of the Australian postal service, struggling to rebuild their damaged lives. Unfortunately, the acting is poor and the links between the characters' past misfortunes and present mindsets are clumsily and over-schematically represented. What's most disappointing of all, however, is the portrayal is life in the office of the film's title: there's no mechanisation whatsoever, and it's quite impossible to ascertain what any of the staff really do for a living. Granted, part of the plot is that the office is threatened with closure, but this sort of office surely closed in the 1930s, if it ever truly existed. It's a shame, as the film's overall tone is poignant and wry, and there's some promise in the scenario: but few of the details convince. Overall, it feels the work of someone who hasn't actually experienced much of real life; a student film, with a concept and an outline, but sadly little else.</th>\n",
       "      <td>(985, 4102)</td>\n",
       "      <td>(4)</td>\n",
       "      <td>(0)</td>\n",
       "      <td>(train)</td>\n",
       "    </tr>\n",
       "    <tr>\n",
       "      <th>(Spoilers)&lt;br /&gt;&lt;br /&gt;Oh sure it's based on Moby Dick. Totally obsessed and it destroy's him. It's a total folly. The movie starts off rather well, but by the end of the film, everyone else is destroyed and the main star's mind is a blank.&lt;br /&gt;&lt;br /&gt;The supposed half sister is never convincing. Some very poor lighting effects. Music is interesting. But little else. It took me over a month to finally finish the darn thing. I suppose if you like Being John Malkovich, you might like this. But where as BJM was a great movie that I just didn't want to watch again, Pola X is a movie I just hate to high hell. The only possible excitement in the film is the gratuatious incest sexual scene towards the end of the film. (Hopefully yer not thinking of Catherine either.)&lt;br /&gt;&lt;br /&gt;This movie is severely boring, depressing, and poorly directed. Not highly recommended. If if you like french movies. (go watch Crimson Rivers instead)&lt;br /&gt;&lt;br /&gt;4/10&lt;br /&gt;&lt;br /&gt;Quality: 5/10 Entertainment: 1/10 Replayable: 0/10</th>\n",
       "      <td>(3343, 3124)</td>\n",
       "      <td>(4)</td>\n",
       "      <td>(0)</td>\n",
       "      <td>(test)</td>\n",
       "    </tr>\n",
       "  </tbody>\n",
       "</table>\n",
       "</div>"
      ],
      "text/plain": [
       "                                                          file_id score  \\\n",
       "text                                                                      \n",
       "\"Go Fish\" garnered Rose Troche rightly or wrong...  (2183, 10977)   (2)   \n",
       "\"Three\" is a seriously dumb shipwreck movie. Ma...   (6089, 4129)   (3)   \n",
       "\"Witchery\" might just be the most incoherent an...    (12298, 69)   (4)   \n",
       "'Dead Letter Office' is a low-budget film about...    (985, 4102)   (4)   \n",
       "(Spoilers)<br /><br />Oh sure it's based on Mob...   (3343, 3124)   (4)   \n",
       "\n",
       "                                                   sentiment          split  \n",
       "text                                                                         \n",
       "\"Go Fish\" garnered Rose Troche rightly or wrong...       (0)         (test)  \n",
       "\"Three\" is a seriously dumb shipwreck movie. Ma...       (0)         (test)  \n",
       "\"Witchery\" might just be the most incoherent an...       (0)  (test, train)  \n",
       "'Dead Letter Office' is a low-budget film about...       (0)        (train)  \n",
       "(Spoilers)<br /><br />Oh sure it's based on Mob...       (0)         (test)  "
      ]
     },
     "execution_count": 93,
     "metadata": {},
     "output_type": "execute_result"
    }
   ],
   "source": [
    "dup_texts = (\n",
    "    df[df[\"text\"].duplicated(keep=False)]\n",
    "    .groupby(\"text\")\n",
    "    .agg(\n",
    "        {\n",
    "            \"file_id\": frozenset,\n",
    "            \"score\": frozenset,\n",
    "            \"sentiment\": frozenset,\n",
    "            \"split\": frozenset,\n",
    "        }\n",
    "    )\n",
    ")\n",
    "dup_texts.head()"
   ]
  },
  {
   "cell_type": "markdown",
   "metadata": {},
   "source": [
    "We might want to check the dataframe to see if these duplicates are actually present.. and indeed they are."
   ]
  },
  {
   "cell_type": "code",
   "execution_count": 128,
   "metadata": {},
   "outputs": [
    {
     "data": {
      "text/html": [
       "<div>\n",
       "<style scoped>\n",
       "    .dataframe tbody tr th:only-of-type {\n",
       "        vertical-align: middle;\n",
       "    }\n",
       "\n",
       "    .dataframe tbody tr th {\n",
       "        vertical-align: top;\n",
       "    }\n",
       "\n",
       "    .dataframe thead th {\n",
       "        text-align: right;\n",
       "    }\n",
       "</style>\n",
       "<table border=\"1\" class=\"dataframe\">\n",
       "  <thead>\n",
       "    <tr style=\"text-align: right;\">\n",
       "      <th></th>\n",
       "      <th>file_id</th>\n",
       "      <th>score</th>\n",
       "      <th>sentiment</th>\n",
       "      <th>split</th>\n",
       "      <th>text</th>\n",
       "    </tr>\n",
       "  </thead>\n",
       "  <tbody>\n",
       "    <tr>\n",
       "      <th>3178</th>\n",
       "      <td>12298</td>\n",
       "      <td>8</td>\n",
       "      <td>1</td>\n",
       "      <td>train</td>\n",
       "      <td>After Garbo's introduction to sound in Clarenc...</td>\n",
       "    </tr>\n",
       "    <tr>\n",
       "      <th>18717</th>\n",
       "      <td>12298</td>\n",
       "      <td>4</td>\n",
       "      <td>0</td>\n",
       "      <td>train</td>\n",
       "      <td>\"Witchery\" might just be the most incoherent a...</td>\n",
       "    </tr>\n",
       "    <tr>\n",
       "      <th>27359</th>\n",
       "      <td>12298</td>\n",
       "      <td>9</td>\n",
       "      <td>1</td>\n",
       "      <td>test</td>\n",
       "      <td>When Melville's \"Pierre; or The Ambiguities\" h...</td>\n",
       "    </tr>\n",
       "    <tr>\n",
       "      <th>42806</th>\n",
       "      <td>12298</td>\n",
       "      <td>2</td>\n",
       "      <td>0</td>\n",
       "      <td>test</td>\n",
       "      <td>Unfortunately, this movie is absolutely terrib...</td>\n",
       "    </tr>\n",
       "  </tbody>\n",
       "</table>\n",
       "</div>"
      ],
      "text/plain": [
       "      file_id  score  sentiment  split  \\\n",
       "3178    12298      8          1  train   \n",
       "18717   12298      4          0  train   \n",
       "27359   12298      9          1   test   \n",
       "42806   12298      2          0   test   \n",
       "\n",
       "                                                    text  \n",
       "3178   After Garbo's introduction to sound in Clarenc...  \n",
       "18717  \"Witchery\" might just be the most incoherent a...  \n",
       "27359  When Melville's \"Pierre; or The Ambiguities\" h...  \n",
       "42806  Unfortunately, this movie is absolutely terrib...  "
      ]
     },
     "execution_count": 128,
     "metadata": {},
     "output_type": "execute_result"
    }
   ],
   "source": [
    "df.loc[df[\"file_id\"] == \"12298\"]"
   ]
  },
  {
   "cell_type": "code",
   "execution_count": 126,
   "metadata": {},
   "outputs": [
    {
     "data": {
      "text/html": [
       "<div>\n",
       "<style scoped>\n",
       "    .dataframe tbody tr th:only-of-type {\n",
       "        vertical-align: middle;\n",
       "    }\n",
       "\n",
       "    .dataframe tbody tr th {\n",
       "        vertical-align: top;\n",
       "    }\n",
       "\n",
       "    .dataframe thead th {\n",
       "        text-align: right;\n",
       "    }\n",
       "</style>\n",
       "<table border=\"1\" class=\"dataframe\">\n",
       "  <thead>\n",
       "    <tr style=\"text-align: right;\">\n",
       "      <th></th>\n",
       "      <th>file_id</th>\n",
       "      <th>score</th>\n",
       "      <th>sentiment</th>\n",
       "      <th>split</th>\n",
       "      <th>text</th>\n",
       "    </tr>\n",
       "  </thead>\n",
       "  <tbody>\n",
       "    <tr>\n",
       "      <th>3366</th>\n",
       "      <td>69</td>\n",
       "      <td>10</td>\n",
       "      <td>1</td>\n",
       "      <td>train</td>\n",
       "      <td>I was up late flipping cable channels one nigh...</td>\n",
       "    </tr>\n",
       "    <tr>\n",
       "      <th>24624</th>\n",
       "      <td>69</td>\n",
       "      <td>4</td>\n",
       "      <td>0</td>\n",
       "      <td>train</td>\n",
       "      <td>I thought this was a very clunky, uninvolving ...</td>\n",
       "    </tr>\n",
       "    <tr>\n",
       "      <th>28426</th>\n",
       "      <td>69</td>\n",
       "      <td>10</td>\n",
       "      <td>1</td>\n",
       "      <td>test</td>\n",
       "      <td>i found the story to be just enough of a thril...</td>\n",
       "    </tr>\n",
       "    <tr>\n",
       "      <th>49642</th>\n",
       "      <td>69</td>\n",
       "      <td>4</td>\n",
       "      <td>0</td>\n",
       "      <td>test</td>\n",
       "      <td>\"Witchery\" might just be the most incoherent a...</td>\n",
       "    </tr>\n",
       "  </tbody>\n",
       "</table>\n",
       "</div>"
      ],
      "text/plain": [
       "      file_id  score  sentiment  split  \\\n",
       "3366       69     10          1  train   \n",
       "24624      69      4          0  train   \n",
       "28426      69     10          1   test   \n",
       "49642      69      4          0   test   \n",
       "\n",
       "                                                    text  \n",
       "3366   I was up late flipping cable channels one nigh...  \n",
       "24624  I thought this was a very clunky, uninvolving ...  \n",
       "28426  i found the story to be just enough of a thril...  \n",
       "49642  \"Witchery\" might just be the most incoherent a...  "
      ]
     },
     "execution_count": 126,
     "metadata": {},
     "output_type": "execute_result"
    }
   ],
   "source": [
    "df.loc[df[\"file_id\"] == \"69\"]"
   ]
  },
  {
   "cell_type": "code",
   "execution_count": 127,
   "metadata": {},
   "outputs": [
    {
     "data": {
      "text/plain": [
       "file_id      False\n",
       "score         True\n",
       "sentiment     True\n",
       "split        False\n",
       "text          True\n",
       "dtype: bool"
      ]
     },
     "execution_count": 127,
     "metadata": {},
     "output_type": "execute_result"
    }
   ],
   "source": [
    "df.iloc[18717] == df.iloc[49642]"
   ]
  },
  {
   "cell_type": "code",
   "execution_count": 129,
   "metadata": {},
   "outputs": [
    {
     "data": {
      "text/html": [
       "<div>\n",
       "<style scoped>\n",
       "    .dataframe tbody tr th:only-of-type {\n",
       "        vertical-align: middle;\n",
       "    }\n",
       "\n",
       "    .dataframe tbody tr th {\n",
       "        vertical-align: top;\n",
       "    }\n",
       "\n",
       "    .dataframe thead th {\n",
       "        text-align: right;\n",
       "    }\n",
       "</style>\n",
       "<table border=\"1\" class=\"dataframe\">\n",
       "  <thead>\n",
       "    <tr style=\"text-align: right;\">\n",
       "      <th></th>\n",
       "      <th>file_id</th>\n",
       "      <th>score</th>\n",
       "      <th>sentiment</th>\n",
       "      <th>split</th>\n",
       "      <th>text</th>\n",
       "    </tr>\n",
       "  </thead>\n",
       "  <tbody>\n",
       "    <tr>\n",
       "      <th>10125</th>\n",
       "      <td>4129</td>\n",
       "      <td>10</td>\n",
       "      <td>1</td>\n",
       "      <td>train</td>\n",
       "      <td>It's a cooking competition show, Americanized....</td>\n",
       "    </tr>\n",
       "    <tr>\n",
       "      <th>18566</th>\n",
       "      <td>4129</td>\n",
       "      <td>1</td>\n",
       "      <td>0</td>\n",
       "      <td>train</td>\n",
       "      <td>After watching about half of this I was ready ...</td>\n",
       "    </tr>\n",
       "    <tr>\n",
       "      <th>31341</th>\n",
       "      <td>4129</td>\n",
       "      <td>8</td>\n",
       "      <td>1</td>\n",
       "      <td>test</td>\n",
       "      <td>The movie has taken a little flack for playing...</td>\n",
       "    </tr>\n",
       "    <tr>\n",
       "      <th>43466</th>\n",
       "      <td>4129</td>\n",
       "      <td>3</td>\n",
       "      <td>0</td>\n",
       "      <td>test</td>\n",
       "      <td>\"Three\" is a seriously dumb shipwreck movie. M...</td>\n",
       "    </tr>\n",
       "  </tbody>\n",
       "</table>\n",
       "</div>"
      ],
      "text/plain": [
       "      file_id  score  sentiment  split  \\\n",
       "10125    4129     10          1  train   \n",
       "18566    4129      1          0  train   \n",
       "31341    4129      8          1   test   \n",
       "43466    4129      3          0   test   \n",
       "\n",
       "                                                    text  \n",
       "10125  It's a cooking competition show, Americanized....  \n",
       "18566  After watching about half of this I was ready ...  \n",
       "31341  The movie has taken a little flack for playing...  \n",
       "43466  \"Three\" is a seriously dumb shipwreck movie. M...  "
      ]
     },
     "execution_count": 129,
     "metadata": {},
     "output_type": "execute_result"
    }
   ],
   "source": [
    "df.loc[df[\"file_id\"] == \"4129\"]"
   ]
  },
  {
   "cell_type": "code",
   "execution_count": 130,
   "metadata": {},
   "outputs": [
    {
     "data": {
      "text/html": [
       "<div>\n",
       "<style scoped>\n",
       "    .dataframe tbody tr th:only-of-type {\n",
       "        vertical-align: middle;\n",
       "    }\n",
       "\n",
       "    .dataframe tbody tr th {\n",
       "        vertical-align: top;\n",
       "    }\n",
       "\n",
       "    .dataframe thead th {\n",
       "        text-align: right;\n",
       "    }\n",
       "</style>\n",
       "<table border=\"1\" class=\"dataframe\">\n",
       "  <thead>\n",
       "    <tr style=\"text-align: right;\">\n",
       "      <th></th>\n",
       "      <th>file_id</th>\n",
       "      <th>score</th>\n",
       "      <th>sentiment</th>\n",
       "      <th>split</th>\n",
       "      <th>text</th>\n",
       "    </tr>\n",
       "  </thead>\n",
       "  <tbody>\n",
       "    <tr>\n",
       "      <th>1502</th>\n",
       "      <td>6089</td>\n",
       "      <td>10</td>\n",
       "      <td>1</td>\n",
       "      <td>train</td>\n",
       "      <td>OK, I overrated it just a bit to offset at lea...</td>\n",
       "    </tr>\n",
       "    <tr>\n",
       "      <th>23892</th>\n",
       "      <td>6089</td>\n",
       "      <td>4</td>\n",
       "      <td>0</td>\n",
       "      <td>train</td>\n",
       "      <td>I like movies about UFOs, which is why I recen...</td>\n",
       "    </tr>\n",
       "    <tr>\n",
       "      <th>26522</th>\n",
       "      <td>6089</td>\n",
       "      <td>10</td>\n",
       "      <td>1</td>\n",
       "      <td>test</td>\n",
       "      <td>TEP is like a long cool drink of water after c...</td>\n",
       "    </tr>\n",
       "    <tr>\n",
       "      <th>43736</th>\n",
       "      <td>6089</td>\n",
       "      <td>3</td>\n",
       "      <td>0</td>\n",
       "      <td>test</td>\n",
       "      <td>\"Three\" is a seriously dumb shipwreck movie. M...</td>\n",
       "    </tr>\n",
       "  </tbody>\n",
       "</table>\n",
       "</div>"
      ],
      "text/plain": [
       "      file_id  score  sentiment  split  \\\n",
       "1502     6089     10          1  train   \n",
       "23892    6089      4          0  train   \n",
       "26522    6089     10          1   test   \n",
       "43736    6089      3          0   test   \n",
       "\n",
       "                                                    text  \n",
       "1502   OK, I overrated it just a bit to offset at lea...  \n",
       "23892  I like movies about UFOs, which is why I recen...  \n",
       "26522  TEP is like a long cool drink of water after c...  \n",
       "43736  \"Three\" is a seriously dumb shipwreck movie. M...  "
      ]
     },
     "execution_count": 130,
     "metadata": {},
     "output_type": "execute_result"
    }
   ],
   "source": [
    "df.loc[df[\"file_id\"] == \"6089\"]"
   ]
  },
  {
   "cell_type": "code",
   "execution_count": 131,
   "metadata": {},
   "outputs": [
    {
     "data": {
      "text/plain": [
       "file_id      False\n",
       "score         True\n",
       "sentiment     True\n",
       "split         True\n",
       "text          True\n",
       "dtype: bool"
      ]
     },
     "execution_count": 131,
     "metadata": {},
     "output_type": "execute_result"
    }
   ],
   "source": [
    "df.iloc[43466] == df.iloc[43736]"
   ]
  },
  {
   "cell_type": "markdown",
   "metadata": {},
   "source": [
    "We can observe that duplicated texts are $\\dots$\n",
    "- $\\dots$ not due to the sentiment column\n",
    "- $\\dots$ not so much related to scores (just few duplicated examples have different score values)\n",
    "- $\\dots$ given by the same text being in the train and test split (which could lead to better prediction accuracy not reflecting the truth)\n",
    "- $\\dots$ given by the same file being repeated with a different `file_id`"
   ]
  },
  {
   "cell_type": "code",
   "execution_count": 96,
   "metadata": {},
   "outputs": [
    {
     "data": {
      "text/plain": [
       "score      (1)              143.0\n",
       "           (3)               57.0\n",
       "           (10)              54.0\n",
       "           (2)               48.0\n",
       "           (4)               47.0\n",
       "           (9)               20.0\n",
       "           (8)               17.0\n",
       "           (7)               16.0\n",
       "           (10, 7)            1.0\n",
       "           (3, 4)             1.0\n",
       "           (8, 7)             1.0\n",
       "           (8, 10)            1.0\n",
       "sentiment  (1)              110.0\n",
       "           (0)              296.0\n",
       "split      (test)           191.0\n",
       "           (train)           92.0\n",
       "           (test, train)    123.0\n",
       "dtype: float64"
      ]
     },
     "execution_count": 96,
     "metadata": {},
     "output_type": "execute_result"
    }
   ],
   "source": [
    "dup_texts.drop(\"file_id\", axis=1).apply(lambda x: x.value_counts()).T.stack()"
   ]
  },
  {
   "cell_type": "markdown",
   "metadata": {},
   "source": [
    "So, we can decide to drop those duplicates so as to get less skewed estimates at prediction time (we will keep the dataframe with no duplicates separated from the original one, in order to be able to compare results)."
   ]
  },
  {
   "cell_type": "code",
   "execution_count": 62,
   "metadata": {
    "execution": {
     "iopub.execute_input": "2020-10-24T15:29:30.362211Z",
     "iopub.status.busy": "2020-10-24T15:29:30.361738Z",
     "iopub.status.idle": "2020-10-24T15:29:30.509284Z",
     "shell.execute_reply": "2020-10-24T15:29:30.507970Z",
     "shell.execute_reply.started": "2020-10-24T15:29:30.362159Z"
    }
   },
   "outputs": [],
   "source": [
    "df_nodups = df.drop(df[df[\"text\"].duplicated()].index)"
   ]
  },
  {
   "cell_type": "markdown",
   "metadata": {},
   "source": [
    "Let's check if there are reviews with a low number of characters, which could be removed from the dataset, since they shouldn't bring too much information.\n",
    "\n",
    "Since there are only a handful of small reviews, we will keep them."
   ]
  },
  {
   "cell_type": "code",
   "execution_count": 118,
   "metadata": {},
   "outputs": [
    {
     "data": {
      "text/plain": [
       "37688    I hope this group of film-makers never re-unites.\n",
       "47910            What a script, what a story, what a mess!\n",
       "49540                     Read the book, forget the movie!\n",
       "Name: text, dtype: object"
      ]
     },
     "execution_count": 118,
     "metadata": {},
     "output_type": "execute_result"
    }
   ],
   "source": [
    "sentences = df[\"text\"]\n",
    "sentences[sentences.str.len() <= 50]"
   ]
  },
  {
   "cell_type": "markdown",
   "metadata": {},
   "source": [
    "To continue with data exploration, we wish to check for the words which have the highest frequency in the dataset, after a certain probability mass (to avoid corpus-specific stopwords)."
   ]
  },
  {
   "cell_type": "code",
   "execution_count": 7,
   "metadata": {},
   "outputs": [
    {
     "name": "stdout",
     "output_type": "stream",
     "text": [
      "Number of different words in class 1: 61170\n",
      "10 most frequent (after 0.7 frequency) words in class 1:\n",
      "['book', 'maybe', 'gets', 'almost', 'may', '2', 'sure', 'since', 'however', '..']\n",
      "\n",
      "Number of different words in class 2: 44293\n",
      "10 most frequent (after 0.7 frequency) words in class 2:\n",
      "['rather', 'own', 'budget', 'sense', 'actor', 'both', 'feel', 'yet', 'having', 'half']\n",
      "\n",
      "Number of different words in class 3: 49303\n",
      "10 most frequent (after 0.7 frequency) words in class 3:\n",
      "['screen', 'audience', 'stupid', 'family', 'actor', 'house', 'rest', 'sex', 'once', 'during']\n",
      "\n",
      "Number of different words in class 4: 52665\n",
      "10 most frequent (after 0.7 frequency) words in class 4:\n",
      "['actor', 'death', 'different', 'help', 'fan', 'together', 'takes', 'each', 'less', 'house']\n",
      "\n",
      "Number of different words in class 7: 50749\n",
      "10 most frequent (after 0.7 frequency) words in class 7:\n",
      "['\\x96', 'until', 'second', 'believe', 'keep', 'kids', 'become', 'small', 'hollywood', 'production']\n",
      "\n",
      "Number of different words in class 8: 55589\n",
      "10 most frequent (after 0.7 frequency) words in class 8:\n",
      "['watched', 'said', 'works', 'fan', 'couple', \"'d\", 'someone', 'human', 'loved', 'others']\n",
      "\n",
      "Number of different words in class 9: 47572\n",
      "10 most frequent (after 0.7 frequency) words in class 9:\n",
      "['let', 'said', 'short', 'small', 'seem', 'mind', 'until', 'others', 'need', 'definitely']\n",
      "\n",
      "Number of different words in class 10: 63246\n",
      "10 most frequent (after 0.7 frequency) words in class 10:\n",
      "['american', 'three', 'fan', 'father', 'later', 'mind', 'goes', 'version', 'black', 'night']\n",
      "\n"
     ]
    }
   ],
   "source": [
    "def compute_freqs(words, top, thresh):\n",
    "    \"\"\"\n",
    "    Return the `top` most frequent words of the dataset,\n",
    "    after filtering them to be after `thresh` frequency \n",
    "    \"\"\"\n",
    "    fdist = nltk.FreqDist(words)\n",
    "    common = {\n",
    "        k: fdist.freq(k)\n",
    "        for k, _ in sorted(fdist.items(), key=lambda i: i[1], reverse=True)\n",
    "    }\n",
    "    words = list(common.keys())\n",
    "    freqs = list(common.values())\n",
    "    common_cumulative = {k: sum(freqs[:i]) for i, k in enumerate(words)}\n",
    "    return [k for k, v in common_cumulative.items() if v >= thresh][:top]\n",
    "\n",
    "\n",
    "def print_df_freqs(dataframe, top=10, thresh=0.7):\n",
    "    \"\"\"\n",
    "    Print the `top` most frequent words of the dataset,\n",
    "    for each class\n",
    "    \"\"\"\n",
    "    for c in score_labels:\n",
    "        words = []\n",
    "        text = df.query(f\"score == {c}\")[\"text\"].to_numpy()\n",
    "        for t in text:\n",
    "            words.extend(word_tokenize(t.lower()))\n",
    "        print(f\"Number of different words in class {c}: {len(set(words))}\")\n",
    "        common = compute_freqs(words, top=top, thresh=thresh)\n",
    "        print(f\"{top} most frequent (after {thresh} frequency) words in class {c}:\")\n",
    "        print(common)\n",
    "        print()\n",
    "\n",
    "\n",
    "print_df_freqs(df)"
   ]
  },
  {
   "cell_type": "markdown",
   "metadata": {},
   "source": [
    "Now, let's see how much we can improve the quality of the dataset by using some ad-hoc regular expressions. In particular, we can observe that decimal numbers and HTML tags are present in a lot of examples."
   ]
  },
  {
   "cell_type": "code",
   "execution_count": 8,
   "metadata": {
    "execution": {
     "iopub.execute_input": "2020-10-24T11:44:33.383164Z",
     "iopub.status.busy": "2020-10-24T11:44:33.382727Z",
     "iopub.status.idle": "2020-10-24T11:44:34.017714Z",
     "shell.execute_reply": "2020-10-24T11:44:34.016591Z",
     "shell.execute_reply.started": "2020-10-24T11:44:33.383120Z"
    }
   },
   "outputs": [
    {
     "name": "stdout",
     "output_type": "stream",
     "text": [
      "Number of texts with dates:\n",
      "False    49997\n",
      "True         3\n",
      "Name: text, dtype: int64\n",
      "\n",
      "Number of texts with decimal numbers:\n",
      "False    49814\n",
      "True       186\n",
      "Name: text, dtype: int64\n",
      "\n",
      "Number of texts with integers:\n",
      "False    50000\n",
      "Name: text, dtype: int64\n",
      "\n",
      "Number of texts with elements in square brackets:\n",
      "False    49987\n",
      "True        13\n",
      "Name: text, dtype: int64\n",
      "\n",
      "Number of texts with HTML tags:\n",
      "False    49846\n",
      "True       154\n",
      "Name: text, dtype: int64\n",
      "\n"
     ]
    }
   ],
   "source": [
    "def re_match(regex, text):\n",
    "    \"\"\"\n",
    "    Return True if the given regex matches inside the given text,\n",
    "    otherwise return False\n",
    "    \"\"\"\n",
    "    return re.match(regex, text) is not None\n",
    "\n",
    "\n",
    "# Find dates\n",
    "DATE_RE = r\"\\d{1,2}[-\\/\\.]\\d{1,2}[-\\/\\.]\\d{2,4}\"\n",
    "num_dates = df[\"text\"].map(partial(re_match, DATE_RE)).value_counts()\n",
    "print(\"Number of texts with dates:\")\n",
    "print(num_dates)\n",
    "print()\n",
    "\n",
    "# Find floats\n",
    "FLOAT_RE = r\"(\\d*\\,)?\\d+.\\d*\"\n",
    "num_floats = df[\"text\"].map(partial(re_match, FLOAT_RE)).value_counts()\n",
    "print(\"Number of texts with decimal numbers:\")\n",
    "print(num_floats)\n",
    "print()\n",
    "\n",
    "# Find ints\n",
    "INT_RE = r\"(?<=\\s)\\d+(?=\\s)\"\n",
    "num_ints = df[\"text\"].map(partial(re_match, INT_RE)).value_counts()\n",
    "print(\"Number of texts with integers:\")\n",
    "print(num_ints)\n",
    "print()\n",
    "\n",
    "# Find brackets\n",
    "BRACKETS_RE = r\"\\[[^]]*\\]\"\n",
    "num_brackets = df[\"text\"].map(partial(re_match, BRACKETS_RE)).value_counts()\n",
    "print(\"Number of texts with elements in square brackets:\")\n",
    "print(num_brackets)\n",
    "print()\n",
    "\n",
    "# Find HTML tags\n",
    "HTML_RE = r\"<.*?>\"\n",
    "num_html = df[\"text\"].map(partial(re_match, HTML_RE)).value_counts()\n",
    "print(\"Number of texts with HTML tags:\")\n",
    "print(num_html)\n",
    "print()\n",
    "\n",
    "# Find punctuation\n",
    "PUNCTUATION_RE = r\"[^\\w{w}\\s\\{<>}]+\""
   ]
  },
  {
   "cell_type": "markdown",
   "metadata": {},
   "source": [
    "## Train/test utils"
   ]
  },
  {
   "cell_type": "markdown",
   "metadata": {},
   "source": [
    "In this section we are splitting the input data by the `split` attribute, which is provided by the dataset makers and is used to split training and testing data in half. Moreover, some utility functions are defined below."
   ]
  },
  {
   "cell_type": "markdown",
   "metadata": {},
   "source": [
    "Let's save the train/test sets in specific data structures.."
   ]
  },
  {
   "cell_type": "code",
   "execution_count": 63,
   "metadata": {
    "execution": {
     "iopub.execute_input": "2020-10-24T15:31:24.133510Z",
     "iopub.status.busy": "2020-10-24T15:31:24.133066Z",
     "iopub.status.idle": "2020-10-24T15:31:24.161532Z",
     "shell.execute_reply": "2020-10-24T15:31:24.160347Z",
     "shell.execute_reply.started": "2020-10-24T15:31:24.133464Z"
    }
   },
   "outputs": [],
   "source": [
    "train_df = df.loc[df['split'] == \"train\"]\n",
    "test_df = df.loc[df['split'] == \"test\"]"
   ]
  },
  {
   "cell_type": "code",
   "execution_count": 64,
   "metadata": {
    "execution": {
     "iopub.execute_input": "2020-10-24T15:31:24.753030Z",
     "iopub.status.busy": "2020-10-24T15:31:24.752711Z",
     "iopub.status.idle": "2020-10-24T15:31:24.769585Z",
     "shell.execute_reply": "2020-10-24T15:31:24.768410Z",
     "shell.execute_reply.started": "2020-10-24T15:31:24.752990Z"
    }
   },
   "outputs": [
    {
     "name": "stdout",
     "output_type": "stream",
     "text": [
      "Number of sentences in the train set: 25000\n",
      "Number of sentences in the test set: 25000\n"
     ]
    }
   ],
   "source": [
    "train_corpus, train_scores, test_corpus, test_scores = (\n",
    "    train_df[\"text\"].tolist(),\n",
    "    np.array(train_df[\"score\"].tolist()),\n",
    "    test_df[\"text\"].tolist(),\n",
    "    np.array(test_df[\"score\"].tolist()),\n",
    ")\n",
    "print(f\"Number of sentences in the training set: {len(train_corpus)}\")\n",
    "print(f\"Number of sentences in the test set: {len(test_corpus)}\")"
   ]
  },
  {
   "cell_type": "markdown",
   "metadata": {},
   "source": [
    "Let's save different train/test sets, without considering duplicates.."
   ]
  },
  {
   "cell_type": "code",
   "execution_count": 65,
   "metadata": {
    "execution": {
     "iopub.execute_input": "2020-10-24T15:31:25.981167Z",
     "iopub.status.busy": "2020-10-24T15:31:25.980856Z",
     "iopub.status.idle": "2020-10-24T15:31:26.004327Z",
     "shell.execute_reply": "2020-10-24T15:31:26.003253Z",
     "shell.execute_reply.started": "2020-10-24T15:31:25.981128Z"
    }
   },
   "outputs": [],
   "source": [
    "train_df_nodups = df_nodups.loc[df_nodups['split'] == \"train\"]\n",
    "test_df_nodups = df_nodups.loc[df_nodups['split'] == \"test\"]"
   ]
  },
  {
   "cell_type": "code",
   "execution_count": 67,
   "metadata": {
    "execution": {
     "iopub.execute_input": "2020-10-24T15:31:58.448752Z",
     "iopub.status.busy": "2020-10-24T15:31:58.448307Z",
     "iopub.status.idle": "2020-10-24T15:31:58.468337Z",
     "shell.execute_reply": "2020-10-24T15:31:58.467125Z",
     "shell.execute_reply.started": "2020-10-24T15:31:58.448706Z"
    }
   },
   "outputs": [
    {
     "name": "stdout",
     "output_type": "stream",
     "text": [
      "Number of sentences in the training set (without duplicates): 24904\n",
      "Number of sentences in the test set (without duplicates): 24678\n"
     ]
    }
   ],
   "source": [
    "train_corpus_nodups, train_scores_nodups, test_corpus_nodups, test_scores_nodups = (\n",
    "    train_df_nodups[\"text\"].tolist(),\n",
    "    np.array(train_df_nodups[\"score\"].tolist()),\n",
    "    test_df_nodups[\"text\"].tolist(),\n",
    "    np.array(test_df_nodups[\"score\"].tolist()),\n",
    ")\n",
    "print(\n",
    "    f\"Number of sentences in the training set (without duplicates): {len(train_corpus_nodups)}\"\n",
    ")\n",
    "print(\n",
    "    f\"Number of sentences in the test set (without duplicates): {len(test_corpus_nodups)}\"\n",
    ")"
   ]
  },
  {
   "cell_type": "markdown",
   "metadata": {},
   "source": [
    "Below we will define some functions that will be called to evaluate prediction results, after classification."
   ]
  },
  {
   "cell_type": "code",
   "execution_count": 11,
   "metadata": {
    "execution": {
     "iopub.execute_input": "2020-10-24T11:44:40.992934Z",
     "iopub.status.busy": "2020-10-24T11:44:40.992537Z",
     "iopub.status.idle": "2020-10-24T11:44:40.999077Z",
     "shell.execute_reply": "2020-10-24T11:44:40.997706Z",
     "shell.execute_reply.started": "2020-10-24T11:44:40.992890Z"
    }
   },
   "outputs": [],
   "source": [
    "def predict(classifier, x_train, x_test):\n",
    "    \"\"\"\n",
    "    Given a classifier and training/testing matrices, return predictions\n",
    "    \"\"\"\n",
    "    return (classifier.predict(x_train), classifier.predict(x_test))"
   ]
  },
  {
   "cell_type": "code",
   "execution_count": 71,
   "metadata": {
    "execution": {
     "iopub.execute_input": "2020-10-24T15:43:55.708309Z",
     "iopub.status.busy": "2020-10-24T15:43:55.707858Z",
     "iopub.status.idle": "2020-10-24T15:43:55.718847Z",
     "shell.execute_reply": "2020-10-24T15:43:55.717785Z",
     "shell.execute_reply.started": "2020-10-24T15:43:55.708263Z"
    }
   },
   "outputs": [],
   "source": [
    "def print_evaluation(\n",
    "    classifier, test_corpus, test_scores, pred_test_scores, show_confusion_matrix=True\n",
    "):\n",
    "    \"\"\"\n",
    "    Given ground-truth test scores and predicted test scores,\n",
    "    print classification measures\n",
    "    \"\"\"\n",
    "    # Evaluation as a regression task\n",
    "    print(\"R2 score %f\" % (r2_score(test_scores, pred_test_scores)))\n",
    "    print(\"MAE %f\" % (mean_absolute_error(test_scores, pred_test_scores)))\n",
    "    print(\"MSE %f\" % (mean_squared_error(test_scores, pred_test_scores)))\n",
    "    print()\n",
    "\n",
    "    # Evaluation as a multi-class classification task\n",
    "    report = classification_report(\n",
    "        test_scores, np.around(pred_test_scores), labels=score_labels\n",
    "    )\n",
    "    print(report)\n",
    "\n",
    "    # Fancy confusion matrix\n",
    "    if show_confusion_matrix:\n",
    "        plot_confusion_matrix(\n",
    "            classifier,\n",
    "            test_corpus,\n",
    "            test_scores,\n",
    "            normalize=\"true\",\n",
    "            cmap=plt.cm.Blues,\n",
    "            values_format=\".2f\",\n",
    "        )"
   ]
  },
  {
   "cell_type": "code",
   "execution_count": 29,
   "metadata": {
    "execution": {
     "iopub.execute_input": "2020-10-24T13:03:27.495090Z",
     "iopub.status.busy": "2020-10-24T13:03:27.494704Z",
     "iopub.status.idle": "2020-10-24T13:03:27.504886Z",
     "shell.execute_reply": "2020-10-24T13:03:27.503708Z",
     "shell.execute_reply.started": "2020-10-24T13:03:27.495040Z"
    }
   },
   "outputs": [],
   "source": [
    "def print_results(model):\n",
    "    \"\"\"\n",
    "    Given a fitted GridSearchCV object, show intermediate results\n",
    "    \"\"\"\n",
    "    print(f\"Best parameters: {model.best_params_}\")\n",
    "    means = model.cv_results_[\"mean_test_score\"]\n",
    "    stds = model.cv_results_[\"std_test_score\"]\n",
    "    print(\"Intermediate results:\")\n",
    "    for mean, std, params in zip(means, stds, model.cv_results_[\"params\"]):\n",
    "        print(\"%0.3f (+/-%0.03f) for %r\" % (mean, std * 2, params))"
   ]
  },
  {
   "cell_type": "markdown",
   "metadata": {},
   "source": [
    "## Preprocessing"
   ]
  },
  {
   "cell_type": "markdown",
   "metadata": {},
   "source": [
    "The following block of code simply shows the english stopwords that will be used to filter out high-frequency words from the corpora."
   ]
  },
  {
   "cell_type": "code",
   "execution_count": 14,
   "metadata": {
    "execution": {
     "iopub.execute_input": "2020-10-24T11:44:43.810221Z",
     "iopub.status.busy": "2020-10-24T11:44:43.809812Z",
     "iopub.status.idle": "2020-10-24T11:44:43.821529Z",
     "shell.execute_reply": "2020-10-24T11:44:43.820021Z",
     "shell.execute_reply.started": "2020-10-24T11:44:43.810176Z"
    }
   },
   "outputs": [
    {
     "name": "stdout",
     "output_type": "stream",
     "text": [
      "Stopwords (179): {'ours', \"it's\", 'o', 'our', 'from', \"she's\", 'me', 'them', 'can', 'both', 'it', 'll', 'him', 'its', 'theirs', 'which', 'will', 'yourselves', 'very', 'further', 'then', 't', 'than', 'down', 'but', 'm', 'few', 'doesn', 'between', 'their', 'through', 'only', 'hers', 'once', \"don't\", 're', 'and', 'about', \"won't\", 'above', 'whom', \"you've\", 'while', 'didn', 'on', 'her', 'that', 'of', \"mustn't\", 'out', 'for', 'did', 'or', 'some', 'y', 'doing', 'this', 'they', \"aren't\", 'had', 'herself', \"you'll\", \"mightn't\", 've', 'have', 'more', 'ourselves', 'how', 'these', 'yours', 'wasn', 'd', 'so', 'i', 'at', \"doesn't\", 'were', 'such', \"wasn't\", 'before', 'what', 'was', 'each', \"haven't\", 'his', 'mustn', 'having', 'those', 'we', 'here', 'he', 'most', 'when', 'why', 'just', 'to', \"isn't\", 'your', 'yourself', 'because', 'after', 'haven', \"wouldn't\", 'below', 'own', 'are', 'the', 'where', 'against', 'no', 'has', 'myself', 'does', 'weren', 'you', 'ain', \"needn't\", \"you'd\", 'as', 'himself', \"that'll\", 'hadn', \"hasn't\", 'not', 'itself', 'shouldn', 'wouldn', 'my', 'been', 'needn', 'who', 'mightn', 'shan', 'won', 'nor', 'into', 'being', 'there', 'isn', 'up', \"hadn't\", \"didn't\", 'ma', \"shan't\", 'is', \"weren't\", 'am', 'all', 'with', 'should', 'aren', 'be', \"couldn't\", 'in', 'any', 'couldn', \"you're\", 'if', 'until', 's', 'by', 'do', 'other', 'same', 'during', 'hasn', \"should've\", 'themselves', 'now', 'off', 'she', 'under', 'don', 'too', 'an', 'over', \"shouldn't\", 'again', 'a'}\n"
     ]
    }
   ],
   "source": [
    "EN_STOPWORDS = set(stopwords.words(\"english\"))\n",
    "print(f\"Stopwords ({len(EN_STOPWORDS)}): {EN_STOPWORDS}\")"
   ]
  },
  {
   "cell_type": "markdown",
   "metadata": {},
   "source": [
    "The `preprocess_text` function is highly customizable and can be tested with different kinds of parameter combinations, in order to achieve the best results with the problem at hand.\n",
    "\n",
    "In particular, extensive testing shows the following:\n",
    "- Regular expressions do not seem to reflect in better evaluation metric\n",
    "- Adding starting and ending symbols gives slightly better results\n",
    "- Stemming/lemmatization does not alter prediction performance at all\n",
    "- Marking negative meaning of words with the `_NEG` token actually gives worse results than the baseline approach, that may be due to the much higher input space w.r.t. the one in which words are considered as-is\n",
    "- Removing punctuation and stopwords does not seem to have a big impact on classification measures\n",
    "- Removing words with less than `n` characters is pretty much the same as removing stopwords"
   ]
  },
  {
   "cell_type": "code",
   "execution_count": 30,
   "metadata": {
    "execution": {
     "iopub.execute_input": "2020-10-24T13:05:20.754097Z",
     "iopub.status.busy": "2020-10-24T13:05:20.753660Z",
     "iopub.status.idle": "2020-10-24T13:05:20.776233Z",
     "shell.execute_reply": "2020-10-24T13:05:20.774673Z",
     "shell.execute_reply.started": "2020-10-24T13:05:20.754052Z"
    }
   },
   "outputs": [],
   "source": [
    "STEMMER = nltk.porter.PorterStemmer()\n",
    "LEMMATIZER = nltk.wordnet.WordNetLemmatizer()\n",
    "\n",
    "\n",
    "def stem_text(text):\n",
    "    return [STEMMER.stem(word) for word in text]\n",
    "\n",
    "\n",
    "def lemmatize_text(text):\n",
    "    return [LEMMATIZER.lemmatize(word) for word in text]\n",
    "\n",
    "\n",
    "def preprocess_text(\n",
    "    text,\n",
    "    regexes=True,\n",
    "    start_end_symbols=True,\n",
    "    mark_neg=False,\n",
    "    remove_punct=False,\n",
    "    remove_stopwords=False,\n",
    "    min_chars=None,\n",
    "    root=None,\n",
    "):\n",
    "    # Strip trailing spaces and remove newlines\n",
    "    text = text.strip().replace(\"\\n\", \" \").replace(\"\\r\", \" \")\n",
    "    # Convert to lowercase\n",
    "    text = text.lower()\n",
    "    # Apply regular expressions\n",
    "    if regexes:\n",
    "        # Remove HTML tags\n",
    "        text = re.sub(HTML_RE, \"\", text)\n",
    "        # Remove text in square brackets\n",
    "        text = re.sub(BRACKETS_RE, \"\", text)\n",
    "        # Remove dates\n",
    "        text = re.sub(DATE_RE, \"\", text)\n",
    "        # Remove floating numbers\n",
    "        text = re.sub(FLOAT_RE, \"\", text)\n",
    "    # Mark negation\n",
    "    if mark_neg:\n",
    "        text = \" \".join(mark_negation(text.split(), double_neg_flip=False))\n",
    "        EN_STOPWORDS.add(\"_NEG\")\n",
    "    # Remove punctuation\n",
    "    if remove_punct:\n",
    "        text = re.sub(PUNCTUATION_RE, \"\", text)\n",
    "    # Leave single whitespace\n",
    "    text = text.split()\n",
    "    # Remove words with less than `n` chars\n",
    "    if min_chars is not None and isinstance(min_chars, int):\n",
    "        text = [word for word in text if len(word) >= min_chars]\n",
    "    # Remove stopwords\n",
    "    if remove_stopwords:\n",
    "        text = [word for word in text if word not in EN_STOPWORDS]\n",
    "    # Perform stemming/lemmatization\n",
    "    if root == \"stem\":\n",
    "        text = stem_text(text)\n",
    "    elif root == \"lemmatize\":\n",
    "        text = lemmatize_text(text)\n",
    "    # Add start/end symbols\n",
    "    if start_end_symbols:\n",
    "        text = [\"<s>\"] + text + [\"</s>\"]\n",
    "    # Return the text as a string\n",
    "    return \" \".join(text)"
   ]
  },
  {
   "cell_type": "markdown",
   "metadata": {},
   "source": [
    "In the cell below we are storing a number of different partially applied functions that can be used as a parameter for the optimization algorithms available in `scikit-learn`. In particular, in the following sections we will use this list of functions as the `preprocessor` key of the `CountVectorizer` and/or `TfidfVectorizer`, which will then be optimized by grid search."
   ]
  },
  {
   "cell_type": "code",
   "execution_count": 31,
   "metadata": {
    "execution": {
     "iopub.execute_input": "2020-10-24T13:05:22.752897Z",
     "iopub.status.busy": "2020-10-24T13:05:22.752407Z",
     "iopub.status.idle": "2020-10-24T13:05:22.763296Z",
     "shell.execute_reply": "2020-10-24T13:05:22.761976Z",
     "shell.execute_reply.started": "2020-10-24T13:05:22.752839Z"
    }
   },
   "outputs": [],
   "source": [
    "preprocessing_funcs = [\n",
    "    partial(\n",
    "        preprocess_text,\n",
    "        regexes=False,\n",
    "        start_end_symbols=True,\n",
    "        mark_neg=False,\n",
    "        remove_punct=False,\n",
    "        remove_stopwords=False,\n",
    "        min_chars=None,\n",
    "        root=None,\n",
    "    ),\n",
    "    partial(\n",
    "        preprocess_text,\n",
    "        regexes=True,\n",
    "        start_end_symbols=True,\n",
    "        mark_neg=False,\n",
    "        remove_punct=False,\n",
    "        remove_stopwords=False,\n",
    "        min_chars=None,\n",
    "        root=None,\n",
    "    ),\n",
    "    partial(\n",
    "        preprocess_text,\n",
    "        regexes=True,\n",
    "        start_end_symbols=True,\n",
    "        mark_neg=False,\n",
    "        remove_punct=True,\n",
    "        remove_stopwords=True,\n",
    "        min_chars=2,\n",
    "        root=None,\n",
    "    ),\n",
    "]"
   ]
  },
  {
   "cell_type": "markdown",
   "metadata": {},
   "source": [
    "To show an example of how the preprocessing step works, we are displaying a random sentence before and after the `preprocess_text` function is called."
   ]
  },
  {
   "cell_type": "code",
   "execution_count": 26,
   "metadata": {
    "execution": {
     "iopub.execute_input": "2020-10-24T12:35:24.448895Z",
     "iopub.status.busy": "2020-10-24T12:35:24.448480Z",
     "iopub.status.idle": "2020-10-24T12:35:24.461156Z",
     "shell.execute_reply": "2020-10-24T12:35:24.460037Z",
     "shell.execute_reply.started": "2020-10-24T12:35:24.448850Z"
    }
   },
   "outputs": [
    {
     "name": "stdout",
     "output_type": "stream",
     "text": [
      "Random text with score 4\n",
      "\n",
      "Before pre-processing:\n",
      "How could this get a 6.0 rating? Are we as horror fans so used to horror films being so utterly bad these days, that when one comes along that has some, and i repeat 'only some', redeeming quality's, we get much too excited and give a rating that is just a wee bit too high? The director has a certain visual flair. No doubt about that. But in between some decent shots he forgot a good story, mood or scares. It had a very slow first act, lazy killing scene's, annoying and flat characters and a very stupid and very unbelievable twist. And what's with the portrayal of American teenagers in so many of these kinds of films? Do they always have to be this stupid, irritating and so godd#mn superficial. I don't remember teens being like this when i grew up here in Holland. All things considered, in can't give this film anything more that a 4 out of 10 rating.\n",
      "\n",
      "After pre-processing:\n",
      "<s> how could this get a rating? are we as horror fans so used to horror films being so utterly bad these days, that when one comes along that has some, and i repeat 'only some', redeeming quality's, we get much too excited and give a rating that is just a wee bit too high? the director has a certain visual flair. no doubt about that. but in between some decent shots he forgot a good story, mood or scares. it had a very slow first act, lazy killing scene's, annoying and flat characters and a very stupid and very unbelievable twist. and what's with the portrayal of american teenagers in so many of these kinds of films? do they always have to be this stupid, irritating and so godd#mn superficial. i don't remember teens being like this when i grew up here in holland. all things considered, in can't give this film anything more that a out of rating. </s>\n"
     ]
    }
   ],
   "source": [
    "rnd_text = np.random.choice(df.index, 1)[0]\n",
    "print(f\"Random text with score {df['score'].iloc[rnd_text]}\")\n",
    "print()\n",
    "print(f\"Before pre-processing:\")\n",
    "print(df['text'].iloc[rnd_text])\n",
    "print()\n",
    "print(\"After pre-processing:\")\n",
    "print(preprocess_text(df['text'].iloc[rnd_text]))"
   ]
  },
  {
   "cell_type": "markdown",
   "metadata": {},
   "source": [
    "## Baseline"
   ]
  },
  {
   "cell_type": "markdown",
   "metadata": {},
   "source": [
    "The baseline approach is simply the one which could be used for sentiment prediction (positive/negative), i.e. a `TF-IDF` vectorizer which uses unigrams and a logistic regression estimator."
   ]
  },
  {
   "cell_type": "code",
   "execution_count": 69,
   "metadata": {
    "execution": {
     "iopub.execute_input": "2020-10-24T15:39:19.720304Z",
     "iopub.status.busy": "2020-10-24T15:39:19.719842Z",
     "iopub.status.idle": "2020-10-24T15:39:19.727290Z",
     "shell.execute_reply": "2020-10-24T15:39:19.726114Z",
     "shell.execute_reply.started": "2020-10-24T15:39:19.720258Z"
    }
   },
   "outputs": [],
   "source": [
    "pipeline = Pipeline(\n",
    "    [\n",
    "        (\"tfidf\", TfidfVectorizer()),\n",
    "        (\"clf\", LogisticRegression(random_state=RANDOM_SEED, max_iter=1000)),\n",
    "    ]\n",
    ")\n",
    "classifier = pipeline.fit(train_corpus, train_scores)"
   ]
  },
  {
   "cell_type": "code",
   "execution_count": 33,
   "metadata": {},
   "outputs": [
    {
     "name": "stdout",
     "output_type": "stream",
     "text": [
      "R2 score 0.484319\n",
      "MAE 1.468520\n",
      "MSE 6.284040\n",
      "\n",
      "              precision    recall  f1-score   support\n",
      "\n",
      "           1       0.53      0.84      0.65      5022\n",
      "           2       0.21      0.05      0.08      2302\n",
      "           3       0.27      0.12      0.17      2541\n",
      "           4       0.32      0.34      0.33      2635\n",
      "           7       0.32      0.24      0.27      2307\n",
      "           8       0.27      0.25      0.26      2850\n",
      "           9       0.23      0.04      0.06      2344\n",
      "          10       0.49      0.77      0.59      4999\n",
      "\n",
      "    accuracy                           0.43     25000\n",
      "   macro avg       0.33      0.33      0.30     25000\n",
      "weighted avg       0.37      0.43      0.37     25000\n",
      "\n"
     ]
    },
    {
     "data": {
      "image/png": "[encoded data removed]",
      "text/plain": [
       "<Figure size 432x288 with 2 Axes>"
      ]
     },
     "metadata": {
      "needs_background": "light"
     },
     "output_type": "display_data"
    }
   ],
   "source": [
    "pred_train_scores, pred_test_scores = predict(classifier, train_corpus, test_corpus)\n",
    "print_evaluation(classifier, test_corpus, test_scores, pred_test_scores)"
   ]
  },
  {
   "cell_type": "markdown",
   "metadata": {},
   "source": [
    "Just out of curiosity, let's see how the baseline measures change when training without duplicates.."
   ]
  },
  {
   "cell_type": "code",
   "execution_count": 72,
   "metadata": {
    "execution": {
     "iopub.execute_input": "2020-10-24T15:44:51.450125Z",
     "iopub.status.busy": "2020-10-24T15:44:51.449685Z",
     "iopub.status.idle": "2020-10-24T15:45:18.962437Z",
     "shell.execute_reply": "2020-10-24T15:45:18.961352Z",
     "shell.execute_reply.started": "2020-10-24T15:44:51.450079Z"
    }
   },
   "outputs": [
    {
     "name": "stdout",
     "output_type": "stream",
     "text": [
      "R2 score 0.483413\n",
      "MAE 1.471270\n",
      "MSE 6.285193\n",
      "\n",
      "              precision    recall  f1-score   support\n",
      "\n",
      "           1       0.52      0.84      0.64      4908\n",
      "           2       0.21      0.05      0.08      2265\n",
      "           3       0.26      0.11      0.16      2491\n",
      "           4       0.32      0.33      0.33      2602\n",
      "           7       0.32      0.24      0.27      2293\n",
      "           8       0.27      0.25      0.26      2835\n",
      "           9       0.21      0.03      0.06      2332\n",
      "          10       0.48      0.77      0.59      4952\n",
      "\n",
      "    accuracy                           0.43     24678\n",
      "   macro avg       0.33      0.33      0.30     24678\n",
      "weighted avg       0.36      0.43      0.37     24678\n",
      "\n"
     ]
    },
    {
     "data": {
      "image/png": "[encoded data removed]",
      "text/plain": [
       "<Figure size 432x288 with 2 Axes>"
      ]
     },
     "metadata": {
      "needs_background": "light"
     },
     "output_type": "display_data"
    }
   ],
   "source": [
    "classifier = pipeline.fit(train_corpus_nodups, train_scores_nodups)\n",
    "pred_train_scores_nodups, pred_test_scores_nodups = predict(\n",
    "    classifier, train_corpus_nodups, test_corpus_nodups\n",
    ")\n",
    "print_evaluation(\n",
    "    classifier, test_corpus_nodups, test_scores_nodups, pred_test_scores_nodups\n",
    ")"
   ]
  },
  {
   "cell_type": "markdown",
   "metadata": {},
   "source": [
    "It seems that removing duplicates does not have an impact on classification-related measures, at least with our baseline approach. Anyway, in the following sections we'll continue to use the full dataset, i.e. the one containing duplicates (just because of more accurate comparisions with other works)."
   ]
  },
  {
   "cell_type": "markdown",
   "metadata": {},
   "source": [
    "## Classification with logistic regression"
   ]
  },
  {
   "cell_type": "markdown",
   "metadata": {},
   "source": [
    "In this section we have to achieve the best result we can with the logistic regression estimator. So, we can play with the vectorizer and the preprocessing function, to try and boost classification metrics."
   ]
  },
  {
   "cell_type": "code",
   "execution_count": 60,
   "metadata": {
    "execution": {
     "iopub.execute_input": "2020-10-24T15:23:53.593131Z",
     "iopub.status.busy": "2020-10-24T15:23:53.592688Z",
     "iopub.status.idle": "2020-10-24T15:27:39.901145Z",
     "shell.execute_reply": "2020-10-24T15:27:39.899458Z",
     "shell.execute_reply.started": "2020-10-24T15:23:53.593086Z"
    }
   },
   "outputs": [
    {
     "name": "stdout",
     "output_type": "stream",
     "text": [
      "Fitting 3 folds for each of 12 candidates, totalling 36 fits\n"
     ]
    },
    {
     "name": "stderr",
     "output_type": "stream",
     "text": [
      "[Parallel(n_jobs=-1)]: Using backend LokyBackend with 16 concurrent workers.\n",
      "[Parallel(n_jobs=-1)]: Done  36 out of  36 | elapsed:  2.8min finished\n"
     ]
    },
    {
     "name": "stdout",
     "output_type": "stream",
     "text": [
      "Best parameters: {'tfidf__use_idf': True, 'vect__ngram_range': (1, 2), 'vect__preprocessor': functools.partial(<function preprocess_text at 0x7f28b0c66670>, regexes=False, start_end_symbols=True, mark_neg=False, remove_punct=False, remove_stopwords=False, min_chars=None, root=None)}\n",
      "Intermediate results:\n",
      "0.442 (+/-0.015) for {'tfidf__use_idf': True, 'vect__ngram_range': (1, 1), 'vect__preprocessor': functools.partial(<function preprocess_text at 0x7f28b0c66670>, regexes=False, start_end_symbols=True, mark_neg=False, remove_punct=False, remove_stopwords=False, min_chars=None, root=None)}\n",
      "0.443 (+/-0.011) for {'tfidf__use_idf': True, 'vect__ngram_range': (1, 1), 'vect__preprocessor': functools.partial(<function preprocess_text at 0x7f28b0c66670>, regexes=True, start_end_symbols=True, mark_neg=False, remove_punct=False, remove_stopwords=False, min_chars=None, root=None)}\n",
      "0.424 (+/-0.023) for {'tfidf__use_idf': True, 'vect__ngram_range': (1, 1), 'vect__preprocessor': functools.partial(<function preprocess_text at 0x7f28b0c66670>, regexes=True, start_end_symbols=True, mark_neg=False, remove_punct=True, remove_stopwords=True, min_chars=2, root=None)}\n",
      "0.474 (+/-0.016) for {'tfidf__use_idf': True, 'vect__ngram_range': (1, 2), 'vect__preprocessor': functools.partial(<function preprocess_text at 0x7f28b0c66670>, regexes=False, start_end_symbols=True, mark_neg=False, remove_punct=False, remove_stopwords=False, min_chars=None, root=None)}\n",
      "0.471 (+/-0.023) for {'tfidf__use_idf': True, 'vect__ngram_range': (1, 2), 'vect__preprocessor': functools.partial(<function preprocess_text at 0x7f28b0c66670>, regexes=True, start_end_symbols=True, mark_neg=False, remove_punct=False, remove_stopwords=False, min_chars=None, root=None)}\n",
      "0.427 (+/-0.013) for {'tfidf__use_idf': True, 'vect__ngram_range': (1, 2), 'vect__preprocessor': functools.partial(<function preprocess_text at 0x7f28b0c66670>, regexes=True, start_end_symbols=True, mark_neg=False, remove_punct=True, remove_stopwords=True, min_chars=2, root=None)}\n",
      "0.397 (+/-0.019) for {'tfidf__use_idf': False, 'vect__ngram_range': (1, 1), 'vect__preprocessor': functools.partial(<function preprocess_text at 0x7f28b0c66670>, regexes=False, start_end_symbols=True, mark_neg=False, remove_punct=False, remove_stopwords=False, min_chars=None, root=None)}\n",
      "0.401 (+/-0.017) for {'tfidf__use_idf': False, 'vect__ngram_range': (1, 1), 'vect__preprocessor': functools.partial(<function preprocess_text at 0x7f28b0c66670>, regexes=True, start_end_symbols=True, mark_neg=False, remove_punct=False, remove_stopwords=False, min_chars=None, root=None)}\n",
      "0.401 (+/-0.022) for {'tfidf__use_idf': False, 'vect__ngram_range': (1, 1), 'vect__preprocessor': functools.partial(<function preprocess_text at 0x7f28b0c66670>, regexes=True, start_end_symbols=True, mark_neg=False, remove_punct=True, remove_stopwords=True, min_chars=2, root=None)}\n",
      "0.429 (+/-0.026) for {'tfidf__use_idf': False, 'vect__ngram_range': (1, 2), 'vect__preprocessor': functools.partial(<function preprocess_text at 0x7f28b0c66670>, regexes=False, start_end_symbols=True, mark_neg=False, remove_punct=False, remove_stopwords=False, min_chars=None, root=None)}\n",
      "0.427 (+/-0.024) for {'tfidf__use_idf': False, 'vect__ngram_range': (1, 2), 'vect__preprocessor': functools.partial(<function preprocess_text at 0x7f28b0c66670>, regexes=True, start_end_symbols=True, mark_neg=False, remove_punct=False, remove_stopwords=False, min_chars=None, root=None)}\n",
      "0.405 (+/-0.019) for {'tfidf__use_idf': False, 'vect__ngram_range': (1, 2), 'vect__preprocessor': functools.partial(<function preprocess_text at 0x7f28b0c66670>, regexes=True, start_end_symbols=True, mark_neg=False, remove_punct=True, remove_stopwords=True, min_chars=2, root=None)}\n"
     ]
    }
   ],
   "source": [
    "pipeline = Pipeline(\n",
    "    [\n",
    "        (\n",
    "            \"vect\",\n",
    "            CountVectorizer(\n",
    "                ngram_range=(1, 2),\n",
    "                preprocessor=preprocess_text,\n",
    "                min_df=0.01,\n",
    "                max_df=0.7,\n",
    "            ),\n",
    "        ),\n",
    "        (\"tfidf\", TfidfTransformer(sublinear_tf=True)),\n",
    "        (\"clf\", LogisticRegression(random_state=RANDOM_SEED, max_iter=1000)),\n",
    "    ]\n",
    ")\n",
    "\n",
    "parameters = {\n",
    "    \"vect__preprocessor\": preprocessing_funcs,\n",
    "    \"vect__ngram_range\": [(1, 1), (1, 2)],\n",
    "    \"tfidf__use_idf\": (True, False),\n",
    "}\n",
    "searcher = GridSearchCV(\n",
    "    estimator=pipeline,\n",
    "    param_grid=parameters,\n",
    "    scoring=\"r2\",\n",
    "    cv=3,\n",
    "    n_jobs=-1,\n",
    "    return_train_score=True,\n",
    "    verbose=1,\n",
    ")\n",
    "classifier = searcher.fit(train_corpus, train_scores)\n",
    "print_results(searcher)"
   ]
  },
  {
   "cell_type": "code",
   "execution_count": 61,
   "metadata": {
    "execution": {
     "iopub.execute_input": "2020-10-24T15:27:39.904396Z",
     "iopub.status.busy": "2020-10-24T15:27:39.904036Z",
     "iopub.status.idle": "2020-10-24T15:28:31.941429Z",
     "shell.execute_reply": "2020-10-24T15:28:31.940011Z",
     "shell.execute_reply.started": "2020-10-24T15:27:39.904346Z"
    }
   },
   "outputs": [
    {
     "name": "stdout",
     "output_type": "stream",
     "text": [
      "R2 score 0.509164\n",
      "MAE 1.429760\n",
      "MSE 5.981280\n",
      "\n",
      "              precision    recall  f1-score   support\n",
      "\n",
      "           1       0.54      0.79      0.65      5022\n",
      "           2       0.22      0.09      0.12      2302\n",
      "           3       0.26      0.15      0.19      2541\n",
      "           4       0.31      0.30      0.31      2635\n",
      "           7       0.30      0.27      0.28      2307\n",
      "           8       0.28      0.25      0.27      2850\n",
      "           9       0.21      0.07      0.11      2344\n",
      "          10       0.51      0.74      0.60      4999\n",
      "\n",
      "    accuracy                           0.42     25000\n",
      "   macro avg       0.33      0.33      0.32     25000\n",
      "weighted avg       0.37      0.42      0.38     25000\n",
      "\n"
     ]
    },
    {
     "data": {
      "image/png": "[encoded data removed]",
      "text/plain": [
       "<Figure size 432x288 with 2 Axes>"
      ]
     },
     "metadata": {
      "needs_background": "light"
     },
     "output_type": "display_data"
    }
   ],
   "source": [
    "pred_train_scores, pred_test_scores = predict(classifier, train_corpus, test_corpus)\n",
    "print_evaluation(classifier, test_corpus, test_scores, pred_test_scores)"
   ]
  },
  {
   "cell_type": "markdown",
   "metadata": {},
   "source": [
    "## Classification with another classifier"
   ]
  },
  {
   "cell_type": "markdown",
   "metadata": {},
   "source": [
    "In this section we are not anymore limited to the usage of logistic regression as a model, but we can tweak both the vectorizer and the estimator, in order to possibily get even better results."
   ]
  },
  {
   "cell_type": "markdown",
   "metadata": {},
   "source": [
    "### Nearest neighbors"
   ]
  },
  {
   "cell_type": "markdown",
   "metadata": {},
   "source": [
    "Using the `CountVectorizer` and `TF-IDF`, we obtain a document by term matrix, where terms are corpus n-grams. Each row of this matrix represents a different document and can be seen as a vector in space. \n",
    "\n",
    "|       | term-1 | term-2 | ... | term-h |\n",
    "|:-----:|:------:|:------:|-----|:------:|\n",
    "| doc-1 |    1   |    0   |     |    5   |\n",
    "| doc-2 |    3   |    0   |     |    4   |\n",
    "|  ...  |        |        |     |        |\n",
    "| doc-k |    7   |    4   |     |    0   |\n",
    "\n",
    "In the example above `doc-2` is represented by the vector $[3, 0, \\dots, 4] \\in R^{n}$.\n",
    "\n",
    "Since, at prediction time, we want to estimate the score associated with an unseen document, we could build the same vector as we did at training time and compare it with the already-stored ones. In this way, a simple `kNN` classifier could give us the score which is associated with the highest number of nearest neighbors and we could use this score for the unseen document prediction.\n",
    "\n",
    "In order to use this approach we would need a sort of `cosine` similarity to compare vectors, instead of the usual euclidean distance, but unfortunately, as a consequence of the cosine similarity not being a true distance metric (since it does not obey the triangle inequality), it cannot be used with nearest neighbors approaches.\n",
    "\n",
    "As shown [here](https://stackoverflow.com/questions/34144632/using-cosine-distance-with-scikit-learn-kneighborsclassifier), a cool tweak would be to normalize our data before giving it to the `kNN` classifier and use uniform weights for each neighbor at prediction time (meaning that all points in each neighborhood are weighted equally). In this way, the euclidean distance would have the same kind of ordering as the cosine similarity, thus satisfying our requirements. So, let's try this approach.."
   ]
  },
  {
   "cell_type": "code",
   "execution_count": 57,
   "metadata": {
    "execution": {
     "iopub.execute_input": "2020-10-24T15:00:31.507248Z",
     "iopub.status.busy": "2020-10-24T15:00:31.506791Z",
     "iopub.status.idle": "2020-10-24T15:02:49.803834Z",
     "shell.execute_reply": "2020-10-24T15:02:49.802313Z",
     "shell.execute_reply.started": "2020-10-24T15:00:31.507202Z"
    }
   },
   "outputs": [
    {
     "name": "stdout",
     "output_type": "stream",
     "text": [
      "Fitting 3 folds for each of 3 candidates, totalling 9 fits\n"
     ]
    },
    {
     "name": "stderr",
     "output_type": "stream",
     "text": [
      "[Parallel(n_jobs=-1)]: Using backend LokyBackend with 16 concurrent workers.\n",
      "[Parallel(n_jobs=-1)]: Done   9 out of   9 | elapsed:  1.7min finished\n"
     ]
    },
    {
     "name": "stdout",
     "output_type": "stream",
     "text": [
      "Best parameters: {'clf__n_neighbors': 7}\n",
      "Intermediate results:\n",
      "-0.051 (+/-0.013) for {'clf__n_neighbors': 5}\n",
      "0.020 (+/-0.012) for {'clf__n_neighbors': 7}\n",
      "0.004 (+/-0.030) for {'clf__n_neighbors': 9}\n"
     ]
    }
   ],
   "source": [
    "pipeline = Pipeline(\n",
    "    [\n",
    "        (\"vect\", CountVectorizer(ngram_range=(1, 2), max_df=0.9)),\n",
    "        (\"tfidf\", TfidfTransformer(sublinear_tf=True, use_idf=True)),\n",
    "        (\"scaler\", Normalizer()),\n",
    "        (\"sel\", SelectKBest(chi2, k=500)),\n",
    "        (\"clf\", KNeighborsClassifier(metric=\"euclidean\", weights=\"uniform\")),\n",
    "    ]\n",
    ")\n",
    "\n",
    "parameters = {\n",
    "    \"clf__n_neighbors\": [5, 7, 9],\n",
    "}\n",
    "searcher = GridSearchCV(\n",
    "    estimator=pipeline,\n",
    "    param_grid=parameters,\n",
    "    scoring=\"r2\",\n",
    "    cv=3,\n",
    "    n_jobs=-1,\n",
    "    return_train_score=True,\n",
    "    verbose=1,\n",
    ")\n",
    "classifier = searcher.fit(train_corpus, train_scores)\n",
    "print_results(searcher)"
   ]
  },
  {
   "cell_type": "code",
   "execution_count": 58,
   "metadata": {
    "execution": {
     "iopub.execute_input": "2020-10-24T15:02:49.806893Z",
     "iopub.status.busy": "2020-10-24T15:02:49.806539Z",
     "iopub.status.idle": "2020-10-24T15:06:44.495569Z",
     "shell.execute_reply": "2020-10-24T15:06:44.494341Z",
     "shell.execute_reply.started": "2020-10-24T15:02:49.806844Z"
    }
   },
   "outputs": [
    {
     "name": "stdout",
     "output_type": "stream",
     "text": [
      "R2 score 0.028045\n",
      "MAE 2.385680\n",
      "MSE 11.844160\n",
      "\n",
      "              precision    recall  f1-score   support\n",
      "\n",
      "           1       0.50      0.45      0.47      5022\n",
      "           2       0.17      0.09      0.12      2302\n",
      "           3       0.15      0.10      0.12      2541\n",
      "           4       0.17      0.21      0.19      2635\n",
      "           7       0.15      0.23      0.18      2307\n",
      "           8       0.17      0.24      0.20      2850\n",
      "           9       0.14      0.10      0.12      2344\n",
      "          10       0.39      0.39      0.39      4999\n",
      "\n",
      "    accuracy                           0.27     25000\n",
      "   macro avg       0.23      0.23      0.22     25000\n",
      "weighted avg       0.27      0.27      0.27     25000\n",
      "\n"
     ]
    },
    {
     "data": {
      "image/png": "[encoded data removed]",
      "text/plain": [
       "<Figure size 432x288 with 2 Axes>"
      ]
     },
     "metadata": {
      "needs_background": "light"
     },
     "output_type": "display_data"
    }
   ],
   "source": [
    "pred_train_scores, pred_test_scores = predict(classifier, train_corpus, test_corpus)\n",
    "print_evaluation(classifier, test_corpus, test_scores, pred_test_scores)"
   ]
  },
  {
   "cell_type": "markdown",
   "metadata": {},
   "source": [
    "By looking at the obtained results, we can see that this approach is not working well at all for the task at hand. The main problem is surely due to `kNN` suffering the curse of dimensionality, since we are using a lot of features. \n",
    "\n",
    "Applying feature selection using a $\\chi^{2}$ test does not seem to make a huge impact.."
   ]
  },
  {
   "cell_type": "markdown",
   "metadata": {},
   "source": [
    "### Linear classifiers"
   ]
  },
  {
   "cell_type": "markdown",
   "metadata": {},
   "source": [
    "It seems that linear models are best suited for this task, since non-linear ones (e.g. `SVM` with `rbf` kernel) tend to be a lot slower. So, let's try some more linear classifiers, different from logistic regression.."
   ]
  },
  {
   "cell_type": "code",
   "execution_count": 51,
   "metadata": {
    "execution": {
     "iopub.execute_input": "2020-10-24T14:35:04.795539Z",
     "iopub.status.busy": "2020-10-24T14:35:04.795099Z",
     "iopub.status.idle": "2020-10-24T14:35:04.803236Z",
     "shell.execute_reply": "2020-10-24T14:35:04.802147Z",
     "shell.execute_reply.started": "2020-10-24T14:35:04.795495Z"
    }
   },
   "outputs": [],
   "source": [
    "# Set the features parameters by cross-validation\n",
    "features = [\n",
    "    (\n",
    "        \"vect\",\n",
    "        CountVectorizer(\n",
    "            ngram_range=(1, 2), max_df=0.9, preprocessor=preprocessing_funcs[0]\n",
    "        ),\n",
    "    ),\n",
    "    (\"tfidf\", TfidfTransformer(sublinear_tf=True, use_idf=True)),\n",
    "    (\"scaler\", Normalizer()),\n",
    "]\n",
    "features_params = {\n",
    "    \"vect__min_df\": [0, 0.01, 0.05],\n",
    "}"
   ]
  },
  {
   "cell_type": "code",
   "execution_count": 52,
   "metadata": {
    "execution": {
     "iopub.execute_input": "2020-10-24T14:35:10.980982Z",
     "iopub.status.busy": "2020-10-24T14:35:10.980544Z",
     "iopub.status.idle": "2020-10-24T14:35:10.994111Z",
     "shell.execute_reply": "2020-10-24T14:35:10.992860Z",
     "shell.execute_reply.started": "2020-10-24T14:35:10.980936Z"
    }
   },
   "outputs": [],
   "source": [
    "# Set the models parameters by cross-validation\n",
    "ridge_parameters = [dict(features_params, **{\"clf__alpha\": [0.1, 1, 10]})]\n",
    "pa_parameters = [\n",
    "    dict(\n",
    "        features_params,\n",
    "        **{\"clf__fit_intercept\": [True, False]},\n",
    "    )\n",
    "]\n",
    "lsvc_parameters = [dict(features_params)]\n",
    "\n",
    "# Define a dictionary with an entry for each model to try\n",
    "models = {\n",
    "    \"ridge\": {\n",
    "        \"name\": \"Ridge classifier\",\n",
    "        \"estimator\": RidgeClassifier(random_state=RANDOM_SEED, tol=1e-2, solver=\"auto\"),\n",
    "        \"params\": ridge_parameters,\n",
    "    },\n",
    "    \"pa\": {\n",
    "        \"name\": \"Passive aggressive classifier\",\n",
    "        \"estimator\": PassiveAggressiveClassifier(\n",
    "            random_state=RANDOM_SEED,\n",
    "            max_iter=1000,\n",
    "            early_stopping=False,\n",
    "            tol=1e-2,\n",
    "            C=10,\n",
    "        ),\n",
    "        \"params\": pa_parameters,\n",
    "    },\n",
    "    \"lsvc\": {\n",
    "        \"name\": \"Linear SVC\",\n",
    "        \"estimator\": LinearSVC(\n",
    "            random_state=RANDOM_SEED,\n",
    "            dual=False,\n",
    "            fit_intercept=True,\n",
    "            penalty=\"l2\",\n",
    "            tol=1e-2,\n",
    "            C=1,\n",
    "        ),\n",
    "        \"params\": lsvc_parameters,\n",
    "    },\n",
    "}\n",
    "\n",
    "# Scores to evaluate grid search on\n",
    "scores = [\"r2\"]"
   ]
  },
  {
   "cell_type": "code",
   "execution_count": 54,
   "metadata": {
    "execution": {
     "iopub.execute_input": "2020-10-24T14:36:30.972934Z",
     "iopub.status.busy": "2020-10-24T14:36:30.972238Z",
     "iopub.status.idle": "2020-10-24T14:46:41.291712Z",
     "shell.execute_reply": "2020-10-24T14:46:41.290246Z",
     "shell.execute_reply.started": "2020-10-24T14:36:30.972869Z"
    }
   },
   "outputs": [
    {
     "name": "stdout",
     "output_type": "stream",
     "text": [
      "Fitting 3 folds for each of 9 candidates, totalling 27 fits\n"
     ]
    },
    {
     "name": "stderr",
     "output_type": "stream",
     "text": [
      "[Parallel(n_jobs=-1)]: Using backend LokyBackend with 16 concurrent workers.\n",
      "[Parallel(n_jobs=-1)]: Done  24 out of  27 | elapsed:  1.8min remaining:   13.6s\n",
      "[Parallel(n_jobs=-1)]: Done  27 out of  27 | elapsed:  1.9min finished\n"
     ]
    },
    {
     "name": "stdout",
     "output_type": "stream",
     "text": [
      "\n",
      "Best parameters: {'clf__alpha': 1, 'vect__min_df': 0}\n",
      "Intermediate results:\n",
      "0.509 (+/-0.026) for {'clf__alpha': 0.1, 'vect__min_df': 0}\n",
      "0.299 (+/-0.006) for {'clf__alpha': 0.1, 'vect__min_df': 0.01}\n",
      "0.221 (+/-0.032) for {'clf__alpha': 0.1, 'vect__min_df': 0.05}\n",
      "0.522 (+/-0.030) for {'clf__alpha': 1, 'vect__min_df': 0}\n",
      "0.360 (+/-0.028) for {'clf__alpha': 1, 'vect__min_df': 0.01}\n",
      "0.219 (+/-0.032) for {'clf__alpha': 1, 'vect__min_df': 0.05}\n",
      "0.372 (+/-0.029) for {'clf__alpha': 10, 'vect__min_df': 0}\n",
      "0.401 (+/-0.026) for {'clf__alpha': 10, 'vect__min_df': 0.01}\n",
      "0.209 (+/-0.023) for {'clf__alpha': 10, 'vect__min_df': 0.05}\n",
      "\n",
      "R2 score 0.531249\n",
      "MAE 1.387600\n",
      "MSE 5.712160\n",
      "\n",
      "              precision    recall  f1-score   support\n",
      "\n",
      "           1       0.51      0.87      0.64      5022\n",
      "           2       0.23      0.05      0.09      2302\n",
      "           3       0.30      0.12      0.17      2541\n",
      "           4       0.35      0.31      0.33      2635\n",
      "           7       0.35      0.26      0.30      2307\n",
      "           8       0.29      0.23      0.26      2850\n",
      "           9       0.21      0.04      0.07      2344\n",
      "          10       0.50      0.80      0.61      4999\n",
      "\n",
      "    accuracy                           0.44     25000\n",
      "   macro avg       0.34      0.34      0.31     25000\n",
      "weighted avg       0.38      0.44      0.38     25000\n",
      "\n",
      "Fitting 3 folds for each of 6 candidates, totalling 18 fits\n"
     ]
    },
    {
     "name": "stderr",
     "output_type": "stream",
     "text": [
      "[Parallel(n_jobs=-1)]: Using backend LokyBackend with 16 concurrent workers.\n",
      "[Parallel(n_jobs=-1)]: Done   6 out of  18 | elapsed:   40.9s remaining:  1.4min\n",
      "[Parallel(n_jobs=-1)]: Done  18 out of  18 | elapsed:  1.3min finished\n"
     ]
    },
    {
     "name": "stdout",
     "output_type": "stream",
     "text": [
      "\n",
      "Best parameters: {'clf__fit_intercept': True, 'vect__min_df': 0}\n",
      "Intermediate results:\n",
      "0.544 (+/-0.023) for {'clf__fit_intercept': True, 'vect__min_df': 0}\n",
      "0.248 (+/-0.018) for {'clf__fit_intercept': True, 'vect__min_df': 0.01}\n",
      "0.046 (+/-0.061) for {'clf__fit_intercept': True, 'vect__min_df': 0.05}\n",
      "0.541 (+/-0.028) for {'clf__fit_intercept': False, 'vect__min_df': 0}\n",
      "0.249 (+/-0.016) for {'clf__fit_intercept': False, 'vect__min_df': 0.01}\n",
      "0.050 (+/-0.069) for {'clf__fit_intercept': False, 'vect__min_df': 0.05}\n",
      "\n",
      "R2 score 0.562209\n",
      "MAE 1.358400\n",
      "MSE 5.334880\n",
      "\n",
      "              precision    recall  f1-score   support\n",
      "\n",
      "           1       0.56      0.79      0.66      5022\n",
      "           2       0.23      0.11      0.15      2302\n",
      "           3       0.28      0.19      0.23      2541\n",
      "           4       0.32      0.30      0.31      2635\n",
      "           7       0.31      0.29      0.30      2307\n",
      "           8       0.28      0.25      0.27      2850\n",
      "           9       0.21      0.10      0.14      2344\n",
      "          10       0.53      0.71      0.61      4999\n",
      "\n",
      "    accuracy                           0.43     25000\n",
      "   macro avg       0.34      0.34      0.33     25000\n",
      "weighted avg       0.38      0.43      0.39     25000\n",
      "\n",
      "Fitting 3 folds for each of 3 candidates, totalling 9 fits\n"
     ]
    },
    {
     "name": "stderr",
     "output_type": "stream",
     "text": [
      "[Parallel(n_jobs=-1)]: Using backend LokyBackend with 16 concurrent workers.\n",
      "[Parallel(n_jobs=-1)]: Done   9 out of   9 | elapsed:  1.5min finished\n"
     ]
    },
    {
     "name": "stdout",
     "output_type": "stream",
     "text": [
      "\n",
      "Best parameters: {'vect__min_df': 0}\n",
      "Intermediate results:\n",
      "0.540 (+/-0.037) for {'vect__min_df': 0}\n",
      "0.393 (+/-0.025) for {'vect__min_df': 0.01}\n",
      "0.263 (+/-0.027) for {'vect__min_df': 0.05}\n",
      "\n",
      "R2 score 0.561894\n",
      "MAE 1.344960\n",
      "MSE 5.338720\n",
      "\n",
      "              precision    recall  f1-score   support\n",
      "\n",
      "           1       0.54      0.84      0.66      5022\n",
      "           2       0.23      0.08      0.12      2302\n",
      "           3       0.29      0.15      0.20      2541\n",
      "           4       0.34      0.32      0.33      2635\n",
      "           7       0.33      0.29      0.31      2307\n",
      "           8       0.29      0.25      0.27      2850\n",
      "           9       0.21      0.06      0.10      2344\n",
      "          10       0.52      0.76      0.62      4999\n",
      "\n",
      "    accuracy                           0.44     25000\n",
      "   macro avg       0.34      0.34      0.32     25000\n",
      "weighted avg       0.38      0.44      0.39     25000\n",
      "\n",
      "Ridge classifier -> r2: 0.5219964343479244\n",
      "Passive aggressive classifier -> r2: 0.5437175385767664\n",
      "Linear SVC -> r2: 0.5401155707912827\n"
     ]
    }
   ],
   "source": [
    "for score in scores:\n",
    "    best_scores = {}\n",
    "    for model in models.values():\n",
    "        pipeline = Pipeline(features + [(\"clf\", model[\"estimator\"])])\n",
    "        searcher = GridSearchCV(\n",
    "            estimator=pipeline,\n",
    "            param_grid=model[\"params\"],\n",
    "            scoring=score,\n",
    "            n_jobs=-1,\n",
    "            cv=3,\n",
    "            return_train_score=True,\n",
    "            verbose=1,\n",
    "        )\n",
    "        classifier = searcher.fit(train_corpus, train_scores)\n",
    "        print()\n",
    "        print_results(searcher)\n",
    "        print()\n",
    "        pred_train_scores, pred_test_scores = predict(\n",
    "            classifier, train_corpus, test_corpus\n",
    "        )\n",
    "        print_evaluation(\n",
    "            classifier,\n",
    "            test_corpus,\n",
    "            test_scores,\n",
    "            pred_test_scores,\n",
    "            show_confusion_matrix=False,\n",
    "        )\n",
    "        best_scores[model[\"name\"]] = searcher.best_score_\n",
    "\n",
    "    for name, best_score in best_scores.items():\n",
    "        print(f\"{name} -> {score}: {best_score}\")"
   ]
  },
  {
   "cell_type": "markdown",
   "metadata": {},
   "source": [
    "It seems that our passive aggressive classifier is performing better than linear `SVM`, even though their results are quite close to each other."
   ]
  },
  {
   "cell_type": "markdown",
   "metadata": {},
   "source": [
    "## Conclusions"
   ]
  },
  {
   "cell_type": "markdown",
   "metadata": {},
   "source": [
    "The task of predicting exact scores in the IMDB movie reviews dataset revealed to be much more difficult than we expected, for the reasons explained above. \n",
    "\n",
    "Starting from a baseline of $0.48$ `R2 score` and a value of $0.30$ for the `F1 macro` measure, we only got as far as $0.56$ for `R2` and $0.33$ for `F1 macro`, with a passive aggressive classifier (even though similar results can be achieved with a linear SVM).\n",
    "\n",
    "About evaluation metrics, we can observe that we were able to get a not-so-small boost in `R2`, while we were struggling to squeeze out some points from that `F1 macro`: this is because the problem is better evaluated as a regression task instead of a multi-class classification one. For example, if we have an unseen review and our model assigns it a score of 2, instead of the correct score of 3, we expect a \"low\" error, since the two predictions can be considered as being pretty close (this is exactly how the `Mean Squared Error` loss behaves, as opposed to accuracy, precision and recall which instead mark that example as \"negative\").\n",
    "\n",
    "It could be interesting to try more advanced embedding techniques to see how much we can improve these results."
   ]
  },
  {
   "cell_type": "markdown",
   "metadata": {},
   "source": [
    "## Credits"
   ]
  },
  {
   "cell_type": "markdown",
   "metadata": {
    "execution": {
     "iopub.execute_input": "2020-10-24T15:18:36.631238Z",
     "iopub.status.busy": "2020-10-24T15:18:36.630767Z",
     "iopub.status.idle": "2020-10-24T15:18:36.639623Z",
     "shell.execute_reply": "2020-10-24T15:18:36.638015Z",
     "shell.execute_reply.started": "2020-10-24T15:18:36.631186Z"
    }
   },
   "source": [
    "Some code blocks, especially those regarding dataset loading/initialization, were taken from a notebook as part of an assignment for the NLP course of the Artificial Intelligence master's degree, at University of Bologna. The cited notebook is maintained by Andrea Galassi, Federico Ruggeri and Paolo Torroni."
   ]
  }
 ],
 "metadata": {
  "kernelspec": {
   "display_name": "Python 3",
   "language": "python",
   "name": "python3"
  },
  "language_info": {
   "codemirror_mode": {
    "name": "ipython",
    "version": 3
   },
   "file_extension": ".py",
   "mimetype": "text/x-python",
   "name": "python",
   "nbconvert_exporter": "python",
   "pygments_lexer": "ipython3",
   "version": "3.8.5"
  }
 },
 "nbformat": 4,
 "nbformat_minor": 4
}
