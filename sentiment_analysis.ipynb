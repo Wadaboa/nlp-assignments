{
 "cells": [
  {
   "cell_type": "markdown",
   "metadata": {},
   "source": [
    "# IMDB sentiment analysis"
   ]
  },
  {
   "cell_type": "markdown",
   "metadata": {},
   "source": [
    "This notebook contains an approach to address the task of predicting scores from the famous IMDB movie review dataset. Usually, this dataset is exploited for simple positive/negative sentiment analysis and it has been shown that great results can be obtained by using simple features, like `BoW` (e.g. with `TF-IDF`). \n",
    "\n",
    "Instead, the task of predicting 1 to 10 scores is much more challenging, since, for example, small scale variations in the score value could be due to human arbitrary decisions. Moreover, simple approaches, like the above-mentioned `BoW`, may result in poor classification metrics."
   ]
  },
  {
   "cell_type": "code",
   "execution_count": 44,
   "metadata": {},
   "outputs": [],
   "source": [
    "import os\n",
    "import re\n",
    "import sys\n",
    "import tarfile\n",
    "import urllib.request\n",
    "from functools import partial\n",
    "\n",
    "import matplotlib.pyplot as plt\n",
    "import nltk\n",
    "import numpy as np\n",
    "import pandas as pd\n",
    "from nltk.corpus import stopwords\n",
    "from nltk.sentiment.util import mark_negation\n",
    "from nltk.tokenize import word_tokenize\n",
    "from sklearn.feature_extraction.text import (\n",
    "    CountVectorizer,\n",
    "    TfidfTransformer,\n",
    "    TfidfVectorizer,\n",
    ")\n",
    "from sklearn.linear_model import LogisticRegression, SGDClassifier\n",
    "from sklearn.metrics import (\n",
    "    classification_report,\n",
    "    make_scorer,\n",
    "    mean_absolute_error,\n",
    "    mean_squared_error,\n",
    "    plot_confusion_matrix,\n",
    "    r2_score,\n",
    ")\n",
    "from sklearn.model_selection import GridSearchCV\n",
    "from sklearn.naive_bayes import MultinomialNB\n",
    "from sklearn.pipeline import Pipeline, FeatureUnion"
   ]
  },
  {
   "cell_type": "code",
   "execution_count": 46,
   "metadata": {},
   "outputs": [
    {
     "name": "stderr",
     "output_type": "stream",
     "text": [
      "[nltk_data] Downloading package stopwords to /root/nltk_data...\n",
      "[nltk_data]   Package stopwords is already up-to-date!\n",
      "[nltk_data] Downloading package punkt to /root/nltk_data...\n",
      "[nltk_data]   Package punkt is already up-to-date!\n",
      "[nltk_data] Downloading package wordnet to /root/nltk_data...\n",
      "[nltk_data]   Package wordnet is already up-to-date!\n"
     ]
    },
    {
     "data": {
      "text/plain": [
       "True"
      ]
     },
     "execution_count": 46,
     "metadata": {},
     "output_type": "execute_result"
    }
   ],
   "source": [
    "nltk.download(\"stopwords\")\n",
    "nltk.download(\"punkt\")\n",
    "nltk.download(\"wordnet\")"
   ]
  },
  {
   "cell_type": "code",
   "execution_count": 47,
   "metadata": {},
   "outputs": [],
   "source": [
    "RANDOM_SEED = 42"
   ]
  },
  {
   "cell_type": "markdown",
   "metadata": {},
   "source": [
    "## Data loading"
   ]
  },
  {
   "cell_type": "code",
   "execution_count": 9,
   "metadata": {},
   "outputs": [],
   "source": [
    "# Set the dataset name and URL\n",
    "dataset_name = \"imdb\"\n",
    "dataset_url = \"http://ai.stanford.edu/~amaas/data/sentiment/aclImdb_v1.tar.gz\"\n",
    "\n",
    "# Create the dataset folder\n",
    "dataset_folder = os.path.join(os.getcwd(), \"datasets\", dataset_name)\n",
    "original_dataset_folder = os.path.join(dataset_folder, \"original\")\n",
    "if not os.path.exists(original_dataset_folder):\n",
    "    os.makedirs(original_dataset_folder)\n",
    "\n",
    "# Create the dataframe folder\n",
    "df_folder = os.path.join(dataset_folder, \"dataframe\")\n",
    "if not os.path.exists(df_folder):\n",
    "    os.makedirs(df_folder)\n",
    "dataframe_path = os.path.join(df_folder, dataset_name + \".pkl\")"
   ]
  },
  {
   "cell_type": "code",
   "execution_count": 7,
   "metadata": {},
   "outputs": [
    {
     "name": "stdout",
     "output_type": "stream",
     "text": [
      "Dataset already downloaded and extracted\n"
     ]
    }
   ],
   "source": [
    "# Download and extract the dataset\n",
    "original_dataset_path = os.path.join(original_dataset_folder, \"movies.tar.gz\")\n",
    "if not os.path.exists(original_dataset_path):\n",
    "    urllib.request.urlretrieve(dataset_url, original_dataset_path)\n",
    "    print(\"Successful download\")\n",
    "    tar = tarfile.open(original_dataset_path)\n",
    "    tar.extractall(original_dataset_folder)\n",
    "    extracted_folder_name = tar.getnames()[0]\n",
    "    tar.close()\n",
    "    print(\"Successful extraction\")\n",
    "else:\n",
    "    print(\"Dataset already downloaded and extracted\")"
   ]
  },
  {
   "cell_type": "code",
   "execution_count": 8,
   "metadata": {},
   "outputs": [
    {
     "name": "stdout",
     "output_type": "stream",
     "text": [
      "Dataframe already saved as a pickle file\n"
     ]
    }
   ],
   "source": [
    "if not os.path.exists(dataframe_path):\n",
    "    dataframe_rows = []\n",
    "    for split in [\"train\", \"test\"]:\n",
    "        for sentiment in [\"pos\", \"neg\"]:\n",
    "            folder = os.path.join(original_dataset_folder, \"aclImdb\", split, sentiment)\n",
    "            for filename in os.listdir(folder):\n",
    "                file_path = os.path.join(folder, filename)\n",
    "                try:\n",
    "                    if os.path.isfile(file_path):\n",
    "                        with open(file_path, mode=\"r\", encoding=\"utf-8\") as text_file:\n",
    "                            # Extract info\n",
    "                            text = text_file.read()\n",
    "                            score = filename.split(\"_\")[1].split(\".\")[0]\n",
    "                            file_id = filename.split(\"_\")[0]\n",
    "\n",
    "                            # Compute sentiment\n",
    "                            num_sentiment = (\n",
    "                                1\n",
    "                                if sentiment == \"pos\"\n",
    "                                else 0\n",
    "                                if sentiment == \"neg\"\n",
    "                                else -1\n",
    "                            )\n",
    "\n",
    "                            # Create single dataframe row\n",
    "                            dataframe_row = {\n",
    "                                \"file_id\": file_id,\n",
    "                                \"score\": score,\n",
    "                                \"sentiment\": num_sentiment,\n",
    "                                \"split\": split,\n",
    "                                \"text\": text,\n",
    "                            }\n",
    "                            dataframe_rows.append(dataframe_row)\n",
    "                except Exception as e:\n",
    "                    print(\"Failed to process %s. Reason: %s\" % (file_path, e))\n",
    "                    sys.exit(0)\n",
    "\n",
    "    # Transform the list of rows in a proper dataframe\n",
    "    dataframe = pd.DataFrame(dataframe_rows)\n",
    "    dataframe_cols = [\"file_id\", \"score\", \"sentiment\", \"split\", \"text\"]\n",
    "    dataframe = dataframe[dataframe_cols]\n",
    "    dataframe.to_pickle(dataframe_path)\n",
    "else:\n",
    "    print(\"Dataframe already saved as a pickle file\")"
   ]
  },
  {
   "cell_type": "code",
   "execution_count": 10,
   "metadata": {},
   "outputs": [
    {
     "data": {
      "text/html": [
       "<div>\n",
       "<style scoped>\n",
       "    .dataframe tbody tr th:only-of-type {\n",
       "        vertical-align: middle;\n",
       "    }\n",
       "\n",
       "    .dataframe tbody tr th {\n",
       "        vertical-align: top;\n",
       "    }\n",
       "\n",
       "    .dataframe thead th {\n",
       "        text-align: right;\n",
       "    }\n",
       "</style>\n",
       "<table border=\"1\" class=\"dataframe\">\n",
       "  <thead>\n",
       "    <tr style=\"text-align: right;\">\n",
       "      <th></th>\n",
       "      <th>file_id</th>\n",
       "      <th>score</th>\n",
       "      <th>sentiment</th>\n",
       "      <th>split</th>\n",
       "      <th>text</th>\n",
       "    </tr>\n",
       "  </thead>\n",
       "  <tbody>\n",
       "    <tr>\n",
       "      <th>0</th>\n",
       "      <td>2257</td>\n",
       "      <td>7</td>\n",
       "      <td>1</td>\n",
       "      <td>train</td>\n",
       "      <td>Sarafina was a fun movie, and some of the song...</td>\n",
       "    </tr>\n",
       "    <tr>\n",
       "      <th>1</th>\n",
       "      <td>4778</td>\n",
       "      <td>9</td>\n",
       "      <td>1</td>\n",
       "      <td>train</td>\n",
       "      <td>Like his early masterpiece \"The Elephant Man\" ...</td>\n",
       "    </tr>\n",
       "    <tr>\n",
       "      <th>2</th>\n",
       "      <td>7284</td>\n",
       "      <td>8</td>\n",
       "      <td>1</td>\n",
       "      <td>train</td>\n",
       "      <td>When I was young I had seen very few movies. M...</td>\n",
       "    </tr>\n",
       "    <tr>\n",
       "      <th>3</th>\n",
       "      <td>4845</td>\n",
       "      <td>9</td>\n",
       "      <td>1</td>\n",
       "      <td>train</td>\n",
       "      <td>Hello Playmates.I recently watched this film f...</td>\n",
       "    </tr>\n",
       "    <tr>\n",
       "      <th>4</th>\n",
       "      <td>6822</td>\n",
       "      <td>7</td>\n",
       "      <td>1</td>\n",
       "      <td>train</td>\n",
       "      <td>\"Opening Night\" released in 1977, tries to be ...</td>\n",
       "    </tr>\n",
       "  </tbody>\n",
       "</table>\n",
       "</div>"
      ],
      "text/plain": [
       "  file_id  score  sentiment  split  \\\n",
       "0    2257      7          1  train   \n",
       "1    4778      9          1  train   \n",
       "2    7284      8          1  train   \n",
       "3    4845      9          1  train   \n",
       "4    6822      7          1  train   \n",
       "\n",
       "                                                text  \n",
       "0  Sarafina was a fun movie, and some of the song...  \n",
       "1  Like his early masterpiece \"The Elephant Man\" ...  \n",
       "2  When I was young I had seen very few movies. M...  \n",
       "3  Hello Playmates.I recently watched this film f...  \n",
       "4  \"Opening Night\" released in 1977, tries to be ...  "
      ]
     },
     "execution_count": 10,
     "metadata": {},
     "output_type": "execute_result"
    }
   ],
   "source": [
    "df = pd.read_pickle(dataframe_path)\n",
    "df[\"score\"] = pd.to_numeric(df[\"score\"])\n",
    "df.head()"
   ]
  },
  {
   "cell_type": "markdown",
   "metadata": {},
   "source": [
    "## Data exploration"
   ]
  },
  {
   "cell_type": "markdown",
   "metadata": {},
   "source": [
    "Below we can see that the number of examples in classes 1 and 10 is much higher than the number of examples in the other classes. This means that most probably our classification results will be skewed towards very high or very low classes. This aspect is also reinforced by the inherent difficulty of the task, i.e. it is easy to discriminate between positive and negative reviews, while it may be very difficult to obtain a good estimate of the exact score number."
   ]
  },
  {
   "cell_type": "code",
   "execution_count": 11,
   "metadata": {},
   "outputs": [
    {
     "name": "stdout",
     "output_type": "stream",
     "text": [
      "Distribution of scores: \n"
     ]
    },
    {
     "data": {
      "text/plain": [
       "1     10122\n",
       "10     9731\n",
       "8      5859\n",
       "4      5331\n",
       "3      4961\n",
       "7      4803\n",
       "9      4607\n",
       "2      4586\n",
       "Name: score, dtype: int64"
      ]
     },
     "execution_count": 11,
     "metadata": {},
     "output_type": "execute_result"
    }
   ],
   "source": [
    "print(\"Distribution of scores: \")\n",
    "df[\"score\"].value_counts()"
   ]
  },
  {
   "cell_type": "code",
   "execution_count": 12,
   "metadata": {},
   "outputs": [
    {
     "name": "stdout",
     "output_type": "stream",
     "text": [
      "Score labels: [1, 2, 3, 4, 7, 8, 9, 10]\n"
     ]
    }
   ],
   "source": [
    "score_labels = sorted(df[\"score\"].unique())\n",
    "print(f\"Score labels: {score_labels}\")"
   ]
  },
  {
   "cell_type": "markdown",
   "metadata": {},
   "source": [
    "Something which may be worth considering is that some reviews are present multiple times in the dataset. The strange thing is that we don't observe real duplicates (since rows are unique), but we can see that some texts are present more than once in the dataset.\n",
    "\n",
    "In theory, this could get us in trouble with some estimators, like naive Bayes, which assumes i.i.d. samples."
   ]
  },
  {
   "cell_type": "code",
   "execution_count": 59,
   "metadata": {},
   "outputs": [
    {
     "name": "stdout",
     "output_type": "stream",
     "text": [
      "Number of duplicated texts: 418\n",
      "Number of duplicated rows: 0\n"
     ]
    }
   ],
   "source": [
    "num_dup_texts = df[\"text\"].duplicated().value_counts()[True]\n",
    "print(f\"Number of duplicated texts: {num_dup_texts}\")\n",
    "print(\n",
    "    f\"Number of duplicated rows: {num_dup_texts - df.drop_duplicates()['text'].duplicated().value_counts()[True]}\"\n",
    ")"
   ]
  },
  {
   "cell_type": "markdown",
   "metadata": {},
   "source": [
    "To check how duplicates are formed, we group them by the `text` column and aggregate values of other columns present in different rows of the same group. In particular, we use a `frozenset` aggregation, in order to have an hashable iterable structure. "
   ]
  },
  {
   "cell_type": "code",
   "execution_count": 93,
   "metadata": {},
   "outputs": [
    {
     "data": {
      "text/html": [
       "<div>\n",
       "<style scoped>\n",
       "    .dataframe tbody tr th:only-of-type {\n",
       "        vertical-align: middle;\n",
       "    }\n",
       "\n",
       "    .dataframe tbody tr th {\n",
       "        vertical-align: top;\n",
       "    }\n",
       "\n",
       "    .dataframe thead th {\n",
       "        text-align: right;\n",
       "    }\n",
       "</style>\n",
       "<table border=\"1\" class=\"dataframe\">\n",
       "  <thead>\n",
       "    <tr style=\"text-align: right;\">\n",
       "      <th></th>\n",
       "      <th>file_id</th>\n",
       "      <th>score</th>\n",
       "      <th>sentiment</th>\n",
       "      <th>split</th>\n",
       "    </tr>\n",
       "    <tr>\n",
       "      <th>text</th>\n",
       "      <th></th>\n",
       "      <th></th>\n",
       "      <th></th>\n",
       "      <th></th>\n",
       "    </tr>\n",
       "  </thead>\n",
       "  <tbody>\n",
       "    <tr>\n",
       "      <th>\"Go Fish\" garnered Rose Troche rightly or wrongly the reputation of a film maker with much promise.&lt;br /&gt;&lt;br /&gt;Its then hard to understand how she could turn out a movie made up of stereotypes that one associates with inferior sitcoms. The entire film rings hollow. I cringed the whole way through.&lt;br /&gt;&lt;br /&gt;Its supposed to be a look into nineties human sexuality. Well not much more here to be learned than from \"In and Out\". By now most of us actually do know, that there are men who are sexually attracted to women and there men who are sexually attracted to men and there are even men sexually attracted to both sexes. &lt;br /&gt;&lt;br /&gt;Seldom has this revelation been portrayed on the screen with so little wit and style.&lt;br /&gt;&lt;br /&gt;Pathetic.</th>\n",
       "      <td>(2183, 10977)</td>\n",
       "      <td>(2)</td>\n",
       "      <td>(0)</td>\n",
       "      <td>(test)</td>\n",
       "    </tr>\n",
       "    <tr>\n",
       "      <th>\"Three\" is a seriously dumb shipwreck movie. Masquerading as a psychological thriller, it's closest relative is the monumentally superior \"Dead Calm\" (also featuring Billy Zane). \"Dead Calm\" provided well drawn characters to root for in the form of Sam Neil and Nicole Kidman's grieving parents attempting to re-define their relationship on an ocean cruise. They end up being terrorised by Zane's adrift psycho-killer. It provided sharp, increasingly ratcheted suspense, a scary feeling of claustrophobia in open seas as the cat and mouse game of life and death unfolded.&lt;br /&gt;&lt;br /&gt;\"Three\" suffers from poorly drawn characterisation (the audience doesn't care what happens to any of them), a stupid and unnecessary voodoo plot device, a total lack of suspense or excitement and some thudding, hammy performances from the principal players. Zane in particular goes way over the top in an irritatingly mannered fashion. In \"Dead Calm\" he was menacing, wired and seething with barely controlled sexual violence. Here he is bombastic, petulant slimy, and unravelled. And where does he get his seemingly inexhaustible supply of dry cigarettes and cigars? And how come his lighter stays full of juice for over a year? Ms Brook is very picturesque, stunningly pretty, but both her chest and rear appear to have been wildly over-inflated by some sort of life-raft pump. They do, however, succeed in acting with more skill and conviction than the rest of her. Dramatic actress, in the purest sense of the term, she is not. The guy playing the voodoo-hexed Manuel, the third component of this sorry triangle, could have been replaced by a lump of driftwood - no one would notice. In fact, judging by his complete lack of ability to deliver dialogue in any meaningful or dynamic way, driftwood represents a potential improvement in the casting stakes (excuse pun).&lt;br /&gt;&lt;br /&gt;Plus sides: the scenery is nice and the cinematography (above and below the water) is credible.&lt;br /&gt;&lt;br /&gt;I'm guessing this had a very limited (if any) theatrical release or went straight to rental and retail DVD. The reason for this is it's not very good. If you want something decent along these lines, get \"Dead Calm.\" It was made by people who knew a bit about cinema.</th>\n",
       "      <td>(6089, 4129)</td>\n",
       "      <td>(3)</td>\n",
       "      <td>(0)</td>\n",
       "      <td>(test)</td>\n",
       "    </tr>\n",
       "    <tr>\n",
       "      <th>\"Witchery\" might just be the most incoherent and lamentably scripted horror movie of the 80's but, luckily enough, it has a few compensating qualities like fantastic gore effects, an exhilarating musical score and some terrific casting choices. Honestly the screenplay doesn't make one iota of sense, but who cares when Linda Blair (with an exploded hairstyle) portrays yet another girl possessed by evil powers and David Hasselhof depicts a hunky photographer (who can't seem to get laid) in a movie that constantly features bloody voodoo, sewn-shut lips, upside down crucifixions, vicious burnings and an overused but genuinely creepy tune. Eight random people are gathered together on an abandoned vacation resort island off the coast of Massachusetts. The young couple is there to investigate the place's dark history; the dysfunctional family (with a pregnant Linda Blair even though nobody seems to bother about who the father is and what his whereabouts are) considers re-opening the hotel and the yummy female architect simply tagged along for casual sex. They're forced to stay the night in the ramshackle hotel and then suddenly the previous landlady  an aging actress or something who always dresses in black  starts taking them out in various engrossing ways. Everything is somehow related to the intro sequence showing a woman accused of witchery jump out of a window. Anyway, the plot is definitely of minor importance in an Italian horror franchise that started as an unofficial spin-off of \"The Evil Dead\". The atmosphere is occasionally unsettling and the make-up effects are undoubtedly the most superior element of the entire film. There's something supremely morbid and unsettling about staring at a defenseless woman hanging upside down a chimney and waiting to get fried.</th>\n",
       "      <td>(12298, 69)</td>\n",
       "      <td>(4)</td>\n",
       "      <td>(0)</td>\n",
       "      <td>(test, train)</td>\n",
       "    </tr>\n",
       "    <tr>\n",
       "      <th>'Dead Letter Office' is a low-budget film about a couple of employees of the Australian postal service, struggling to rebuild their damaged lives. Unfortunately, the acting is poor and the links between the characters' past misfortunes and present mindsets are clumsily and over-schematically represented. What's most disappointing of all, however, is the portrayal is life in the office of the film's title: there's no mechanisation whatsoever, and it's quite impossible to ascertain what any of the staff really do for a living. Granted, part of the plot is that the office is threatened with closure, but this sort of office surely closed in the 1930s, if it ever truly existed. It's a shame, as the film's overall tone is poignant and wry, and there's some promise in the scenario: but few of the details convince. Overall, it feels the work of someone who hasn't actually experienced much of real life; a student film, with a concept and an outline, but sadly little else.</th>\n",
       "      <td>(985, 4102)</td>\n",
       "      <td>(4)</td>\n",
       "      <td>(0)</td>\n",
       "      <td>(train)</td>\n",
       "    </tr>\n",
       "    <tr>\n",
       "      <th>(Spoilers)&lt;br /&gt;&lt;br /&gt;Oh sure it's based on Moby Dick. Totally obsessed and it destroy's him. It's a total folly. The movie starts off rather well, but by the end of the film, everyone else is destroyed and the main star's mind is a blank.&lt;br /&gt;&lt;br /&gt;The supposed half sister is never convincing. Some very poor lighting effects. Music is interesting. But little else. It took me over a month to finally finish the darn thing. I suppose if you like Being John Malkovich, you might like this. But where as BJM was a great movie that I just didn't want to watch again, Pola X is a movie I just hate to high hell. The only possible excitement in the film is the gratuatious incest sexual scene towards the end of the film. (Hopefully yer not thinking of Catherine either.)&lt;br /&gt;&lt;br /&gt;This movie is severely boring, depressing, and poorly directed. Not highly recommended. If if you like french movies. (go watch Crimson Rivers instead)&lt;br /&gt;&lt;br /&gt;4/10&lt;br /&gt;&lt;br /&gt;Quality: 5/10 Entertainment: 1/10 Replayable: 0/10</th>\n",
       "      <td>(3343, 3124)</td>\n",
       "      <td>(4)</td>\n",
       "      <td>(0)</td>\n",
       "      <td>(test)</td>\n",
       "    </tr>\n",
       "  </tbody>\n",
       "</table>\n",
       "</div>"
      ],
      "text/plain": [
       "                                                          file_id score  \\\n",
       "text                                                                      \n",
       "\"Go Fish\" garnered Rose Troche rightly or wrong...  (2183, 10977)   (2)   \n",
       "\"Three\" is a seriously dumb shipwreck movie. Ma...   (6089, 4129)   (3)   \n",
       "\"Witchery\" might just be the most incoherent an...    (12298, 69)   (4)   \n",
       "'Dead Letter Office' is a low-budget film about...    (985, 4102)   (4)   \n",
       "(Spoilers)<br /><br />Oh sure it's based on Mob...   (3343, 3124)   (4)   \n",
       "\n",
       "                                                   sentiment          split  \n",
       "text                                                                         \n",
       "\"Go Fish\" garnered Rose Troche rightly or wrong...       (0)         (test)  \n",
       "\"Three\" is a seriously dumb shipwreck movie. Ma...       (0)         (test)  \n",
       "\"Witchery\" might just be the most incoherent an...       (0)  (test, train)  \n",
       "'Dead Letter Office' is a low-budget film about...       (0)        (train)  \n",
       "(Spoilers)<br /><br />Oh sure it's based on Mob...       (0)         (test)  "
      ]
     },
     "execution_count": 93,
     "metadata": {},
     "output_type": "execute_result"
    }
   ],
   "source": [
    "dup_texts = (\n",
    "    df[df[\"text\"].duplicated(keep=False)]\n",
    "    .groupby(\"text\")\n",
    "    .agg(\n",
    "        {\n",
    "            \"file_id\": frozenset,\n",
    "            \"score\": frozenset,\n",
    "            \"sentiment\": frozenset,\n",
    "            \"split\": frozenset,\n",
    "        }\n",
    "    )\n",
    ")\n",
    "dup_texts.head()"
   ]
  },
  {
   "cell_type": "markdown",
   "metadata": {},
   "source": [
    "We can observe that duplicated texts are $\\dots$\n",
    "- $\\dots$ not due to the sentiment column\n",
    "- $\\dots$ not so much related to scores (just few duplicated examples have different score values)\n",
    "- $\\dots$ given by the same text being in the train and test split (which could lead to better prediction accuracy not reflecting the truth)\n",
    "- $\\dots$ given by the same file being repeated with a different `file_id`"
   ]
  },
  {
   "cell_type": "code",
   "execution_count": 96,
   "metadata": {},
   "outputs": [
    {
     "data": {
      "text/plain": [
       "score      (1)              143.0\n",
       "           (3)               57.0\n",
       "           (10)              54.0\n",
       "           (2)               48.0\n",
       "           (4)               47.0\n",
       "           (9)               20.0\n",
       "           (8)               17.0\n",
       "           (7)               16.0\n",
       "           (10, 7)            1.0\n",
       "           (3, 4)             1.0\n",
       "           (8, 7)             1.0\n",
       "           (8, 10)            1.0\n",
       "sentiment  (1)              110.0\n",
       "           (0)              296.0\n",
       "split      (test)           191.0\n",
       "           (train)           92.0\n",
       "           (test, train)    123.0\n",
       "dtype: float64"
      ]
     },
     "execution_count": 96,
     "metadata": {},
     "output_type": "execute_result"
    }
   ],
   "source": [
    "dup_texts.drop(\"file_id\", axis=1).apply(lambda x: x.value_counts()).T.stack()"
   ]
  },
  {
   "cell_type": "markdown",
   "metadata": {},
   "source": [
    "So, we can drop those duplicates so as to get less skewed estimates at prediction time."
   ]
  },
  {
   "cell_type": "code",
   "execution_count": 102,
   "metadata": {},
   "outputs": [],
   "source": [
    "df = df.drop(df[df[\"text\"].duplicated()].index)"
   ]
  },
  {
   "cell_type": "markdown",
   "metadata": {},
   "source": [
    "To continue with data exploration, we wish to check for the words which have the highest frequency in the dataset, after a certain probability mass (to avoid corpus-specific stopwords)."
   ]
  },
  {
   "cell_type": "code",
   "execution_count": 7,
   "metadata": {},
   "outputs": [
    {
     "name": "stdout",
     "output_type": "stream",
     "text": [
      "Number of different words in class 1: 61170\n",
      "10 most frequent (after 0.7 frequency) words in class 1:\n",
      "['book', 'maybe', 'gets', 'almost', 'may', '2', 'sure', 'since', 'however', '..']\n",
      "\n",
      "Number of different words in class 2: 44293\n",
      "10 most frequent (after 0.7 frequency) words in class 2:\n",
      "['rather', 'own', 'budget', 'sense', 'actor', 'both', 'feel', 'yet', 'having', 'half']\n",
      "\n",
      "Number of different words in class 3: 49303\n",
      "10 most frequent (after 0.7 frequency) words in class 3:\n",
      "['screen', 'audience', 'stupid', 'family', 'actor', 'house', 'rest', 'sex', 'once', 'during']\n",
      "\n",
      "Number of different words in class 4: 52665\n",
      "10 most frequent (after 0.7 frequency) words in class 4:\n",
      "['actor', 'death', 'different', 'help', 'fan', 'together', 'takes', 'each', 'less', 'house']\n",
      "\n",
      "Number of different words in class 7: 50749\n",
      "10 most frequent (after 0.7 frequency) words in class 7:\n",
      "['\\x96', 'until', 'second', 'believe', 'keep', 'kids', 'become', 'small', 'hollywood', 'production']\n",
      "\n",
      "Number of different words in class 8: 55589\n",
      "10 most frequent (after 0.7 frequency) words in class 8:\n",
      "['watched', 'said', 'works', 'fan', 'couple', \"'d\", 'someone', 'human', 'loved', 'others']\n",
      "\n",
      "Number of different words in class 9: 47572\n",
      "10 most frequent (after 0.7 frequency) words in class 9:\n",
      "['let', 'said', 'short', 'small', 'seem', 'mind', 'until', 'others', 'need', 'definitely']\n",
      "\n",
      "Number of different words in class 10: 63246\n",
      "10 most frequent (after 0.7 frequency) words in class 10:\n",
      "['american', 'three', 'fan', 'father', 'later', 'mind', 'goes', 'version', 'black', 'night']\n",
      "\n"
     ]
    }
   ],
   "source": [
    "def compute_freqs(words, top, thresh):\n",
    "    \"\"\"\n",
    "    Return the `top` most frequent words of the dataset,\n",
    "    after filtering them to be after `thresh` frequency \n",
    "    \"\"\"\n",
    "    fdist = nltk.FreqDist(words)\n",
    "    common = {\n",
    "        k: fdist.freq(k)\n",
    "        for k, _ in sorted(fdist.items(), key=lambda i: i[1], reverse=True)\n",
    "    }\n",
    "    words = list(common.keys())\n",
    "    freqs = list(common.values())\n",
    "    common_cumulative = {k: sum(freqs[:i]) for i, k in enumerate(words)}\n",
    "    return [k for k, v in common_cumulative.items() if v >= thresh][:top]\n",
    "\n",
    "\n",
    "def print_df_freqs(dataframe, top=10, thresh=0.7):\n",
    "    \"\"\"\n",
    "    Print the `top` most frequent words of the dataset,\n",
    "    for each class\n",
    "    \"\"\"\n",
    "    for c in score_labels:\n",
    "        words = []\n",
    "        text = df.query(f\"score == {c}\")[\"text\"].to_numpy()\n",
    "        for t in text:\n",
    "            words.extend(word_tokenize(t.lower()))\n",
    "        print(f\"Number of different words in class {c}: {len(set(words))}\")\n",
    "        common = compute_freqs(words, top=top, thresh=thresh)\n",
    "        print(f\"{top} most frequent (after {thresh} frequency) words in class {c}:\")\n",
    "        print(common)\n",
    "        print()\n",
    "\n",
    "\n",
    "print_df_freqs(df)"
   ]
  },
  {
   "cell_type": "markdown",
   "metadata": {},
   "source": [
    "Now, let's see how much we can improve the quality of the dataset by using some ad-hoc regular expressions. In particular, we can observe that decimal numbers and HTML tags are present in a lot of examples."
   ]
  },
  {
   "cell_type": "code",
   "execution_count": 14,
   "metadata": {},
   "outputs": [
    {
     "name": "stdout",
     "output_type": "stream",
     "text": [
      "Number of texts with dates:\n",
      "False    49997\n",
      "True         3\n",
      "Name: text, dtype: int64\n",
      "\n",
      "Number of texts with decimal numbers:\n",
      "False    49814\n",
      "True       186\n",
      "Name: text, dtype: int64\n",
      "\n",
      "Number of texts with integers:\n",
      "False    50000\n",
      "Name: text, dtype: int64\n",
      "\n",
      "Number of texts with elements in square brackets:\n",
      "False    49987\n",
      "True        13\n",
      "Name: text, dtype: int64\n",
      "\n",
      "Number of texts with HTML tags:\n",
      "False    49846\n",
      "True       154\n",
      "Name: text, dtype: int64\n",
      "\n"
     ]
    }
   ],
   "source": [
    "def re_match(regex, text):\n",
    "    \"\"\"\n",
    "    Return True if the given regex matches inside the given text,\n",
    "    otherwise return False\n",
    "    \"\"\"\n",
    "    return re.match(regex, text) is not None\n",
    "\n",
    "\n",
    "# Find dates\n",
    "DATE_RE = r\"\\d{1,2}[-\\/\\.]\\d{1,2}[-\\/\\.]\\d{2,4}\"\n",
    "num_dates = df[\"text\"].map(partial(re_match, DATE_RE)).value_counts()\n",
    "print(\"Number of texts with dates:\")\n",
    "print(num_dates)\n",
    "print()\n",
    "\n",
    "# Find floats\n",
    "FLOAT_RE = r\"(\\d*\\,)?\\d+.\\d*\"\n",
    "num_floats = df[\"text\"].map(partial(re_match, FLOAT_RE)).value_counts()\n",
    "print(\"Number of texts with decimal numbers:\")\n",
    "print(num_floats)\n",
    "print()\n",
    "\n",
    "# Find ints\n",
    "INT_RE = r\"(?<=\\s)\\d+(?=\\s)\"\n",
    "num_ints = df[\"text\"].map(partial(re_match, INT_RE)).value_counts()\n",
    "print(\"Number of texts with integers:\")\n",
    "print(num_ints)\n",
    "print()\n",
    "\n",
    "# Find brackets\n",
    "BRACKETS_RE = r\"\\[[^]]*\\]\"\n",
    "num_brackets = df[\"text\"].map(partial(re_match, BRACKETS_RE)).value_counts()\n",
    "print(\"Number of texts with elements in square brackets:\")\n",
    "print(num_brackets)\n",
    "print()\n",
    "\n",
    "# Find HTML tags\n",
    "HTML_RE = r\"<.*?>\"\n",
    "num_html = df[\"text\"].map(partial(re_match, HTML_RE)).value_counts()\n",
    "print(\"Number of texts with HTML tags:\")\n",
    "print(num_html)\n",
    "print()\n",
    "\n",
    "# Find punctuation\n",
    "PUNCTUATION_RE = r\"[^\\w{w}\\s\\{<>}]+\""
   ]
  },
  {
   "cell_type": "markdown",
   "metadata": {},
   "source": [
    "## Train/test utils"
   ]
  },
  {
   "cell_type": "markdown",
   "metadata": {},
   "source": [
    "In this section we are splitting the input data by the `split` attribute, which is provided by the dataset makers and is used to split training and testing data in half. Moreover, some utility functions are defined below."
   ]
  },
  {
   "cell_type": "code",
   "execution_count": 15,
   "metadata": {},
   "outputs": [],
   "source": [
    "train_df = df.loc[df['split'] == \"train\"]\n",
    "test_df = df.loc[df['split'] == \"test\"]"
   ]
  },
  {
   "cell_type": "code",
   "execution_count": 17,
   "metadata": {},
   "outputs": [
    {
     "name": "stdout",
     "output_type": "stream",
     "text": [
      "Number of sentences in the training set: 25000\n",
      "Number of sentences in the test set: 25000\n"
     ]
    }
   ],
   "source": [
    "train_corpus, train_scores, test_corpus, test_scores = (\n",
    "    train_df[\"text\"].tolist(),\n",
    "    np.array(train_df[\"score\"].tolist()),\n",
    "    test_df[\"text\"].tolist(),\n",
    "    np.array(test_df[\"score\"].tolist()),\n",
    ")\n",
    "print(f\"Number of sentences in the training set: {len(train_corpus)}\")\n",
    "print(f\"Number of sentences in the test set: {len(test_corpus)}\")"
   ]
  },
  {
   "cell_type": "code",
   "execution_count": 23,
   "metadata": {},
   "outputs": [],
   "source": [
    "def predict(classifier, x_train, x_test):\n",
    "    \"\"\"\n",
    "    Given a classifier and training/testing matrices, return predictions\n",
    "    \"\"\"\n",
    "    return (classifier.predict(x_train), classifier.predict(x_test))"
   ]
  },
  {
   "cell_type": "code",
   "execution_count": 32,
   "metadata": {},
   "outputs": [],
   "source": [
    "def print_evaluation(test_scores, pred_test_scores):\n",
    "    \"\"\"\n",
    "    Given ground-truth test scores and predicted test scores,\n",
    "    print classification measures\n",
    "    \"\"\"\n",
    "    # Evaluation as a regression task\n",
    "    print(\"R2 score %f\" % (r2_score(test_scores, pred_test_scores)))\n",
    "    print(\"MAE %f\" % (mean_absolute_error(test_scores, pred_test_scores)))\n",
    "    print(\"MSE %f\" % (mean_squared_error(test_scores, pred_test_scores)))\n",
    "    print()\n",
    "\n",
    "    # Evaluation as a multi-class classification task\n",
    "    report = classification_report(\n",
    "        test_scores, np.around(pred_test_scores), labels=score_labels\n",
    "    )\n",
    "    print(report)\n",
    "\n",
    "    # Fancy confusion matrix\n",
    "    plot_confusion_matrix(\n",
    "        classifier,\n",
    "        test_corpus,\n",
    "        test_scores,\n",
    "        normalize=\"true\",\n",
    "        cmap=plt.cm.Blues,\n",
    "        values_format=\".2f\",\n",
    "    )"
   ]
  },
  {
   "cell_type": "markdown",
   "metadata": {},
   "source": [
    "## Preprocessing"
   ]
  },
  {
   "cell_type": "markdown",
   "metadata": {},
   "source": [
    "The following block of code simply shows the english stopwords that will be used to filter out high-frequency words from the corpora."
   ]
  },
  {
   "cell_type": "code",
   "execution_count": 20,
   "metadata": {},
   "outputs": [
    {
     "name": "stdout",
     "output_type": "stream",
     "text": [
      "Stopwords (179): {'it', 'down', 'he', \"isn't\", 'than', 'you', \"wouldn't\", 'until', 'o', \"weren't\", 'whom', \"mightn't\", 'doing', 'each', 'because', 'been', \"don't\", 'these', 'was', \"shouldn't\", 'their', 'y', \"hadn't\", 'd', \"it's\", 'very', 'mustn', \"mustn't\", 'with', 'themselves', 'that', 'here', 'yourself', 'aren', 'be', \"you'll\", 'again', \"needn't\", 'ain', 'how', 'any', 'were', 'we', 'under', 'our', \"didn't\", 'will', \"should've\", 'don', 'wouldn', 'him', 'when', 'her', 'same', 'there', \"you're\", 'has', 'being', \"that'll\", 'some', 've', 'only', 'haven', \"doesn't\", 'does', 'hasn', \"haven't\", 't', \"you'd\", 'what', 'to', 'out', 'is', 'once', 'through', 's', 'this', 'having', 'or', 'too', 'won', 'did', 'hers', \"aren't\", 'not', 'them', 'should', 'which', 'more', 'about', 'where', 'herself', 'at', 'isn', 'just', 'mightn', \"you've\", 'i', 'no', 'itself', 'theirs', 'couldn', 'a', 'during', 'off', 'then', 'why', \"couldn't\", 'by', 'from', 'after', 'himself', 'its', 'll', 'she', 'are', 'am', 'had', 'and', 'hadn', \"hasn't\", 'do', 'in', 'doesn', 'shouldn', 'so', 'yours', 'who', 'before', 'both', 'other', 'm', 'your', 'further', 'such', 'above', 'over', 'own', 're', 'while', 'between', 'for', 'wasn', 'didn', 'have', 'up', 'now', 'ma', 'those', 'they', 'me', 'below', 'an', 'the', 'few', \"shan't\", \"won't\", 'nor', 'but', 'against', 'can', 'on', 'yourselves', 'if', 'myself', 'most', 'all', 'needn', \"she's\", 'weren', 'of', 'his', \"wasn't\", 'into', 'my', 'ourselves', 'shan', 'as', 'ours'}\n"
     ]
    }
   ],
   "source": [
    "EN_STOPWORDS = set(stopwords.words(\"english\"))\n",
    "print(f\"Stopwords ({len(EN_STOPWORDS)}): {EN_STOPWORDS}\")"
   ]
  },
  {
   "cell_type": "markdown",
   "metadata": {},
   "source": [
    "The `preprocess_text` function is highly customizable and can be tested with different kinds of parameter combinations, in order to achieve the best results with problem at hand.\n",
    "\n",
    "In particular, extensive testing shows the following:\n",
    "- Stemming/lemmatization does not alter prediction performance at all\n",
    "- Marking negative meaning of words with the `_NEG` token actually gives worse results than the baseline approach, that may be due to the much higher input space w.r.t. the one in which words are considered as-is\n",
    "- Removing punctuation and stopwords does not seem to have a big impact on classification measures\n",
    "- Removing words with less than `n` characters is pretty much the same as removing stopwords"
   ]
  },
  {
   "cell_type": "code",
   "execution_count": 26,
   "metadata": {},
   "outputs": [],
   "source": [
    "STEMMER = nltk.porter.PorterStemmer()\n",
    "LEMMATIZER = nltk.wordnet.WordNetLemmatizer()\n",
    "\n",
    "\n",
    "def stem_text(text):\n",
    "    return [STEMMER.stem(word) for word in text]\n",
    "\n",
    "\n",
    "def lemmatize_text(text):\n",
    "    return [LEMMATIZER.lemmatize(word) for word in text]\n",
    "\n",
    "\n",
    "def preprocess_text(\n",
    "    text,\n",
    "    mark_neg=False,\n",
    "    remove_punct=False,\n",
    "    remove_stopwords=False,\n",
    "    min_chars=None,\n",
    "    root=None,\n",
    "):\n",
    "    # Strip trailing spaces and remove newlines\n",
    "    text = text.strip().replace(\"\\n\", \" \").replace(\"\\r\", \" \")\n",
    "    # Convert to lowercase\n",
    "    text = text.lower()\n",
    "    # Remove HTML tags\n",
    "    text = re.sub(HTML_RE, \"\", text)\n",
    "    # Remove text in square brackets\n",
    "    text = re.sub(BRACKETS_RE, \"\", text)\n",
    "    # Remove dates\n",
    "    text = re.sub(DATE_RE, \"\", text)\n",
    "    # Remove floating numbers\n",
    "    text = re.sub(FLOAT_RE, \"\", text)\n",
    "    # Mark negation\n",
    "    if mark_neg:\n",
    "        text = \" \".join(mark_negation(text.split(), double_neg_flip=False))\n",
    "        EN_STOPWORDS.add(\"_NEG\")\n",
    "    # Remove punctuation\n",
    "    if remove_punct:\n",
    "        text = re.sub(PUNCTUATION_RE, \"\", text)\n",
    "    # Leave single whitespace\n",
    "    text = text.split()\n",
    "    # Remove words with less than `n` chars\n",
    "    if min_chars is not None and isinstance(min_chars, int):\n",
    "        text = [word for word in text if len(word) >= min_chars]\n",
    "    # Remove stopwords\n",
    "    if remove_stopwords:\n",
    "        text = [word for word in text if word not in EN_STOPWORDS]\n",
    "    # Perform stemming/lemmatization\n",
    "    if root == \"stem\":\n",
    "        text = stem_text(text)\n",
    "    elif root == \"lemmatize\":\n",
    "        text = lemmatize_text(text)\n",
    "    # Return the text as a string\n",
    "    return \" \".join(text)"
   ]
  },
  {
   "cell_type": "markdown",
   "metadata": {},
   "source": [
    "In the cell below we are storing a number of different partially applied functions that can be used as a parameter for the optimization algorithms available in `scikit-learn`. In particular, in the following sections we will use this list of functions as the `preprocessor` key of the `CountVectorizer` and/or `TfidfVectorizer`, which will then be optimized by grid search."
   ]
  },
  {
   "cell_type": "code",
   "execution_count": null,
   "metadata": {},
   "outputs": [],
   "source": [
    "preprocessing_funcs = [\n",
    "    partial(\n",
    "        preprocess_text,\n",
    "        remove_punct=False,\n",
    "        remove_stopwords=False,\n",
    "        min_chars=2,\n",
    "        root=None,\n",
    "    ),\n",
    "    partial(\n",
    "        preprocess_text,\n",
    "        remove_punct=True,\n",
    "        remove_stopwords=True,\n",
    "        min_chars=2,\n",
    "        root=None,\n",
    "    ),\n",
    "    partial(\n",
    "        preprocess_text,\n",
    "        remove_punct=True,\n",
    "        remove_stopwords=True,\n",
    "        min_chars=3,\n",
    "        root=\"lemmatize\",\n",
    "    ),\n",
    "]"
   ]
  },
  {
   "cell_type": "markdown",
   "metadata": {},
   "source": [
    "To show an example of how the preprocessing step works, we are displaying a random sentence before and after the `preprocess_text` function is called."
   ]
  },
  {
   "cell_type": "code",
   "execution_count": 27,
   "metadata": {},
   "outputs": [
    {
     "name": "stdout",
     "output_type": "stream",
     "text": [
      "Random text with score 8\n",
      "\n",
      "Before pre-processing:\n",
      "For a film that got little publicity, and few people have heard about, this was pretty good. It's another one of these modern-day British crime films that are quirky (\"Snatch,\" \"Sexy Beast,\" etc.). It's not wild like \"Snatch\" but it's interesting and it has some rough characters.<br /><br />It also has a corny and somewhat predictable ending but early in the show - not late - has some neat twists to make it very interesting for the first-time viewer. Basically, it's about a low-key British male who sends away for a Russian \"mail order bride\" who winds up, with the aid of two Russian male friends, providing a couple of big surprises.<br /><br />Ben Chapin and Nicole Kidman co-star, and are very good as are Vincent Cassel and Matthieu Kassovitz as Kidman's Russian cohorts. This is a different kind of film and well-acted. Kidman once again proves she's far more than just a beautiful face.\n",
      "\n",
      "After pre-processing:\n",
      "for a film that got little publicity, and few people have heard about, this was pretty good. it's another one of these modern-day british crime films that are quirky (\"snatch,\" \"sexy beast,\" etc.). it's not wild like \"snatch\" but it's interesting and it has some rough characters.it also has a corny and somewhat predictable ending but early in the show - not late - has some neat twists to make it very interesting for the first-time viewer. basically, it's about a low-key british male who sends away for a russian \"mail order bride\" who winds up, with the aid of two russian male friends, providing a couple of big surprises.ben chapin and nicole kidman co-star, and are very good as are vincent cassel and matthieu kassovitz as kidman's russian cohorts. this is a different kind of film and well-acted. kidman once again proves she's far more than just a beautiful face.\n"
     ]
    }
   ],
   "source": [
    "rnd_text = np.random.choice(df.index, 1)[0]\n",
    "print(f\"Random text with score {df['score'].iloc[rnd_text]}\")\n",
    "print()\n",
    "print(f\"Before pre-processing:\")\n",
    "print(df['text'].iloc[rnd_text])\n",
    "print()\n",
    "print(\"After pre-processing:\")\n",
    "print(preprocess_text(df['text'].iloc[rnd_text]))"
   ]
  },
  {
   "cell_type": "markdown",
   "metadata": {},
   "source": [
    "## Baseline"
   ]
  },
  {
   "cell_type": "markdown",
   "metadata": {},
   "source": [
    "The baseline approach is simply the one which could be used for sentiment prediction (positive/negative), i.e. a `TF-IDF` vectorizer which uses unigrams and a logistic regression estimator."
   ]
  },
  {
   "cell_type": "code",
   "execution_count": 28,
   "metadata": {},
   "outputs": [],
   "source": [
    "pipeline = Pipeline(\n",
    "    [\n",
    "        (\"tfidf\", TfidfVectorizer()),\n",
    "        (\"clf\", LogisticRegression(random_state=RANDOM_SEED, max_iter=1000)),\n",
    "    ]\n",
    ")\n",
    "classifier = pipeline.fit(train_corpus, train_scores)"
   ]
  },
  {
   "cell_type": "code",
   "execution_count": 33,
   "metadata": {},
   "outputs": [
    {
     "name": "stdout",
     "output_type": "stream",
     "text": [
      "R2 score 0.484319\n",
      "MAE 1.468520\n",
      "MSE 6.284040\n",
      "\n",
      "              precision    recall  f1-score   support\n",
      "\n",
      "           1       0.53      0.84      0.65      5022\n",
      "           2       0.21      0.05      0.08      2302\n",
      "           3       0.27      0.12      0.17      2541\n",
      "           4       0.32      0.34      0.33      2635\n",
      "           7       0.32      0.24      0.27      2307\n",
      "           8       0.27      0.25      0.26      2850\n",
      "           9       0.23      0.04      0.06      2344\n",
      "          10       0.49      0.77      0.59      4999\n",
      "\n",
      "    accuracy                           0.43     25000\n",
      "   macro avg       0.33      0.33      0.30     25000\n",
      "weighted avg       0.37      0.43      0.37     25000\n",
      "\n"
     ]
    },
    {
     "data": {
      "image/png": "[encoded data removed]",
      "text/plain": [
       "<Figure size 432x288 with 2 Axes>"
      ]
     },
     "metadata": {
      "needs_background": "light"
     },
     "output_type": "display_data"
    }
   ],
   "source": [
    "pred_train_scores, pred_test_scores = predict(classifier, train_corpus, test_corpus)\n",
    "print_evaluation(test_scores, pred_test_scores)"
   ]
  },
  {
   "cell_type": "markdown",
   "metadata": {},
   "source": [
    "## Classification with logistic regression"
   ]
  },
  {
   "cell_type": "markdown",
   "metadata": {},
   "source": [
    "In this section we have to achieve the best result we can with the logistic regression estimator. So, we can play with the vectorizer and the preprocessing function, to try and boost classification metrics."
   ]
  },
  {
   "cell_type": "code",
   "execution_count": 40,
   "metadata": {},
   "outputs": [
    {
     "name": "stdout",
     "output_type": "stream",
     "text": [
      "Parameter grid: {'vect__preprocessor': [functools.partial(<function preprocess_text at 0x7fd7f3528dc0>, remove_punct=False, remove_stopwords=False, min_chars=2, root=None), functools.partial(<function preprocess_text at 0x7fd7f3528dc0>, remove_punct=True, remove_stopwords=True, min_chars=2, root=None), functools.partial(<function preprocess_text at 0x7fd7f3528dc0>, remove_punct=True, remove_stopwords=True, min_chars=3, root='lemmatize')], 'vect__ngram_range': [(1, 1), (1, 2)], 'tfidf__use_idf': (True, False)}\n",
      "Fitting 5 folds for each of 12 candidates, totalling 60 fits\n"
     ]
    },
    {
     "name": "stderr",
     "output_type": "stream",
     "text": [
      "[Parallel(n_jobs=-1)]: Using backend LokyBackend with 16 concurrent workers.\n",
      "[Parallel(n_jobs=-1)]: Done  18 tasks      | elapsed:  1.8min\n",
      "[Parallel(n_jobs=-1)]: Done  60 out of  60 | elapsed:  4.8min finished\n"
     ]
    },
    {
     "name": "stdout",
     "output_type": "stream",
     "text": [
      "Best parameters: {'tfidf__use_idf': True, 'vect__ngram_range': (1, 2), 'vect__preprocessor': functools.partial(<function preprocess_text at 0x7fd7f3528dc0>, remove_punct=False, remove_stopwords=False, min_chars=2, root=None)}\n"
     ]
    }
   ],
   "source": [
    "pipeline = Pipeline(\n",
    "    [\n",
    "        (\n",
    "            \"vect\",\n",
    "            CountVectorizer(\n",
    "                ngram_range=(1, 2),\n",
    "                preprocessor=preprocess_text,\n",
    "                min_df=0.01,\n",
    "                max_df=0.7,\n",
    "            ),\n",
    "        ),\n",
    "        (\"tfidf\", TfidfTransformer(sublinear_tf=True)),\n",
    "        (\"clf\", LogisticRegression(random_state=RANDOM_SEED, max_iter=1000)),\n",
    "    ]\n",
    ")\n",
    "\n",
    "parameters = {\n",
    "    \"vect__preprocessor\": preprocessing_funcs,\n",
    "    \"vect__ngram_range\": [(1, 1), (1, 2)],\n",
    "    # \"vect__min_df\": np.linspace(0, 0.1, 3),\n",
    "    # \"vect__max_df\": np.linspace(0.7, 0.9, 3),\n",
    "    \"tfidf__use_idf\": (True, False),\n",
    "}\n",
    "searcher = GridSearchCV(\n",
    "    pipeline, parameters, scoring=make_scorer(r2_score), cv=5, n_jobs=-1, verbose=1\n",
    ")\n",
    "print(f\"Parameter grid: {searcher.param_grid}\")\n",
    "classifier = searcher.fit(train_corpus, train_scores)\n",
    "print(f\"Best parameters: {searcher.best_params_}\")"
   ]
  },
  {
   "cell_type": "code",
   "execution_count": 41,
   "metadata": {},
   "outputs": [
    {
     "name": "stdout",
     "output_type": "stream",
     "text": [
      "R2 score 0.506588\n",
      "MAE 1.434200\n",
      "MSE 6.012680\n",
      "\n",
      "              precision    recall  f1-score   support\n",
      "\n",
      "           1       0.54      0.79      0.64      5022\n",
      "           2       0.21      0.08      0.12      2302\n",
      "           3       0.27      0.15      0.19      2541\n",
      "           4       0.32      0.31      0.32      2635\n",
      "           7       0.30      0.27      0.28      2307\n",
      "           8       0.28      0.25      0.26      2850\n",
      "           9       0.21      0.07      0.10      2344\n",
      "          10       0.50      0.74      0.60      4999\n",
      "\n",
      "    accuracy                           0.42     25000\n",
      "   macro avg       0.33      0.33      0.31     25000\n",
      "weighted avg       0.37      0.42      0.38     25000\n",
      "\n"
     ]
    },
    {
     "data": {
      "image/png": "[encoded data removed]",
      "text/plain": [
       "<Figure size 432x288 with 2 Axes>"
      ]
     },
     "metadata": {
      "needs_background": "light"
     },
     "output_type": "display_data"
    }
   ],
   "source": [
    "pred_train_scores, pred_test_scores = predict(classifier, train_corpus, test_corpus)\n",
    "print_evaluation(test_scores, pred_test_scores)"
   ]
  },
  {
   "cell_type": "markdown",
   "metadata": {},
   "source": [
    "## Classification with another classifier"
   ]
  },
  {
   "cell_type": "markdown",
   "metadata": {},
   "source": [
    "In this section we are not anymore limited to the usage of logistic regression as a model, but we can tweak both the vectorizer and the estimator, in order to possibily get even better results."
   ]
  },
  {
   "cell_type": "code",
   "execution_count": 51,
   "metadata": {},
   "outputs": [],
   "source": [
    "features = [\n",
    "    (\n",
    "        \"vect\",\n",
    "        CountVectorizer(\n",
    "            ngram_range=(1, 2), preprocessor=preprocess_text, min_df=0.01, max_df=0.7,\n",
    "        ),\n",
    "    ),\n",
    "    (\"tfidf\", TfidfTransformer(sublinear_tf=True)),\n",
    "]\n",
    "features_params = {\n",
    "    \"vect__ngram_range\": [(1, 1), (1, 2)],\n",
    "    \"tfidf__use_idf\": (True, False),\n",
    "}"
   ]
  },
  {
   "cell_type": "code",
   "execution_count": 53,
   "metadata": {},
   "outputs": [
    {
     "name": "stdout",
     "output_type": "stream",
     "text": [
      "Parameter grid: {'vect__ngram_range': [(1, 1), (1, 2)], 'tfidf__use_idf': (True, False), 'clf__alpha': (0.01, 0.001)}\n",
      "Best parameters: {'clf__alpha': 0.001, 'tfidf__use_idf': True, 'vect__ngram_range': (1, 2)}\n"
     ]
    }
   ],
   "source": [
    "sgd_pipeline = Pipeline(\n",
    "    features\n",
    "    + [\n",
    "        (\n",
    "            \"clf\",\n",
    "            SGDClassifier(\n",
    "                random_state=RANDOM_SEED,\n",
    "                loss=\"hinge\",\n",
    "                penalty=\"l2\",\n",
    "                alpha=1e-3,\n",
    "                max_iter=500,\n",
    "                tol=None,\n",
    "            ),\n",
    "        )\n",
    "    ]\n",
    ")\n",
    "\n",
    "\n",
    "sgd_parameters = dict(features_params, **{\"clf__alpha\": (1e-2, 1e-3)})\n",
    "sgd_searcher = GridSearchCV(\n",
    "    sgd_pipeline, sgd_parameters, scoring=make_scorer(r2_score), cv=5, n_jobs=-1, verbose=1\n",
    ")\n",
    "print(f\"Parameter grid: {sgd_searcher.param_grid}\")\n",
    "sgd_classifier = sgd_searcher.fit(train_corpus, train_scores)\n",
    "print(f\"Best parameters: {sgd_searcher.best_params_}\")"
   ]
  },
  {
   "cell_type": "code",
   "execution_count": 55,
   "metadata": {},
   "outputs": [
    {
     "name": "stdout",
     "output_type": "stream",
     "text": [
      "R2 score 0.379559\n",
      "MAE 1.653840\n",
      "MSE 7.560640\n",
      "\n",
      "              precision    recall  f1-score   support\n",
      "\n",
      "           1       0.48      0.87      0.62      5022\n",
      "           2       0.13      0.03      0.05      2302\n",
      "           3       0.23      0.09      0.13      2541\n",
      "           4       0.31      0.23      0.27      2635\n",
      "           7       0.29      0.25      0.27      2307\n",
      "           8       0.23      0.13      0.16      2850\n",
      "           9       0.17      0.06      0.09      2344\n",
      "          10       0.48      0.77      0.59      4999\n",
      "\n",
      "    accuracy                           0.41     25000\n",
      "   macro avg       0.29      0.30      0.27     25000\n",
      "weighted avg       0.33      0.41      0.34     25000\n",
      "\n"
     ]
    },
    {
     "data": {
      "image/png": "[encoded data removed]",
      "text/plain": [
       "<Figure size 432x288 with 2 Axes>"
      ]
     },
     "metadata": {
      "needs_background": "light"
     },
     "output_type": "display_data"
    }
   ],
   "source": [
    "pred_train_scores, pred_test_scores = predict(sgd_classifier, train_corpus, test_corpus)\n",
    "print_evaluation(test_scores, pred_test_scores)"
   ]
  },
  {
   "cell_type": "code",
   "execution_count": null,
   "metadata": {},
   "outputs": [],
   "source": []
  }
 ],
 "metadata": {
  "kernelspec": {
   "display_name": "Python 3",
   "language": "python",
   "name": "python3"
  },
  "language_info": {
   "codemirror_mode": {
    "name": "ipython",
    "version": 3
   },
   "file_extension": ".py",
   "mimetype": "text/x-python",
   "name": "python",
   "nbconvert_exporter": "python",
   "pygments_lexer": "ipython3",
   "version": "3.8.5"
  }
 },
 "nbformat": 4,
 "nbformat_minor": 4
}
