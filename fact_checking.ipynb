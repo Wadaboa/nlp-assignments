{
 "cells": [
  {
   "cell_type": "markdown",
   "metadata": {},
   "source": [
    "# Fact checking"
   ]
  },
  {
   "cell_type": "code",
   "execution_count": 66,
   "metadata": {
    "execution": {
     "iopub.execute_input": "2020-12-01T17:19:58.720227Z",
     "iopub.status.busy": "2020-12-01T17:19:58.719810Z",
     "iopub.status.idle": "2020-12-01T17:19:58.770276Z",
     "shell.execute_reply": "2020-12-01T17:19:58.769073Z",
     "shell.execute_reply.started": "2020-12-01T17:19:58.720181Z"
    }
   },
   "outputs": [
    {
     "name": "stdout",
     "output_type": "stream",
     "text": [
      "The autoreload extension is already loaded. To reload it, use:\n",
      "  %reload_ext autoreload\n"
     ]
    }
   ],
   "source": [
    "import os\n",
    "import requests\n",
    "import zipfile\n",
    "import re\n",
    "import string\n",
    "\n",
    "import pandas as pd\n",
    "import numpy as np\n",
    "import matplotlib.pyplot as plt\n",
    "import torch\n",
    "\n",
    "%load_ext autoreload\n",
    "%autoreload 2\n",
    "%matplotlib inline"
   ]
  },
  {
   "cell_type": "code",
   "execution_count": 6,
   "metadata": {
    "execution": {
     "iopub.execute_input": "2020-12-01T16:40:35.984951Z",
     "iopub.status.busy": "2020-12-01T16:40:35.984570Z",
     "iopub.status.idle": "2020-12-01T16:40:36.023768Z",
     "shell.execute_reply": "2020-12-01T16:40:36.022574Z",
     "shell.execute_reply.started": "2020-12-01T16:40:35.984908Z"
    }
   },
   "outputs": [],
   "source": [
    "plt.rcParams['figure.figsize'] = [8, 6]\n",
    "plt.rcParams['figure.dpi'] = 100\n",
    "plt.rcParams['axes.xmargin'] = .05\n",
    "plt.rcParams['axes.ymargin'] = .05\n",
    "plt.style.use('ggplot')"
   ]
  },
  {
   "cell_type": "markdown",
   "metadata": {},
   "source": [
    "## Dataset pre-processing"
   ]
  },
  {
   "cell_type": "code",
   "execution_count": 7,
   "metadata": {
    "execution": {
     "iopub.execute_input": "2020-12-01T16:40:37.854713Z",
     "iopub.status.busy": "2020-12-01T16:40:37.854400Z",
     "iopub.status.idle": "2020-12-01T16:40:37.893996Z",
     "shell.execute_reply": "2020-12-01T16:40:37.892858Z",
     "shell.execute_reply.started": "2020-12-01T16:40:37.854675Z"
    }
   },
   "outputs": [],
   "source": [
    "def save_response_content(response, destination):\n",
    "    CHUNK_SIZE = 32768\n",
    "\n",
    "    with open(destination, \"wb\") as f:\n",
    "        for chunk in response.iter_content(CHUNK_SIZE):\n",
    "            if chunk:\n",
    "                f.write(chunk)\n",
    "\n",
    "\n",
    "def download_data(data_path):\n",
    "    toy_data_path = os.path.join(data_path, \"fever_data.zip\")\n",
    "    toy_data_url_id = \"1wArZhF9_SHW17WKNGeLmX-QTYw9Zscl1\"\n",
    "    toy_url = \"https://docs.google.com/uc?export=download\"\n",
    "\n",
    "    if not os.path.exists(data_path):\n",
    "        os.makedirs(data_path)\n",
    "\n",
    "    if not os.path.exists(toy_data_path):\n",
    "        print(\"Downloading FEVER data splits...\")\n",
    "        with requests.Session() as current_session:\n",
    "            response = current_session.get(\n",
    "                toy_url, params={\"id\": toy_data_url_id}, stream=True\n",
    "            )\n",
    "        save_response_content(response, toy_data_path)\n",
    "        print(\"Download completed!\")\n",
    "\n",
    "        print(\"Extracting dataset...\")\n",
    "        with zipfile.ZipFile(toy_data_path) as loaded_zip:\n",
    "            loaded_zip.extractall(data_path)\n",
    "        print(\"Extraction completed!\")"
   ]
  },
  {
   "cell_type": "code",
   "execution_count": 9,
   "metadata": {
    "execution": {
     "iopub.execute_input": "2020-12-01T16:49:18.641813Z",
     "iopub.status.busy": "2020-12-01T16:49:18.641398Z",
     "iopub.status.idle": "2020-12-01T16:49:18.678888Z",
     "shell.execute_reply": "2020-12-01T16:49:18.677634Z",
     "shell.execute_reply.started": "2020-12-01T16:49:18.641767Z"
    }
   },
   "outputs": [],
   "source": [
    "dataset_folder = os.path.join(\"datasets\", \"fever\")\n",
    "download_data(dataset_folder)"
   ]
  },
  {
   "cell_type": "markdown",
   "metadata": {},
   "source": [
    "## Dataset conversion"
   ]
  },
  {
   "cell_type": "code",
   "execution_count": 28,
   "metadata": {
    "execution": {
     "iopub.execute_input": "2020-12-01T17:00:13.846418Z",
     "iopub.status.busy": "2020-12-01T17:00:13.845981Z",
     "iopub.status.idle": "2020-12-01T17:00:14.730150Z",
     "shell.execute_reply": "2020-12-01T17:00:14.729021Z",
     "shell.execute_reply.started": "2020-12-01T17:00:13.846372Z"
    }
   },
   "outputs": [
    {
     "data": {
      "text/html": [
       "<div>\n",
       "<style scoped>\n",
       "    .dataframe tbody tr th:only-of-type {\n",
       "        vertical-align: middle;\n",
       "    }\n",
       "\n",
       "    .dataframe tbody tr th {\n",
       "        vertical-align: top;\n",
       "    }\n",
       "\n",
       "    .dataframe thead th {\n",
       "        text-align: right;\n",
       "    }\n",
       "</style>\n",
       "<table border=\"1\" class=\"dataframe\">\n",
       "  <thead>\n",
       "    <tr style=\"text-align: right;\">\n",
       "      <th></th>\n",
       "      <th>claim</th>\n",
       "      <th>evidence</th>\n",
       "      <th>id</th>\n",
       "      <th>label</th>\n",
       "      <th>split</th>\n",
       "    </tr>\n",
       "  </thead>\n",
       "  <tbody>\n",
       "    <tr>\n",
       "      <th>0</th>\n",
       "      <td>Chris Hemsworth appeared in A Perfect Getaway.</td>\n",
       "      <td>2\\tHemsworth has also appeared in the science ...</td>\n",
       "      <td>3</td>\n",
       "      <td>SUPPORTS</td>\n",
       "      <td>train</td>\n",
       "    </tr>\n",
       "    <tr>\n",
       "      <th>1</th>\n",
       "      <td>Roald Dahl is a writer.</td>\n",
       "      <td>0\\tRoald Dahl -LRB- -LSB- langpronˈroʊ.əld _ ˈ...</td>\n",
       "      <td>7</td>\n",
       "      <td>SUPPORTS</td>\n",
       "      <td>train</td>\n",
       "    </tr>\n",
       "    <tr>\n",
       "      <th>2</th>\n",
       "      <td>Roald Dahl is a governor.</td>\n",
       "      <td>0\\tRoald Dahl -LRB- -LSB- langpronˈroʊ.əld _ ˈ...</td>\n",
       "      <td>8</td>\n",
       "      <td>REFUTES</td>\n",
       "      <td>train</td>\n",
       "    </tr>\n",
       "    <tr>\n",
       "      <th>3</th>\n",
       "      <td>Ireland has relatively low-lying mountains.</td>\n",
       "      <td>10\\tThe island 's geography comprises relative...</td>\n",
       "      <td>9</td>\n",
       "      <td>SUPPORTS</td>\n",
       "      <td>train</td>\n",
       "    </tr>\n",
       "    <tr>\n",
       "      <th>4</th>\n",
       "      <td>Ireland does not have relatively low-lying mou...</td>\n",
       "      <td>10\\tThe island 's geography comprises relative...</td>\n",
       "      <td>10</td>\n",
       "      <td>REFUTES</td>\n",
       "      <td>train</td>\n",
       "    </tr>\n",
       "  </tbody>\n",
       "</table>\n",
       "</div>"
      ],
      "text/plain": [
       "                                               claim  \\\n",
       "0     Chris Hemsworth appeared in A Perfect Getaway.   \n",
       "1                            Roald Dahl is a writer.   \n",
       "2                          Roald Dahl is a governor.   \n",
       "3        Ireland has relatively low-lying mountains.   \n",
       "4  Ireland does not have relatively low-lying mou...   \n",
       "\n",
       "                                            evidence  id     label  split  \n",
       "0  2\\tHemsworth has also appeared in the science ...   3  SUPPORTS  train  \n",
       "1  0\\tRoald Dahl -LRB- -LSB- langpronˈroʊ.əld _ ˈ...   7  SUPPORTS  train  \n",
       "2  0\\tRoald Dahl -LRB- -LSB- langpronˈroʊ.əld _ ˈ...   8   REFUTES  train  \n",
       "3  10\\tThe island 's geography comprises relative...   9  SUPPORTS  train  \n",
       "4  10\\tThe island 's geography comprises relative...  10   REFUTES  train  "
      ]
     },
     "execution_count": 28,
     "metadata": {},
     "output_type": "execute_result"
    }
   ],
   "source": [
    "dfs = []\n",
    "for split in [\"train\", \"test\", \"val\"]:\n",
    "    split_file = os.path.join(dataset_folder, f\"{split}_pairs.csv\")\n",
    "    if os.path.isfile(split_file):\n",
    "        split_df = pd.read_csv(split_file, index_col=0)\n",
    "        split_df[\"split\"] = pd.Series([split] * len(split_df), index=split_df.index)\n",
    "        dfs.append(split_df)\n",
    "\n",
    "df = pd.concat(dfs)\n",
    "df.columns = map(str.lower, df.columns)\n",
    "df.head()"
   ]
  },
  {
   "cell_type": "code",
   "execution_count": 29,
   "metadata": {
    "execution": {
     "iopub.execute_input": "2020-12-01T17:05:13.644536Z",
     "iopub.status.busy": "2020-12-01T17:05:13.644116Z",
     "iopub.status.idle": "2020-12-01T17:05:13.699293Z",
     "shell.execute_reply": "2020-12-01T17:05:13.698030Z",
     "shell.execute_reply.started": "2020-12-01T17:05:13.644489Z"
    }
   },
   "outputs": [
    {
     "data": {
      "text/plain": [
       "array(['SUPPORTS', 'REFUTES'], dtype=object)"
      ]
     },
     "execution_count": 29,
     "metadata": {},
     "output_type": "execute_result"
    }
   ],
   "source": [
    "df[\"label\"].unique()"
   ]
  },
  {
   "cell_type": "code",
   "execution_count": 105,
   "metadata": {
    "execution": {
     "iopub.execute_input": "2020-12-01T17:33:12.696808Z",
     "iopub.status.busy": "2020-12-01T17:33:12.696494Z",
     "iopub.status.idle": "2020-12-01T17:33:12.734380Z",
     "shell.execute_reply": "2020-12-01T17:33:12.733147Z",
     "shell.execute_reply.started": "2020-12-01T17:33:12.696770Z"
    }
   },
   "outputs": [],
   "source": [
    "BEFORE_TAB = re.compile(r\"(.*)(?:\\t)\")\n",
    "\n",
    "\n",
    "def preprocess_claim(text):\n",
    "    if text[-1] in string.punctuation:\n",
    "        text = text[:-1]\n",
    "    return text.strip().lower()\n",
    "\n",
    "\n",
    "def preprocess_evidence(text):\n",
    "    tab_match = re.match(REMOVE_BEFORE_TAB, text)\n",
    "    if tab_match is not None:\n",
    "        text = text[tab_match.end() :]\n",
    "    last_parens = text.rfind(\"(\")\n",
    "    if last_parens != -1:\n",
    "        text = text[:last_parens]\n",
    "    return text.strip().lower()"
   ]
  },
  {
   "cell_type": "code",
   "execution_count": 107,
   "metadata": {
    "execution": {
     "iopub.execute_input": "2020-12-01T17:33:17.776462Z",
     "iopub.status.busy": "2020-12-01T17:33:17.776131Z",
     "iopub.status.idle": "2020-12-01T17:33:18.843940Z",
     "shell.execute_reply": "2020-12-01T17:33:18.842771Z",
     "shell.execute_reply.started": "2020-12-01T17:33:17.776422Z"
    }
   },
   "outputs": [
    {
     "data": {
      "text/html": [
       "<div>\n",
       "<style scoped>\n",
       "    .dataframe tbody tr th:only-of-type {\n",
       "        vertical-align: middle;\n",
       "    }\n",
       "\n",
       "    .dataframe tbody tr th {\n",
       "        vertical-align: top;\n",
       "    }\n",
       "\n",
       "    .dataframe thead th {\n",
       "        text-align: right;\n",
       "    }\n",
       "</style>\n",
       "<table border=\"1\" class=\"dataframe\">\n",
       "  <thead>\n",
       "    <tr style=\"text-align: right;\">\n",
       "      <th></th>\n",
       "      <th>claim</th>\n",
       "      <th>evidence</th>\n",
       "      <th>id</th>\n",
       "      <th>label</th>\n",
       "      <th>split</th>\n",
       "    </tr>\n",
       "  </thead>\n",
       "  <tbody>\n",
       "    <tr>\n",
       "      <th>0</th>\n",
       "      <td>chris hemsworth appeared in a perfect getaway</td>\n",
       "      <td>rush</td>\n",
       "      <td>3</td>\n",
       "      <td>SUPPORTS</td>\n",
       "      <td>train</td>\n",
       "    </tr>\n",
       "    <tr>\n",
       "      <th>1</th>\n",
       "      <td>roald dahl is a writer</td>\n",
       "      <td>fighter pilot</td>\n",
       "      <td>7</td>\n",
       "      <td>SUPPORTS</td>\n",
       "      <td>train</td>\n",
       "    </tr>\n",
       "    <tr>\n",
       "      <th>2</th>\n",
       "      <td>roald dahl is a governor</td>\n",
       "      <td>fighter pilot</td>\n",
       "      <td>8</td>\n",
       "      <td>REFUTES</td>\n",
       "      <td>train</td>\n",
       "    </tr>\n",
       "    <tr>\n",
       "      <th>3</th>\n",
       "      <td>ireland has relatively low-lying mountains</td>\n",
       "      <td>rivers of ireland</td>\n",
       "      <td>9</td>\n",
       "      <td>SUPPORTS</td>\n",
       "      <td>train</td>\n",
       "    </tr>\n",
       "    <tr>\n",
       "      <th>4</th>\n",
       "      <td>ireland does not have relatively low-lying mou...</td>\n",
       "      <td>rivers of ireland</td>\n",
       "      <td>10</td>\n",
       "      <td>REFUTES</td>\n",
       "      <td>train</td>\n",
       "    </tr>\n",
       "  </tbody>\n",
       "</table>\n",
       "</div>"
      ],
      "text/plain": [
       "                                               claim           evidence  id  \\\n",
       "0      chris hemsworth appeared in a perfect getaway               rush   3   \n",
       "1                             roald dahl is a writer      fighter pilot   7   \n",
       "2                           roald dahl is a governor      fighter pilot   8   \n",
       "3         ireland has relatively low-lying mountains  rivers of ireland   9   \n",
       "4  ireland does not have relatively low-lying mou...  rivers of ireland  10   \n",
       "\n",
       "      label  split  \n",
       "0  SUPPORTS  train  \n",
       "1  SUPPORTS  train  \n",
       "2   REFUTES  train  \n",
       "3  SUPPORTS  train  \n",
       "4   REFUTES  train  "
      ]
     },
     "execution_count": 107,
     "metadata": {},
     "output_type": "execute_result"
    }
   ],
   "source": [
    "df[\"claim\"] = df[\"claim\"].apply(preprocess_claim)\n",
    "df[\"evidence\"] = df[\"evidence\"].apply(preprocess_evidence)\n",
    "df.head()"
   ]
  },
  {
   "cell_type": "markdown",
   "metadata": {},
   "source": [
    "## Model definition"
   ]
  },
  {
   "cell_type": "code",
   "execution_count": null,
   "metadata": {},
   "outputs": [],
   "source": []
  },
  {
   "cell_type": "markdown",
   "metadata": {},
   "source": [
    "## Training"
   ]
  },
  {
   "cell_type": "code",
   "execution_count": null,
   "metadata": {},
   "outputs": [],
   "source": []
  },
  {
   "cell_type": "markdown",
   "metadata": {},
   "source": [
    "## Evaluation"
   ]
  },
  {
   "cell_type": "code",
   "execution_count": null,
   "metadata": {},
   "outputs": [],
   "source": []
  },
  {
   "cell_type": "markdown",
   "metadata": {},
   "source": [
    "## Comments/summary"
   ]
  },
  {
   "cell_type": "code",
   "execution_count": null,
   "metadata": {},
   "outputs": [],
   "source": []
  }
 ],
 "metadata": {
  "kernelspec": {
   "display_name": "Python 3",
   "language": "python",
   "name": "python3"
  },
  "language_info": {
   "codemirror_mode": {
    "name": "ipython",
    "version": 3
   },
   "file_extension": ".py",
   "mimetype": "text/x-python",
   "name": "python",
   "nbconvert_exporter": "python",
   "pygments_lexer": "ipython3",
   "version": "3.8.5"
  }
 },
 "nbformat": 4,
 "nbformat_minor": 4
}
