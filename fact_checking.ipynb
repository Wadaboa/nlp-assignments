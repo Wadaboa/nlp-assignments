{
 "cells": [
  {
   "cell_type": "markdown",
   "metadata": {},
   "source": [
    "# Fact checking"
   ]
  },
  {
   "cell_type": "markdown",
   "metadata": {},
   "source": [
    "In this assignment we are going to perform the fact checking task over the `fever` dataset, using various binary classification models."
   ]
  },
  {
   "cell_type": "code",
   "execution_count": null,
   "metadata": {
    "execution": {
     "iopub.execute_input": "2020-12-12T15:09:51.014030Z",
     "iopub.status.busy": "2020-12-12T15:09:51.013578Z",
     "iopub.status.idle": "2020-12-12T15:09:57.506043Z",
     "shell.execute_reply": "2020-12-12T15:09:57.504232Z",
     "shell.execute_reply.started": "2020-12-12T15:09:51.013985Z"
    }
   },
   "outputs": [],
   "source": [
    "import os\n",
    "import requests\n",
    "import zipfile\n",
    "import re\n",
    "import string\n",
    "import random\n",
    "from collections import namedtuple\n",
    "from functools import partial\n",
    "\n",
    "import nltk\n",
    "import pandas as pd\n",
    "import numpy as np\n",
    "import matplotlib.pyplot as plt\n",
    "import sklearn\n",
    "import torch\n",
    "import torch.nn as nn\n",
    "from torch.utils.data import Dataset, DataLoader\n",
    "from torch.nn.utils.rnn import pad_sequence, pack_padded_sequence, pad_packed_sequence\n",
    "from tqdm.notebook import tqdm\n",
    "\n",
    "import utils\n",
    "\n",
    "%load_ext autoreload\n",
    "%autoreload 2\n",
    "%matplotlib inline"
   ]
  },
  {
   "cell_type": "code",
   "execution_count": 3,
   "metadata": {
    "execution": {
     "iopub.execute_input": "2020-12-12T15:10:00.288129Z",
     "iopub.status.busy": "2020-12-12T15:10:00.287825Z",
     "iopub.status.idle": "2020-12-12T15:10:00.339672Z",
     "shell.execute_reply": "2020-12-12T15:10:00.338059Z",
     "shell.execute_reply.started": "2020-12-12T15:10:00.288091Z"
    }
   },
   "outputs": [],
   "source": [
    "plt.rcParams['figure.figsize'] = [8, 6]\n",
    "plt.rcParams['figure.dpi'] = 100\n",
    "plt.rcParams['axes.xmargin'] = .05\n",
    "plt.rcParams['axes.ymargin'] = .05\n",
    "plt.style.use('ggplot')"
   ]
  },
  {
   "cell_type": "markdown",
   "metadata": {},
   "source": [
    "## Data preparation"
   ]
  },
  {
   "cell_type": "markdown",
   "metadata": {},
   "source": [
    "In this section we are going to simply download the `fever` dataset and store it in a local folder."
   ]
  },
  {
   "cell_type": "code",
   "execution_count": 5,
   "metadata": {
    "execution": {
     "iopub.execute_input": "2020-12-12T15:10:19.428333Z",
     "iopub.status.busy": "2020-12-12T15:10:19.427913Z",
     "iopub.status.idle": "2020-12-12T15:10:19.490589Z",
     "shell.execute_reply": "2020-12-12T15:10:19.489344Z",
     "shell.execute_reply.started": "2020-12-12T15:10:19.428288Z"
    }
   },
   "outputs": [],
   "source": [
    "def save_response_content(response, destination):\n",
    "    CHUNK_SIZE = 32768\n",
    "\n",
    "    with open(destination, \"wb\") as f:\n",
    "        for chunk in response.iter_content(CHUNK_SIZE):\n",
    "            if chunk:\n",
    "                f.write(chunk)\n",
    "\n",
    "\n",
    "def download_data(data_path):\n",
    "    toy_data_path = os.path.join(data_path, \"fever_data.zip\")\n",
    "    toy_data_url_id = \"1wArZhF9_SHW17WKNGeLmX-QTYw9Zscl1\"\n",
    "    toy_url = \"https://docs.google.com/uc?export=download\"\n",
    "\n",
    "    if not os.path.exists(data_path):\n",
    "        os.makedirs(data_path)\n",
    "\n",
    "    if not os.path.exists(toy_data_path):\n",
    "        print(\"Downloading FEVER data splits...\")\n",
    "        with requests.Session() as current_session:\n",
    "            response = current_session.get(\n",
    "                toy_url, params={\"id\": toy_data_url_id}, stream=True\n",
    "            )\n",
    "        save_response_content(response, toy_data_path)\n",
    "        print(\"Download completed!\")\n",
    "\n",
    "        print(\"Extracting dataset...\")\n",
    "        with zipfile.ZipFile(toy_data_path) as loaded_zip:\n",
    "            loaded_zip.extractall(data_path)\n",
    "        print(\"Extraction completed!\")"
   ]
  },
  {
   "cell_type": "code",
   "execution_count": 6,
   "metadata": {
    "execution": {
     "iopub.execute_input": "2020-12-12T15:10:20.201047Z",
     "iopub.status.busy": "2020-12-12T15:10:20.200740Z",
     "iopub.status.idle": "2020-12-12T15:10:20.250808Z",
     "shell.execute_reply": "2020-12-12T15:10:20.249626Z",
     "shell.execute_reply.started": "2020-12-12T15:10:20.201009Z"
    }
   },
   "outputs": [],
   "source": [
    "dataset_folder = os.path.join(\"datasets\", \"fever\")\n",
    "download_data(dataset_folder)"
   ]
  },
  {
   "cell_type": "markdown",
   "metadata": {},
   "source": [
    "## Data conversion & pre-processing"
   ]
  },
  {
   "cell_type": "markdown",
   "metadata": {},
   "source": [
    "In this section we are going to convert the raw `.csv` dataset to a structured `Pandas DataFrame`. In particular, we know the dataset to be structured as follows:\n",
    "- `claim`: the fact that we have to verify\n",
    "- `evidence`: one of the facts that either support or refute the associated claim\n",
    "- `id`: a number associated to each claim (one claim can have more than evidence linked with it)\n",
    "- `label`: the label that represents if the evidence supports or refutes the claim\n",
    "- `split`: the dataset split associated to each example"
   ]
  },
  {
   "cell_type": "code",
   "execution_count": 7,
   "metadata": {
    "execution": {
     "iopub.execute_input": "2020-12-12T15:10:21.200626Z",
     "iopub.status.busy": "2020-12-12T15:10:21.200317Z",
     "iopub.status.idle": "2020-12-12T15:10:22.286171Z",
     "shell.execute_reply": "2020-12-12T15:10:22.285025Z",
     "shell.execute_reply.started": "2020-12-12T15:10:21.200588Z"
    }
   },
   "outputs": [
    {
     "data": {
      "text/html": [
       "<div>\n",
       "<style scoped>\n",
       "    .dataframe tbody tr th:only-of-type {\n",
       "        vertical-align: middle;\n",
       "    }\n",
       "\n",
       "    .dataframe tbody tr th {\n",
       "        vertical-align: top;\n",
       "    }\n",
       "\n",
       "    .dataframe thead th {\n",
       "        text-align: right;\n",
       "    }\n",
       "</style>\n",
       "<table border=\"1\" class=\"dataframe\">\n",
       "  <thead>\n",
       "    <tr style=\"text-align: right;\">\n",
       "      <th></th>\n",
       "      <th>claim</th>\n",
       "      <th>evidence</th>\n",
       "      <th>id</th>\n",
       "      <th>label</th>\n",
       "      <th>split</th>\n",
       "    </tr>\n",
       "  </thead>\n",
       "  <tbody>\n",
       "    <tr>\n",
       "      <th>0</th>\n",
       "      <td>Chris Hemsworth appeared in A Perfect Getaway.</td>\n",
       "      <td>2\\tHemsworth has also appeared in the science ...</td>\n",
       "      <td>3</td>\n",
       "      <td>SUPPORTS</td>\n",
       "      <td>train</td>\n",
       "    </tr>\n",
       "    <tr>\n",
       "      <th>1</th>\n",
       "      <td>Roald Dahl is a writer.</td>\n",
       "      <td>0\\tRoald Dahl -LRB- -LSB- langpronˈroʊ.əld _ ˈ...</td>\n",
       "      <td>7</td>\n",
       "      <td>SUPPORTS</td>\n",
       "      <td>train</td>\n",
       "    </tr>\n",
       "    <tr>\n",
       "      <th>2</th>\n",
       "      <td>Roald Dahl is a governor.</td>\n",
       "      <td>0\\tRoald Dahl -LRB- -LSB- langpronˈroʊ.əld _ ˈ...</td>\n",
       "      <td>8</td>\n",
       "      <td>REFUTES</td>\n",
       "      <td>train</td>\n",
       "    </tr>\n",
       "    <tr>\n",
       "      <th>3</th>\n",
       "      <td>Ireland has relatively low-lying mountains.</td>\n",
       "      <td>10\\tThe island 's geography comprises relative...</td>\n",
       "      <td>9</td>\n",
       "      <td>SUPPORTS</td>\n",
       "      <td>train</td>\n",
       "    </tr>\n",
       "    <tr>\n",
       "      <th>4</th>\n",
       "      <td>Ireland does not have relatively low-lying mou...</td>\n",
       "      <td>10\\tThe island 's geography comprises relative...</td>\n",
       "      <td>10</td>\n",
       "      <td>REFUTES</td>\n",
       "      <td>train</td>\n",
       "    </tr>\n",
       "  </tbody>\n",
       "</table>\n",
       "</div>"
      ],
      "text/plain": [
       "                                               claim  \\\n",
       "0     Chris Hemsworth appeared in A Perfect Getaway.   \n",
       "1                            Roald Dahl is a writer.   \n",
       "2                          Roald Dahl is a governor.   \n",
       "3        Ireland has relatively low-lying mountains.   \n",
       "4  Ireland does not have relatively low-lying mou...   \n",
       "\n",
       "                                            evidence  id     label  split  \n",
       "0  2\\tHemsworth has also appeared in the science ...   3  SUPPORTS  train  \n",
       "1  0\\tRoald Dahl -LRB- -LSB- langpronˈroʊ.əld _ ˈ...   7  SUPPORTS  train  \n",
       "2  0\\tRoald Dahl -LRB- -LSB- langpronˈroʊ.əld _ ˈ...   8   REFUTES  train  \n",
       "3  10\\tThe island 's geography comprises relative...   9  SUPPORTS  train  \n",
       "4  10\\tThe island 's geography comprises relative...  10   REFUTES  train  "
      ]
     },
     "execution_count": 7,
     "metadata": {},
     "output_type": "execute_result"
    }
   ],
   "source": [
    "dfs = []\n",
    "for split in [\"train\", \"test\", \"val\"]:\n",
    "    split_file = os.path.join(dataset_folder, f\"{split}_pairs.csv\")\n",
    "    if os.path.isfile(split_file):\n",
    "        split_df = pd.read_csv(split_file, index_col=0)\n",
    "        split_df[\"split\"] = pd.Series([split] * len(split_df), index=split_df.index)\n",
    "        dfs.append(split_df)\n",
    "\n",
    "df = pd.concat(dfs)\n",
    "df.columns = map(str.lower, df.columns)\n",
    "df = df.reset_index(drop=True)\n",
    "df.head()"
   ]
  },
  {
   "cell_type": "markdown",
   "metadata": {},
   "source": [
    "Let's see what are the two labels associated with supporting or rejecting a claim$\\dots$"
   ]
  },
  {
   "cell_type": "code",
   "execution_count": 8,
   "metadata": {
    "execution": {
     "iopub.execute_input": "2020-12-12T15:10:22.429834Z",
     "iopub.status.busy": "2020-12-12T15:10:22.429529Z",
     "iopub.status.idle": "2020-12-12T15:10:22.494982Z",
     "shell.execute_reply": "2020-12-12T15:10:22.493877Z",
     "shell.execute_reply.started": "2020-12-12T15:10:22.429796Z"
    }
   },
   "outputs": [
    {
     "data": {
      "text/plain": [
       "array(['SUPPORTS', 'REFUTES'], dtype=object)"
      ]
     },
     "execution_count": 8,
     "metadata": {},
     "output_type": "execute_result"
    }
   ],
   "source": [
    "df[\"label\"].unique()"
   ]
  },
  {
   "cell_type": "markdown",
   "metadata": {},
   "source": [
    "Now, let's check the dimension of each dataset split$\\dots$"
   ]
  },
  {
   "cell_type": "code",
   "execution_count": 9,
   "metadata": {
    "execution": {
     "iopub.execute_input": "2020-12-12T15:10:24.054143Z",
     "iopub.status.busy": "2020-12-12T15:10:24.053826Z",
     "iopub.status.idle": "2020-12-12T15:10:24.181971Z",
     "shell.execute_reply": "2020-12-12T15:10:24.180812Z",
     "shell.execute_reply.started": "2020-12-12T15:10:24.054105Z"
    }
   },
   "outputs": [
    {
     "name": "stdout",
     "output_type": "stream",
     "text": [
      "Training set shape: (121740, 5)\n",
      "Validation set shape: (7165, 5)\n",
      "Test set shape: (7189, 5)\n"
     ]
    }
   ],
   "source": [
    "print(f'Training set shape: {df[df[\"split\"] == \"train\"].shape}')\n",
    "print(f'Validation set shape: {df[df[\"split\"] == \"val\"].shape}')\n",
    "print(f'Test set shape: {df[df[\"split\"] == \"test\"].shape}')"
   ]
  },
  {
   "cell_type": "markdown",
   "metadata": {},
   "source": [
    "Since claims and evidences seem to contain a lot of unwanted or unneeded text, we are going to perform some simple pre-processing steps. In particular, claims are cleaner than evidences: because of this we are only removing the last punctuation symbol (which seems very frequent) and transforming them to lowercase.\n",
    "About evidences, the pre-processing pipeline is the following:\n",
    "1. Remove everything before the first tab character (which is usually a number)\n",
    "2. Replace tabs with spaces (there are a lot of tab characters in the middle of sentences)\n",
    "3. Remove parenthesis (parens are encoded with POS tags `-LRB-` and `-RRB-`)\n",
    "4. Remove everything between square brackets (brackets are encoded with POS tags `-LSB-`/`-RSB-` and they seem to contain references or phonetic information)\n",
    "5. Remove everything after the last period (the last period seems to indicate the starting point for a list of possible hyperlinks related to the evidence)\n",
    "6. Remove punctuation symbols\n",
    "7. Remove extra whitespaces\n",
    "8. Convert to lowercase"
   ]
  },
  {
   "cell_type": "code",
   "execution_count": 10,
   "metadata": {
    "execution": {
     "iopub.execute_input": "2020-12-12T15:10:26.796581Z",
     "iopub.status.busy": "2020-12-12T15:10:26.796240Z",
     "iopub.status.idle": "2020-12-12T15:10:26.863923Z",
     "shell.execute_reply": "2020-12-12T15:10:26.862492Z",
     "shell.execute_reply.started": "2020-12-12T15:10:26.796541Z"
    }
   },
   "outputs": [],
   "source": [
    "TAB_CHAR = \"\\t\"\n",
    "PERIOD_CHAR = \".\"\n",
    "LEFT_PARENS = \"-LRB-\"\n",
    "RIGHT_PARENS = \"-RRB-\"\n",
    "SQUARE_BRACKETS = r\"-LSB-.*-RSB-\"\n",
    "\n",
    "\n",
    "def preprocess_claim(text):\n",
    "    \"\"\"\n",
    "    Pre-processing step for claims\n",
    "    \"\"\"\n",
    "    # Remove the last punctuation symbol\n",
    "    if text[-1] in string.punctuation:\n",
    "        text = text[:-1]\n",
    "    # Strip whitespaces and convert to lowercase\n",
    "    return text.strip().lower()\n",
    "\n",
    "\n",
    "def preprocess_evidence(text):\n",
    "    \"\"\"\n",
    "    Pre-processing step for evidences\n",
    "    \"\"\"\n",
    "    # Remove everything before the first tab character\n",
    "    text = text[text.find(TAB_CHAR) + len(TAB_CHAR) :]\n",
    "    # Replace tabs with spaces\n",
    "    text = text.replace(TAB_CHAR, \" \")\n",
    "    # Remove parenthesis\n",
    "    text = text.replace(LEFT_PARENS, \" \").replace(RIGHT_PARENS, \" \")\n",
    "    # Remove everything between square brackets\n",
    "    text = re.sub(SQUARE_BRACKETS, \"\", text)\n",
    "    # Remove everything after the last period\n",
    "    last_period = text.rfind(PERIOD_CHAR)\n",
    "    if last_period is not None:\n",
    "        text = text[:last_period]\n",
    "    # Remove punctuation\n",
    "    text = text.translate(text.maketrans(\"\", \"\", string.punctuation))\n",
    "    # Remove extra whitespaces\n",
    "    text = \" \".join(text.split())\n",
    "    # Convert to lowercase\n",
    "    return text.lower()"
   ]
  },
  {
   "cell_type": "markdown",
   "metadata": {},
   "source": [
    "Are our pre-processing methods working as expected? We are going to extract a random (claim, evidence) pair from the `DataFrame` and apply the respective pre-processing functions, to have a look at some results. "
   ]
  },
  {
   "cell_type": "code",
   "execution_count": 11,
   "metadata": {
    "execution": {
     "iopub.execute_input": "2020-12-12T15:10:27.429670Z",
     "iopub.status.busy": "2020-12-12T15:10:27.429361Z",
     "iopub.status.idle": "2020-12-12T15:10:27.492764Z",
     "shell.execute_reply": "2020-12-12T15:10:27.491603Z",
     "shell.execute_reply.started": "2020-12-12T15:10:27.429632Z"
    }
   },
   "outputs": [
    {
     "name": "stdout",
     "output_type": "stream",
     "text": [
      "Random evidence 127553\n",
      "1\tThe film premiered at the Film Forum theatre in New York City on 19 August 2015 .\tFilm Forum\tFilm Forum\tNew York City\tNew York City\n",
      "the film premiered at the film forum theatre in new york city on 19 august 2015\n"
     ]
    }
   ],
   "source": [
    "random_index = random.choice(df.index.tolist())\n",
    "random_claim = df.loc[random_index][\"claim\"]\n",
    "preprocessed_random_claim = preprocess_claim(random_claim)\n",
    "random_evidence = df.loc[random_index][\"evidence\"]\n",
    "preprocessed_random_evidence = preprocess_evidence(random_evidence)\n",
    "print(f\"Random pair #{random_index}\")\n",
    "print(f\"Raw claim: {random_claim}\")\n",
    "print(f\"Pre-processed claim: {preprocessed_random_claim}\")\n",
    "print(f\"Raw evidence: {random_evidence}\")\n",
    "print(f\"Pre-processed evidence: {preprocessed_random_evidence}\")"
   ]
  },
  {
   "cell_type": "markdown",
   "metadata": {},
   "source": [
    "Since our results are pretty reasonable, we are going to apply the pre-processing functions to each and every example in the `DataFrame`."
   ]
  },
  {
   "cell_type": "code",
   "execution_count": 12,
   "metadata": {
    "execution": {
     "iopub.execute_input": "2020-12-12T15:10:31.083477Z",
     "iopub.status.busy": "2020-12-12T15:10:31.083145Z",
     "iopub.status.idle": "2020-12-12T15:10:34.447095Z",
     "shell.execute_reply": "2020-12-12T15:10:34.445826Z",
     "shell.execute_reply.started": "2020-12-12T15:10:31.083436Z"
    }
   },
   "outputs": [
    {
     "data": {
      "text/html": [
       "<div>\n",
       "<style scoped>\n",
       "    .dataframe tbody tr th:only-of-type {\n",
       "        vertical-align: middle;\n",
       "    }\n",
       "\n",
       "    .dataframe tbody tr th {\n",
       "        vertical-align: top;\n",
       "    }\n",
       "\n",
       "    .dataframe thead th {\n",
       "        text-align: right;\n",
       "    }\n",
       "</style>\n",
       "<table border=\"1\" class=\"dataframe\">\n",
       "  <thead>\n",
       "    <tr style=\"text-align: right;\">\n",
       "      <th></th>\n",
       "      <th>claim</th>\n",
       "      <th>evidence</th>\n",
       "      <th>id</th>\n",
       "      <th>label</th>\n",
       "      <th>split</th>\n",
       "    </tr>\n",
       "  </thead>\n",
       "  <tbody>\n",
       "    <tr>\n",
       "      <th>0</th>\n",
       "      <td>chris hemsworth appeared in a perfect getaway</td>\n",
       "      <td>hemsworth has also appeared in the science fic...</td>\n",
       "      <td>3</td>\n",
       "      <td>SUPPORTS</td>\n",
       "      <td>train</td>\n",
       "    </tr>\n",
       "    <tr>\n",
       "      <th>1</th>\n",
       "      <td>roald dahl is a writer</td>\n",
       "      <td>roald dahl 13 september 1916 23 november 1990 ...</td>\n",
       "      <td>7</td>\n",
       "      <td>SUPPORTS</td>\n",
       "      <td>train</td>\n",
       "    </tr>\n",
       "    <tr>\n",
       "      <th>2</th>\n",
       "      <td>roald dahl is a governor</td>\n",
       "      <td>roald dahl 13 september 1916 23 november 1990 ...</td>\n",
       "      <td>8</td>\n",
       "      <td>REFUTES</td>\n",
       "      <td>train</td>\n",
       "    </tr>\n",
       "    <tr>\n",
       "      <th>3</th>\n",
       "      <td>ireland has relatively low-lying mountains</td>\n",
       "      <td>the island s geography comprises relatively lo...</td>\n",
       "      <td>9</td>\n",
       "      <td>SUPPORTS</td>\n",
       "      <td>train</td>\n",
       "    </tr>\n",
       "    <tr>\n",
       "      <th>4</th>\n",
       "      <td>ireland does not have relatively low-lying mou...</td>\n",
       "      <td>the island s geography comprises relatively lo...</td>\n",
       "      <td>10</td>\n",
       "      <td>REFUTES</td>\n",
       "      <td>train</td>\n",
       "    </tr>\n",
       "  </tbody>\n",
       "</table>\n",
       "</div>"
      ],
      "text/plain": [
       "                                               claim  \\\n",
       "0      chris hemsworth appeared in a perfect getaway   \n",
       "1                             roald dahl is a writer   \n",
       "2                           roald dahl is a governor   \n",
       "3         ireland has relatively low-lying mountains   \n",
       "4  ireland does not have relatively low-lying mou...   \n",
       "\n",
       "                                            evidence  id     label  split  \n",
       "0  hemsworth has also appeared in the science fic...   3  SUPPORTS  train  \n",
       "1  roald dahl 13 september 1916 23 november 1990 ...   7  SUPPORTS  train  \n",
       "2  roald dahl 13 september 1916 23 november 1990 ...   8   REFUTES  train  \n",
       "3  the island s geography comprises relatively lo...   9  SUPPORTS  train  \n",
       "4  the island s geography comprises relatively lo...  10   REFUTES  train  "
      ]
     },
     "execution_count": 12,
     "metadata": {},
     "output_type": "execute_result"
    }
   ],
   "source": [
    "df[\"claim\"] = df[\"claim\"].apply(preprocess_claim)\n",
    "df[\"evidence\"] = df[\"evidence\"].apply(preprocess_evidence)\n",
    "df.head()"
   ]
  },
  {
   "cell_type": "markdown",
   "metadata": {},
   "source": [
    "## Vocabulary"
   ]
  },
  {
   "cell_type": "markdown",
   "metadata": {},
   "source": [
    "In this section we are going to build a vocabulary (i.e. a one-to-one reproducible mapping between tokens and indexes), starting from our dataset. In particular, we are going to consider a single vocabulary for the entire dataset, comprising training, validation and test splits."
   ]
  },
  {
   "cell_type": "code",
   "execution_count": 15,
   "metadata": {
    "execution": {
     "iopub.execute_input": "2020-12-12T15:10:43.746189Z",
     "iopub.status.busy": "2020-12-12T15:10:43.745757Z",
     "iopub.status.idle": "2020-12-12T15:10:43.801546Z",
     "shell.execute_reply": "2020-12-12T15:10:43.800406Z",
     "shell.execute_reply.started": "2020-12-12T15:10:43.746143Z"
    }
   },
   "outputs": [],
   "source": [
    "Vocabulary = namedtuple(\"Vocabulary\", [\"to_string\", \"from_string\", \"string\"])"
   ]
  },
  {
   "cell_type": "code",
   "execution_count": 16,
   "metadata": {
    "execution": {
     "iopub.execute_input": "2020-12-12T15:10:44.180906Z",
     "iopub.status.busy": "2020-12-12T15:10:44.180598Z",
     "iopub.status.idle": "2020-12-12T15:10:44.234484Z",
     "shell.execute_reply": "2020-12-12T15:10:44.233390Z",
     "shell.execute_reply.started": "2020-12-12T15:10:44.180868Z"
    }
   },
   "outputs": [],
   "source": [
    "def build_vocabulary(tokens, padding_token):\n",
    "    \"\"\"\n",
    "    Given a list of strings, builds the corresponding Vocabulary object\n",
    "    \"\"\"\n",
    "    assert padding_token not in tokens\n",
    "    words = sorted(set(tokens))\n",
    "    vocabulary, inverse_vocabulary = dict(), dict()\n",
    "    vocabulary[0] = str(padding_token)\n",
    "    inverse_vocabulary[str(padding_token)] = 0\n",
    "    for i, w in tqdm(enumerate(words)):\n",
    "        vocabulary[i + 1] = w\n",
    "        inverse_vocabulary[w] = i + 1\n",
    "    return Vocabulary(\n",
    "        to_string=vocabulary,\n",
    "        from_string=inverse_vocabulary,\n",
    "        string=[padding_token] + words,\n",
    "    )"
   ]
  },
  {
   "cell_type": "markdown",
   "metadata": {},
   "source": [
    "Since our goal is to build binary classifiers using neural models, we are definetely going to need a padding token, so that sentences in a batch can be mapped to the same lenght. In particular, we would like to use a unique padding token for both claims and evidences and for each and every dataset split: because of this, we decided to go for the `~` symbol, which does not appear in our entire dataset."
   ]
  },
  {
   "cell_type": "code",
   "execution_count": 14,
   "metadata": {
    "execution": {
     "iopub.execute_input": "2020-12-12T15:10:42.239265Z",
     "iopub.status.busy": "2020-12-12T15:10:42.238964Z",
     "iopub.status.idle": "2020-12-12T15:10:42.288249Z",
     "shell.execute_reply": "2020-12-12T15:10:42.287133Z",
     "shell.execute_reply.started": "2020-12-12T15:10:42.239228Z"
    }
   },
   "outputs": [],
   "source": [
    "PADDING_TOKEN = \"~\""
   ]
  },
  {
   "cell_type": "code",
   "execution_count": 13,
   "metadata": {
    "execution": {
     "iopub.execute_input": "2020-12-12T15:10:40.118791Z",
     "iopub.status.busy": "2020-12-12T15:10:40.118387Z",
     "iopub.status.idle": "2020-12-12T15:10:42.106725Z",
     "shell.execute_reply": "2020-12-12T15:10:42.105329Z",
     "shell.execute_reply.started": "2020-12-12T15:10:40.118747Z"
    }
   },
   "outputs": [
    {
     "name": "stdout",
     "output_type": "stream",
     "text": [
      "0    False\n",
      "dtype: bool\n",
      "0    False\n",
      "dtype: bool\n"
     ]
    }
   ],
   "source": [
    "print(df[\"claim\"].str.extract(f\"\\b{PADDING_TOKEN}\\b\").any())\n",
    "print(df[\"evidence\"].str.extract(f\"\\b{PADDING_TOKEN}\\b\").any())"
   ]
  },
  {
   "cell_type": "markdown",
   "metadata": {},
   "source": [
    "And now we will call the `build_vocabulary` function with the whole list of tokens, extracted from sentences of the dataset, which wil return a `Vocabulary` instance that will be used throughout the entire notebook."
   ]
  },
  {
   "cell_type": "code",
   "execution_count": 18,
   "metadata": {
    "execution": {
     "iopub.execute_input": "2020-12-12T15:11:46.811612Z",
     "iopub.status.busy": "2020-12-12T15:11:46.811194Z",
     "iopub.status.idle": "2020-12-12T15:11:46.867730Z",
     "shell.execute_reply": "2020-12-12T15:11:46.866571Z",
     "shell.execute_reply.started": "2020-12-12T15:11:46.811568Z"
    }
   },
   "outputs": [],
   "source": [
    "def flatten(a):\n",
    "    \"\"\"\n",
    "    Given a multidimensional list, returns its flattened version\n",
    "    \"\"\"\n",
    "    if isinstance(a, (list, tuple, set, range)):\n",
    "        for s in a:\n",
    "            yield from flatten(s)\n",
    "    else:\n",
    "        yield a"
   ]
  },
  {
   "cell_type": "code",
   "execution_count": 19,
   "metadata": {
    "execution": {
     "iopub.execute_input": "2020-12-12T15:11:47.826460Z",
     "iopub.status.busy": "2020-12-12T15:11:47.826125Z",
     "iopub.status.idle": "2020-12-12T15:11:55.917487Z",
     "shell.execute_reply": "2020-12-12T15:11:55.916297Z",
     "shell.execute_reply.started": "2020-12-12T15:11:47.826421Z"
    }
   },
   "outputs": [
    {
     "data": {
      "text/plain": [
       "['chris',\n",
       " 'hemsworth',\n",
       " 'appeared',\n",
       " 'in',\n",
       " 'a',\n",
       " 'perfect',\n",
       " 'getaway',\n",
       " 'roald',\n",
       " 'dahl',\n",
       " 'is']"
      ]
     },
     "execution_count": 19,
     "metadata": {},
     "output_type": "execute_result"
    }
   ],
   "source": [
    "claim_tokens = list(flatten(df[\"claim\"].str.split().tolist()))\n",
    "evidence_tokens = list(flatten(df[\"evidence\"].str.split().tolist()))\n",
    "tokens = claim_tokens + evidence_tokens\n",
    "tokens[:10]"
   ]
  },
  {
   "cell_type": "code",
   "execution_count": 20,
   "metadata": {
    "execution": {
     "iopub.execute_input": "2020-12-12T15:12:00.975808Z",
     "iopub.status.busy": "2020-12-12T15:12:00.975485Z",
     "iopub.status.idle": "2020-12-12T15:12:02.338929Z",
     "shell.execute_reply": "2020-12-12T15:12:02.337721Z",
     "shell.execute_reply.started": "2020-12-12T15:12:00.975767Z"
    }
   },
   "outputs": [
    {
     "data": {
      "application/vnd.jupyter.widget-view+json": {
       "model_id": "47af3e5cd25f4125be85fd44c3389a33",
       "version_major": 2,
       "version_minor": 0
      },
      "text/plain": [
       "HBox(children=(HTML(value=''), FloatProgress(value=1.0, bar_style='info', layout=Layout(width='20px'), max=1.0…"
      ]
     },
     "metadata": {},
     "output_type": "display_data"
    },
    {
     "name": "stdout",
     "output_type": "stream",
     "text": [
      "\n"
     ]
    }
   ],
   "source": [
    "vocabulary = build_vocabulary(tokens, PADDING_TOKEN)"
   ]
  },
  {
   "cell_type": "markdown",
   "metadata": {},
   "source": [
    "Now we can check for a word (e.g. `chris`) and its mapping as an index in the vocabulary$\\dots$"
   ]
  },
  {
   "cell_type": "code",
   "execution_count": 21,
   "metadata": {
    "execution": {
     "iopub.execute_input": "2020-12-12T15:12:07.512660Z",
     "iopub.status.busy": "2020-12-12T15:12:07.512336Z",
     "iopub.status.idle": "2020-12-12T15:12:07.568996Z",
     "shell.execute_reply": "2020-12-12T15:12:07.567849Z",
     "shell.execute_reply.started": "2020-12-12T15:12:07.512619Z"
    }
   },
   "outputs": [
    {
     "data": {
      "text/plain": [
       "9476"
      ]
     },
     "execution_count": 21,
     "metadata": {},
     "output_type": "execute_result"
    }
   ],
   "source": [
    "vocabulary.from_string[\"chris\"]"
   ]
  },
  {
   "cell_type": "markdown",
   "metadata": {},
   "source": [
    "And we can also check the number of unique tokens that we will have to deal with$\\dots$"
   ]
  },
  {
   "cell_type": "code",
   "execution_count": 22,
   "metadata": {
    "execution": {
     "iopub.execute_input": "2020-12-12T15:12:07.571159Z",
     "iopub.status.busy": "2020-12-12T15:12:07.570854Z",
     "iopub.status.idle": "2020-12-12T15:12:07.623537Z",
     "shell.execute_reply": "2020-12-12T15:12:07.622103Z",
     "shell.execute_reply.started": "2020-12-12T15:12:07.571122Z"
    }
   },
   "outputs": [
    {
     "data": {
      "text/plain": [
       "43508"
      ]
     },
     "execution_count": 22,
     "metadata": {},
     "output_type": "execute_result"
    }
   ],
   "source": [
    "len(vocabulary.string)"
   ]
  },
  {
   "cell_type": "markdown",
   "metadata": {},
   "source": [
    "In order to make things easier in the following sections, we will be adding three different columns to our main `DataFrame`:\n",
    "- `indexed_claim`: the mapping of a claim to its corresponding list of vocabulary indices\n",
    "- `indexed_evidence`: the mapping of an evidence to its corresponding list of vocabulary indices\n",
    "- `indexed_label`: the mapping of a label to a number (in our example `SUPPORTS` $\\rightarrow$ 1 and `REFUTES` $\\rightarrow$ 0)"
   ]
  },
  {
   "cell_type": "code",
   "execution_count": 23,
   "metadata": {
    "execution": {
     "iopub.execute_input": "2020-12-12T15:12:07.625327Z",
     "iopub.status.busy": "2020-12-12T15:12:07.625015Z",
     "iopub.status.idle": "2020-12-12T15:12:12.149352Z",
     "shell.execute_reply": "2020-12-12T15:12:12.148197Z",
     "shell.execute_reply.started": "2020-12-12T15:12:07.625288Z"
    }
   },
   "outputs": [
    {
     "data": {
      "text/html": [
       "<div>\n",
       "<style scoped>\n",
       "    .dataframe tbody tr th:only-of-type {\n",
       "        vertical-align: middle;\n",
       "    }\n",
       "\n",
       "    .dataframe tbody tr th {\n",
       "        vertical-align: top;\n",
       "    }\n",
       "\n",
       "    .dataframe thead th {\n",
       "        text-align: right;\n",
       "    }\n",
       "</style>\n",
       "<table border=\"1\" class=\"dataframe\">\n",
       "  <thead>\n",
       "    <tr style=\"text-align: right;\">\n",
       "      <th></th>\n",
       "      <th>claim</th>\n",
       "      <th>evidence</th>\n",
       "      <th>id</th>\n",
       "      <th>label</th>\n",
       "      <th>split</th>\n",
       "      <th>indexed_claim</th>\n",
       "      <th>indexed_evidence</th>\n",
       "      <th>indexed_label</th>\n",
       "    </tr>\n",
       "  </thead>\n",
       "  <tbody>\n",
       "    <tr>\n",
       "      <th>0</th>\n",
       "      <td>chris hemsworth appeared in a perfect getaway</td>\n",
       "      <td>hemsworth has also appeared in the science fic...</td>\n",
       "      <td>3</td>\n",
       "      <td>SUPPORTS</td>\n",
       "      <td>train</td>\n",
       "      <td>[9476, 19069, 4942, 20352, 3069, 29751, 17367]</td>\n",
       "      <td>[19069, 18742, 4240, 4942, 20352, 38680, 34479...</td>\n",
       "      <td>1</td>\n",
       "    </tr>\n",
       "    <tr>\n",
       "      <th>1</th>\n",
       "      <td>roald dahl is a writer</td>\n",
       "      <td>roald dahl 13 september 1916 23 november 1990 ...</td>\n",
       "      <td>7</td>\n",
       "      <td>SUPPORTS</td>\n",
       "      <td>train</td>\n",
       "      <td>[33347, 11731, 21088, 3069, 42418]</td>\n",
       "      <td>[33347, 11731, 893, 35007, 1558, 2058, 28017, ...</td>\n",
       "      <td>1</td>\n",
       "    </tr>\n",
       "    <tr>\n",
       "      <th>2</th>\n",
       "      <td>roald dahl is a governor</td>\n",
       "      <td>roald dahl 13 september 1916 23 november 1990 ...</td>\n",
       "      <td>8</td>\n",
       "      <td>REFUTES</td>\n",
       "      <td>train</td>\n",
       "      <td>[33347, 11731, 21088, 3069, 17844]</td>\n",
       "      <td>[33347, 11731, 893, 35007, 1558, 2058, 28017, ...</td>\n",
       "      <td>0</td>\n",
       "    </tr>\n",
       "    <tr>\n",
       "      <th>3</th>\n",
       "      <td>ireland has relatively low-lying mountains</td>\n",
       "      <td>the island s geography comprises relatively lo...</td>\n",
       "      <td>9</td>\n",
       "      <td>SUPPORTS</td>\n",
       "      <td>train</td>\n",
       "      <td>[21040, 18742, 32610, 24122, 26679]</td>\n",
       "      <td>[38680, 21120, 33900, 17284, 10467, 32610, 241...</td>\n",
       "      <td>1</td>\n",
       "    </tr>\n",
       "    <tr>\n",
       "      <th>4</th>\n",
       "      <td>ireland does not have relatively low-lying mou...</td>\n",
       "      <td>the island s geography comprises relatively lo...</td>\n",
       "      <td>10</td>\n",
       "      <td>REFUTES</td>\n",
       "      <td>train</td>\n",
       "      <td>[21040, 13184, 27962, 18802, 32610, 24122, 26679]</td>\n",
       "      <td>[38680, 21120, 33900, 17284, 10467, 32610, 241...</td>\n",
       "      <td>0</td>\n",
       "    </tr>\n",
       "  </tbody>\n",
       "</table>\n",
       "</div>"
      ],
      "text/plain": [
       "                                               claim  \\\n",
       "0      chris hemsworth appeared in a perfect getaway   \n",
       "1                             roald dahl is a writer   \n",
       "2                           roald dahl is a governor   \n",
       "3         ireland has relatively low-lying mountains   \n",
       "4  ireland does not have relatively low-lying mou...   \n",
       "\n",
       "                                            evidence  id     label  split  \\\n",
       "0  hemsworth has also appeared in the science fic...   3  SUPPORTS  train   \n",
       "1  roald dahl 13 september 1916 23 november 1990 ...   7  SUPPORTS  train   \n",
       "2  roald dahl 13 september 1916 23 november 1990 ...   8   REFUTES  train   \n",
       "3  the island s geography comprises relatively lo...   9  SUPPORTS  train   \n",
       "4  the island s geography comprises relatively lo...  10   REFUTES  train   \n",
       "\n",
       "                                       indexed_claim  \\\n",
       "0     [9476, 19069, 4942, 20352, 3069, 29751, 17367]   \n",
       "1                 [33347, 11731, 21088, 3069, 42418]   \n",
       "2                 [33347, 11731, 21088, 3069, 17844]   \n",
       "3                [21040, 18742, 32610, 24122, 26679]   \n",
       "4  [21040, 13184, 27962, 18802, 32610, 24122, 26679]   \n",
       "\n",
       "                                    indexed_evidence  indexed_label  \n",
       "0  [19069, 18742, 4240, 4942, 20352, 38680, 34479...              1  \n",
       "1  [33347, 11731, 893, 35007, 1558, 2058, 28017, ...              1  \n",
       "2  [33347, 11731, 893, 35007, 1558, 2058, 28017, ...              0  \n",
       "3  [38680, 21120, 33900, 17284, 10467, 32610, 241...              1  \n",
       "4  [38680, 21120, 33900, 17284, 10467, 32610, 241...              0  "
      ]
     },
     "execution_count": 23,
     "metadata": {},
     "output_type": "execute_result"
    }
   ],
   "source": [
    "def to_indexes(values, to_index):\n",
    "    \"\"\"\n",
    "    Given a list of keys and a dictionary indexed by those keys,\n",
    "    return the corresponding values in the dictionary\n",
    "    \"\"\"\n",
    "    return [to_index[v] for v in values]\n",
    "\n",
    "\n",
    "df[\"indexed_claim\"] = df[\"claim\"].apply(\n",
    "    lambda s: to_indexes(s.split(), vocabulary.from_string)\n",
    ")\n",
    "df[\"indexed_evidence\"] = df[\"evidence\"].apply(\n",
    "    lambda s: to_indexes(s.split(), vocabulary.from_string)\n",
    ")\n",
    "df[\"indexed_label\"] = pd.Categorical(df[\"label\"], ordered=True).codes\n",
    "df.head()"
   ]
  },
  {
   "cell_type": "markdown",
   "metadata": {},
   "source": [
    "Is it possible that evidences for the same claim are spread across multiple splits of the dataset? Let's check it$\\dots$"
   ]
  },
  {
   "cell_type": "code",
   "execution_count": 25,
   "metadata": {
    "execution": {
     "iopub.execute_input": "2020-12-12T15:14:25.742668Z",
     "iopub.status.busy": "2020-12-12T15:14:25.742153Z",
     "iopub.status.idle": "2020-12-12T15:19:45.115140Z",
     "shell.execute_reply": "2020-12-12T15:19:45.113820Z",
     "shell.execute_reply.started": "2020-12-12T15:14:25.742613Z"
    }
   },
   "outputs": [
    {
     "data": {
      "application/vnd.jupyter.widget-view+json": {
       "model_id": "023c5b5e1c304139b66bdcbdfaf408ab",
       "version_major": 2,
       "version_minor": 0
      },
      "text/plain": [
       "HBox(children=(HTML(value=''), FloatProgress(value=0.0, max=122316.0), HTML(value='')))"
      ]
     },
     "metadata": {},
     "output_type": "display_data"
    },
    {
     "name": "stdout",
     "output_type": "stream",
     "text": [
      "\n"
     ]
    }
   ],
   "source": [
    "for claim_id in tqdm(df[\"id\"].unique()):\n",
    "    if len(df[df[\"id\"] == claim_id][\"split\"].value_counts()) > 1:\n",
    "        print(\"A claim has evidences in different splits\")\n",
    "        break"
   ]
  },
  {
   "cell_type": "markdown",
   "metadata": {},
   "source": [
    "Fortunately, all evidences related to a claim are kept in the same split as the claim itself."
   ]
  },
  {
   "cell_type": "markdown",
   "metadata": {},
   "source": [
    "Now we are going to store a different `DataFrame` that includes the ground truth information about each claim. In particular, since the dataset considers (claim, evidence) examples but the final decision about a claim has to take into account all its associated evidences, this new `DataFrame` will hold the claim id and the label corresponding to the majority vote between all evidences."
   ]
  },
  {
   "cell_type": "code",
   "execution_count": 157,
   "metadata": {
    "execution": {
     "iopub.execute_input": "2020-12-12T16:45:13.047619Z",
     "iopub.status.busy": "2020-12-12T16:45:13.047191Z",
     "iopub.status.idle": "2020-12-12T16:45:56.023031Z",
     "shell.execute_reply": "2020-12-12T16:45:56.021665Z",
     "shell.execute_reply.started": "2020-12-12T16:45:13.047573Z"
    }
   },
   "outputs": [
    {
     "data": {
      "text/html": [
       "<div>\n",
       "<style scoped>\n",
       "    .dataframe tbody tr th:only-of-type {\n",
       "        vertical-align: middle;\n",
       "    }\n",
       "\n",
       "    .dataframe tbody tr th {\n",
       "        vertical-align: top;\n",
       "    }\n",
       "\n",
       "    .dataframe thead th {\n",
       "        text-align: right;\n",
       "    }\n",
       "</style>\n",
       "<table border=\"1\" class=\"dataframe\">\n",
       "  <thead>\n",
       "    <tr style=\"text-align: right;\">\n",
       "      <th></th>\n",
       "      <th>indexed_label</th>\n",
       "      <th>split</th>\n",
       "    </tr>\n",
       "    <tr>\n",
       "      <th>id</th>\n",
       "      <th></th>\n",
       "      <th></th>\n",
       "    </tr>\n",
       "  </thead>\n",
       "  <tbody>\n",
       "    <tr>\n",
       "      <th>3</th>\n",
       "      <td>1</td>\n",
       "      <td>train</td>\n",
       "    </tr>\n",
       "    <tr>\n",
       "      <th>6</th>\n",
       "      <td>1</td>\n",
       "      <td>test</td>\n",
       "    </tr>\n",
       "    <tr>\n",
       "      <th>7</th>\n",
       "      <td>1</td>\n",
       "      <td>train</td>\n",
       "    </tr>\n",
       "    <tr>\n",
       "      <th>8</th>\n",
       "      <td>0</td>\n",
       "      <td>train</td>\n",
       "    </tr>\n",
       "    <tr>\n",
       "      <th>9</th>\n",
       "      <td>1</td>\n",
       "      <td>train</td>\n",
       "    </tr>\n",
       "  </tbody>\n",
       "</table>\n",
       "</div>"
      ],
      "text/plain": [
       "    indexed_label  split\n",
       "id                      \n",
       "3               1  train\n",
       "6               1   test\n",
       "7               1  train\n",
       "8               0  train\n",
       "9               1  train"
      ]
     },
     "execution_count": 157,
     "metadata": {},
     "output_type": "execute_result"
    }
   ],
   "source": [
    "gt_df = (\n",
    "    df[[\"id\", \"indexed_label\", \"split\"]]\n",
    "    .groupby(\"id\")\n",
    "    .agg({\"indexed_label\": pd.Series.mode, \"split\": lambda s: s.iloc[0]})\n",
    ")\n",
    "gt_df.head()"
   ]
  },
  {
   "cell_type": "markdown",
   "metadata": {},
   "source": [
    "## Dataset/DataLoader"
   ]
  },
  {
   "cell_type": "markdown",
   "metadata": {},
   "source": [
    "In this section we will leverage `PyTorch`'s objects and utilities, such as `Dataset`s and `DataLoader`s, to ease the successive training process."
   ]
  },
  {
   "cell_type": "markdown",
   "metadata": {},
   "source": [
    "First of all, we are subclassing the `Dataset` class and implementing a custom `__getitem__` method which returns a tuple `(id, indexed_claim, indexed_evidence, indexed_label)` for a given index."
   ]
  },
  {
   "cell_type": "code",
   "execution_count": 60,
   "metadata": {
    "execution": {
     "iopub.execute_input": "2020-12-12T15:38:23.436105Z",
     "iopub.status.busy": "2020-12-12T15:38:23.435681Z",
     "iopub.status.idle": "2020-12-12T15:38:23.498190Z",
     "shell.execute_reply": "2020-12-12T15:38:23.497105Z",
     "shell.execute_reply.started": "2020-12-12T15:38:23.436061Z"
    }
   },
   "outputs": [],
   "source": [
    "class FeverDataset(Dataset):\n",
    "    \"\"\"\n",
    "    Fever dataset for fact checking\n",
    "    \"\"\"\n",
    "\n",
    "    def __init__(self, df):\n",
    "        self.df = df.copy()\n",
    "        self.df = self.df.reset_index(drop=True)\n",
    "\n",
    "    def __len__(self):\n",
    "        return self.df.shape[0]\n",
    "\n",
    "    def __getitem__(self, index):\n",
    "        assert isinstance(index, int)\n",
    "        claim_id = self.df.loc[index, \"id\"] \n",
    "        claim = self.df.loc[index, \"indexed_claim\"]\n",
    "        evidence = self.df.loc[index, \"indexed_evidence\"]\n",
    "        label = self.df.loc[index, \"indexed_label\"]\n",
    "        return claim_id, claim, evidence, label"
   ]
  },
  {
   "cell_type": "markdown",
   "metadata": {},
   "source": [
    "Then, we are creating three different `Dataset` instances, one for each dataset split (`train`, `val` and `test`)."
   ]
  },
  {
   "cell_type": "code",
   "execution_count": 61,
   "metadata": {
    "execution": {
     "iopub.execute_input": "2020-12-12T15:38:28.853267Z",
     "iopub.status.busy": "2020-12-12T15:38:28.852949Z",
     "iopub.status.idle": "2020-12-12T15:38:29.063454Z",
     "shell.execute_reply": "2020-12-12T15:38:29.062182Z",
     "shell.execute_reply.started": "2020-12-12T15:38:28.853226Z"
    }
   },
   "outputs": [],
   "source": [
    "train_dataset = FeverDataset(df[df[\"split\"] == \"train\"])\n",
    "val_dataset = FeverDataset(df[df[\"split\"] == \"val\"])\n",
    "test_dataset = FeverDataset(df[df[\"split\"] == \"test\"])"
   ]
  },
  {
   "cell_type": "markdown",
   "metadata": {},
   "source": [
    "Next, we need to define a custom `collate_fn` function, which will be passed to the `PyTorch DataLoader` to pad each batch to a fixed lenght."
   ]
  },
  {
   "cell_type": "code",
   "execution_count": 62,
   "metadata": {
    "execution": {
     "iopub.execute_input": "2020-12-12T15:38:29.066016Z",
     "iopub.status.busy": "2020-12-12T15:38:29.065696Z",
     "iopub.status.idle": "2020-12-12T15:38:29.125360Z",
     "shell.execute_reply": "2020-12-12T15:38:29.124232Z",
     "shell.execute_reply.started": "2020-12-12T15:38:29.065975Z"
    }
   },
   "outputs": [],
   "source": [
    "def static_padding(sequences, shape, padding_index):\n",
    "    \"\"\"\n",
    "    Given a sequence of tensors with different lenghts and a fixed shape,\n",
    "    fit the tensors in a single one by padding to the given shape\n",
    "    \"\"\"\n",
    "    out_tensor = torch.empty(*shape, dtype=torch.long).fill_(padding_index)\n",
    "    for i, elem in enumerate(sequences):\n",
    "        tensor = torch.tensor(elem)\n",
    "        lenght = tensor.size(0)\n",
    "        out_tensor[i, :lenght, ...] = tensor\n",
    "    return out_tensor"
   ]
  },
  {
   "cell_type": "code",
   "execution_count": 88,
   "metadata": {
    "execution": {
     "iopub.execute_input": "2020-12-12T15:58:04.829819Z",
     "iopub.status.busy": "2020-12-12T15:58:04.829396Z",
     "iopub.status.idle": "2020-12-12T15:58:04.891686Z",
     "shell.execute_reply": "2020-12-12T15:58:04.890589Z",
     "shell.execute_reply.started": "2020-12-12T15:58:04.829774Z"
    }
   },
   "outputs": [],
   "source": [
    "def pad_batch(batch, padding_index, max_tokens):\n",
    "    \"\"\"\n",
    "    This function expects to receive a list of tuples (i.e. a batch),\n",
    "    s.t. each tuple contains one (claim, evidence, label) triple\n",
    "    and returns the same sequences padded with the padding token\n",
    "    \"\"\"\n",
    "    (ids, claims, evidences, labels) = zip(*batch)\n",
    "    claims_lenghts = torch.tensor([len(x) for x in claims], dtype=torch.long)\n",
    "    evidences_lenghts = torch.tensor([len(y) for y in evidences], dtype=torch.long)\n",
    "    max_shape = (len(batch), max_tokens)\n",
    "    padded_claims = static_padding(claims, max_shape, padding_index)\n",
    "    padded_evidences = static_padding(evidences, max_shape, padding_index)\n",
    "    labels_tensor = torch.tensor(labels, dtype=torch.float).reshape(len(batch), 1)\n",
    "    ids_tensor = torch.tensor(ids, dtype=torch.long)\n",
    "    return (\n",
    "        ids_tensor,\n",
    "        padded_claims,\n",
    "        padded_evidences,\n",
    "        labels_tensor,\n",
    "        claims_lenghts,\n",
    "        evidences_lenghts,\n",
    "    )"
   ]
  },
  {
   "cell_type": "markdown",
   "metadata": {},
   "source": [
    "The maximum lenght of each batch is chosen to be nearest multiplier of `50` (a parameter that we picked by hand) to the maximum of the maximum number of tokens in the claims column ($m_c$) and the maximum number of tokens in the evidence column ($m_e$). In this way, the maximum number of tokens that our models will be able to process is equal to $\\max(m_c, m_e)$."
   ]
  },
  {
   "cell_type": "code",
   "execution_count": 89,
   "metadata": {
    "execution": {
     "iopub.execute_input": "2020-12-12T15:58:10.063549Z",
     "iopub.status.busy": "2020-12-12T15:58:10.063234Z",
     "iopub.status.idle": "2020-12-12T15:58:10.304951Z",
     "shell.execute_reply": "2020-12-12T15:58:10.303841Z",
     "shell.execute_reply.started": "2020-12-12T15:58:10.063508Z"
    }
   },
   "outputs": [
    {
     "name": "stdout",
     "output_type": "stream",
     "text": [
      "Maximum number of tokens in claims: 65\n",
      "Maximum number of tokens in evidences: 203\n"
     ]
    }
   ],
   "source": [
    "max_claims_tokens = max(df[\"indexed_claim\"].apply(len))\n",
    "max_evidences_tokens = max(df[\"indexed_evidence\"].apply(len))\n",
    "print(f'Maximum number of tokens in claims: {max_claims_tokens}')\n",
    "print(f'Maximum number of tokens in evidences: {max_evidences_tokens}')"
   ]
  },
  {
   "cell_type": "code",
   "execution_count": 90,
   "metadata": {
    "execution": {
     "iopub.execute_input": "2020-12-12T15:58:10.307805Z",
     "iopub.status.busy": "2020-12-12T15:58:10.307476Z",
     "iopub.status.idle": "2020-12-12T15:58:10.367199Z",
     "shell.execute_reply": "2020-12-12T15:58:10.365979Z",
     "shell.execute_reply.started": "2020-12-12T15:58:10.307764Z"
    }
   },
   "outputs": [
    {
     "data": {
      "text/plain": [
       "250"
      ]
     },
     "execution_count": 90,
     "metadata": {},
     "output_type": "execute_result"
    }
   ],
   "source": [
    "mult = 50\n",
    "MAX_TOKENS = int(\n",
    "    mult * np.floor((max(max_claims_tokens, max_evidences_tokens) + mult) / mult)\n",
    ")\n",
    "MAX_TOKENS"
   ]
  },
  {
   "cell_type": "markdown",
   "metadata": {},
   "source": [
    "We are also fixing a pretty small batch size that will be used for each `DataLoader`."
   ]
  },
  {
   "cell_type": "code",
   "execution_count": 91,
   "metadata": {
    "execution": {
     "iopub.execute_input": "2020-12-12T15:58:10.369498Z",
     "iopub.status.busy": "2020-12-12T15:58:10.369190Z",
     "iopub.status.idle": "2020-12-12T15:58:10.420312Z",
     "shell.execute_reply": "2020-12-12T15:58:10.419181Z",
     "shell.execute_reply.started": "2020-12-12T15:58:10.369460Z"
    }
   },
   "outputs": [],
   "source": [
    "BATCH_SIZE = 8"
   ]
  },
  {
   "cell_type": "code",
   "execution_count": 92,
   "metadata": {
    "execution": {
     "iopub.execute_input": "2020-12-12T15:58:10.422478Z",
     "iopub.status.busy": "2020-12-12T15:58:10.422143Z",
     "iopub.status.idle": "2020-12-12T15:58:10.474727Z",
     "shell.execute_reply": "2020-12-12T15:58:10.473406Z",
     "shell.execute_reply.started": "2020-12-12T15:58:10.422440Z"
    }
   },
   "outputs": [],
   "source": [
    "collate_fn = partial(\n",
    "    pad_batch,\n",
    "    padding_index=vocabulary.from_string[PADDING_TOKEN],\n",
    "    max_tokens=MAX_TOKENS,\n",
    ")\n",
    "\n",
    "default_dataloader = partial(\n",
    "    DataLoader,\n",
    "    batch_size=BATCH_SIZE,\n",
    "    shuffle=True,\n",
    "    collate_fn=collate_fn,\n",
    "    pin_memory=True,\n",
    ")"
   ]
  },
  {
   "cell_type": "code",
   "execution_count": 93,
   "metadata": {
    "execution": {
     "iopub.execute_input": "2020-12-12T15:58:10.476339Z",
     "iopub.status.busy": "2020-12-12T15:58:10.476035Z",
     "iopub.status.idle": "2020-12-12T15:58:10.527662Z",
     "shell.execute_reply": "2020-12-12T15:58:10.526617Z",
     "shell.execute_reply.started": "2020-12-12T15:58:10.476302Z"
    }
   },
   "outputs": [],
   "source": [
    "train_dataloader = default_dataloader(train_dataset)\n",
    "val_dataloader = default_dataloader(val_dataset)\n",
    "test_dataloader = default_dataloader(test_dataset)"
   ]
  },
  {
   "cell_type": "markdown",
   "metadata": {},
   "source": [
    "Now we can check the very first batch of data extracted from the training split of the dataset, by using the `DataLoader` associated to the training `Dataset`."
   ]
  },
  {
   "cell_type": "code",
   "execution_count": 94,
   "metadata": {
    "execution": {
     "iopub.execute_input": "2020-12-12T15:58:10.529305Z",
     "iopub.status.busy": "2020-12-12T15:58:10.528998Z",
     "iopub.status.idle": "2020-12-12T15:58:10.590007Z",
     "shell.execute_reply": "2020-12-12T15:58:10.588917Z",
     "shell.execute_reply.started": "2020-12-12T15:58:10.529268Z"
    }
   },
   "outputs": [
    {
     "data": {
      "text/plain": [
       "(tensor([ 3,  7,  8,  9, 10, 14, 17, 19]),\n",
       " tensor([[ 9476, 19069,  4942,  ...,     0,     0,     0],\n",
       "         [33347, 11731, 21088,  ...,     0,     0,     0],\n",
       "         [33347, 11731, 21088,  ...,     0,     0,     0],\n",
       "         ...,\n",
       "         [38752, 18802,  6544,  ...,     0,     0,     0],\n",
       "         [14033, 20020, 28352,  ...,     0,     0,     0],\n",
       "         [18384, 18384, 19519,  ...,     0,     0,     0]]),\n",
       " tensor([[19069, 18742,  4240,  ...,     0,     0,     0],\n",
       "         [33347, 11731,   893,  ...,     0,     0,     0],\n",
       "         [33347, 11731,   893,  ...,     0,     0,     0],\n",
       "         ...,\n",
       "         [19388, 26619, 10325,  ...,     0,     0,     0],\n",
       "         [ 3728, 37753,  3069,  ...,     0,     0,     0],\n",
       "         [24811, 41067, 41835,  ...,     0,     0,     0]]),\n",
       " tensor([[1.],\n",
       "         [1.],\n",
       "         [0.],\n",
       "         [1.],\n",
       "         [0.],\n",
       "         [1.],\n",
       "         [1.],\n",
       "         [1.]]),\n",
       " tensor([ 7,  5,  5,  5,  7,  9, 11,  9]),\n",
       " tensor([53, 20, 20, 18, 18, 19, 25, 49]))"
      ]
     },
     "execution_count": 94,
     "metadata": {},
     "output_type": "execute_result"
    }
   ],
   "source": [
    "first_batch = next(iter(train_dataloader))\n",
    "first_batch"
   ]
  },
  {
   "cell_type": "markdown",
   "metadata": {},
   "source": [
    "## Embeddings"
   ]
  },
  {
   "cell_type": "markdown",
   "metadata": {},
   "source": [
    "In this section we are going to define a procedure for generating \"sequential\" embedding matrices, i.e. one matrix for each dataset split. In particular, generating matrices in this way (i.e. starting from training, then going to validation and finally to the test set), is a must since it enables us to mimick a real-world scenario. More precisely, the reasoning that we are following is this one:\n",
    "1. Start from the training split and build the embedding matrix by considering OOV those words that are in our training split but not in the vocabulary of the embedding model\n",
    "2. Build the embedding matrix for the validation split, by considering OOV those words that are in our validation split but neither in the vocabulary of the embedding model nor in our training set (if a word was OOV in step `(1)` it should not be considered OOV anymore in step `(2)` and we should use the embedding produced in step `(1)` to encode it)\n",
    "3. Build the embedding matrix for the test split, with the same reasoning as step `(2)`, with the only difference that words are real OOV if and only if they do not appear neither in the vocabulary of the embedding model nor in the training or validation splits of our dataset\n",
    "\n",
    "Moreover, the chosen embedding model for our experiments is `GloVe` with a dimension of `300`."
   ]
  },
  {
   "cell_type": "code",
   "execution_count": 95,
   "metadata": {
    "execution": {
     "iopub.execute_input": "2020-12-12T15:58:10.593133Z",
     "iopub.status.busy": "2020-12-12T15:58:10.592835Z",
     "iopub.status.idle": "2020-12-12T15:58:10.643699Z",
     "shell.execute_reply": "2020-12-12T15:58:10.642648Z",
     "shell.execute_reply.started": "2020-12-12T15:58:10.593096Z"
    }
   },
   "outputs": [],
   "source": [
    "EMBEDDING_DIMENSION = 300"
   ]
  },
  {
   "cell_type": "code",
   "execution_count": 96,
   "metadata": {
    "execution": {
     "iopub.execute_input": "2020-12-12T15:58:10.645931Z",
     "iopub.status.busy": "2020-12-12T15:58:10.645629Z",
     "iopub.status.idle": "2020-12-12T16:02:28.385815Z",
     "shell.execute_reply": "2020-12-12T16:02:28.384042Z",
     "shell.execute_reply.started": "2020-12-12T15:58:10.645894Z"
    }
   },
   "outputs": [],
   "source": [
    "embedding_model = utils.load_embedding_model(\n",
    "    \"glove\", embedding_dimension=EMBEDDING_DIMENSION\n",
    ")"
   ]
  },
  {
   "cell_type": "code",
   "execution_count": 97,
   "metadata": {
    "execution": {
     "iopub.execute_input": "2020-12-12T16:02:33.689922Z",
     "iopub.status.busy": "2020-12-12T16:02:33.689603Z",
     "iopub.status.idle": "2020-12-12T16:02:33.754931Z",
     "shell.execute_reply": "2020-12-12T16:02:33.753562Z",
     "shell.execute_reply.started": "2020-12-12T16:02:33.689881Z"
    }
   },
   "outputs": [],
   "source": [
    "def build_embedding_matrices(\n",
    "    df, embedding_model, embedding_dimension, vocabulary, splits, method=\"normal\",\n",
    "):\n",
    "    \"\"\"\n",
    "    Builds the embedding matrices (one for each split) of a specific dataset,\n",
    "    given a pre-trained Gensim word embedding model\n",
    "    \"\"\"\n",
    "    assert method in (\"uniform\", \"normal\")\n",
    "\n",
    "    def uniform_embedding(interval=(-1, 1)):\n",
    "        return interval[0] + np.random.sample(embedding_dimension) + interval[1]\n",
    "\n",
    "    def normal_embedding():\n",
    "        return np.random.normal(embedding_dimension)\n",
    "\n",
    "    oov_terms = dict()\n",
    "    embedding_matrices = dict.fromkeys(\n",
    "        splits, np.zeros((len(vocabulary.string), embedding_dimension))\n",
    "    )\n",
    "    for split in splits:\n",
    "        tokens = set(\n",
    "            list(flatten(df[df[\"split\"] == split][\"claim\"].str.split().tolist()))\n",
    "            + list(flatten(df[df[\"split\"] == split][\"evidence\"].str.split().tolist()))\n",
    "        )\n",
    "        for word in tokens:\n",
    "            word_index = vocabulary.from_string[word]\n",
    "            word_vector = np.zeros((1, embedding_dimension))\n",
    "            # Words that are no OOV are taken from the Gensim model\n",
    "            if word in embedding_model.vocab:\n",
    "                word_vector = embedding_model[word]\n",
    "            # Compute OOV embedding, if not already done\n",
    "            elif word not in oov_terms:\n",
    "                # OOV words computed as random normal vectors\n",
    "                if method == \"normal\":\n",
    "                    word_vector = normal_embedding()\n",
    "                # OOV words computed as uniform vectors in range [-1, 1]\n",
    "                elif method == \"uniform\":\n",
    "                    word_vector = uniform_embedding()\n",
    "                # The word is not OOV anymore\n",
    "                oov_terms[word] = word_vector\n",
    "            else:\n",
    "                word_vector = oov_terms[word]\n",
    "            embedding_matrices[split][word_index, :] = word_vector\n",
    "    return embedding_matrices"
   ]
  },
  {
   "cell_type": "markdown",
   "metadata": {},
   "source": [
    "Now we will actually build the embedding matrices, by encoding OOV words with random normal vectors."
   ]
  },
  {
   "cell_type": "code",
   "execution_count": 98,
   "metadata": {
    "execution": {
     "iopub.execute_input": "2020-12-12T16:03:09.388727Z",
     "iopub.status.busy": "2020-12-12T16:03:09.388416Z",
     "iopub.status.idle": "2020-12-12T16:03:20.531534Z",
     "shell.execute_reply": "2020-12-12T16:03:20.530129Z",
     "shell.execute_reply.started": "2020-12-12T16:03:09.388686Z"
    }
   },
   "outputs": [],
   "source": [
    "embedding_matrices = build_embedding_matrices(\n",
    "    df,\n",
    "    embedding_model,\n",
    "    EMBEDDING_DIMENSION,\n",
    "    vocabulary,\n",
    "    [\"train\", \"val\", \"test\"],\n",
    "    method=\"normal\",\n",
    ")"
   ]
  },
  {
   "cell_type": "markdown",
   "metadata": {},
   "source": [
    "And we can check how the padding token is encoded (e.g. in the training embedding matrix): ideally it should be a row of all zeros, since it does not add any information to the sentence that it is injected to$\\dots$"
   ]
  },
  {
   "cell_type": "code",
   "execution_count": 99,
   "metadata": {
    "execution": {
     "iopub.execute_input": "2020-12-12T16:03:20.533709Z",
     "iopub.status.busy": "2020-12-12T16:03:20.533393Z",
     "iopub.status.idle": "2020-12-12T16:03:20.602838Z",
     "shell.execute_reply": "2020-12-12T16:03:20.601551Z",
     "shell.execute_reply.started": "2020-12-12T16:03:20.533668Z"
    }
   },
   "outputs": [
    {
     "data": {
      "text/plain": [
       "array([0., 0., 0., 0., 0., 0., 0., 0., 0., 0., 0., 0., 0., 0., 0., 0., 0.,\n",
       "       0., 0., 0., 0., 0., 0., 0., 0., 0., 0., 0., 0., 0., 0., 0., 0., 0.,\n",
       "       0., 0., 0., 0., 0., 0., 0., 0., 0., 0., 0., 0., 0., 0., 0., 0., 0.,\n",
       "       0., 0., 0., 0., 0., 0., 0., 0., 0., 0., 0., 0., 0., 0., 0., 0., 0.,\n",
       "       0., 0., 0., 0., 0., 0., 0., 0., 0., 0., 0., 0., 0., 0., 0., 0., 0.,\n",
       "       0., 0., 0., 0., 0., 0., 0., 0., 0., 0., 0., 0., 0., 0., 0., 0., 0.,\n",
       "       0., 0., 0., 0., 0., 0., 0., 0., 0., 0., 0., 0., 0., 0., 0., 0., 0.,\n",
       "       0., 0., 0., 0., 0., 0., 0., 0., 0., 0., 0., 0., 0., 0., 0., 0., 0.,\n",
       "       0., 0., 0., 0., 0., 0., 0., 0., 0., 0., 0., 0., 0., 0., 0., 0., 0.,\n",
       "       0., 0., 0., 0., 0., 0., 0., 0., 0., 0., 0., 0., 0., 0., 0., 0., 0.,\n",
       "       0., 0., 0., 0., 0., 0., 0., 0., 0., 0., 0., 0., 0., 0., 0., 0., 0.,\n",
       "       0., 0., 0., 0., 0., 0., 0., 0., 0., 0., 0., 0., 0., 0., 0., 0., 0.,\n",
       "       0., 0., 0., 0., 0., 0., 0., 0., 0., 0., 0., 0., 0., 0., 0., 0., 0.,\n",
       "       0., 0., 0., 0., 0., 0., 0., 0., 0., 0., 0., 0., 0., 0., 0., 0., 0.,\n",
       "       0., 0., 0., 0., 0., 0., 0., 0., 0., 0., 0., 0., 0., 0., 0., 0., 0.,\n",
       "       0., 0., 0., 0., 0., 0., 0., 0., 0., 0., 0., 0., 0., 0., 0., 0., 0.,\n",
       "       0., 0., 0., 0., 0., 0., 0., 0., 0., 0., 0., 0., 0., 0., 0., 0., 0.,\n",
       "       0., 0., 0., 0., 0., 0., 0., 0., 0., 0., 0.])"
      ]
     },
     "execution_count": 99,
     "metadata": {},
     "output_type": "execute_result"
    }
   ],
   "source": [
    "embedding_matrices[\"train\"][0, :]"
   ]
  },
  {
   "cell_type": "markdown",
   "metadata": {},
   "source": [
    "## Model definition"
   ]
  },
  {
   "cell_type": "markdown",
   "metadata": {},
   "source": [
    "In this section we are going to define a modular class containing the implementation of a fact checking model, which will be used in subsequent blocks to perform different kinds of experiments, by changing architectures while keeping hyperparameters fixed."
   ]
  },
  {
   "cell_type": "code",
   "execution_count": 153,
   "metadata": {
    "execution": {
     "iopub.execute_input": "2020-12-12T16:40:44.747009Z",
     "iopub.status.busy": "2020-12-12T16:40:44.746575Z",
     "iopub.status.idle": "2020-12-12T16:40:44.847603Z",
     "shell.execute_reply": "2020-12-12T16:40:44.846394Z",
     "shell.execute_reply.started": "2020-12-12T16:40:44.746957Z"
    }
   },
   "outputs": [],
   "source": [
    "class FactCheckingModel(nn.Module):\n",
    "    def __init__(\n",
    "        self,\n",
    "        embedding_dimension,\n",
    "        max_tokens,\n",
    "        num_recurrent_layers=None,\n",
    "        lr=1e-3,\n",
    "        padding_index=0,\n",
    "        sentence_strategy=\"bov\",\n",
    "        merging_strategy=\"mean\",\n",
    "        cosine_similarity=False,\n",
    "        threshold=0.5,\n",
    "    ):\n",
    "        \"\"\"\n",
    "        Build a generic fact checking model, with recurrent modules\n",
    "        \"\"\"\n",
    "        super().__init__()\n",
    "\n",
    "        # Padding\n",
    "        self.padding_index = padding_index\n",
    "\n",
    "        # Get device\n",
    "        self.device = torch.device(\"cuda\" if torch.cuda.is_available() else \"cpu\")\n",
    "\n",
    "        # Embedding module\n",
    "        self.embedding_dimension = embedding_dimension\n",
    "        self.embedding = None\n",
    "\n",
    "        # Strategy to perform sentence embedding\n",
    "        assert sentence_strategy in (\"bov\", \"mlp\", \"rnn_out_avg\", \"rnn_last\")\n",
    "        self.sentence_strategy = sentence_strategy\n",
    "        if self.sentence_strategy == \"mlp\":\n",
    "            self.mlp = nn.Linear(\n",
    "                max_tokens * self.embedding_dimension, self.embedding_dimension\n",
    "            )\n",
    "        elif \"rnn\" in self.sentence_strategy:\n",
    "            assert num_recurrent_layers is not None\n",
    "            self.recurrent_module = nn.LSTM(\n",
    "                self.embedding_dimension,\n",
    "                self.embedding_dimension,\n",
    "                batch_first=True,\n",
    "                num_layers=num_recurrent_layers,\n",
    "            )\n",
    "\n",
    "        # Strategy to merge claims and evidences\n",
    "        assert merging_strategy in (\"mean\", \"sum\", \"cat\")\n",
    "        self.merging_strategy = merging_strategy\n",
    "\n",
    "        # Whether to add similarity information between claim and evidence\n",
    "        # to the classification layer\n",
    "        self.cosine_similarity = cosine_similarity\n",
    "\n",
    "        # Classification layer\n",
    "        classifier_input_dim = int(self.cosine_similarity) + (\n",
    "            self.embedding_dimension * 2\n",
    "            if merging_strategy == \"cat\"\n",
    "            else self.embedding_dimension\n",
    "        )\n",
    "        self.classifier = nn.Linear(classifier_input_dim, 1)\n",
    "\n",
    "        # Threshold to predict positive or negative class\n",
    "        self.threshold = threshold\n",
    "\n",
    "        # Sigmoid layer and criterion\n",
    "        self.sigmoid = nn.Sigmoid()\n",
    "        self.criterion = nn.BCELoss().to(self.device)\n",
    "\n",
    "        # Set default optimizer\n",
    "        self.lr = lr\n",
    "        self.optimizer = torch.optim.Adam(self.parameters(), lr=lr)\n",
    "\n",
    "        # Transfer model to device\n",
    "        self.to(self.device)\n",
    "\n",
    "    def inject_embeddings(self, embeddings):\n",
    "        \"\"\"\n",
    "        Inject the given embedding matrix in the Embedding module\n",
    "        and make it non-trainable\n",
    "        \"\"\"\n",
    "        self.embedding = nn.Embedding(\n",
    "            embeddings.shape[0], embeddings.shape[1], padding_idx=self.padding_index\n",
    "        )\n",
    "        self.embedding.weight = nn.Parameter(torch.FloatTensor(embeddings))\n",
    "        self.embedding.weight.requires_grad = False\n",
    "\n",
    "    def count_parameters(self):\n",
    "        \"\"\"\n",
    "        Return the total number of trainable parameters in the model\n",
    "        \"\"\"\n",
    "        return sum(p.numel() for p in self.parameters() if p.requires_grad)\n",
    "\n",
    "    def _sentence_embedding(self, claims, evidences, claims_lenghts, evidences_lenghts):\n",
    "        def _bag_of_vectors(claims, evidences, claims_lenghts, evidences_lenghts):\n",
    "            return (\n",
    "                claims.sum(dim=1) / claims_lenghts.view(-1, 1),\n",
    "                evidences.sum(dim=1) / evidences_lenghts.view(-1, 1),\n",
    "            )\n",
    "\n",
    "        def _mlp():\n",
    "            assert hasattr(self, \"mlp\")\n",
    "            flattened_claims = torch.flatten(claims, start_dim=1)\n",
    "            flattened_evidences = torch.flatten(evidences, start_dim=1)\n",
    "            return (\n",
    "                self.mlp(flattened_claims),\n",
    "                self.mlp(flattened_evidences),\n",
    "            )\n",
    "\n",
    "        def _rnn():\n",
    "            assert hasattr(self, \"recurrent_module\")\n",
    "            packed_claims = pack_padded_sequence(\n",
    "                claims, claims_lenghts, batch_first=True, enforce_sorted=False\n",
    "            )\n",
    "            packed_evidences = pack_padded_sequence(\n",
    "                evidences, evidences_lenghts, batch_first=True, enforce_sorted=False,\n",
    "            )\n",
    "            output_claims, (hidden, cell) = self.recurrent_module(packed_claims)\n",
    "            output_evidences, (hidden, cell) = self.recurrent_module(packed_evidences)\n",
    "            padded_claims, padded_claims_lenghts = pad_packed_sequence(\n",
    "                output_claims, batch_first=True\n",
    "            )\n",
    "            padded_evidences, padded_evidences_lenghts = pad_packed_sequence(\n",
    "                output_evidences, batch_first=True\n",
    "            )\n",
    "            if self.sentence_strategy == \"rnn_last\":\n",
    "                claims_indices = (\n",
    "                    (claims_lenghts - 1)\n",
    "                    .unsqueeze(-1)\n",
    "                    .repeat(1, self.embedding_dimension)\n",
    "                    .unsqueeze(1)\n",
    "                )\n",
    "                evidences_indices = (\n",
    "                    (evidences_lenghts - 1)\n",
    "                    .unsqueeze(-1)\n",
    "                    .repeat(1, self.embedding_dimension)\n",
    "                    .unsqueeze(1)\n",
    "                )\n",
    "                return (\n",
    "                    torch.gather(padded_claims, 1, claims_indices).squeeze(1),\n",
    "                    torch.gather(padded_evidences, 1, evidences_indices).squeeze(1),\n",
    "                )\n",
    "            elif self.sentence_strategy == \"rnn_out_avg\":\n",
    "                return _bag_of_vectors(\n",
    "                    padded_claims,\n",
    "                    padded_evidences,\n",
    "                    padded_claims_lenghts,\n",
    "                    padded_evidences_lenghts,\n",
    "                )\n",
    "\n",
    "        if self.sentence_strategy == \"bov\":\n",
    "            return _bag_of_vectors(claims, evidences, claims_lenghts, evidences_lenghts)\n",
    "        elif self.sentence_strategy == \"mlp\":\n",
    "            return _mlp()\n",
    "        elif \"rnn\" in self.sentence_strategy:\n",
    "            return _rnn()\n",
    "\n",
    "    def _merge_embeddings(self, claims, evidences):\n",
    "        if self.merging_strategy == \"mean\":\n",
    "            return (claims + evidences) / 2\n",
    "        elif self.merging_strategy == \"sum\":\n",
    "            return claims + evidences\n",
    "        elif self.merging_strategy == \"cat\":\n",
    "            return torch.stack([claims, evidences], dim=1)\n",
    "        return None\n",
    "\n",
    "    def forward(self, claims, evidences, claims_lenghts, evidences_lenghts):\n",
    "        \"\"\"\n",
    "        Perform a forward pass and return predictions over\n",
    "        a mini-batch of sequences of the same lenght\n",
    "        (one value for each possible tag for each input token)\n",
    "        \"\"\"\n",
    "        assert self.embedding is not None\n",
    "        embedded_claims = self.embedding(claims)\n",
    "        embedded_evidences = self.embedding(evidences)\n",
    "        sentence_claims, sentence_evidences = self._sentence_embedding(\n",
    "            embedded_claims, embedded_evidences, claims_lenghts, evidences_lenghts\n",
    "        )\n",
    "        merged_inputs = self._merge_embeddings(sentence_claims, sentence_evidences)\n",
    "        if self.cosine_similarity:\n",
    "            similarities = torch.nn.functional.cosine_similarity(\n",
    "                sentence_claims, sentence_evidences, dim=1\n",
    "            ).unsqueeze(1)\n",
    "            merged_inputs = torch.cat([merged_inputs, similarities], dim=1)\n",
    "        predictions = self.classifier(merged_inputs)\n",
    "        return self.sigmoid(predictions)\n",
    "\n",
    "    def predict(self, predictions, labels):\n",
    "        \"\"\"\n",
    "        Transform emission scores into labels indexes and return\n",
    "        flattened Python lists containing predictions and ground truths\n",
    "        \"\"\"\n",
    "        predicted_classes = (predictions > self.threshold).float()\n",
    "        return (\n",
    "            predicted_classes.view(-1).detach().cpu().tolist(),\n",
    "            labels.view(-1).detach().cpu().tolist(),\n",
    "        )\n",
    "\n",
    "    def loss(self, predictions, labels):\n",
    "        \"\"\"\n",
    "        Compute the loss and return its value\n",
    "        \"\"\"\n",
    "        return self.criterion(predictions, labels)"
   ]
  },
  {
   "cell_type": "markdown",
   "metadata": {},
   "source": [
    "Here are the main hyperparameters that we are fixing (other than `BATCH_SIZE` and `MAX_TOKENS`, which were required to be defined above)$\\dots$"
   ]
  },
  {
   "cell_type": "code",
   "execution_count": 198,
   "metadata": {
    "execution": {
     "iopub.execute_input": "2020-12-12T18:06:37.539823Z",
     "iopub.status.busy": "2020-12-12T18:06:37.539522Z",
     "iopub.status.idle": "2020-12-12T18:06:37.590696Z",
     "shell.execute_reply": "2020-12-12T18:06:37.589328Z",
     "shell.execute_reply.started": "2020-12-12T18:06:37.539786Z"
    }
   },
   "outputs": [],
   "source": [
    "LEARNING_RATE = 1e-3\n",
    "NUM_EPOCHS = 10"
   ]
  },
  {
   "cell_type": "markdown",
   "metadata": {},
   "source": [
    "## Learning utils"
   ]
  },
  {
   "cell_type": "markdown",
   "metadata": {},
   "source": [
    "In this section we are defining some simple functions and classes that will be helpful to train each model with the same pipeline."
   ]
  },
  {
   "cell_type": "code",
   "execution_count": 102,
   "metadata": {
    "execution": {
     "iopub.execute_input": "2020-12-12T16:03:36.161106Z",
     "iopub.status.busy": "2020-12-12T16:03:36.160805Z",
     "iopub.status.idle": "2020-12-12T16:03:36.212995Z",
     "shell.execute_reply": "2020-12-12T16:03:36.211876Z",
     "shell.execute_reply.started": "2020-12-12T16:03:36.161069Z"
    }
   },
   "outputs": [],
   "source": [
    "def categorical_accuracy(predictions, ground_truth):\n",
    "    \"\"\"\n",
    "    Returns accuracy score over the given batch of data\n",
    "    \"\"\"\n",
    "    return sklearn.metrics.accuracy_score(ground_truth, predictions)"
   ]
  },
  {
   "cell_type": "code",
   "execution_count": 103,
   "metadata": {
    "execution": {
     "iopub.execute_input": "2020-12-12T16:03:36.214967Z",
     "iopub.status.busy": "2020-12-12T16:03:36.214666Z",
     "iopub.status.idle": "2020-12-12T16:03:36.265628Z",
     "shell.execute_reply": "2020-12-12T16:03:36.264511Z",
     "shell.execute_reply.started": "2020-12-12T16:03:36.214930Z"
    }
   },
   "outputs": [],
   "source": [
    "def f1_score(\n",
    "    predictions, ground_truth, average=\"macro\",\n",
    "):\n",
    "    \"\"\"\n",
    "    Returns F1-macro score over an entire dataset\n",
    "    (F1 cannot be computed on batches)\n",
    "    \"\"\"\n",
    "    return sklearn.metrics.f1_score(ground_truth, predictions, average=average,)"
   ]
  },
  {
   "cell_type": "code",
   "execution_count": 179,
   "metadata": {
    "execution": {
     "iopub.execute_input": "2020-12-12T17:32:31.129994Z",
     "iopub.status.busy": "2020-12-12T17:32:31.129539Z",
     "iopub.status.idle": "2020-12-12T17:32:31.190889Z",
     "shell.execute_reply": "2020-12-12T17:32:31.189781Z",
     "shell.execute_reply.started": "2020-12-12T17:32:31.129941Z"
    }
   },
   "outputs": [],
   "source": [
    "def claims_scores(claims_results, gt_df):\n",
    "    \"\"\"\n",
    "    Store ground truths and predictions based on the majority vote\n",
    "    between evidences (for the same claim)\n",
    "    \"\"\"\n",
    "    y_true, y_pred = [], []\n",
    "    for claim_id, res in claims_results.items():\n",
    "        true_label = gt_df.loc[claim_id][\"indexed_label\"]\n",
    "        pred_label = np.argmax(res)\n",
    "        y_true.append(true_label)\n",
    "        y_pred.append(pred_label)\n",
    "    return categorical_accuracy(y_pred, y_true), f1_score(y_pred, y_true)"
   ]
  },
  {
   "cell_type": "code",
   "execution_count": 194,
   "metadata": {
    "execution": {
     "iopub.execute_input": "2020-12-12T17:42:36.883552Z",
     "iopub.status.busy": "2020-12-12T17:42:36.883109Z",
     "iopub.status.idle": "2020-12-12T17:42:36.959668Z",
     "shell.execute_reply": "2020-12-12T17:42:36.958523Z",
     "shell.execute_reply.started": "2020-12-12T17:42:36.883506Z"
    }
   },
   "outputs": [],
   "source": [
    "def train(model, dataloader, embeddings, gt_df):\n",
    "    \"\"\"\n",
    "    Train the given model with the given dataloader\n",
    "    \"\"\"\n",
    "    claims_results = dict()\n",
    "    for i in gt_df.index:\n",
    "        claims_results[i] = [0, 0]\n",
    "    epoch_loss, epoch_acc, epoch_f1 = 0, 0, 0\n",
    "    all_outputs, all_labels = [], []\n",
    "    model.train()\n",
    "    model.inject_embeddings(embeddings)\n",
    "    dataloader_progress = tqdm(enumerate(dataloader), desc=\"Training\", leave=True)\n",
    "    for i, batch in dataloader_progress:\n",
    "        model.optimizer.zero_grad()\n",
    "        claims_ids, claims, evidences, labels, claims_lenghts, evidences_lenghts = batch\n",
    "        predictions = model(claims, evidences, claims_lenghts, evidences_lenghts)\n",
    "        max_predictions, ground_truth = model.predict(predictions, labels)\n",
    "        for i, pred in enumerate(max_predictions):\n",
    "            claims_results[claims_ids[i].item()][int(pred)] += 1\n",
    "        acc = categorical_accuracy(max_predictions, ground_truth)\n",
    "        all_outputs.extend(max_predictions)\n",
    "        all_labels.extend(ground_truth)\n",
    "        loss = model.loss(predictions, labels)\n",
    "        loss.backward()\n",
    "        model.optimizer.step()\n",
    "        epoch_loss = epoch_loss + ((loss.item() - epoch_loss) / (i + 1))\n",
    "        epoch_acc = epoch_acc + ((acc.item() - epoch_acc) / (i + 1))\n",
    "        dataloader_progress.set_postfix({\"epoch_acc\": f\"{epoch_acc * 100:.2f}\"})\n",
    "\n",
    "    # Compute accuracy and F1 per claim/all evidences tuples\n",
    "    claim_acc, claim_f1 = claims_scores(claims_results, gt_df)\n",
    "\n",
    "    # Compute F1 score once a training epoch is done\n",
    "    epoch_f1 = f1_score(all_outputs, all_labels)\n",
    "    return epoch_loss, epoch_acc, epoch_f1, claim_acc, claim_f1"
   ]
  },
  {
   "cell_type": "code",
   "execution_count": 195,
   "metadata": {
    "execution": {
     "iopub.execute_input": "2020-12-12T17:42:42.224058Z",
     "iopub.status.busy": "2020-12-12T17:42:42.223738Z",
     "iopub.status.idle": "2020-12-12T17:42:42.291458Z",
     "shell.execute_reply": "2020-12-12T17:42:42.290071Z",
     "shell.execute_reply.started": "2020-12-12T17:42:42.224017Z"
    }
   },
   "outputs": [],
   "source": [
    "def evaluate(model, dataloader, embeddings, gt_df):\n",
    "    \"\"\"\n",
    "    Evaluate the given model with the given dataloader\n",
    "    \"\"\"\n",
    "    claims_results = dict()\n",
    "    for i in gt_df.index:\n",
    "        claims_results[i] = [0, 0]\n",
    "    epoch_loss, epoch_acc, epoch_f1 = 0, 0, 0\n",
    "    all_outputs, all_labels = [], []\n",
    "    model.eval()\n",
    "    model.inject_embeddings(embeddings)\n",
    "    with torch.no_grad():\n",
    "        dataloader_progress = tqdm(enumerate(dataloader), desc=\"Evaluating\", leave=True)\n",
    "        for i, batch in dataloader_progress:\n",
    "            (\n",
    "                claims_ids,\n",
    "                claims,\n",
    "                evidences,\n",
    "                labels,\n",
    "                claims_lenghts,\n",
    "                evidences_lenghts,\n",
    "            ) = batch\n",
    "            predictions = model(claims, evidences, claims_lenghts, evidences_lenghts)\n",
    "            max_predictions, ground_truth = model.predict(predictions, labels)\n",
    "            for i, pred in enumerate(max_predictions):\n",
    "                claims_results[claims_ids[i].item()][int(pred)] += 1\n",
    "            acc = categorical_accuracy(max_predictions, ground_truth)\n",
    "            all_outputs.extend(max_predictions)\n",
    "            all_labels.extend(ground_truth)\n",
    "            loss = model.loss(predictions, labels)\n",
    "            epoch_loss = epoch_loss + ((loss.item() - epoch_loss) / (i + 1))\n",
    "            epoch_acc = epoch_acc + ((acc.item() - epoch_acc) / (i + 1))\n",
    "            dataloader_progress.set_postfix({\"epoch_acc\": f\"{epoch_acc * 100:.2f}\"})\n",
    "\n",
    "    # Compute accuracy and F1 per claim/all evidences tuples\n",
    "    claim_acc, claim_f1 = claims_scores(claims_results, gt_df)\n",
    "\n",
    "    # Compute F1 score once a validation epoch is done\n",
    "    epoch_f1 = f1_score(all_outputs, all_labels)\n",
    "    return epoch_loss, epoch_acc, epoch_f1, claim_acc, claim_f1"
   ]
  },
  {
   "cell_type": "code",
   "execution_count": 196,
   "metadata": {
    "execution": {
     "iopub.execute_input": "2020-12-12T18:06:32.242327Z",
     "iopub.status.busy": "2020-12-12T18:06:32.241871Z",
     "iopub.status.idle": "2020-12-12T18:06:32.311512Z",
     "shell.execute_reply": "2020-12-12T18:06:32.310019Z",
     "shell.execute_reply.started": "2020-12-12T18:06:32.242281Z"
    }
   },
   "outputs": [],
   "source": [
    "def train_eval(\n",
    "    model,\n",
    "    model_name,\n",
    "    train_dataloader,\n",
    "    val_dataloader,\n",
    "    train_embeddings,\n",
    "    val_embeddings,\n",
    "    gt_df,\n",
    "    epochs=10,\n",
    "):\n",
    "    \"\"\"\n",
    "    Perform training, validation and testing on the given model,\n",
    "    for the specified number of epochs and return a dictionary\n",
    "    containing learning metrics\n",
    "    \"\"\"\n",
    "    history = {\n",
    "        \"train_loss\": [],\n",
    "        \"train_acc\": [],\n",
    "        \"train_f1\": [],\n",
    "        \"train_claim_acc\": [],\n",
    "        \"train_claim_f1\": [],\n",
    "        \"val_loss\": [],\n",
    "        \"val_acc\": [],\n",
    "        \"val_f1\": [],\n",
    "        \"val_claim_acc\": [],\n",
    "        \"val_claim_f1\": [],\n",
    "    }\n",
    "    epoch_progress = tqdm(range(epochs), desc=\"Epoch\", leave=True)\n",
    "    best_val_loss = np.inf\n",
    "    for epoch in epoch_progress:\n",
    "        # Perform training\n",
    "        train_loss, train_acc, train_f1, train_claim_acc, train_claim_f1 = train(\n",
    "            model, train_dataloader, train_embeddings, gt_df[gt_df[\"split\"] == \"train\"]\n",
    "        )\n",
    "        history[\"train_loss\"].append(train_loss)\n",
    "        history[\"train_acc\"].append(train_acc)\n",
    "        history[\"train_f1\"].append(train_f1)\n",
    "        history[\"train_claim_acc\"].append(train_claim_acc)\n",
    "        history[\"train_claim_f1\"].append(train_claim_f1)\n",
    "\n",
    "        # Perform evaluation\n",
    "        val_loss, val_acc, val_f1, val_claim_acc, val_claim_f1 = evaluate(\n",
    "            model, val_dataloader, val_embeddings, gt_df[gt_df[\"split\"] == \"val\"]\n",
    "        )\n",
    "        history[\"val_loss\"].append(val_loss)\n",
    "        history[\"val_acc\"].append(val_acc)\n",
    "        history[\"val_f1\"].append(val_f1)\n",
    "        history[\"val_claim_acc\"].append(val_claim_acc)\n",
    "        history[\"val_claim_f1\"].append(val_claim_f1)\n",
    "\n",
    "        # Update progress bar\n",
    "        epoch_progress.set_postfix(\n",
    "            {\n",
    "                \"train_f1\": f\"{train_f1 * 100:.2f}\",\n",
    "                \"val_f1\": f\"{val_f1 * 100:.2f}\",\n",
    "                \"train_claim_f1\": f\"{train_claim_f1 * 100:.2f}\",\n",
    "                \"val_claim_f1\": f\"{val_claim_f1 * 100:.2f}\",\n",
    "            }\n",
    "        )\n",
    "\n",
    "        # Save the best model so far\n",
    "        if val_loss < best_val_loss:\n",
    "            torch.save(model.state_dict(), f\"models/fact_checking/{model_name}.pt\")\n",
    "\n",
    "    # Print final validation stats\n",
    "    print(\n",
    "        f\"Final validation results:\",\n",
    "        f\"Loss: {history['val_loss'][-1]:.3f} |\",\n",
    "        f\"Accuracy: {history['val_acc'][-1] * 100:.2f}% |\",\n",
    "        f\"F1: {history['val_f1'][-1] * 100:.2f}% |\",\n",
    "        f\"Claim accuracy: {history['val_claim_acc'][-1] * 100:.2f}% |\",\n",
    "        f\"Claim F1: {history['val_claim_f1'][-1] * 100:.2f}%\",\n",
    "    )\n",
    "\n",
    "    return history"
   ]
  },
  {
   "cell_type": "code",
   "execution_count": 197,
   "metadata": {
    "execution": {
     "iopub.execute_input": "2020-12-12T18:06:37.474433Z",
     "iopub.status.busy": "2020-12-12T18:06:37.474094Z",
     "iopub.status.idle": "2020-12-12T18:06:37.537531Z",
     "shell.execute_reply": "2020-12-12T18:06:37.536490Z",
     "shell.execute_reply.started": "2020-12-12T18:06:37.474391Z"
    }
   },
   "outputs": [],
   "source": [
    "def get_cmap(n, name=\"hsv\"):\n",
    "    \"\"\"\n",
    "    Returns a function that maps each index in {0, 1, ..., n - 1} to a distinct \n",
    "    RGB color (the keyword argument name must be a standard mpl colormap name)\n",
    "    \"\"\"\n",
    "    return plt.cm.get_cmap(name, n)\n",
    "\n",
    "\n",
    "def plot_history(history, nrows=2, ncols=3):\n",
    "    \"\"\"\n",
    "    Given an history dictionary (as built in the `train_eval` function),\n",
    "    plots the whole training information\n",
    "    \"\"\"\n",
    "    assert nrows * ncols == len(history)\n",
    "    fig, axes = plt.subplots(nrows, ncols)\n",
    "    axes = np.array(axes).reshape((nrows, ncols))\n",
    "    fig.text(0.5, 0, \"Epochs\", ha=\"center\", va=\"center\")\n",
    "    grid = np.arange(len(history)).reshape(nrows, ncols)\n",
    "    cmap = get_cmap(len(history))\n",
    "    for v, k in enumerate(history):\n",
    "        i, j = np.argwhere(grid == v).reshape(-1)\n",
    "        axes[i, j].plot(history[k], c=cmap(v))\n",
    "        axes[i, j].legend([k])\n",
    "    plt.tight_layout()\n",
    "    plt.show()"
   ]
  },
  {
   "cell_type": "markdown",
   "metadata": {},
   "source": [
    "The partial function below is used to fix some parameters of the `train_eval` function."
   ]
  },
  {
   "cell_type": "code",
   "execution_count": 199,
   "metadata": {
    "execution": {
     "iopub.execute_input": "2020-12-12T18:06:37.592458Z",
     "iopub.status.busy": "2020-12-12T18:06:37.592159Z",
     "iopub.status.idle": "2020-12-12T18:06:37.645805Z",
     "shell.execute_reply": "2020-12-12T18:06:37.644217Z",
     "shell.execute_reply.started": "2020-12-12T18:06:37.592421Z"
    }
   },
   "outputs": [],
   "source": [
    "actual_train_eval = partial(\n",
    "    train_eval,\n",
    "    train_dataloader=train_dataloader,\n",
    "    val_dataloader=val_dataloader,\n",
    "    train_embeddings=embedding_matrices[\"train\"],\n",
    "    val_embeddings=embedding_matrices[\"val\"],\n",
    "    gt_df=gt_df,\n",
    "    epochs=NUM_EPOCHS,\n",
    ")"
   ]
  },
  {
   "cell_type": "markdown",
   "metadata": {},
   "source": [
    "## Models"
   ]
  },
  {
   "cell_type": "markdown",
   "metadata": {},
   "source": [
    "### (1) Bag of vectors"
   ]
  },
  {
   "cell_type": "code",
   "execution_count": 191,
   "metadata": {
    "execution": {
     "iopub.execute_input": "2020-12-12T17:39:33.312043Z",
     "iopub.status.busy": "2020-12-12T17:39:33.311728Z",
     "iopub.status.idle": "2020-12-12T17:39:33.371743Z",
     "shell.execute_reply": "2020-12-12T17:39:33.370682Z",
     "shell.execute_reply.started": "2020-12-12T17:39:33.312002Z"
    }
   },
   "outputs": [
    {
     "name": "stdout",
     "output_type": "stream",
     "text": [
      "The model has 301 trainable parameters\n"
     ]
    }
   ],
   "source": [
    "bov_mean_model = FactCheckingModel(\n",
    "    EMBEDDING_DIMENSION,\n",
    "    MAX_TOKENS,\n",
    "    lr=LEARNING_RATE,\n",
    "    padding_index=vocabulary.from_string[PADDING_TOKEN],\n",
    "    sentence_strategy=\"bov\",\n",
    "    merging_strategy=\"mean\",\n",
    ")\n",
    "print(f\"The model has {bov_mean_model.count_parameters():,} trainable parameters\")"
   ]
  },
  {
   "cell_type": "code",
   "execution_count": 201,
   "metadata": {
    "execution": {
     "iopub.execute_input": "2020-12-12T18:07:06.461059Z",
     "iopub.status.busy": "2020-12-12T18:07:06.460597Z",
     "iopub.status.idle": "2020-12-12T18:07:07.874295Z",
     "shell.execute_reply": "2020-12-12T18:07:07.872511Z",
     "shell.execute_reply.started": "2020-12-12T18:07:06.461007Z"
    }
   },
   "outputs": [
    {
     "data": {
      "application/vnd.jupyter.widget-view+json": {
       "model_id": "befd9a99857245edaae175967b8527ab",
       "version_major": 2,
       "version_minor": 0
      },
      "text/plain": [
       "HBox(children=(HTML(value='Epoch'), FloatProgress(value=0.0, max=10.0), HTML(value='')))"
      ]
     },
     "metadata": {},
     "output_type": "display_data"
    },
    {
     "data": {
      "application/vnd.jupyter.widget-view+json": {
       "model_id": "2c65b340d743417bb5668832724a13f1",
       "version_major": 2,
       "version_minor": 0
      },
      "text/plain": [
       "HBox(children=(HTML(value='Training'), FloatProgress(value=1.0, bar_style='info', layout=Layout(width='20px'),…"
      ]
     },
     "metadata": {},
     "output_type": "display_data"
    },
    {
     "name": "stdout",
     "output_type": "stream",
     "text": [
      "\n",
      "\n"
     ]
    },
    {
     "ename": "KeyboardInterrupt",
     "evalue": "",
     "output_type": "error",
     "traceback": [
      "\u001b[0;31m---------------------------------------------------------------------------\u001b[0m",
      "\u001b[0;31mKeyboardInterrupt\u001b[0m                         Traceback (most recent call last)",
      "\u001b[0;32m<ipython-input-201-36a5948ef098>\u001b[0m in \u001b[0;36m<module>\u001b[0;34m\u001b[0m\n\u001b[0;32m----> 1\u001b[0;31m \u001b[0mbov_mean_model_history\u001b[0m \u001b[0;34m=\u001b[0m \u001b[0mactual_train_eval\u001b[0m\u001b[0;34m(\u001b[0m\u001b[0mbov_mean_model\u001b[0m\u001b[0;34m,\u001b[0m \u001b[0;34m\"bov_mean_model\"\u001b[0m\u001b[0;34m,\u001b[0m\u001b[0;34m)\u001b[0m\u001b[0;34m\u001b[0m\u001b[0;34m\u001b[0m\u001b[0m\n\u001b[0m",
      "\u001b[0;32m<ipython-input-196-00fc1dadf724>\u001b[0m in \u001b[0;36mtrain_eval\u001b[0;34m(model, model_name, train_dataloader, val_dataloader, train_embeddings, val_embeddings, gt_df, epochs)\u001b[0m\n\u001b[1;32m     30\u001b[0m     \u001b[0;32mfor\u001b[0m \u001b[0mepoch\u001b[0m \u001b[0;32min\u001b[0m \u001b[0mepoch_progress\u001b[0m\u001b[0;34m:\u001b[0m\u001b[0;34m\u001b[0m\u001b[0;34m\u001b[0m\u001b[0m\n\u001b[1;32m     31\u001b[0m         \u001b[0;31m# Perform training\u001b[0m\u001b[0;34m\u001b[0m\u001b[0;34m\u001b[0m\u001b[0;34m\u001b[0m\u001b[0m\n\u001b[0;32m---> 32\u001b[0;31m         train_loss, train_acc, train_f1, train_claim_acc, train_claim_f1 = train(\n\u001b[0m\u001b[1;32m     33\u001b[0m             \u001b[0mmodel\u001b[0m\u001b[0;34m,\u001b[0m \u001b[0mtrain_dataloader\u001b[0m\u001b[0;34m,\u001b[0m \u001b[0mtrain_embeddings\u001b[0m\u001b[0;34m,\u001b[0m \u001b[0mgt_df\u001b[0m\u001b[0;34m[\u001b[0m\u001b[0mgt_df\u001b[0m\u001b[0;34m[\u001b[0m\u001b[0;34m\"split\"\u001b[0m\u001b[0;34m]\u001b[0m \u001b[0;34m==\u001b[0m \u001b[0;34m\"train\"\u001b[0m\u001b[0;34m]\u001b[0m\u001b[0;34m\u001b[0m\u001b[0;34m\u001b[0m\u001b[0m\n\u001b[1;32m     34\u001b[0m         )\n",
      "\u001b[0;32m<ipython-input-194-6f14d3eea3cf>\u001b[0m in \u001b[0;36mtrain\u001b[0;34m(model, dataloader, embeddings, gt_df)\u001b[0m\n\u001b[1;32m     11\u001b[0m     \u001b[0mmodel\u001b[0m\u001b[0;34m.\u001b[0m\u001b[0minject_embeddings\u001b[0m\u001b[0;34m(\u001b[0m\u001b[0membeddings\u001b[0m\u001b[0;34m)\u001b[0m\u001b[0;34m\u001b[0m\u001b[0;34m\u001b[0m\u001b[0m\n\u001b[1;32m     12\u001b[0m     \u001b[0mdataloader_progress\u001b[0m \u001b[0;34m=\u001b[0m \u001b[0mtqdm\u001b[0m\u001b[0;34m(\u001b[0m\u001b[0menumerate\u001b[0m\u001b[0;34m(\u001b[0m\u001b[0mdataloader\u001b[0m\u001b[0;34m)\u001b[0m\u001b[0;34m,\u001b[0m \u001b[0mdesc\u001b[0m\u001b[0;34m=\u001b[0m\u001b[0;34m\"Training\"\u001b[0m\u001b[0;34m,\u001b[0m \u001b[0mleave\u001b[0m\u001b[0;34m=\u001b[0m\u001b[0;32mTrue\u001b[0m\u001b[0;34m)\u001b[0m\u001b[0;34m\u001b[0m\u001b[0;34m\u001b[0m\u001b[0m\n\u001b[0;32m---> 13\u001b[0;31m     \u001b[0;32mfor\u001b[0m \u001b[0mi\u001b[0m\u001b[0;34m,\u001b[0m \u001b[0mbatch\u001b[0m \u001b[0;32min\u001b[0m \u001b[0mdataloader_progress\u001b[0m\u001b[0;34m:\u001b[0m\u001b[0;34m\u001b[0m\u001b[0;34m\u001b[0m\u001b[0m\n\u001b[0m\u001b[1;32m     14\u001b[0m         \u001b[0mmodel\u001b[0m\u001b[0;34m.\u001b[0m\u001b[0moptimizer\u001b[0m\u001b[0;34m.\u001b[0m\u001b[0mzero_grad\u001b[0m\u001b[0;34m(\u001b[0m\u001b[0;34m)\u001b[0m\u001b[0;34m\u001b[0m\u001b[0;34m\u001b[0m\u001b[0m\n\u001b[1;32m     15\u001b[0m         \u001b[0mclaims_ids\u001b[0m\u001b[0;34m,\u001b[0m \u001b[0mclaims\u001b[0m\u001b[0;34m,\u001b[0m \u001b[0mevidences\u001b[0m\u001b[0;34m,\u001b[0m \u001b[0mlabels\u001b[0m\u001b[0;34m,\u001b[0m \u001b[0mclaims_lenghts\u001b[0m\u001b[0;34m,\u001b[0m \u001b[0mevidences_lenghts\u001b[0m \u001b[0;34m=\u001b[0m \u001b[0mbatch\u001b[0m\u001b[0;34m\u001b[0m\u001b[0;34m\u001b[0m\u001b[0m\n",
      "\u001b[0;32m~/anaconda3/lib/python3.8/site-packages/tqdm/notebook.py\u001b[0m in \u001b[0;36m__iter__\u001b[0;34m(self, *args, **kwargs)\u001b[0m\n\u001b[1;32m    232\u001b[0m     \u001b[0;32mdef\u001b[0m \u001b[0m__iter__\u001b[0m\u001b[0;34m(\u001b[0m\u001b[0mself\u001b[0m\u001b[0;34m,\u001b[0m \u001b[0;34m*\u001b[0m\u001b[0margs\u001b[0m\u001b[0;34m,\u001b[0m \u001b[0;34m**\u001b[0m\u001b[0mkwargs\u001b[0m\u001b[0;34m)\u001b[0m\u001b[0;34m:\u001b[0m\u001b[0;34m\u001b[0m\u001b[0;34m\u001b[0m\u001b[0m\n\u001b[1;32m    233\u001b[0m         \u001b[0;32mtry\u001b[0m\u001b[0;34m:\u001b[0m\u001b[0;34m\u001b[0m\u001b[0;34m\u001b[0m\u001b[0m\n\u001b[0;32m--> 234\u001b[0;31m             \u001b[0;32mfor\u001b[0m \u001b[0mobj\u001b[0m \u001b[0;32min\u001b[0m \u001b[0msuper\u001b[0m\u001b[0;34m(\u001b[0m\u001b[0mtqdm_notebook\u001b[0m\u001b[0;34m,\u001b[0m \u001b[0mself\u001b[0m\u001b[0;34m)\u001b[0m\u001b[0;34m.\u001b[0m\u001b[0m__iter__\u001b[0m\u001b[0;34m(\u001b[0m\u001b[0;34m*\u001b[0m\u001b[0margs\u001b[0m\u001b[0;34m,\u001b[0m \u001b[0;34m**\u001b[0m\u001b[0mkwargs\u001b[0m\u001b[0;34m)\u001b[0m\u001b[0;34m:\u001b[0m\u001b[0;34m\u001b[0m\u001b[0;34m\u001b[0m\u001b[0m\n\u001b[0m\u001b[1;32m    235\u001b[0m                 \u001b[0;31m# return super(tqdm...) will not catch exception\u001b[0m\u001b[0;34m\u001b[0m\u001b[0;34m\u001b[0m\u001b[0;34m\u001b[0m\u001b[0m\n\u001b[1;32m    236\u001b[0m                 \u001b[0;32myield\u001b[0m \u001b[0mobj\u001b[0m\u001b[0;34m\u001b[0m\u001b[0;34m\u001b[0m\u001b[0m\n",
      "\u001b[0;32m~/anaconda3/lib/python3.8/site-packages/tqdm/std.py\u001b[0m in \u001b[0;36m__iter__\u001b[0;34m(self)\u001b[0m\n\u001b[1;32m   1163\u001b[0m \u001b[0;34m\u001b[0m\u001b[0m\n\u001b[1;32m   1164\u001b[0m         \u001b[0;32mtry\u001b[0m\u001b[0;34m:\u001b[0m\u001b[0;34m\u001b[0m\u001b[0;34m\u001b[0m\u001b[0m\n\u001b[0;32m-> 1165\u001b[0;31m             \u001b[0;32mfor\u001b[0m \u001b[0mobj\u001b[0m \u001b[0;32min\u001b[0m \u001b[0miterable\u001b[0m\u001b[0;34m:\u001b[0m\u001b[0;34m\u001b[0m\u001b[0;34m\u001b[0m\u001b[0m\n\u001b[0m\u001b[1;32m   1166\u001b[0m                 \u001b[0;32myield\u001b[0m \u001b[0mobj\u001b[0m\u001b[0;34m\u001b[0m\u001b[0;34m\u001b[0m\u001b[0m\n\u001b[1;32m   1167\u001b[0m                 \u001b[0;31m# Update and possibly print the progressbar.\u001b[0m\u001b[0;34m\u001b[0m\u001b[0;34m\u001b[0m\u001b[0;34m\u001b[0m\u001b[0m\n",
      "\u001b[0;32m~/anaconda3/lib/python3.8/site-packages/torch/utils/data/dataloader.py\u001b[0m in \u001b[0;36m__next__\u001b[0;34m(self)\u001b[0m\n\u001b[1;32m    433\u001b[0m         \u001b[0;32mif\u001b[0m \u001b[0mself\u001b[0m\u001b[0;34m.\u001b[0m\u001b[0m_sampler_iter\u001b[0m \u001b[0;32mis\u001b[0m \u001b[0;32mNone\u001b[0m\u001b[0;34m:\u001b[0m\u001b[0;34m\u001b[0m\u001b[0;34m\u001b[0m\u001b[0m\n\u001b[1;32m    434\u001b[0m             \u001b[0mself\u001b[0m\u001b[0;34m.\u001b[0m\u001b[0m_reset\u001b[0m\u001b[0;34m(\u001b[0m\u001b[0;34m)\u001b[0m\u001b[0;34m\u001b[0m\u001b[0;34m\u001b[0m\u001b[0m\n\u001b[0;32m--> 435\u001b[0;31m         \u001b[0mdata\u001b[0m \u001b[0;34m=\u001b[0m \u001b[0mself\u001b[0m\u001b[0;34m.\u001b[0m\u001b[0m_next_data\u001b[0m\u001b[0;34m(\u001b[0m\u001b[0;34m)\u001b[0m\u001b[0;34m\u001b[0m\u001b[0;34m\u001b[0m\u001b[0m\n\u001b[0m\u001b[1;32m    436\u001b[0m         \u001b[0mself\u001b[0m\u001b[0;34m.\u001b[0m\u001b[0m_num_yielded\u001b[0m \u001b[0;34m+=\u001b[0m \u001b[0;36m1\u001b[0m\u001b[0;34m\u001b[0m\u001b[0;34m\u001b[0m\u001b[0m\n\u001b[1;32m    437\u001b[0m         \u001b[0;32mif\u001b[0m \u001b[0mself\u001b[0m\u001b[0;34m.\u001b[0m\u001b[0m_dataset_kind\u001b[0m \u001b[0;34m==\u001b[0m \u001b[0m_DatasetKind\u001b[0m\u001b[0;34m.\u001b[0m\u001b[0mIterable\u001b[0m \u001b[0;32mand\u001b[0m\u001b[0;31m \u001b[0m\u001b[0;31m\\\u001b[0m\u001b[0;34m\u001b[0m\u001b[0;34m\u001b[0m\u001b[0m\n",
      "\u001b[0;32m~/anaconda3/lib/python3.8/site-packages/torch/utils/data/dataloader.py\u001b[0m in \u001b[0;36m_next_data\u001b[0;34m(self)\u001b[0m\n\u001b[1;32m    473\u001b[0m     \u001b[0;32mdef\u001b[0m \u001b[0m_next_data\u001b[0m\u001b[0;34m(\u001b[0m\u001b[0mself\u001b[0m\u001b[0;34m)\u001b[0m\u001b[0;34m:\u001b[0m\u001b[0;34m\u001b[0m\u001b[0;34m\u001b[0m\u001b[0m\n\u001b[1;32m    474\u001b[0m         \u001b[0mindex\u001b[0m \u001b[0;34m=\u001b[0m \u001b[0mself\u001b[0m\u001b[0;34m.\u001b[0m\u001b[0m_next_index\u001b[0m\u001b[0;34m(\u001b[0m\u001b[0;34m)\u001b[0m  \u001b[0;31m# may raise StopIteration\u001b[0m\u001b[0;34m\u001b[0m\u001b[0;34m\u001b[0m\u001b[0m\n\u001b[0;32m--> 475\u001b[0;31m         \u001b[0mdata\u001b[0m \u001b[0;34m=\u001b[0m \u001b[0mself\u001b[0m\u001b[0;34m.\u001b[0m\u001b[0m_dataset_fetcher\u001b[0m\u001b[0;34m.\u001b[0m\u001b[0mfetch\u001b[0m\u001b[0;34m(\u001b[0m\u001b[0mindex\u001b[0m\u001b[0;34m)\u001b[0m  \u001b[0;31m# may raise StopIteration\u001b[0m\u001b[0;34m\u001b[0m\u001b[0;34m\u001b[0m\u001b[0m\n\u001b[0m\u001b[1;32m    476\u001b[0m         \u001b[0;32mif\u001b[0m \u001b[0mself\u001b[0m\u001b[0;34m.\u001b[0m\u001b[0m_pin_memory\u001b[0m\u001b[0;34m:\u001b[0m\u001b[0;34m\u001b[0m\u001b[0;34m\u001b[0m\u001b[0m\n\u001b[1;32m    477\u001b[0m             \u001b[0mdata\u001b[0m \u001b[0;34m=\u001b[0m \u001b[0m_utils\u001b[0m\u001b[0;34m.\u001b[0m\u001b[0mpin_memory\u001b[0m\u001b[0;34m.\u001b[0m\u001b[0mpin_memory\u001b[0m\u001b[0;34m(\u001b[0m\u001b[0mdata\u001b[0m\u001b[0;34m)\u001b[0m\u001b[0;34m\u001b[0m\u001b[0;34m\u001b[0m\u001b[0m\n",
      "\u001b[0;32m~/anaconda3/lib/python3.8/site-packages/torch/utils/data/_utils/fetch.py\u001b[0m in \u001b[0;36mfetch\u001b[0;34m(self, possibly_batched_index)\u001b[0m\n\u001b[1;32m     45\u001b[0m         \u001b[0;32melse\u001b[0m\u001b[0;34m:\u001b[0m\u001b[0;34m\u001b[0m\u001b[0;34m\u001b[0m\u001b[0m\n\u001b[1;32m     46\u001b[0m             \u001b[0mdata\u001b[0m \u001b[0;34m=\u001b[0m \u001b[0mself\u001b[0m\u001b[0;34m.\u001b[0m\u001b[0mdataset\u001b[0m\u001b[0;34m[\u001b[0m\u001b[0mpossibly_batched_index\u001b[0m\u001b[0;34m]\u001b[0m\u001b[0;34m\u001b[0m\u001b[0;34m\u001b[0m\u001b[0m\n\u001b[0;32m---> 47\u001b[0;31m         \u001b[0;32mreturn\u001b[0m \u001b[0mself\u001b[0m\u001b[0;34m.\u001b[0m\u001b[0mcollate_fn\u001b[0m\u001b[0;34m(\u001b[0m\u001b[0mdata\u001b[0m\u001b[0;34m)\u001b[0m\u001b[0;34m\u001b[0m\u001b[0;34m\u001b[0m\u001b[0m\n\u001b[0m",
      "\u001b[0;32m<ipython-input-88-3de70329af82>\u001b[0m in \u001b[0;36mpad_batch\u001b[0;34m(batch, padding_index, max_tokens)\u001b[0m\n\u001b[1;32m      9\u001b[0m     \u001b[0mevidences_lenghts\u001b[0m \u001b[0;34m=\u001b[0m \u001b[0mtorch\u001b[0m\u001b[0;34m.\u001b[0m\u001b[0mtensor\u001b[0m\u001b[0;34m(\u001b[0m\u001b[0;34m[\u001b[0m\u001b[0mlen\u001b[0m\u001b[0;34m(\u001b[0m\u001b[0my\u001b[0m\u001b[0;34m)\u001b[0m \u001b[0;32mfor\u001b[0m \u001b[0my\u001b[0m \u001b[0;32min\u001b[0m \u001b[0mevidences\u001b[0m\u001b[0;34m]\u001b[0m\u001b[0;34m,\u001b[0m \u001b[0mdtype\u001b[0m\u001b[0;34m=\u001b[0m\u001b[0mtorch\u001b[0m\u001b[0;34m.\u001b[0m\u001b[0mlong\u001b[0m\u001b[0;34m)\u001b[0m\u001b[0;34m\u001b[0m\u001b[0;34m\u001b[0m\u001b[0m\n\u001b[1;32m     10\u001b[0m     \u001b[0mmax_shape\u001b[0m \u001b[0;34m=\u001b[0m \u001b[0;34m(\u001b[0m\u001b[0mlen\u001b[0m\u001b[0;34m(\u001b[0m\u001b[0mbatch\u001b[0m\u001b[0;34m)\u001b[0m\u001b[0;34m,\u001b[0m \u001b[0mmax_tokens\u001b[0m\u001b[0;34m)\u001b[0m\u001b[0;34m\u001b[0m\u001b[0;34m\u001b[0m\u001b[0m\n\u001b[0;32m---> 11\u001b[0;31m     \u001b[0mpadded_claims\u001b[0m \u001b[0;34m=\u001b[0m \u001b[0mstatic_padding\u001b[0m\u001b[0;34m(\u001b[0m\u001b[0mclaims\u001b[0m\u001b[0;34m,\u001b[0m \u001b[0mmax_shape\u001b[0m\u001b[0;34m,\u001b[0m \u001b[0mpadding_index\u001b[0m\u001b[0;34m)\u001b[0m\u001b[0;34m\u001b[0m\u001b[0;34m\u001b[0m\u001b[0m\n\u001b[0m\u001b[1;32m     12\u001b[0m     \u001b[0mpadded_evidences\u001b[0m \u001b[0;34m=\u001b[0m \u001b[0mstatic_padding\u001b[0m\u001b[0;34m(\u001b[0m\u001b[0mevidences\u001b[0m\u001b[0;34m,\u001b[0m \u001b[0mmax_shape\u001b[0m\u001b[0;34m,\u001b[0m \u001b[0mpadding_index\u001b[0m\u001b[0;34m)\u001b[0m\u001b[0;34m\u001b[0m\u001b[0;34m\u001b[0m\u001b[0m\n\u001b[1;32m     13\u001b[0m     \u001b[0mlabels_tensor\u001b[0m \u001b[0;34m=\u001b[0m \u001b[0mtorch\u001b[0m\u001b[0;34m.\u001b[0m\u001b[0mtensor\u001b[0m\u001b[0;34m(\u001b[0m\u001b[0mlabels\u001b[0m\u001b[0;34m,\u001b[0m \u001b[0mdtype\u001b[0m\u001b[0;34m=\u001b[0m\u001b[0mtorch\u001b[0m\u001b[0;34m.\u001b[0m\u001b[0mfloat\u001b[0m\u001b[0;34m)\u001b[0m\u001b[0;34m.\u001b[0m\u001b[0mreshape\u001b[0m\u001b[0;34m(\u001b[0m\u001b[0mlen\u001b[0m\u001b[0;34m(\u001b[0m\u001b[0mbatch\u001b[0m\u001b[0;34m)\u001b[0m\u001b[0;34m,\u001b[0m \u001b[0;36m1\u001b[0m\u001b[0;34m)\u001b[0m\u001b[0;34m\u001b[0m\u001b[0;34m\u001b[0m\u001b[0m\n",
      "\u001b[0;32m<ipython-input-62-7c9c3f10e3c0>\u001b[0m in \u001b[0;36mstatic_padding\u001b[0;34m(sequences, shape, padding_index)\u001b[0m\n\u001b[1;32m      6\u001b[0m     \u001b[0mout_tensor\u001b[0m \u001b[0;34m=\u001b[0m \u001b[0mtorch\u001b[0m\u001b[0;34m.\u001b[0m\u001b[0mempty\u001b[0m\u001b[0;34m(\u001b[0m\u001b[0;34m*\u001b[0m\u001b[0mshape\u001b[0m\u001b[0;34m,\u001b[0m \u001b[0mdtype\u001b[0m\u001b[0;34m=\u001b[0m\u001b[0mtorch\u001b[0m\u001b[0;34m.\u001b[0m\u001b[0mlong\u001b[0m\u001b[0;34m)\u001b[0m\u001b[0;34m.\u001b[0m\u001b[0mfill_\u001b[0m\u001b[0;34m(\u001b[0m\u001b[0mpadding_index\u001b[0m\u001b[0;34m)\u001b[0m\u001b[0;34m\u001b[0m\u001b[0;34m\u001b[0m\u001b[0m\n\u001b[1;32m      7\u001b[0m     \u001b[0;32mfor\u001b[0m \u001b[0mi\u001b[0m\u001b[0;34m,\u001b[0m \u001b[0melem\u001b[0m \u001b[0;32min\u001b[0m \u001b[0menumerate\u001b[0m\u001b[0;34m(\u001b[0m\u001b[0msequences\u001b[0m\u001b[0;34m)\u001b[0m\u001b[0;34m:\u001b[0m\u001b[0;34m\u001b[0m\u001b[0;34m\u001b[0m\u001b[0m\n\u001b[0;32m----> 8\u001b[0;31m         \u001b[0mtensor\u001b[0m \u001b[0;34m=\u001b[0m \u001b[0mtorch\u001b[0m\u001b[0;34m.\u001b[0m\u001b[0mtensor\u001b[0m\u001b[0;34m(\u001b[0m\u001b[0melem\u001b[0m\u001b[0;34m)\u001b[0m\u001b[0;34m\u001b[0m\u001b[0;34m\u001b[0m\u001b[0m\n\u001b[0m\u001b[1;32m      9\u001b[0m         \u001b[0mlenght\u001b[0m \u001b[0;34m=\u001b[0m \u001b[0mtensor\u001b[0m\u001b[0;34m.\u001b[0m\u001b[0msize\u001b[0m\u001b[0;34m(\u001b[0m\u001b[0;36m0\u001b[0m\u001b[0;34m)\u001b[0m\u001b[0;34m\u001b[0m\u001b[0;34m\u001b[0m\u001b[0m\n\u001b[1;32m     10\u001b[0m         \u001b[0mout_tensor\u001b[0m\u001b[0;34m[\u001b[0m\u001b[0mi\u001b[0m\u001b[0;34m,\u001b[0m \u001b[0;34m:\u001b[0m\u001b[0mlenght\u001b[0m\u001b[0;34m,\u001b[0m \u001b[0;34m...\u001b[0m\u001b[0;34m]\u001b[0m \u001b[0;34m=\u001b[0m \u001b[0mtensor\u001b[0m\u001b[0;34m\u001b[0m\u001b[0;34m\u001b[0m\u001b[0m\n",
      "\u001b[0;31mKeyboardInterrupt\u001b[0m: "
     ]
    }
   ],
   "source": [
    "bov_mean_model_history = actual_train_eval(bov_mean_model, \"bov_mean_model\",)"
   ]
  },
  {
   "cell_type": "code",
   "execution_count": 174,
   "metadata": {
    "execution": {
     "iopub.execute_input": "2020-12-12T17:28:04.619839Z",
     "iopub.status.busy": "2020-12-12T17:28:04.619384Z",
     "iopub.status.idle": "2020-12-12T17:28:07.416914Z",
     "shell.execute_reply": "2020-12-12T17:28:07.415499Z",
     "shell.execute_reply.started": "2020-12-12T17:28:04.619798Z"
    }
   },
   "outputs": [
    {
     "data": {
      "image/png": "[encoded data removed]",
      "text/plain": [
       "<Figure size 800x600 with 10 Axes>"
      ]
     },
     "metadata": {},
     "output_type": "display_data"
    }
   ],
   "source": [
    "plot_history(bov_mean_model_history, nrows=5, ncols=2)"
   ]
  },
  {
   "cell_type": "code",
   "execution_count": 124,
   "metadata": {
    "execution": {
     "iopub.execute_input": "2020-12-12T16:24:53.271482Z",
     "iopub.status.busy": "2020-12-12T16:24:53.271164Z",
     "iopub.status.idle": "2020-12-12T16:25:29.981055Z",
     "shell.execute_reply": "2020-12-12T16:25:29.979700Z",
     "shell.execute_reply.started": "2020-12-12T16:24:53.271441Z"
    }
   },
   "outputs": [
    {
     "data": {
      "application/vnd.jupyter.widget-view+json": {
       "model_id": "c064102f55504e15ba37e4581867747f",
       "version_major": 2,
       "version_minor": 0
      },
      "text/plain": [
       "HBox(children=(HTML(value='Testing'), FloatProgress(value=1.0, bar_style='info', layout=Layout(width='20px'), …"
      ]
     },
     "metadata": {},
     "output_type": "display_data"
    },
    {
     "name": "stdout",
     "output_type": "stream",
     "text": [
      "\n"
     ]
    },
    {
     "data": {
      "text/plain": [
       "(0.7041515419078452, 0.4131977260188539)"
      ]
     },
     "execution_count": 124,
     "metadata": {},
     "output_type": "execute_result"
    }
   ],
   "source": [
    "test(\n",
    "    bov_mean_model,\n",
    "    test_dataloader,\n",
    "    embedding_matrices[\"test\"],\n",
    "    gt_df[gt_df[\"split\"] == \"test\"],\n",
    ")"
   ]
  },
  {
   "cell_type": "markdown",
   "metadata": {},
   "source": [
    "### (2) MLP"
   ]
  },
  {
   "cell_type": "code",
   "execution_count": 208,
   "metadata": {
    "execution": {
     "iopub.execute_input": "2020-12-13T21:28:46.189593Z",
     "iopub.status.busy": "2020-12-13T21:28:46.189145Z",
     "iopub.status.idle": "2020-12-13T21:28:46.606020Z",
     "shell.execute_reply": "2020-12-13T21:28:46.604698Z",
     "shell.execute_reply.started": "2020-12-13T21:28:46.189548Z"
    }
   },
   "outputs": [
    {
     "name": "stdout",
     "output_type": "stream",
     "text": [
      "The model has 22,500,601 trainable parameters\n"
     ]
    }
   ],
   "source": [
    "mlp_mean_model = FactCheckingModel(\n",
    "    EMBEDDING_DIMENSION,\n",
    "    MAX_TOKENS,\n",
    "    lr=LEARNING_RATE,\n",
    "    padding_index=vocabulary.from_string[PADDING_TOKEN],\n",
    "    sentence_strategy=\"mlp\",\n",
    "    merging_strategy=\"mean\",\n",
    ")\n",
    "print(f\"The model has {mlp_mean_model.count_parameters():,} trainable parameters\")"
   ]
  },
  {
   "cell_type": "code",
   "execution_count": 209,
   "metadata": {
    "execution": {
     "iopub.execute_input": "2020-12-13T21:28:51.901089Z",
     "iopub.status.busy": "2020-12-13T21:28:51.900769Z",
     "iopub.status.idle": "2020-12-15T04:37:49.074465Z",
     "shell.execute_reply": "2020-12-15T04:37:49.072959Z",
     "shell.execute_reply.started": "2020-12-13T21:28:51.901048Z"
    }
   },
   "outputs": [
    {
     "data": {
      "application/vnd.jupyter.widget-view+json": {
       "model_id": "3a53ec702a1a4c1c9126a9efdb26b4ff",
       "version_major": 2,
       "version_minor": 0
      },
      "text/plain": [
       "HBox(children=(HTML(value='Epoch'), FloatProgress(value=0.0, max=10.0), HTML(value='')))"
      ]
     },
     "metadata": {},
     "output_type": "display_data"
    },
    {
     "data": {
      "application/vnd.jupyter.widget-view+json": {
       "model_id": "e7a73227ce3f494fa06dbac714c1155b",
       "version_major": 2,
       "version_minor": 0
      },
      "text/plain": [
       "HBox(children=(HTML(value='Training'), FloatProgress(value=1.0, bar_style='info', layout=Layout(width='20px'),…"
      ]
     },
     "metadata": {},
     "output_type": "display_data"
    },
    {
     "name": "stdout",
     "output_type": "stream",
     "text": [
      "\n"
     ]
    },
    {
     "data": {
      "application/vnd.jupyter.widget-view+json": {
       "model_id": "399667f3a2ea44aa82952b3235d3252e",
       "version_major": 2,
       "version_minor": 0
      },
      "text/plain": [
       "HBox(children=(HTML(value='Evaluating'), FloatProgress(value=1.0, bar_style='info', layout=Layout(width='20px'…"
      ]
     },
     "metadata": {},
     "output_type": "display_data"
    },
    {
     "name": "stdout",
     "output_type": "stream",
     "text": [
      "\n"
     ]
    },
    {
     "data": {
      "application/vnd.jupyter.widget-view+json": {
       "model_id": "8d2b731e98a34e55828cfbbd7126d048",
       "version_major": 2,
       "version_minor": 0
      },
      "text/plain": [
       "HBox(children=(HTML(value='Training'), FloatProgress(value=1.0, bar_style='info', layout=Layout(width='20px'),…"
      ]
     },
     "metadata": {},
     "output_type": "display_data"
    },
    {
     "name": "stdout",
     "output_type": "stream",
     "text": [
      "\n"
     ]
    },
    {
     "data": {
      "application/vnd.jupyter.widget-view+json": {
       "model_id": "c21b1e8ad6ed4702ae9ec6cd83b407ba",
       "version_major": 2,
       "version_minor": 0
      },
      "text/plain": [
       "HBox(children=(HTML(value='Evaluating'), FloatProgress(value=1.0, bar_style='info', layout=Layout(width='20px'…"
      ]
     },
     "metadata": {},
     "output_type": "display_data"
    },
    {
     "name": "stdout",
     "output_type": "stream",
     "text": [
      "\n"
     ]
    },
    {
     "data": {
      "application/vnd.jupyter.widget-view+json": {
       "model_id": "98d1117e5f874360b15930ddff61b6e9",
       "version_major": 2,
       "version_minor": 0
      },
      "text/plain": [
       "HBox(children=(HTML(value='Training'), FloatProgress(value=1.0, bar_style='info', layout=Layout(width='20px'),…"
      ]
     },
     "metadata": {},
     "output_type": "display_data"
    },
    {
     "name": "stdout",
     "output_type": "stream",
     "text": [
      "\n"
     ]
    },
    {
     "data": {
      "application/vnd.jupyter.widget-view+json": {
       "model_id": "72c8b9564ee54d6e817c06471e426782",
       "version_major": 2,
       "version_minor": 0
      },
      "text/plain": [
       "HBox(children=(HTML(value='Evaluating'), FloatProgress(value=1.0, bar_style='info', layout=Layout(width='20px'…"
      ]
     },
     "metadata": {},
     "output_type": "display_data"
    },
    {
     "name": "stdout",
     "output_type": "stream",
     "text": [
      "\n"
     ]
    },
    {
     "data": {
      "application/vnd.jupyter.widget-view+json": {
       "model_id": "5800dd8202ba487dbf350daa1ba9fffe",
       "version_major": 2,
       "version_minor": 0
      },
      "text/plain": [
       "HBox(children=(HTML(value='Training'), FloatProgress(value=1.0, bar_style='info', layout=Layout(width='20px'),…"
      ]
     },
     "metadata": {},
     "output_type": "display_data"
    },
    {
     "name": "stdout",
     "output_type": "stream",
     "text": [
      "\n"
     ]
    },
    {
     "data": {
      "application/vnd.jupyter.widget-view+json": {
       "model_id": "a39dc6f681584258a3a65e468320ddd5",
       "version_major": 2,
       "version_minor": 0
      },
      "text/plain": [
       "HBox(children=(HTML(value='Evaluating'), FloatProgress(value=1.0, bar_style='info', layout=Layout(width='20px'…"
      ]
     },
     "metadata": {},
     "output_type": "display_data"
    },
    {
     "name": "stdout",
     "output_type": "stream",
     "text": [
      "\n"
     ]
    },
    {
     "data": {
      "application/vnd.jupyter.widget-view+json": {
       "model_id": "87a4e6156b124ecf85f5d0f1be0797d6",
       "version_major": 2,
       "version_minor": 0
      },
      "text/plain": [
       "HBox(children=(HTML(value='Training'), FloatProgress(value=1.0, bar_style='info', layout=Layout(width='20px'),…"
      ]
     },
     "metadata": {},
     "output_type": "display_data"
    },
    {
     "name": "stdout",
     "output_type": "stream",
     "text": [
      "\n"
     ]
    },
    {
     "data": {
      "application/vnd.jupyter.widget-view+json": {
       "model_id": "9dd778192acf4359be117b82eb074b74",
       "version_major": 2,
       "version_minor": 0
      },
      "text/plain": [
       "HBox(children=(HTML(value='Evaluating'), FloatProgress(value=1.0, bar_style='info', layout=Layout(width='20px'…"
      ]
     },
     "metadata": {},
     "output_type": "display_data"
    },
    {
     "name": "stdout",
     "output_type": "stream",
     "text": [
      "\n"
     ]
    },
    {
     "data": {
      "application/vnd.jupyter.widget-view+json": {
       "model_id": "e2a60b4367da418fb1e1ce05ebe10fa8",
       "version_major": 2,
       "version_minor": 0
      },
      "text/plain": [
       "HBox(children=(HTML(value='Training'), FloatProgress(value=1.0, bar_style='info', layout=Layout(width='20px'),…"
      ]
     },
     "metadata": {},
     "output_type": "display_data"
    },
    {
     "name": "stdout",
     "output_type": "stream",
     "text": [
      "\n"
     ]
    },
    {
     "data": {
      "application/vnd.jupyter.widget-view+json": {
       "model_id": "51f4037c7346452c85eb526da2072184",
       "version_major": 2,
       "version_minor": 0
      },
      "text/plain": [
       "HBox(children=(HTML(value='Evaluating'), FloatProgress(value=1.0, bar_style='info', layout=Layout(width='20px'…"
      ]
     },
     "metadata": {},
     "output_type": "display_data"
    },
    {
     "name": "stdout",
     "output_type": "stream",
     "text": [
      "\n"
     ]
    },
    {
     "data": {
      "application/vnd.jupyter.widget-view+json": {
       "model_id": "e689092a0e354610a553a0c4e940c449",
       "version_major": 2,
       "version_minor": 0
      },
      "text/plain": [
       "HBox(children=(HTML(value='Training'), FloatProgress(value=1.0, bar_style='info', layout=Layout(width='20px'),…"
      ]
     },
     "metadata": {},
     "output_type": "display_data"
    },
    {
     "name": "stdout",
     "output_type": "stream",
     "text": [
      "\n"
     ]
    },
    {
     "data": {
      "application/vnd.jupyter.widget-view+json": {
       "model_id": "04519fc5946144a99fb3ed4074c4799a",
       "version_major": 2,
       "version_minor": 0
      },
      "text/plain": [
       "HBox(children=(HTML(value='Evaluating'), FloatProgress(value=1.0, bar_style='info', layout=Layout(width='20px'…"
      ]
     },
     "metadata": {},
     "output_type": "display_data"
    },
    {
     "name": "stdout",
     "output_type": "stream",
     "text": [
      "\n"
     ]
    },
    {
     "data": {
      "application/vnd.jupyter.widget-view+json": {
       "model_id": "67325522ebb44b22958fc4cd7f4e1612",
       "version_major": 2,
       "version_minor": 0
      },
      "text/plain": [
       "HBox(children=(HTML(value='Training'), FloatProgress(value=1.0, bar_style='info', layout=Layout(width='20px'),…"
      ]
     },
     "metadata": {},
     "output_type": "display_data"
    },
    {
     "name": "stdout",
     "output_type": "stream",
     "text": [
      "\n"
     ]
    },
    {
     "data": {
      "application/vnd.jupyter.widget-view+json": {
       "model_id": "0ab32b85dfce4503b3150f7916a6b603",
       "version_major": 2,
       "version_minor": 0
      },
      "text/plain": [
       "HBox(children=(HTML(value='Evaluating'), FloatProgress(value=1.0, bar_style='info', layout=Layout(width='20px'…"
      ]
     },
     "metadata": {},
     "output_type": "display_data"
    },
    {
     "name": "stdout",
     "output_type": "stream",
     "text": [
      "\n"
     ]
    },
    {
     "data": {
      "application/vnd.jupyter.widget-view+json": {
       "model_id": "483b1fbaa7ca479db9144bd57d49d392",
       "version_major": 2,
       "version_minor": 0
      },
      "text/plain": [
       "HBox(children=(HTML(value='Training'), FloatProgress(value=1.0, bar_style='info', layout=Layout(width='20px'),…"
      ]
     },
     "metadata": {},
     "output_type": "display_data"
    },
    {
     "name": "stdout",
     "output_type": "stream",
     "text": [
      "\n"
     ]
    },
    {
     "data": {
      "application/vnd.jupyter.widget-view+json": {
       "model_id": "89bf87ccca044859a164ff67dad80798",
       "version_major": 2,
       "version_minor": 0
      },
      "text/plain": [
       "HBox(children=(HTML(value='Evaluating'), FloatProgress(value=1.0, bar_style='info', layout=Layout(width='20px'…"
      ]
     },
     "metadata": {},
     "output_type": "display_data"
    },
    {
     "name": "stdout",
     "output_type": "stream",
     "text": [
      "\n"
     ]
    },
    {
     "data": {
      "application/vnd.jupyter.widget-view+json": {
       "model_id": "acc348bb4f9642ccb5defba5132a2a7d",
       "version_major": 2,
       "version_minor": 0
      },
      "text/plain": [
       "HBox(children=(HTML(value='Training'), FloatProgress(value=1.0, bar_style='info', layout=Layout(width='20px'),…"
      ]
     },
     "metadata": {},
     "output_type": "display_data"
    },
    {
     "name": "stdout",
     "output_type": "stream",
     "text": [
      "\n"
     ]
    },
    {
     "data": {
      "application/vnd.jupyter.widget-view+json": {
       "model_id": "b29bdd400ee94f22a141128173071b4d",
       "version_major": 2,
       "version_minor": 0
      },
      "text/plain": [
       "HBox(children=(HTML(value='Evaluating'), FloatProgress(value=1.0, bar_style='info', layout=Layout(width='20px'…"
      ]
     },
     "metadata": {},
     "output_type": "display_data"
    },
    {
     "name": "stdout",
     "output_type": "stream",
     "text": [
      "\n",
      "\n",
      "Final validation results: Loss: 27.234 | Accuracy: 60.65% | F1: 49.99% | Claim accuracy: 54.90% | Claim F1: 50.18%\n"
     ]
    }
   ],
   "source": [
    "mlp_mean_model_history = actual_train_eval(mlp_mean_model, \"mlp_mean_model\",)"
   ]
  },
  {
   "cell_type": "code",
   "execution_count": 211,
   "metadata": {
    "execution": {
     "iopub.execute_input": "2020-12-15T08:16:52.768742Z",
     "iopub.status.busy": "2020-12-15T08:16:52.768194Z",
     "iopub.status.idle": "2020-12-15T08:16:55.136568Z",
     "shell.execute_reply": "2020-12-15T08:16:55.135294Z",
     "shell.execute_reply.started": "2020-12-15T08:16:52.768697Z"
    }
   },
   "outputs": [
    {
     "data": {
      "image/png": "[encoded data removed]",
      "text/plain": [
       "<Figure size 800x600 with 10 Axes>"
      ]
     },
     "metadata": {},
     "output_type": "display_data"
    }
   ],
   "source": [
    "plot_history(mlp_mean_model_history, nrows=5, ncols=2)"
   ]
  },
  {
   "cell_type": "markdown",
   "metadata": {},
   "source": [
    "### (3) RNN last"
   ]
  },
  {
   "cell_type": "code",
   "execution_count": 202,
   "metadata": {
    "execution": {
     "iopub.execute_input": "2020-12-12T18:07:21.896589Z",
     "iopub.status.busy": "2020-12-12T18:07:21.896143Z",
     "iopub.status.idle": "2020-12-12T18:07:21.969499Z",
     "shell.execute_reply": "2020-12-12T18:07:21.968299Z",
     "shell.execute_reply.started": "2020-12-12T18:07:21.896544Z"
    }
   },
   "outputs": [
    {
     "name": "stdout",
     "output_type": "stream",
     "text": [
      "The model has 722,701 trainable parameters\n"
     ]
    }
   ],
   "source": [
    "rnn_last_mean_model = FactCheckingModel(\n",
    "    EMBEDDING_DIMENSION,\n",
    "    MAX_TOKENS,\n",
    "    num_recurrent_layers=1,\n",
    "    lr=LEARNING_RATE,\n",
    "    padding_index=vocabulary.from_string[PADDING_TOKEN],\n",
    "    sentence_strategy=\"rnn_last\",\n",
    "    merging_strategy=\"mean\",\n",
    ")\n",
    "print(f\"The model has {rnn_last_mean_model.count_parameters():,} trainable parameters\")"
   ]
  },
  {
   "cell_type": "code",
   "execution_count": 203,
   "metadata": {
    "execution": {
     "iopub.execute_input": "2020-12-12T18:07:27.210685Z",
     "iopub.status.busy": "2020-12-12T18:07:27.210355Z",
     "iopub.status.idle": "2020-12-13T00:07:10.375920Z",
     "shell.execute_reply": "2020-12-13T00:07:10.374034Z",
     "shell.execute_reply.started": "2020-12-12T18:07:27.210644Z"
    }
   },
   "outputs": [
    {
     "data": {
      "application/vnd.jupyter.widget-view+json": {
       "model_id": "17e3cae835334f8cad0875af99161aa9",
       "version_major": 2,
       "version_minor": 0
      },
      "text/plain": [
       "HBox(children=(HTML(value='Epoch'), FloatProgress(value=0.0, max=10.0), HTML(value='')))"
      ]
     },
     "metadata": {},
     "output_type": "display_data"
    },
    {
     "data": {
      "application/vnd.jupyter.widget-view+json": {
       "model_id": "7b3bc422a1384338be886730f15957cc",
       "version_major": 2,
       "version_minor": 0
      },
      "text/plain": [
       "HBox(children=(HTML(value='Training'), FloatProgress(value=1.0, bar_style='info', layout=Layout(width='20px'),…"
      ]
     },
     "metadata": {},
     "output_type": "display_data"
    },
    {
     "name": "stdout",
     "output_type": "stream",
     "text": [
      "\n"
     ]
    },
    {
     "data": {
      "application/vnd.jupyter.widget-view+json": {
       "model_id": "50512e8b5af0462987f86e23ce841e3f",
       "version_major": 2,
       "version_minor": 0
      },
      "text/plain": [
       "HBox(children=(HTML(value='Evaluating'), FloatProgress(value=1.0, bar_style='info', layout=Layout(width='20px'…"
      ]
     },
     "metadata": {},
     "output_type": "display_data"
    },
    {
     "name": "stdout",
     "output_type": "stream",
     "text": [
      "\n"
     ]
    },
    {
     "data": {
      "application/vnd.jupyter.widget-view+json": {
       "model_id": "9e628a878d164a92a7b5f33412df1c60",
       "version_major": 2,
       "version_minor": 0
      },
      "text/plain": [
       "HBox(children=(HTML(value='Training'), FloatProgress(value=1.0, bar_style='info', layout=Layout(width='20px'),…"
      ]
     },
     "metadata": {},
     "output_type": "display_data"
    },
    {
     "name": "stdout",
     "output_type": "stream",
     "text": [
      "\n"
     ]
    },
    {
     "data": {
      "application/vnd.jupyter.widget-view+json": {
       "model_id": "c959acb9ae674b228acad16644319ff5",
       "version_major": 2,
       "version_minor": 0
      },
      "text/plain": [
       "HBox(children=(HTML(value='Evaluating'), FloatProgress(value=1.0, bar_style='info', layout=Layout(width='20px'…"
      ]
     },
     "metadata": {},
     "output_type": "display_data"
    },
    {
     "name": "stdout",
     "output_type": "stream",
     "text": [
      "\n"
     ]
    },
    {
     "data": {
      "application/vnd.jupyter.widget-view+json": {
       "model_id": "726e60e005e64c58850c6c9f6b2ad7ad",
       "version_major": 2,
       "version_minor": 0
      },
      "text/plain": [
       "HBox(children=(HTML(value='Training'), FloatProgress(value=1.0, bar_style='info', layout=Layout(width='20px'),…"
      ]
     },
     "metadata": {},
     "output_type": "display_data"
    },
    {
     "name": "stdout",
     "output_type": "stream",
     "text": [
      "\n"
     ]
    },
    {
     "data": {
      "application/vnd.jupyter.widget-view+json": {
       "model_id": "b0ed86abc22a4787b6f1b731c82ef7f1",
       "version_major": 2,
       "version_minor": 0
      },
      "text/plain": [
       "HBox(children=(HTML(value='Evaluating'), FloatProgress(value=1.0, bar_style='info', layout=Layout(width='20px'…"
      ]
     },
     "metadata": {},
     "output_type": "display_data"
    },
    {
     "name": "stdout",
     "output_type": "stream",
     "text": [
      "\n"
     ]
    },
    {
     "data": {
      "application/vnd.jupyter.widget-view+json": {
       "model_id": "017360a17e564936b3308c19285163ca",
       "version_major": 2,
       "version_minor": 0
      },
      "text/plain": [
       "HBox(children=(HTML(value='Training'), FloatProgress(value=1.0, bar_style='info', layout=Layout(width='20px'),…"
      ]
     },
     "metadata": {},
     "output_type": "display_data"
    },
    {
     "name": "stdout",
     "output_type": "stream",
     "text": [
      "\n"
     ]
    },
    {
     "data": {
      "application/vnd.jupyter.widget-view+json": {
       "model_id": "bc16e31872af40fa857067888f7e0d98",
       "version_major": 2,
       "version_minor": 0
      },
      "text/plain": [
       "HBox(children=(HTML(value='Evaluating'), FloatProgress(value=1.0, bar_style='info', layout=Layout(width='20px'…"
      ]
     },
     "metadata": {},
     "output_type": "display_data"
    },
    {
     "name": "stdout",
     "output_type": "stream",
     "text": [
      "\n"
     ]
    },
    {
     "data": {
      "application/vnd.jupyter.widget-view+json": {
       "model_id": "0b4fd47a4f014098b17119b32f8ac7ac",
       "version_major": 2,
       "version_minor": 0
      },
      "text/plain": [
       "HBox(children=(HTML(value='Training'), FloatProgress(value=1.0, bar_style='info', layout=Layout(width='20px'),…"
      ]
     },
     "metadata": {},
     "output_type": "display_data"
    },
    {
     "name": "stdout",
     "output_type": "stream",
     "text": [
      "\n"
     ]
    },
    {
     "data": {
      "application/vnd.jupyter.widget-view+json": {
       "model_id": "db1ef79015d3482abc8f79db393a9a60",
       "version_major": 2,
       "version_minor": 0
      },
      "text/plain": [
       "HBox(children=(HTML(value='Evaluating'), FloatProgress(value=1.0, bar_style='info', layout=Layout(width='20px'…"
      ]
     },
     "metadata": {},
     "output_type": "display_data"
    },
    {
     "name": "stdout",
     "output_type": "stream",
     "text": [
      "\n"
     ]
    },
    {
     "data": {
      "application/vnd.jupyter.widget-view+json": {
       "model_id": "3b6ff9794eff4593a95bc5e4c01709fe",
       "version_major": 2,
       "version_minor": 0
      },
      "text/plain": [
       "HBox(children=(HTML(value='Training'), FloatProgress(value=1.0, bar_style='info', layout=Layout(width='20px'),…"
      ]
     },
     "metadata": {},
     "output_type": "display_data"
    },
    {
     "name": "stdout",
     "output_type": "stream",
     "text": [
      "\n"
     ]
    },
    {
     "data": {
      "application/vnd.jupyter.widget-view+json": {
       "model_id": "0f9d02e2f3644d30b5136ef65325c813",
       "version_major": 2,
       "version_minor": 0
      },
      "text/plain": [
       "HBox(children=(HTML(value='Evaluating'), FloatProgress(value=1.0, bar_style='info', layout=Layout(width='20px'…"
      ]
     },
     "metadata": {},
     "output_type": "display_data"
    },
    {
     "name": "stdout",
     "output_type": "stream",
     "text": [
      "\n"
     ]
    },
    {
     "data": {
      "application/vnd.jupyter.widget-view+json": {
       "model_id": "47a1eae99adc476897d599e3ecbc1bbe",
       "version_major": 2,
       "version_minor": 0
      },
      "text/plain": [
       "HBox(children=(HTML(value='Training'), FloatProgress(value=1.0, bar_style='info', layout=Layout(width='20px'),…"
      ]
     },
     "metadata": {},
     "output_type": "display_data"
    },
    {
     "name": "stdout",
     "output_type": "stream",
     "text": [
      "\n"
     ]
    },
    {
     "data": {
      "application/vnd.jupyter.widget-view+json": {
       "model_id": "8dacdf8e1cf84981a2a948cb59309022",
       "version_major": 2,
       "version_minor": 0
      },
      "text/plain": [
       "HBox(children=(HTML(value='Evaluating'), FloatProgress(value=1.0, bar_style='info', layout=Layout(width='20px'…"
      ]
     },
     "metadata": {},
     "output_type": "display_data"
    },
    {
     "name": "stdout",
     "output_type": "stream",
     "text": [
      "\n"
     ]
    },
    {
     "data": {
      "application/vnd.jupyter.widget-view+json": {
       "model_id": "06bd712e9538463ab20103d9e7c3f16b",
       "version_major": 2,
       "version_minor": 0
      },
      "text/plain": [
       "HBox(children=(HTML(value='Training'), FloatProgress(value=1.0, bar_style='info', layout=Layout(width='20px'),…"
      ]
     },
     "metadata": {},
     "output_type": "display_data"
    },
    {
     "name": "stdout",
     "output_type": "stream",
     "text": [
      "\n"
     ]
    },
    {
     "data": {
      "application/vnd.jupyter.widget-view+json": {
       "model_id": "e7c95a441580410f96c3b30cd9b1daf8",
       "version_major": 2,
       "version_minor": 0
      },
      "text/plain": [
       "HBox(children=(HTML(value='Evaluating'), FloatProgress(value=1.0, bar_style='info', layout=Layout(width='20px'…"
      ]
     },
     "metadata": {},
     "output_type": "display_data"
    },
    {
     "name": "stdout",
     "output_type": "stream",
     "text": [
      "\n"
     ]
    },
    {
     "data": {
      "application/vnd.jupyter.widget-view+json": {
       "model_id": "dff1556018be467dbb9563a393b6cb84",
       "version_major": 2,
       "version_minor": 0
      },
      "text/plain": [
       "HBox(children=(HTML(value='Training'), FloatProgress(value=1.0, bar_style='info', layout=Layout(width='20px'),…"
      ]
     },
     "metadata": {},
     "output_type": "display_data"
    },
    {
     "name": "stdout",
     "output_type": "stream",
     "text": [
      "\n"
     ]
    },
    {
     "data": {
      "application/vnd.jupyter.widget-view+json": {
       "model_id": "7acda1776a5a4feb8fe877eadddebf0e",
       "version_major": 2,
       "version_minor": 0
      },
      "text/plain": [
       "HBox(children=(HTML(value='Evaluating'), FloatProgress(value=1.0, bar_style='info', layout=Layout(width='20px'…"
      ]
     },
     "metadata": {},
     "output_type": "display_data"
    },
    {
     "name": "stdout",
     "output_type": "stream",
     "text": [
      "\n"
     ]
    },
    {
     "data": {
      "application/vnd.jupyter.widget-view+json": {
       "model_id": "b1692037701b421393d6e9a9db9f328a",
       "version_major": 2,
       "version_minor": 0
      },
      "text/plain": [
       "HBox(children=(HTML(value='Training'), FloatProgress(value=1.0, bar_style='info', layout=Layout(width='20px'),…"
      ]
     },
     "metadata": {},
     "output_type": "display_data"
    },
    {
     "name": "stdout",
     "output_type": "stream",
     "text": [
      "\n"
     ]
    },
    {
     "data": {
      "application/vnd.jupyter.widget-view+json": {
       "model_id": "236494f58c844578a13d1904394979fb",
       "version_major": 2,
       "version_minor": 0
      },
      "text/plain": [
       "HBox(children=(HTML(value='Evaluating'), FloatProgress(value=1.0, bar_style='info', layout=Layout(width='20px'…"
      ]
     },
     "metadata": {},
     "output_type": "display_data"
    },
    {
     "name": "stdout",
     "output_type": "stream",
     "text": [
      "\n",
      "\n",
      "Final validation results: Loss: 1.844 | Accuracy: 73.08% | F1: 72.14% | Claim accuracy: 72.94% | Claim F1: 72.04%\n"
     ]
    }
   ],
   "source": [
    "rnn_last_mean_model_history = actual_train_eval(rnn_last_mean_model, \"rnn_last_mean_model\",)"
   ]
  },
  {
   "cell_type": "code",
   "execution_count": 204,
   "metadata": {
    "execution": {
     "iopub.execute_input": "2020-12-13T08:04:44.894924Z",
     "iopub.status.busy": "2020-12-13T08:04:44.894486Z",
     "iopub.status.idle": "2020-12-13T08:04:47.176992Z",
     "shell.execute_reply": "2020-12-13T08:04:47.175499Z",
     "shell.execute_reply.started": "2020-12-13T08:04:44.894879Z"
    }
   },
   "outputs": [
    {
     "data": {
      "image/png": "[encoded data removed]",
      "text/plain": [
       "<Figure size 800x600 with 10 Axes>"
      ]
     },
     "metadata": {},
     "output_type": "display_data"
    }
   ],
   "source": [
    "plot_history(rnn_last_mean_model_history, nrows=5, ncols=2)"
   ]
  },
  {
   "cell_type": "markdown",
   "metadata": {},
   "source": [
    "### (4) RNN output average"
   ]
  },
  {
   "cell_type": "code",
   "execution_count": 205,
   "metadata": {
    "execution": {
     "iopub.execute_input": "2020-12-13T13:16:47.883590Z",
     "iopub.status.busy": "2020-12-13T13:16:47.883133Z",
     "iopub.status.idle": "2020-12-13T13:16:47.973125Z",
     "shell.execute_reply": "2020-12-13T13:16:47.972005Z",
     "shell.execute_reply.started": "2020-12-13T13:16:47.883537Z"
    }
   },
   "outputs": [
    {
     "name": "stdout",
     "output_type": "stream",
     "text": [
      "The model has 722,701 trainable parameters\n"
     ]
    }
   ],
   "source": [
    "rnn_out_avg_mean_model = FactCheckingModel(\n",
    "    EMBEDDING_DIMENSION,\n",
    "    MAX_TOKENS,\n",
    "    num_recurrent_layers=1,\n",
    "    lr=LEARNING_RATE,\n",
    "    padding_index=vocabulary.from_string[PADDING_TOKEN],\n",
    "    sentence_strategy=\"rnn_out_avg\",\n",
    "    merging_strategy=\"mean\",\n",
    ")\n",
    "print(f\"The model has {rnn_out_avg_mean_model.count_parameters():,} trainable parameters\")"
   ]
  },
  {
   "cell_type": "code",
   "execution_count": 206,
   "metadata": {
    "execution": {
     "iopub.execute_input": "2020-12-13T13:16:55.369546Z",
     "iopub.status.busy": "2020-12-13T13:16:55.369225Z",
     "iopub.status.idle": "2020-12-13T18:50:50.496783Z",
     "shell.execute_reply": "2020-12-13T18:50:50.495386Z",
     "shell.execute_reply.started": "2020-12-13T13:16:55.369505Z"
    }
   },
   "outputs": [
    {
     "data": {
      "application/vnd.jupyter.widget-view+json": {
       "model_id": "81cbb0bc9dcc48df946500c5e5f0368b",
       "version_major": 2,
       "version_minor": 0
      },
      "text/plain": [
       "HBox(children=(HTML(value='Epoch'), FloatProgress(value=0.0, max=10.0), HTML(value='')))"
      ]
     },
     "metadata": {},
     "output_type": "display_data"
    },
    {
     "data": {
      "application/vnd.jupyter.widget-view+json": {
       "model_id": "baf1264abdd846fd8535a48c2fbab3d2",
       "version_major": 2,
       "version_minor": 0
      },
      "text/plain": [
       "HBox(children=(HTML(value='Training'), FloatProgress(value=1.0, bar_style='info', layout=Layout(width='20px'),…"
      ]
     },
     "metadata": {},
     "output_type": "display_data"
    },
    {
     "name": "stdout",
     "output_type": "stream",
     "text": [
      "\n"
     ]
    },
    {
     "data": {
      "application/vnd.jupyter.widget-view+json": {
       "model_id": "cf613b99db9a4779a1fac089820bb562",
       "version_major": 2,
       "version_minor": 0
      },
      "text/plain": [
       "HBox(children=(HTML(value='Evaluating'), FloatProgress(value=1.0, bar_style='info', layout=Layout(width='20px'…"
      ]
     },
     "metadata": {},
     "output_type": "display_data"
    },
    {
     "name": "stdout",
     "output_type": "stream",
     "text": [
      "\n"
     ]
    },
    {
     "data": {
      "application/vnd.jupyter.widget-view+json": {
       "model_id": "c1c2a1bc7b5a41a08c0297b2f3059e6e",
       "version_major": 2,
       "version_minor": 0
      },
      "text/plain": [
       "HBox(children=(HTML(value='Training'), FloatProgress(value=1.0, bar_style='info', layout=Layout(width='20px'),…"
      ]
     },
     "metadata": {},
     "output_type": "display_data"
    },
    {
     "name": "stdout",
     "output_type": "stream",
     "text": [
      "\n"
     ]
    },
    {
     "data": {
      "application/vnd.jupyter.widget-view+json": {
       "model_id": "59dcc4c4ccc34b8a910b1b1ed0c01672",
       "version_major": 2,
       "version_minor": 0
      },
      "text/plain": [
       "HBox(children=(HTML(value='Evaluating'), FloatProgress(value=1.0, bar_style='info', layout=Layout(width='20px'…"
      ]
     },
     "metadata": {},
     "output_type": "display_data"
    },
    {
     "name": "stdout",
     "output_type": "stream",
     "text": [
      "\n"
     ]
    },
    {
     "data": {
      "application/vnd.jupyter.widget-view+json": {
       "model_id": "fba84a8447ba411c9b981c0583209472",
       "version_major": 2,
       "version_minor": 0
      },
      "text/plain": [
       "HBox(children=(HTML(value='Training'), FloatProgress(value=1.0, bar_style='info', layout=Layout(width='20px'),…"
      ]
     },
     "metadata": {},
     "output_type": "display_data"
    },
    {
     "name": "stdout",
     "output_type": "stream",
     "text": [
      "\n"
     ]
    },
    {
     "data": {
      "application/vnd.jupyter.widget-view+json": {
       "model_id": "cd0e4812da0245238f26f4905d4c1168",
       "version_major": 2,
       "version_minor": 0
      },
      "text/plain": [
       "HBox(children=(HTML(value='Evaluating'), FloatProgress(value=1.0, bar_style='info', layout=Layout(width='20px'…"
      ]
     },
     "metadata": {},
     "output_type": "display_data"
    },
    {
     "name": "stdout",
     "output_type": "stream",
     "text": [
      "\n"
     ]
    },
    {
     "data": {
      "application/vnd.jupyter.widget-view+json": {
       "model_id": "515acdd29fe44d46b835c7b434b31628",
       "version_major": 2,
       "version_minor": 0
      },
      "text/plain": [
       "HBox(children=(HTML(value='Training'), FloatProgress(value=1.0, bar_style='info', layout=Layout(width='20px'),…"
      ]
     },
     "metadata": {},
     "output_type": "display_data"
    },
    {
     "name": "stdout",
     "output_type": "stream",
     "text": [
      "\n"
     ]
    },
    {
     "data": {
      "application/vnd.jupyter.widget-view+json": {
       "model_id": "18458ae3c28d451181ffc6aebdb8ae68",
       "version_major": 2,
       "version_minor": 0
      },
      "text/plain": [
       "HBox(children=(HTML(value='Evaluating'), FloatProgress(value=1.0, bar_style='info', layout=Layout(width='20px'…"
      ]
     },
     "metadata": {},
     "output_type": "display_data"
    },
    {
     "name": "stdout",
     "output_type": "stream",
     "text": [
      "\n"
     ]
    },
    {
     "data": {
      "application/vnd.jupyter.widget-view+json": {
       "model_id": "0bf91e23d1724cb08f82faf473acd816",
       "version_major": 2,
       "version_minor": 0
      },
      "text/plain": [
       "HBox(children=(HTML(value='Training'), FloatProgress(value=1.0, bar_style='info', layout=Layout(width='20px'),…"
      ]
     },
     "metadata": {},
     "output_type": "display_data"
    },
    {
     "name": "stdout",
     "output_type": "stream",
     "text": [
      "\n"
     ]
    },
    {
     "data": {
      "application/vnd.jupyter.widget-view+json": {
       "model_id": "1c66c7bd59454f43a652ffc23ae483d1",
       "version_major": 2,
       "version_minor": 0
      },
      "text/plain": [
       "HBox(children=(HTML(value='Evaluating'), FloatProgress(value=1.0, bar_style='info', layout=Layout(width='20px'…"
      ]
     },
     "metadata": {},
     "output_type": "display_data"
    },
    {
     "name": "stdout",
     "output_type": "stream",
     "text": [
      "\n"
     ]
    },
    {
     "data": {
      "application/vnd.jupyter.widget-view+json": {
       "model_id": "e9118403a66d47ad8dd9db3374e2e240",
       "version_major": 2,
       "version_minor": 0
      },
      "text/plain": [
       "HBox(children=(HTML(value='Training'), FloatProgress(value=1.0, bar_style='info', layout=Layout(width='20px'),…"
      ]
     },
     "metadata": {},
     "output_type": "display_data"
    },
    {
     "name": "stdout",
     "output_type": "stream",
     "text": [
      "\n"
     ]
    },
    {
     "data": {
      "application/vnd.jupyter.widget-view+json": {
       "model_id": "f5b379c59d374f1084e418593ae36666",
       "version_major": 2,
       "version_minor": 0
      },
      "text/plain": [
       "HBox(children=(HTML(value='Evaluating'), FloatProgress(value=1.0, bar_style='info', layout=Layout(width='20px'…"
      ]
     },
     "metadata": {},
     "output_type": "display_data"
    },
    {
     "name": "stdout",
     "output_type": "stream",
     "text": [
      "\n"
     ]
    },
    {
     "data": {
      "application/vnd.jupyter.widget-view+json": {
       "model_id": "b24563269b7647f6b142fd87a12af296",
       "version_major": 2,
       "version_minor": 0
      },
      "text/plain": [
       "HBox(children=(HTML(value='Training'), FloatProgress(value=1.0, bar_style='info', layout=Layout(width='20px'),…"
      ]
     },
     "metadata": {},
     "output_type": "display_data"
    },
    {
     "name": "stdout",
     "output_type": "stream",
     "text": [
      "\n"
     ]
    },
    {
     "data": {
      "application/vnd.jupyter.widget-view+json": {
       "model_id": "7b4a524ca4744deeb51196141ab1b5fb",
       "version_major": 2,
       "version_minor": 0
      },
      "text/plain": [
       "HBox(children=(HTML(value='Evaluating'), FloatProgress(value=1.0, bar_style='info', layout=Layout(width='20px'…"
      ]
     },
     "metadata": {},
     "output_type": "display_data"
    },
    {
     "name": "stdout",
     "output_type": "stream",
     "text": [
      "\n"
     ]
    },
    {
     "data": {
      "application/vnd.jupyter.widget-view+json": {
       "model_id": "2a7c2989df794f939022ffb1c1bc86f6",
       "version_major": 2,
       "version_minor": 0
      },
      "text/plain": [
       "HBox(children=(HTML(value='Training'), FloatProgress(value=1.0, bar_style='info', layout=Layout(width='20px'),…"
      ]
     },
     "metadata": {},
     "output_type": "display_data"
    },
    {
     "name": "stdout",
     "output_type": "stream",
     "text": [
      "\n"
     ]
    },
    {
     "data": {
      "application/vnd.jupyter.widget-view+json": {
       "model_id": "e2a420207c624d6daf7a33e0d20d0ea8",
       "version_major": 2,
       "version_minor": 0
      },
      "text/plain": [
       "HBox(children=(HTML(value='Evaluating'), FloatProgress(value=1.0, bar_style='info', layout=Layout(width='20px'…"
      ]
     },
     "metadata": {},
     "output_type": "display_data"
    },
    {
     "name": "stdout",
     "output_type": "stream",
     "text": [
      "\n"
     ]
    },
    {
     "data": {
      "application/vnd.jupyter.widget-view+json": {
       "model_id": "5a4b44e3e7ca4736a0b3041841717eed",
       "version_major": 2,
       "version_minor": 0
      },
      "text/plain": [
       "HBox(children=(HTML(value='Training'), FloatProgress(value=1.0, bar_style='info', layout=Layout(width='20px'),…"
      ]
     },
     "metadata": {},
     "output_type": "display_data"
    },
    {
     "name": "stdout",
     "output_type": "stream",
     "text": [
      "\n"
     ]
    },
    {
     "data": {
      "application/vnd.jupyter.widget-view+json": {
       "model_id": "f8a8ddd2ec4f4fa49381bc262087defc",
       "version_major": 2,
       "version_minor": 0
      },
      "text/plain": [
       "HBox(children=(HTML(value='Evaluating'), FloatProgress(value=1.0, bar_style='info', layout=Layout(width='20px'…"
      ]
     },
     "metadata": {},
     "output_type": "display_data"
    },
    {
     "name": "stdout",
     "output_type": "stream",
     "text": [
      "\n"
     ]
    },
    {
     "data": {
      "application/vnd.jupyter.widget-view+json": {
       "model_id": "d0cd3cd8ee2549879009f026d8628b39",
       "version_major": 2,
       "version_minor": 0
      },
      "text/plain": [
       "HBox(children=(HTML(value='Training'), FloatProgress(value=1.0, bar_style='info', layout=Layout(width='20px'),…"
      ]
     },
     "metadata": {},
     "output_type": "display_data"
    },
    {
     "name": "stdout",
     "output_type": "stream",
     "text": [
      "\n"
     ]
    },
    {
     "data": {
      "application/vnd.jupyter.widget-view+json": {
       "model_id": "a1ece301ad20475dbf0b61c7ab0f73a4",
       "version_major": 2,
       "version_minor": 0
      },
      "text/plain": [
       "HBox(children=(HTML(value='Evaluating'), FloatProgress(value=1.0, bar_style='info', layout=Layout(width='20px'…"
      ]
     },
     "metadata": {},
     "output_type": "display_data"
    },
    {
     "name": "stdout",
     "output_type": "stream",
     "text": [
      "\n",
      "\n",
      "Final validation results: Loss: 0.869 | Accuracy: 74.05% | F1: 71.27% | Claim accuracy: 72.34% | Claim F1: 71.36%\n"
     ]
    }
   ],
   "source": [
    "rnn_out_avg_mean_model_history = actual_train_eval(rnn_out_avg_mean_model, \"rnn_out_avg_mean_model\",)"
   ]
  },
  {
   "cell_type": "code",
   "execution_count": 207,
   "metadata": {
    "execution": {
     "iopub.execute_input": "2020-12-13T21:28:18.688574Z",
     "iopub.status.busy": "2020-12-13T21:28:18.688137Z",
     "iopub.status.idle": "2020-12-13T21:28:20.953453Z",
     "shell.execute_reply": "2020-12-13T21:28:20.952177Z",
     "shell.execute_reply.started": "2020-12-13T21:28:18.688529Z"
    }
   },
   "outputs": [
    {
     "data": {
      "image/png": "[encoded data removed]",
      "text/plain": [
       "<Figure size 800x600 with 10 Axes>"
      ]
     },
     "metadata": {},
     "output_type": "display_data"
    }
   ],
   "source": [
    "plot_history(rnn_out_avg_mean_model_history, nrows=5, ncols=2)"
   ]
  },
  {
   "cell_type": "markdown",
   "metadata": {},
   "source": [
    "## Comments/summary"
   ]
  },
  {
   "cell_type": "code",
   "execution_count": null,
   "metadata": {},
   "outputs": [],
   "source": []
  }
 ],
 "metadata": {
  "kernelspec": {
   "display_name": "Python 3",
   "language": "python",
   "name": "python3"
  },
  "language_info": {
   "codemirror_mode": {
    "name": "ipython",
    "version": 3
   },
   "file_extension": ".py",
   "mimetype": "text/x-python",
   "name": "python",
   "nbconvert_exporter": "python",
   "pygments_lexer": "ipython3",
   "version": "3.8.5"
  }
 },
 "nbformat": 4,
 "nbformat_minor": 4
}
