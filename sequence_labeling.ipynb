{
 "cells": [
  {
   "cell_type": "markdown",
   "metadata": {},
   "source": [
    "Assignment 3 : Sequence labelling with RNNs\n",
    "In this assignement we will ask you to perform POS tagging.\n",
    "\n",
    "You are asked to follow these steps:\n",
    "\n",
    "- Download the corpora and split it in training and test sets, structuring a dataframe.\n",
    "- Embed the words using GloVe embeddings\n",
    "- Create a baseline model, using a simple neural architecture\n",
    "- Experiment doing small modifications to the model\n",
    "- Evaluate your best model\n",
    "- Analyze the errors of your model\n",
    "- Corpora: Ignore the numeric value in the third column, use only the words/symbols and its label. https://raw.githubusercontent.com/nltk/nltk_data/gh-pages/packages/corpora/dependency_treebank.zip\n",
    "\n",
    "Splits: documents 1-100 are the train set, 101-150 validation set, 151-199 test set.\n",
    "\n",
    "Baseline: two layers architecture: a Bidirectional LSTM and a Dense/Fully-Connected layer on top.\n",
    "\n",
    "Modifications: experiment using a GRU instead of the LSTM, adding an additional LSTM layer, and using a CRF in addition to the LSTM. Each of this change must be done by itself (don't mix these modifications).\n",
    "\n",
    "Training and Experiments: all the experiments must involve only the training and validation sets.\n",
    "\n",
    "Evaluation: in the end, only the best model of your choice must be evaluated on the test set. The main metric must be F1-Macro computed between the various part of speech (without considering punctuation classes).\n",
    "\n",
    "Error Analysis (optional) : analyze the errors done by your model, try to understand which may be the causes and think about how to improve it.\n",
    "\n",
    "Report: You are asked to deliver a small report of about 4-5 lines in the .txt file that sums up your findings."
   ]
  },
  {
   "cell_type": "markdown",
   "metadata": {},
   "source": [
    "https://raw.githubusercontent.com/nltk/nltk_data/gh-pages/packages/corpora/dependency_treebank.zip"
   ]
  },
  {
   "cell_type": "markdown",
   "metadata": {},
   "source": [
    "# Sequence labeling"
   ]
  },
  {
   "cell_type": "code",
   "execution_count": 1,
   "metadata": {
    "execution": {
     "iopub.execute_input": "2020-11-25T20:40:16.116839Z",
     "iopub.status.busy": "2020-11-25T20:40:16.116447Z",
     "iopub.status.idle": "2020-11-25T20:40:18.453421Z",
     "shell.execute_reply": "2020-11-25T20:40:18.451908Z",
     "shell.execute_reply.started": "2020-11-25T20:40:16.116797Z"
    }
   },
   "outputs": [],
   "source": [
    "import re\n",
    "import random\n",
    "import time\n",
    "import string\n",
    "from functools import partial\n",
    "from collections import namedtuple\n",
    "\n",
    "import pandas as pd\n",
    "import numpy as np\n",
    "import matplotlib.pyplot as plt\n",
    "import sklearn\n",
    "import nltk\n",
    "import torch\n",
    "import torch.nn as nn\n",
    "import torch.optim as optim\n",
    "from torch.utils.data import Dataset, DataLoader\n",
    "from torch.nn.utils.rnn import pad_sequence, pack_padded_sequence, pad_packed_sequence\n",
    "from torchcrf import CRF\n",
    "from tqdm.notebook import tqdm\n",
    "from nltk.corpus import dependency_treebank\n",
    "\n",
    "import utils\n",
    "\n",
    "%load_ext autoreload\n",
    "%autoreload 2\n",
    "%matplotlib inline"
   ]
  },
  {
   "cell_type": "code",
   "execution_count": 3,
   "metadata": {
    "execution": {
     "iopub.execute_input": "2020-11-25T20:40:25.531856Z",
     "iopub.status.busy": "2020-11-25T20:40:25.531408Z",
     "iopub.status.idle": "2020-11-25T20:40:25.588339Z",
     "shell.execute_reply": "2020-11-25T20:40:25.587071Z",
     "shell.execute_reply.started": "2020-11-25T20:40:25.531813Z"
    }
   },
   "outputs": [],
   "source": [
    "plt.rcParams['figure.figsize'] = [8, 6]\n",
    "plt.rcParams['figure.dpi'] = 100\n",
    "plt.rcParams['axes.xmargin'] = .05\n",
    "plt.rcParams['axes.ymargin'] = .05\n",
    "plt.style.use('ggplot')"
   ]
  },
  {
   "cell_type": "markdown",
   "metadata": {
    "execution": {
     "iopub.execute_input": "2020-11-16T10:57:06.796946Z",
     "iopub.status.busy": "2020-11-16T10:57:06.796528Z",
     "iopub.status.idle": "2020-11-16T10:57:06.854690Z",
     "shell.execute_reply": "2020-11-16T10:57:06.853393Z",
     "shell.execute_reply.started": "2020-11-16T10:57:06.796903Z"
    }
   },
   "source": [
    "## Introduction"
   ]
  },
  {
   "cell_type": "markdown",
   "metadata": {},
   "source": [
    "First of all, let's download the dependency treebank dataset from the NLTK data module$\\dots$"
   ]
  },
  {
   "cell_type": "code",
   "execution_count": 4,
   "metadata": {
    "execution": {
     "iopub.execute_input": "2020-11-25T20:40:28.533229Z",
     "iopub.status.busy": "2020-11-25T20:40:28.532813Z",
     "iopub.status.idle": "2020-11-25T20:40:28.865105Z",
     "shell.execute_reply": "2020-11-25T20:40:28.863779Z",
     "shell.execute_reply.started": "2020-11-25T20:40:28.533186Z"
    }
   },
   "outputs": [
    {
     "name": "stderr",
     "output_type": "stream",
     "text": [
      "[nltk_data] Downloading package dependency_treebank to\n",
      "[nltk_data]     /root/nltk_data...\n",
      "[nltk_data]   Package dependency_treebank is already up-to-date!\n"
     ]
    }
   ],
   "source": [
    "dataset_name = \"dependency_treebank\"\n",
    "\n",
    "try:\n",
    "    nltk.data.find(dataset_name)\n",
    "except LookupError:\n",
    "    nltk.download(dataset_name)"
   ]
  },
  {
   "cell_type": "markdown",
   "metadata": {},
   "source": [
    "Now we may want to fix all the possible sources of randomness, in order to achieve reproducible results."
   ]
  },
  {
   "cell_type": "code",
   "execution_count": 5,
   "metadata": {
    "execution": {
     "iopub.execute_input": "2020-11-25T20:40:32.531412Z",
     "iopub.status.busy": "2020-11-25T20:40:32.530987Z",
     "iopub.status.idle": "2020-11-25T20:40:32.591303Z",
     "shell.execute_reply": "2020-11-25T20:40:32.590004Z",
     "shell.execute_reply.started": "2020-11-25T20:40:32.531368Z"
    }
   },
   "outputs": [],
   "source": [
    "RANDOM_SEED = 42\n",
    "\n",
    "\n",
    "def fix_random(seed):\n",
    "    \"\"\"\n",
    "    Fix all the possible sources of randomness\n",
    "    \"\"\"\n",
    "    np.random.seed(seed)\n",
    "    random.seed(seed)\n",
    "    torch.manual_seed(seed)\n",
    "    torch.cuda.manual_seed(seed)\n",
    "    torch.backends.cudnn.benchmark = False\n",
    "    torch.backends.cudnn.deterministic = True\n",
    "\n",
    "\n",
    "fix_random(RANDOM_SEED)"
   ]
  },
  {
   "cell_type": "markdown",
   "metadata": {},
   "source": [
    "## Data preparation"
   ]
  },
  {
   "cell_type": "markdown",
   "metadata": {},
   "source": [
    "In this code section, each and every file in the dependency treebank dataset will be loaded and corresponding sentences will be splitted with the following reasoning:\n",
    "- Training set range: from file `wsj_0001.dp` to `wsj_0100.dp`\n",
    "- Validation set range: from file `wsj_0101.dp` to `wsj_0150.dp`\n",
    "- Test set range: from file `wsj_0151.dp` to `wsj_0199.dp`"
   ]
  },
  {
   "cell_type": "code",
   "execution_count": 6,
   "metadata": {
    "execution": {
     "iopub.execute_input": "2020-11-25T20:40:43.085869Z",
     "iopub.status.busy": "2020-11-25T20:40:43.085441Z",
     "iopub.status.idle": "2020-11-25T20:40:43.145149Z",
     "shell.execute_reply": "2020-11-25T20:40:43.143895Z",
     "shell.execute_reply.started": "2020-11-25T20:40:43.085825Z"
    }
   },
   "outputs": [],
   "source": [
    "file_prefix = \"wsj_\"\n",
    "file_ext = \".dp\"\n",
    "train_files = [f\"{file_prefix}{i:04d}{file_ext}\" for i in range(1, 101)]\n",
    "val_files = [f\"{file_prefix}{i:04d}{file_ext}\" for i in range(101, 151)]\n",
    "test_files = [f\"{file_prefix}{i:04d}{file_ext}\" for i in range(151, 200)]\n",
    "splits = (\n",
    "    [\"train\"] * len(train_files) + [\"val\"] * len(val_files) + [\"test\"] * len(test_files)\n",
    ")\n",
    "whole_files = train_files + val_files + test_files"
   ]
  },
  {
   "cell_type": "code",
   "execution_count": 7,
   "metadata": {
    "execution": {
     "iopub.execute_input": "2020-11-25T20:40:44.798793Z",
     "iopub.status.busy": "2020-11-25T20:40:44.798379Z",
     "iopub.status.idle": "2020-11-25T20:40:44.855559Z",
     "shell.execute_reply": "2020-11-25T20:40:44.854444Z",
     "shell.execute_reply.started": "2020-11-25T20:40:44.798750Z"
    }
   },
   "outputs": [
    {
     "data": {
      "text/plain": [
       "['wsj_0001.dp',\n",
       " 'wsj_0021.dp',\n",
       " 'wsj_0041.dp',\n",
       " 'wsj_0061.dp',\n",
       " 'wsj_0081.dp',\n",
       " 'wsj_0101.dp',\n",
       " 'wsj_0121.dp',\n",
       " 'wsj_0141.dp',\n",
       " 'wsj_0161.dp',\n",
       " 'wsj_0181.dp']"
      ]
     },
     "execution_count": 7,
     "metadata": {},
     "output_type": "execute_result"
    }
   ],
   "source": [
    "whole_files[0:-1:20]"
   ]
  },
  {
   "cell_type": "markdown",
   "metadata": {},
   "source": [
    "Let's check how are sentences encoded in each file$\\dots$"
   ]
  },
  {
   "cell_type": "code",
   "execution_count": 8,
   "metadata": {
    "execution": {
     "iopub.execute_input": "2020-11-25T20:40:47.528888Z",
     "iopub.status.busy": "2020-11-25T20:40:47.528568Z",
     "iopub.status.idle": "2020-11-25T20:40:47.583105Z",
     "shell.execute_reply": "2020-11-25T20:40:47.581933Z",
     "shell.execute_reply.started": "2020-11-25T20:40:47.528850Z"
    }
   },
   "outputs": [
    {
     "data": {
      "text/plain": [
       "'Pierre\\tNNP\\t2\\nVinken\\tNNP\\t8\\n,\\t,\\t2\\n61\\tCD\\t5\\nyears\\tNNS\\t6\\nold\\tJJ\\t2\\n,\\t,\\t2\\nwill\\tMD\\t0\\njoin\\tVB\\t8\\nthe\\tDT\\t11\\nboard\\tNN\\t9\\nas\\tIN\\t9\\na\\tDT\\t15\\nnonexecutive\\tJJ\\t15\\ndirector\\tNN\\t12\\nNov.\\tNNP\\t9\\n29\\tCD\\t16\\n.\\t.\\t8\\n\\nMr.\\tNNP\\t2\\nVinken\\tNNP\\t3\\nis\\tVBZ\\t0\\nchairman\\tNN\\t3\\nof\\tIN\\t4\\nElsevier\\tNNP\\t7\\nN.V.\\tNNP\\t12\\n,\\t,\\t12\\nthe\\tDT\\t12\\nDutch\\tNNP\\t12\\npublishing\\tVBG\\t12\\ngroup\\tNN\\t5\\n.\\t.\\t3\\n'"
      ]
     },
     "execution_count": 8,
     "metadata": {},
     "output_type": "execute_result"
    }
   ],
   "source": [
    "dependency_treebank.raw(fileids=whole_files[0])"
   ]
  },
  {
   "cell_type": "markdown",
   "metadata": {},
   "source": [
    "It seems that each sentence is subdivided in triples that follow the pattern `token \\t tag \\t number \\n`, where `\\t` is the tab symbol and `\\n` the newline one. Since we are only interested in tokens and tags, we can simply discard the last number encountered in the triples in each line of a sentence. Moreover, we can observe that different sentences in the same file are separated by a blank character (i.e. `\"\"`), which we can exploit to build our dataset."
   ]
  },
  {
   "cell_type": "code",
   "execution_count": 9,
   "metadata": {
    "execution": {
     "iopub.execute_input": "2020-11-25T20:41:10.531417Z",
     "iopub.status.busy": "2020-11-25T20:41:10.531000Z",
     "iopub.status.idle": "2020-11-25T20:41:10.601431Z",
     "shell.execute_reply": "2020-11-25T20:41:10.599971Z",
     "shell.execute_reply.started": "2020-11-25T20:41:10.531374Z"
    }
   },
   "outputs": [],
   "source": [
    "def split_into_sentences(splitted_file_str, split_token):\n",
    "    \"\"\"\n",
    "    Split the given file string into sentences, by splitting on\n",
    "    a specific token (e.g. the empty token)\n",
    "    \"\"\"\n",
    "    sentences = []\n",
    "    start_indexes = [0]\n",
    "    for i, elem in enumerate(splitted_file_str):\n",
    "        if elem == split_token:\n",
    "            sentences.append(splitted_file_str[start_indexes[len(sentences)] : i])\n",
    "            start_indexes.append(i + 1)\n",
    "    return sentences\n",
    "\n",
    "\n",
    "def parse_file(fileid, preprocessor=None, split_sentences=False, split_token=\"\"):\n",
    "    \"\"\"\n",
    "    Parse the given file identifier from the dependency treebank corpus\n",
    "    and return a tuple (`tokens`, `tags`), s.t.\n",
    "        - `tokens` and `tags` are 1D lists containing the tokens and\n",
    "           their associated tags in the entire document\n",
    "           (applied when `split_sentences` is False)\n",
    "        - `tokens` and `tags` are 2D lists, where each sublist contains\n",
    "           tokens and tags of a single sentence in the document\n",
    "           (applied when `split_sentences` is True)\n",
    "    \n",
    "    If you wish to preprocess tokens, you can pass a function to the\n",
    "    `preprocessor` argument, which should take as input only the token\n",
    "    to transform\n",
    "    \"\"\"\n",
    "    file_str = dependency_treebank.raw(fileids=fileid).split(\"\\n\")\n",
    "    sentences = [file_str]\n",
    "    if split_sentences:\n",
    "        sentences = split_into_sentences(file_str, split_token=split_token)\n",
    "    if preprocessor is None:\n",
    "        preprocessor = lambda t: t\n",
    "    tokens, tags = [], []\n",
    "    for sentence in sentences:\n",
    "        sentence_tokens, sentence_tags = [], []\n",
    "        for triple in sentence:\n",
    "            splitted_triple = triple.split(\"\\t\")\n",
    "            token = preprocessor(splitted_triple[0])\n",
    "            if token != split_token:\n",
    "                tag = splitted_triple[1]\n",
    "                sentence_tokens.append(token)\n",
    "                sentence_tags.append(tag)\n",
    "        if len(sentence_tokens) > 0:\n",
    "            tokens.append(sentence_tokens)\n",
    "            tags.append(sentence_tags)\n",
    "    return tokens, tags\n",
    "\n",
    "\n",
    "def parse_files(fileids, preprocessor=None, split_sentences=False, split_token=\"\"):\n",
    "    \"\"\"\n",
    "    Parse a set of file identifiers from the dependency treebank corpus\n",
    "    and return two lists, one which contains lists of tokens and one \n",
    "    containing lists of corresponding tags for each sentence\n",
    "    \"\"\"\n",
    "    tokens_list, tags_list = [], []\n",
    "    for fileid in fileids:\n",
    "        tokens, tags = parse_file(\n",
    "            fileid, preprocessor=preprocessor, split_sentences=split_sentences\n",
    "        )\n",
    "        tokens_list.append(tokens)\n",
    "        tags_list.append(tags)\n",
    "    return tokens_list, tags_list"
   ]
  },
  {
   "cell_type": "markdown",
   "metadata": {},
   "source": [
    "In order to have a lower number of OOV words w.r.t. the embeddings that we will use next, we are going to perform a gentle preprocessing of each token."
   ]
  },
  {
   "cell_type": "code",
   "execution_count": 10,
   "metadata": {
    "execution": {
     "iopub.execute_input": "2020-11-25T20:41:17.530558Z",
     "iopub.status.busy": "2020-11-25T20:41:17.530134Z",
     "iopub.status.idle": "2020-11-25T20:41:17.586609Z",
     "shell.execute_reply": "2020-11-25T20:41:17.585414Z",
     "shell.execute_reply.started": "2020-11-25T20:41:17.530515Z"
    }
   },
   "outputs": [],
   "source": [
    "def preprocess_token(token):\n",
    "    \"\"\"\n",
    "    Peform small modifications to the given token:\n",
    "        - Transform to lowercase\n",
    "        - Encode numbers as \"<num>\"\n",
    "    \"\"\"\n",
    "    token = token.lower()\n",
    "    token = \"<num>\" if re.match(utils.FLOAT_RE, token) else token\n",
    "    return token"
   ]
  },
  {
   "cell_type": "markdown",
   "metadata": {},
   "source": [
    "Below we are extracting two lists from the raw dataset:\n",
    "- `whole_tokens`, which is a 3D list containing documents as the first dimension, then sentences as the second dimension and tokens as the third and final dimension\n",
    "- `whole tags`, which is a list parallel to `whole_tokens`, where the only difference lies in the final dimension, containing tags instead of tokens"
   ]
  },
  {
   "cell_type": "code",
   "execution_count": 11,
   "metadata": {
    "execution": {
     "iopub.execute_input": "2020-11-25T20:41:48.628351Z",
     "iopub.status.busy": "2020-11-25T20:41:48.627932Z",
     "iopub.status.idle": "2020-11-25T20:41:49.174571Z",
     "shell.execute_reply": "2020-11-25T20:41:49.172976Z",
     "shell.execute_reply.started": "2020-11-25T20:41:48.628308Z"
    }
   },
   "outputs": [],
   "source": [
    "whole_tokens, whole_tags = parse_files(\n",
    "    whole_files, preprocessor=preprocess_token, split_sentences=True, split_token=\"\"\n",
    ")\n",
    "whole_sentences_tokens = [\n",
    "    sentence for document in whole_tokens for sentence in document\n",
    "]\n",
    "whole_sentences_tags = [\n",
    "    sentence_tags for document in whole_tags for sentence_tags in document\n",
    "]"
   ]
  },
  {
   "cell_type": "markdown",
   "metadata": {},
   "source": [
    "Now we can build our initial DataFrame, with the following columns:\n",
    "- `tokens`: the list of tokens in a sentence\n",
    "- `tags`: the list of tags associated to each token in a sentence\n",
    "- `split`: the split (`train`, `val` or `test`) associated to a particular example\n",
    "- `fileid`: the file identifier associated to each sentence"
   ]
  },
  {
   "cell_type": "code",
   "execution_count": 12,
   "metadata": {
    "execution": {
     "iopub.execute_input": "2020-11-25T20:41:57.906309Z",
     "iopub.status.busy": "2020-11-25T20:41:57.905878Z",
     "iopub.status.idle": "2020-11-25T20:41:58.016282Z",
     "shell.execute_reply": "2020-11-25T20:41:58.015086Z",
     "shell.execute_reply.started": "2020-11-25T20:41:57.906265Z"
    }
   },
   "outputs": [
    {
     "data": {
      "text/html": [
       "<div>\n",
       "<style scoped>\n",
       "    .dataframe tbody tr th:only-of-type {\n",
       "        vertical-align: middle;\n",
       "    }\n",
       "\n",
       "    .dataframe tbody tr th {\n",
       "        vertical-align: top;\n",
       "    }\n",
       "\n",
       "    .dataframe thead th {\n",
       "        text-align: right;\n",
       "    }\n",
       "</style>\n",
       "<table border=\"1\" class=\"dataframe\">\n",
       "  <thead>\n",
       "    <tr style=\"text-align: right;\">\n",
       "      <th></th>\n",
       "      <th>tokens</th>\n",
       "      <th>tags</th>\n",
       "      <th>split</th>\n",
       "      <th>fileid</th>\n",
       "    </tr>\n",
       "  </thead>\n",
       "  <tbody>\n",
       "    <tr>\n",
       "      <th>0</th>\n",
       "      <td>[pierre, vinken, ,, &lt;num&gt;, years, old, ,, will...</td>\n",
       "      <td>[NNP, NNP, ,, CD, NNS, JJ, ,, MD, VB, DT, NN, ...</td>\n",
       "      <td>train</td>\n",
       "      <td>wsj_0001.dp</td>\n",
       "    </tr>\n",
       "    <tr>\n",
       "      <th>1</th>\n",
       "      <td>[mr., vinken, is, chairman, of, elsevier, n.v....</td>\n",
       "      <td>[NNP, NNP, VBZ, NN, IN, NNP, NNP, ,, DT, NNP, ...</td>\n",
       "      <td>train</td>\n",
       "      <td>wsj_0001.dp</td>\n",
       "    </tr>\n",
       "    <tr>\n",
       "      <th>2</th>\n",
       "      <td>[rudolph, agnew, ,, &lt;num&gt;, years, old, and, fo...</td>\n",
       "      <td>[NNP, NNP, ,, CD, NNS, JJ, CC, JJ, NN, IN, NNP...</td>\n",
       "      <td>train</td>\n",
       "      <td>wsj_0002.dp</td>\n",
       "    </tr>\n",
       "    <tr>\n",
       "      <th>3</th>\n",
       "      <td>[a, form, of, asbestos, once, used, to, make, ...</td>\n",
       "      <td>[DT, NN, IN, NN, RB, VBN, TO, VB, NNP, NN, NNS...</td>\n",
       "      <td>train</td>\n",
       "      <td>wsj_0003.dp</td>\n",
       "    </tr>\n",
       "    <tr>\n",
       "      <th>4</th>\n",
       "      <td>[the, asbestos, fiber, ,, crocidolite, ,, is, ...</td>\n",
       "      <td>[DT, NN, NN, ,, NN, ,, VBZ, RB, JJ, IN, PRP, V...</td>\n",
       "      <td>train</td>\n",
       "      <td>wsj_0003.dp</td>\n",
       "    </tr>\n",
       "  </tbody>\n",
       "</table>\n",
       "</div>"
      ],
      "text/plain": [
       "                                              tokens  \\\n",
       "0  [pierre, vinken, ,, <num>, years, old, ,, will...   \n",
       "1  [mr., vinken, is, chairman, of, elsevier, n.v....   \n",
       "2  [rudolph, agnew, ,, <num>, years, old, and, fo...   \n",
       "3  [a, form, of, asbestos, once, used, to, make, ...   \n",
       "4  [the, asbestos, fiber, ,, crocidolite, ,, is, ...   \n",
       "\n",
       "                                                tags  split       fileid  \n",
       "0  [NNP, NNP, ,, CD, NNS, JJ, ,, MD, VB, DT, NN, ...  train  wsj_0001.dp  \n",
       "1  [NNP, NNP, VBZ, NN, IN, NNP, NNP, ,, DT, NNP, ...  train  wsj_0001.dp  \n",
       "2  [NNP, NNP, ,, CD, NNS, JJ, CC, JJ, NN, IN, NNP...  train  wsj_0002.dp  \n",
       "3  [DT, NN, IN, NN, RB, VBN, TO, VB, NNP, NN, NNS...  train  wsj_0003.dp  \n",
       "4  [DT, NN, NN, ,, NN, ,, VBZ, RB, JJ, IN, PRP, V...  train  wsj_0003.dp  "
      ]
     },
     "execution_count": 12,
     "metadata": {},
     "output_type": "execute_result"
    }
   ],
   "source": [
    "df = pd.DataFrame(\n",
    "    {\n",
    "        \"tokens\": whole_sentences_tokens,\n",
    "        \"tags\": whole_sentences_tags,\n",
    "        \"split\": [\n",
    "            split\n",
    "            for i, sentence in enumerate(whole_tokens)\n",
    "            for split in [splits[i]] * len(sentence)\n",
    "        ],\n",
    "        \"fileid\": [\n",
    "            fileid\n",
    "            for i, sentence in enumerate(whole_tokens)\n",
    "            for fileid in [whole_files[i]] * len(sentence)\n",
    "        ],\n",
    "    }\n",
    ")\n",
    "df.head()"
   ]
  },
  {
   "cell_type": "markdown",
   "metadata": {},
   "source": [
    "Let's see how many sentences do we have in each learning split$\\dots$"
   ]
  },
  {
   "cell_type": "code",
   "execution_count": 13,
   "metadata": {
    "execution": {
     "iopub.execute_input": "2020-11-25T20:42:02.891494Z",
     "iopub.status.busy": "2020-11-25T20:42:02.891060Z",
     "iopub.status.idle": "2020-11-25T20:42:02.952628Z",
     "shell.execute_reply": "2020-11-25T20:42:02.951414Z",
     "shell.execute_reply.started": "2020-11-25T20:42:02.891450Z"
    }
   },
   "outputs": [
    {
     "data": {
      "text/plain": [
       "train    1963\n",
       "val      1299\n",
       "test      652\n",
       "Name: split, dtype: int64"
      ]
     },
     "execution_count": 13,
     "metadata": {},
     "output_type": "execute_result"
    }
   ],
   "source": [
    "df[\"split\"].value_counts()"
   ]
  },
  {
   "cell_type": "markdown",
   "metadata": {},
   "source": [
    "## Data exploration"
   ]
  },
  {
   "cell_type": "markdown",
   "metadata": {},
   "source": [
    "After extracting the tags and tokens for each sentence of the whole dataset, we may want to observe what their distributions look like (e.g. check the most frequent tags)."
   ]
  },
  {
   "cell_type": "code",
   "execution_count": 14,
   "metadata": {
    "execution": {
     "iopub.execute_input": "2020-11-25T20:42:10.147802Z",
     "iopub.status.busy": "2020-11-25T20:42:10.147269Z",
     "iopub.status.idle": "2020-11-25T20:42:10.224871Z",
     "shell.execute_reply": "2020-11-25T20:42:10.223648Z",
     "shell.execute_reply.started": "2020-11-25T20:42:10.147748Z"
    }
   },
   "outputs": [],
   "source": [
    "def flatten(a):\n",
    "    \"\"\"\n",
    "    Given a multidimensional list, returns its flattened version\n",
    "    \"\"\"\n",
    "    if isinstance(a, (list, tuple, set, range)):\n",
    "        for s in a:\n",
    "            yield from flatten(s)\n",
    "    else:\n",
    "        yield a\n",
    "\n",
    "\n",
    "def get_col(df, col_name, split=None, split_col_name=\"split\"):\n",
    "    \"\"\"\n",
    "    Returns a list obtained by concatenating the lists of each row,\n",
    "    in a specific column of the given DataFrame\n",
    "    \"\"\"\n",
    "    return (\n",
    "        df[df[split_col_name] == split][col_name] if split is not None else df[col_name]\n",
    "    ).tolist()\n",
    "\n",
    "\n",
    "def get_unique(df, col_name, split=None, split_col_name=\"split\"):\n",
    "    \"\"\"\n",
    "    Returns the unique values found in a DataFrame column\n",
    "    composed of lists\n",
    "    \"\"\"\n",
    "    assert isinstance(df.loc[0, col_name], list)\n",
    "    selection = get_col(df, col_name, split=split, split_col_name=split_col_name)\n",
    "    return np.unique(list(flatten(selection)))"
   ]
  },
  {
   "cell_type": "markdown",
   "metadata": {},
   "source": [
    "How many unique tags do we have to deal with?"
   ]
  },
  {
   "cell_type": "code",
   "execution_count": 15,
   "metadata": {
    "execution": {
     "iopub.execute_input": "2020-11-25T20:42:12.807748Z",
     "iopub.status.busy": "2020-11-25T20:42:12.807261Z",
     "iopub.status.idle": "2020-11-25T20:42:13.017485Z",
     "shell.execute_reply": "2020-11-25T20:42:13.016369Z",
     "shell.execute_reply.started": "2020-11-25T20:42:12.807701Z"
    }
   },
   "outputs": [
    {
     "name": "stdout",
     "output_type": "stream",
     "text": [
      "There are 45 unique tags in the dataset\n"
     ]
    }
   ],
   "source": [
    "unique_tags = get_unique(df, \"tags\")\n",
    "print(f\"There are {len(unique_tags)} unique tags in the dataset\")"
   ]
  },
  {
   "cell_type": "markdown",
   "metadata": {},
   "source": [
    "What are the 10 most frequent tags?"
   ]
  },
  {
   "cell_type": "code",
   "execution_count": 18,
   "metadata": {
    "execution": {
     "iopub.execute_input": "2020-11-25T20:44:03.023399Z",
     "iopub.status.busy": "2020-11-25T20:44:03.022921Z",
     "iopub.status.idle": "2020-11-25T20:44:03.367218Z",
     "shell.execute_reply": "2020-11-25T20:44:03.366029Z",
     "shell.execute_reply.started": "2020-11-25T20:44:03.023344Z"
    }
   },
   "outputs": [
    {
     "data": {
      "text/plain": [
       "[('NN', 13166),\n",
       " ('IN', 9857),\n",
       " ('NNP', 9410),\n",
       " ('DT', 8165),\n",
       " ('NNS', 6047),\n",
       " ('JJ', 5834),\n",
       " (',', 4886),\n",
       " ('.', 3874),\n",
       " ('CD', 3546),\n",
       " ('VBD', 3043)]"
      ]
     },
     "execution_count": 18,
     "metadata": {},
     "output_type": "execute_result"
    }
   ],
   "source": [
    "tags_fd = nltk.probability.FreqDist(flatten(whole_tags))\n",
    "tags_fd.most_common(10)"
   ]
  },
  {
   "cell_type": "markdown",
   "metadata": {},
   "source": [
    "What is the distribution of the whole set of tags?"
   ]
  },
  {
   "cell_type": "code",
   "execution_count": 19,
   "metadata": {
    "execution": {
     "iopub.execute_input": "2020-11-25T20:44:11.804779Z",
     "iopub.status.busy": "2020-11-25T20:44:11.804333Z",
     "iopub.status.idle": "2020-11-25T20:44:12.820850Z",
     "shell.execute_reply": "2020-11-25T20:44:12.819551Z",
     "shell.execute_reply.started": "2020-11-25T20:44:11.804735Z"
    }
   },
   "outputs": [
    {
     "data": {
      "image/png": "[encoded data removed]",
      "text/plain": [
       "<Figure size 800x600 with 1 Axes>"
      ]
     },
     "metadata": {},
     "output_type": "display_data"
    }
   ],
   "source": [
    "tags_fd.plot(title=\"Tags distribution\", cumulative=False)\n",
    "plt.show()"
   ]
  },
  {
   "cell_type": "markdown",
   "metadata": {},
   "source": [
    "How many unique tokens does our dataset have?"
   ]
  },
  {
   "cell_type": "code",
   "execution_count": 20,
   "metadata": {
    "execution": {
     "iopub.execute_input": "2020-11-25T20:44:16.530128Z",
     "iopub.status.busy": "2020-11-25T20:44:16.529697Z",
     "iopub.status.idle": "2020-11-25T20:44:16.795539Z",
     "shell.execute_reply": "2020-11-25T20:44:16.794000Z",
     "shell.execute_reply.started": "2020-11-25T20:44:16.530085Z"
    }
   },
   "outputs": [
    {
     "name": "stdout",
     "output_type": "stream",
     "text": [
      "There are 9964 unique tokens in the dataset\n"
     ]
    }
   ],
   "source": [
    "unique_tokens = get_unique(df, \"tokens\")\n",
    "print(f\"There are {len(unique_tokens)} unique tokens in the dataset\")"
   ]
  },
  {
   "cell_type": "markdown",
   "metadata": {},
   "source": [
    "What are the 10 most used tokens?"
   ]
  },
  {
   "cell_type": "code",
   "execution_count": 21,
   "metadata": {
    "execution": {
     "iopub.execute_input": "2020-11-25T20:44:27.915447Z",
     "iopub.status.busy": "2020-11-25T20:44:27.915019Z",
     "iopub.status.idle": "2020-11-25T20:44:28.255655Z",
     "shell.execute_reply": "2020-11-25T20:44:28.254373Z",
     "shell.execute_reply.started": "2020-11-25T20:44:27.915403Z"
    }
   },
   "outputs": [
    {
     "data": {
      "text/plain": [
       "[(',', 4885),\n",
       " ('the', 4764),\n",
       " ('.', 3828),\n",
       " ('<num>', 2471),\n",
       " ('of', 2325),\n",
       " ('to', 2182),\n",
       " ('a', 1988),\n",
       " ('in', 1769),\n",
       " ('and', 1556),\n",
       " (\"'s\", 865)]"
      ]
     },
     "execution_count": 21,
     "metadata": {},
     "output_type": "execute_result"
    }
   ],
   "source": [
    "tokens_fd = nltk.probability.FreqDist(flatten(whole_tokens))\n",
    "tokens_fd.most_common(10)"
   ]
  },
  {
   "cell_type": "markdown",
   "metadata": {},
   "source": [
    "What is the distribution of the top 50 tokens with greatest frequency?"
   ]
  },
  {
   "cell_type": "code",
   "execution_count": 22,
   "metadata": {
    "execution": {
     "iopub.execute_input": "2020-11-25T20:44:33.981850Z",
     "iopub.status.busy": "2020-11-25T20:44:33.981428Z",
     "iopub.status.idle": "2020-11-25T20:44:35.197225Z",
     "shell.execute_reply": "2020-11-25T20:44:35.196066Z",
     "shell.execute_reply.started": "2020-11-25T20:44:33.981807Z"
    }
   },
   "outputs": [
    {
     "data": {
      "image/png": "[encoded data removed]",
      "text/plain": [
       "<Figure size 800x600 with 1 Axes>"
      ]
     },
     "metadata": {},
     "output_type": "display_data"
    }
   ],
   "source": [
    "tokens_fd.plot(50, title=\"Tokens distribution\", cumulative=False)\n",
    "plt.show()"
   ]
  },
  {
   "cell_type": "markdown",
   "metadata": {},
   "source": [
    "## Vocabularies"
   ]
  },
  {
   "cell_type": "markdown",
   "metadata": {},
   "source": [
    "The first thing that we have to do is to build two vocabularies, one for tokens and one for tags. The important things about the vocabulary building procedure are mainly two:\n",
    "1. It must be a deterministic method, i.e. it must output the same result when given the same input\n",
    "2. The first index of the produced vocabulary (i.e. index zero), must contain the padding token, which will be used at training time to pad sequences in the same batch to be of the same lenght"
   ]
  },
  {
   "cell_type": "code",
   "execution_count": 23,
   "metadata": {
    "execution": {
     "iopub.execute_input": "2020-11-25T20:44:57.106229Z",
     "iopub.status.busy": "2020-11-25T20:44:57.105806Z",
     "iopub.status.idle": "2020-11-25T20:44:57.162929Z",
     "shell.execute_reply": "2020-11-25T20:44:57.161610Z",
     "shell.execute_reply.started": "2020-11-25T20:44:57.106185Z"
    }
   },
   "outputs": [],
   "source": [
    "Vocabulary = namedtuple(\n",
    "    \"Vocabulary\", [\"to_string\", \"from_string\", \"string\"]\n",
    ")"
   ]
  },
  {
   "cell_type": "code",
   "execution_count": 24,
   "metadata": {
    "execution": {
     "iopub.execute_input": "2020-11-25T20:45:01.807962Z",
     "iopub.status.busy": "2020-11-25T20:45:01.807450Z",
     "iopub.status.idle": "2020-11-25T20:45:01.871906Z",
     "shell.execute_reply": "2020-11-25T20:45:01.870638Z",
     "shell.execute_reply.started": "2020-11-25T20:45:01.807913Z"
    }
   },
   "outputs": [],
   "source": [
    "def build_vocabulary(tokens, padding_token=\"0\"):\n",
    "    \"\"\"\n",
    "    Given a list of strings, builds the corresponding Vocabulary object\n",
    "    \"\"\"\n",
    "    assert padding_token not in tokens\n",
    "    words = sorted(set(tokens))\n",
    "    vocabulary, inverse_vocabulary, neighbors = dict(), dict(), dict()\n",
    "    vocabulary[0] = str(padding_token)\n",
    "    inverse_vocabulary[str(padding_token)] = 0\n",
    "    for i, w in tqdm(enumerate(words)):\n",
    "        vocabulary[i + 1] = w\n",
    "        inverse_vocabulary[w] = i + 1\n",
    "    return Vocabulary(\n",
    "        to_string=vocabulary,\n",
    "        from_string=inverse_vocabulary,\n",
    "        string=[padding_token] + words,\n",
    "    )"
   ]
  },
  {
   "cell_type": "markdown",
   "metadata": {},
   "source": [
    "Since we want to use the same padding token for both words and tags, we have to check that this token does not appear in our unique lists of tokens and tags$\\dots$ "
   ]
  },
  {
   "cell_type": "code",
   "execution_count": 25,
   "metadata": {
    "execution": {
     "iopub.execute_input": "2020-11-25T20:45:10.531758Z",
     "iopub.status.busy": "2020-11-25T20:45:10.531322Z",
     "iopub.status.idle": "2020-11-25T20:45:10.590342Z",
     "shell.execute_reply": "2020-11-25T20:45:10.589181Z",
     "shell.execute_reply.started": "2020-11-25T20:45:10.531715Z"
    }
   },
   "outputs": [
    {
     "name": "stdout",
     "output_type": "stream",
     "text": [
      "Is the padding token in one of the two unique lists of tokens or tags? False\n"
     ]
    }
   ],
   "source": [
    "PADDING_TOKEN = \"0\"\n",
    "is_token = PADDING_TOKEN in unique_tokens\n",
    "is_tag = PADDING_TOKEN in unique_tags\n",
    "print(\n",
    "    f\"Is the padding token in one of the two unique lists of tokens or tags? {is_token or is_tag}\"\n",
    ")"
   ]
  },
  {
   "cell_type": "markdown",
   "metadata": {
    "execution": {
     "iopub.execute_input": "2020-11-19T16:04:26.187257Z",
     "iopub.status.busy": "2020-11-19T16:04:26.186838Z",
     "iopub.status.idle": "2020-11-19T16:04:26.246467Z",
     "shell.execute_reply": "2020-11-19T16:04:26.245026Z",
     "shell.execute_reply.started": "2020-11-19T16:04:26.187213Z"
    }
   },
   "source": [
    "We will use the padding token `\"0\"`, since it fulfills our requirements. \n",
    "\n",
    "**Note**: We are cheating a little bit, since we are allowing ourselves to have a look at the entire dataset to use a single padding token, which is something wrong, but convenient in this specific case."
   ]
  },
  {
   "cell_type": "code",
   "execution_count": 26,
   "metadata": {
    "execution": {
     "iopub.execute_input": "2020-11-25T20:45:26.530568Z",
     "iopub.status.busy": "2020-11-25T20:45:26.530155Z",
     "iopub.status.idle": "2020-11-25T20:45:26.725775Z",
     "shell.execute_reply": "2020-11-25T20:45:26.724637Z",
     "shell.execute_reply.started": "2020-11-25T20:45:26.530525Z"
    }
   },
   "outputs": [
    {
     "data": {
      "application/vnd.jupyter.widget-view+json": {
       "model_id": "cf1cfa7372044622b7ed28199a9aa19e",
       "version_major": 2,
       "version_minor": 0
      },
      "text/plain": [
       "HBox(children=(HTML(value=''), FloatProgress(value=1.0, bar_style='info', layout=Layout(width='20px'), max=1.0…"
      ]
     },
     "metadata": {},
     "output_type": "display_data"
    },
    {
     "name": "stdout",
     "output_type": "stream",
     "text": [
      "\n"
     ]
    },
    {
     "data": {
      "application/vnd.jupyter.widget-view+json": {
       "model_id": "f189107c7267452781cbc560ccaed56d",
       "version_major": 2,
       "version_minor": 0
      },
      "text/plain": [
       "HBox(children=(HTML(value=''), FloatProgress(value=1.0, bar_style='info', layout=Layout(width='20px'), max=1.0…"
      ]
     },
     "metadata": {},
     "output_type": "display_data"
    },
    {
     "name": "stdout",
     "output_type": "stream",
     "text": [
      "\n"
     ]
    }
   ],
   "source": [
    "tokens_vocabulary = build_vocabulary(unique_tokens, padding_token=PADDING_TOKEN)\n",
    "tags_vocabulary = build_vocabulary(unique_tags, padding_token=PADDING_TOKEN)"
   ]
  },
  {
   "cell_type": "markdown",
   "metadata": {},
   "source": [
    "Let's check the vocabulary to see what it looks like$\\dots$"
   ]
  },
  {
   "cell_type": "code",
   "execution_count": 27,
   "metadata": {
    "execution": {
     "iopub.execute_input": "2020-11-25T20:46:24.639221Z",
     "iopub.status.busy": "2020-11-25T20:46:24.638801Z",
     "iopub.status.idle": "2020-11-25T20:46:24.704153Z",
     "shell.execute_reply": "2020-11-25T20:46:24.703013Z",
     "shell.execute_reply.started": "2020-11-25T20:46:24.639178Z"
    }
   },
   "outputs": [
    {
     "data": {
      "text/plain": [
       "[(0, '0'),\n",
       " (1, '!'),\n",
       " (2, '#'),\n",
       " (3, '$'),\n",
       " (4, '%'),\n",
       " (5, '&'),\n",
       " (6, \"'\"),\n",
       " (7, \"''\"),\n",
       " (8, \"'30s\"),\n",
       " (9, \"'40s\")]"
      ]
     },
     "execution_count": 27,
     "metadata": {},
     "output_type": "execute_result"
    }
   ],
   "source": [
    "list(tokens_vocabulary.to_string.items())[:10]"
   ]
  },
  {
   "cell_type": "code",
   "execution_count": 28,
   "metadata": {
    "execution": {
     "iopub.execute_input": "2020-11-25T20:46:25.693621Z",
     "iopub.status.busy": "2020-11-25T20:46:25.693301Z",
     "iopub.status.idle": "2020-11-25T20:46:25.751844Z",
     "shell.execute_reply": "2020-11-25T20:46:25.750668Z",
     "shell.execute_reply.started": "2020-11-25T20:46:25.693581Z"
    }
   },
   "outputs": [
    {
     "data": {
      "text/plain": [
       "[(0, '0'),\n",
       " (1, '#'),\n",
       " (2, '$'),\n",
       " (3, \"''\"),\n",
       " (4, ','),\n",
       " (5, '-LRB-'),\n",
       " (6, '-RRB-'),\n",
       " (7, '.'),\n",
       " (8, ':'),\n",
       " (9, 'CC')]"
      ]
     },
     "execution_count": 28,
     "metadata": {},
     "output_type": "execute_result"
    }
   ],
   "source": [
    "list(tags_vocabulary.to_string.items())[:10]"
   ]
  },
  {
   "cell_type": "markdown",
   "metadata": {},
   "source": [
    "Finally, we can update our DataFrame by adding the following columns:\n",
    "- `indexed_tokens`: the list of indexes of each word in the sentence, taken from the previously built words vocabulary\n",
    "- `indexed_tags`: the list of indexes of each tag in the sentence, taken from the previously built tags vocabulary"
   ]
  },
  {
   "cell_type": "code",
   "execution_count": 29,
   "metadata": {
    "execution": {
     "iopub.execute_input": "2020-11-25T20:46:39.890728Z",
     "iopub.status.busy": "2020-11-25T20:46:39.890309Z",
     "iopub.status.idle": "2020-11-25T20:46:40.057239Z",
     "shell.execute_reply": "2020-11-25T20:46:40.055976Z",
     "shell.execute_reply.started": "2020-11-25T20:46:39.890684Z"
    }
   },
   "outputs": [
    {
     "data": {
      "text/html": [
       "<div>\n",
       "<style scoped>\n",
       "    .dataframe tbody tr th:only-of-type {\n",
       "        vertical-align: middle;\n",
       "    }\n",
       "\n",
       "    .dataframe tbody tr th {\n",
       "        vertical-align: top;\n",
       "    }\n",
       "\n",
       "    .dataframe thead th {\n",
       "        text-align: right;\n",
       "    }\n",
       "</style>\n",
       "<table border=\"1\" class=\"dataframe\">\n",
       "  <thead>\n",
       "    <tr style=\"text-align: right;\">\n",
       "      <th></th>\n",
       "      <th>tokens</th>\n",
       "      <th>tags</th>\n",
       "      <th>split</th>\n",
       "      <th>fileid</th>\n",
       "      <th>indexed_tokens</th>\n",
       "      <th>indexed_tags</th>\n",
       "    </tr>\n",
       "  </thead>\n",
       "  <tbody>\n",
       "    <tr>\n",
       "      <th>0</th>\n",
       "      <td>[pierre, vinken, ,, &lt;num&gt;, years, old, ,, will...</td>\n",
       "      <td>[NNP, NNP, ,, CD, NNS, JJ, ,, MD, VB, DT, NN, ...</td>\n",
       "      <td>train</td>\n",
       "      <td>wsj_0001.dp</td>\n",
       "      <td>[6562, 9557, 20, 40, 9919, 6130, 20, 9793, 474...</td>\n",
       "      <td>[21, 21, 4, 10, 23, 15, 4, 19, 35, 11, 20, 14,...</td>\n",
       "    </tr>\n",
       "    <tr>\n",
       "      <th>1</th>\n",
       "      <td>[mr., vinken, is, chairman, of, elsevier, n.v....</td>\n",
       "      <td>[NNP, NNP, VBZ, NN, IN, NNP, NNP, ,, DT, NNP, ...</td>\n",
       "      <td>train</td>\n",
       "      <td>wsj_0001.dp</td>\n",
       "      <td>[5755, 9557, 4676, 1462, 6095, 2953, 5808, 20,...</td>\n",
       "      <td>[21, 21, 40, 20, 14, 21, 21, 4, 11, 21, 37, 20...</td>\n",
       "    </tr>\n",
       "    <tr>\n",
       "      <th>2</th>\n",
       "      <td>[rudolph, agnew, ,, &lt;num&gt;, years, old, and, fo...</td>\n",
       "      <td>[NNP, NNP, ,, CD, NNS, JJ, CC, JJ, NN, IN, NNP...</td>\n",
       "      <td>train</td>\n",
       "      <td>wsj_0002.dp</td>\n",
       "      <td>[7695, 256, 20, 40, 9919, 6130, 394, 3607, 146...</td>\n",
       "      <td>[21, 21, 4, 10, 23, 15, 9, 15, 20, 14, 21, 21,...</td>\n",
       "    </tr>\n",
       "    <tr>\n",
       "      <th>3</th>\n",
       "      <td>[a, form, of, asbestos, once, used, to, make, ...</td>\n",
       "      <td>[DT, NN, IN, NN, RB, VBN, TO, VB, NNP, NN, NNS...</td>\n",
       "      <td>train</td>\n",
       "      <td>wsj_0003.dp</td>\n",
       "      <td>[45, 3601, 6095, 570, 6146, 9453, 9063, 5302, ...</td>\n",
       "      <td>[11, 20, 14, 20, 28, 38, 33, 35, 21, 20, 23, 4...</td>\n",
       "    </tr>\n",
       "    <tr>\n",
       "      <th>4</th>\n",
       "      <td>[the, asbestos, fiber, ,, crocidolite, ,, is, ...</td>\n",
       "      <td>[DT, NN, NN, ,, NN, ,, VBZ, RB, JJ, IN, PRP, V...</td>\n",
       "      <td>train</td>\n",
       "      <td>wsj_0003.dp</td>\n",
       "      <td>[8966, 570, 3437, 20, 2159, 20, 4676, 9420, 74...</td>\n",
       "      <td>[11, 20, 20, 4, 20, 4, 40, 28, 15, 14, 26, 40,...</td>\n",
       "    </tr>\n",
       "  </tbody>\n",
       "</table>\n",
       "</div>"
      ],
      "text/plain": [
       "                                              tokens  \\\n",
       "0  [pierre, vinken, ,, <num>, years, old, ,, will...   \n",
       "1  [mr., vinken, is, chairman, of, elsevier, n.v....   \n",
       "2  [rudolph, agnew, ,, <num>, years, old, and, fo...   \n",
       "3  [a, form, of, asbestos, once, used, to, make, ...   \n",
       "4  [the, asbestos, fiber, ,, crocidolite, ,, is, ...   \n",
       "\n",
       "                                                tags  split       fileid  \\\n",
       "0  [NNP, NNP, ,, CD, NNS, JJ, ,, MD, VB, DT, NN, ...  train  wsj_0001.dp   \n",
       "1  [NNP, NNP, VBZ, NN, IN, NNP, NNP, ,, DT, NNP, ...  train  wsj_0001.dp   \n",
       "2  [NNP, NNP, ,, CD, NNS, JJ, CC, JJ, NN, IN, NNP...  train  wsj_0002.dp   \n",
       "3  [DT, NN, IN, NN, RB, VBN, TO, VB, NNP, NN, NNS...  train  wsj_0003.dp   \n",
       "4  [DT, NN, NN, ,, NN, ,, VBZ, RB, JJ, IN, PRP, V...  train  wsj_0003.dp   \n",
       "\n",
       "                                      indexed_tokens  \\\n",
       "0  [6562, 9557, 20, 40, 9919, 6130, 20, 9793, 474...   \n",
       "1  [5755, 9557, 4676, 1462, 6095, 2953, 5808, 20,...   \n",
       "2  [7695, 256, 20, 40, 9919, 6130, 394, 3607, 146...   \n",
       "3  [45, 3601, 6095, 570, 6146, 9453, 9063, 5302, ...   \n",
       "4  [8966, 570, 3437, 20, 2159, 20, 4676, 9420, 74...   \n",
       "\n",
       "                                        indexed_tags  \n",
       "0  [21, 21, 4, 10, 23, 15, 4, 19, 35, 11, 20, 14,...  \n",
       "1  [21, 21, 40, 20, 14, 21, 21, 4, 11, 21, 37, 20...  \n",
       "2  [21, 21, 4, 10, 23, 15, 9, 15, 20, 14, 21, 21,...  \n",
       "3  [11, 20, 14, 20, 28, 38, 33, 35, 21, 20, 23, 4...  \n",
       "4  [11, 20, 20, 4, 20, 4, 40, 28, 15, 14, 26, 40,...  "
      ]
     },
     "execution_count": 29,
     "metadata": {},
     "output_type": "execute_result"
    }
   ],
   "source": [
    "def to_indexes(values, to_index):\n",
    "    \"\"\"\n",
    "    Given a list of keys and a dictionary indexed by those keys,\n",
    "    return the corresponding values in the dictionary\n",
    "    \"\"\"\n",
    "    return [to_index[v] for v in values]\n",
    "\n",
    "\n",
    "df[\"indexed_tokens\"] = list(\n",
    "    map(lambda s: to_indexes(s, tokens_vocabulary.from_string), whole_sentences_tokens,)\n",
    ")\n",
    "df[\"indexed_tags\"] = list(\n",
    "    map(lambda s: to_indexes(s, tags_vocabulary.from_string), whole_sentences_tags,)\n",
    ")\n",
    "df.head()"
   ]
  },
  {
   "cell_type": "markdown",
   "metadata": {},
   "source": [
    "## Dataset and DataLoader"
   ]
  },
  {
   "cell_type": "markdown",
   "metadata": {},
   "source": [
    "In order to correctly work with batches and sequences of different lenght inside of each batch, we need to exploit the objects made available by PyTorch. In particular, we need to wrap our `DataFrame` inside a custom `Dataset` subclass, which will be used later as an input for a `DataLoader` object, that will automatically handle the generation of batches from our examples. "
   ]
  },
  {
   "cell_type": "code",
   "execution_count": 30,
   "metadata": {
    "execution": {
     "iopub.execute_input": "2020-11-25T20:46:58.764242Z",
     "iopub.status.busy": "2020-11-25T20:46:58.763820Z",
     "iopub.status.idle": "2020-11-25T20:46:58.823725Z",
     "shell.execute_reply": "2020-11-25T20:46:58.822489Z",
     "shell.execute_reply.started": "2020-11-25T20:46:58.764198Z"
    }
   },
   "outputs": [],
   "source": [
    "class DependencyTreebankDataset(Dataset):\n",
    "    \"\"\"\n",
    "    Dependency treebank dataset for POS tagging\n",
    "    \"\"\"\n",
    "\n",
    "    def __init__(self, df):\n",
    "        self.df = df.copy()\n",
    "        self.df = self.df.reset_index(drop=True)\n",
    "\n",
    "    def __len__(self):\n",
    "        return self.df.shape[0]\n",
    "\n",
    "    def __getitem__(self, index):\n",
    "        assert isinstance(index, int)\n",
    "        tokens = self.df.loc[index, \"indexed_tokens\"]\n",
    "        tags = self.df.loc[index, \"indexed_tags\"]\n",
    "        return tokens, tags"
   ]
  },
  {
   "cell_type": "markdown",
   "metadata": {},
   "source": [
    "We will build and store three different `Dataset` objects, based on the split parameter of the previously built DataFrame, which will be used in different stages of the learning process, i.e. training, validation and testing."
   ]
  },
  {
   "cell_type": "code",
   "execution_count": 31,
   "metadata": {
    "execution": {
     "iopub.execute_input": "2020-11-25T20:47:05.532018Z",
     "iopub.status.busy": "2020-11-25T20:47:05.531554Z",
     "iopub.status.idle": "2020-11-25T20:47:05.594864Z",
     "shell.execute_reply": "2020-11-25T20:47:05.593779Z",
     "shell.execute_reply.started": "2020-11-25T20:47:05.531974Z"
    }
   },
   "outputs": [],
   "source": [
    "train_dataset = DependencyTreebankDataset(df[df[\"split\"] == \"train\"])\n",
    "val_dataset = DependencyTreebankDataset(df[df[\"split\"] == \"val\"])\n",
    "test_dataset = DependencyTreebankDataset(df[df[\"split\"] == \"test\"])"
   ]
  },
  {
   "cell_type": "markdown",
   "metadata": {},
   "source": [
    "Let's see if our `Dataset` building process worked out nicely, by checking the first example in the training dataset$\\dots$"
   ]
  },
  {
   "cell_type": "code",
   "execution_count": 32,
   "metadata": {
    "execution": {
     "iopub.execute_input": "2020-11-25T20:47:09.127190Z",
     "iopub.status.busy": "2020-11-25T20:47:09.126781Z",
     "iopub.status.idle": "2020-11-25T20:47:09.183888Z",
     "shell.execute_reply": "2020-11-25T20:47:09.182727Z",
     "shell.execute_reply.started": "2020-11-25T20:47:09.127147Z"
    }
   },
   "outputs": [
    {
     "name": "stdout",
     "output_type": "stream",
     "text": [
      "([6562, 9557, 20, 40, 9919, 6130, 20, 9793, 4749, 8966, 1013, 568, 45, 5988, 2554, 6028, 40, 27], [21, 21, 4, 10, 23, 15, 4, 19, 35, 11, 20, 14, 11, 15, 20, 21, 10, 7])\n"
     ]
    }
   ],
   "source": [
    "print(train_dataset[0])"
   ]
  },
  {
   "cell_type": "markdown",
   "metadata": {},
   "source": [
    "As already mentioned, the `DataLoader` object will be used to automatically handle the generation of batches (with the specified batch size) from the entire list of examples$\\dots$ \n",
    "\n",
    "Another important aspect of `DataLoader`s is that they enable us to pad sequences in the same batch to be of the same lenght (i.e. the lenght of the longest sequence in the batch), by using the previously defined padding token. To do so, we leverage PyTorch's `pad_sequence` function."
   ]
  },
  {
   "cell_type": "code",
   "execution_count": 33,
   "metadata": {
    "execution": {
     "iopub.execute_input": "2020-11-25T20:47:30.536587Z",
     "iopub.status.busy": "2020-11-25T20:47:30.536171Z",
     "iopub.status.idle": "2020-11-25T20:47:30.596545Z",
     "shell.execute_reply": "2020-11-25T20:47:30.595282Z",
     "shell.execute_reply.started": "2020-11-25T20:47:30.536543Z"
    }
   },
   "outputs": [],
   "source": [
    "def pad_batch(batch, padding_token=\"0\"):\n",
    "    \"\"\"\n",
    "    This function expects to receive a list of tuples (i.e. a batch),\n",
    "    s.t. each tuple contains tokens and tags for one sentence in the batch\n",
    "    and returns the same sequences padded with the padding token\n",
    "    \"\"\"\n",
    "    (tokens, tags) = zip(*batch)\n",
    "    tokens_lenghts = [len(x) for x in tokens]\n",
    "    tags_lenghts = [len(y) for y in tags]\n",
    "    padded_tokens = pad_sequence(\n",
    "        [torch.tensor(t) for t in tokens],\n",
    "        batch_first=True,\n",
    "        padding_value=int(padding_token),\n",
    "    )\n",
    "    padded_tags = pad_sequence(\n",
    "        [torch.tensor(t) for t in tags],\n",
    "        batch_first=True,\n",
    "        padding_value=int(padding_token),\n",
    "    )\n",
    "    return padded_tokens, padded_tags, tokens_lenghts, tags_lenghts"
   ]
  },
  {
   "cell_type": "markdown",
   "metadata": {},
   "source": [
    "Below we are setting the `batch_size` hyperparameter to a fixed value, shared between every instance of our `DataLoader` objects. We can experiment with this value a little bit, but we don't want it to be neither too small (since small batches are noisy) nor too big (since it is constrained by the minimum size of the three splits)."
   ]
  },
  {
   "cell_type": "code",
   "execution_count": 34,
   "metadata": {
    "execution": {
     "iopub.execute_input": "2020-11-25T20:47:40.863157Z",
     "iopub.status.busy": "2020-11-25T20:47:40.862736Z",
     "iopub.status.idle": "2020-11-25T20:47:40.918372Z",
     "shell.execute_reply": "2020-11-25T20:47:40.917332Z",
     "shell.execute_reply.started": "2020-11-25T20:47:40.863113Z"
    }
   },
   "outputs": [],
   "source": [
    "BATCH_SIZE = 8"
   ]
  },
  {
   "cell_type": "code",
   "execution_count": 35,
   "metadata": {
    "execution": {
     "iopub.execute_input": "2020-11-25T20:47:42.983153Z",
     "iopub.status.busy": "2020-11-25T20:47:42.982717Z",
     "iopub.status.idle": "2020-11-25T20:47:43.041870Z",
     "shell.execute_reply": "2020-11-25T20:47:43.040644Z",
     "shell.execute_reply.started": "2020-11-25T20:47:42.983109Z"
    }
   },
   "outputs": [],
   "source": [
    "default_dataloader = partial(\n",
    "    DataLoader,\n",
    "    batch_size=BATCH_SIZE,\n",
    "    shuffle=False,\n",
    "    collate_fn=partial(pad_batch, padding_token=PADDING_TOKEN),\n",
    "    pin_memory=True,\n",
    ")"
   ]
  },
  {
   "cell_type": "markdown",
   "metadata": {},
   "source": [
    "As we did with the `Dataset` wrapper, we will store three different `DataLoader` objects, one for each learning stage."
   ]
  },
  {
   "cell_type": "code",
   "execution_count": 36,
   "metadata": {
    "execution": {
     "iopub.execute_input": "2020-11-25T20:47:47.568153Z",
     "iopub.status.busy": "2020-11-25T20:47:47.567700Z",
     "iopub.status.idle": "2020-11-25T20:47:47.626198Z",
     "shell.execute_reply": "2020-11-25T20:47:47.625091Z",
     "shell.execute_reply.started": "2020-11-25T20:47:47.568110Z"
    }
   },
   "outputs": [],
   "source": [
    "train_dataloader = default_dataloader(train_dataset)\n",
    "val_dataloader = default_dataloader(val_dataset)\n",
    "test_dataloader = default_dataloader(test_dataset)"
   ]
  },
  {
   "cell_type": "markdown",
   "metadata": {},
   "source": [
    "## Word embeddings"
   ]
  },
  {
   "cell_type": "markdown",
   "metadata": {},
   "source": [
    "The way we represent words in sequence labeling models is still using word embeddings, exploiting methods like `Word2vec` or `GloVe`. In this whole notebook, we will leverage `GloVe` pre-trained embeddings with a fixed dimensionality (e.g. `50`), as given by the `Gensim` library. \n",
    "\n",
    "Because of this, we need to build our embedding matrix, i.e. a matrix $E$ of size $w\\times d$, where $w$ is the number of unique words in our dataset and $d$ is the dimensionality of word embeddings (in our example $d=50$). In order to correctly build the embedding matrix, we need a way to handle OOV (Out Of Vocabulary) words, i.e. words that appear in our dataset but not on the dataset on which the embeddings were trained on. We will try different OOV handling methods:\n",
    "- `uniform`: the OOV word vector is sampled from a uniform distribution in a specific range (e.g. $[-1,1]$)\n",
    "- `normal`: the OOV word vector is sampled from a normal distribution (i.e. a Gaussian with $\\mu=0$ and $\\sigma=1$)\n",
    "- `mean`: the OOV word vector is taken as the average of the not OOV word vectors represented by neighbors of the analyzed word (e.g. considering a window size of $1$)\n",
    "\n",
    "Another great OOV method would be to estimate the OOV word vector by a recurrent model, using subword information (i.e. using characters as inputs instead of words).\n",
    "\n",
    "Moreover, we also zero-out the word vector associated with the padding token."
   ]
  },
  {
   "cell_type": "code",
   "execution_count": 37,
   "metadata": {
    "execution": {
     "iopub.execute_input": "2020-11-25T20:49:13.663705Z",
     "iopub.status.busy": "2020-11-25T20:49:13.663255Z",
     "iopub.status.idle": "2020-11-25T20:49:13.718835Z",
     "shell.execute_reply": "2020-11-25T20:49:13.717663Z",
     "shell.execute_reply.started": "2020-11-25T20:49:13.663661Z"
    }
   },
   "outputs": [],
   "source": [
    "EMBEDDING_DIMENSION = 300"
   ]
  },
  {
   "cell_type": "code",
   "execution_count": 38,
   "metadata": {
    "execution": {
     "iopub.execute_input": "2020-11-25T20:49:14.551086Z",
     "iopub.status.busy": "2020-11-25T20:49:14.550704Z",
     "iopub.status.idle": "2020-11-25T20:53:19.786227Z",
     "shell.execute_reply": "2020-11-25T20:53:19.784396Z",
     "shell.execute_reply.started": "2020-11-25T20:49:14.551033Z"
    }
   },
   "outputs": [],
   "source": [
    "embedding_model = utils.load_embedding_model(\n",
    "    \"glove\", embedding_dimension=EMBEDDING_DIMENSION\n",
    ")"
   ]
  },
  {
   "cell_type": "markdown",
   "metadata": {},
   "source": [
    "So, first of all, let's check the number of OOV words for each split (i.e. training, validation and test)$\\dots$"
   ]
  },
  {
   "cell_type": "code",
   "execution_count": 184,
   "metadata": {
    "execution": {
     "iopub.execute_input": "2020-11-25T22:06:59.102876Z",
     "iopub.status.busy": "2020-11-25T22:06:59.102071Z",
     "iopub.status.idle": "2020-11-25T22:06:59.172035Z",
     "shell.execute_reply": "2020-11-25T22:06:59.170465Z",
     "shell.execute_reply.started": "2020-11-25T22:06:59.102813Z"
    }
   },
   "outputs": [],
   "source": [
    "def check_oov_terms(embedding_model, word_listing):\n",
    "    \"\"\"\n",
    "    Checks differences between pre-trained embedding model vocabulary\n",
    "    and dataset specific vocabulary in order to highlight out-of-vocabulary terms\n",
    "    \"\"\"\n",
    "    oov_terms = set()\n",
    "    for word in word_listing:\n",
    "        if word not in embedding_model.vocab:\n",
    "            oov_terms.add(word)\n",
    "    return oov_terms"
   ]
  },
  {
   "cell_type": "markdown",
   "metadata": {},
   "source": [
    "We have to once again store the unique tokens associated to each different split$\\dots$"
   ]
  },
  {
   "cell_type": "code",
   "execution_count": 185,
   "metadata": {
    "execution": {
     "iopub.execute_input": "2020-11-25T22:07:00.538477Z",
     "iopub.status.busy": "2020-11-25T22:07:00.537886Z",
     "iopub.status.idle": "2020-11-25T22:07:00.791239Z",
     "shell.execute_reply": "2020-11-25T22:07:00.790034Z",
     "shell.execute_reply.started": "2020-11-25T22:07:00.538436Z"
    }
   },
   "outputs": [],
   "source": [
    "get_unique_tokens = partial(get_unique, df, \"tokens\", split_col_name=\"split\")\n",
    "unique_train_tokens = get_unique_tokens(split=\"train\")\n",
    "unique_val_tokens = get_unique_tokens(split=\"val\")\n",
    "unique_test_tokens = get_unique_tokens(split=\"test\")"
   ]
  },
  {
   "cell_type": "code",
   "execution_count": 186,
   "metadata": {
    "execution": {
     "iopub.execute_input": "2020-11-25T22:07:02.168364Z",
     "iopub.status.busy": "2020-11-25T22:07:02.167718Z",
     "iopub.status.idle": "2020-11-25T22:07:02.226996Z",
     "shell.execute_reply": "2020-11-25T22:07:02.225984Z",
     "shell.execute_reply.started": "2020-11-25T22:07:02.168322Z"
    }
   },
   "outputs": [
    {
     "name": "stdout",
     "output_type": "stream",
     "text": [
      "There are 6930 unique tokens in the training set\n",
      "There are 4990 unique tokens in the validation set\n",
      "There are 3043 unique tokens in the test set\n"
     ]
    }
   ],
   "source": [
    "print(f\"There are {len(unique_train_tokens)} unique tokens in the training set\")\n",
    "print(f\"There are {len(unique_val_tokens)} unique tokens in the validation set\")\n",
    "print(f\"There are {len(unique_test_tokens)} unique tokens in the test set\")"
   ]
  },
  {
   "cell_type": "markdown",
   "metadata": {
    "execution": {
     "iopub.execute_input": "2020-11-19T16:40:38.729333Z",
     "iopub.status.busy": "2020-11-19T16:40:38.728903Z",
     "iopub.status.idle": "2020-11-19T16:40:38.788404Z",
     "shell.execute_reply": "2020-11-19T16:40:38.786877Z",
     "shell.execute_reply.started": "2020-11-19T16:40:38.729288Z"
    }
   },
   "source": [
    "And now we can finally see the percentage of OOV words in each split w.r.t. our embedding model."
   ]
  },
  {
   "cell_type": "code",
   "execution_count": 187,
   "metadata": {
    "execution": {
     "iopub.execute_input": "2020-11-25T22:07:37.762580Z",
     "iopub.status.busy": "2020-11-25T22:07:37.761820Z",
     "iopub.status.idle": "2020-11-25T22:07:37.880678Z",
     "shell.execute_reply": "2020-11-25T22:07:37.879650Z",
     "shell.execute_reply.started": "2020-11-25T22:07:37.762536Z"
    }
   },
   "outputs": [
    {
     "name": "stdout",
     "output_type": "stream",
     "text": [
      "Total training OOV terms: 295 (0.04%)\n",
      "Total validation OOV terms: 141 (0.03%)\n",
      "Total testing OOV terms: 72 (0.02%)\n"
     ]
    }
   ],
   "source": [
    "train_oov_terms = check_oov_terms(embedding_model, unique_train_tokens)\n",
    "val_oov_terms = check_oov_terms(embedding_model, unique_val_tokens)\n",
    "test_oov_terms = check_oov_terms(embedding_model, unique_test_tokens)\n",
    "seq_val_oov_terms = val_oov_terms - train_oov_terms\n",
    "seq_test_oov_terms = test_oov_terms - train_oov_terms - val_oov_terms\n",
    "print(\n",
    "    f\"Total training OOV terms: {len(train_oov_terms)} ({round(len(train_oov_terms) / len(unique_train_tokens), 2)}%)\"\n",
    ")\n",
    "print(\n",
    "    f\"Total validation OOV terms: {len(seq_val_oov_terms)} ({round(len(seq_val_oov_terms) / len(unique_val_tokens), 2)}%)\"\n",
    ")\n",
    "print(\n",
    "    f\"Total testing OOV terms: {len(seq_test_oov_terms)} ({round(len(seq_test_oov_terms) / len(unique_test_tokens), 2)}%)\"\n",
    ")"
   ]
  },
  {
   "cell_type": "markdown",
   "metadata": {},
   "source": [
    "Fortunately, OOV words are not that many, so that even associating a random word vector to those tokens shouldn't have a big impact on our extrinsic evaluation.\n",
    "\n",
    "Note that the way we compute OOV words is sequential, i.e. an OOV word in the training set is not considered OOV anymore neither in the validation split nor in the test one (and the same consideration can be applied for an OOV word in the validation split, which is not OOV anymore in the test split, since its embedding has been already computed)."
   ]
  },
  {
   "cell_type": "markdown",
   "metadata": {},
   "source": [
    "Anyway, since we want to use the `mean` method for building embedding matrices, we need to compute a separate list of neighbors for each token in each split of the data (to simulate a co-occurrence matrix)$\\dots$"
   ]
  },
  {
   "cell_type": "code",
   "execution_count": 188,
   "metadata": {
    "execution": {
     "iopub.execute_input": "2020-11-25T22:07:42.160085Z",
     "iopub.status.busy": "2020-11-25T22:07:42.159288Z",
     "iopub.status.idle": "2020-11-25T22:07:42.231803Z",
     "shell.execute_reply": "2020-11-25T22:07:42.230206Z",
     "shell.execute_reply.started": "2020-11-25T22:07:42.160030Z"
    }
   },
   "outputs": [],
   "source": [
    "def build_neighbors(tokens, sentences, vocabulary, window_size=1, padding_token=\"0\"):\n",
    "    \"\"\"\n",
    "    Build a list of neighbors for each token, where neighbors are searched\n",
    "    in the given document list.\n",
    "    It returns a dictionary, indexed by the index of each token in the given\n",
    "    vocabulary, where the value is a list of indexes representing neighbors\n",
    "    \"\"\"\n",
    "    assert isinstance(vocabulary, Vocabulary)\n",
    "    neighbors = {vocabulary.from_string[padding_token]: []}\n",
    "    for sentence in tqdm(sentences):\n",
    "        for i, central_word in enumerate(sentence):\n",
    "            central_word_index = vocabulary.from_string[central_word]\n",
    "            context = (\n",
    "                sentence[max(0, i - window_size) : i]\n",
    "                + sentence[i + 1 : min(i + window_size + 1, len(sentence))]\n",
    "            )\n",
    "            for context_word in context:\n",
    "                context_word_index = vocabulary.from_string[context_word]\n",
    "                neighbors.setdefault(central_word_index, []).append(context_word_index)\n",
    "    return neighbors"
   ]
  },
  {
   "cell_type": "markdown",
   "metadata": {
    "execution": {
     "iopub.execute_input": "2020-11-19T17:26:39.429323Z",
     "iopub.status.busy": "2020-11-19T17:26:39.428904Z",
     "iopub.status.idle": "2020-11-19T17:26:39.487768Z",
     "shell.execute_reply": "2020-11-19T17:26:39.486193Z",
     "shell.execute_reply.started": "2020-11-19T17:26:39.429279Z"
    }
   },
   "source": [
    "We have to once again store the sentences associated to each different split$\\dots$"
   ]
  },
  {
   "cell_type": "code",
   "execution_count": 189,
   "metadata": {
    "execution": {
     "iopub.execute_input": "2020-11-25T22:07:43.814435Z",
     "iopub.status.busy": "2020-11-25T22:07:43.813827Z",
     "iopub.status.idle": "2020-11-25T22:07:43.886166Z",
     "shell.execute_reply": "2020-11-25T22:07:43.885185Z",
     "shell.execute_reply.started": "2020-11-25T22:07:43.814394Z"
    }
   },
   "outputs": [],
   "source": [
    "get_sentences = partial(get_col, df, \"tokens\", split_col_name=\"split\")\n",
    "train_sentences = get_sentences(split=\"train\")\n",
    "val_sentences = get_sentences(split=\"val\")\n",
    "test_sentences = get_sentences(split=\"test\")"
   ]
  },
  {
   "cell_type": "markdown",
   "metadata": {},
   "source": [
    "And then we can compute the actual neighbors for each token in each split$\\dots$"
   ]
  },
  {
   "cell_type": "code",
   "execution_count": 190,
   "metadata": {
    "execution": {
     "iopub.execute_input": "2020-11-25T22:07:46.843737Z",
     "iopub.status.busy": "2020-11-25T22:07:46.843020Z",
     "iopub.status.idle": "2020-11-25T22:07:47.474072Z",
     "shell.execute_reply": "2020-11-25T22:07:47.472931Z",
     "shell.execute_reply.started": "2020-11-25T22:07:46.843673Z"
    }
   },
   "outputs": [
    {
     "data": {
      "application/vnd.jupyter.widget-view+json": {
       "model_id": "d075986002ea49099689ae995c8bd6fa",
       "version_major": 2,
       "version_minor": 0
      },
      "text/plain": [
       "HBox(children=(HTML(value=''), FloatProgress(value=0.0, max=1963.0), HTML(value='')))"
      ]
     },
     "metadata": {},
     "output_type": "display_data"
    },
    {
     "name": "stdout",
     "output_type": "stream",
     "text": [
      "\n"
     ]
    },
    {
     "data": {
      "application/vnd.jupyter.widget-view+json": {
       "model_id": "fd80af695d5a47cc9f00f09384b9dd0b",
       "version_major": 2,
       "version_minor": 0
      },
      "text/plain": [
       "HBox(children=(HTML(value=''), FloatProgress(value=0.0, max=1299.0), HTML(value='')))"
      ]
     },
     "metadata": {},
     "output_type": "display_data"
    },
    {
     "name": "stdout",
     "output_type": "stream",
     "text": [
      "\n"
     ]
    },
    {
     "data": {
      "application/vnd.jupyter.widget-view+json": {
       "model_id": "43dacf04a52a4b00bf9fe0f8b27e7a3c",
       "version_major": 2,
       "version_minor": 0
      },
      "text/plain": [
       "HBox(children=(HTML(value=''), FloatProgress(value=0.0, max=652.0), HTML(value='')))"
      ]
     },
     "metadata": {},
     "output_type": "display_data"
    },
    {
     "name": "stdout",
     "output_type": "stream",
     "text": [
      "\n"
     ]
    }
   ],
   "source": [
    "neighbors = partial(\n",
    "    build_neighbors,\n",
    "    vocabulary=tokens_vocabulary,\n",
    "    window_size=1,\n",
    "    padding_token=PADDING_TOKEN,\n",
    ")\n",
    "train_neighbors = neighbors(unique_train_tokens, train_sentences)\n",
    "val_neighbors = neighbors(unique_val_tokens, val_sentences)\n",
    "test_neighbors = neighbors(unique_test_tokens, test_sentences)"
   ]
  },
  {
   "cell_type": "markdown",
   "metadata": {},
   "source": [
    "Now we are going to build three different embedding matrices, one for each split (i.e. training, validation and test). As already mentioned, the main method to handle OOV words will be `mean` and the embeddings will be computed in an incremental fashion. In particular, we are going to patch each embedding matrix following the training one with the previously calculated set of OOV embeddings."
   ]
  },
  {
   "cell_type": "code",
   "execution_count": 191,
   "metadata": {
    "execution": {
     "iopub.execute_input": "2020-11-25T22:07:49.711514Z",
     "iopub.status.busy": "2020-11-25T22:07:49.710941Z",
     "iopub.status.idle": "2020-11-25T22:07:49.780248Z",
     "shell.execute_reply": "2020-11-25T22:07:49.779062Z",
     "shell.execute_reply.started": "2020-11-25T22:07:49.711473Z"
    }
   },
   "outputs": [],
   "source": [
    "def build_embedding_matrix(\n",
    "    embedding_model,\n",
    "    embedding_dimension,\n",
    "    vocabulary,\n",
    "    tokens,\n",
    "    oov_terms,\n",
    "    neighbors=None,\n",
    "    method=\"mean\",\n",
    "):\n",
    "    \"\"\"\n",
    "    Builds the embedding matrix of a specific dataset given a pre-trained Gensim word embedding model\n",
    "    \"\"\"\n",
    "    assert method in (\"uniform\", \"normal\", \"mean\")\n",
    "    assert method != \"mean\" or (method == \"mean\" and neighbors is not None)\n",
    "\n",
    "    def uniform_embedding(interval=(-1, 1)):\n",
    "        return interval[0] + np.random.sample(embedding_dimension) + interval[1]\n",
    "\n",
    "    def normal_embedding():\n",
    "        return np.random.normal(embedding_dimension)\n",
    "\n",
    "    embedding_matrix = np.zeros((len(vocabulary.string), embedding_dimension))\n",
    "    for word in tokens:\n",
    "        word_index = vocabulary.from_string[word]\n",
    "        word_vector = np.zeros((1, embedding_dimension))\n",
    "        # Words that are no OOV are taken from the Gensim model\n",
    "        if word not in oov_terms:\n",
    "            word_vector = embedding_model[word]\n",
    "        # OOV words computed as the mean word vector of their neighbors\n",
    "        elif method == \"mean\":\n",
    "            neighboring_wvs = []\n",
    "            for neighbor_index in neighbors[word_index]:\n",
    "                neighbor = vocabulary.to_string[neighbor_index]\n",
    "                if neighbor not in oov_terms:\n",
    "                    neighboring_wvs.append(embedding_model[neighbor])\n",
    "            # If there is at least one neighbor, compute the mean of their word vectors\n",
    "            if len(neighboring_wvs) > 1:\n",
    "                word_vector = np.mean(neighboring_wvs, axis=0)\n",
    "            # Otherwise, resort to random normal vectors\n",
    "            else:\n",
    "                word_vector = normal_embedding()\n",
    "        # OOV words computed as random normal vectors\n",
    "        elif method == \"normal\":\n",
    "            word_vector = normal_embedding()\n",
    "        # OOV words computed as uniform vectors in range [-1, 1]\n",
    "        elif method == \"uniform\":\n",
    "            word_vector = uniform_embedding()\n",
    "        embedding_matrix[word_index, :] = word_vector\n",
    "    return embedding_matrix"
   ]
  },
  {
   "cell_type": "markdown",
   "metadata": {},
   "source": [
    "First of all, we are going to build the embedding matrix for the training split$\\dots$"
   ]
  },
  {
   "cell_type": "code",
   "execution_count": 192,
   "metadata": {
    "execution": {
     "iopub.execute_input": "2020-11-25T22:07:51.671408Z",
     "iopub.status.busy": "2020-11-25T22:07:51.670646Z",
     "iopub.status.idle": "2020-11-25T22:07:51.946858Z",
     "shell.execute_reply": "2020-11-25T22:07:51.945679Z",
     "shell.execute_reply.started": "2020-11-25T22:07:51.671353Z"
    }
   },
   "outputs": [],
   "source": [
    "train_embeddings = build_embedding_matrix(\n",
    "    embedding_model,\n",
    "    EMBEDDING_DIMENSION,\n",
    "    tokens_vocabulary,\n",
    "    unique_train_tokens,\n",
    "    train_oov_terms,\n",
    "    neighbors=train_neighbors,\n",
    "    method=\"mean\",\n",
    ")"
   ]
  },
  {
   "cell_type": "markdown",
   "metadata": {},
   "source": [
    "Let's check an example word vector, given by a high frequency word like `\"the\"`$\\dots$"
   ]
  },
  {
   "cell_type": "code",
   "execution_count": 193,
   "metadata": {
    "execution": {
     "iopub.execute_input": "2020-11-25T22:07:53.679370Z",
     "iopub.status.busy": "2020-11-25T22:07:53.678741Z",
     "iopub.status.idle": "2020-11-25T22:07:53.752772Z",
     "shell.execute_reply": "2020-11-25T22:07:53.751796Z",
     "shell.execute_reply.started": "2020-11-25T22:07:53.679328Z"
    }
   },
   "outputs": [
    {
     "data": {
      "text/plain": [
       "array([ 4.65600006e-02,  2.13180006e-01, -7.43639981e-03, -4.58539993e-01,\n",
       "       -3.56389992e-02,  2.36430004e-01, -2.88360000e-01,  2.15210006e-01,\n",
       "       -1.34859994e-01, -1.64129996e+00, -2.60910004e-01,  3.24340016e-02,\n",
       "        5.66210002e-02, -4.32960019e-02, -2.16719992e-02,  2.24759996e-01,\n",
       "       -7.51290023e-02, -6.70180023e-02, -1.42470002e-01,  3.88250016e-02,\n",
       "       -1.89510003e-01,  2.99769998e-01,  3.93049985e-01,  1.78870007e-01,\n",
       "       -1.73429996e-01, -2.11779997e-01,  2.36169994e-01, -6.36809990e-02,\n",
       "       -4.23180014e-01, -1.16609998e-01,  9.37540010e-02,  1.72959998e-01,\n",
       "       -3.30729991e-01,  4.91120011e-01, -6.89949989e-01, -9.24620032e-02,\n",
       "        2.47419998e-01, -1.79910004e-01,  9.79079977e-02,  8.31179991e-02,\n",
       "        1.52989998e-01, -2.72760004e-01, -3.89339998e-02,  5.44529974e-01,\n",
       "        5.37370026e-01,  2.91049987e-01, -7.35139987e-03,  4.78800014e-02,\n",
       "       -4.07599986e-01, -2.67590005e-02,  1.79189995e-01,  1.09770000e-02,\n",
       "       -1.09630004e-01, -2.63949990e-01,  7.39900023e-02,  2.62360007e-01,\n",
       "       -1.50800005e-01,  3.46230000e-01,  2.57580012e-01,  1.19709998e-01,\n",
       "       -3.71350013e-02, -7.15930015e-02,  4.38980013e-01, -4.07640003e-02,\n",
       "        1.64250005e-02, -4.46399987e-01,  1.71969995e-01,  4.62459996e-02,\n",
       "        5.86390011e-02,  4.14990000e-02,  5.39479971e-01,  5.24950027e-01,\n",
       "        1.13609999e-01, -4.83149998e-02, -3.63849998e-01,  1.87040001e-01,\n",
       "        9.27610025e-02, -1.11290000e-01, -4.20850009e-01,  1.39919996e-01,\n",
       "       -3.93379986e-01, -6.79450035e-02,  1.21880002e-01,  1.67070001e-01,\n",
       "        7.51689970e-02, -1.55290002e-02, -1.94989994e-01,  1.96380004e-01,\n",
       "        5.31940013e-02,  2.51700014e-01, -3.48450005e-01, -1.06380001e-01,\n",
       "       -3.46920013e-01, -1.90239996e-01, -2.00399995e-01,  1.21540003e-01,\n",
       "       -2.92079985e-01,  2.33529992e-02, -1.16180003e-01, -3.57679993e-01,\n",
       "        6.23040013e-02,  3.58839989e-01,  2.90600006e-02,  7.30049983e-03,\n",
       "        4.94820019e-03, -1.50480002e-01, -1.23130001e-01,  1.93370000e-01,\n",
       "        1.21730000e-01,  4.45030004e-01,  2.51470000e-01,  1.07809998e-01,\n",
       "       -1.77159995e-01,  3.86909992e-02,  8.15299973e-02,  1.46669999e-01,\n",
       "        6.36660010e-02,  6.13319986e-02, -7.55689964e-02, -3.77240002e-01,\n",
       "        1.58500001e-02, -3.03420007e-01,  2.83740014e-01, -4.20130007e-02,\n",
       "       -4.07150015e-02, -1.52689993e-01,  7.49799982e-02,  1.55770004e-01,\n",
       "        1.04330003e-01,  3.13930005e-01,  1.93090007e-01,  1.94289997e-01,\n",
       "        1.51850000e-01, -1.01920001e-01, -1.87849998e-02,  2.07910001e-01,\n",
       "        1.33660004e-01,  1.90380007e-01, -2.55580008e-01,  3.03999990e-01,\n",
       "       -1.89599991e-02,  2.01470003e-01, -4.21099991e-01, -7.51559995e-03,\n",
       "       -2.79769987e-01, -1.93140000e-01,  4.62040007e-02,  1.99709997e-01,\n",
       "       -3.02069992e-01,  2.57349998e-01,  6.81070030e-01, -1.94089994e-01,\n",
       "        2.39840001e-01,  2.24930003e-01,  6.52239978e-01, -1.35609999e-01,\n",
       "       -1.73830003e-01, -4.82090004e-02, -1.18600003e-01,  2.15879991e-03,\n",
       "       -1.95250008e-02,  1.19479999e-01,  1.93460003e-01, -4.08199996e-01,\n",
       "       -8.29659998e-02,  1.66260004e-01, -1.06009997e-01,  3.58610004e-01,\n",
       "        1.69220001e-01,  7.25900009e-02, -2.48030007e-01, -1.00240000e-01,\n",
       "       -5.24909973e-01, -1.77450001e-01, -3.66470009e-01,  2.61799991e-01,\n",
       "       -1.20770000e-02,  8.31900015e-02, -2.15279996e-01,  4.10450011e-01,\n",
       "        2.91359991e-01,  3.08690012e-01,  7.88640007e-02,  3.22070003e-01,\n",
       "       -4.10230011e-02, -1.09700002e-01, -9.20410007e-02, -1.23389997e-01,\n",
       "       -1.64159998e-01,  3.53819996e-01, -8.27739984e-02,  3.31710011e-01,\n",
       "       -2.47380003e-01, -4.89280000e-02,  1.57460004e-01,  1.89879999e-01,\n",
       "       -2.66420003e-02,  6.33149967e-02, -1.06729995e-02,  3.40889990e-01,\n",
       "        1.41059995e+00,  1.34169996e-01,  2.81910002e-01, -2.59400010e-01,\n",
       "        5.52669987e-02, -5.24250008e-02, -2.57889986e-01,  1.91270001e-02,\n",
       "       -2.20839996e-02,  3.21130008e-01,  6.88180029e-02,  5.12070000e-01,\n",
       "        1.64780006e-01, -2.01940000e-01,  2.92320013e-01,  9.85750034e-02,\n",
       "        1.31449997e-02, -1.06519997e-01,  1.35100007e-01, -4.53319997e-02,\n",
       "        2.06970006e-01, -4.84250009e-01, -4.47059989e-01,  3.33050010e-03,\n",
       "        2.92639993e-03, -1.09750003e-01, -2.33250007e-01,  2.24419996e-01,\n",
       "       -1.05030000e-01,  1.23389997e-01,  1.09779999e-01,  4.89940010e-02,\n",
       "       -2.51569986e-01,  4.03189987e-01,  3.53179991e-01,  1.86509997e-01,\n",
       "       -2.36220006e-02, -1.27340004e-01,  1.14749998e-01,  2.73589998e-01,\n",
       "       -2.18659997e-01,  1.57939997e-02,  8.17539990e-01, -2.37920005e-02,\n",
       "       -8.54690015e-01, -1.62029997e-01,  1.80759996e-01,  2.80140005e-02,\n",
       "       -1.43399999e-01,  1.31389999e-03, -9.17349979e-02, -8.97039995e-02,\n",
       "        1.11050002e-01, -1.67030007e-01,  6.83770031e-02, -8.73880014e-02,\n",
       "       -3.97889987e-02,  1.41840000e-02,  2.11870000e-01,  2.85789996e-01,\n",
       "       -2.87970006e-01, -5.89959994e-02, -3.24359983e-02, -4.70090006e-03,\n",
       "       -1.70519993e-01, -3.47409993e-02, -1.14890002e-01,  7.50930011e-02,\n",
       "        9.95260030e-02,  4.81830016e-02, -7.37750009e-02, -4.18170005e-01,\n",
       "        4.12680022e-03,  4.44139987e-01, -1.60620004e-01,  1.42940000e-01,\n",
       "       -2.26279998e+00, -2.73470003e-02,  8.13109994e-01,  7.74169981e-01,\n",
       "       -2.56390005e-01, -1.15759999e-01, -1.19819999e-01, -2.13630006e-01,\n",
       "        2.84289997e-02,  2.72610009e-01,  3.10260002e-02,  9.67819989e-02,\n",
       "        6.77690003e-03,  1.40819997e-01, -1.30639998e-02, -2.96860009e-01,\n",
       "       -7.99129978e-02,  1.94999993e-01,  3.15489992e-02,  2.85059988e-01,\n",
       "       -8.74610022e-02,  9.06109996e-03, -2.09889993e-01,  5.39130010e-02])"
      ]
     },
     "execution_count": 193,
     "metadata": {},
     "output_type": "execute_result"
    }
   ],
   "source": [
    "train_embeddings[tokens_vocabulary.from_string[\"the\"]]"
   ]
  },
  {
   "cell_type": "markdown",
   "metadata": {},
   "source": [
    "Let's also check the embedding of the padding token, which should contain all zero entries$\\dots$"
   ]
  },
  {
   "cell_type": "code",
   "execution_count": 194,
   "metadata": {
    "execution": {
     "iopub.execute_input": "2020-11-25T22:07:59.530931Z",
     "iopub.status.busy": "2020-11-25T22:07:59.530210Z",
     "iopub.status.idle": "2020-11-25T22:07:59.594877Z",
     "shell.execute_reply": "2020-11-25T22:07:59.593892Z",
     "shell.execute_reply.started": "2020-11-25T22:07:59.530888Z"
    }
   },
   "outputs": [
    {
     "data": {
      "text/plain": [
       "array([0., 0., 0., 0., 0., 0., 0., 0., 0., 0., 0., 0., 0., 0., 0., 0., 0.,\n",
       "       0., 0., 0., 0., 0., 0., 0., 0., 0., 0., 0., 0., 0., 0., 0., 0., 0.,\n",
       "       0., 0., 0., 0., 0., 0., 0., 0., 0., 0., 0., 0., 0., 0., 0., 0., 0.,\n",
       "       0., 0., 0., 0., 0., 0., 0., 0., 0., 0., 0., 0., 0., 0., 0., 0., 0.,\n",
       "       0., 0., 0., 0., 0., 0., 0., 0., 0., 0., 0., 0., 0., 0., 0., 0., 0.,\n",
       "       0., 0., 0., 0., 0., 0., 0., 0., 0., 0., 0., 0., 0., 0., 0., 0., 0.,\n",
       "       0., 0., 0., 0., 0., 0., 0., 0., 0., 0., 0., 0., 0., 0., 0., 0., 0.,\n",
       "       0., 0., 0., 0., 0., 0., 0., 0., 0., 0., 0., 0., 0., 0., 0., 0., 0.,\n",
       "       0., 0., 0., 0., 0., 0., 0., 0., 0., 0., 0., 0., 0., 0., 0., 0., 0.,\n",
       "       0., 0., 0., 0., 0., 0., 0., 0., 0., 0., 0., 0., 0., 0., 0., 0., 0.,\n",
       "       0., 0., 0., 0., 0., 0., 0., 0., 0., 0., 0., 0., 0., 0., 0., 0., 0.,\n",
       "       0., 0., 0., 0., 0., 0., 0., 0., 0., 0., 0., 0., 0., 0., 0., 0., 0.,\n",
       "       0., 0., 0., 0., 0., 0., 0., 0., 0., 0., 0., 0., 0., 0., 0., 0., 0.,\n",
       "       0., 0., 0., 0., 0., 0., 0., 0., 0., 0., 0., 0., 0., 0., 0., 0., 0.,\n",
       "       0., 0., 0., 0., 0., 0., 0., 0., 0., 0., 0., 0., 0., 0., 0., 0., 0.,\n",
       "       0., 0., 0., 0., 0., 0., 0., 0., 0., 0., 0., 0., 0., 0., 0., 0., 0.,\n",
       "       0., 0., 0., 0., 0., 0., 0., 0., 0., 0., 0., 0., 0., 0., 0., 0., 0.,\n",
       "       0., 0., 0., 0., 0., 0., 0., 0., 0., 0., 0.])"
      ]
     },
     "execution_count": 194,
     "metadata": {},
     "output_type": "execute_result"
    }
   ],
   "source": [
    "train_embeddings[tokens_vocabulary.from_string[PADDING_TOKEN]]"
   ]
  },
  {
   "cell_type": "markdown",
   "metadata": {},
   "source": [
    "Now we can do the same for the other splits, i.e. validation and test$\\dots$ "
   ]
  },
  {
   "cell_type": "code",
   "execution_count": 195,
   "metadata": {
    "execution": {
     "iopub.execute_input": "2020-11-25T22:08:02.766702Z",
     "iopub.status.busy": "2020-11-25T22:08:02.766046Z",
     "iopub.status.idle": "2020-11-25T22:08:03.078276Z",
     "shell.execute_reply": "2020-11-25T22:08:03.077096Z",
     "shell.execute_reply.started": "2020-11-25T22:08:02.766657Z"
    }
   },
   "outputs": [],
   "source": [
    "val_embeddings = build_embedding_matrix(\n",
    "    embedding_model,\n",
    "    EMBEDDING_DIMENSION,\n",
    "    tokens_vocabulary,\n",
    "    unique_val_tokens,\n",
    "    val_oov_terms,\n",
    "    neighbors=val_neighbors,\n",
    "    method=\"mean\",\n",
    ")\n",
    "test_embeddings = build_embedding_matrix(\n",
    "    embedding_model,\n",
    "    EMBEDDING_DIMENSION,\n",
    "    tokens_vocabulary,\n",
    "    unique_test_tokens,\n",
    "    test_oov_terms,\n",
    "    neighbors=test_neighbors,\n",
    "    method=\"mean\",\n",
    ")"
   ]
  },
  {
   "cell_type": "markdown",
   "metadata": {},
   "source": [
    "Finally, we can perform the already mentioned patching operation, to simulate a real-world workflow$\\dots$"
   ]
  },
  {
   "cell_type": "code",
   "execution_count": 197,
   "metadata": {
    "execution": {
     "iopub.execute_input": "2020-11-25T22:08:14.618976Z",
     "iopub.status.busy": "2020-11-25T22:08:14.618216Z",
     "iopub.status.idle": "2020-11-25T22:08:14.676629Z",
     "shell.execute_reply": "2020-11-25T22:08:14.675175Z",
     "shell.execute_reply.started": "2020-11-25T22:08:14.618930Z"
    }
   },
   "outputs": [],
   "source": [
    "def patch_embedding_matrix(\n",
    "    embedding_matrix, prev_embedding_matrix, vocabulary, oov_terms, prev_oov_terms\n",
    "):\n",
    "    \"\"\"\n",
    "    Patch the given embedding matrix s.t. OOV terms which were already\n",
    "    computed before are taken from the previously built embedding\n",
    "    \"\"\"\n",
    "    to_patch = oov_terms & prev_oov_terms\n",
    "    for not_oov in to_patch:\n",
    "        not_oov_index = vocabulary.from_string[not_oov]\n",
    "        embedding_matrix[not_oov_index] = prev_embedding_matrix[not_oov_index]\n",
    "    return embedding_matrix"
   ]
  },
  {
   "cell_type": "code",
   "execution_count": 198,
   "metadata": {
    "execution": {
     "iopub.execute_input": "2020-11-25T22:08:23.531337Z",
     "iopub.status.busy": "2020-11-25T22:08:23.530562Z",
     "iopub.status.idle": "2020-11-25T22:08:23.593786Z",
     "shell.execute_reply": "2020-11-25T22:08:23.592563Z",
     "shell.execute_reply.started": "2020-11-25T22:08:23.531287Z"
    }
   },
   "outputs": [],
   "source": [
    "val_embeddings = patch_embedding_matrix(\n",
    "    val_embeddings, train_embeddings, tokens_vocabulary, val_oov_terms, train_oov_terms\n",
    ")\n",
    "test_embeddings = patch_embedding_matrix(\n",
    "    test_embeddings,\n",
    "    val_embeddings,\n",
    "    tokens_vocabulary,\n",
    "    test_oov_terms,\n",
    "    train_oov_terms | val_oov_terms,\n",
    ")"
   ]
  },
  {
   "cell_type": "markdown",
   "metadata": {},
   "source": [
    "Just to be sure that everything is working fine, let's do some sanity checks$\\dots$"
   ]
  },
  {
   "cell_type": "markdown",
   "metadata": {},
   "source": [
    "First of all, we can check the number of zero embeddings in each embedding matrix, which should correspond to the total number of unique tokens in the vocabulary minus the number of unique tokens in that split."
   ]
  },
  {
   "cell_type": "code",
   "execution_count": 199,
   "metadata": {
    "execution": {
     "iopub.execute_input": "2020-11-25T22:08:25.529365Z",
     "iopub.status.busy": "2020-11-25T22:08:25.528748Z",
     "iopub.status.idle": "2020-11-25T22:08:25.608163Z",
     "shell.execute_reply": "2020-11-25T22:08:25.607093Z",
     "shell.execute_reply.started": "2020-11-25T22:08:25.529323Z"
    }
   },
   "outputs": [
    {
     "name": "stdout",
     "output_type": "stream",
     "text": [
      "There are 3035/9965 tokens with zero embeddings in the training set\n"
     ]
    }
   ],
   "source": [
    "train_zero_embeddings = np.sum(~train_embeddings.any(axis=1))\n",
    "print(\n",
    "    f\"There are {train_zero_embeddings}/{train_embeddings.shape[0]} tokens with zero embeddings in the training set\"\n",
    ")"
   ]
  },
  {
   "cell_type": "code",
   "execution_count": 200,
   "metadata": {
    "execution": {
     "iopub.execute_input": "2020-11-25T22:08:27.948437Z",
     "iopub.status.busy": "2020-11-25T22:08:27.947830Z",
     "iopub.status.idle": "2020-11-25T22:08:28.035117Z",
     "shell.execute_reply": "2020-11-25T22:08:28.034060Z",
     "shell.execute_reply.started": "2020-11-25T22:08:27.948395Z"
    }
   },
   "outputs": [
    {
     "name": "stdout",
     "output_type": "stream",
     "text": [
      "There are 4975/9965 tokens with zero embeddings in the validation set\n"
     ]
    }
   ],
   "source": [
    "val_zero_embeddings = np.sum(~val_embeddings.any(axis=1))\n",
    "print(\n",
    "    f\"There are {val_zero_embeddings}/{val_embeddings.shape[0]} tokens with zero embeddings in the validation set\"\n",
    ")"
   ]
  },
  {
   "cell_type": "code",
   "execution_count": 201,
   "metadata": {
    "execution": {
     "iopub.execute_input": "2020-11-25T22:08:28.768571Z",
     "iopub.status.busy": "2020-11-25T22:08:28.768002Z",
     "iopub.status.idle": "2020-11-25T22:08:28.846281Z",
     "shell.execute_reply": "2020-11-25T22:08:28.845228Z",
     "shell.execute_reply.started": "2020-11-25T22:08:28.768530Z"
    }
   },
   "outputs": [
    {
     "name": "stdout",
     "output_type": "stream",
     "text": [
      "There are 6929/9965 tokens with zero embeddings in the test set\n"
     ]
    }
   ],
   "source": [
    "test_zero_embeddings = np.sum(~test_embeddings.any(axis=1))\n",
    "print(\n",
    "    f\"There are {test_zero_embeddings}/{test_embeddings.shape[0]} tokens with zero embeddings in the test set\"\n",
    ")"
   ]
  },
  {
   "cell_type": "markdown",
   "metadata": {},
   "source": [
    "Then, we can check for an example word, which is OOV in every split. Ideally, we should have that its embedding is the same across all of our embedding matrices$\\dots$"
   ]
  },
  {
   "cell_type": "code",
   "execution_count": 202,
   "metadata": {
    "execution": {
     "iopub.execute_input": "2020-11-25T22:08:35.602309Z",
     "iopub.status.busy": "2020-11-25T22:08:35.601556Z",
     "iopub.status.idle": "2020-11-25T22:08:35.660668Z",
     "shell.execute_reply": "2020-11-25T22:08:35.659686Z",
     "shell.execute_reply.started": "2020-11-25T22:08:35.602265Z"
    }
   },
   "outputs": [
    {
     "data": {
      "text/plain": [
       "{'-lcb-',\n",
       " '-lrb-',\n",
       " '-rcb-',\n",
       " '-rrb-',\n",
       " '<num>',\n",
       " 'junk-bond',\n",
       " 'stock-index',\n",
       " 'year-earlier'}"
      ]
     },
     "execution_count": 202,
     "metadata": {},
     "output_type": "execute_result"
    }
   ],
   "source": [
    "train_oov_terms & val_oov_terms & test_oov_terms"
   ]
  },
  {
   "cell_type": "code",
   "execution_count": 207,
   "metadata": {
    "execution": {
     "iopub.execute_input": "2020-11-25T22:10:37.528812Z",
     "iopub.status.busy": "2020-11-25T22:10:37.528063Z",
     "iopub.status.idle": "2020-11-25T22:10:37.586021Z",
     "shell.execute_reply": "2020-11-25T22:10:37.584545Z",
     "shell.execute_reply.started": "2020-11-25T22:10:37.528768Z"
    }
   },
   "outputs": [],
   "source": [
    "oov_example_index = tokens_vocabulary.from_string[\"stock-index\"]\n",
    "assert np.all(\n",
    "    train_embeddings[oov_example_index] == val_embeddings[oov_example_index]\n",
    ") and np.all(val_embeddings[oov_example_index] == test_embeddings[oov_example_index])"
   ]
  },
  {
   "cell_type": "markdown",
   "metadata": {},
   "source": [
    "## Model definition"
   ]
  },
  {
   "cell_type": "markdown",
   "metadata": {},
   "source": [
    "In this section we are going to define a modular class containing the implementation of a POS tagging model, which will be used in subsequent blocks to perform different kinds of experiments, by changing architectures while keeping hyperparameters fixed."
   ]
  },
  {
   "cell_type": "code",
   "execution_count": 209,
   "metadata": {
    "execution": {
     "iopub.execute_input": "2020-11-25T22:15:22.870123Z",
     "iopub.status.busy": "2020-11-25T22:15:22.869352Z",
     "iopub.status.idle": "2020-11-25T22:15:22.955821Z",
     "shell.execute_reply": "2020-11-25T22:15:22.954382Z",
     "shell.execute_reply.started": "2020-11-25T22:15:22.870079Z"
    }
   },
   "outputs": [],
   "source": [
    "class POSTaggingModel(nn.Module):\n",
    "    def __init__(\n",
    "        self,\n",
    "        embedding_dimension,\n",
    "        hidden_dimension,\n",
    "        output_dimension,\n",
    "        gru=True,\n",
    "        num_layers=2,\n",
    "        bidirectional=True,\n",
    "        dropout_rate=0.25,\n",
    "        lr=1e-3,\n",
    "        padding_index=0,\n",
    "        crf=False,\n",
    "    ):\n",
    "        \"\"\"\n",
    "        Build a generic POS tagging model, with recurrent modules\n",
    "        \"\"\"\n",
    "        super().__init__()\n",
    "\n",
    "        # Padding\n",
    "        self.padding_index = padding_index\n",
    "\n",
    "        # Get device\n",
    "        self.device = torch.device(\"cuda\" if torch.cuda.is_available() else \"cpu\")\n",
    "\n",
    "        # Embedding module\n",
    "        self.embedding = None\n",
    "\n",
    "        # Recurrent module\n",
    "        recurrent_module = nn.GRU if gru else nn.LSTM\n",
    "        self.recurrent_module = recurrent_module(\n",
    "            embedding_dimension,\n",
    "            hidden_dimension,\n",
    "            batch_first=True,\n",
    "            num_layers=num_layers,\n",
    "            bidirectional=bidirectional,\n",
    "            dropout=dropout_rate if num_layers > 1 else 0,\n",
    "        )\n",
    "\n",
    "        # Dense and dropout layers\n",
    "        self.dense = nn.Linear(\n",
    "            hidden_dimension * 2 if bidirectional else hidden_dimension,\n",
    "            output_dimension,\n",
    "        )\n",
    "        self.dropout = nn.Dropout(dropout_rate)\n",
    "\n",
    "        # Criterion\n",
    "        self.crf = crf\n",
    "        self.criterion = (\n",
    "            nn.CrossEntropyLoss(ignore_index=padding_index).to(self.device)\n",
    "            if not self.crf\n",
    "            else CRF(output_dimension, batch_first=True)\n",
    "        )\n",
    "\n",
    "        # Optimizer\n",
    "        self.lr = lr\n",
    "        self.optimizer = optim.Adam(self.parameters(), lr=lr)\n",
    "\n",
    "        # Transfer model to device\n",
    "        self.to(self.device)\n",
    "\n",
    "    def inject_embeddings(self, embeddings):\n",
    "        self.embedding = nn.Embedding(\n",
    "            embeddings.shape[0], embeddings.shape[1], padding_idx=self.padding_index\n",
    "        )\n",
    "        self.embedding.weight = nn.Parameter(torch.FloatTensor(embeddings))\n",
    "        self.embedding.weight.requires_grad = False\n",
    "\n",
    "    def count_parameters(self):\n",
    "        return sum(p.numel() for p in self.parameters() if p.requires_grad)\n",
    "\n",
    "    def init_weights(self):\n",
    "        for name, param in self.named_parameters():\n",
    "            nn.init.normal_(param.data, mean=0, std=0.1)\n",
    "\n",
    "    def forward(self, tokens, tokens_lenghts):\n",
    "        assert self.embedding is not None\n",
    "        embedded = self.dropout(self.embedding(tokens))\n",
    "        packed = pack_padded_sequence(\n",
    "            embedded, tokens_lenghts, batch_first=True, enforce_sorted=False\n",
    "        )\n",
    "        packed_outputs, (hidden, cell) = self.recurrent_module(packed)\n",
    "        padded_outputs, outputs_lengths = pad_packed_sequence(\n",
    "            packed_outputs, batch_first=True\n",
    "        )\n",
    "        predictions = self.dense(self.dropout(padded_outputs))\n",
    "        return predictions\n",
    "\n",
    "    def loss(self, predictions, tags):\n",
    "        if not self.crf:\n",
    "            predictions = predictions.view(-1, predictions.shape[-1])\n",
    "            tags = tags.view(-1)\n",
    "            return self.criterion(predictions, tags)\n",
    "\n",
    "        mask = torch.ones(tags.shape, dtype=torch.uint8)\n",
    "        mask[tags == self.padding_index] = 0\n",
    "        return -self.criterion(predictions, tags, mask=mask)"
   ]
  },
  {
   "cell_type": "markdown",
   "metadata": {},
   "source": [
    "Here are the main hyperparameters that we are fixing$\\dots$"
   ]
  },
  {
   "cell_type": "code",
   "execution_count": 210,
   "metadata": {
    "execution": {
     "iopub.execute_input": "2020-11-25T22:15:24.900509Z",
     "iopub.status.busy": "2020-11-25T22:15:24.900002Z",
     "iopub.status.idle": "2020-11-25T22:15:24.956062Z",
     "shell.execute_reply": "2020-11-25T22:15:24.955076Z",
     "shell.execute_reply.started": "2020-11-25T22:15:24.900468Z"
    }
   },
   "outputs": [],
   "source": [
    "HIDDEN_DIMENSION = 128\n",
    "NUM_EPOCHS = 15\n",
    "LEARNING_RATE = 1e-3\n",
    "EARLY_STOPPING_PATIENCE = 5\n",
    "EARLY_STOPPING_MIN_DELTA = 0.1"
   ]
  },
  {
   "cell_type": "markdown",
   "metadata": {},
   "source": [
    "## Learning utils"
   ]
  },
  {
   "cell_type": "code",
   "execution_count": 211,
   "metadata": {
    "execution": {
     "iopub.execute_input": "2020-11-25T22:15:31.044082Z",
     "iopub.status.busy": "2020-11-25T22:15:31.043256Z",
     "iopub.status.idle": "2020-11-25T22:15:31.111201Z",
     "shell.execute_reply": "2020-11-25T22:15:31.110211Z",
     "shell.execute_reply.started": "2020-11-25T22:15:31.044038Z"
    }
   },
   "outputs": [],
   "source": [
    "class EarlyStopping:\n",
    "    \"\"\"\n",
    "    Early stopping implementation, taken from \n",
    "    https://gist.github.com/stefanonardo/693d96ceb2f531fa05db530f3e21517d\n",
    "    \"\"\"\n",
    "\n",
    "    def __init__(self, mode=\"min\", min_delta=0, patience=10, percentage=False):\n",
    "        self.mode = mode\n",
    "        self.min_delta = min_delta\n",
    "        self.patience = patience\n",
    "\n",
    "        self.best = None\n",
    "        self.num_bad_epochs = 0\n",
    "        self.is_better = None\n",
    "        self._init_is_better(mode, min_delta, percentage)\n",
    "\n",
    "        if patience == 0:\n",
    "            self.is_better = lambda a, b: True\n",
    "            self.step = lambda a: False\n",
    "\n",
    "    def _init_is_better(self, mode, min_delta, percentage):\n",
    "        if mode not in {\"min\", \"max\"}:\n",
    "            raise ValueError(f\"Mode `{mode}` is unknown\")\n",
    "        if not percentage:\n",
    "            if mode == \"min\":\n",
    "                self.is_better = lambda a, best: a < best - min_delta\n",
    "            if mode == \"max\":\n",
    "                self.is_better = lambda a, best: a > best + min_delta\n",
    "        else:\n",
    "            if mode == \"min\":\n",
    "                self.is_better = lambda a, best: a < best - (best * min_delta / 100)\n",
    "            if mode == \"max\":\n",
    "                self.is_better = lambda a, best: a > best + (best * min_delta / 100)\n",
    "\n",
    "    def step(self, value):\n",
    "        if self.best is None:\n",
    "            self.best = value\n",
    "            return False\n",
    "\n",
    "        if self.is_better(value, self.best):\n",
    "            self.num_bad_epochs = 0\n",
    "            self.best = value\n",
    "        else:\n",
    "            self.num_bad_epochs += 1\n",
    "\n",
    "        if self.num_bad_epochs >= self.patience:\n",
    "            return True\n",
    "\n",
    "        return False"
   ]
  },
  {
   "cell_type": "code",
   "execution_count": 212,
   "metadata": {
    "execution": {
     "iopub.execute_input": "2020-11-25T22:15:42.195348Z",
     "iopub.status.busy": "2020-11-25T22:15:42.194589Z",
     "iopub.status.idle": "2020-11-25T22:15:42.255449Z",
     "shell.execute_reply": "2020-11-25T22:15:42.254104Z",
     "shell.execute_reply.started": "2020-11-25T22:15:42.195304Z"
    }
   },
   "outputs": [],
   "source": [
    "def get_best(predictions, ground_truth, padding_index=0):\n",
    "    \"\"\"\n",
    "    Returns two flattened lists corresponding to predictions and ground truths\n",
    "    \"\"\"\n",
    "    predictions = predictions.view(-1, predictions.shape[-1])\n",
    "    ground_truth = ground_truth.view(-1)\n",
    "    max_predictions = predictions.argmax(dim=1)\n",
    "    non_pad_elements = torch.where(ground_truth != padding_index)[0]\n",
    "    return (\n",
    "        ground_truth[non_pad_elements].detach().cpu().tolist(),\n",
    "        max_predictions[non_pad_elements].detach().cpu().tolist(),\n",
    "    )"
   ]
  },
  {
   "cell_type": "code",
   "execution_count": 213,
   "metadata": {
    "execution": {
     "iopub.execute_input": "2020-11-25T22:15:44.530753Z",
     "iopub.status.busy": "2020-11-25T22:15:44.530125Z",
     "iopub.status.idle": "2020-11-25T22:15:44.588805Z",
     "shell.execute_reply": "2020-11-25T22:15:44.587172Z",
     "shell.execute_reply.started": "2020-11-25T22:15:44.530712Z"
    }
   },
   "outputs": [],
   "source": [
    "def categorical_accuracy(predictions, ground_truth, padding_index=0):\n",
    "    \"\"\"\n",
    "    Returns accuracy score over the given batch of data\n",
    "    \"\"\"\n",
    "    max_predictions, ground_truth = get_best(\n",
    "        predictions, ground_truth, padding_index=padding_index\n",
    "    )\n",
    "    num_equal = np.sum(np.array(max_predictions) == np.array(ground_truth))\n",
    "    return num_equal / len(ground_truth)"
   ]
  },
  {
   "cell_type": "code",
   "execution_count": 214,
   "metadata": {
    "execution": {
     "iopub.execute_input": "2020-11-25T22:15:47.997048Z",
     "iopub.status.busy": "2020-11-25T22:15:47.996525Z",
     "iopub.status.idle": "2020-11-25T22:15:48.056079Z",
     "shell.execute_reply": "2020-11-25T22:15:48.054588Z",
     "shell.execute_reply.started": "2020-11-25T22:15:47.997007Z"
    }
   },
   "outputs": [],
   "source": [
    "def f1_score(\n",
    "    predictions, ground_truth, labels=None, average=\"macro\",\n",
    "):\n",
    "    \"\"\"\n",
    "    Returns F1-macro score over an entire dataset\n",
    "    (F1 cannot be computed on batches)\n",
    "    \"\"\"\n",
    "    return sklearn.metrics.f1_score(\n",
    "        ground_truth, predictions, labels=labels, average=average,\n",
    "    )"
   ]
  },
  {
   "cell_type": "code",
   "execution_count": 215,
   "metadata": {
    "execution": {
     "iopub.execute_input": "2020-11-25T22:15:56.978337Z",
     "iopub.status.busy": "2020-11-25T22:15:56.977912Z",
     "iopub.status.idle": "2020-11-25T22:15:57.044396Z",
     "shell.execute_reply": "2020-11-25T22:15:57.042981Z",
     "shell.execute_reply.started": "2020-11-25T22:15:56.978293Z"
    }
   },
   "outputs": [],
   "source": [
    "def train(model, dataloader, embeddings, f1_labels=None):\n",
    "    \"\"\"\n",
    "    Train the given model with the given dataloader\n",
    "    \"\"\"\n",
    "    epoch_loss, epoch_acc, epoch_f1 = 0, 0, 0\n",
    "    outputs, labels = [], []\n",
    "    model.train()\n",
    "    model.inject_embeddings(embeddings)\n",
    "    dataloader_progress = tqdm(enumerate(dataloader), desc=\"Training\", leave=True)\n",
    "    for i, batch in dataloader_progress:\n",
    "        model.optimizer.zero_grad()\n",
    "        tokens, tags, tokens_lenghts, tags_lenghts = batch\n",
    "        predictions = model(tokens, tokens_lenghts)\n",
    "        max_predictions, ground_truth = get_best(predictions, tags)\n",
    "        outputs.extend(max_predictions)\n",
    "        labels.extend(ground_truth)\n",
    "        loss = model.loss(predictions, tags)\n",
    "        acc = categorical_accuracy(predictions, tags)\n",
    "        loss.backward()\n",
    "        model.optimizer.step()\n",
    "        epoch_loss = epoch_loss + ((loss.item() - epoch_loss) / (i + 1))\n",
    "        epoch_acc = epoch_acc + ((acc.item() - epoch_acc) / (i + 1))\n",
    "        dataloader_progress.set_postfix({\"epoch_acc\": f\"{epoch_acc * 100:.2f}\"})\n",
    "\n",
    "    # Compute F1 score once a training epoch is done\n",
    "    epoch_f1 = f1_score(outputs, labels, labels=f1_labels)\n",
    "    return epoch_loss, epoch_acc, epoch_f1"
   ]
  },
  {
   "cell_type": "code",
   "execution_count": 216,
   "metadata": {
    "execution": {
     "iopub.execute_input": "2020-11-25T22:15:59.531689Z",
     "iopub.status.busy": "2020-11-25T22:15:59.531062Z",
     "iopub.status.idle": "2020-11-25T22:15:59.605146Z",
     "shell.execute_reply": "2020-11-25T22:15:59.603711Z",
     "shell.execute_reply.started": "2020-11-25T22:15:59.531648Z"
    }
   },
   "outputs": [],
   "source": [
    "def evaluate(model, dataloader, embeddings, f1_labels=None):\n",
    "    \"\"\"\n",
    "    Evaluate the given model with the given dataloader\n",
    "    \"\"\"\n",
    "    epoch_loss, epoch_acc, epoch_f1 = 0, 0, 0\n",
    "    outputs, labels = [], []\n",
    "    model.eval()\n",
    "    model.inject_embeddings(embeddings)\n",
    "    with torch.no_grad():\n",
    "        dataloader_progress = tqdm(enumerate(dataloader), desc=\"Validating\", leave=True)\n",
    "        for i, batch in dataloader_progress:\n",
    "            tokens, tags, tokens_lenghts, tags_lenghts = batch\n",
    "            predictions = model(tokens, tokens_lenghts)\n",
    "            max_predictions, ground_truth = get_best(predictions, tags)\n",
    "            outputs.extend(max_predictions)\n",
    "            labels.extend(ground_truth)\n",
    "            loss = model.loss(predictions, tags)\n",
    "            acc = categorical_accuracy(predictions, tags)\n",
    "            epoch_loss = epoch_loss + ((loss.item() - epoch_loss) / (i + 1))\n",
    "            epoch_acc = epoch_acc + ((acc.item() - epoch_acc) / (i + 1))\n",
    "            dataloader_progress.set_postfix({\"epoch_acc\": f\"{epoch_acc * 100:.2f}\"})\n",
    "\n",
    "    # Compute F1 score once a training epoch is done\n",
    "    epoch_f1 = f1_score(outputs, labels, labels=f1_labels)\n",
    "    return epoch_loss, epoch_acc, epoch_f1"
   ]
  },
  {
   "cell_type": "code",
   "execution_count": 217,
   "metadata": {
    "execution": {
     "iopub.execute_input": "2020-11-25T22:16:04.531002Z",
     "iopub.status.busy": "2020-11-25T22:16:04.530243Z",
     "iopub.status.idle": "2020-11-25T22:16:04.600737Z",
     "shell.execute_reply": "2020-11-25T22:16:04.599694Z",
     "shell.execute_reply.started": "2020-11-25T22:16:04.530958Z"
    }
   },
   "outputs": [],
   "source": [
    "def train_val_test(\n",
    "    model,\n",
    "    model_name,\n",
    "    train_dataloader,\n",
    "    val_dataloader,\n",
    "    test_dataloader,\n",
    "    train_embeddings,\n",
    "    val_embeddings,\n",
    "    test_embeddings,\n",
    "    train_f1_labels=None,\n",
    "    val_f1_labels=None,\n",
    "    test_f1_labels=None,\n",
    "    epochs=10,\n",
    "    es_patience=5,\n",
    "    es_min_delta=0.1,\n",
    "):\n",
    "    \"\"\"\n",
    "    Perform training, validation and testing on the given model,\n",
    "    for the specified number of epochs\n",
    "    \"\"\"\n",
    "    history = {\n",
    "        \"train_loss\": [],\n",
    "        \"train_acc\": [],\n",
    "        \"train_f1\": [],\n",
    "        \"val_loss\": [],\n",
    "        \"val_acc\": [],\n",
    "        \"val_f1\": [],\n",
    "    }\n",
    "    epoch_progress = tqdm(range(epochs), desc=\"Epoch\", leave=True)\n",
    "    early_stopping = EarlyStopping(patience=es_patience, min_delta=es_min_delta)\n",
    "    for epoch in epoch_progress:\n",
    "        # Perform training\n",
    "        train_loss, train_acc, train_f1 = train(\n",
    "            model, train_dataloader, train_embeddings, f1_labels=train_f1_labels\n",
    "        )\n",
    "        history[\"train_loss\"].append(train_loss)\n",
    "        history[\"train_acc\"].append(train_acc)\n",
    "        history[\"train_f1\"].append(train_f1)\n",
    "\n",
    "        # Perform evaluation\n",
    "        val_loss, val_acc, val_f1 = evaluate(\n",
    "            model, val_dataloader, val_embeddings, f1_labels=val_f1_labels\n",
    "        )\n",
    "        history[\"val_loss\"].append(val_loss)\n",
    "        history[\"val_acc\"].append(val_acc)\n",
    "        history[\"val_f1\"].append(val_f1)\n",
    "\n",
    "        # Update progress bar\n",
    "        epoch_progress.set_postfix(\n",
    "            {\"train_f1\": f\"{train_acc * 100:.2f}\", \"val_f1\": f\"{val_acc * 100:.2f}\"}\n",
    "        )\n",
    "\n",
    "        # Save the best model so far and early stop if validation loss plateaus\n",
    "        if not early_stopping.step(val_loss):\n",
    "            torch.save(model.state_dict(), f\"models/{model_name}.pt\")\n",
    "        else:\n",
    "            print(\"Early stopping...\")\n",
    "            break\n",
    "\n",
    "    # Test the model\n",
    "    model.load_state_dict(torch.load(f\"models/{model_name}.pt\"))\n",
    "    test_loss, test_acc, test_f1 = evaluate(\n",
    "        model, test_dataloader, test_embeddings, f1_labels=test_f1_labels\n",
    "    )\n",
    "    print(\n",
    "        f\"Test loss: {test_loss:.3f} | Test accuracy: {test_acc * 100:.2f}% | Test F1: {test_f1 * 100:.2f}%\"\n",
    "    )\n",
    "\n",
    "    return history"
   ]
  },
  {
   "cell_type": "code",
   "execution_count": 218,
   "metadata": {
    "execution": {
     "iopub.execute_input": "2020-11-25T22:16:08.912275Z",
     "iopub.status.busy": "2020-11-25T22:16:08.911484Z",
     "iopub.status.idle": "2020-11-25T22:16:08.984867Z",
     "shell.execute_reply": "2020-11-25T22:16:08.983523Z",
     "shell.execute_reply.started": "2020-11-25T22:16:08.912221Z"
    }
   },
   "outputs": [],
   "source": [
    "def get_cmap(n, name=\"hsv\"):\n",
    "    \"\"\"\n",
    "    Returns a function that maps each index in {0, 1, ..., n - 1} to a distinct \n",
    "    RGB color (the keyword argument name must be a standard mpl colormap name)\n",
    "    \"\"\"\n",
    "    return plt.cm.get_cmap(name, n)\n",
    "\n",
    "\n",
    "def plot_history(history, nrows=2, ncols=3):\n",
    "    \"\"\"\n",
    "    Given an history dictionary (as built in the `train_val_test` function),\n",
    "    plots the whole training information\n",
    "    \"\"\"\n",
    "    assert nrows * ncols == len(history)\n",
    "    fig, axes = plt.subplots(nrows, ncols)\n",
    "    axes = np.array(axes).reshape((nrows, ncols))\n",
    "    fig.text(0.5, 0, 'Epochs', ha='center', va='center')\n",
    "    grid = np.arange(len(history)).reshape(nrows, ncols)\n",
    "    cmap = get_cmap(len(history))\n",
    "    for v, k in enumerate(history):\n",
    "        i, j = np.argwhere(grid == v).reshape(-1)\n",
    "        axes[i, j].plot(history[k], c=cmap(v))\n",
    "        axes[i, j].legend([k])\n",
    "    plt.tight_layout()\n",
    "    plt.show()"
   ]
  },
  {
   "cell_type": "markdown",
   "metadata": {},
   "source": [
    "Now, we store a subset of the whole set of tokens (for each split) that does not contain punctuation signs. This is necessary for the evaluation of our POS tagging models with the `F1 macro` measure, in order to compare results."
   ]
  },
  {
   "cell_type": "code",
   "execution_count": 219,
   "metadata": {
    "execution": {
     "iopub.execute_input": "2020-11-25T22:16:31.882356Z",
     "iopub.status.busy": "2020-11-25T22:16:31.881574Z",
     "iopub.status.idle": "2020-11-25T22:16:32.104696Z",
     "shell.execute_reply": "2020-11-25T22:16:32.103541Z",
     "shell.execute_reply.started": "2020-11-25T22:16:31.882312Z"
    }
   },
   "outputs": [],
   "source": [
    "get_unique_tags = partial(get_unique, df, \"tags\", split_col_name=\"split\")\n",
    "train_tags = get_unique_tags(split=\"train\")\n",
    "val_tags = get_unique_tags(split=\"val\")\n",
    "test_tags = get_unique_tags(split=\"test\")\n",
    "train_f1_labels = list(set(train_tags) - set(string.punctuation))\n",
    "val_f1_labels = list(set(val_tags) - set(string.punctuation))\n",
    "test_f1_labels = list(set(test_tags) - set(string.punctuation))\n",
    "train_f1_labels_indexes = [tags_vocabulary.from_string[t] for t in train_f1_labels]\n",
    "val_f1_labels_indexes = [tags_vocabulary.from_string[t] for t in val_f1_labels]\n",
    "test_f1_labels_indexes = [tags_vocabulary.from_string[t] for t in test_f1_labels]"
   ]
  },
  {
   "cell_type": "code",
   "execution_count": 220,
   "metadata": {
    "execution": {
     "iopub.execute_input": "2020-11-25T22:16:36.210413Z",
     "iopub.status.busy": "2020-11-25T22:16:36.209665Z",
     "iopub.status.idle": "2020-11-25T22:16:36.268743Z",
     "shell.execute_reply": "2020-11-25T22:16:36.267732Z",
     "shell.execute_reply.started": "2020-11-25T22:16:36.210369Z"
    }
   },
   "outputs": [
    {
     "name": "stdout",
     "output_type": "stream",
     "text": [
      "[('JJR', 16), ('EX', 12), ('RBR', 29), ('NN', 20), ('-RRB-', 6), (\"''\", 3), ('SYM', 32), ('IN', 14), ('PDT', 24), ('PRP', 26), ('NNPS', 22), ('UH', 34), ('FW', 13), ('LS', 18), ('NNP', 21), ('POS', 25), ('MD', 19), ('VBN', 38), ('JJ', 15), ('RP', 31), ('VB', 35), ('-LRB-', 5), ('WRB', 44), ('DT', 11), ('VBD', 36), ('PRP$', 27), ('CC', 9), ('RB', 28), ('VBZ', 40), ('WP', 42), ('WP$', 43), ('TO', 33), ('CD', 10), ('NNS', 23), ('VBG', 37), ('WDT', 41), ('JJS', 17), ('RBS', 30), ('VBP', 39), ('``', 45)]\n"
     ]
    }
   ],
   "source": [
    "print(list(zip(train_f1_labels, train_f1_labels_indexes)))"
   ]
  },
  {
   "cell_type": "markdown",
   "metadata": {},
   "source": [
    "The partial function below is used to fix some parameters of the `train_val_test` function."
   ]
  },
  {
   "cell_type": "code",
   "execution_count": 221,
   "metadata": {
    "execution": {
     "iopub.execute_input": "2020-11-25T22:16:42.531209Z",
     "iopub.status.busy": "2020-11-25T22:16:42.530392Z",
     "iopub.status.idle": "2020-11-25T22:16:42.590883Z",
     "shell.execute_reply": "2020-11-25T22:16:42.589342Z",
     "shell.execute_reply.started": "2020-11-25T22:16:42.531164Z"
    }
   },
   "outputs": [],
   "source": [
    "actual_train_val_test = partial(\n",
    "    train_val_test,\n",
    "    train_dataloader=train_dataloader,\n",
    "    val_dataloader=val_dataloader,\n",
    "    test_dataloader=test_dataloader,\n",
    "    train_embeddings=train_embeddings,\n",
    "    val_embeddings=val_embeddings,\n",
    "    test_embeddings=test_embeddings,\n",
    "    train_f1_labels=train_f1_labels_indexes,\n",
    "    val_f1_labels=val_f1_labels_indexes,\n",
    "    test_f1_labels=test_f1_labels_indexes,\n",
    "    epochs=NUM_EPOCHS,\n",
    "    es_patience=EARLY_STOPPING_PATIENCE,\n",
    "    es_min_delta=EARLY_STOPPING_MIN_DELTA,\n",
    ")"
   ]
  },
  {
   "cell_type": "markdown",
   "metadata": {},
   "source": [
    "## Baseline model (BiLSTM + FC)"
   ]
  },
  {
   "cell_type": "code",
   "execution_count": 222,
   "metadata": {
    "execution": {
     "iopub.execute_input": "2020-11-25T22:17:32.184889Z",
     "iopub.status.busy": "2020-11-25T22:17:32.184108Z",
     "iopub.status.idle": "2020-11-25T22:17:32.268021Z",
     "shell.execute_reply": "2020-11-25T22:17:32.266990Z",
     "shell.execute_reply.started": "2020-11-25T22:17:32.184833Z"
    }
   },
   "outputs": [
    {
     "name": "stderr",
     "output_type": "stream",
     "text": [
      "/root/anaconda3/lib/python3.8/site-packages/torch/cuda/__init__.py:52: UserWarning: CUDA initialization: Found no NVIDIA driver on your system. Please check that you have an NVIDIA GPU and installed a driver from http://www.nvidia.com/Download/index.aspx (Triggered internally at  /pytorch/c10/cuda/CUDAFunctions.cpp:100.)\n",
      "  return torch._C._cuda_getDeviceCount() > 0\n"
     ]
    }
   ],
   "source": [
    "bilstm_fc_model = POSTaggingModel(\n",
    "    EMBEDDING_DIMENSION,\n",
    "    HIDDEN_DIMENSION,\n",
    "    len(tags_vocabulary.string),\n",
    "    gru=False,\n",
    "    num_layers=1,\n",
    "    bidirectional=True,\n",
    "    dropout_rate=0.0,\n",
    "    lr=LEARNING_RATE,\n",
    "    padding_index=tags_vocabulary.from_string[PADDING_TOKEN],\n",
    "    crf=False,\n",
    ")"
   ]
  },
  {
   "cell_type": "code",
   "execution_count": 223,
   "metadata": {
    "execution": {
     "iopub.execute_input": "2020-11-25T22:17:33.662049Z",
     "iopub.status.busy": "2020-11-25T22:17:33.661473Z",
     "iopub.status.idle": "2020-11-25T22:17:33.719390Z",
     "shell.execute_reply": "2020-11-25T22:17:33.718401Z",
     "shell.execute_reply.started": "2020-11-25T22:17:33.662008Z"
    }
   },
   "outputs": [
    {
     "name": "stdout",
     "output_type": "stream",
     "text": [
      "The model has 452,142 trainable parameters\n"
     ]
    }
   ],
   "source": [
    "print(f\"The model has {bilstm_fc_model.count_parameters():,} trainable parameters\")"
   ]
  },
  {
   "cell_type": "code",
   "execution_count": 224,
   "metadata": {
    "execution": {
     "iopub.execute_input": "2020-11-25T22:17:36.531927Z",
     "iopub.status.busy": "2020-11-25T22:17:36.531247Z",
     "iopub.status.idle": "2020-11-25T22:17:36.616229Z",
     "shell.execute_reply": "2020-11-25T22:17:36.615160Z",
     "shell.execute_reply.started": "2020-11-25T22:17:36.531885Z"
    }
   },
   "outputs": [],
   "source": [
    "bilstm_fc_model.init_weights()"
   ]
  },
  {
   "cell_type": "code",
   "execution_count": 225,
   "metadata": {
    "execution": {
     "iopub.execute_input": "2020-11-25T22:17:49.845109Z",
     "iopub.status.busy": "2020-11-25T22:17:49.844343Z",
     "iopub.status.idle": "2020-11-25T22:22:51.252976Z",
     "shell.execute_reply": "2020-11-25T22:22:51.251607Z",
     "shell.execute_reply.started": "2020-11-25T22:17:49.845065Z"
    }
   },
   "outputs": [
    {
     "data": {
      "application/vnd.jupyter.widget-view+json": {
       "model_id": "5911236bedcd43c48842cc00fa5982b8",
       "version_major": 2,
       "version_minor": 0
      },
      "text/plain": [
       "HBox(children=(HTML(value='Epoch'), FloatProgress(value=0.0, max=15.0), HTML(value='')))"
      ]
     },
     "metadata": {},
     "output_type": "display_data"
    },
    {
     "data": {
      "application/vnd.jupyter.widget-view+json": {
       "model_id": "6cdf5d8c1f9146b992654dcad3242bc4",
       "version_major": 2,
       "version_minor": 0
      },
      "text/plain": [
       "HBox(children=(HTML(value='Training'), FloatProgress(value=1.0, bar_style='info', layout=Layout(width='20px'),…"
      ]
     },
     "metadata": {},
     "output_type": "display_data"
    },
    {
     "name": "stdout",
     "output_type": "stream",
     "text": [
      "\n"
     ]
    },
    {
     "data": {
      "application/vnd.jupyter.widget-view+json": {
       "model_id": "03157ea5d614498e949056d534041429",
       "version_major": 2,
       "version_minor": 0
      },
      "text/plain": [
       "HBox(children=(HTML(value='Validating'), FloatProgress(value=1.0, bar_style='info', layout=Layout(width='20px'…"
      ]
     },
     "metadata": {},
     "output_type": "display_data"
    },
    {
     "name": "stdout",
     "output_type": "stream",
     "text": [
      "\n"
     ]
    },
    {
     "data": {
      "application/vnd.jupyter.widget-view+json": {
       "model_id": "b741aa6a62e540b5b19f192364b1489d",
       "version_major": 2,
       "version_minor": 0
      },
      "text/plain": [
       "HBox(children=(HTML(value='Training'), FloatProgress(value=1.0, bar_style='info', layout=Layout(width='20px'),…"
      ]
     },
     "metadata": {},
     "output_type": "display_data"
    },
    {
     "name": "stdout",
     "output_type": "stream",
     "text": [
      "\n"
     ]
    },
    {
     "data": {
      "application/vnd.jupyter.widget-view+json": {
       "model_id": "05ca2053d6b74c8b9b64450ef92ed729",
       "version_major": 2,
       "version_minor": 0
      },
      "text/plain": [
       "HBox(children=(HTML(value='Validating'), FloatProgress(value=1.0, bar_style='info', layout=Layout(width='20px'…"
      ]
     },
     "metadata": {},
     "output_type": "display_data"
    },
    {
     "name": "stdout",
     "output_type": "stream",
     "text": [
      "\n"
     ]
    },
    {
     "data": {
      "application/vnd.jupyter.widget-view+json": {
       "model_id": "571dbd49cc18415ba1812eeffa398481",
       "version_major": 2,
       "version_minor": 0
      },
      "text/plain": [
       "HBox(children=(HTML(value='Training'), FloatProgress(value=1.0, bar_style='info', layout=Layout(width='20px'),…"
      ]
     },
     "metadata": {},
     "output_type": "display_data"
    },
    {
     "name": "stdout",
     "output_type": "stream",
     "text": [
      "\n"
     ]
    },
    {
     "data": {
      "application/vnd.jupyter.widget-view+json": {
       "model_id": "870f2df8fc104206a0276ac2da2e41f7",
       "version_major": 2,
       "version_minor": 0
      },
      "text/plain": [
       "HBox(children=(HTML(value='Validating'), FloatProgress(value=1.0, bar_style='info', layout=Layout(width='20px'…"
      ]
     },
     "metadata": {},
     "output_type": "display_data"
    },
    {
     "name": "stdout",
     "output_type": "stream",
     "text": [
      "\n"
     ]
    },
    {
     "data": {
      "application/vnd.jupyter.widget-view+json": {
       "model_id": "a7d50f1c509b466a914bfa516f0ccc0f",
       "version_major": 2,
       "version_minor": 0
      },
      "text/plain": [
       "HBox(children=(HTML(value='Training'), FloatProgress(value=1.0, bar_style='info', layout=Layout(width='20px'),…"
      ]
     },
     "metadata": {},
     "output_type": "display_data"
    },
    {
     "name": "stdout",
     "output_type": "stream",
     "text": [
      "\n"
     ]
    },
    {
     "data": {
      "application/vnd.jupyter.widget-view+json": {
       "model_id": "5ce6fdc39f0c4cae9bc425a961b30451",
       "version_major": 2,
       "version_minor": 0
      },
      "text/plain": [
       "HBox(children=(HTML(value='Validating'), FloatProgress(value=1.0, bar_style='info', layout=Layout(width='20px'…"
      ]
     },
     "metadata": {},
     "output_type": "display_data"
    },
    {
     "name": "stdout",
     "output_type": "stream",
     "text": [
      "\n"
     ]
    },
    {
     "data": {
      "application/vnd.jupyter.widget-view+json": {
       "model_id": "5a2d7cd29a57450692f3f86dc443e41f",
       "version_major": 2,
       "version_minor": 0
      },
      "text/plain": [
       "HBox(children=(HTML(value='Training'), FloatProgress(value=1.0, bar_style='info', layout=Layout(width='20px'),…"
      ]
     },
     "metadata": {},
     "output_type": "display_data"
    },
    {
     "name": "stdout",
     "output_type": "stream",
     "text": [
      "\n"
     ]
    },
    {
     "data": {
      "application/vnd.jupyter.widget-view+json": {
       "model_id": "e07cf6ead2224f0b834ac2444ecb8dc9",
       "version_major": 2,
       "version_minor": 0
      },
      "text/plain": [
       "HBox(children=(HTML(value='Validating'), FloatProgress(value=1.0, bar_style='info', layout=Layout(width='20px'…"
      ]
     },
     "metadata": {},
     "output_type": "display_data"
    },
    {
     "name": "stdout",
     "output_type": "stream",
     "text": [
      "\n"
     ]
    },
    {
     "data": {
      "application/vnd.jupyter.widget-view+json": {
       "model_id": "46e793ac194a492cb529a55cab4268d8",
       "version_major": 2,
       "version_minor": 0
      },
      "text/plain": [
       "HBox(children=(HTML(value='Training'), FloatProgress(value=1.0, bar_style='info', layout=Layout(width='20px'),…"
      ]
     },
     "metadata": {},
     "output_type": "display_data"
    },
    {
     "name": "stdout",
     "output_type": "stream",
     "text": [
      "\n"
     ]
    },
    {
     "data": {
      "application/vnd.jupyter.widget-view+json": {
       "model_id": "a6aff6e49e674c17b997bfb059b095ca",
       "version_major": 2,
       "version_minor": 0
      },
      "text/plain": [
       "HBox(children=(HTML(value='Validating'), FloatProgress(value=1.0, bar_style='info', layout=Layout(width='20px'…"
      ]
     },
     "metadata": {},
     "output_type": "display_data"
    },
    {
     "name": "stdout",
     "output_type": "stream",
     "text": [
      "\n"
     ]
    },
    {
     "data": {
      "application/vnd.jupyter.widget-view+json": {
       "model_id": "c2915db86bcb4ae4ab2a434ebbd08d96",
       "version_major": 2,
       "version_minor": 0
      },
      "text/plain": [
       "HBox(children=(HTML(value='Training'), FloatProgress(value=1.0, bar_style='info', layout=Layout(width='20px'),…"
      ]
     },
     "metadata": {},
     "output_type": "display_data"
    },
    {
     "name": "stdout",
     "output_type": "stream",
     "text": [
      "\n"
     ]
    },
    {
     "data": {
      "application/vnd.jupyter.widget-view+json": {
       "model_id": "1356c207970c4137b5e10db11b69328e",
       "version_major": 2,
       "version_minor": 0
      },
      "text/plain": [
       "HBox(children=(HTML(value='Validating'), FloatProgress(value=1.0, bar_style='info', layout=Layout(width='20px'…"
      ]
     },
     "metadata": {},
     "output_type": "display_data"
    },
    {
     "name": "stdout",
     "output_type": "stream",
     "text": [
      "\n"
     ]
    },
    {
     "data": {
      "application/vnd.jupyter.widget-view+json": {
       "model_id": "8073cdbfdadf4b82b7047080a65b9fbd",
       "version_major": 2,
       "version_minor": 0
      },
      "text/plain": [
       "HBox(children=(HTML(value='Training'), FloatProgress(value=1.0, bar_style='info', layout=Layout(width='20px'),…"
      ]
     },
     "metadata": {},
     "output_type": "display_data"
    },
    {
     "name": "stdout",
     "output_type": "stream",
     "text": [
      "\n"
     ]
    },
    {
     "data": {
      "application/vnd.jupyter.widget-view+json": {
       "model_id": "49c6cf9d4e1849a3a5ea683ba055c0e3",
       "version_major": 2,
       "version_minor": 0
      },
      "text/plain": [
       "HBox(children=(HTML(value='Validating'), FloatProgress(value=1.0, bar_style='info', layout=Layout(width='20px'…"
      ]
     },
     "metadata": {},
     "output_type": "display_data"
    },
    {
     "name": "stdout",
     "output_type": "stream",
     "text": [
      "\n"
     ]
    },
    {
     "data": {
      "application/vnd.jupyter.widget-view+json": {
       "model_id": "5668973cf19d4b67b71968d0b60ee680",
       "version_major": 2,
       "version_minor": 0
      },
      "text/plain": [
       "HBox(children=(HTML(value='Training'), FloatProgress(value=1.0, bar_style='info', layout=Layout(width='20px'),…"
      ]
     },
     "metadata": {},
     "output_type": "display_data"
    },
    {
     "name": "stdout",
     "output_type": "stream",
     "text": [
      "\n"
     ]
    },
    {
     "data": {
      "application/vnd.jupyter.widget-view+json": {
       "model_id": "7152a47885404358bd0397f824db2bfc",
       "version_major": 2,
       "version_minor": 0
      },
      "text/plain": [
       "HBox(children=(HTML(value='Validating'), FloatProgress(value=1.0, bar_style='info', layout=Layout(width='20px'…"
      ]
     },
     "metadata": {},
     "output_type": "display_data"
    },
    {
     "name": "stdout",
     "output_type": "stream",
     "text": [
      "\n",
      "Early stopping...\n",
      "\n"
     ]
    },
    {
     "data": {
      "application/vnd.jupyter.widget-view+json": {
       "model_id": "8f39c88dc67c477daa7e523829ee7314",
       "version_major": 2,
       "version_minor": 0
      },
      "text/plain": [
       "HBox(children=(HTML(value='Validating'), FloatProgress(value=1.0, bar_style='info', layout=Layout(width='20px'…"
      ]
     },
     "metadata": {},
     "output_type": "display_data"
    },
    {
     "name": "stdout",
     "output_type": "stream",
     "text": [
      "\n",
      "Test loss: 0.288 | Test accuracy: 91.18% | Test F1: 85.09%\n"
     ]
    }
   ],
   "source": [
    "bilstm_fc_model_history = actual_train_val_test(bilstm_fc_model, \"bilstm_fc_model\",)"
   ]
  },
  {
   "cell_type": "code",
   "execution_count": 226,
   "metadata": {
    "execution": {
     "iopub.execute_input": "2020-11-25T22:22:58.951236Z",
     "iopub.status.busy": "2020-11-25T22:22:58.950807Z",
     "iopub.status.idle": "2020-11-25T22:23:00.585358Z",
     "shell.execute_reply": "2020-11-25T22:23:00.584063Z",
     "shell.execute_reply.started": "2020-11-25T22:22:58.951191Z"
    }
   },
   "outputs": [
    {
     "data": {
      "image/png": "[encoded data removed]",
      "text/plain": [
       "<Figure size 800x600 with 6 Axes>"
      ]
     },
     "metadata": {},
     "output_type": "display_data"
    }
   ],
   "source": [
    "plot_history(bilstm_fc_model_history, nrows=2, ncols=3)"
   ]
  },
  {
   "cell_type": "markdown",
   "metadata": {},
   "source": [
    "## BiGRU + FC"
   ]
  },
  {
   "cell_type": "code",
   "execution_count": 227,
   "metadata": {
    "execution": {
     "iopub.execute_input": "2020-11-25T22:23:11.137004Z",
     "iopub.status.busy": "2020-11-25T22:23:11.136562Z",
     "iopub.status.idle": "2020-11-25T22:23:11.203948Z",
     "shell.execute_reply": "2020-11-25T22:23:11.202713Z",
     "shell.execute_reply.started": "2020-11-25T22:23:11.136959Z"
    }
   },
   "outputs": [],
   "source": [
    "bigru_fc_model = POSTaggingModel(\n",
    "    EMBEDDING_DIMENSION,\n",
    "    HIDDEN_DIMENSION,\n",
    "    len(tags_vocabulary.string),\n",
    "    gru=True,\n",
    "    num_layers=1,\n",
    "    bidirectional=True,\n",
    "    dropout_rate=0.0,\n",
    "    lr=LEARNING_RATE,\n",
    "    padding_index=tags_vocabulary.from_string[PADDING_TOKEN],\n",
    "    crf=False\n",
    ")"
   ]
  },
  {
   "cell_type": "code",
   "execution_count": 228,
   "metadata": {
    "execution": {
     "iopub.execute_input": "2020-11-25T22:23:12.303448Z",
     "iopub.status.busy": "2020-11-25T22:23:12.303130Z",
     "iopub.status.idle": "2020-11-25T22:23:12.363027Z",
     "shell.execute_reply": "2020-11-25T22:23:12.361895Z",
     "shell.execute_reply.started": "2020-11-25T22:23:12.303407Z"
    }
   },
   "outputs": [
    {
     "name": "stdout",
     "output_type": "stream",
     "text": [
      "The model has 342,062 trainable parameters\n"
     ]
    }
   ],
   "source": [
    "print(f\"The model has {bigru_fc_model.count_parameters():,} trainable parameters\")"
   ]
  },
  {
   "cell_type": "code",
   "execution_count": 229,
   "metadata": {
    "execution": {
     "iopub.execute_input": "2020-11-25T22:23:13.697227Z",
     "iopub.status.busy": "2020-11-25T22:23:13.696905Z",
     "iopub.status.idle": "2020-11-25T22:23:13.768253Z",
     "shell.execute_reply": "2020-11-25T22:23:13.767109Z",
     "shell.execute_reply.started": "2020-11-25T22:23:13.697186Z"
    }
   },
   "outputs": [],
   "source": [
    "bigru_fc_model.init_weights()"
   ]
  },
  {
   "cell_type": "code",
   "execution_count": 230,
   "metadata": {
    "execution": {
     "iopub.execute_input": "2020-11-25T22:23:15.002770Z",
     "iopub.status.busy": "2020-11-25T22:23:15.002447Z",
     "iopub.status.idle": "2020-11-25T22:28:33.249168Z",
     "shell.execute_reply": "2020-11-25T22:28:33.246320Z",
     "shell.execute_reply.started": "2020-11-25T22:23:15.002728Z"
    }
   },
   "outputs": [
    {
     "data": {
      "application/vnd.jupyter.widget-view+json": {
       "model_id": "ee096c0d93fe4720a260edd4c0e39e94",
       "version_major": 2,
       "version_minor": 0
      },
      "text/plain": [
       "HBox(children=(HTML(value='Epoch'), FloatProgress(value=0.0, max=15.0), HTML(value='')))"
      ]
     },
     "metadata": {},
     "output_type": "display_data"
    },
    {
     "data": {
      "application/vnd.jupyter.widget-view+json": {
       "model_id": "f8aeadaeaf5c4e3a88061ef64ca5423e",
       "version_major": 2,
       "version_minor": 0
      },
      "text/plain": [
       "HBox(children=(HTML(value='Training'), FloatProgress(value=1.0, bar_style='info', layout=Layout(width='20px'),…"
      ]
     },
     "metadata": {},
     "output_type": "display_data"
    },
    {
     "name": "stdout",
     "output_type": "stream",
     "text": [
      "\n"
     ]
    },
    {
     "data": {
      "application/vnd.jupyter.widget-view+json": {
       "model_id": "f4c091a001f84c8e8552a5598e08b455",
       "version_major": 2,
       "version_minor": 0
      },
      "text/plain": [
       "HBox(children=(HTML(value='Validating'), FloatProgress(value=1.0, bar_style='info', layout=Layout(width='20px'…"
      ]
     },
     "metadata": {},
     "output_type": "display_data"
    },
    {
     "name": "stdout",
     "output_type": "stream",
     "text": [
      "\n"
     ]
    },
    {
     "data": {
      "application/vnd.jupyter.widget-view+json": {
       "model_id": "88a5ff757e704d4d8c20fe84d12530c4",
       "version_major": 2,
       "version_minor": 0
      },
      "text/plain": [
       "HBox(children=(HTML(value='Training'), FloatProgress(value=1.0, bar_style='info', layout=Layout(width='20px'),…"
      ]
     },
     "metadata": {},
     "output_type": "display_data"
    },
    {
     "name": "stdout",
     "output_type": "stream",
     "text": [
      "\n"
     ]
    },
    {
     "data": {
      "application/vnd.jupyter.widget-view+json": {
       "model_id": "137a057954fa4d2dabac657284164464",
       "version_major": 2,
       "version_minor": 0
      },
      "text/plain": [
       "HBox(children=(HTML(value='Validating'), FloatProgress(value=1.0, bar_style='info', layout=Layout(width='20px'…"
      ]
     },
     "metadata": {},
     "output_type": "display_data"
    },
    {
     "name": "stdout",
     "output_type": "stream",
     "text": [
      "\n"
     ]
    },
    {
     "data": {
      "application/vnd.jupyter.widget-view+json": {
       "model_id": "dc23576996574ba1ab6e51496b73bd1a",
       "version_major": 2,
       "version_minor": 0
      },
      "text/plain": [
       "HBox(children=(HTML(value='Training'), FloatProgress(value=1.0, bar_style='info', layout=Layout(width='20px'),…"
      ]
     },
     "metadata": {},
     "output_type": "display_data"
    },
    {
     "name": "stdout",
     "output_type": "stream",
     "text": [
      "\n"
     ]
    },
    {
     "data": {
      "application/vnd.jupyter.widget-view+json": {
       "model_id": "41d242c86aef4601beeb99072b189066",
       "version_major": 2,
       "version_minor": 0
      },
      "text/plain": [
       "HBox(children=(HTML(value='Validating'), FloatProgress(value=1.0, bar_style='info', layout=Layout(width='20px'…"
      ]
     },
     "metadata": {},
     "output_type": "display_data"
    },
    {
     "name": "stdout",
     "output_type": "stream",
     "text": [
      "\n"
     ]
    },
    {
     "data": {
      "application/vnd.jupyter.widget-view+json": {
       "model_id": "c5206076e55445f6b55ba0b1d896fd26",
       "version_major": 2,
       "version_minor": 0
      },
      "text/plain": [
       "HBox(children=(HTML(value='Training'), FloatProgress(value=1.0, bar_style='info', layout=Layout(width='20px'),…"
      ]
     },
     "metadata": {},
     "output_type": "display_data"
    },
    {
     "name": "stdout",
     "output_type": "stream",
     "text": [
      "\n"
     ]
    },
    {
     "data": {
      "application/vnd.jupyter.widget-view+json": {
       "model_id": "0e5c9f7e474c4e0ab173d19e1d29d23d",
       "version_major": 2,
       "version_minor": 0
      },
      "text/plain": [
       "HBox(children=(HTML(value='Validating'), FloatProgress(value=1.0, bar_style='info', layout=Layout(width='20px'…"
      ]
     },
     "metadata": {},
     "output_type": "display_data"
    },
    {
     "name": "stdout",
     "output_type": "stream",
     "text": [
      "\n"
     ]
    },
    {
     "data": {
      "application/vnd.jupyter.widget-view+json": {
       "model_id": "243d1671f1c141d09cbdd17d9ac13af3",
       "version_major": 2,
       "version_minor": 0
      },
      "text/plain": [
       "HBox(children=(HTML(value='Training'), FloatProgress(value=1.0, bar_style='info', layout=Layout(width='20px'),…"
      ]
     },
     "metadata": {},
     "output_type": "display_data"
    },
    {
     "name": "stdout",
     "output_type": "stream",
     "text": [
      "\n"
     ]
    },
    {
     "data": {
      "application/vnd.jupyter.widget-view+json": {
       "model_id": "fc512939e7784538aa57e8d219b05f50",
       "version_major": 2,
       "version_minor": 0
      },
      "text/plain": [
       "HBox(children=(HTML(value='Validating'), FloatProgress(value=1.0, bar_style='info', layout=Layout(width='20px'…"
      ]
     },
     "metadata": {},
     "output_type": "display_data"
    },
    {
     "name": "stdout",
     "output_type": "stream",
     "text": [
      "\n"
     ]
    },
    {
     "data": {
      "application/vnd.jupyter.widget-view+json": {
       "model_id": "104149b94c844164ad9ccc5d8bf09b35",
       "version_major": 2,
       "version_minor": 0
      },
      "text/plain": [
       "HBox(children=(HTML(value='Training'), FloatProgress(value=1.0, bar_style='info', layout=Layout(width='20px'),…"
      ]
     },
     "metadata": {},
     "output_type": "display_data"
    },
    {
     "name": "stdout",
     "output_type": "stream",
     "text": [
      "\n"
     ]
    },
    {
     "data": {
      "application/vnd.jupyter.widget-view+json": {
       "model_id": "f390b7afb23440eea454f00c4f5c7153",
       "version_major": 2,
       "version_minor": 0
      },
      "text/plain": [
       "HBox(children=(HTML(value='Validating'), FloatProgress(value=1.0, bar_style='info', layout=Layout(width='20px'…"
      ]
     },
     "metadata": {},
     "output_type": "display_data"
    },
    {
     "name": "stdout",
     "output_type": "stream",
     "text": [
      "\n"
     ]
    },
    {
     "data": {
      "application/vnd.jupyter.widget-view+json": {
       "model_id": "c3619b2e4f214796b45d5e68d8d13e82",
       "version_major": 2,
       "version_minor": 0
      },
      "text/plain": [
       "HBox(children=(HTML(value='Training'), FloatProgress(value=1.0, bar_style='info', layout=Layout(width='20px'),…"
      ]
     },
     "metadata": {},
     "output_type": "display_data"
    },
    {
     "name": "stdout",
     "output_type": "stream",
     "text": [
      "\n"
     ]
    },
    {
     "data": {
      "application/vnd.jupyter.widget-view+json": {
       "model_id": "c8bfbf3aa2934f5ab7194e70dd63a4db",
       "version_major": 2,
       "version_minor": 0
      },
      "text/plain": [
       "HBox(children=(HTML(value='Validating'), FloatProgress(value=1.0, bar_style='info', layout=Layout(width='20px'…"
      ]
     },
     "metadata": {},
     "output_type": "display_data"
    },
    {
     "name": "stdout",
     "output_type": "stream",
     "text": [
      "\n"
     ]
    },
    {
     "data": {
      "application/vnd.jupyter.widget-view+json": {
       "model_id": "2f64ac6849ce4af6b8177060f673b335",
       "version_major": 2,
       "version_minor": 0
      },
      "text/plain": [
       "HBox(children=(HTML(value='Training'), FloatProgress(value=1.0, bar_style='info', layout=Layout(width='20px'),…"
      ]
     },
     "metadata": {},
     "output_type": "display_data"
    },
    {
     "name": "stdout",
     "output_type": "stream",
     "text": [
      "\n"
     ]
    },
    {
     "data": {
      "application/vnd.jupyter.widget-view+json": {
       "model_id": "2ffff00c8df3424a8883ac0bb2e4e422",
       "version_major": 2,
       "version_minor": 0
      },
      "text/plain": [
       "HBox(children=(HTML(value='Validating'), FloatProgress(value=1.0, bar_style='info', layout=Layout(width='20px'…"
      ]
     },
     "metadata": {},
     "output_type": "display_data"
    },
    {
     "name": "stdout",
     "output_type": "stream",
     "text": [
      "\n"
     ]
    },
    {
     "data": {
      "application/vnd.jupyter.widget-view+json": {
       "model_id": "374ab6fb0e0e45b59bbe7269850d632b",
       "version_major": 2,
       "version_minor": 0
      },
      "text/plain": [
       "HBox(children=(HTML(value='Training'), FloatProgress(value=1.0, bar_style='info', layout=Layout(width='20px'),…"
      ]
     },
     "metadata": {},
     "output_type": "display_data"
    },
    {
     "name": "stdout",
     "output_type": "stream",
     "text": [
      "\n"
     ]
    },
    {
     "data": {
      "application/vnd.jupyter.widget-view+json": {
       "model_id": "7e08673fd2aa41f384c6da2923f4a986",
       "version_major": 2,
       "version_minor": 0
      },
      "text/plain": [
       "HBox(children=(HTML(value='Validating'), FloatProgress(value=1.0, bar_style='info', layout=Layout(width='20px'…"
      ]
     },
     "metadata": {},
     "output_type": "display_data"
    },
    {
     "name": "stdout",
     "output_type": "stream",
     "text": [
      "\n"
     ]
    },
    {
     "data": {
      "application/vnd.jupyter.widget-view+json": {
       "model_id": "0c81305130734ca484541eb06c4930a0",
       "version_major": 2,
       "version_minor": 0
      },
      "text/plain": [
       "HBox(children=(HTML(value='Training'), FloatProgress(value=1.0, bar_style='info', layout=Layout(width='20px'),…"
      ]
     },
     "metadata": {},
     "output_type": "display_data"
    },
    {
     "name": "stdout",
     "output_type": "stream",
     "text": [
      "\n"
     ]
    },
    {
     "data": {
      "application/vnd.jupyter.widget-view+json": {
       "model_id": "36b29f16fb174ecb86b4f941644f3227",
       "version_major": 2,
       "version_minor": 0
      },
      "text/plain": [
       "HBox(children=(HTML(value='Validating'), FloatProgress(value=1.0, bar_style='info', layout=Layout(width='20px'…"
      ]
     },
     "metadata": {},
     "output_type": "display_data"
    },
    {
     "name": "stdout",
     "output_type": "stream",
     "text": [
      "\n",
      "Early stopping...\n",
      "\n"
     ]
    },
    {
     "data": {
      "application/vnd.jupyter.widget-view+json": {
       "model_id": "b9f22aff2a864ee492eef0bbb2f1538f",
       "version_major": 2,
       "version_minor": 0
      },
      "text/plain": [
       "HBox(children=(HTML(value='Validating'), FloatProgress(value=1.0, bar_style='info', layout=Layout(width='20px'…"
      ]
     },
     "metadata": {},
     "output_type": "display_data"
    },
    {
     "name": "stdout",
     "output_type": "stream",
     "text": [
      "\n",
      "Test loss: 0.264 | Test accuracy: 92.15% | Test F1: 83.86%\n"
     ]
    }
   ],
   "source": [
    "bigru_fc_model_history = actual_train_val_test(bigru_fc_model, \"bigru_fc_model\",)"
   ]
  },
  {
   "cell_type": "code",
   "execution_count": 321,
   "metadata": {
    "execution": {
     "iopub.execute_input": "2020-11-20T09:00:37.431316Z",
     "iopub.status.busy": "2020-11-20T09:00:37.430543Z",
     "iopub.status.idle": "2020-11-20T09:00:40.449113Z",
     "shell.execute_reply": "2020-11-20T09:00:40.448058Z",
     "shell.execute_reply.started": "2020-11-20T09:00:37.431269Z"
    }
   },
   "outputs": [
    {
     "data": {
      "image/png": "[encoded data removed]",
      "text/plain": [
       "<Figure size 800x600 with 6 Axes>"
      ]
     },
     "metadata": {},
     "output_type": "display_data"
    }
   ],
   "source": [
    "plot_history(bigru_fc_model_history, nrows=2, ncols=3)"
   ]
  },
  {
   "cell_type": "markdown",
   "metadata": {},
   "source": [
    "## BiLSTMx2 + FC"
   ]
  },
  {
   "cell_type": "code",
   "execution_count": 231,
   "metadata": {
    "execution": {
     "iopub.execute_input": "2020-11-25T22:28:55.584743Z",
     "iopub.status.busy": "2020-11-25T22:28:55.584293Z",
     "iopub.status.idle": "2020-11-25T22:28:55.659540Z",
     "shell.execute_reply": "2020-11-25T22:28:55.658285Z",
     "shell.execute_reply.started": "2020-11-25T22:28:55.584699Z"
    }
   },
   "outputs": [],
   "source": [
    "bilstmx2_fc_model = POSTaggingModel(\n",
    "    EMBEDDING_DIMENSION,\n",
    "    HIDDEN_DIMENSION,\n",
    "    len(tags_vocabulary.string),\n",
    "    gru=False,\n",
    "    num_layers=2,\n",
    "    bidirectional=True,\n",
    "    dropout_rate=0.0,\n",
    "    lr=LEARNING_RATE,\n",
    "    padding_index=tags_vocabulary.from_string[PADDING_TOKEN],\n",
    "    crf=False\n",
    ")"
   ]
  },
  {
   "cell_type": "code",
   "execution_count": 232,
   "metadata": {
    "execution": {
     "iopub.execute_input": "2020-11-25T22:28:56.432820Z",
     "iopub.status.busy": "2020-11-25T22:28:56.432507Z",
     "iopub.status.idle": "2020-11-25T22:28:56.490124Z",
     "shell.execute_reply": "2020-11-25T22:28:56.489001Z",
     "shell.execute_reply.started": "2020-11-25T22:28:56.432780Z"
    }
   },
   "outputs": [
    {
     "name": "stdout",
     "output_type": "stream",
     "text": [
      "The model has 847,406 trainable parameters\n"
     ]
    }
   ],
   "source": [
    "print(f\"The model has {bilstmx2_fc_model.count_parameters():,} trainable parameters\")"
   ]
  },
  {
   "cell_type": "code",
   "execution_count": 233,
   "metadata": {
    "execution": {
     "iopub.execute_input": "2020-11-25T22:28:57.425427Z",
     "iopub.status.busy": "2020-11-25T22:28:57.425113Z",
     "iopub.status.idle": "2020-11-25T22:28:57.516745Z",
     "shell.execute_reply": "2020-11-25T22:28:57.515687Z",
     "shell.execute_reply.started": "2020-11-25T22:28:57.425387Z"
    }
   },
   "outputs": [],
   "source": [
    "bilstmx2_fc_model.init_weights()"
   ]
  },
  {
   "cell_type": "code",
   "execution_count": 234,
   "metadata": {
    "execution": {
     "iopub.execute_input": "2020-11-25T22:28:58.381302Z",
     "iopub.status.busy": "2020-11-25T22:28:58.380989Z",
     "iopub.status.idle": "2020-11-25T22:36:30.459321Z",
     "shell.execute_reply": "2020-11-25T22:36:30.457957Z",
     "shell.execute_reply.started": "2020-11-25T22:28:58.381262Z"
    }
   },
   "outputs": [
    {
     "data": {
      "application/vnd.jupyter.widget-view+json": {
       "model_id": "0ee79aaf76714b0fb1e8cd1561542960",
       "version_major": 2,
       "version_minor": 0
      },
      "text/plain": [
       "HBox(children=(HTML(value='Epoch'), FloatProgress(value=0.0, max=15.0), HTML(value='')))"
      ]
     },
     "metadata": {},
     "output_type": "display_data"
    },
    {
     "data": {
      "application/vnd.jupyter.widget-view+json": {
       "model_id": "1eb3f60ce33e4ae9b0d7e7aea59acef4",
       "version_major": 2,
       "version_minor": 0
      },
      "text/plain": [
       "HBox(children=(HTML(value='Training'), FloatProgress(value=1.0, bar_style='info', layout=Layout(width='20px'),…"
      ]
     },
     "metadata": {},
     "output_type": "display_data"
    },
    {
     "name": "stdout",
     "output_type": "stream",
     "text": [
      "\n"
     ]
    },
    {
     "data": {
      "application/vnd.jupyter.widget-view+json": {
       "model_id": "84689218ef2549a09a3e354ccdfe6e53",
       "version_major": 2,
       "version_minor": 0
      },
      "text/plain": [
       "HBox(children=(HTML(value='Validating'), FloatProgress(value=1.0, bar_style='info', layout=Layout(width='20px'…"
      ]
     },
     "metadata": {},
     "output_type": "display_data"
    },
    {
     "name": "stdout",
     "output_type": "stream",
     "text": [
      "\n"
     ]
    },
    {
     "data": {
      "application/vnd.jupyter.widget-view+json": {
       "model_id": "cdebccdbd51a4406ba29eecd30f6f99d",
       "version_major": 2,
       "version_minor": 0
      },
      "text/plain": [
       "HBox(children=(HTML(value='Training'), FloatProgress(value=1.0, bar_style='info', layout=Layout(width='20px'),…"
      ]
     },
     "metadata": {},
     "output_type": "display_data"
    },
    {
     "name": "stdout",
     "output_type": "stream",
     "text": [
      "\n"
     ]
    },
    {
     "data": {
      "application/vnd.jupyter.widget-view+json": {
       "model_id": "8e2b4a71129a4628b7b5bb29d69bb0f4",
       "version_major": 2,
       "version_minor": 0
      },
      "text/plain": [
       "HBox(children=(HTML(value='Validating'), FloatProgress(value=1.0, bar_style='info', layout=Layout(width='20px'…"
      ]
     },
     "metadata": {},
     "output_type": "display_data"
    },
    {
     "name": "stdout",
     "output_type": "stream",
     "text": [
      "\n"
     ]
    },
    {
     "data": {
      "application/vnd.jupyter.widget-view+json": {
       "model_id": "bc5391d8b67e46bf86e1fa0253fb324c",
       "version_major": 2,
       "version_minor": 0
      },
      "text/plain": [
       "HBox(children=(HTML(value='Training'), FloatProgress(value=1.0, bar_style='info', layout=Layout(width='20px'),…"
      ]
     },
     "metadata": {},
     "output_type": "display_data"
    },
    {
     "name": "stdout",
     "output_type": "stream",
     "text": [
      "\n"
     ]
    },
    {
     "data": {
      "application/vnd.jupyter.widget-view+json": {
       "model_id": "4ae5541d653345f1bce2f62e6a4179af",
       "version_major": 2,
       "version_minor": 0
      },
      "text/plain": [
       "HBox(children=(HTML(value='Validating'), FloatProgress(value=1.0, bar_style='info', layout=Layout(width='20px'…"
      ]
     },
     "metadata": {},
     "output_type": "display_data"
    },
    {
     "name": "stdout",
     "output_type": "stream",
     "text": [
      "\n"
     ]
    },
    {
     "data": {
      "application/vnd.jupyter.widget-view+json": {
       "model_id": "4f8581aa6d484c43b3abc99273e3d618",
       "version_major": 2,
       "version_minor": 0
      },
      "text/plain": [
       "HBox(children=(HTML(value='Training'), FloatProgress(value=1.0, bar_style='info', layout=Layout(width='20px'),…"
      ]
     },
     "metadata": {},
     "output_type": "display_data"
    },
    {
     "name": "stdout",
     "output_type": "stream",
     "text": [
      "\n"
     ]
    },
    {
     "data": {
      "application/vnd.jupyter.widget-view+json": {
       "model_id": "db629ff6cebd43d792482a1639d4d481",
       "version_major": 2,
       "version_minor": 0
      },
      "text/plain": [
       "HBox(children=(HTML(value='Validating'), FloatProgress(value=1.0, bar_style='info', layout=Layout(width='20px'…"
      ]
     },
     "metadata": {},
     "output_type": "display_data"
    },
    {
     "name": "stdout",
     "output_type": "stream",
     "text": [
      "\n"
     ]
    },
    {
     "data": {
      "application/vnd.jupyter.widget-view+json": {
       "model_id": "a975f3bac8c34f218ddd6c26d29cc6a4",
       "version_major": 2,
       "version_minor": 0
      },
      "text/plain": [
       "HBox(children=(HTML(value='Training'), FloatProgress(value=1.0, bar_style='info', layout=Layout(width='20px'),…"
      ]
     },
     "metadata": {},
     "output_type": "display_data"
    },
    {
     "name": "stdout",
     "output_type": "stream",
     "text": [
      "\n"
     ]
    },
    {
     "data": {
      "application/vnd.jupyter.widget-view+json": {
       "model_id": "07e42e9d943a4fe9a2439528a660b8fe",
       "version_major": 2,
       "version_minor": 0
      },
      "text/plain": [
       "HBox(children=(HTML(value='Validating'), FloatProgress(value=1.0, bar_style='info', layout=Layout(width='20px'…"
      ]
     },
     "metadata": {},
     "output_type": "display_data"
    },
    {
     "name": "stdout",
     "output_type": "stream",
     "text": [
      "\n"
     ]
    },
    {
     "data": {
      "application/vnd.jupyter.widget-view+json": {
       "model_id": "9ef3343442784b799cb6378730b89327",
       "version_major": 2,
       "version_minor": 0
      },
      "text/plain": [
       "HBox(children=(HTML(value='Training'), FloatProgress(value=1.0, bar_style='info', layout=Layout(width='20px'),…"
      ]
     },
     "metadata": {},
     "output_type": "display_data"
    },
    {
     "name": "stdout",
     "output_type": "stream",
     "text": [
      "\n"
     ]
    },
    {
     "data": {
      "application/vnd.jupyter.widget-view+json": {
       "model_id": "8b5db27e7dcc4d508d70221a5b837bfc",
       "version_major": 2,
       "version_minor": 0
      },
      "text/plain": [
       "HBox(children=(HTML(value='Validating'), FloatProgress(value=1.0, bar_style='info', layout=Layout(width='20px'…"
      ]
     },
     "metadata": {},
     "output_type": "display_data"
    },
    {
     "name": "stdout",
     "output_type": "stream",
     "text": [
      "\n"
     ]
    },
    {
     "data": {
      "application/vnd.jupyter.widget-view+json": {
       "model_id": "3288f0d063de4da5b4a6fc0308bf4855",
       "version_major": 2,
       "version_minor": 0
      },
      "text/plain": [
       "HBox(children=(HTML(value='Training'), FloatProgress(value=1.0, bar_style='info', layout=Layout(width='20px'),…"
      ]
     },
     "metadata": {},
     "output_type": "display_data"
    },
    {
     "name": "stdout",
     "output_type": "stream",
     "text": [
      "\n"
     ]
    },
    {
     "data": {
      "application/vnd.jupyter.widget-view+json": {
       "model_id": "c85a9aa7befb40d9936372329e7b5735",
       "version_major": 2,
       "version_minor": 0
      },
      "text/plain": [
       "HBox(children=(HTML(value='Validating'), FloatProgress(value=1.0, bar_style='info', layout=Layout(width='20px'…"
      ]
     },
     "metadata": {},
     "output_type": "display_data"
    },
    {
     "name": "stdout",
     "output_type": "stream",
     "text": [
      "\n",
      "Early stopping...\n",
      "\n"
     ]
    },
    {
     "data": {
      "application/vnd.jupyter.widget-view+json": {
       "model_id": "62609930222a4423bdfc889beba6cd68",
       "version_major": 2,
       "version_minor": 0
      },
      "text/plain": [
       "HBox(children=(HTML(value='Validating'), FloatProgress(value=1.0, bar_style='info', layout=Layout(width='20px'…"
      ]
     },
     "metadata": {},
     "output_type": "display_data"
    },
    {
     "name": "stdout",
     "output_type": "stream",
     "text": [
      "\n",
      "Test loss: 0.293 | Test accuracy: 91.59% | Test F1: 84.16%\n"
     ]
    }
   ],
   "source": [
    "bilstmx2_fc_model_history = actual_train_val_test(bilstmx2_fc_model, \"bilstmx2_fc_model\",)"
   ]
  },
  {
   "cell_type": "code",
   "execution_count": 235,
   "metadata": {
    "execution": {
     "iopub.execute_input": "2020-11-25T22:40:52.878252Z",
     "iopub.status.busy": "2020-11-25T22:40:52.877811Z",
     "iopub.status.idle": "2020-11-25T22:40:54.490603Z",
     "shell.execute_reply": "2020-11-25T22:40:54.489328Z",
     "shell.execute_reply.started": "2020-11-25T22:40:52.878207Z"
    }
   },
   "outputs": [
    {
     "data": {
      "image/png": "[encoded data removed]",
      "text/plain": [
       "<Figure size 800x600 with 6 Axes>"
      ]
     },
     "metadata": {},
     "output_type": "display_data"
    }
   ],
   "source": [
    "plot_history(bilstmx2_fc_model_history, nrows=2, ncols=3)"
   ]
  },
  {
   "cell_type": "markdown",
   "metadata": {},
   "source": [
    "## BiLSTM + FC + CRF"
   ]
  },
  {
   "cell_type": "code",
   "execution_count": 236,
   "metadata": {
    "execution": {
     "iopub.execute_input": "2020-11-25T22:40:58.066526Z",
     "iopub.status.busy": "2020-11-25T22:40:58.066199Z",
     "iopub.status.idle": "2020-11-25T22:40:58.133738Z",
     "shell.execute_reply": "2020-11-25T22:40:58.132592Z",
     "shell.execute_reply.started": "2020-11-25T22:40:58.066485Z"
    }
   },
   "outputs": [],
   "source": [
    "bilstm_fc_crf_model = POSTaggingModel(\n",
    "    EMBEDDING_DIMENSION,\n",
    "    HIDDEN_DIMENSION,\n",
    "    len(tags_vocabulary.string),\n",
    "    gru=False,\n",
    "    num_layers=1,\n",
    "    bidirectional=True,\n",
    "    dropout_rate=0.0,\n",
    "    lr=LEARNING_RATE,\n",
    "    padding_index=tags_vocabulary.from_string[PADDING_TOKEN],\n",
    "    crf=True,\n",
    ")"
   ]
  },
  {
   "cell_type": "code",
   "execution_count": 237,
   "metadata": {
    "execution": {
     "iopub.execute_input": "2020-11-25T22:40:59.352696Z",
     "iopub.status.busy": "2020-11-25T22:40:59.352376Z",
     "iopub.status.idle": "2020-11-25T22:40:59.410549Z",
     "shell.execute_reply": "2020-11-25T22:40:59.409547Z",
     "shell.execute_reply.started": "2020-11-25T22:40:59.352656Z"
    }
   },
   "outputs": [
    {
     "name": "stdout",
     "output_type": "stream",
     "text": [
      "The model has 454,350 trainable parameters\n"
     ]
    }
   ],
   "source": [
    "print(f\"The model has {bilstm_fc_crf_model.count_parameters():,} trainable parameters\")"
   ]
  },
  {
   "cell_type": "code",
   "execution_count": 238,
   "metadata": {
    "execution": {
     "iopub.execute_input": "2020-11-25T22:41:00.643160Z",
     "iopub.status.busy": "2020-11-25T22:41:00.642830Z",
     "iopub.status.idle": "2020-11-25T22:41:00.718143Z",
     "shell.execute_reply": "2020-11-25T22:41:00.717101Z",
     "shell.execute_reply.started": "2020-11-25T22:41:00.643119Z"
    }
   },
   "outputs": [],
   "source": [
    "bilstm_fc_crf_model.init_weights()"
   ]
  },
  {
   "cell_type": "code",
   "execution_count": 239,
   "metadata": {
    "execution": {
     "iopub.execute_input": "2020-11-25T22:41:01.495053Z",
     "iopub.status.busy": "2020-11-25T22:41:01.494738Z",
     "iopub.status.idle": "2020-11-25T22:52:01.705294Z",
     "shell.execute_reply": "2020-11-25T22:52:01.703811Z",
     "shell.execute_reply.started": "2020-11-25T22:41:01.495013Z"
    }
   },
   "outputs": [
    {
     "data": {
      "application/vnd.jupyter.widget-view+json": {
       "model_id": "9bd56802004b402184ce3e815a6363db",
       "version_major": 2,
       "version_minor": 0
      },
      "text/plain": [
       "HBox(children=(HTML(value='Epoch'), FloatProgress(value=0.0, max=15.0), HTML(value='')))"
      ]
     },
     "metadata": {},
     "output_type": "display_data"
    },
    {
     "data": {
      "application/vnd.jupyter.widget-view+json": {
       "model_id": "0dd0af52babe4323886dd9cbcf62ac0d",
       "version_major": 2,
       "version_minor": 0
      },
      "text/plain": [
       "HBox(children=(HTML(value='Training'), FloatProgress(value=1.0, bar_style='info', layout=Layout(width='20px'),…"
      ]
     },
     "metadata": {},
     "output_type": "display_data"
    },
    {
     "name": "stdout",
     "output_type": "stream",
     "text": [
      "\n"
     ]
    },
    {
     "data": {
      "application/vnd.jupyter.widget-view+json": {
       "model_id": "b86975c364b34db2838d24bfcac1e922",
       "version_major": 2,
       "version_minor": 0
      },
      "text/plain": [
       "HBox(children=(HTML(value='Validating'), FloatProgress(value=1.0, bar_style='info', layout=Layout(width='20px'…"
      ]
     },
     "metadata": {},
     "output_type": "display_data"
    },
    {
     "name": "stdout",
     "output_type": "stream",
     "text": [
      "\n"
     ]
    },
    {
     "data": {
      "application/vnd.jupyter.widget-view+json": {
       "model_id": "91977b55a33f47138901a3d4b19f370e",
       "version_major": 2,
       "version_minor": 0
      },
      "text/plain": [
       "HBox(children=(HTML(value='Training'), FloatProgress(value=1.0, bar_style='info', layout=Layout(width='20px'),…"
      ]
     },
     "metadata": {},
     "output_type": "display_data"
    },
    {
     "name": "stdout",
     "output_type": "stream",
     "text": [
      "\n"
     ]
    },
    {
     "data": {
      "application/vnd.jupyter.widget-view+json": {
       "model_id": "99f171b3b1cb447ba0122e1e9bf93140",
       "version_major": 2,
       "version_minor": 0
      },
      "text/plain": [
       "HBox(children=(HTML(value='Validating'), FloatProgress(value=1.0, bar_style='info', layout=Layout(width='20px'…"
      ]
     },
     "metadata": {},
     "output_type": "display_data"
    },
    {
     "name": "stdout",
     "output_type": "stream",
     "text": [
      "\n"
     ]
    },
    {
     "data": {
      "application/vnd.jupyter.widget-view+json": {
       "model_id": "4848d32d50904a67ac462ef02bcc55c9",
       "version_major": 2,
       "version_minor": 0
      },
      "text/plain": [
       "HBox(children=(HTML(value='Training'), FloatProgress(value=1.0, bar_style='info', layout=Layout(width='20px'),…"
      ]
     },
     "metadata": {},
     "output_type": "display_data"
    },
    {
     "name": "stdout",
     "output_type": "stream",
     "text": [
      "\n"
     ]
    },
    {
     "data": {
      "application/vnd.jupyter.widget-view+json": {
       "model_id": "372752f1fd6a4bc29903bdee6f09120f",
       "version_major": 2,
       "version_minor": 0
      },
      "text/plain": [
       "HBox(children=(HTML(value='Validating'), FloatProgress(value=1.0, bar_style='info', layout=Layout(width='20px'…"
      ]
     },
     "metadata": {},
     "output_type": "display_data"
    },
    {
     "name": "stdout",
     "output_type": "stream",
     "text": [
      "\n"
     ]
    },
    {
     "data": {
      "application/vnd.jupyter.widget-view+json": {
       "model_id": "cf0e9127041e4a66979b013a20fe311e",
       "version_major": 2,
       "version_minor": 0
      },
      "text/plain": [
       "HBox(children=(HTML(value='Training'), FloatProgress(value=1.0, bar_style='info', layout=Layout(width='20px'),…"
      ]
     },
     "metadata": {},
     "output_type": "display_data"
    },
    {
     "name": "stdout",
     "output_type": "stream",
     "text": [
      "\n"
     ]
    },
    {
     "data": {
      "application/vnd.jupyter.widget-view+json": {
       "model_id": "e5fa792aeca74e3fa5a5484fcbbe1965",
       "version_major": 2,
       "version_minor": 0
      },
      "text/plain": [
       "HBox(children=(HTML(value='Validating'), FloatProgress(value=1.0, bar_style='info', layout=Layout(width='20px'…"
      ]
     },
     "metadata": {},
     "output_type": "display_data"
    },
    {
     "name": "stdout",
     "output_type": "stream",
     "text": [
      "\n"
     ]
    },
    {
     "data": {
      "application/vnd.jupyter.widget-view+json": {
       "model_id": "b187119b0d904880830035270f72dd81",
       "version_major": 2,
       "version_minor": 0
      },
      "text/plain": [
       "HBox(children=(HTML(value='Training'), FloatProgress(value=1.0, bar_style='info', layout=Layout(width='20px'),…"
      ]
     },
     "metadata": {},
     "output_type": "display_data"
    },
    {
     "name": "stdout",
     "output_type": "stream",
     "text": [
      "\n"
     ]
    },
    {
     "data": {
      "application/vnd.jupyter.widget-view+json": {
       "model_id": "5c01bcc085fa42c7b3f27906e4d624c9",
       "version_major": 2,
       "version_minor": 0
      },
      "text/plain": [
       "HBox(children=(HTML(value='Validating'), FloatProgress(value=1.0, bar_style='info', layout=Layout(width='20px'…"
      ]
     },
     "metadata": {},
     "output_type": "display_data"
    },
    {
     "name": "stdout",
     "output_type": "stream",
     "text": [
      "\n"
     ]
    },
    {
     "data": {
      "application/vnd.jupyter.widget-view+json": {
       "model_id": "40c515e1702e41a1a4a4b354e45a2f96",
       "version_major": 2,
       "version_minor": 0
      },
      "text/plain": [
       "HBox(children=(HTML(value='Training'), FloatProgress(value=1.0, bar_style='info', layout=Layout(width='20px'),…"
      ]
     },
     "metadata": {},
     "output_type": "display_data"
    },
    {
     "name": "stdout",
     "output_type": "stream",
     "text": [
      "\n"
     ]
    },
    {
     "data": {
      "application/vnd.jupyter.widget-view+json": {
       "model_id": "ded79bacaf9f4670b6c31da99bcafeab",
       "version_major": 2,
       "version_minor": 0
      },
      "text/plain": [
       "HBox(children=(HTML(value='Validating'), FloatProgress(value=1.0, bar_style='info', layout=Layout(width='20px'…"
      ]
     },
     "metadata": {},
     "output_type": "display_data"
    },
    {
     "name": "stdout",
     "output_type": "stream",
     "text": [
      "\n"
     ]
    },
    {
     "data": {
      "application/vnd.jupyter.widget-view+json": {
       "model_id": "a23a214d12ec484f980cd451200b611c",
       "version_major": 2,
       "version_minor": 0
      },
      "text/plain": [
       "HBox(children=(HTML(value='Training'), FloatProgress(value=1.0, bar_style='info', layout=Layout(width='20px'),…"
      ]
     },
     "metadata": {},
     "output_type": "display_data"
    },
    {
     "name": "stdout",
     "output_type": "stream",
     "text": [
      "\n"
     ]
    },
    {
     "data": {
      "application/vnd.jupyter.widget-view+json": {
       "model_id": "b90bd04a00c44da5b0f5c9aac1d0cd1a",
       "version_major": 2,
       "version_minor": 0
      },
      "text/plain": [
       "HBox(children=(HTML(value='Validating'), FloatProgress(value=1.0, bar_style='info', layout=Layout(width='20px'…"
      ]
     },
     "metadata": {},
     "output_type": "display_data"
    },
    {
     "name": "stdout",
     "output_type": "stream",
     "text": [
      "\n"
     ]
    },
    {
     "data": {
      "application/vnd.jupyter.widget-view+json": {
       "model_id": "1daaa10669fd47c9898cf19670733c37",
       "version_major": 2,
       "version_minor": 0
      },
      "text/plain": [
       "HBox(children=(HTML(value='Training'), FloatProgress(value=1.0, bar_style='info', layout=Layout(width='20px'),…"
      ]
     },
     "metadata": {},
     "output_type": "display_data"
    },
    {
     "name": "stdout",
     "output_type": "stream",
     "text": [
      "\n"
     ]
    },
    {
     "data": {
      "application/vnd.jupyter.widget-view+json": {
       "model_id": "6d677b626c5c4d3882fe5e57b21f33cc",
       "version_major": 2,
       "version_minor": 0
      },
      "text/plain": [
       "HBox(children=(HTML(value='Validating'), FloatProgress(value=1.0, bar_style='info', layout=Layout(width='20px'…"
      ]
     },
     "metadata": {},
     "output_type": "display_data"
    },
    {
     "name": "stdout",
     "output_type": "stream",
     "text": [
      "\n"
     ]
    },
    {
     "data": {
      "application/vnd.jupyter.widget-view+json": {
       "model_id": "367c284f04614b75931dcfa0ed21935f",
       "version_major": 2,
       "version_minor": 0
      },
      "text/plain": [
       "HBox(children=(HTML(value='Training'), FloatProgress(value=1.0, bar_style='info', layout=Layout(width='20px'),…"
      ]
     },
     "metadata": {},
     "output_type": "display_data"
    },
    {
     "name": "stdout",
     "output_type": "stream",
     "text": [
      "\n"
     ]
    },
    {
     "data": {
      "application/vnd.jupyter.widget-view+json": {
       "model_id": "979cd0bef14a4f57ba0d212c2e67cf33",
       "version_major": 2,
       "version_minor": 0
      },
      "text/plain": [
       "HBox(children=(HTML(value='Validating'), FloatProgress(value=1.0, bar_style='info', layout=Layout(width='20px'…"
      ]
     },
     "metadata": {},
     "output_type": "display_data"
    },
    {
     "name": "stdout",
     "output_type": "stream",
     "text": [
      "\n"
     ]
    },
    {
     "data": {
      "application/vnd.jupyter.widget-view+json": {
       "model_id": "0f18314929e84707a634de4d9418b46b",
       "version_major": 2,
       "version_minor": 0
      },
      "text/plain": [
       "HBox(children=(HTML(value='Training'), FloatProgress(value=1.0, bar_style='info', layout=Layout(width='20px'),…"
      ]
     },
     "metadata": {},
     "output_type": "display_data"
    },
    {
     "name": "stdout",
     "output_type": "stream",
     "text": [
      "\n"
     ]
    },
    {
     "data": {
      "application/vnd.jupyter.widget-view+json": {
       "model_id": "749e1037d3964cb483599b6e68f2053a",
       "version_major": 2,
       "version_minor": 0
      },
      "text/plain": [
       "HBox(children=(HTML(value='Validating'), FloatProgress(value=1.0, bar_style='info', layout=Layout(width='20px'…"
      ]
     },
     "metadata": {},
     "output_type": "display_data"
    },
    {
     "name": "stdout",
     "output_type": "stream",
     "text": [
      "\n"
     ]
    },
    {
     "data": {
      "application/vnd.jupyter.widget-view+json": {
       "model_id": "bba8162a18834dc48c1c6a31781edaea",
       "version_major": 2,
       "version_minor": 0
      },
      "text/plain": [
       "HBox(children=(HTML(value='Training'), FloatProgress(value=1.0, bar_style='info', layout=Layout(width='20px'),…"
      ]
     },
     "metadata": {},
     "output_type": "display_data"
    },
    {
     "name": "stdout",
     "output_type": "stream",
     "text": [
      "\n"
     ]
    },
    {
     "data": {
      "application/vnd.jupyter.widget-view+json": {
       "model_id": "e9be692353cb4da5b55e5f508a38fbfe",
       "version_major": 2,
       "version_minor": 0
      },
      "text/plain": [
       "HBox(children=(HTML(value='Validating'), FloatProgress(value=1.0, bar_style='info', layout=Layout(width='20px'…"
      ]
     },
     "metadata": {},
     "output_type": "display_data"
    },
    {
     "name": "stdout",
     "output_type": "stream",
     "text": [
      "\n",
      "Early stopping...\n",
      "\n"
     ]
    },
    {
     "data": {
      "application/vnd.jupyter.widget-view+json": {
       "model_id": "f17879a6d2f74d43863ec1780ad51ff3",
       "version_major": 2,
       "version_minor": 0
      },
      "text/plain": [
       "HBox(children=(HTML(value='Validating'), FloatProgress(value=1.0, bar_style='info', layout=Layout(width='20px'…"
      ]
     },
     "metadata": {},
     "output_type": "display_data"
    },
    {
     "name": "stdout",
     "output_type": "stream",
     "text": [
      "\n",
      "Test loss: 52.851 | Test accuracy: 90.71% | Test F1: 83.87%\n"
     ]
    }
   ],
   "source": [
    "bilstm_fc_crf_model_history = actual_train_val_test(\n",
    "    bilstm_fc_crf_model, \"bilstm_fc_crf_model\",\n",
    ")"
   ]
  },
  {
   "cell_type": "code",
   "execution_count": 240,
   "metadata": {
    "execution": {
     "iopub.execute_input": "2020-11-25T22:52:16.675234Z",
     "iopub.status.busy": "2020-11-25T22:52:16.674805Z",
     "iopub.status.idle": "2020-11-25T22:52:18.227960Z",
     "shell.execute_reply": "2020-11-25T22:52:18.226753Z",
     "shell.execute_reply.started": "2020-11-25T22:52:16.675190Z"
    }
   },
   "outputs": [
    {
     "data": {
      "image/png": "[encoded data removed]",
      "text/plain": [
       "<Figure size 800x600 with 6 Axes>"
      ]
     },
     "metadata": {},
     "output_type": "display_data"
    }
   ],
   "source": [
    "plot_history(bilstm_fc_crf_model_history, nrows=2, ncols=3)"
   ]
  },
  {
   "cell_type": "markdown",
   "metadata": {},
   "source": [
    "## Conclusions"
   ]
  },
  {
   "cell_type": "markdown",
   "metadata": {},
   "source": [
    "As we can see, early stopping kicks in on every tested instance: this means that it takes a relatively low amount of epochs to overfit the dataset on the training data. In particular, it seems that 10/15 epochs of training as enough to observe good metrics and obtain great generalization.\n",
    "\n",
    "Moreover, results from different models are comparable in terms of both accuracy and F1 macro, ranging from 90% to 92% for accuracy and from 83% to 85% for F1. One thing that is not expected is that incrementing the complexity of the network architecture actually gives worse results w.r.t sticking to a simple model (even though, as already pointed out, results are very close with each other). "
   ]
  },
  {
   "cell_type": "code",
   "execution_count": null,
   "metadata": {},
   "outputs": [],
   "source": []
  }
 ],
 "metadata": {
  "kernelspec": {
   "display_name": "Python 3",
   "language": "python",
   "name": "python3"
  },
  "language_info": {
   "codemirror_mode": {
    "name": "ipython",
    "version": 3
   },
   "file_extension": ".py",
   "mimetype": "text/x-python",
   "name": "python",
   "nbconvert_exporter": "python",
   "pygments_lexer": "ipython3",
   "version": "3.8.5"
  }
 },
 "nbformat": 4,
 "nbformat_minor": 4
}
