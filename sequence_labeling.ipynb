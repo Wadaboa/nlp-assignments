{
 "cells": [
  {
   "cell_type": "markdown",
   "metadata": {},
   "source": [
    "Assignment 3 : Sequence labelling with RNNs\n",
    "In this assignement we will ask you to perform POS tagging.\n",
    "\n",
    "You are asked to follow these steps:\n",
    "\n",
    "- Download the corpora and split it in training and test sets, structuring a dataframe.\n",
    "- Embed the words using GloVe embeddings\n",
    "- Create a baseline model, using a simple neural architecture\n",
    "- Experiment doing small modifications to the model\n",
    "- Evaluate your best model\n",
    "- Analyze the errors of your model\n",
    "- Corpora: Ignore the numeric value in the third column, use only the words/symbols and its label. https://raw.githubusercontent.com/nltk/nltk_data/gh-pages/packages/corpora/dependency_treebank.zip\n",
    "\n",
    "Splits: documents 1-100 are the train set, 101-150 validation set, 151-199 test set.\n",
    "\n",
    "Baseline: two layers architecture: a Bidirectional LSTM and a Dense/Fully-Connected layer on top.\n",
    "\n",
    "Modifications: experiment using a GRU instead of the LSTM, adding an additional LSTM layer, and using a CRF in addition to the LSTM. Each of this change must be done by itself (don't mix these modifications).\n",
    "\n",
    "Training and Experiments: all the experiments must involve only the training and validation sets.\n",
    "\n",
    "Evaluation: in the end, only the best model of your choice must be evaluated on the test set. The main metric must be F1-Macro computed between the various part of speech (without considering punctuation classes).\n",
    "\n",
    "Error Analysis (optional) : analyze the errors done by your model, try to understand which may be the causes and think about how to improve it.\n",
    "\n",
    "Report: You are asked to deliver a small report of about 4-5 lines in the .txt file that sums up your findings."
   ]
  },
  {
   "cell_type": "markdown",
   "metadata": {},
   "source": [
    "https://raw.githubusercontent.com/nltk/nltk_data/gh-pages/packages/corpora/dependency_treebank.zip"
   ]
  },
  {
   "cell_type": "markdown",
   "metadata": {},
   "source": [
    "# Sequence labeling"
   ]
  },
  {
   "cell_type": "code",
   "execution_count": 32,
   "metadata": {
    "execution": {
     "iopub.execute_input": "2020-11-19T14:02:22.805694Z",
     "iopub.status.busy": "2020-11-19T14:02:22.805274Z",
     "iopub.status.idle": "2020-11-19T14:02:22.901250Z",
     "shell.execute_reply": "2020-11-19T14:02:22.900081Z",
     "shell.execute_reply.started": "2020-11-19T14:02:22.805649Z"
    }
   },
   "outputs": [
    {
     "name": "stdout",
     "output_type": "stream",
     "text": [
      "The autoreload extension is already loaded. To reload it, use:\n",
      "  %reload_ext autoreload\n"
     ]
    }
   ],
   "source": [
    "import re\n",
    "import random\n",
    "import time\n",
    "import string\n",
    "from functools import partial\n",
    "from collections import namedtuple\n",
    "\n",
    "import pandas as pd\n",
    "import numpy as np\n",
    "import matplotlib.pyplot as plt\n",
    "import sklearn\n",
    "import nltk\n",
    "import torch\n",
    "import torch.nn as nn\n",
    "import torch.optim as optim\n",
    "from torch.utils.data import Dataset, DataLoader\n",
    "from torch.nn.utils.rnn import pad_sequence, pack_padded_sequence, pad_packed_sequence\n",
    "from torchcrf import CRF\n",
    "from tqdm.notebook import tqdm\n",
    "from nltk.corpus import dependency_treebank\n",
    "\n",
    "import utils\n",
    "\n",
    "%load_ext autoreload\n",
    "%autoreload 2\n",
    "%matplotlib inline"
   ]
  },
  {
   "cell_type": "code",
   "execution_count": 92,
   "metadata": {
    "execution": {
     "iopub.execute_input": "2020-11-19T15:42:21.911330Z",
     "iopub.status.busy": "2020-11-19T15:42:21.910915Z",
     "iopub.status.idle": "2020-11-19T15:42:21.971221Z",
     "shell.execute_reply": "2020-11-19T15:42:21.969892Z",
     "shell.execute_reply.started": "2020-11-19T15:42:21.911285Z"
    }
   },
   "outputs": [],
   "source": [
    "plt.rcParams['figure.figsize'] = [8, 6]\n",
    "plt.rcParams['figure.dpi'] = 100\n",
    "plt.rcParams['axes.xmargin'] = .05\n",
    "plt.rcParams['axes.ymargin'] = .05\n",
    "plt.style.use('ggplot')"
   ]
  },
  {
   "cell_type": "markdown",
   "metadata": {
    "execution": {
     "iopub.execute_input": "2020-11-16T10:57:06.796946Z",
     "iopub.status.busy": "2020-11-16T10:57:06.796528Z",
     "iopub.status.idle": "2020-11-16T10:57:06.854690Z",
     "shell.execute_reply": "2020-11-16T10:57:06.853393Z",
     "shell.execute_reply.started": "2020-11-16T10:57:06.796903Z"
    }
   },
   "source": [
    "## Introduction"
   ]
  },
  {
   "cell_type": "markdown",
   "metadata": {},
   "source": [
    "First of all, let's download the dependency treebank dataset from the NLTK data module$\\dots$"
   ]
  },
  {
   "cell_type": "code",
   "execution_count": 4,
   "metadata": {
    "execution": {
     "iopub.execute_input": "2020-11-19T13:54:22.639095Z",
     "iopub.status.busy": "2020-11-19T13:54:22.638563Z",
     "iopub.status.idle": "2020-11-19T13:54:22.928746Z",
     "shell.execute_reply": "2020-11-19T13:54:22.927554Z",
     "shell.execute_reply.started": "2020-11-19T13:54:22.639028Z"
    }
   },
   "outputs": [
    {
     "name": "stderr",
     "output_type": "stream",
     "text": [
      "[nltk_data] Downloading package dependency_treebank to\n",
      "[nltk_data]     /root/nltk_data...\n",
      "[nltk_data]   Package dependency_treebank is already up-to-date!\n"
     ]
    }
   ],
   "source": [
    "dataset_name = \"dependency_treebank\"\n",
    "\n",
    "try:\n",
    "    nltk.data.find(dataset_name)\n",
    "except LookupError:\n",
    "    nltk.download(dataset_name)"
   ]
  },
  {
   "cell_type": "markdown",
   "metadata": {},
   "source": [
    "Now we may want to fix all the possible sources of randomness, in order to achieve reproducible results."
   ]
  },
  {
   "cell_type": "code",
   "execution_count": 5,
   "metadata": {
    "execution": {
     "iopub.execute_input": "2020-11-19T13:54:23.469641Z",
     "iopub.status.busy": "2020-11-19T13:54:23.469333Z",
     "iopub.status.idle": "2020-11-19T13:54:23.523745Z",
     "shell.execute_reply": "2020-11-19T13:54:23.522644Z",
     "shell.execute_reply.started": "2020-11-19T13:54:23.469603Z"
    }
   },
   "outputs": [],
   "source": [
    "RANDOM_SEED = 42\n",
    "\n",
    "\n",
    "def fix_random(seed):\n",
    "    \"\"\"\n",
    "    Fix all the possible sources of randomness\n",
    "    \"\"\"\n",
    "    np.random.seed(seed)\n",
    "    random.seed(seed)\n",
    "    torch.manual_seed(seed)\n",
    "    torch.cuda.manual_seed(seed)\n",
    "    torch.backends.cudnn.benchmark = False\n",
    "    torch.backends.cudnn.deterministic = True\n",
    "\n",
    "\n",
    "fix_random(RANDOM_SEED)"
   ]
  },
  {
   "cell_type": "markdown",
   "metadata": {},
   "source": [
    "## Data preparation"
   ]
  },
  {
   "cell_type": "markdown",
   "metadata": {},
   "source": [
    "In this code section, each and every file in the dependency treebank dataset will be loaded and corresponding sentences will be splitted with the following reasoning:\n",
    "- Training set range: from file `wsj_0001.dp` to `wsj_0100.dp`\n",
    "- Validation set range: from file `wsj_0101.dp` to `wsj_0150.dp`\n",
    "- Test set range: from file `wsj_0151.dp` to `wsj_0199.dp`"
   ]
  },
  {
   "cell_type": "code",
   "execution_count": 6,
   "metadata": {
    "execution": {
     "iopub.execute_input": "2020-11-19T13:54:28.502073Z",
     "iopub.status.busy": "2020-11-19T13:54:28.501670Z",
     "iopub.status.idle": "2020-11-19T13:54:28.560514Z",
     "shell.execute_reply": "2020-11-19T13:54:28.559360Z",
     "shell.execute_reply.started": "2020-11-19T13:54:28.502029Z"
    }
   },
   "outputs": [],
   "source": [
    "file_prefix = \"wsj_\"\n",
    "file_ext = \".dp\"\n",
    "train_files = [f\"{file_prefix}{i:04d}{file_ext}\" for i in range(1, 101)]\n",
    "val_files = [f\"{file_prefix}{i:04d}{file_ext}\" for i in range(101, 151)]\n",
    "test_files = [f\"{file_prefix}{i:04d}{file_ext}\" for i in range(151, 200)]\n",
    "splits = (\n",
    "    [\"train\"] * len(train_files) + [\"val\"] * len(val_files) + [\"test\"] * len(test_files)\n",
    ")\n",
    "whole_files = train_files + val_files + test_files"
   ]
  },
  {
   "cell_type": "code",
   "execution_count": 7,
   "metadata": {
    "execution": {
     "iopub.execute_input": "2020-11-19T13:54:29.071450Z",
     "iopub.status.busy": "2020-11-19T13:54:29.071071Z",
     "iopub.status.idle": "2020-11-19T13:54:29.128679Z",
     "shell.execute_reply": "2020-11-19T13:54:29.127185Z",
     "shell.execute_reply.started": "2020-11-19T13:54:29.071408Z"
    }
   },
   "outputs": [
    {
     "data": {
      "text/plain": [
       "['wsj_0001.dp',\n",
       " 'wsj_0021.dp',\n",
       " 'wsj_0041.dp',\n",
       " 'wsj_0061.dp',\n",
       " 'wsj_0081.dp',\n",
       " 'wsj_0101.dp',\n",
       " 'wsj_0121.dp',\n",
       " 'wsj_0141.dp',\n",
       " 'wsj_0161.dp',\n",
       " 'wsj_0181.dp']"
      ]
     },
     "execution_count": 7,
     "metadata": {},
     "output_type": "execute_result"
    }
   ],
   "source": [
    "whole_files[0:-1:20]"
   ]
  },
  {
   "cell_type": "markdown",
   "metadata": {},
   "source": [
    "Let's check how are sentences encoded in each file$\\dots$"
   ]
  },
  {
   "cell_type": "code",
   "execution_count": 8,
   "metadata": {
    "execution": {
     "iopub.execute_input": "2020-11-19T13:54:38.496272Z",
     "iopub.status.busy": "2020-11-19T13:54:38.495685Z",
     "iopub.status.idle": "2020-11-19T13:54:38.573881Z",
     "shell.execute_reply": "2020-11-19T13:54:38.572575Z",
     "shell.execute_reply.started": "2020-11-19T13:54:38.496208Z"
    }
   },
   "outputs": [
    {
     "data": {
      "text/plain": [
       "'Pierre\\tNNP\\t2\\nVinken\\tNNP\\t8\\n,\\t,\\t2\\n61\\tCD\\t5\\nyears\\tNNS\\t6\\nold\\tJJ\\t2\\n,\\t,\\t2\\nwill\\tMD\\t0\\njoin\\tVB\\t8\\nthe\\tDT\\t11\\nboard\\tNN\\t9\\nas\\tIN\\t9\\na\\tDT\\t15\\nnonexecutive\\tJJ\\t15\\ndirector\\tNN\\t12\\nNov.\\tNNP\\t9\\n29\\tCD\\t16\\n.\\t.\\t8\\n\\nMr.\\tNNP\\t2\\nVinken\\tNNP\\t3\\nis\\tVBZ\\t0\\nchairman\\tNN\\t3\\nof\\tIN\\t4\\nElsevier\\tNNP\\t7\\nN.V.\\tNNP\\t12\\n,\\t,\\t12\\nthe\\tDT\\t12\\nDutch\\tNNP\\t12\\npublishing\\tVBG\\t12\\ngroup\\tNN\\t5\\n.\\t.\\t3\\n'"
      ]
     },
     "execution_count": 8,
     "metadata": {},
     "output_type": "execute_result"
    }
   ],
   "source": [
    "dependency_treebank.raw(fileids=whole_files[0])"
   ]
  },
  {
   "cell_type": "markdown",
   "metadata": {},
   "source": [
    "It seems that each sentence is subdivided in triples that follow the pattern `token \\t tag \\t number \\n`, where `\\t` is the tab symbol and `\\n` the newline one. Since we are only interested in tokens and tags, we can simply discard the last number encountered in the triples in each line of a sentence. Moreover, we can observe that different sentences in the same file are separated by a blank character (i.e. `\"\"`), which we can exploit to build our dataset."
   ]
  },
  {
   "cell_type": "code",
   "execution_count": 15,
   "metadata": {
    "execution": {
     "iopub.execute_input": "2020-11-19T13:56:06.429736Z",
     "iopub.status.busy": "2020-11-19T13:56:06.429288Z",
     "iopub.status.idle": "2020-11-19T13:56:06.498851Z",
     "shell.execute_reply": "2020-11-19T13:56:06.497532Z",
     "shell.execute_reply.started": "2020-11-19T13:56:06.429689Z"
    }
   },
   "outputs": [],
   "source": [
    "def split_into_sentences(splitted_file_str, split_token):\n",
    "    \"\"\"\n",
    "    Split the given file string into sentences, by splitting on\n",
    "    a specific token (e.g. the empty token)\n",
    "    \"\"\"\n",
    "    sentences = []\n",
    "    start_indexes = [0]\n",
    "    for i, elem in enumerate(splitted_file_str):\n",
    "        if elem == split_token:\n",
    "            sentences.append(splitted_file_str[start_indexes[len(sentences)] : i])\n",
    "            start_indexes.append(i + 1)\n",
    "    return sentences\n",
    "\n",
    "\n",
    "def parse_file(fileid, preprocessor=None, split_sentences=False, split_token=\"\"):\n",
    "    \"\"\"\n",
    "    Parse the given file identifier from the dependency treebank corpus\n",
    "    and return a tuple (`tokens`, `tags`), s.t.\n",
    "        - `tokens` and `tags` are 1D lists containing the tokens and\n",
    "           their associated tags in the entire document\n",
    "           (applied when `split_sentences` is False)\n",
    "        - `tokens` and `tags` are 2D lists, where each sublist contains\n",
    "           tokens and tags of a single sentence in the document\n",
    "           (applied when `split_sentences` is True)\n",
    "    \n",
    "    If you wish to preprocess tokens, you can pass a function to the\n",
    "    `preprocessor` argument, which should take as input only the token\n",
    "    to transform\n",
    "    \"\"\"\n",
    "    file_str = dependency_treebank.raw(fileids=fileid).split(\"\\n\")\n",
    "    sentences = [file_str]\n",
    "    if split_sentences:\n",
    "        sentences = split_into_sentences(file_str, split_token=split_token)\n",
    "    if preprocessor is None:\n",
    "        preprocessor = lambda t: t\n",
    "    tokens, tags = [], []\n",
    "    for sentence in sentences:\n",
    "        sentence_tokens, sentence_tags = [], []\n",
    "        for triple in sentence:\n",
    "            splitted_triple = triple.split(\"\\t\")\n",
    "            token = preprocessor(splitted_triple[0])\n",
    "            if token != split_token:\n",
    "                tag = splitted_triple[1]\n",
    "                sentence_tokens.append(token)\n",
    "                sentence_tags.append(tag)\n",
    "        if len(sentence_tokens) > 0:\n",
    "            tokens.append(sentence_tokens)\n",
    "            tags.append(sentence_tags)\n",
    "    return tokens, tags\n",
    "\n",
    "\n",
    "def parse_files(fileids, preprocessor=None, split_sentences=False, split_token=\"\"):\n",
    "    \"\"\"\n",
    "    Parse a set of file identifiers from the dependency treebank corpus\n",
    "    and return two lists, one which contains lists of tokens and one \n",
    "    containing lists of corresponding tags for each sentence\n",
    "    \"\"\"\n",
    "    tokens_list, tags_list = [], []\n",
    "    for fileid in fileids:\n",
    "        tokens, tags = parse_file(\n",
    "            fileid, preprocessor=preprocessor, split_sentences=split_sentences\n",
    "        )\n",
    "        tokens_list.append(tokens)\n",
    "        tags_list.append(tags)\n",
    "    return tokens_list, tags_list"
   ]
  },
  {
   "cell_type": "markdown",
   "metadata": {},
   "source": [
    "In order to have a lower number of OOV words w.r.t. the embeddings that we will use next, we are going to perform a gentle preprocessing of each token."
   ]
  },
  {
   "cell_type": "code",
   "execution_count": 16,
   "metadata": {
    "execution": {
     "iopub.execute_input": "2020-11-19T13:56:06.736848Z",
     "iopub.status.busy": "2020-11-19T13:56:06.736540Z",
     "iopub.status.idle": "2020-11-19T13:56:06.787384Z",
     "shell.execute_reply": "2020-11-19T13:56:06.786253Z",
     "shell.execute_reply.started": "2020-11-19T13:56:06.736810Z"
    }
   },
   "outputs": [],
   "source": [
    "def preprocess_token(token):\n",
    "    \"\"\"\n",
    "    Peform small modifications to the given token:\n",
    "        - Transform to lowercase\n",
    "        - Encode numbers as \"<num>\"\n",
    "    \"\"\"\n",
    "    token = token.lower()\n",
    "    token = \"<num>\" if re.match(utils.FLOAT_RE, token) else token\n",
    "    return token"
   ]
  },
  {
   "cell_type": "markdown",
   "metadata": {},
   "source": [
    "Below we are extracting two lists from the raw dataset:\n",
    "- `whole_tokens`, which is a 3D list of containing documents as the first dimension, then sentences as the second dimension and tokens as the third and final dimension\n",
    "- `whole tags`, which is a list parallel to `whole_tokens`, where the only difference lies in the final dimension, containing tags instead of tokens"
   ]
  },
  {
   "cell_type": "code",
   "execution_count": 130,
   "metadata": {
    "execution": {
     "iopub.execute_input": "2020-11-19T16:24:37.506189Z",
     "iopub.status.busy": "2020-11-19T16:24:37.505771Z",
     "iopub.status.idle": "2020-11-19T16:24:38.047997Z",
     "shell.execute_reply": "2020-11-19T16:24:38.046685Z",
     "shell.execute_reply.started": "2020-11-19T16:24:37.506145Z"
    }
   },
   "outputs": [],
   "source": [
    "whole_tokens, whole_tags = parse_files(\n",
    "    whole_files, preprocessor=preprocess_token, split_sentences=True, split_token=\"\"\n",
    ")\n",
    "whole_sentences_tokens = [\n",
    "    sentence for document in whole_tokens for sentence in document\n",
    "]\n",
    "whole_sentences_tags = [\n",
    "    sentence_tags for document in whole_tags for sentence_tags in document\n",
    "]"
   ]
  },
  {
   "cell_type": "markdown",
   "metadata": {},
   "source": [
    "Now we can build our initial DataFrame, with the following columns:\n",
    "- `tokens`: the list of tokens in a sentence\n",
    "- `tags`: the list of tags associated to each token in a sentence\n",
    "- `split`: the split (`train`, `val` or `test`) associated to a particular example\n",
    "- `fileid`: the file identifier associated to each sentence"
   ]
  },
  {
   "cell_type": "code",
   "execution_count": 131,
   "metadata": {
    "execution": {
     "iopub.execute_input": "2020-11-19T16:24:54.080815Z",
     "iopub.status.busy": "2020-11-19T16:24:54.080397Z",
     "iopub.status.idle": "2020-11-19T16:24:54.179175Z",
     "shell.execute_reply": "2020-11-19T16:24:54.178080Z",
     "shell.execute_reply.started": "2020-11-19T16:24:54.080771Z"
    }
   },
   "outputs": [
    {
     "data": {
      "text/html": [
       "<div>\n",
       "<style scoped>\n",
       "    .dataframe tbody tr th:only-of-type {\n",
       "        vertical-align: middle;\n",
       "    }\n",
       "\n",
       "    .dataframe tbody tr th {\n",
       "        vertical-align: top;\n",
       "    }\n",
       "\n",
       "    .dataframe thead th {\n",
       "        text-align: right;\n",
       "    }\n",
       "</style>\n",
       "<table border=\"1\" class=\"dataframe\">\n",
       "  <thead>\n",
       "    <tr style=\"text-align: right;\">\n",
       "      <th></th>\n",
       "      <th>tokens</th>\n",
       "      <th>tags</th>\n",
       "      <th>split</th>\n",
       "      <th>fileid</th>\n",
       "    </tr>\n",
       "  </thead>\n",
       "  <tbody>\n",
       "    <tr>\n",
       "      <th>0</th>\n",
       "      <td>[pierre, vinken, ,, &lt;num&gt;, years, old, ,, will...</td>\n",
       "      <td>[NNP, NNP, ,, CD, NNS, JJ, ,, MD, VB, DT, NN, ...</td>\n",
       "      <td>train</td>\n",
       "      <td>wsj_0001.dp</td>\n",
       "    </tr>\n",
       "    <tr>\n",
       "      <th>1</th>\n",
       "      <td>[mr., vinken, is, chairman, of, elsevier, n.v....</td>\n",
       "      <td>[NNP, NNP, VBZ, NN, IN, NNP, NNP, ,, DT, NNP, ...</td>\n",
       "      <td>train</td>\n",
       "      <td>wsj_0001.dp</td>\n",
       "    </tr>\n",
       "    <tr>\n",
       "      <th>2</th>\n",
       "      <td>[rudolph, agnew, ,, &lt;num&gt;, years, old, and, fo...</td>\n",
       "      <td>[NNP, NNP, ,, CD, NNS, JJ, CC, JJ, NN, IN, NNP...</td>\n",
       "      <td>train</td>\n",
       "      <td>wsj_0002.dp</td>\n",
       "    </tr>\n",
       "    <tr>\n",
       "      <th>3</th>\n",
       "      <td>[a, form, of, asbestos, once, used, to, make, ...</td>\n",
       "      <td>[DT, NN, IN, NN, RB, VBN, TO, VB, NNP, NN, NNS...</td>\n",
       "      <td>train</td>\n",
       "      <td>wsj_0003.dp</td>\n",
       "    </tr>\n",
       "    <tr>\n",
       "      <th>4</th>\n",
       "      <td>[the, asbestos, fiber, ,, crocidolite, ,, is, ...</td>\n",
       "      <td>[DT, NN, NN, ,, NN, ,, VBZ, RB, JJ, IN, PRP, V...</td>\n",
       "      <td>train</td>\n",
       "      <td>wsj_0003.dp</td>\n",
       "    </tr>\n",
       "  </tbody>\n",
       "</table>\n",
       "</div>"
      ],
      "text/plain": [
       "                                              tokens  \\\n",
       "0  [pierre, vinken, ,, <num>, years, old, ,, will...   \n",
       "1  [mr., vinken, is, chairman, of, elsevier, n.v....   \n",
       "2  [rudolph, agnew, ,, <num>, years, old, and, fo...   \n",
       "3  [a, form, of, asbestos, once, used, to, make, ...   \n",
       "4  [the, asbestos, fiber, ,, crocidolite, ,, is, ...   \n",
       "\n",
       "                                                tags  split       fileid  \n",
       "0  [NNP, NNP, ,, CD, NNS, JJ, ,, MD, VB, DT, NN, ...  train  wsj_0001.dp  \n",
       "1  [NNP, NNP, VBZ, NN, IN, NNP, NNP, ,, DT, NNP, ...  train  wsj_0001.dp  \n",
       "2  [NNP, NNP, ,, CD, NNS, JJ, CC, JJ, NN, IN, NNP...  train  wsj_0002.dp  \n",
       "3  [DT, NN, IN, NN, RB, VBN, TO, VB, NNP, NN, NNS...  train  wsj_0003.dp  \n",
       "4  [DT, NN, NN, ,, NN, ,, VBZ, RB, JJ, IN, PRP, V...  train  wsj_0003.dp  "
      ]
     },
     "execution_count": 131,
     "metadata": {},
     "output_type": "execute_result"
    }
   ],
   "source": [
    "df = pd.DataFrame(\n",
    "    {\n",
    "        \"tokens\": whole_sentences_tokens,\n",
    "        \"tags\": whole_sentences_tags,\n",
    "        \"split\": [\n",
    "            split\n",
    "            for i, sentence in enumerate(whole_tokens)\n",
    "            for split in [splits[i]] * len(sentence)\n",
    "        ],\n",
    "        \"fileid\": [\n",
    "            fileid\n",
    "            for i, sentence in enumerate(whole_tokens)\n",
    "            for fileid in [whole_files[i]] * len(sentence)\n",
    "        ],\n",
    "    }\n",
    ")\n",
    "df.head()"
   ]
  },
  {
   "cell_type": "markdown",
   "metadata": {},
   "source": [
    "Let's see how many sentences do we have in each learning split$\\dots$"
   ]
  },
  {
   "cell_type": "code",
   "execution_count": 75,
   "metadata": {
    "execution": {
     "iopub.execute_input": "2020-11-19T15:01:34.736838Z",
     "iopub.status.busy": "2020-11-19T15:01:34.736417Z",
     "iopub.status.idle": "2020-11-19T15:01:34.798705Z",
     "shell.execute_reply": "2020-11-19T15:01:34.797582Z",
     "shell.execute_reply.started": "2020-11-19T15:01:34.736793Z"
    }
   },
   "outputs": [
    {
     "data": {
      "text/plain": [
       "train    1963\n",
       "val      1299\n",
       "test      652\n",
       "Name: split, dtype: int64"
      ]
     },
     "execution_count": 75,
     "metadata": {},
     "output_type": "execute_result"
    }
   ],
   "source": [
    "df[\"split\"].value_counts()"
   ]
  },
  {
   "cell_type": "markdown",
   "metadata": {},
   "source": [
    "## Data exploration"
   ]
  },
  {
   "cell_type": "markdown",
   "metadata": {},
   "source": [
    "After extracting the tags and tokens for each sentence of the whole dataset, we may want to observe what their distributions look like (e.g. check the most frequent tags)."
   ]
  },
  {
   "cell_type": "code",
   "execution_count": 158,
   "metadata": {
    "execution": {
     "iopub.execute_input": "2020-11-19T17:05:29.650468Z",
     "iopub.status.busy": "2020-11-19T17:05:29.650045Z",
     "iopub.status.idle": "2020-11-19T17:05:29.712249Z",
     "shell.execute_reply": "2020-11-19T17:05:29.711119Z",
     "shell.execute_reply.started": "2020-11-19T17:05:29.650423Z"
    }
   },
   "outputs": [],
   "source": [
    "def flatten(a):\n",
    "    \"\"\"\n",
    "    Given a multidimensional list, returns its flattened version\n",
    "    \"\"\"\n",
    "    if isinstance(a, (list, tuple, set, range)):\n",
    "        for s in a:\n",
    "            yield from flatten(s)\n",
    "    else:\n",
    "        yield a\n",
    "\n",
    "\n",
    "def get_col(df, col_name, split=None, split_col_name=\"split\"):\n",
    "    \"\"\"\n",
    "    Returns a list obtained by concatenating the lists of each row,\n",
    "    in a specific column of the given DataFrame\n",
    "    \"\"\"\n",
    "    return (\n",
    "        df[df[split_col_name] == split][col_name] if split is not None else df[col_name]\n",
    "    ).tolist()\n",
    "\n",
    "\n",
    "def get_unique(df, col_name, split=None, split_col_name=\"split\"):\n",
    "    \"\"\"\n",
    "    Returns the unique values found in a DataFrame column\n",
    "    composed of lists\n",
    "    \"\"\"\n",
    "    assert isinstance(df.loc[0, col_name], list)\n",
    "    selection = get_col(df, col_name, split=split, split_col_name=split_col_name)\n",
    "    return np.unique(list(flatten(selection)))"
   ]
  },
  {
   "cell_type": "markdown",
   "metadata": {},
   "source": [
    "How many unique tags do we have to deal with?"
   ]
  },
  {
   "cell_type": "code",
   "execution_count": 89,
   "metadata": {
    "execution": {
     "iopub.execute_input": "2020-11-19T15:42:11.075197Z",
     "iopub.status.busy": "2020-11-19T15:42:11.074768Z",
     "iopub.status.idle": "2020-11-19T15:42:11.281352Z",
     "shell.execute_reply": "2020-11-19T15:42:11.280197Z",
     "shell.execute_reply.started": "2020-11-19T15:42:11.075152Z"
    }
   },
   "outputs": [
    {
     "name": "stdout",
     "output_type": "stream",
     "text": [
      "There are 45 unique tags in the dataset\n"
     ]
    }
   ],
   "source": [
    "unique_tags = get_unique(df, \"tags\")\n",
    "print(f\"There are {len(unique_tags)} unique tags in the dataset\")"
   ]
  },
  {
   "cell_type": "markdown",
   "metadata": {},
   "source": [
    "What are the 10 most frequent tags?"
   ]
  },
  {
   "cell_type": "code",
   "execution_count": 90,
   "metadata": {
    "execution": {
     "iopub.execute_input": "2020-11-19T15:42:13.135724Z",
     "iopub.status.busy": "2020-11-19T15:42:13.135258Z",
     "iopub.status.idle": "2020-11-19T15:42:13.352384Z",
     "shell.execute_reply": "2020-11-19T15:42:13.350884Z",
     "shell.execute_reply.started": "2020-11-19T15:42:13.135674Z"
    }
   },
   "outputs": [
    {
     "data": {
      "text/plain": [
       "[('NN', 13166),\n",
       " ('IN', 9857),\n",
       " ('NNP', 9410),\n",
       " ('DT', 8165),\n",
       " ('NNS', 6047),\n",
       " ('JJ', 5834),\n",
       " (',', 4886),\n",
       " ('.', 3874),\n",
       " ('CD', 3546),\n",
       " ('VBD', 3043)]"
      ]
     },
     "execution_count": 90,
     "metadata": {},
     "output_type": "execute_result"
    }
   ],
   "source": [
    "tags_fd = nltk.probability.FreqDist(flattened_tags)\n",
    "tags_fd.most_common(10)"
   ]
  },
  {
   "cell_type": "markdown",
   "metadata": {},
   "source": [
    "What is the distribution of the whole set of tags?"
   ]
  },
  {
   "cell_type": "code",
   "execution_count": 93,
   "metadata": {
    "execution": {
     "iopub.execute_input": "2020-11-19T15:42:25.841991Z",
     "iopub.status.busy": "2020-11-19T15:42:25.841580Z",
     "iopub.status.idle": "2020-11-19T15:42:26.816821Z",
     "shell.execute_reply": "2020-11-19T15:42:26.815579Z",
     "shell.execute_reply.started": "2020-11-19T15:42:25.841947Z"
    }
   },
   "outputs": [
    {
     "data": {
      "image/png": "[encoded data removed]",
      "text/plain": [
       "<Figure size 800x600 with 1 Axes>"
      ]
     },
     "metadata": {},
     "output_type": "display_data"
    }
   ],
   "source": [
    "tags_fd.plot(title=\"Tags distribution\", cumulative=False)\n",
    "plt.show()"
   ]
  },
  {
   "cell_type": "markdown",
   "metadata": {},
   "source": [
    "How many unique tokens does our dataset have?"
   ]
  },
  {
   "cell_type": "code",
   "execution_count": 94,
   "metadata": {
    "execution": {
     "iopub.execute_input": "2020-11-19T15:42:39.429021Z",
     "iopub.status.busy": "2020-11-19T15:42:39.428601Z",
     "iopub.status.idle": "2020-11-19T15:42:39.670711Z",
     "shell.execute_reply": "2020-11-19T15:42:39.669528Z",
     "shell.execute_reply.started": "2020-11-19T15:42:39.428975Z"
    }
   },
   "outputs": [
    {
     "name": "stdout",
     "output_type": "stream",
     "text": [
      "There are 9964 unique tokens in the dataset\n"
     ]
    }
   ],
   "source": [
    "unique_tokens = get_unique(df, \"tokens\")\n",
    "print(f\"There are {len(unique_tokens)} unique tokens in the dataset\")"
   ]
  },
  {
   "cell_type": "markdown",
   "metadata": {},
   "source": [
    "What are the 10 most used tokens?"
   ]
  },
  {
   "cell_type": "code",
   "execution_count": 95,
   "metadata": {
    "execution": {
     "iopub.execute_input": "2020-11-19T15:42:41.117361Z",
     "iopub.status.busy": "2020-11-19T15:42:41.116968Z",
     "iopub.status.idle": "2020-11-19T15:42:41.309201Z",
     "shell.execute_reply": "2020-11-19T15:42:41.307961Z",
     "shell.execute_reply.started": "2020-11-19T15:42:41.117317Z"
    }
   },
   "outputs": [
    {
     "data": {
      "text/plain": [
       "[(',', 4885),\n",
       " ('the', 4764),\n",
       " ('.', 3828),\n",
       " ('<num>', 2471),\n",
       " ('of', 2325),\n",
       " ('to', 2182),\n",
       " ('a', 1988),\n",
       " ('in', 1769),\n",
       " ('and', 1556),\n",
       " (\"'s\", 865)]"
      ]
     },
     "execution_count": 95,
     "metadata": {},
     "output_type": "execute_result"
    }
   ],
   "source": [
    "tokens_fd = nltk.probability.FreqDist(flattened_tokens)\n",
    "tokens_fd.most_common(10)"
   ]
  },
  {
   "cell_type": "markdown",
   "metadata": {},
   "source": [
    "What is the distribution of the top 50 tokens with greatest frequency?"
   ]
  },
  {
   "cell_type": "code",
   "execution_count": 96,
   "metadata": {
    "execution": {
     "iopub.execute_input": "2020-11-19T15:42:42.590273Z",
     "iopub.status.busy": "2020-11-19T15:42:42.589939Z",
     "iopub.status.idle": "2020-11-19T15:42:43.640142Z",
     "shell.execute_reply": "2020-11-19T15:42:43.638934Z",
     "shell.execute_reply.started": "2020-11-19T15:42:42.590231Z"
    }
   },
   "outputs": [
    {
     "data": {
      "image/png": "[encoded data removed]",
      "text/plain": [
       "<Figure size 800x600 with 1 Axes>"
      ]
     },
     "metadata": {},
     "output_type": "display_data"
    }
   ],
   "source": [
    "tokens_fd.plot(50, title=\"Tokens distribution\", cumulative=False)\n",
    "plt.show()"
   ]
  },
  {
   "cell_type": "markdown",
   "metadata": {},
   "source": [
    "## Vocabularies"
   ]
  },
  {
   "cell_type": "markdown",
   "metadata": {},
   "source": [
    "The first thing that we have to do is to build two vocabularies, one for tokens and one for tags. The important things about the vocabulary building procedure are mainly two:\n",
    "1. It must be a deterministic method, i.e. it must output the same result when given the same input\n",
    "2. The first index of the produced vocabulary (i.e. index zero), must contain the padding token, which will be used at training time to pad sequences in the same batch to be of the same lenght"
   ]
  },
  {
   "cell_type": "code",
   "execution_count": 107,
   "metadata": {
    "execution": {
     "iopub.execute_input": "2020-11-19T16:01:38.207203Z",
     "iopub.status.busy": "2020-11-19T16:01:38.206786Z",
     "iopub.status.idle": "2020-11-19T16:01:38.263617Z",
     "shell.execute_reply": "2020-11-19T16:01:38.262434Z",
     "shell.execute_reply.started": "2020-11-19T16:01:38.207158Z"
    }
   },
   "outputs": [],
   "source": [
    "Vocabulary = namedtuple(\n",
    "    \"Vocabulary\", [\"to_string\", \"from_string\", \"string\"]\n",
    ")"
   ]
  },
  {
   "cell_type": "code",
   "execution_count": 109,
   "metadata": {
    "execution": {
     "iopub.execute_input": "2020-11-19T16:01:51.993302Z",
     "iopub.status.busy": "2020-11-19T16:01:51.992879Z",
     "iopub.status.idle": "2020-11-19T16:01:52.055411Z",
     "shell.execute_reply": "2020-11-19T16:01:52.054267Z",
     "shell.execute_reply.started": "2020-11-19T16:01:51.993258Z"
    }
   },
   "outputs": [],
   "source": [
    "def build_vocabulary(tokens, padding_token=\"0\"):\n",
    "    \"\"\"\n",
    "    Given a list of strings, builds the corresponding Vocabulary object\n",
    "    \"\"\"\n",
    "    assert padding_token not in tokens\n",
    "    words = sorted(set(tokens))\n",
    "    vocabulary, inverse_vocabulary, neighbors = dict(), dict(), dict()\n",
    "    vocabulary[0] = str(padding_token)\n",
    "    inverse_vocabulary[str(padding_token)] = 0\n",
    "    for i, w in tqdm(enumerate(words)):\n",
    "        vocabulary[i + 1] = w\n",
    "        inverse_vocabulary[w] = i + 1\n",
    "    return Vocabulary(\n",
    "        to_string=vocabulary,\n",
    "        from_string=inverse_vocabulary,\n",
    "        string=[padding_token] + words,\n",
    "    )"
   ]
  },
  {
   "cell_type": "markdown",
   "metadata": {},
   "source": [
    "Since we want to use the same padding token for both words and tags, we have to check that this token does not appear in our unique lists of tokens and tags$\\dots$ "
   ]
  },
  {
   "cell_type": "code",
   "execution_count": 100,
   "metadata": {
    "execution": {
     "iopub.execute_input": "2020-11-19T15:45:01.828845Z",
     "iopub.status.busy": "2020-11-19T15:45:01.828423Z",
     "iopub.status.idle": "2020-11-19T15:45:01.886881Z",
     "shell.execute_reply": "2020-11-19T15:45:01.885790Z",
     "shell.execute_reply.started": "2020-11-19T15:45:01.828801Z"
    }
   },
   "outputs": [
    {
     "name": "stdout",
     "output_type": "stream",
     "text": [
      "Is the padding token in one of the two unique lists of tokens or tags? False\n"
     ]
    }
   ],
   "source": [
    "PADDING_TOKEN = \"0\"\n",
    "is_token = PADDING_TOKEN in unique_tokens\n",
    "is_tag = PADDING_TOKEN in unique_tags\n",
    "print(\n",
    "    f\"Is the padding token in one of the two unique lists of tokens or tags? {is_token or is_tag}\"\n",
    ")"
   ]
  },
  {
   "cell_type": "markdown",
   "metadata": {
    "execution": {
     "iopub.execute_input": "2020-11-19T16:04:26.187257Z",
     "iopub.status.busy": "2020-11-19T16:04:26.186838Z",
     "iopub.status.idle": "2020-11-19T16:04:26.246467Z",
     "shell.execute_reply": "2020-11-19T16:04:26.245026Z",
     "shell.execute_reply.started": "2020-11-19T16:04:26.187213Z"
    }
   },
   "source": [
    "We will use the padding token `\"0\"`, since it fulfills our requirements. \n",
    "\n",
    "**Note**: We are cheating a little bit, since we are allowing ourselves to have a look at the entire dataset to use a single padding token, which is something wrong, but convenient in this specific case."
   ]
  },
  {
   "cell_type": "code",
   "execution_count": 116,
   "metadata": {
    "execution": {
     "iopub.execute_input": "2020-11-19T16:12:32.818249Z",
     "iopub.status.busy": "2020-11-19T16:12:32.817815Z",
     "iopub.status.idle": "2020-11-19T16:12:33.011135Z",
     "shell.execute_reply": "2020-11-19T16:12:33.010011Z",
     "shell.execute_reply.started": "2020-11-19T16:12:32.818198Z"
    }
   },
   "outputs": [
    {
     "data": {
      "application/vnd.jupyter.widget-view+json": {
       "model_id": "02c3f8de7dd943b58bc244a426b2f9f3",
       "version_major": 2,
       "version_minor": 0
      },
      "text/plain": [
       "HBox(children=(HTML(value=''), FloatProgress(value=1.0, bar_style='info', layout=Layout(width='20px'), max=1.0…"
      ]
     },
     "metadata": {},
     "output_type": "display_data"
    },
    {
     "name": "stdout",
     "output_type": "stream",
     "text": [
      "\n"
     ]
    },
    {
     "data": {
      "application/vnd.jupyter.widget-view+json": {
       "model_id": "e8a06fd891b145dfb4e7764067fd682d",
       "version_major": 2,
       "version_minor": 0
      },
      "text/plain": [
       "HBox(children=(HTML(value=''), FloatProgress(value=1.0, bar_style='info', layout=Layout(width='20px'), max=1.0…"
      ]
     },
     "metadata": {},
     "output_type": "display_data"
    },
    {
     "name": "stdout",
     "output_type": "stream",
     "text": [
      "\n"
     ]
    }
   ],
   "source": [
    "tokens_vocabulary = build_vocabulary(unique_tokens, padding_token=PADDING_TOKEN)\n",
    "tags_vocabulary = build_vocabulary(unique_tags, padding_token=PADDING_TOKEN)"
   ]
  },
  {
   "cell_type": "markdown",
   "metadata": {},
   "source": [
    "Let's check the vocabulary to see what it looks like$\\dots$"
   ]
  },
  {
   "cell_type": "code",
   "execution_count": 117,
   "metadata": {
    "execution": {
     "iopub.execute_input": "2020-11-19T16:12:34.107544Z",
     "iopub.status.busy": "2020-11-19T16:12:34.107225Z",
     "iopub.status.idle": "2020-11-19T16:12:34.171197Z",
     "shell.execute_reply": "2020-11-19T16:12:34.170118Z",
     "shell.execute_reply.started": "2020-11-19T16:12:34.107502Z"
    }
   },
   "outputs": [
    {
     "data": {
      "text/plain": [
       "[(0, '0'),\n",
       " (1, '!'),\n",
       " (2, '#'),\n",
       " (3, '$'),\n",
       " (4, '%'),\n",
       " (5, '&'),\n",
       " (6, \"'\"),\n",
       " (7, \"''\"),\n",
       " (8, \"'30s\"),\n",
       " (9, \"'40s\")]"
      ]
     },
     "execution_count": 117,
     "metadata": {},
     "output_type": "execute_result"
    }
   ],
   "source": [
    "list(tokens_vocabulary.to_string.items())[:10]"
   ]
  },
  {
   "cell_type": "code",
   "execution_count": 118,
   "metadata": {
    "execution": {
     "iopub.execute_input": "2020-11-19T16:12:34.980280Z",
     "iopub.status.busy": "2020-11-19T16:12:34.979956Z",
     "iopub.status.idle": "2020-11-19T16:12:35.039396Z",
     "shell.execute_reply": "2020-11-19T16:12:35.038245Z",
     "shell.execute_reply.started": "2020-11-19T16:12:34.980238Z"
    }
   },
   "outputs": [
    {
     "data": {
      "text/plain": [
       "[(0, '0'),\n",
       " (1, '#'),\n",
       " (2, '$'),\n",
       " (3, \"''\"),\n",
       " (4, ','),\n",
       " (5, '-LRB-'),\n",
       " (6, '-RRB-'),\n",
       " (7, '.'),\n",
       " (8, ':'),\n",
       " (9, 'CC')]"
      ]
     },
     "execution_count": 118,
     "metadata": {},
     "output_type": "execute_result"
    }
   ],
   "source": [
    "list(tags_vocabulary.to_string.items())[:10]"
   ]
  },
  {
   "cell_type": "markdown",
   "metadata": {},
   "source": [
    "Finally, we can update our DataFrame by adding the following columns:\n",
    "- `indexed_tokens`: the list of indexes of each word in the sentence, taken from the previously built words vocabulary\n",
    "- `indexed_tags`: the list of indexes of each tag in the sentence, taken from the previously built tags vocabulary"
   ]
  },
  {
   "cell_type": "code",
   "execution_count": 136,
   "metadata": {
    "execution": {
     "iopub.execute_input": "2020-11-19T16:26:18.040910Z",
     "iopub.status.busy": "2020-11-19T16:26:18.040483Z",
     "iopub.status.idle": "2020-11-19T16:26:18.206740Z",
     "shell.execute_reply": "2020-11-19T16:26:18.205472Z",
     "shell.execute_reply.started": "2020-11-19T16:26:18.040865Z"
    }
   },
   "outputs": [
    {
     "data": {
      "text/html": [
       "<div>\n",
       "<style scoped>\n",
       "    .dataframe tbody tr th:only-of-type {\n",
       "        vertical-align: middle;\n",
       "    }\n",
       "\n",
       "    .dataframe tbody tr th {\n",
       "        vertical-align: top;\n",
       "    }\n",
       "\n",
       "    .dataframe thead th {\n",
       "        text-align: right;\n",
       "    }\n",
       "</style>\n",
       "<table border=\"1\" class=\"dataframe\">\n",
       "  <thead>\n",
       "    <tr style=\"text-align: right;\">\n",
       "      <th></th>\n",
       "      <th>tokens</th>\n",
       "      <th>tags</th>\n",
       "      <th>split</th>\n",
       "      <th>fileid</th>\n",
       "      <th>indexed_tokens</th>\n",
       "      <th>indexed_tags</th>\n",
       "    </tr>\n",
       "  </thead>\n",
       "  <tbody>\n",
       "    <tr>\n",
       "      <th>0</th>\n",
       "      <td>[pierre, vinken, ,, &lt;num&gt;, years, old, ,, will...</td>\n",
       "      <td>[NNP, NNP, ,, CD, NNS, JJ, ,, MD, VB, DT, NN, ...</td>\n",
       "      <td>train</td>\n",
       "      <td>wsj_0001.dp</td>\n",
       "      <td>[6562, 9557, 20, 40, 9919, 6130, 20, 9793, 474...</td>\n",
       "      <td>[21, 21, 4, 10, 23, 15, 4, 19, 35, 11, 20, 14,...</td>\n",
       "    </tr>\n",
       "    <tr>\n",
       "      <th>1</th>\n",
       "      <td>[mr., vinken, is, chairman, of, elsevier, n.v....</td>\n",
       "      <td>[NNP, NNP, VBZ, NN, IN, NNP, NNP, ,, DT, NNP, ...</td>\n",
       "      <td>train</td>\n",
       "      <td>wsj_0001.dp</td>\n",
       "      <td>[5755, 9557, 4676, 1462, 6095, 2953, 5808, 20,...</td>\n",
       "      <td>[21, 21, 40, 20, 14, 21, 21, 4, 11, 21, 37, 20...</td>\n",
       "    </tr>\n",
       "    <tr>\n",
       "      <th>2</th>\n",
       "      <td>[rudolph, agnew, ,, &lt;num&gt;, years, old, and, fo...</td>\n",
       "      <td>[NNP, NNP, ,, CD, NNS, JJ, CC, JJ, NN, IN, NNP...</td>\n",
       "      <td>train</td>\n",
       "      <td>wsj_0002.dp</td>\n",
       "      <td>[7695, 256, 20, 40, 9919, 6130, 394, 3607, 146...</td>\n",
       "      <td>[21, 21, 4, 10, 23, 15, 9, 15, 20, 14, 21, 21,...</td>\n",
       "    </tr>\n",
       "    <tr>\n",
       "      <th>3</th>\n",
       "      <td>[a, form, of, asbestos, once, used, to, make, ...</td>\n",
       "      <td>[DT, NN, IN, NN, RB, VBN, TO, VB, NNP, NN, NNS...</td>\n",
       "      <td>train</td>\n",
       "      <td>wsj_0003.dp</td>\n",
       "      <td>[45, 3601, 6095, 570, 6146, 9453, 9063, 5302, ...</td>\n",
       "      <td>[11, 20, 14, 20, 28, 38, 33, 35, 21, 20, 23, 4...</td>\n",
       "    </tr>\n",
       "    <tr>\n",
       "      <th>4</th>\n",
       "      <td>[the, asbestos, fiber, ,, crocidolite, ,, is, ...</td>\n",
       "      <td>[DT, NN, NN, ,, NN, ,, VBZ, RB, JJ, IN, PRP, V...</td>\n",
       "      <td>train</td>\n",
       "      <td>wsj_0003.dp</td>\n",
       "      <td>[8966, 570, 3437, 20, 2159, 20, 4676, 9420, 74...</td>\n",
       "      <td>[11, 20, 20, 4, 20, 4, 40, 28, 15, 14, 26, 40,...</td>\n",
       "    </tr>\n",
       "  </tbody>\n",
       "</table>\n",
       "</div>"
      ],
      "text/plain": [
       "                                              tokens  \\\n",
       "0  [pierre, vinken, ,, <num>, years, old, ,, will...   \n",
       "1  [mr., vinken, is, chairman, of, elsevier, n.v....   \n",
       "2  [rudolph, agnew, ,, <num>, years, old, and, fo...   \n",
       "3  [a, form, of, asbestos, once, used, to, make, ...   \n",
       "4  [the, asbestos, fiber, ,, crocidolite, ,, is, ...   \n",
       "\n",
       "                                                tags  split       fileid  \\\n",
       "0  [NNP, NNP, ,, CD, NNS, JJ, ,, MD, VB, DT, NN, ...  train  wsj_0001.dp   \n",
       "1  [NNP, NNP, VBZ, NN, IN, NNP, NNP, ,, DT, NNP, ...  train  wsj_0001.dp   \n",
       "2  [NNP, NNP, ,, CD, NNS, JJ, CC, JJ, NN, IN, NNP...  train  wsj_0002.dp   \n",
       "3  [DT, NN, IN, NN, RB, VBN, TO, VB, NNP, NN, NNS...  train  wsj_0003.dp   \n",
       "4  [DT, NN, NN, ,, NN, ,, VBZ, RB, JJ, IN, PRP, V...  train  wsj_0003.dp   \n",
       "\n",
       "                                      indexed_tokens  \\\n",
       "0  [6562, 9557, 20, 40, 9919, 6130, 20, 9793, 474...   \n",
       "1  [5755, 9557, 4676, 1462, 6095, 2953, 5808, 20,...   \n",
       "2  [7695, 256, 20, 40, 9919, 6130, 394, 3607, 146...   \n",
       "3  [45, 3601, 6095, 570, 6146, 9453, 9063, 5302, ...   \n",
       "4  [8966, 570, 3437, 20, 2159, 20, 4676, 9420, 74...   \n",
       "\n",
       "                                        indexed_tags  \n",
       "0  [21, 21, 4, 10, 23, 15, 4, 19, 35, 11, 20, 14,...  \n",
       "1  [21, 21, 40, 20, 14, 21, 21, 4, 11, 21, 37, 20...  \n",
       "2  [21, 21, 4, 10, 23, 15, 9, 15, 20, 14, 21, 21,...  \n",
       "3  [11, 20, 14, 20, 28, 38, 33, 35, 21, 20, 23, 4...  \n",
       "4  [11, 20, 20, 4, 20, 4, 40, 28, 15, 14, 26, 40,...  "
      ]
     },
     "execution_count": 136,
     "metadata": {},
     "output_type": "execute_result"
    }
   ],
   "source": [
    "def to_indexes(values, to_index):\n",
    "    \"\"\"\n",
    "    Given a list of keys and a dictionary indexed by those keys,\n",
    "    return the corresponding values in the dictionary\n",
    "    \"\"\"\n",
    "    return [to_index[v] for v in values]\n",
    "\n",
    "\n",
    "df[\"indexed_tokens\"] = list(\n",
    "    map(lambda s: to_indexes(s, tokens_vocabulary.from_string), whole_sentences_tokens,)\n",
    ")\n",
    "df[\"indexed_tags\"] = list(\n",
    "    map(lambda s: to_indexes(s, tags_vocabulary.from_string), whole_sentences_tags,)\n",
    ")\n",
    "df.head()"
   ]
  },
  {
   "cell_type": "markdown",
   "metadata": {},
   "source": [
    "## Dataset and DataLoader"
   ]
  },
  {
   "cell_type": "markdown",
   "metadata": {},
   "source": [
    "In order to correctly work with batches and sequences of different lenght inside of each batch, we need to exploit the objects made available by PyTorch. In particular, we need to wrap our `DataFrame` inside a custom `Dataset` subclass, which will be used later as an input for a `DataLoader` object, that will automatically handle the generation of batches from our examples. "
   ]
  },
  {
   "cell_type": "code",
   "execution_count": 137,
   "metadata": {
    "execution": {
     "iopub.execute_input": "2020-11-19T16:28:48.994935Z",
     "iopub.status.busy": "2020-11-19T16:28:48.994511Z",
     "iopub.status.idle": "2020-11-19T16:28:49.058073Z",
     "shell.execute_reply": "2020-11-19T16:28:49.056849Z",
     "shell.execute_reply.started": "2020-11-19T16:28:48.994889Z"
    }
   },
   "outputs": [],
   "source": [
    "class DependencyTreebankDataset(Dataset):\n",
    "    \"\"\"\n",
    "    Dependency treebank dataset for POS tagging\n",
    "    \"\"\"\n",
    "\n",
    "    def __init__(self, df):\n",
    "        self.df = df.copy()\n",
    "        self.df = self.df.reset_index(drop=True)\n",
    "\n",
    "    def __len__(self):\n",
    "        return self.df.shape[0]\n",
    "\n",
    "    def __getitem__(self, index):\n",
    "        assert isinstance(index, int)\n",
    "        tokens = self.df.loc[index, \"indexed_tokens\"]\n",
    "        tags = self.df.loc[index, \"indexed_tags\"]\n",
    "        return tokens, tags"
   ]
  },
  {
   "cell_type": "markdown",
   "metadata": {},
   "source": [
    "We will build and store three different `Dataset` objects, based on the split parameter of the previously built DataFrame, which will be used in different stages of the learning process, i.e. training, validation and testing."
   ]
  },
  {
   "cell_type": "code",
   "execution_count": 138,
   "metadata": {
    "execution": {
     "iopub.execute_input": "2020-11-19T16:29:21.151497Z",
     "iopub.status.busy": "2020-11-19T16:29:21.151071Z",
     "iopub.status.idle": "2020-11-19T16:29:21.216299Z",
     "shell.execute_reply": "2020-11-19T16:29:21.215046Z",
     "shell.execute_reply.started": "2020-11-19T16:29:21.151452Z"
    }
   },
   "outputs": [],
   "source": [
    "train_dataset = DependencyTreebankDataset(df[df[\"split\"] == \"train\"])\n",
    "val_dataset = DependencyTreebankDataset(df[df[\"split\"] == \"val\"])\n",
    "test_dataset = DependencyTreebankDataset(df[df[\"split\"] == \"test\"])"
   ]
  },
  {
   "cell_type": "markdown",
   "metadata": {},
   "source": [
    "Let's see if our `Dataset` building process worked out nicely, by checking the first example in the training dataset$\\dots$"
   ]
  },
  {
   "cell_type": "code",
   "execution_count": 139,
   "metadata": {
    "execution": {
     "iopub.execute_input": "2020-11-19T16:29:22.746706Z",
     "iopub.status.busy": "2020-11-19T16:29:22.746376Z",
     "iopub.status.idle": "2020-11-19T16:29:22.806048Z",
     "shell.execute_reply": "2020-11-19T16:29:22.804941Z",
     "shell.execute_reply.started": "2020-11-19T16:29:22.746664Z"
    }
   },
   "outputs": [
    {
     "name": "stdout",
     "output_type": "stream",
     "text": [
      "([6562, 9557, 20, 40, 9919, 6130, 20, 9793, 4749, 8966, 1013, 568, 45, 5988, 2554, 6028, 40, 27], [21, 21, 4, 10, 23, 15, 4, 19, 35, 11, 20, 14, 11, 15, 20, 21, 10, 7])\n"
     ]
    }
   ],
   "source": [
    "print(train_dataset[0])"
   ]
  },
  {
   "cell_type": "markdown",
   "metadata": {},
   "source": [
    "As already mentioned, the `DataLoader` object will be used to automatically handle the generation of batches (with the specified batch size) from the entire list of examples$\\dots$ \n",
    "\n",
    "Another important aspect of `DataLoader`s is that they enable us to pad sequences in the same batch to be of the same lenght (i.e. the lenght of the longest sequence in the batch), by using the previously defined padding token. To do so, we leverage PyTorch's `pad_sequence` function."
   ]
  },
  {
   "cell_type": "code",
   "execution_count": 140,
   "metadata": {
    "execution": {
     "iopub.execute_input": "2020-11-19T16:30:42.712195Z",
     "iopub.status.busy": "2020-11-19T16:30:42.711765Z",
     "iopub.status.idle": "2020-11-19T16:30:42.772119Z",
     "shell.execute_reply": "2020-11-19T16:30:42.770997Z",
     "shell.execute_reply.started": "2020-11-19T16:30:42.712150Z"
    }
   },
   "outputs": [],
   "source": [
    "def pad_batch(batch, padding_token=\"0\"):\n",
    "    \"\"\"\n",
    "    This function expects to receive a list of tuples (i.e. a batch),\n",
    "    s.t. each tuple contains tokens and tags for one sentence in the batch\n",
    "    and returns the same sequences padded with the padding token\n",
    "    \"\"\"\n",
    "    (tokens, tags) = zip(*batch)\n",
    "    tokens_lenghts = [len(x) for x in tokens]\n",
    "    tags_lenghts = [len(y) for y in tags]\n",
    "    padded_tokens = pad_sequence(\n",
    "        [torch.tensor(t) for t in tokens],\n",
    "        batch_first=True,\n",
    "        padding_value=int(padding_token),\n",
    "    )\n",
    "    padded_tags = pad_sequence(\n",
    "        [torch.tensor(t) for t in tags],\n",
    "        batch_first=True,\n",
    "        padding_value=int(padding_token),\n",
    "    )\n",
    "    return padded_tokens, padded_tags, tokens_lenghts, tags_lenghts"
   ]
  },
  {
   "cell_type": "markdown",
   "metadata": {},
   "source": [
    "Below we are setting the `batch_size` hyperparameter to a fixed value, shared between every instance of our `DataLoader` objects. We can experiment with this value a little bit, but we don't want it to be neither too small (since small batches are noisy) nor too big (since it is constrained by the minimum size of the three splits)."
   ]
  },
  {
   "cell_type": "code",
   "execution_count": 143,
   "metadata": {
    "execution": {
     "iopub.execute_input": "2020-11-19T16:31:28.429767Z",
     "iopub.status.busy": "2020-11-19T16:31:28.429333Z",
     "iopub.status.idle": "2020-11-19T16:31:28.486287Z",
     "shell.execute_reply": "2020-11-19T16:31:28.485098Z",
     "shell.execute_reply.started": "2020-11-19T16:31:28.429722Z"
    }
   },
   "outputs": [],
   "source": [
    "BATCH_SIZE = 8"
   ]
  },
  {
   "cell_type": "code",
   "execution_count": 144,
   "metadata": {
    "execution": {
     "iopub.execute_input": "2020-11-19T16:31:29.152129Z",
     "iopub.status.busy": "2020-11-19T16:31:29.151808Z",
     "iopub.status.idle": "2020-11-19T16:31:29.208331Z",
     "shell.execute_reply": "2020-11-19T16:31:29.207139Z",
     "shell.execute_reply.started": "2020-11-19T16:31:29.152086Z"
    }
   },
   "outputs": [],
   "source": [
    "default_dataloader = partial(\n",
    "    DataLoader,\n",
    "    batch_size=BATCH_SIZE,\n",
    "    shuffle=False,\n",
    "    collate_fn=partial(pad_batch, padding_token=PADDING_TOKEN),\n",
    "    pin_memory=True,\n",
    ")"
   ]
  },
  {
   "cell_type": "markdown",
   "metadata": {},
   "source": [
    "As we did with the `Dataset` wrapper, we will store three different `DataLoader` objects, one for each learning stage."
   ]
  },
  {
   "cell_type": "code",
   "execution_count": 145,
   "metadata": {
    "execution": {
     "iopub.execute_input": "2020-11-19T16:31:39.071340Z",
     "iopub.status.busy": "2020-11-19T16:31:39.070919Z",
     "iopub.status.idle": "2020-11-19T16:31:39.128519Z",
     "shell.execute_reply": "2020-11-19T16:31:39.127400Z",
     "shell.execute_reply.started": "2020-11-19T16:31:39.071294Z"
    }
   },
   "outputs": [],
   "source": [
    "train_dataloader = default_dataloader(train_dataset)\n",
    "val_dataloader = default_dataloader(val_dataset)\n",
    "test_dataloader = default_dataloader(test_dataset)"
   ]
  },
  {
   "cell_type": "markdown",
   "metadata": {},
   "source": [
    "## Word embeddings"
   ]
  },
  {
   "cell_type": "markdown",
   "metadata": {},
   "source": [
    "The way we represent words in sequence labeling models is still using word embeddings, exploiting methods like `Word2vec` or `GloVe`. In this whole notebook, we will leverage `GloVe` pre-trained embeddings with a fixed dimensionality (e.g. `50`), as given by the `Gensim` library. \n",
    "\n",
    "Because of this, we need to build our embedding matrix, i.e. a matrix $E$ of size $w\\times d$, where $w$ is the number of unique words in our dataset and $d$ is the dimensionality of word embeddings (in our example $d=50$). In order to correctly build the embedding matrix, we need a way to handle OOV (Out Of Vocabulary) words, i.e. words that appear in our dataset but not on the dataset on which the embeddings were trained on. We will try different OOV handling methods:\n",
    "- `uniform`: the OOV word vector is sampled from a uniform distribution in a specific range (e.g. $[-1,1]$)\n",
    "- `normal`: the OOV word vector is sampled from a normal distribution (i.e. a Gaussian with $\\mu=0$ and $\\sigma=1$)\n",
    "- `mean`: the OOV word vector is taken as the average of the not OOV word vectors represented by neighbors of the analyzed word (e.g. considering a window size of $1$)\n",
    "\n",
    "Another great OOV method would be to estimate the OOV word vector by a recurrent model, using subword information (i.e. using characters as inputs instead of words).\n",
    "\n",
    "Moreover, we also zero-out the word vector associated with the padding token."
   ]
  },
  {
   "cell_type": "code",
   "execution_count": 147,
   "metadata": {
    "execution": {
     "iopub.execute_input": "2020-11-19T16:33:17.430319Z",
     "iopub.status.busy": "2020-11-19T16:33:17.429934Z",
     "iopub.status.idle": "2020-11-19T16:33:17.486374Z",
     "shell.execute_reply": "2020-11-19T16:33:17.485200Z",
     "shell.execute_reply.started": "2020-11-19T16:33:17.430275Z"
    }
   },
   "outputs": [],
   "source": [
    "EMBEDDING_DIMENSION = 300"
   ]
  },
  {
   "cell_type": "code",
   "execution_count": 148,
   "metadata": {
    "execution": {
     "iopub.execute_input": "2020-11-19T16:33:18.175721Z",
     "iopub.status.busy": "2020-11-19T16:33:18.175379Z",
     "iopub.status.idle": "2020-11-19T16:37:21.500052Z",
     "shell.execute_reply": "2020-11-19T16:37:21.498264Z",
     "shell.execute_reply.started": "2020-11-19T16:33:18.175671Z"
    }
   },
   "outputs": [],
   "source": [
    "embedding_model = utils.load_embedding_model(\n",
    "    \"glove\", embedding_dimension=EMBEDDING_DIMENSION\n",
    ")"
   ]
  },
  {
   "cell_type": "markdown",
   "metadata": {},
   "source": [
    "So, first of all, let's check the number of OOV words for each split (i.e. training, validation and test)$\\dots$"
   ]
  },
  {
   "cell_type": "code",
   "execution_count": 149,
   "metadata": {
    "execution": {
     "iopub.execute_input": "2020-11-19T16:37:22.226945Z",
     "iopub.status.busy": "2020-11-19T16:37:22.226633Z",
     "iopub.status.idle": "2020-11-19T16:37:22.284988Z",
     "shell.execute_reply": "2020-11-19T16:37:22.283872Z",
     "shell.execute_reply.started": "2020-11-19T16:37:22.226903Z"
    }
   },
   "outputs": [],
   "source": [
    "def check_oov_terms(embedding_model, word_listing):\n",
    "    \"\"\"\n",
    "    Checks differences between pre-trained embedding model vocabulary\n",
    "    and dataset specific vocabulary in order to highlight out-of-vocabulary terms\n",
    "    \"\"\"\n",
    "    oov_terms = []\n",
    "    for word in word_listing:\n",
    "        if word not in embedding_model.vocab:\n",
    "            oov_terms.append(word)\n",
    "    return oov_terms"
   ]
  },
  {
   "cell_type": "markdown",
   "metadata": {},
   "source": [
    "We have to once again store the unique tokens associated to each different split$\\dots$"
   ]
  },
  {
   "cell_type": "code",
   "execution_count": 150,
   "metadata": {
    "execution": {
     "iopub.execute_input": "2020-11-19T16:39:13.767487Z",
     "iopub.status.busy": "2020-11-19T16:39:13.767061Z",
     "iopub.status.idle": "2020-11-19T16:39:14.005570Z",
     "shell.execute_reply": "2020-11-19T16:39:14.004246Z",
     "shell.execute_reply.started": "2020-11-19T16:39:13.767442Z"
    }
   },
   "outputs": [],
   "source": [
    "get_unique_tokens = partial(get_unique, df, \"tokens\", split_col_name=\"split\")\n",
    "unique_train_tokens = get_unique_tokens(split=\"train\")\n",
    "unique_val_tokens = get_unique_tokens(split=\"val\")\n",
    "unique_test_tokens = get_unique_tokens(split=\"test\")"
   ]
  },
  {
   "cell_type": "markdown",
   "metadata": {
    "execution": {
     "iopub.execute_input": "2020-11-19T16:40:38.729333Z",
     "iopub.status.busy": "2020-11-19T16:40:38.728903Z",
     "iopub.status.idle": "2020-11-19T16:40:38.788404Z",
     "shell.execute_reply": "2020-11-19T16:40:38.786877Z",
     "shell.execute_reply.started": "2020-11-19T16:40:38.729288Z"
    }
   },
   "source": [
    "And now we can finally see the percentage of OOV words in each split w.r.t. our embedding model."
   ]
  },
  {
   "cell_type": "code",
   "execution_count": 155,
   "metadata": {
    "execution": {
     "iopub.execute_input": "2020-11-19T16:43:00.430651Z",
     "iopub.status.busy": "2020-11-19T16:43:00.430225Z",
     "iopub.status.idle": "2020-11-19T16:43:00.521071Z",
     "shell.execute_reply": "2020-11-19T16:43:00.519986Z",
     "shell.execute_reply.started": "2020-11-19T16:43:00.430606Z"
    }
   },
   "outputs": [
    {
     "name": "stdout",
     "output_type": "stream",
     "text": [
      "Total training OOV terms: 295 (0.04%)\n",
      "Total validation OOV terms: 160 (0.03%)\n",
      "Total testing OOV terms: 95 (0.03%)\n"
     ]
    }
   ],
   "source": [
    "train_oov_terms = check_oov_terms(embedding_model, unique_train_tokens)\n",
    "val_oov_terms = check_oov_terms(embedding_model, unique_val_tokens)\n",
    "test_oov_terms = check_oov_terms(embedding_model, unique_test_tokens)\n",
    "print(\n",
    "    f\"Total training OOV terms: {len(train_oov_terms)} ({round(len(train_oov_terms) / len(unique_train_tokens), 2)}%)\"\n",
    ")\n",
    "print(\n",
    "    f\"Total validation OOV terms: {len(val_oov_terms)} ({round(len(val_oov_terms) / len(unique_val_tokens), 2)}%)\"\n",
    ")\n",
    "print(\n",
    "    f\"Total testing OOV terms: {len(test_oov_terms)} ({round(len(test_oov_terms) / len(unique_test_tokens), 2)}%)\"\n",
    ")"
   ]
  },
  {
   "cell_type": "markdown",
   "metadata": {},
   "source": [
    "Fortunately, OOV words are not that many, so that even associating a random word vector to those tokens shouldn't have a big impact on our extrinsic evaluation."
   ]
  },
  {
   "cell_type": "markdown",
   "metadata": {},
   "source": [
    "Anyway, since we want to use the `mean` method for building embedding matrices, we need to compute a separate list of neighbors for each token in each split of the data$\\dots$"
   ]
  },
  {
   "cell_type": "code",
   "execution_count": 169,
   "metadata": {
    "execution": {
     "iopub.execute_input": "2020-11-19T17:13:22.468694Z",
     "iopub.status.busy": "2020-11-19T17:13:22.468276Z",
     "iopub.status.idle": "2020-11-19T17:13:22.529615Z",
     "shell.execute_reply": "2020-11-19T17:13:22.528427Z",
     "shell.execute_reply.started": "2020-11-19T17:13:22.468650Z"
    }
   },
   "outputs": [],
   "source": [
    "def build_neighbors(tokens, sentences, vocabulary, window_size=1, padding_token=\"0\"):\n",
    "    \"\"\"\n",
    "    Build a list of neighbors for each token, where neighbors are searched\n",
    "    in the given document list.\n",
    "    It returns a dictionary, indexed by the index of each token in the given\n",
    "    vocabulary, where the value is a list of indexes representing neighbors\n",
    "    \"\"\"\n",
    "    assert isinstance(vocabulary, Vocabulary)\n",
    "    neighbors = {vocabulary.from_string[padding_token]: []}\n",
    "    for sentence in tqdm(sentences):\n",
    "        for i, central_word in enumerate(sentence):\n",
    "            central_word_index = vocabulary.from_string[central_word]\n",
    "            context = (\n",
    "                sentence[max(0, i - window_size) : i]\n",
    "                + sentence[i + 1 : min(i + window_size + 1, len(sentence))]\n",
    "            )\n",
    "            for context_word in context:\n",
    "                context_word_index = vocabulary.from_string[context_word]\n",
    "                neighbors.setdefault(central_word_index, []).append(context_word_index)\n",
    "    return neighbors"
   ]
  },
  {
   "cell_type": "markdown",
   "metadata": {
    "execution": {
     "iopub.execute_input": "2020-11-19T17:26:39.429323Z",
     "iopub.status.busy": "2020-11-19T17:26:39.428904Z",
     "iopub.status.idle": "2020-11-19T17:26:39.487768Z",
     "shell.execute_reply": "2020-11-19T17:26:39.486193Z",
     "shell.execute_reply.started": "2020-11-19T17:26:39.429279Z"
    }
   },
   "source": [
    "We have to once again store the sentences associated to each different split$\\dots$"
   ]
  },
  {
   "cell_type": "code",
   "execution_count": 170,
   "metadata": {
    "execution": {
     "iopub.execute_input": "2020-11-19T17:13:23.600800Z",
     "iopub.status.busy": "2020-11-19T17:13:23.600488Z",
     "iopub.status.idle": "2020-11-19T17:13:23.666369Z",
     "shell.execute_reply": "2020-11-19T17:13:23.665125Z",
     "shell.execute_reply.started": "2020-11-19T17:13:23.600759Z"
    }
   },
   "outputs": [],
   "source": [
    "get_sentences = partial(get_col, df, \"tokens\", split_col_name=\"split\")\n",
    "train_sentences = get_sentences(split=\"train\")\n",
    "val_sentences = get_sentences(split=\"val\")\n",
    "test_sentences = get_sentences(split=\"test\")"
   ]
  },
  {
   "cell_type": "markdown",
   "metadata": {},
   "source": [
    "And then we can compute the actual neighbors for each token in each split$\\dots$"
   ]
  },
  {
   "cell_type": "code",
   "execution_count": 173,
   "metadata": {
    "execution": {
     "iopub.execute_input": "2020-11-19T17:15:25.059485Z",
     "iopub.status.busy": "2020-11-19T17:15:25.059070Z",
     "iopub.status.idle": "2020-11-19T17:15:25.624047Z",
     "shell.execute_reply": "2020-11-19T17:15:25.622834Z",
     "shell.execute_reply.started": "2020-11-19T17:15:25.059441Z"
    }
   },
   "outputs": [
    {
     "data": {
      "application/vnd.jupyter.widget-view+json": {
       "model_id": "08a82019b4824ba8ac36a835db1a2e8b",
       "version_major": 2,
       "version_minor": 0
      },
      "text/plain": [
       "HBox(children=(HTML(value=''), FloatProgress(value=0.0, max=1963.0), HTML(value='')))"
      ]
     },
     "metadata": {},
     "output_type": "display_data"
    },
    {
     "name": "stdout",
     "output_type": "stream",
     "text": [
      "\n"
     ]
    },
    {
     "data": {
      "application/vnd.jupyter.widget-view+json": {
       "model_id": "f060cf04ad2f48f8acbfbbb7c16e739d",
       "version_major": 2,
       "version_minor": 0
      },
      "text/plain": [
       "HBox(children=(HTML(value=''), FloatProgress(value=0.0, max=1299.0), HTML(value='')))"
      ]
     },
     "metadata": {},
     "output_type": "display_data"
    },
    {
     "name": "stdout",
     "output_type": "stream",
     "text": [
      "\n"
     ]
    },
    {
     "data": {
      "application/vnd.jupyter.widget-view+json": {
       "model_id": "c803cc5139be4d25b45bfb9a9464c340",
       "version_major": 2,
       "version_minor": 0
      },
      "text/plain": [
       "HBox(children=(HTML(value=''), FloatProgress(value=0.0, max=652.0), HTML(value='')))"
      ]
     },
     "metadata": {},
     "output_type": "display_data"
    },
    {
     "name": "stdout",
     "output_type": "stream",
     "text": [
      "\n"
     ]
    }
   ],
   "source": [
    "neighbors = partial(\n",
    "    build_neighbors,\n",
    "    vocabulary=tokens_vocabulary,\n",
    "    window_size=1,\n",
    "    padding_token=PADDING_TOKEN,\n",
    ")\n",
    "train_neighbors = neighbors(unique_train_tokens, train_documents)\n",
    "val_neighbors = neighbors(unique_val_tokens, val_documents)\n",
    "test_neighbors = neighbors(unique_test_tokens, test_documents)"
   ]
  },
  {
   "cell_type": "markdown",
   "metadata": {},
   "source": [
    "Now we are going to build three different embedding matrices, one for each split (i.e. training, validation and test). As already mentioned, the main method to handle OOV words will be `mean`."
   ]
  },
  {
   "cell_type": "code",
   "execution_count": 178,
   "metadata": {
    "execution": {
     "iopub.execute_input": "2020-11-19T17:18:05.685184Z",
     "iopub.status.busy": "2020-11-19T17:18:05.684771Z",
     "iopub.status.idle": "2020-11-19T17:18:05.751313Z",
     "shell.execute_reply": "2020-11-19T17:18:05.750132Z",
     "shell.execute_reply.started": "2020-11-19T17:18:05.685139Z"
    }
   },
   "outputs": [],
   "source": [
    "def build_embedding_matrix(\n",
    "    embedding_model,\n",
    "    embedding_dimension,\n",
    "    vocabulary,\n",
    "    tokens,\n",
    "    oov_terms,\n",
    "    neighbors=None,\n",
    "    method=\"mean\",\n",
    "    padding_token=\"0\",\n",
    "):\n",
    "    \"\"\"\n",
    "    Builds the embedding matrix of a specific dataset given a pre-trained Gensim word embedding model\n",
    "    \"\"\"\n",
    "    assert method in (\"uniform\", \"normal\", \"mean\")\n",
    "    assert method != \"mean\" or (method == \"mean\" and neighbors is not None)\n",
    "\n",
    "    def uniform_embedding(interval=(-1, 1)):\n",
    "        return interval[0] + np.random.sample(embedding_dimension) + interval[1]\n",
    "\n",
    "    def normal_embedding():\n",
    "        return np.random.normal(embedding_dimension)\n",
    "\n",
    "    embedding_matrix = np.zeros((len(vocabulary.string), embedding_dimension))\n",
    "    for word in tokens:\n",
    "        word_index = vocabulary.from_string[word]\n",
    "        # Assing all zeros to the padding token word vector\n",
    "        if word == padding_token:\n",
    "            word_vector = np.zeros((1, embedding_dimension))\n",
    "        # Words that are no OOV are taken from the Gensim model\n",
    "        elif word not in oov_terms:\n",
    "            word_vector = embedding_model[word]\n",
    "        # OOV words computed as the mean word vector of their neighbors\n",
    "        elif method == \"mean\":\n",
    "            neighboring_wvs = []\n",
    "            for neighbor_index in neighbors[word_index]:\n",
    "                neighbor = vocabulary.to_string[neighbor_index]\n",
    "                if neighbor not in oov_terms:\n",
    "                    neighboring_wvs.append(embedding_model[neighbor])\n",
    "            # If there is at least one neighbor, compute the mean of their word vectors\n",
    "            if len(neighboring_wvs) > 1:\n",
    "                word_vector = np.mean(neighboring_wvs, axis=0)\n",
    "            # Otherwise, resort to random normal vectors\n",
    "            else:\n",
    "                word_vector = normal_embedding()\n",
    "        # OOV words computed as random normal vectors\n",
    "        elif method == \"normal\":\n",
    "            word_vector = normal_embedding()\n",
    "        # OOV words computed as uniform vectors in range [-1, 1]\n",
    "        elif method == \"uniform\":\n",
    "            word_vector = uniform_embedding()\n",
    "        embedding_matrix[word_index, :] = word_vector\n",
    "    return embedding_matrix"
   ]
  },
  {
   "cell_type": "markdown",
   "metadata": {},
   "source": [
    "First of all, we are going to build the embedding matrix for the training split$\\dots$"
   ]
  },
  {
   "cell_type": "code",
   "execution_count": 184,
   "metadata": {
    "execution": {
     "iopub.execute_input": "2020-11-19T17:27:40.664009Z",
     "iopub.status.busy": "2020-11-19T17:27:40.663547Z",
     "iopub.status.idle": "2020-11-19T17:27:40.970569Z",
     "shell.execute_reply": "2020-11-19T17:27:40.969208Z",
     "shell.execute_reply.started": "2020-11-19T17:27:40.663964Z"
    }
   },
   "outputs": [],
   "source": [
    "train_embeddings = build_embedding_matrix(\n",
    "    embedding_model,\n",
    "    EMBEDDING_DIMENSION,\n",
    "    vocabulary,\n",
    "    unique_train_tokens,\n",
    "    train_oov_terms,\n",
    "    neighbors=train_neighbors,\n",
    "    method=\"mean\",\n",
    "    padding_token=PADDING_TOKEN,\n",
    ")"
   ]
  },
  {
   "cell_type": "markdown",
   "metadata": {},
   "source": [
    "Let's check an example word vector, given by a high frequency word like `\"the\"`$\\dots$"
   ]
  },
  {
   "cell_type": "code",
   "execution_count": 185,
   "metadata": {
    "execution": {
     "iopub.execute_input": "2020-11-19T17:27:42.092339Z",
     "iopub.status.busy": "2020-11-19T17:27:42.092020Z",
     "iopub.status.idle": "2020-11-19T17:27:42.156692Z",
     "shell.execute_reply": "2020-11-19T17:27:42.155567Z",
     "shell.execute_reply.started": "2020-11-19T17:27:42.092297Z"
    }
   },
   "outputs": [
    {
     "data": {
      "text/plain": [
       "array([ 4.65600006e-02,  2.13180006e-01, -7.43639981e-03, -4.58539993e-01,\n",
       "       -3.56389992e-02,  2.36430004e-01, -2.88360000e-01,  2.15210006e-01,\n",
       "       -1.34859994e-01, -1.64129996e+00, -2.60910004e-01,  3.24340016e-02,\n",
       "        5.66210002e-02, -4.32960019e-02, -2.16719992e-02,  2.24759996e-01,\n",
       "       -7.51290023e-02, -6.70180023e-02, -1.42470002e-01,  3.88250016e-02,\n",
       "       -1.89510003e-01,  2.99769998e-01,  3.93049985e-01,  1.78870007e-01,\n",
       "       -1.73429996e-01, -2.11779997e-01,  2.36169994e-01, -6.36809990e-02,\n",
       "       -4.23180014e-01, -1.16609998e-01,  9.37540010e-02,  1.72959998e-01,\n",
       "       -3.30729991e-01,  4.91120011e-01, -6.89949989e-01, -9.24620032e-02,\n",
       "        2.47419998e-01, -1.79910004e-01,  9.79079977e-02,  8.31179991e-02,\n",
       "        1.52989998e-01, -2.72760004e-01, -3.89339998e-02,  5.44529974e-01,\n",
       "        5.37370026e-01,  2.91049987e-01, -7.35139987e-03,  4.78800014e-02,\n",
       "       -4.07599986e-01, -2.67590005e-02,  1.79189995e-01,  1.09770000e-02,\n",
       "       -1.09630004e-01, -2.63949990e-01,  7.39900023e-02,  2.62360007e-01,\n",
       "       -1.50800005e-01,  3.46230000e-01,  2.57580012e-01,  1.19709998e-01,\n",
       "       -3.71350013e-02, -7.15930015e-02,  4.38980013e-01, -4.07640003e-02,\n",
       "        1.64250005e-02, -4.46399987e-01,  1.71969995e-01,  4.62459996e-02,\n",
       "        5.86390011e-02,  4.14990000e-02,  5.39479971e-01,  5.24950027e-01,\n",
       "        1.13609999e-01, -4.83149998e-02, -3.63849998e-01,  1.87040001e-01,\n",
       "        9.27610025e-02, -1.11290000e-01, -4.20850009e-01,  1.39919996e-01,\n",
       "       -3.93379986e-01, -6.79450035e-02,  1.21880002e-01,  1.67070001e-01,\n",
       "        7.51689970e-02, -1.55290002e-02, -1.94989994e-01,  1.96380004e-01,\n",
       "        5.31940013e-02,  2.51700014e-01, -3.48450005e-01, -1.06380001e-01,\n",
       "       -3.46920013e-01, -1.90239996e-01, -2.00399995e-01,  1.21540003e-01,\n",
       "       -2.92079985e-01,  2.33529992e-02, -1.16180003e-01, -3.57679993e-01,\n",
       "        6.23040013e-02,  3.58839989e-01,  2.90600006e-02,  7.30049983e-03,\n",
       "        4.94820019e-03, -1.50480002e-01, -1.23130001e-01,  1.93370000e-01,\n",
       "        1.21730000e-01,  4.45030004e-01,  2.51470000e-01,  1.07809998e-01,\n",
       "       -1.77159995e-01,  3.86909992e-02,  8.15299973e-02,  1.46669999e-01,\n",
       "        6.36660010e-02,  6.13319986e-02, -7.55689964e-02, -3.77240002e-01,\n",
       "        1.58500001e-02, -3.03420007e-01,  2.83740014e-01, -4.20130007e-02,\n",
       "       -4.07150015e-02, -1.52689993e-01,  7.49799982e-02,  1.55770004e-01,\n",
       "        1.04330003e-01,  3.13930005e-01,  1.93090007e-01,  1.94289997e-01,\n",
       "        1.51850000e-01, -1.01920001e-01, -1.87849998e-02,  2.07910001e-01,\n",
       "        1.33660004e-01,  1.90380007e-01, -2.55580008e-01,  3.03999990e-01,\n",
       "       -1.89599991e-02,  2.01470003e-01, -4.21099991e-01, -7.51559995e-03,\n",
       "       -2.79769987e-01, -1.93140000e-01,  4.62040007e-02,  1.99709997e-01,\n",
       "       -3.02069992e-01,  2.57349998e-01,  6.81070030e-01, -1.94089994e-01,\n",
       "        2.39840001e-01,  2.24930003e-01,  6.52239978e-01, -1.35609999e-01,\n",
       "       -1.73830003e-01, -4.82090004e-02, -1.18600003e-01,  2.15879991e-03,\n",
       "       -1.95250008e-02,  1.19479999e-01,  1.93460003e-01, -4.08199996e-01,\n",
       "       -8.29659998e-02,  1.66260004e-01, -1.06009997e-01,  3.58610004e-01,\n",
       "        1.69220001e-01,  7.25900009e-02, -2.48030007e-01, -1.00240000e-01,\n",
       "       -5.24909973e-01, -1.77450001e-01, -3.66470009e-01,  2.61799991e-01,\n",
       "       -1.20770000e-02,  8.31900015e-02, -2.15279996e-01,  4.10450011e-01,\n",
       "        2.91359991e-01,  3.08690012e-01,  7.88640007e-02,  3.22070003e-01,\n",
       "       -4.10230011e-02, -1.09700002e-01, -9.20410007e-02, -1.23389997e-01,\n",
       "       -1.64159998e-01,  3.53819996e-01, -8.27739984e-02,  3.31710011e-01,\n",
       "       -2.47380003e-01, -4.89280000e-02,  1.57460004e-01,  1.89879999e-01,\n",
       "       -2.66420003e-02,  6.33149967e-02, -1.06729995e-02,  3.40889990e-01,\n",
       "        1.41059995e+00,  1.34169996e-01,  2.81910002e-01, -2.59400010e-01,\n",
       "        5.52669987e-02, -5.24250008e-02, -2.57889986e-01,  1.91270001e-02,\n",
       "       -2.20839996e-02,  3.21130008e-01,  6.88180029e-02,  5.12070000e-01,\n",
       "        1.64780006e-01, -2.01940000e-01,  2.92320013e-01,  9.85750034e-02,\n",
       "        1.31449997e-02, -1.06519997e-01,  1.35100007e-01, -4.53319997e-02,\n",
       "        2.06970006e-01, -4.84250009e-01, -4.47059989e-01,  3.33050010e-03,\n",
       "        2.92639993e-03, -1.09750003e-01, -2.33250007e-01,  2.24419996e-01,\n",
       "       -1.05030000e-01,  1.23389997e-01,  1.09779999e-01,  4.89940010e-02,\n",
       "       -2.51569986e-01,  4.03189987e-01,  3.53179991e-01,  1.86509997e-01,\n",
       "       -2.36220006e-02, -1.27340004e-01,  1.14749998e-01,  2.73589998e-01,\n",
       "       -2.18659997e-01,  1.57939997e-02,  8.17539990e-01, -2.37920005e-02,\n",
       "       -8.54690015e-01, -1.62029997e-01,  1.80759996e-01,  2.80140005e-02,\n",
       "       -1.43399999e-01,  1.31389999e-03, -9.17349979e-02, -8.97039995e-02,\n",
       "        1.11050002e-01, -1.67030007e-01,  6.83770031e-02, -8.73880014e-02,\n",
       "       -3.97889987e-02,  1.41840000e-02,  2.11870000e-01,  2.85789996e-01,\n",
       "       -2.87970006e-01, -5.89959994e-02, -3.24359983e-02, -4.70090006e-03,\n",
       "       -1.70519993e-01, -3.47409993e-02, -1.14890002e-01,  7.50930011e-02,\n",
       "        9.95260030e-02,  4.81830016e-02, -7.37750009e-02, -4.18170005e-01,\n",
       "        4.12680022e-03,  4.44139987e-01, -1.60620004e-01,  1.42940000e-01,\n",
       "       -2.26279998e+00, -2.73470003e-02,  8.13109994e-01,  7.74169981e-01,\n",
       "       -2.56390005e-01, -1.15759999e-01, -1.19819999e-01, -2.13630006e-01,\n",
       "        2.84289997e-02,  2.72610009e-01,  3.10260002e-02,  9.67819989e-02,\n",
       "        6.77690003e-03,  1.40819997e-01, -1.30639998e-02, -2.96860009e-01,\n",
       "       -7.99129978e-02,  1.94999993e-01,  3.15489992e-02,  2.85059988e-01,\n",
       "       -8.74610022e-02,  9.06109996e-03, -2.09889993e-01,  5.39130010e-02])"
      ]
     },
     "execution_count": 185,
     "metadata": {},
     "output_type": "execute_result"
    }
   ],
   "source": [
    "train_embeddings[vocabulary.from_string[\"the\"]]"
   ]
  },
  {
   "cell_type": "markdown",
   "metadata": {},
   "source": [
    "Let's also check the embedding of the padding token, which should contain all zero entries$\\dots$"
   ]
  },
  {
   "cell_type": "code",
   "execution_count": 186,
   "metadata": {
    "execution": {
     "iopub.execute_input": "2020-11-19T17:27:43.811503Z",
     "iopub.status.busy": "2020-11-19T17:27:43.811181Z",
     "iopub.status.idle": "2020-11-19T17:27:43.874505Z",
     "shell.execute_reply": "2020-11-19T17:27:43.873435Z",
     "shell.execute_reply.started": "2020-11-19T17:27:43.811461Z"
    }
   },
   "outputs": [
    {
     "data": {
      "text/plain": [
       "array([0., 0., 0., 0., 0., 0., 0., 0., 0., 0., 0., 0., 0., 0., 0., 0., 0.,\n",
       "       0., 0., 0., 0., 0., 0., 0., 0., 0., 0., 0., 0., 0., 0., 0., 0., 0.,\n",
       "       0., 0., 0., 0., 0., 0., 0., 0., 0., 0., 0., 0., 0., 0., 0., 0., 0.,\n",
       "       0., 0., 0., 0., 0., 0., 0., 0., 0., 0., 0., 0., 0., 0., 0., 0., 0.,\n",
       "       0., 0., 0., 0., 0., 0., 0., 0., 0., 0., 0., 0., 0., 0., 0., 0., 0.,\n",
       "       0., 0., 0., 0., 0., 0., 0., 0., 0., 0., 0., 0., 0., 0., 0., 0., 0.,\n",
       "       0., 0., 0., 0., 0., 0., 0., 0., 0., 0., 0., 0., 0., 0., 0., 0., 0.,\n",
       "       0., 0., 0., 0., 0., 0., 0., 0., 0., 0., 0., 0., 0., 0., 0., 0., 0.,\n",
       "       0., 0., 0., 0., 0., 0., 0., 0., 0., 0., 0., 0., 0., 0., 0., 0., 0.,\n",
       "       0., 0., 0., 0., 0., 0., 0., 0., 0., 0., 0., 0., 0., 0., 0., 0., 0.,\n",
       "       0., 0., 0., 0., 0., 0., 0., 0., 0., 0., 0., 0., 0., 0., 0., 0., 0.,\n",
       "       0., 0., 0., 0., 0., 0., 0., 0., 0., 0., 0., 0., 0., 0., 0., 0., 0.,\n",
       "       0., 0., 0., 0., 0., 0., 0., 0., 0., 0., 0., 0., 0., 0., 0., 0., 0.,\n",
       "       0., 0., 0., 0., 0., 0., 0., 0., 0., 0., 0., 0., 0., 0., 0., 0., 0.,\n",
       "       0., 0., 0., 0., 0., 0., 0., 0., 0., 0., 0., 0., 0., 0., 0., 0., 0.,\n",
       "       0., 0., 0., 0., 0., 0., 0., 0., 0., 0., 0., 0., 0., 0., 0., 0., 0.,\n",
       "       0., 0., 0., 0., 0., 0., 0., 0., 0., 0., 0., 0., 0., 0., 0., 0., 0.,\n",
       "       0., 0., 0., 0., 0., 0., 0., 0., 0., 0., 0.])"
      ]
     },
     "execution_count": 186,
     "metadata": {},
     "output_type": "execute_result"
    }
   ],
   "source": [
    "train_embeddings[vocabulary.from_string[PADDING_TOKEN]]"
   ]
  },
  {
   "cell_type": "markdown",
   "metadata": {},
   "source": [
    "Now we can do the same for the other splits, i.e. validation and test$\\dots$ "
   ]
  },
  {
   "cell_type": "code",
   "execution_count": 187,
   "metadata": {
    "execution": {
     "iopub.execute_input": "2020-11-19T17:27:45.068305Z",
     "iopub.status.busy": "2020-11-19T17:27:45.067990Z",
     "iopub.status.idle": "2020-11-19T17:27:45.352131Z",
     "shell.execute_reply": "2020-11-19T17:27:45.350784Z",
     "shell.execute_reply.started": "2020-11-19T17:27:45.068264Z"
    }
   },
   "outputs": [],
   "source": [
    "val_embeddings = build_embedding_matrix(\n",
    "    embedding_model,\n",
    "    EMBEDDING_DIMENSION,\n",
    "    vocabulary,\n",
    "    unique_val_tokens,\n",
    "    val_oov_terms,\n",
    "    neighbors=val_neighbors,\n",
    "    method=\"mean\",\n",
    "    padding_token=PADDING_TOKEN,\n",
    ")\n",
    "test_embeddings = build_embedding_matrix(\n",
    "    embedding_model,\n",
    "    EMBEDDING_DIMENSION,\n",
    "    vocabulary,\n",
    "    unique_test_tokens,\n",
    "    test_oov_terms,\n",
    "    neighbors=test_neighbors,\n",
    "    method=\"mean\",\n",
    "    padding_token=PADDING_TOKEN,\n",
    ")"
   ]
  },
  {
   "cell_type": "markdown",
   "metadata": {},
   "source": [
    "## Model definition"
   ]
  },
  {
   "cell_type": "markdown",
   "metadata": {},
   "source": [
    "In this section we are going to define a modular class containing the implementation of a POS tagging model, which will be used in subsequent blocks to perform different kinds of experiments, by changing architectures while keeping hyperparameters fixed."
   ]
  },
  {
   "cell_type": "code",
   "execution_count": 338,
   "metadata": {
    "execution": {
     "iopub.execute_input": "2020-11-20T09:21:19.742580Z",
     "iopub.status.busy": "2020-11-20T09:21:19.741915Z",
     "iopub.status.idle": "2020-11-20T09:21:19.820933Z",
     "shell.execute_reply": "2020-11-20T09:21:19.819502Z",
     "shell.execute_reply.started": "2020-11-20T09:21:19.742531Z"
    }
   },
   "outputs": [],
   "source": [
    "class POSTaggingModel(nn.Module):\n",
    "    def __init__(\n",
    "        self,\n",
    "        embedding_dimension,\n",
    "        hidden_dimension,\n",
    "        output_dimension,\n",
    "        gru=True,\n",
    "        num_layers=2,\n",
    "        bidirectional=True,\n",
    "        dropout_rate=0.25,\n",
    "        lr=1e-3,\n",
    "        padding_index=0,\n",
    "        crf=False,\n",
    "    ):\n",
    "        \"\"\"\n",
    "        Build a generic POS tagging model, with recurrent modules\n",
    "        \"\"\"\n",
    "        super().__init__()\n",
    "\n",
    "        # Padding\n",
    "        self.padding_index = padding_index\n",
    "\n",
    "        # Get device\n",
    "        self.device = torch.device(\"cuda\" if torch.cuda.is_available() else \"cpu\")\n",
    "\n",
    "        # Embedding module\n",
    "        self.embedding = None\n",
    "\n",
    "        # Recurrent module\n",
    "        recurrent_module = nn.GRU if gru else nn.LSTM\n",
    "        self.recurrent_module = recurrent_module(\n",
    "            embedding_dimension,\n",
    "            hidden_dimension,\n",
    "            batch_first=True,\n",
    "            num_layers=num_layers,\n",
    "            bidirectional=bidirectional,\n",
    "            dropout=dropout_rate if num_layers > 1 else 0,\n",
    "        )\n",
    "\n",
    "        # Dense and dropout layers\n",
    "        self.dense = nn.Linear(\n",
    "            hidden_dimension * 2 if bidirectional else hidden_dimension,\n",
    "            output_dimension,\n",
    "        )\n",
    "        self.dropout = nn.Dropout(dropout_rate)\n",
    "\n",
    "        # Criterion\n",
    "        self.crf = crf\n",
    "        self.criterion = (\n",
    "            nn.CrossEntropyLoss(ignore_index=padding_index).to(self.device)\n",
    "            if not self.crf\n",
    "            else CRF(output_dimension, batch_first=True)\n",
    "        )\n",
    "\n",
    "        # Optimizer\n",
    "        self.lr = lr\n",
    "        self.optimizer = optim.Adam(self.parameters(), lr=lr)\n",
    "\n",
    "        # Transfer model to device\n",
    "        self.to(self.device)\n",
    "\n",
    "    def inject_embeddings(self, embeddings):\n",
    "        self.embedding = nn.Embedding(\n",
    "            embeddings.shape[0], embeddings.shape[1], padding_idx=self.padding_index\n",
    "        )\n",
    "        self.embedding.weight = nn.Parameter(torch.FloatTensor(embeddings))\n",
    "        self.embedding.weight.requires_grad = False\n",
    "\n",
    "    def count_parameters(self):\n",
    "        return sum(p.numel() for p in self.parameters() if p.requires_grad)\n",
    "\n",
    "    def init_weights(self):\n",
    "        for name, param in self.named_parameters():\n",
    "            nn.init.normal_(param.data, mean=0, std=0.1)\n",
    "\n",
    "    def forward(self, tokens, tokens_lenghts):\n",
    "        assert self.embedding is not None\n",
    "        embedded = self.dropout(self.embedding(tokens))\n",
    "        packed = pack_padded_sequence(\n",
    "            embedded, tokens_lenghts, batch_first=True, enforce_sorted=False\n",
    "        )\n",
    "        packed_outputs, (hidden, cell) = self.recurrent_module(packed)\n",
    "        padded_outputs, outputs_lengths = pad_packed_sequence(\n",
    "            packed_outputs, batch_first=True\n",
    "        )\n",
    "        predictions = self.dense(self.dropout(padded_outputs))\n",
    "        return predictions\n",
    "\n",
    "    def loss(self, predictions, tags):\n",
    "        if not self.crf:\n",
    "            predictions = predictions.view(-1, predictions.shape[-1])\n",
    "            tags = tags.view(-1)\n",
    "            return self.criterion(predictions, tags)\n",
    "\n",
    "        mask = torch.ones(tags.shape, dtype=torch.uint8)\n",
    "        mask[tags == self.padding_index] = 0\n",
    "        return -self.criterion(predictions, tags, mask=mask)"
   ]
  },
  {
   "cell_type": "markdown",
   "metadata": {},
   "source": [
    "Here are the main hyperparameters that we are fixing$\\dots$"
   ]
  },
  {
   "cell_type": "code",
   "execution_count": 295,
   "metadata": {
    "execution": {
     "iopub.execute_input": "2020-11-19T22:02:46.484008Z",
     "iopub.status.busy": "2020-11-19T22:02:46.483541Z",
     "iopub.status.idle": "2020-11-19T22:02:46.542482Z",
     "shell.execute_reply": "2020-11-19T22:02:46.540884Z",
     "shell.execute_reply.started": "2020-11-19T22:02:46.483963Z"
    }
   },
   "outputs": [],
   "source": [
    "HIDDEN_DIMENSION = 128\n",
    "NUM_EPOCHS = 15\n",
    "LEARNING_RATE = 1e-3\n",
    "EARLY_STOPPING_PATIENCE = 5\n",
    "EARLY_STOPPING_MIN_DELTA = 0.1"
   ]
  },
  {
   "cell_type": "markdown",
   "metadata": {},
   "source": [
    "## Learning utils"
   ]
  },
  {
   "cell_type": "code",
   "execution_count": 296,
   "metadata": {
    "execution": {
     "iopub.execute_input": "2020-11-19T22:02:47.760024Z",
     "iopub.status.busy": "2020-11-19T22:02:47.759696Z",
     "iopub.status.idle": "2020-11-19T22:02:47.827881Z",
     "shell.execute_reply": "2020-11-19T22:02:47.826704Z",
     "shell.execute_reply.started": "2020-11-19T22:02:47.759983Z"
    }
   },
   "outputs": [],
   "source": [
    "class EarlyStopping:\n",
    "    \"\"\"\n",
    "    Early stopping implementation, taken from \n",
    "    https://gist.github.com/stefanonardo/693d96ceb2f531fa05db530f3e21517d\n",
    "    \"\"\"\n",
    "\n",
    "    def __init__(self, mode=\"min\", min_delta=0, patience=10, percentage=False):\n",
    "        self.mode = mode\n",
    "        self.min_delta = min_delta\n",
    "        self.patience = patience\n",
    "\n",
    "        self.best = None\n",
    "        self.num_bad_epochs = 0\n",
    "        self.is_better = None\n",
    "        self._init_is_better(mode, min_delta, percentage)\n",
    "\n",
    "        if patience == 0:\n",
    "            self.is_better = lambda a, b: True\n",
    "            self.step = lambda a: False\n",
    "\n",
    "    def _init_is_better(self, mode, min_delta, percentage):\n",
    "        if mode not in {\"min\", \"max\"}:\n",
    "            raise ValueError(f\"Mode `{mode}` is unknown\")\n",
    "        if not percentage:\n",
    "            if mode == \"min\":\n",
    "                self.is_better = lambda a, best: a < best - min_delta\n",
    "            if mode == \"max\":\n",
    "                self.is_better = lambda a, best: a > best + min_delta\n",
    "        else:\n",
    "            if mode == \"min\":\n",
    "                self.is_better = lambda a, best: a < best - (best * min_delta / 100)\n",
    "            if mode == \"max\":\n",
    "                self.is_better = lambda a, best: a > best + (best * min_delta / 100)\n",
    "\n",
    "    def step(self, value):\n",
    "        if self.best is None:\n",
    "            self.best = value\n",
    "            return False\n",
    "\n",
    "        if self.is_better(value, self.best):\n",
    "            self.num_bad_epochs = 0\n",
    "            self.best = value\n",
    "        else:\n",
    "            self.num_bad_epochs += 1\n",
    "\n",
    "        if self.num_bad_epochs >= self.patience:\n",
    "            return True\n",
    "\n",
    "        return False"
   ]
  },
  {
   "cell_type": "code",
   "execution_count": 297,
   "metadata": {
    "execution": {
     "iopub.execute_input": "2020-11-19T22:02:49.102218Z",
     "iopub.status.busy": "2020-11-19T22:02:49.101892Z",
     "iopub.status.idle": "2020-11-19T22:02:49.162607Z",
     "shell.execute_reply": "2020-11-19T22:02:49.161416Z",
     "shell.execute_reply.started": "2020-11-19T22:02:49.102176Z"
    }
   },
   "outputs": [],
   "source": [
    "def get_best(predictions, ground_truth, padding_index=0):\n",
    "    '''\n",
    "    Returns two flattened list corresponding to predictions and ground truths\n",
    "    '''\n",
    "    predictions = predictions.view(-1, predictions.shape[-1])\n",
    "    ground_truth = ground_truth.view(-1)\n",
    "    max_predictions = predictions.argmax(dim=1)\n",
    "    non_pad_elements = torch.where(ground_truth != padding_index)[0]\n",
    "    return (\n",
    "        ground_truth[non_pad_elements].detach().cpu().tolist(),\n",
    "        max_predictions[non_pad_elements].detach().cpu().tolist(),\n",
    "    )"
   ]
  },
  {
   "cell_type": "code",
   "execution_count": 298,
   "metadata": {
    "execution": {
     "iopub.execute_input": "2020-11-19T22:02:49.165011Z",
     "iopub.status.busy": "2020-11-19T22:02:49.164686Z",
     "iopub.status.idle": "2020-11-19T22:02:49.218096Z",
     "shell.execute_reply": "2020-11-19T22:02:49.216921Z",
     "shell.execute_reply.started": "2020-11-19T22:02:49.164970Z"
    }
   },
   "outputs": [],
   "source": [
    "def categorical_accuracy(predictions, ground_truth, padding_index=0):\n",
    "    \"\"\"\n",
    "    Returns accuracy score over the given batch of data\n",
    "    \"\"\"\n",
    "    max_predictions, ground_truth = get_best(\n",
    "        predictions, ground_truth, padding_index=padding_index\n",
    "    )\n",
    "    num_equal = np.sum(np.array(max_predictions) == np.array(ground_truth))\n",
    "    return num_equal / len(ground_truth)"
   ]
  },
  {
   "cell_type": "code",
   "execution_count": 299,
   "metadata": {
    "execution": {
     "iopub.execute_input": "2020-11-19T22:02:49.220164Z",
     "iopub.status.busy": "2020-11-19T22:02:49.219848Z",
     "iopub.status.idle": "2020-11-19T22:02:49.271719Z",
     "shell.execute_reply": "2020-11-19T22:02:49.270576Z",
     "shell.execute_reply.started": "2020-11-19T22:02:49.220125Z"
    }
   },
   "outputs": [],
   "source": [
    "def f1_score(\n",
    "    predictions, ground_truth, labels=None, average=\"macro\",\n",
    "):\n",
    "    \"\"\"\n",
    "    Returns F1-macro score over an entire dataset\n",
    "    (F1 cannot be computed on batches)\n",
    "    \"\"\"\n",
    "    return sklearn.metrics.f1_score(\n",
    "        ground_truth, predictions, labels=labels, average=average,\n",
    "    )"
   ]
  },
  {
   "cell_type": "code",
   "execution_count": 300,
   "metadata": {
    "execution": {
     "iopub.execute_input": "2020-11-19T22:02:53.087447Z",
     "iopub.status.busy": "2020-11-19T22:02:53.087118Z",
     "iopub.status.idle": "2020-11-19T22:02:53.152755Z",
     "shell.execute_reply": "2020-11-19T22:02:53.151489Z",
     "shell.execute_reply.started": "2020-11-19T22:02:53.087406Z"
    }
   },
   "outputs": [],
   "source": [
    "def train(model, dataloader, embeddings, f1_labels=None):\n",
    "    \"\"\"\n",
    "    Train the given model with the given dataloader\n",
    "    \"\"\"\n",
    "    epoch_loss, epoch_acc, epoch_f1 = 0, 0, 0\n",
    "    outputs, labels = [], []\n",
    "    model.train()\n",
    "    model.inject_embeddings(embeddings)\n",
    "    dataloader_progress = tqdm(enumerate(dataloader), desc=\"Training\", leave=True)\n",
    "    for i, batch in dataloader_progress:\n",
    "        model.optimizer.zero_grad()\n",
    "        tokens, tags, tokens_lenghts, tags_lenghts = batch\n",
    "        predictions = model(tokens, tokens_lenghts)\n",
    "        max_predictions, ground_truth = get_best(predictions, tags)\n",
    "        outputs.extend(max_predictions)\n",
    "        labels.extend(ground_truth)\n",
    "        loss = model.loss(predictions, tags)\n",
    "        acc = categorical_accuracy(predictions, tags)\n",
    "        loss.backward()\n",
    "        model.optimizer.step()\n",
    "        epoch_loss = epoch_loss + ((loss.item() - epoch_loss) / (i + 1))\n",
    "        epoch_acc = epoch_acc + ((acc.item() - epoch_acc) / (i + 1))\n",
    "        dataloader_progress.set_postfix({\"epoch_acc\": f\"{epoch_acc * 100:.2f}\"})\n",
    "\n",
    "    # Compute F1 score once a training epoch is done\n",
    "    epoch_f1 = f1_score(outputs, labels, labels=f1_labels)\n",
    "    return epoch_loss, epoch_acc, epoch_f1"
   ]
  },
  {
   "cell_type": "code",
   "execution_count": 301,
   "metadata": {
    "execution": {
     "iopub.execute_input": "2020-11-19T22:02:53.154562Z",
     "iopub.status.busy": "2020-11-19T22:02:53.154244Z",
     "iopub.status.idle": "2020-11-19T22:02:53.212679Z",
     "shell.execute_reply": "2020-11-19T22:02:53.211291Z",
     "shell.execute_reply.started": "2020-11-19T22:02:53.154523Z"
    }
   },
   "outputs": [],
   "source": [
    "def evaluate(model, dataloader, embeddings, f1_labels=None):\n",
    "    \"\"\"\n",
    "    Evaluate the given model with the given dataloader\n",
    "    \"\"\"\n",
    "    epoch_loss, epoch_acc, epoch_f1 = 0, 0, 0\n",
    "    outputs, labels = [], []\n",
    "    model.eval()\n",
    "    model.inject_embeddings(embeddings)\n",
    "    with torch.no_grad():\n",
    "        dataloader_progress = tqdm(enumerate(dataloader), desc=\"Validating\", leave=True)\n",
    "        for i, batch in dataloader_progress:\n",
    "            tokens, tags, tokens_lenghts, tags_lenghts = batch\n",
    "            predictions = model(tokens, tokens_lenghts)\n",
    "            max_predictions, ground_truth = get_best(predictions, tags)\n",
    "            outputs.extend(max_predictions)\n",
    "            labels.extend(ground_truth)\n",
    "            loss = model.loss(predictions, tags)\n",
    "            acc = categorical_accuracy(predictions, tags)\n",
    "            epoch_loss = epoch_loss + ((loss.item() - epoch_loss) / (i + 1))\n",
    "            epoch_acc = epoch_acc + ((acc.item() - epoch_acc) / (i + 1))\n",
    "            dataloader_progress.set_postfix({\"epoch_acc\": f\"{epoch_acc * 100:.2f}\"})\n",
    "\n",
    "    # Compute F1 score once a training epoch is done\n",
    "    epoch_f1 = f1_score(outputs, labels, labels=f1_labels)\n",
    "    return epoch_loss, epoch_acc, epoch_f1"
   ]
  },
  {
   "cell_type": "code",
   "execution_count": 302,
   "metadata": {
    "execution": {
     "iopub.execute_input": "2020-11-19T22:02:53.214696Z",
     "iopub.status.busy": "2020-11-19T22:02:53.214383Z",
     "iopub.status.idle": "2020-11-19T22:02:53.276758Z",
     "shell.execute_reply": "2020-11-19T22:02:53.275541Z",
     "shell.execute_reply.started": "2020-11-19T22:02:53.214657Z"
    }
   },
   "outputs": [],
   "source": [
    "def train_val_test(\n",
    "    model,\n",
    "    model_name,\n",
    "    train_dataloader,\n",
    "    val_dataloader,\n",
    "    test_dataloader,\n",
    "    train_embeddings,\n",
    "    val_embeddings,\n",
    "    test_embeddings,\n",
    "    train_f1_labels=None,\n",
    "    val_f1_labels=None,\n",
    "    test_f1_labels=None,\n",
    "    epochs=10,\n",
    "    es_patience=5,\n",
    "    es_min_delta=0.1,\n",
    "):\n",
    "    \"\"\"\n",
    "    Perform training, validation and testing on the given model,\n",
    "    for the specified number of epochs\n",
    "    \"\"\"\n",
    "    history = {\n",
    "        \"train_loss\": [],\n",
    "        \"train_acc\": [],\n",
    "        \"train_f1\": [],\n",
    "        \"val_loss\": [],\n",
    "        \"val_acc\": [],\n",
    "        \"val_f1\": [],\n",
    "    }\n",
    "    epoch_progress = tqdm(range(epochs), desc=\"Epoch\", leave=True)\n",
    "    early_stopping = EarlyStopping(patience=es_patience, min_delta=es_min_delta)\n",
    "    for epoch in epoch_progress:\n",
    "        # Perform training\n",
    "        train_loss, train_acc, train_f1 = train(\n",
    "            model, train_dataloader, train_embeddings, f1_labels=train_f1_labels\n",
    "        )\n",
    "        history[\"train_loss\"].append(train_loss)\n",
    "        history[\"train_acc\"].append(train_acc)\n",
    "        history[\"train_f1\"].append(train_f1)\n",
    "\n",
    "        # Perform evaluation\n",
    "        val_loss, val_acc, val_f1 = evaluate(\n",
    "            model, val_dataloader, val_embeddings, f1_labels=val_f1_labels\n",
    "        )\n",
    "        history[\"val_loss\"].append(val_loss)\n",
    "        history[\"val_acc\"].append(val_acc)\n",
    "        history[\"val_f1\"].append(val_f1)\n",
    "\n",
    "        # Update progress bar\n",
    "        epoch_progress.set_postfix(\n",
    "            {\"train_f1\": f\"{train_acc * 100:.2f}\", \"val_f1\": f\"{val_acc * 100:.2f}\"}\n",
    "        )\n",
    "\n",
    "        # Save the best model so far and early stop if validation loss plateaus\n",
    "        if not early_stopping.step(val_loss):\n",
    "            torch.save(model.state_dict(), f\"models/{model_name}.pt\")\n",
    "        else:\n",
    "            print(\"Early stopping...\")\n",
    "            break\n",
    "\n",
    "    # Test the model\n",
    "    model.load_state_dict(torch.load(f\"models/{model_name}.pt\"))\n",
    "    test_loss, test_acc, test_f1 = evaluate(\n",
    "        model, test_dataloader, test_embeddings, f1_labels=test_f1_labels\n",
    "    )\n",
    "    print(\n",
    "        f\"Test loss: {test_loss:.3f} | Test accuracy: {test_acc * 100:.2f}% | Test F1: {test_f1 * 100:.2f}%\"\n",
    "    )\n",
    "\n",
    "    return history"
   ]
  },
  {
   "cell_type": "code",
   "execution_count": 303,
   "metadata": {
    "execution": {
     "iopub.execute_input": "2020-11-19T22:02:59.850181Z",
     "iopub.status.busy": "2020-11-19T22:02:59.849849Z",
     "iopub.status.idle": "2020-11-19T22:02:59.913303Z",
     "shell.execute_reply": "2020-11-19T22:02:59.912114Z",
     "shell.execute_reply.started": "2020-11-19T22:02:59.850139Z"
    }
   },
   "outputs": [],
   "source": [
    "def get_cmap(n, name=\"hsv\"):\n",
    "    \"\"\"\n",
    "    Returns a function that maps each index in {0, 1, ..., n - 1} to a distinct \n",
    "    RGB color (the keyword argument name must be a standard mpl colormap name)\n",
    "    \"\"\"\n",
    "    return plt.cm.get_cmap(name, n)\n",
    "\n",
    "\n",
    "def plot_history(history, nrows=2, ncols=3):\n",
    "    \"\"\"\n",
    "    Given an history dictionary (as built in the `train_val_test` function),\n",
    "    plots the whole training information\n",
    "    \"\"\"\n",
    "    assert nrows * ncols == len(history)\n",
    "    fig, axes = plt.subplots(nrows, ncols)\n",
    "    axes = np.array(axes).reshape((nrows, ncols))\n",
    "    fig.text(0.5, 0, 'Epochs', ha='center', va='center')\n",
    "    grid = np.arange(len(history)).reshape(nrows, ncols)\n",
    "    cmap = get_cmap(len(history))\n",
    "    for v, k in enumerate(history):\n",
    "        i, j = np.argwhere(grid == v).reshape(-1)\n",
    "        axes[i, j].plot(history[k], c=cmap(v))\n",
    "        axes[i, j].legend([k])\n",
    "    plt.tight_layout()\n",
    "    plt.show()"
   ]
  },
  {
   "cell_type": "markdown",
   "metadata": {},
   "source": [
    "Now, we store a subset of the whole set of tokens (for each split) that does not contain punctuation signs. This is necessary for the evaluation of our POS tagging models with the `F1 macro` measure, in order to compare results."
   ]
  },
  {
   "cell_type": "code",
   "execution_count": 304,
   "metadata": {
    "execution": {
     "iopub.execute_input": "2020-11-19T22:03:01.566842Z",
     "iopub.status.busy": "2020-11-19T22:03:01.566483Z",
     "iopub.status.idle": "2020-11-19T22:03:01.783091Z",
     "shell.execute_reply": "2020-11-19T22:03:01.781814Z",
     "shell.execute_reply.started": "2020-11-19T22:03:01.566798Z"
    }
   },
   "outputs": [],
   "source": [
    "get_unique_tags = partial(get_unique, df, \"tags\", split_col_name=\"split\")\n",
    "train_tags = get_unique_tags(split=\"train\")\n",
    "val_tags = get_unique_tags(split=\"val\")\n",
    "test_tags = get_unique_tags(split=\"test\")\n",
    "train_f1_labels = list(set(train_tags) - set(string.punctuation))\n",
    "val_f1_labels = list(set(val_tags) - set(string.punctuation))\n",
    "test_f1_labels = list(set(test_tags) - set(string.punctuation))\n",
    "train_f1_labels_indexes = [tags_vocabulary.from_string[t] for t in train_f1_labels]\n",
    "val_f1_labels_indexes = [tags_vocabulary.from_string[t] for t in val_f1_labels]\n",
    "test_f1_labels_indexes = [tags_vocabulary.from_string[t] for t in test_f1_labels]"
   ]
  },
  {
   "cell_type": "code",
   "execution_count": 305,
   "metadata": {
    "execution": {
     "iopub.execute_input": "2020-11-19T22:03:03.137085Z",
     "iopub.status.busy": "2020-11-19T22:03:03.136734Z",
     "iopub.status.idle": "2020-11-19T22:03:03.206847Z",
     "shell.execute_reply": "2020-11-19T22:03:03.205675Z",
     "shell.execute_reply.started": "2020-11-19T22:03:03.137037Z"
    }
   },
   "outputs": [
    {
     "name": "stdout",
     "output_type": "stream",
     "text": [
      "[('JJR', 16), ('IN', 14), ('SYM', 32), ('VBD', 36), ('VBP', 39), ('WRB', 44), ('VBN', 38), ('RB', 28), ('-LRB-', 5), ('POS', 25), ('WDT', 41), ('PDT', 24), ('FW', 13), ('WP$', 43), ('PRP$', 27), ('RBS', 30), ('-RRB-', 6), ('NNS', 23), ('VBZ', 40), ('PRP', 26), ('WP', 42), ('VB', 35), ('VBG', 37), ('``', 45), ('CD', 10), ('RBR', 29), ('TO', 33), ('JJ', 15), (\"''\", 3), ('RP', 31), ('EX', 12), ('DT', 11), ('CC', 9), ('LS', 18), ('JJS', 17), ('NN', 20), ('NNPS', 22), ('UH', 34), ('NNP', 21), ('MD', 19)]\n"
     ]
    }
   ],
   "source": [
    "print(list(zip(train_f1_labels, train_f1_labels_indexes)))"
   ]
  },
  {
   "cell_type": "code",
   "execution_count": 310,
   "metadata": {
    "execution": {
     "iopub.execute_input": "2020-11-19T22:03:30.528319Z",
     "iopub.status.busy": "2020-11-19T22:03:30.527845Z",
     "iopub.status.idle": "2020-11-19T22:03:30.598685Z",
     "shell.execute_reply": "2020-11-19T22:03:30.597314Z",
     "shell.execute_reply.started": "2020-11-19T22:03:30.528274Z"
    }
   },
   "outputs": [],
   "source": [
    "actual_train_val_test = partial(\n",
    "    train_val_test,\n",
    "    train_dataloader=train_dataloader,\n",
    "    val_dataloader=val_dataloader,\n",
    "    test_dataloader=test_dataloader,\n",
    "    train_embeddings=train_embeddings,\n",
    "    val_embeddings=val_embeddings,\n",
    "    test_embeddings=test_embeddings,\n",
    "    train_f1_labels=train_f1_labels_indexes,\n",
    "    val_f1_labels=val_f1_labels_indexes,\n",
    "    test_f1_labels=test_f1_labels_indexes,\n",
    "    epochs=NUM_EPOCHS,\n",
    "    es_patience=EARLY_STOPPING_PATIENCE,\n",
    "    es_min_delta=EARLY_STOPPING_MIN_DELTA,\n",
    ")"
   ]
  },
  {
   "cell_type": "markdown",
   "metadata": {},
   "source": [
    "## Baseline model (BiLSTM + FC)"
   ]
  },
  {
   "cell_type": "code",
   "execution_count": 311,
   "metadata": {
    "execution": {
     "iopub.execute_input": "2020-11-19T22:03:33.427783Z",
     "iopub.status.busy": "2020-11-19T22:03:33.427361Z",
     "iopub.status.idle": "2020-11-19T22:03:33.494587Z",
     "shell.execute_reply": "2020-11-19T22:03:33.493436Z",
     "shell.execute_reply.started": "2020-11-19T22:03:33.427729Z"
    }
   },
   "outputs": [],
   "source": [
    "bilstm_fc_model = POSTaggingModel(\n",
    "    EMBEDDING_DIMENSION,\n",
    "    HIDDEN_DIMENSION,\n",
    "    len(tags_vocabulary.string),\n",
    "    gru=False,\n",
    "    num_layers=1,\n",
    "    bidirectional=True,\n",
    "    dropout_rate=0.0,\n",
    "    lr=LEARNING_RATE,\n",
    "    padding_index=tags_vocabulary.from_string[PADDING_TOKEN],\n",
    "    crf=False,\n",
    ")"
   ]
  },
  {
   "cell_type": "code",
   "execution_count": 312,
   "metadata": {
    "execution": {
     "iopub.execute_input": "2020-11-19T22:03:33.496591Z",
     "iopub.status.busy": "2020-11-19T22:03:33.496274Z",
     "iopub.status.idle": "2020-11-19T22:03:33.548230Z",
     "shell.execute_reply": "2020-11-19T22:03:33.547001Z",
     "shell.execute_reply.started": "2020-11-19T22:03:33.496552Z"
    }
   },
   "outputs": [
    {
     "name": "stdout",
     "output_type": "stream",
     "text": [
      "The model has 452,142 trainable parameters\n"
     ]
    }
   ],
   "source": [
    "print(f\"The model has {bilstm_fc_model.count_parameters():,} trainable parameters\")"
   ]
  },
  {
   "cell_type": "code",
   "execution_count": 313,
   "metadata": {
    "execution": {
     "iopub.execute_input": "2020-11-19T22:03:36.055843Z",
     "iopub.status.busy": "2020-11-19T22:03:36.055423Z",
     "iopub.status.idle": "2020-11-19T22:03:36.132619Z",
     "shell.execute_reply": "2020-11-19T22:03:36.131474Z",
     "shell.execute_reply.started": "2020-11-19T22:03:36.055786Z"
    }
   },
   "outputs": [],
   "source": [
    "bilstm_fc_model.init_weights()"
   ]
  },
  {
   "cell_type": "code",
   "execution_count": 314,
   "metadata": {
    "execution": {
     "iopub.execute_input": "2020-11-19T22:03:37.357191Z",
     "iopub.status.busy": "2020-11-19T22:03:37.356866Z",
     "iopub.status.idle": "2020-11-19T22:12:15.872914Z",
     "shell.execute_reply": "2020-11-19T22:12:15.871604Z",
     "shell.execute_reply.started": "2020-11-19T22:03:37.357148Z"
    }
   },
   "outputs": [
    {
     "data": {
      "application/vnd.jupyter.widget-view+json": {
       "model_id": "7627a13fa7a549b1b41c19f3bce04b59",
       "version_major": 2,
       "version_minor": 0
      },
      "text/plain": [
       "HBox(children=(HTML(value='Epoch'), FloatProgress(value=0.0, max=15.0), HTML(value='')))"
      ]
     },
     "metadata": {},
     "output_type": "display_data"
    },
    {
     "data": {
      "application/vnd.jupyter.widget-view+json": {
       "model_id": "0f1d4b1cd74b41318756c541a1dac840",
       "version_major": 2,
       "version_minor": 0
      },
      "text/plain": [
       "HBox(children=(HTML(value='Training'), FloatProgress(value=1.0, bar_style='info', layout=Layout(width='20px'),…"
      ]
     },
     "metadata": {},
     "output_type": "display_data"
    },
    {
     "name": "stdout",
     "output_type": "stream",
     "text": [
      "\n"
     ]
    },
    {
     "data": {
      "application/vnd.jupyter.widget-view+json": {
       "model_id": "22c4b36597dd4cfc88d46e917f9c7d58",
       "version_major": 2,
       "version_minor": 0
      },
      "text/plain": [
       "HBox(children=(HTML(value='Validating'), FloatProgress(value=1.0, bar_style='info', layout=Layout(width='20px'…"
      ]
     },
     "metadata": {},
     "output_type": "display_data"
    },
    {
     "name": "stdout",
     "output_type": "stream",
     "text": [
      "\n"
     ]
    },
    {
     "data": {
      "application/vnd.jupyter.widget-view+json": {
       "model_id": "cd893f296b9e4212807f6bd6f0b63652",
       "version_major": 2,
       "version_minor": 0
      },
      "text/plain": [
       "HBox(children=(HTML(value='Training'), FloatProgress(value=1.0, bar_style='info', layout=Layout(width='20px'),…"
      ]
     },
     "metadata": {},
     "output_type": "display_data"
    },
    {
     "name": "stdout",
     "output_type": "stream",
     "text": [
      "\n"
     ]
    },
    {
     "data": {
      "application/vnd.jupyter.widget-view+json": {
       "model_id": "a918b757332a4b93b8acfe74ab8abefa",
       "version_major": 2,
       "version_minor": 0
      },
      "text/plain": [
       "HBox(children=(HTML(value='Validating'), FloatProgress(value=1.0, bar_style='info', layout=Layout(width='20px'…"
      ]
     },
     "metadata": {},
     "output_type": "display_data"
    },
    {
     "name": "stdout",
     "output_type": "stream",
     "text": [
      "\n"
     ]
    },
    {
     "data": {
      "application/vnd.jupyter.widget-view+json": {
       "model_id": "b3abef825c474d118b4d58b3d53ca2c3",
       "version_major": 2,
       "version_minor": 0
      },
      "text/plain": [
       "HBox(children=(HTML(value='Training'), FloatProgress(value=1.0, bar_style='info', layout=Layout(width='20px'),…"
      ]
     },
     "metadata": {},
     "output_type": "display_data"
    },
    {
     "name": "stdout",
     "output_type": "stream",
     "text": [
      "\n"
     ]
    },
    {
     "data": {
      "application/vnd.jupyter.widget-view+json": {
       "model_id": "5b2fd25482be41b09cfe815af9325d87",
       "version_major": 2,
       "version_minor": 0
      },
      "text/plain": [
       "HBox(children=(HTML(value='Validating'), FloatProgress(value=1.0, bar_style='info', layout=Layout(width='20px'…"
      ]
     },
     "metadata": {},
     "output_type": "display_data"
    },
    {
     "name": "stdout",
     "output_type": "stream",
     "text": [
      "\n"
     ]
    },
    {
     "data": {
      "application/vnd.jupyter.widget-view+json": {
       "model_id": "42c5d78d363a49219a587017bbc15510",
       "version_major": 2,
       "version_minor": 0
      },
      "text/plain": [
       "HBox(children=(HTML(value='Training'), FloatProgress(value=1.0, bar_style='info', layout=Layout(width='20px'),…"
      ]
     },
     "metadata": {},
     "output_type": "display_data"
    },
    {
     "name": "stdout",
     "output_type": "stream",
     "text": [
      "\n"
     ]
    },
    {
     "data": {
      "application/vnd.jupyter.widget-view+json": {
       "model_id": "19bd8b099f5a456ba2012afa003d825b",
       "version_major": 2,
       "version_minor": 0
      },
      "text/plain": [
       "HBox(children=(HTML(value='Validating'), FloatProgress(value=1.0, bar_style='info', layout=Layout(width='20px'…"
      ]
     },
     "metadata": {},
     "output_type": "display_data"
    },
    {
     "name": "stdout",
     "output_type": "stream",
     "text": [
      "\n"
     ]
    },
    {
     "data": {
      "application/vnd.jupyter.widget-view+json": {
       "model_id": "2fc2742de624442685ab8d94ad9e08d4",
       "version_major": 2,
       "version_minor": 0
      },
      "text/plain": [
       "HBox(children=(HTML(value='Training'), FloatProgress(value=1.0, bar_style='info', layout=Layout(width='20px'),…"
      ]
     },
     "metadata": {},
     "output_type": "display_data"
    },
    {
     "name": "stdout",
     "output_type": "stream",
     "text": [
      "\n"
     ]
    },
    {
     "data": {
      "application/vnd.jupyter.widget-view+json": {
       "model_id": "f547916954ee44fab2a23bef40014231",
       "version_major": 2,
       "version_minor": 0
      },
      "text/plain": [
       "HBox(children=(HTML(value='Validating'), FloatProgress(value=1.0, bar_style='info', layout=Layout(width='20px'…"
      ]
     },
     "metadata": {},
     "output_type": "display_data"
    },
    {
     "name": "stdout",
     "output_type": "stream",
     "text": [
      "\n"
     ]
    },
    {
     "data": {
      "application/vnd.jupyter.widget-view+json": {
       "model_id": "bce3e755518a4875be6251f137ff95db",
       "version_major": 2,
       "version_minor": 0
      },
      "text/plain": [
       "HBox(children=(HTML(value='Training'), FloatProgress(value=1.0, bar_style='info', layout=Layout(width='20px'),…"
      ]
     },
     "metadata": {},
     "output_type": "display_data"
    },
    {
     "name": "stdout",
     "output_type": "stream",
     "text": [
      "\n"
     ]
    },
    {
     "data": {
      "application/vnd.jupyter.widget-view+json": {
       "model_id": "9a4b7f663e5b4326a6b857aa2d0dd781",
       "version_major": 2,
       "version_minor": 0
      },
      "text/plain": [
       "HBox(children=(HTML(value='Validating'), FloatProgress(value=1.0, bar_style='info', layout=Layout(width='20px'…"
      ]
     },
     "metadata": {},
     "output_type": "display_data"
    },
    {
     "name": "stdout",
     "output_type": "stream",
     "text": [
      "\n"
     ]
    },
    {
     "data": {
      "application/vnd.jupyter.widget-view+json": {
       "model_id": "947f95a51e0e4677ba78c20d0b65cb6a",
       "version_major": 2,
       "version_minor": 0
      },
      "text/plain": [
       "HBox(children=(HTML(value='Training'), FloatProgress(value=1.0, bar_style='info', layout=Layout(width='20px'),…"
      ]
     },
     "metadata": {},
     "output_type": "display_data"
    },
    {
     "name": "stdout",
     "output_type": "stream",
     "text": [
      "\n"
     ]
    },
    {
     "data": {
      "application/vnd.jupyter.widget-view+json": {
       "model_id": "745b77e3596c4d6b971e3581c17d331c",
       "version_major": 2,
       "version_minor": 0
      },
      "text/plain": [
       "HBox(children=(HTML(value='Validating'), FloatProgress(value=1.0, bar_style='info', layout=Layout(width='20px'…"
      ]
     },
     "metadata": {},
     "output_type": "display_data"
    },
    {
     "name": "stdout",
     "output_type": "stream",
     "text": [
      "\n"
     ]
    },
    {
     "data": {
      "application/vnd.jupyter.widget-view+json": {
       "model_id": "6c9ef1caecad456a83381f027dd0b44d",
       "version_major": 2,
       "version_minor": 0
      },
      "text/plain": [
       "HBox(children=(HTML(value='Training'), FloatProgress(value=1.0, bar_style='info', layout=Layout(width='20px'),…"
      ]
     },
     "metadata": {},
     "output_type": "display_data"
    },
    {
     "name": "stdout",
     "output_type": "stream",
     "text": [
      "\n"
     ]
    },
    {
     "data": {
      "application/vnd.jupyter.widget-view+json": {
       "model_id": "91daabe66c064e9ead8b6cdec1d840fc",
       "version_major": 2,
       "version_minor": 0
      },
      "text/plain": [
       "HBox(children=(HTML(value='Validating'), FloatProgress(value=1.0, bar_style='info', layout=Layout(width='20px'…"
      ]
     },
     "metadata": {},
     "output_type": "display_data"
    },
    {
     "name": "stdout",
     "output_type": "stream",
     "text": [
      "\n"
     ]
    },
    {
     "data": {
      "application/vnd.jupyter.widget-view+json": {
       "model_id": "3ee792334cdc4bf2a1b0841c73aadc04",
       "version_major": 2,
       "version_minor": 0
      },
      "text/plain": [
       "HBox(children=(HTML(value='Training'), FloatProgress(value=1.0, bar_style='info', layout=Layout(width='20px'),…"
      ]
     },
     "metadata": {},
     "output_type": "display_data"
    },
    {
     "name": "stdout",
     "output_type": "stream",
     "text": [
      "\n"
     ]
    },
    {
     "data": {
      "application/vnd.jupyter.widget-view+json": {
       "model_id": "01a3acc880df4ffebf113ed0098ea531",
       "version_major": 2,
       "version_minor": 0
      },
      "text/plain": [
       "HBox(children=(HTML(value='Validating'), FloatProgress(value=1.0, bar_style='info', layout=Layout(width='20px'…"
      ]
     },
     "metadata": {},
     "output_type": "display_data"
    },
    {
     "name": "stdout",
     "output_type": "stream",
     "text": [
      "\n"
     ]
    },
    {
     "data": {
      "application/vnd.jupyter.widget-view+json": {
       "model_id": "4ca1f5e0cd774c049936db27a2262b3f",
       "version_major": 2,
       "version_minor": 0
      },
      "text/plain": [
       "HBox(children=(HTML(value='Training'), FloatProgress(value=1.0, bar_style='info', layout=Layout(width='20px'),…"
      ]
     },
     "metadata": {},
     "output_type": "display_data"
    },
    {
     "name": "stdout",
     "output_type": "stream",
     "text": [
      "\n"
     ]
    },
    {
     "data": {
      "application/vnd.jupyter.widget-view+json": {
       "model_id": "51731c9af4244bc6bceb44492170bcbd",
       "version_major": 2,
       "version_minor": 0
      },
      "text/plain": [
       "HBox(children=(HTML(value='Validating'), FloatProgress(value=1.0, bar_style='info', layout=Layout(width='20px'…"
      ]
     },
     "metadata": {},
     "output_type": "display_data"
    },
    {
     "name": "stdout",
     "output_type": "stream",
     "text": [
      "\n"
     ]
    },
    {
     "data": {
      "application/vnd.jupyter.widget-view+json": {
       "model_id": "0db94210867548a4886320d1793ba2fb",
       "version_major": 2,
       "version_minor": 0
      },
      "text/plain": [
       "HBox(children=(HTML(value='Training'), FloatProgress(value=1.0, bar_style='info', layout=Layout(width='20px'),…"
      ]
     },
     "metadata": {},
     "output_type": "display_data"
    },
    {
     "name": "stdout",
     "output_type": "stream",
     "text": [
      "\n"
     ]
    },
    {
     "data": {
      "application/vnd.jupyter.widget-view+json": {
       "model_id": "dbaed503e1e844de8601bf8422079178",
       "version_major": 2,
       "version_minor": 0
      },
      "text/plain": [
       "HBox(children=(HTML(value='Validating'), FloatProgress(value=1.0, bar_style='info', layout=Layout(width='20px'…"
      ]
     },
     "metadata": {},
     "output_type": "display_data"
    },
    {
     "name": "stdout",
     "output_type": "stream",
     "text": [
      "\n"
     ]
    },
    {
     "data": {
      "application/vnd.jupyter.widget-view+json": {
       "model_id": "0ee1c2cdfbdc4a179288e0014b40cd16",
       "version_major": 2,
       "version_minor": 0
      },
      "text/plain": [
       "HBox(children=(HTML(value='Training'), FloatProgress(value=1.0, bar_style='info', layout=Layout(width='20px'),…"
      ]
     },
     "metadata": {},
     "output_type": "display_data"
    },
    {
     "name": "stdout",
     "output_type": "stream",
     "text": [
      "\n"
     ]
    },
    {
     "data": {
      "application/vnd.jupyter.widget-view+json": {
       "model_id": "df67122c3f994ff689973f4726c6ce2a",
       "version_major": 2,
       "version_minor": 0
      },
      "text/plain": [
       "HBox(children=(HTML(value='Validating'), FloatProgress(value=1.0, bar_style='info', layout=Layout(width='20px'…"
      ]
     },
     "metadata": {},
     "output_type": "display_data"
    },
    {
     "name": "stdout",
     "output_type": "stream",
     "text": [
      "\n"
     ]
    },
    {
     "data": {
      "application/vnd.jupyter.widget-view+json": {
       "model_id": "396bffc838cc4db69e64da5df1ed702b",
       "version_major": 2,
       "version_minor": 0
      },
      "text/plain": [
       "HBox(children=(HTML(value='Training'), FloatProgress(value=1.0, bar_style='info', layout=Layout(width='20px'),…"
      ]
     },
     "metadata": {},
     "output_type": "display_data"
    },
    {
     "name": "stdout",
     "output_type": "stream",
     "text": [
      "\n"
     ]
    },
    {
     "data": {
      "application/vnd.jupyter.widget-view+json": {
       "model_id": "4b784235a7b44afab8fd1eaa04091043",
       "version_major": 2,
       "version_minor": 0
      },
      "text/plain": [
       "HBox(children=(HTML(value='Validating'), FloatProgress(value=1.0, bar_style='info', layout=Layout(width='20px'…"
      ]
     },
     "metadata": {},
     "output_type": "display_data"
    },
    {
     "name": "stdout",
     "output_type": "stream",
     "text": [
      "\n"
     ]
    },
    {
     "data": {
      "application/vnd.jupyter.widget-view+json": {
       "model_id": "d58d0cd56f4a4e39b404a074c4570e36",
       "version_major": 2,
       "version_minor": 0
      },
      "text/plain": [
       "HBox(children=(HTML(value='Training'), FloatProgress(value=1.0, bar_style='info', layout=Layout(width='20px'),…"
      ]
     },
     "metadata": {},
     "output_type": "display_data"
    },
    {
     "name": "stdout",
     "output_type": "stream",
     "text": [
      "\n"
     ]
    },
    {
     "data": {
      "application/vnd.jupyter.widget-view+json": {
       "model_id": "33b24444b4a74ac593a40b5d79b32e80",
       "version_major": 2,
       "version_minor": 0
      },
      "text/plain": [
       "HBox(children=(HTML(value='Validating'), FloatProgress(value=1.0, bar_style='info', layout=Layout(width='20px'…"
      ]
     },
     "metadata": {},
     "output_type": "display_data"
    },
    {
     "name": "stdout",
     "output_type": "stream",
     "text": [
      "\n"
     ]
    },
    {
     "data": {
      "application/vnd.jupyter.widget-view+json": {
       "model_id": "47e9cb25252d431abc2abb8cddd36425",
       "version_major": 2,
       "version_minor": 0
      },
      "text/plain": [
       "HBox(children=(HTML(value='Training'), FloatProgress(value=1.0, bar_style='info', layout=Layout(width='20px'),…"
      ]
     },
     "metadata": {},
     "output_type": "display_data"
    },
    {
     "name": "stdout",
     "output_type": "stream",
     "text": [
      "\n"
     ]
    },
    {
     "data": {
      "application/vnd.jupyter.widget-view+json": {
       "model_id": "7bb1296d8efc429cb20b654f68b024fc",
       "version_major": 2,
       "version_minor": 0
      },
      "text/plain": [
       "HBox(children=(HTML(value='Validating'), FloatProgress(value=1.0, bar_style='info', layout=Layout(width='20px'…"
      ]
     },
     "metadata": {},
     "output_type": "display_data"
    },
    {
     "name": "stdout",
     "output_type": "stream",
     "text": [
      "\n",
      "\n"
     ]
    },
    {
     "data": {
      "application/vnd.jupyter.widget-view+json": {
       "model_id": "355a845626f749ebacede4996c6d5003",
       "version_major": 2,
       "version_minor": 0
      },
      "text/plain": [
       "HBox(children=(HTML(value='Validating'), FloatProgress(value=1.0, bar_style='info', layout=Layout(width='20px'…"
      ]
     },
     "metadata": {},
     "output_type": "display_data"
    },
    {
     "name": "stdout",
     "output_type": "stream",
     "text": [
      "\n",
      "Test loss: 0.282 | Test accuracy: 91.61% | Test F1: 83.07%\n"
     ]
    }
   ],
   "source": [
    "bilstm_fc_model_history = actual_train_val_test(bilstm_fc_model, \"bilstm_fc_model\",)"
   ]
  },
  {
   "cell_type": "code",
   "execution_count": 315,
   "metadata": {
    "execution": {
     "iopub.execute_input": "2020-11-19T22:12:28.118305Z",
     "iopub.status.busy": "2020-11-19T22:12:28.117524Z",
     "iopub.status.idle": "2020-11-19T22:12:29.752205Z",
     "shell.execute_reply": "2020-11-19T22:12:29.750991Z",
     "shell.execute_reply.started": "2020-11-19T22:12:28.118257Z"
    }
   },
   "outputs": [
    {
     "data": {
      "image/png": "[encoded data removed]",
      "text/plain": [
       "<Figure size 800x600 with 6 Axes>"
      ]
     },
     "metadata": {},
     "output_type": "display_data"
    }
   ],
   "source": [
    "plot_history(bilstm_fc_model_history, nrows=2, ncols=3)"
   ]
  },
  {
   "cell_type": "markdown",
   "metadata": {},
   "source": [
    "## BiGRU + FC"
   ]
  },
  {
   "cell_type": "code",
   "execution_count": 316,
   "metadata": {
    "execution": {
     "iopub.execute_input": "2020-11-20T08:45:30.639426Z",
     "iopub.status.busy": "2020-11-20T08:45:30.638790Z",
     "iopub.status.idle": "2020-11-20T08:45:30.740735Z",
     "shell.execute_reply": "2020-11-20T08:45:30.739659Z",
     "shell.execute_reply.started": "2020-11-20T08:45:30.639319Z"
    }
   },
   "outputs": [],
   "source": [
    "bigru_fc_model = POSTaggingModel(\n",
    "    EMBEDDING_DIMENSION,\n",
    "    HIDDEN_DIMENSION,\n",
    "    len(tags_vocabulary.string),\n",
    "    gru=True,\n",
    "    num_layers=1,\n",
    "    bidirectional=True,\n",
    "    dropout_rate=0.0,\n",
    "    lr=LEARNING_RATE,\n",
    "    padding_index=tags_vocabulary.from_string[PADDING_TOKEN],\n",
    "    crf=False\n",
    ")"
   ]
  },
  {
   "cell_type": "code",
   "execution_count": 318,
   "metadata": {
    "execution": {
     "iopub.execute_input": "2020-11-20T08:45:42.765349Z",
     "iopub.status.busy": "2020-11-20T08:45:42.764572Z",
     "iopub.status.idle": "2020-11-20T08:45:42.852034Z",
     "shell.execute_reply": "2020-11-20T08:45:42.850336Z",
     "shell.execute_reply.started": "2020-11-20T08:45:42.765302Z"
    }
   },
   "outputs": [
    {
     "name": "stdout",
     "output_type": "stream",
     "text": [
      "The model has 342,062 trainable parameters\n"
     ]
    }
   ],
   "source": [
    "print(f\"The model has {bigru_fc_model.count_parameters():,} trainable parameters\")"
   ]
  },
  {
   "cell_type": "code",
   "execution_count": 319,
   "metadata": {
    "execution": {
     "iopub.execute_input": "2020-11-20T08:45:44.436936Z",
     "iopub.status.busy": "2020-11-20T08:45:44.436597Z",
     "iopub.status.idle": "2020-11-20T08:45:44.519651Z",
     "shell.execute_reply": "2020-11-20T08:45:44.518303Z",
     "shell.execute_reply.started": "2020-11-20T08:45:44.436892Z"
    }
   },
   "outputs": [],
   "source": [
    "bigru_fc_model.init_weights()"
   ]
  },
  {
   "cell_type": "code",
   "execution_count": 320,
   "metadata": {
    "execution": {
     "iopub.execute_input": "2020-11-20T08:45:47.602977Z",
     "iopub.status.busy": "2020-11-20T08:45:47.602354Z",
     "iopub.status.idle": "2020-11-20T08:54:03.243821Z",
     "shell.execute_reply": "2020-11-20T08:54:03.242488Z",
     "shell.execute_reply.started": "2020-11-20T08:45:47.602926Z"
    }
   },
   "outputs": [
    {
     "data": {
      "application/vnd.jupyter.widget-view+json": {
       "model_id": "bd527c87c8ea473b9b364cd243e949f9",
       "version_major": 2,
       "version_minor": 0
      },
      "text/plain": [
       "HBox(children=(HTML(value='Epoch'), FloatProgress(value=0.0, max=15.0), HTML(value='')))"
      ]
     },
     "metadata": {},
     "output_type": "display_data"
    },
    {
     "data": {
      "application/vnd.jupyter.widget-view+json": {
       "model_id": "fec78e725afb4f03b7eb7c0757344793",
       "version_major": 2,
       "version_minor": 0
      },
      "text/plain": [
       "HBox(children=(HTML(value='Training'), FloatProgress(value=1.0, bar_style='info', layout=Layout(width='20px'),…"
      ]
     },
     "metadata": {},
     "output_type": "display_data"
    },
    {
     "name": "stdout",
     "output_type": "stream",
     "text": [
      "\n"
     ]
    },
    {
     "data": {
      "application/vnd.jupyter.widget-view+json": {
       "model_id": "7e3ff36846b147dfbc695807bae4680d",
       "version_major": 2,
       "version_minor": 0
      },
      "text/plain": [
       "HBox(children=(HTML(value='Validating'), FloatProgress(value=1.0, bar_style='info', layout=Layout(width='20px'…"
      ]
     },
     "metadata": {},
     "output_type": "display_data"
    },
    {
     "name": "stdout",
     "output_type": "stream",
     "text": [
      "\n"
     ]
    },
    {
     "data": {
      "application/vnd.jupyter.widget-view+json": {
       "model_id": "a0f156dd16f447548305f50f2943b413",
       "version_major": 2,
       "version_minor": 0
      },
      "text/plain": [
       "HBox(children=(HTML(value='Training'), FloatProgress(value=1.0, bar_style='info', layout=Layout(width='20px'),…"
      ]
     },
     "metadata": {},
     "output_type": "display_data"
    },
    {
     "name": "stdout",
     "output_type": "stream",
     "text": [
      "\n"
     ]
    },
    {
     "data": {
      "application/vnd.jupyter.widget-view+json": {
       "model_id": "d31261530ba2448191b416a4c31a1cd4",
       "version_major": 2,
       "version_minor": 0
      },
      "text/plain": [
       "HBox(children=(HTML(value='Validating'), FloatProgress(value=1.0, bar_style='info', layout=Layout(width='20px'…"
      ]
     },
     "metadata": {},
     "output_type": "display_data"
    },
    {
     "name": "stdout",
     "output_type": "stream",
     "text": [
      "\n"
     ]
    },
    {
     "data": {
      "application/vnd.jupyter.widget-view+json": {
       "model_id": "c26f956a7b5044d5918aa243aaf22322",
       "version_major": 2,
       "version_minor": 0
      },
      "text/plain": [
       "HBox(children=(HTML(value='Training'), FloatProgress(value=1.0, bar_style='info', layout=Layout(width='20px'),…"
      ]
     },
     "metadata": {},
     "output_type": "display_data"
    },
    {
     "name": "stdout",
     "output_type": "stream",
     "text": [
      "\n"
     ]
    },
    {
     "data": {
      "application/vnd.jupyter.widget-view+json": {
       "model_id": "4e5c8c7e3c2848528abc904efed4d718",
       "version_major": 2,
       "version_minor": 0
      },
      "text/plain": [
       "HBox(children=(HTML(value='Validating'), FloatProgress(value=1.0, bar_style='info', layout=Layout(width='20px'…"
      ]
     },
     "metadata": {},
     "output_type": "display_data"
    },
    {
     "name": "stdout",
     "output_type": "stream",
     "text": [
      "\n"
     ]
    },
    {
     "data": {
      "application/vnd.jupyter.widget-view+json": {
       "model_id": "4043c4ad84f2429483e03f489a048be2",
       "version_major": 2,
       "version_minor": 0
      },
      "text/plain": [
       "HBox(children=(HTML(value='Training'), FloatProgress(value=1.0, bar_style='info', layout=Layout(width='20px'),…"
      ]
     },
     "metadata": {},
     "output_type": "display_data"
    },
    {
     "name": "stdout",
     "output_type": "stream",
     "text": [
      "\n"
     ]
    },
    {
     "data": {
      "application/vnd.jupyter.widget-view+json": {
       "model_id": "bcf0c8e331e14405947209ae9d8cdaf2",
       "version_major": 2,
       "version_minor": 0
      },
      "text/plain": [
       "HBox(children=(HTML(value='Validating'), FloatProgress(value=1.0, bar_style='info', layout=Layout(width='20px'…"
      ]
     },
     "metadata": {},
     "output_type": "display_data"
    },
    {
     "name": "stdout",
     "output_type": "stream",
     "text": [
      "\n"
     ]
    },
    {
     "data": {
      "application/vnd.jupyter.widget-view+json": {
       "model_id": "4aecd9bb856d41c48887b3b18c69fd91",
       "version_major": 2,
       "version_minor": 0
      },
      "text/plain": [
       "HBox(children=(HTML(value='Training'), FloatProgress(value=1.0, bar_style='info', layout=Layout(width='20px'),…"
      ]
     },
     "metadata": {},
     "output_type": "display_data"
    },
    {
     "name": "stdout",
     "output_type": "stream",
     "text": [
      "\n"
     ]
    },
    {
     "data": {
      "application/vnd.jupyter.widget-view+json": {
       "model_id": "0fcce8919f0042fc96c66cac7ed90147",
       "version_major": 2,
       "version_minor": 0
      },
      "text/plain": [
       "HBox(children=(HTML(value='Validating'), FloatProgress(value=1.0, bar_style='info', layout=Layout(width='20px'…"
      ]
     },
     "metadata": {},
     "output_type": "display_data"
    },
    {
     "name": "stdout",
     "output_type": "stream",
     "text": [
      "\n"
     ]
    },
    {
     "data": {
      "application/vnd.jupyter.widget-view+json": {
       "model_id": "bd61c2c6f47e45e7b7e850b0c5883fcc",
       "version_major": 2,
       "version_minor": 0
      },
      "text/plain": [
       "HBox(children=(HTML(value='Training'), FloatProgress(value=1.0, bar_style='info', layout=Layout(width='20px'),…"
      ]
     },
     "metadata": {},
     "output_type": "display_data"
    },
    {
     "name": "stdout",
     "output_type": "stream",
     "text": [
      "\n"
     ]
    },
    {
     "data": {
      "application/vnd.jupyter.widget-view+json": {
       "model_id": "1d7073d036e54c0ca56b334d7a37ed73",
       "version_major": 2,
       "version_minor": 0
      },
      "text/plain": [
       "HBox(children=(HTML(value='Validating'), FloatProgress(value=1.0, bar_style='info', layout=Layout(width='20px'…"
      ]
     },
     "metadata": {},
     "output_type": "display_data"
    },
    {
     "name": "stdout",
     "output_type": "stream",
     "text": [
      "\n"
     ]
    },
    {
     "data": {
      "application/vnd.jupyter.widget-view+json": {
       "model_id": "e9d2d55b709a4c2d96fa39a2beb36a4c",
       "version_major": 2,
       "version_minor": 0
      },
      "text/plain": [
       "HBox(children=(HTML(value='Training'), FloatProgress(value=1.0, bar_style='info', layout=Layout(width='20px'),…"
      ]
     },
     "metadata": {},
     "output_type": "display_data"
    },
    {
     "name": "stdout",
     "output_type": "stream",
     "text": [
      "\n"
     ]
    },
    {
     "data": {
      "application/vnd.jupyter.widget-view+json": {
       "model_id": "1bd16fc6aa3f44319088a5936d3ceba7",
       "version_major": 2,
       "version_minor": 0
      },
      "text/plain": [
       "HBox(children=(HTML(value='Validating'), FloatProgress(value=1.0, bar_style='info', layout=Layout(width='20px'…"
      ]
     },
     "metadata": {},
     "output_type": "display_data"
    },
    {
     "name": "stdout",
     "output_type": "stream",
     "text": [
      "\n"
     ]
    },
    {
     "data": {
      "application/vnd.jupyter.widget-view+json": {
       "model_id": "c45f5b8473674240a3793e745fd2567f",
       "version_major": 2,
       "version_minor": 0
      },
      "text/plain": [
       "HBox(children=(HTML(value='Training'), FloatProgress(value=1.0, bar_style='info', layout=Layout(width='20px'),…"
      ]
     },
     "metadata": {},
     "output_type": "display_data"
    },
    {
     "name": "stdout",
     "output_type": "stream",
     "text": [
      "\n"
     ]
    },
    {
     "data": {
      "application/vnd.jupyter.widget-view+json": {
       "model_id": "ead49bbba26d46e49290e04cdbfe190a",
       "version_major": 2,
       "version_minor": 0
      },
      "text/plain": [
       "HBox(children=(HTML(value='Validating'), FloatProgress(value=1.0, bar_style='info', layout=Layout(width='20px'…"
      ]
     },
     "metadata": {},
     "output_type": "display_data"
    },
    {
     "name": "stdout",
     "output_type": "stream",
     "text": [
      "\n"
     ]
    },
    {
     "data": {
      "application/vnd.jupyter.widget-view+json": {
       "model_id": "f3a7614b027c4bfcae17ee21d6f16f44",
       "version_major": 2,
       "version_minor": 0
      },
      "text/plain": [
       "HBox(children=(HTML(value='Training'), FloatProgress(value=1.0, bar_style='info', layout=Layout(width='20px'),…"
      ]
     },
     "metadata": {},
     "output_type": "display_data"
    },
    {
     "name": "stdout",
     "output_type": "stream",
     "text": [
      "\n"
     ]
    },
    {
     "data": {
      "application/vnd.jupyter.widget-view+json": {
       "model_id": "de354124eb5e49d48e95d1f22c53ccde",
       "version_major": 2,
       "version_minor": 0
      },
      "text/plain": [
       "HBox(children=(HTML(value='Validating'), FloatProgress(value=1.0, bar_style='info', layout=Layout(width='20px'…"
      ]
     },
     "metadata": {},
     "output_type": "display_data"
    },
    {
     "name": "stdout",
     "output_type": "stream",
     "text": [
      "\n"
     ]
    },
    {
     "data": {
      "application/vnd.jupyter.widget-view+json": {
       "model_id": "9674608cb71e4b5da974ba498e033f9b",
       "version_major": 2,
       "version_minor": 0
      },
      "text/plain": [
       "HBox(children=(HTML(value='Training'), FloatProgress(value=1.0, bar_style='info', layout=Layout(width='20px'),…"
      ]
     },
     "metadata": {},
     "output_type": "display_data"
    },
    {
     "name": "stdout",
     "output_type": "stream",
     "text": [
      "\n"
     ]
    },
    {
     "data": {
      "application/vnd.jupyter.widget-view+json": {
       "model_id": "69f6555069bd49bdb389f92c410ccd2e",
       "version_major": 2,
       "version_minor": 0
      },
      "text/plain": [
       "HBox(children=(HTML(value='Validating'), FloatProgress(value=1.0, bar_style='info', layout=Layout(width='20px'…"
      ]
     },
     "metadata": {},
     "output_type": "display_data"
    },
    {
     "name": "stdout",
     "output_type": "stream",
     "text": [
      "\n"
     ]
    },
    {
     "data": {
      "application/vnd.jupyter.widget-view+json": {
       "model_id": "573ecbf416674d5bba4e29cb01ba1146",
       "version_major": 2,
       "version_minor": 0
      },
      "text/plain": [
       "HBox(children=(HTML(value='Training'), FloatProgress(value=1.0, bar_style='info', layout=Layout(width='20px'),…"
      ]
     },
     "metadata": {},
     "output_type": "display_data"
    },
    {
     "name": "stdout",
     "output_type": "stream",
     "text": [
      "\n"
     ]
    },
    {
     "data": {
      "application/vnd.jupyter.widget-view+json": {
       "model_id": "5ed7f532fcb743029ee904048b52237e",
       "version_major": 2,
       "version_minor": 0
      },
      "text/plain": [
       "HBox(children=(HTML(value='Validating'), FloatProgress(value=1.0, bar_style='info', layout=Layout(width='20px'…"
      ]
     },
     "metadata": {},
     "output_type": "display_data"
    },
    {
     "name": "stdout",
     "output_type": "stream",
     "text": [
      "\n"
     ]
    },
    {
     "data": {
      "application/vnd.jupyter.widget-view+json": {
       "model_id": "e677d5949e1e4b0c8abaf852c4a5c8fa",
       "version_major": 2,
       "version_minor": 0
      },
      "text/plain": [
       "HBox(children=(HTML(value='Training'), FloatProgress(value=1.0, bar_style='info', layout=Layout(width='20px'),…"
      ]
     },
     "metadata": {},
     "output_type": "display_data"
    },
    {
     "name": "stdout",
     "output_type": "stream",
     "text": [
      "\n"
     ]
    },
    {
     "data": {
      "application/vnd.jupyter.widget-view+json": {
       "model_id": "2ecb90c7f0c64349a7e10282ceca22a0",
       "version_major": 2,
       "version_minor": 0
      },
      "text/plain": [
       "HBox(children=(HTML(value='Validating'), FloatProgress(value=1.0, bar_style='info', layout=Layout(width='20px'…"
      ]
     },
     "metadata": {},
     "output_type": "display_data"
    },
    {
     "name": "stdout",
     "output_type": "stream",
     "text": [
      "\n"
     ]
    },
    {
     "data": {
      "application/vnd.jupyter.widget-view+json": {
       "model_id": "208af3c7eb3a4aedaf44df475f9be1fe",
       "version_major": 2,
       "version_minor": 0
      },
      "text/plain": [
       "HBox(children=(HTML(value='Training'), FloatProgress(value=1.0, bar_style='info', layout=Layout(width='20px'),…"
      ]
     },
     "metadata": {},
     "output_type": "display_data"
    },
    {
     "name": "stdout",
     "output_type": "stream",
     "text": [
      "\n"
     ]
    },
    {
     "data": {
      "application/vnd.jupyter.widget-view+json": {
       "model_id": "972f272ed5674c8a929ee4c94a0c5a0a",
       "version_major": 2,
       "version_minor": 0
      },
      "text/plain": [
       "HBox(children=(HTML(value='Validating'), FloatProgress(value=1.0, bar_style='info', layout=Layout(width='20px'…"
      ]
     },
     "metadata": {},
     "output_type": "display_data"
    },
    {
     "name": "stdout",
     "output_type": "stream",
     "text": [
      "\n"
     ]
    },
    {
     "data": {
      "application/vnd.jupyter.widget-view+json": {
       "model_id": "fb1aabbf57864d9e92e1b06b43e48c7d",
       "version_major": 2,
       "version_minor": 0
      },
      "text/plain": [
       "HBox(children=(HTML(value='Training'), FloatProgress(value=1.0, bar_style='info', layout=Layout(width='20px'),…"
      ]
     },
     "metadata": {},
     "output_type": "display_data"
    },
    {
     "name": "stdout",
     "output_type": "stream",
     "text": [
      "\n"
     ]
    },
    {
     "data": {
      "application/vnd.jupyter.widget-view+json": {
       "model_id": "f2e2d5be0eac422695ed252d89b82940",
       "version_major": 2,
       "version_minor": 0
      },
      "text/plain": [
       "HBox(children=(HTML(value='Validating'), FloatProgress(value=1.0, bar_style='info', layout=Layout(width='20px'…"
      ]
     },
     "metadata": {},
     "output_type": "display_data"
    },
    {
     "name": "stdout",
     "output_type": "stream",
     "text": [
      "\n"
     ]
    },
    {
     "data": {
      "application/vnd.jupyter.widget-view+json": {
       "model_id": "8100d55dfada4fce880259412f2a8f4a",
       "version_major": 2,
       "version_minor": 0
      },
      "text/plain": [
       "HBox(children=(HTML(value='Training'), FloatProgress(value=1.0, bar_style='info', layout=Layout(width='20px'),…"
      ]
     },
     "metadata": {},
     "output_type": "display_data"
    },
    {
     "name": "stdout",
     "output_type": "stream",
     "text": [
      "\n"
     ]
    },
    {
     "data": {
      "application/vnd.jupyter.widget-view+json": {
       "model_id": "a9ec8f1bc0ce4af3adfb0f313ba8d895",
       "version_major": 2,
       "version_minor": 0
      },
      "text/plain": [
       "HBox(children=(HTML(value='Validating'), FloatProgress(value=1.0, bar_style='info', layout=Layout(width='20px'…"
      ]
     },
     "metadata": {},
     "output_type": "display_data"
    },
    {
     "name": "stdout",
     "output_type": "stream",
     "text": [
      "\n",
      "\n"
     ]
    },
    {
     "data": {
      "application/vnd.jupyter.widget-view+json": {
       "model_id": "25841114f2284a389cbd8a34fb5e115d",
       "version_major": 2,
       "version_minor": 0
      },
      "text/plain": [
       "HBox(children=(HTML(value='Validating'), FloatProgress(value=1.0, bar_style='info', layout=Layout(width='20px'…"
      ]
     },
     "metadata": {},
     "output_type": "display_data"
    },
    {
     "name": "stdout",
     "output_type": "stream",
     "text": [
      "\n",
      "Test loss: 0.268 | Test accuracy: 91.91% | Test F1: 82.86%\n"
     ]
    }
   ],
   "source": [
    "bigru_fc_model_history = actual_train_val_test(bigru_fc_model, \"bigru_fc_model\",)"
   ]
  },
  {
   "cell_type": "code",
   "execution_count": 321,
   "metadata": {
    "execution": {
     "iopub.execute_input": "2020-11-20T09:00:37.431316Z",
     "iopub.status.busy": "2020-11-20T09:00:37.430543Z",
     "iopub.status.idle": "2020-11-20T09:00:40.449113Z",
     "shell.execute_reply": "2020-11-20T09:00:40.448058Z",
     "shell.execute_reply.started": "2020-11-20T09:00:37.431269Z"
    }
   },
   "outputs": [
    {
     "data": {
      "image/png": "[encoded data removed]",
      "text/plain": [
       "<Figure size 800x600 with 6 Axes>"
      ]
     },
     "metadata": {},
     "output_type": "display_data"
    }
   ],
   "source": [
    "plot_history(bigru_fc_model_history, nrows=2, ncols=3)"
   ]
  },
  {
   "cell_type": "markdown",
   "metadata": {},
   "source": [
    "## BiLSTMx2 + FC"
   ]
  },
  {
   "cell_type": "code",
   "execution_count": 322,
   "metadata": {
    "execution": {
     "iopub.execute_input": "2020-11-20T09:00:51.441412Z",
     "iopub.status.busy": "2020-11-20T09:00:51.440919Z",
     "iopub.status.idle": "2020-11-20T09:00:51.530983Z",
     "shell.execute_reply": "2020-11-20T09:00:51.529747Z",
     "shell.execute_reply.started": "2020-11-20T09:00:51.441358Z"
    }
   },
   "outputs": [],
   "source": [
    "bilstmx2_fc_model = POSTaggingModel(\n",
    "    EMBEDDING_DIMENSION,\n",
    "    HIDDEN_DIMENSION,\n",
    "    len(tags_vocabulary.string),\n",
    "    gru=False,\n",
    "    num_layers=2,\n",
    "    bidirectional=True,\n",
    "    dropout_rate=0.0,\n",
    "    lr=LEARNING_RATE,\n",
    "    padding_index=tags_vocabulary.from_string[PADDING_TOKEN],\n",
    "    crf=False\n",
    ")"
   ]
  },
  {
   "cell_type": "code",
   "execution_count": 323,
   "metadata": {
    "execution": {
     "iopub.execute_input": "2020-11-20T09:00:53.428355Z",
     "iopub.status.busy": "2020-11-20T09:00:53.428008Z",
     "iopub.status.idle": "2020-11-20T09:00:53.487528Z",
     "shell.execute_reply": "2020-11-20T09:00:53.486345Z",
     "shell.execute_reply.started": "2020-11-20T09:00:53.428311Z"
    }
   },
   "outputs": [
    {
     "name": "stdout",
     "output_type": "stream",
     "text": [
      "The model has 847,406 trainable parameters\n"
     ]
    }
   ],
   "source": [
    "print(f\"The model has {bilstmx2_fc_model.count_parameters():,} trainable parameters\")"
   ]
  },
  {
   "cell_type": "code",
   "execution_count": 324,
   "metadata": {
    "execution": {
     "iopub.execute_input": "2020-11-20T09:00:55.430497Z",
     "iopub.status.busy": "2020-11-20T09:00:55.430145Z",
     "iopub.status.idle": "2020-11-20T09:00:55.534084Z",
     "shell.execute_reply": "2020-11-20T09:00:55.533049Z",
     "shell.execute_reply.started": "2020-11-20T09:00:55.430453Z"
    }
   },
   "outputs": [],
   "source": [
    "bilstmx2_fc_model.init_weights()"
   ]
  },
  {
   "cell_type": "code",
   "execution_count": 325,
   "metadata": {
    "execution": {
     "iopub.execute_input": "2020-11-20T09:01:01.080858Z",
     "iopub.status.busy": "2020-11-20T09:01:01.080366Z",
     "iopub.status.idle": "2020-11-20T09:17:25.025462Z",
     "shell.execute_reply": "2020-11-20T09:17:25.024025Z",
     "shell.execute_reply.started": "2020-11-20T09:01:01.080811Z"
    }
   },
   "outputs": [
    {
     "data": {
      "application/vnd.jupyter.widget-view+json": {
       "model_id": "2478774513d74cea935abf80922219cd",
       "version_major": 2,
       "version_minor": 0
      },
      "text/plain": [
       "HBox(children=(HTML(value='Epoch'), FloatProgress(value=0.0, max=15.0), HTML(value='')))"
      ]
     },
     "metadata": {},
     "output_type": "display_data"
    },
    {
     "data": {
      "application/vnd.jupyter.widget-view+json": {
       "model_id": "db6baa6b765e4fb19728b82df1a000e3",
       "version_major": 2,
       "version_minor": 0
      },
      "text/plain": [
       "HBox(children=(HTML(value='Training'), FloatProgress(value=1.0, bar_style='info', layout=Layout(width='20px'),…"
      ]
     },
     "metadata": {},
     "output_type": "display_data"
    },
    {
     "name": "stdout",
     "output_type": "stream",
     "text": [
      "\n"
     ]
    },
    {
     "data": {
      "application/vnd.jupyter.widget-view+json": {
       "model_id": "c96e691b1a4641799d082d7b34e58133",
       "version_major": 2,
       "version_minor": 0
      },
      "text/plain": [
       "HBox(children=(HTML(value='Validating'), FloatProgress(value=1.0, bar_style='info', layout=Layout(width='20px'…"
      ]
     },
     "metadata": {},
     "output_type": "display_data"
    },
    {
     "name": "stdout",
     "output_type": "stream",
     "text": [
      "\n"
     ]
    },
    {
     "data": {
      "application/vnd.jupyter.widget-view+json": {
       "model_id": "57718307c34f4a449572dadd0c1cb5ea",
       "version_major": 2,
       "version_minor": 0
      },
      "text/plain": [
       "HBox(children=(HTML(value='Training'), FloatProgress(value=1.0, bar_style='info', layout=Layout(width='20px'),…"
      ]
     },
     "metadata": {},
     "output_type": "display_data"
    },
    {
     "name": "stdout",
     "output_type": "stream",
     "text": [
      "\n"
     ]
    },
    {
     "data": {
      "application/vnd.jupyter.widget-view+json": {
       "model_id": "f7f0c92d1a6847bfab4c59c2f18b022f",
       "version_major": 2,
       "version_minor": 0
      },
      "text/plain": [
       "HBox(children=(HTML(value='Validating'), FloatProgress(value=1.0, bar_style='info', layout=Layout(width='20px'…"
      ]
     },
     "metadata": {},
     "output_type": "display_data"
    },
    {
     "name": "stdout",
     "output_type": "stream",
     "text": [
      "\n"
     ]
    },
    {
     "data": {
      "application/vnd.jupyter.widget-view+json": {
       "model_id": "f581742a8582425d903443c661575feb",
       "version_major": 2,
       "version_minor": 0
      },
      "text/plain": [
       "HBox(children=(HTML(value='Training'), FloatProgress(value=1.0, bar_style='info', layout=Layout(width='20px'),…"
      ]
     },
     "metadata": {},
     "output_type": "display_data"
    },
    {
     "name": "stdout",
     "output_type": "stream",
     "text": [
      "\n"
     ]
    },
    {
     "data": {
      "application/vnd.jupyter.widget-view+json": {
       "model_id": "fa04790f6c8249b0948033d37a6d54b0",
       "version_major": 2,
       "version_minor": 0
      },
      "text/plain": [
       "HBox(children=(HTML(value='Validating'), FloatProgress(value=1.0, bar_style='info', layout=Layout(width='20px'…"
      ]
     },
     "metadata": {},
     "output_type": "display_data"
    },
    {
     "name": "stdout",
     "output_type": "stream",
     "text": [
      "\n"
     ]
    },
    {
     "data": {
      "application/vnd.jupyter.widget-view+json": {
       "model_id": "bbe62ba8063b4f90a307051b30ae42ed",
       "version_major": 2,
       "version_minor": 0
      },
      "text/plain": [
       "HBox(children=(HTML(value='Training'), FloatProgress(value=1.0, bar_style='info', layout=Layout(width='20px'),…"
      ]
     },
     "metadata": {},
     "output_type": "display_data"
    },
    {
     "name": "stdout",
     "output_type": "stream",
     "text": [
      "\n"
     ]
    },
    {
     "data": {
      "application/vnd.jupyter.widget-view+json": {
       "model_id": "1a79948aa9fd4d66bdf222f05924ca21",
       "version_major": 2,
       "version_minor": 0
      },
      "text/plain": [
       "HBox(children=(HTML(value='Validating'), FloatProgress(value=1.0, bar_style='info', layout=Layout(width='20px'…"
      ]
     },
     "metadata": {},
     "output_type": "display_data"
    },
    {
     "name": "stdout",
     "output_type": "stream",
     "text": [
      "\n"
     ]
    },
    {
     "data": {
      "application/vnd.jupyter.widget-view+json": {
       "model_id": "7d4e8f64e2184f0b88dbae8f8d47ccce",
       "version_major": 2,
       "version_minor": 0
      },
      "text/plain": [
       "HBox(children=(HTML(value='Training'), FloatProgress(value=1.0, bar_style='info', layout=Layout(width='20px'),…"
      ]
     },
     "metadata": {},
     "output_type": "display_data"
    },
    {
     "name": "stdout",
     "output_type": "stream",
     "text": [
      "\n"
     ]
    },
    {
     "data": {
      "application/vnd.jupyter.widget-view+json": {
       "model_id": "ad7cd3d104f4464ab5947135ac85e4ee",
       "version_major": 2,
       "version_minor": 0
      },
      "text/plain": [
       "HBox(children=(HTML(value='Validating'), FloatProgress(value=1.0, bar_style='info', layout=Layout(width='20px'…"
      ]
     },
     "metadata": {},
     "output_type": "display_data"
    },
    {
     "name": "stdout",
     "output_type": "stream",
     "text": [
      "\n"
     ]
    },
    {
     "data": {
      "application/vnd.jupyter.widget-view+json": {
       "model_id": "bdbf46ceb3644965b72a680e97fe5a62",
       "version_major": 2,
       "version_minor": 0
      },
      "text/plain": [
       "HBox(children=(HTML(value='Training'), FloatProgress(value=1.0, bar_style='info', layout=Layout(width='20px'),…"
      ]
     },
     "metadata": {},
     "output_type": "display_data"
    },
    {
     "name": "stdout",
     "output_type": "stream",
     "text": [
      "\n"
     ]
    },
    {
     "data": {
      "application/vnd.jupyter.widget-view+json": {
       "model_id": "dea88f7dd1ab4314bcb6baa63b205d93",
       "version_major": 2,
       "version_minor": 0
      },
      "text/plain": [
       "HBox(children=(HTML(value='Validating'), FloatProgress(value=1.0, bar_style='info', layout=Layout(width='20px'…"
      ]
     },
     "metadata": {},
     "output_type": "display_data"
    },
    {
     "name": "stdout",
     "output_type": "stream",
     "text": [
      "\n"
     ]
    },
    {
     "data": {
      "application/vnd.jupyter.widget-view+json": {
       "model_id": "22e7fa26ac5e44059f3ec159bc18901d",
       "version_major": 2,
       "version_minor": 0
      },
      "text/plain": [
       "HBox(children=(HTML(value='Training'), FloatProgress(value=1.0, bar_style='info', layout=Layout(width='20px'),…"
      ]
     },
     "metadata": {},
     "output_type": "display_data"
    },
    {
     "name": "stdout",
     "output_type": "stream",
     "text": [
      "\n"
     ]
    },
    {
     "data": {
      "application/vnd.jupyter.widget-view+json": {
       "model_id": "7084fc23a9294bc5af64e9a2391810af",
       "version_major": 2,
       "version_minor": 0
      },
      "text/plain": [
       "HBox(children=(HTML(value='Validating'), FloatProgress(value=1.0, bar_style='info', layout=Layout(width='20px'…"
      ]
     },
     "metadata": {},
     "output_type": "display_data"
    },
    {
     "name": "stdout",
     "output_type": "stream",
     "text": [
      "\n"
     ]
    },
    {
     "data": {
      "application/vnd.jupyter.widget-view+json": {
       "model_id": "19f2ad7577a4468ca0192f0e6eb3c2be",
       "version_major": 2,
       "version_minor": 0
      },
      "text/plain": [
       "HBox(children=(HTML(value='Training'), FloatProgress(value=1.0, bar_style='info', layout=Layout(width='20px'),…"
      ]
     },
     "metadata": {},
     "output_type": "display_data"
    },
    {
     "name": "stdout",
     "output_type": "stream",
     "text": [
      "\n"
     ]
    },
    {
     "data": {
      "application/vnd.jupyter.widget-view+json": {
       "model_id": "1ae26255d1484e4f95727311ac61bff9",
       "version_major": 2,
       "version_minor": 0
      },
      "text/plain": [
       "HBox(children=(HTML(value='Validating'), FloatProgress(value=1.0, bar_style='info', layout=Layout(width='20px'…"
      ]
     },
     "metadata": {},
     "output_type": "display_data"
    },
    {
     "name": "stdout",
     "output_type": "stream",
     "text": [
      "\n"
     ]
    },
    {
     "data": {
      "application/vnd.jupyter.widget-view+json": {
       "model_id": "a95168a8a51b433781971b43ec874119",
       "version_major": 2,
       "version_minor": 0
      },
      "text/plain": [
       "HBox(children=(HTML(value='Training'), FloatProgress(value=1.0, bar_style='info', layout=Layout(width='20px'),…"
      ]
     },
     "metadata": {},
     "output_type": "display_data"
    },
    {
     "name": "stdout",
     "output_type": "stream",
     "text": [
      "\n"
     ]
    },
    {
     "data": {
      "application/vnd.jupyter.widget-view+json": {
       "model_id": "5affbb971ce041a7b57939a4679a6069",
       "version_major": 2,
       "version_minor": 0
      },
      "text/plain": [
       "HBox(children=(HTML(value='Validating'), FloatProgress(value=1.0, bar_style='info', layout=Layout(width='20px'…"
      ]
     },
     "metadata": {},
     "output_type": "display_data"
    },
    {
     "name": "stdout",
     "output_type": "stream",
     "text": [
      "\n"
     ]
    },
    {
     "data": {
      "application/vnd.jupyter.widget-view+json": {
       "model_id": "e089c02fbf0d4460b62c3514418d0e6c",
       "version_major": 2,
       "version_minor": 0
      },
      "text/plain": [
       "HBox(children=(HTML(value='Training'), FloatProgress(value=1.0, bar_style='info', layout=Layout(width='20px'),…"
      ]
     },
     "metadata": {},
     "output_type": "display_data"
    },
    {
     "name": "stdout",
     "output_type": "stream",
     "text": [
      "\n"
     ]
    },
    {
     "data": {
      "application/vnd.jupyter.widget-view+json": {
       "model_id": "973ad58ccb04425d900bfa1158ad545c",
       "version_major": 2,
       "version_minor": 0
      },
      "text/plain": [
       "HBox(children=(HTML(value='Validating'), FloatProgress(value=1.0, bar_style='info', layout=Layout(width='20px'…"
      ]
     },
     "metadata": {},
     "output_type": "display_data"
    },
    {
     "name": "stdout",
     "output_type": "stream",
     "text": [
      "\n"
     ]
    },
    {
     "data": {
      "application/vnd.jupyter.widget-view+json": {
       "model_id": "3fc1dba884c44f9184775090d942faa3",
       "version_major": 2,
       "version_minor": 0
      },
      "text/plain": [
       "HBox(children=(HTML(value='Training'), FloatProgress(value=1.0, bar_style='info', layout=Layout(width='20px'),…"
      ]
     },
     "metadata": {},
     "output_type": "display_data"
    },
    {
     "name": "stdout",
     "output_type": "stream",
     "text": [
      "\n"
     ]
    },
    {
     "data": {
      "application/vnd.jupyter.widget-view+json": {
       "model_id": "7df64d00345641e583bd9993cea6864b",
       "version_major": 2,
       "version_minor": 0
      },
      "text/plain": [
       "HBox(children=(HTML(value='Validating'), FloatProgress(value=1.0, bar_style='info', layout=Layout(width='20px'…"
      ]
     },
     "metadata": {},
     "output_type": "display_data"
    },
    {
     "name": "stdout",
     "output_type": "stream",
     "text": [
      "\n"
     ]
    },
    {
     "data": {
      "application/vnd.jupyter.widget-view+json": {
       "model_id": "9527018890084c459062b3473e95818b",
       "version_major": 2,
       "version_minor": 0
      },
      "text/plain": [
       "HBox(children=(HTML(value='Training'), FloatProgress(value=1.0, bar_style='info', layout=Layout(width='20px'),…"
      ]
     },
     "metadata": {},
     "output_type": "display_data"
    },
    {
     "name": "stdout",
     "output_type": "stream",
     "text": [
      "\n"
     ]
    },
    {
     "data": {
      "application/vnd.jupyter.widget-view+json": {
       "model_id": "7a155fadb0e34e589d64503f088540b5",
       "version_major": 2,
       "version_minor": 0
      },
      "text/plain": [
       "HBox(children=(HTML(value='Validating'), FloatProgress(value=1.0, bar_style='info', layout=Layout(width='20px'…"
      ]
     },
     "metadata": {},
     "output_type": "display_data"
    },
    {
     "name": "stdout",
     "output_type": "stream",
     "text": [
      "\n"
     ]
    },
    {
     "data": {
      "application/vnd.jupyter.widget-view+json": {
       "model_id": "c5847ab37df94598a3d68cf9cafd8672",
       "version_major": 2,
       "version_minor": 0
      },
      "text/plain": [
       "HBox(children=(HTML(value='Training'), FloatProgress(value=1.0, bar_style='info', layout=Layout(width='20px'),…"
      ]
     },
     "metadata": {},
     "output_type": "display_data"
    },
    {
     "name": "stdout",
     "output_type": "stream",
     "text": [
      "\n"
     ]
    },
    {
     "data": {
      "application/vnd.jupyter.widget-view+json": {
       "model_id": "f858253e3121485fbd4487d5dc2081a0",
       "version_major": 2,
       "version_minor": 0
      },
      "text/plain": [
       "HBox(children=(HTML(value='Validating'), FloatProgress(value=1.0, bar_style='info', layout=Layout(width='20px'…"
      ]
     },
     "metadata": {},
     "output_type": "display_data"
    },
    {
     "name": "stdout",
     "output_type": "stream",
     "text": [
      "\n"
     ]
    },
    {
     "data": {
      "application/vnd.jupyter.widget-view+json": {
       "model_id": "f5999a56ca764aa19cc8ba4822a9bf74",
       "version_major": 2,
       "version_minor": 0
      },
      "text/plain": [
       "HBox(children=(HTML(value='Training'), FloatProgress(value=1.0, bar_style='info', layout=Layout(width='20px'),…"
      ]
     },
     "metadata": {},
     "output_type": "display_data"
    },
    {
     "name": "stdout",
     "output_type": "stream",
     "text": [
      "\n"
     ]
    },
    {
     "data": {
      "application/vnd.jupyter.widget-view+json": {
       "model_id": "88fb5b7d6207453095ceed7b26d96174",
       "version_major": 2,
       "version_minor": 0
      },
      "text/plain": [
       "HBox(children=(HTML(value='Validating'), FloatProgress(value=1.0, bar_style='info', layout=Layout(width='20px'…"
      ]
     },
     "metadata": {},
     "output_type": "display_data"
    },
    {
     "name": "stdout",
     "output_type": "stream",
     "text": [
      "\n"
     ]
    },
    {
     "data": {
      "application/vnd.jupyter.widget-view+json": {
       "model_id": "1b209e062a244828bb32773204139876",
       "version_major": 2,
       "version_minor": 0
      },
      "text/plain": [
       "HBox(children=(HTML(value='Training'), FloatProgress(value=1.0, bar_style='info', layout=Layout(width='20px'),…"
      ]
     },
     "metadata": {},
     "output_type": "display_data"
    },
    {
     "name": "stdout",
     "output_type": "stream",
     "text": [
      "\n"
     ]
    },
    {
     "data": {
      "application/vnd.jupyter.widget-view+json": {
       "model_id": "89ce30d27ea940439d04360d575e1b21",
       "version_major": 2,
       "version_minor": 0
      },
      "text/plain": [
       "HBox(children=(HTML(value='Validating'), FloatProgress(value=1.0, bar_style='info', layout=Layout(width='20px'…"
      ]
     },
     "metadata": {},
     "output_type": "display_data"
    },
    {
     "name": "stdout",
     "output_type": "stream",
     "text": [
      "\n",
      "\n"
     ]
    },
    {
     "data": {
      "application/vnd.jupyter.widget-view+json": {
       "model_id": "bfe9629626a84f769587313d7f98428a",
       "version_major": 2,
       "version_minor": 0
      },
      "text/plain": [
       "HBox(children=(HTML(value='Validating'), FloatProgress(value=1.0, bar_style='info', layout=Layout(width='20px'…"
      ]
     },
     "metadata": {},
     "output_type": "display_data"
    },
    {
     "name": "stdout",
     "output_type": "stream",
     "text": [
      "\n",
      "Test loss: 0.277 | Test accuracy: 91.85% | Test F1: 84.36%\n"
     ]
    }
   ],
   "source": [
    "bilstmx2_fc_model_history = actual_train_val_test(bilstmx2_fc_model, \"bilstmx2_fc_model\",)"
   ]
  },
  {
   "cell_type": "code",
   "execution_count": 326,
   "metadata": {
    "execution": {
     "iopub.execute_input": "2020-11-20T09:18:41.797960Z",
     "iopub.status.busy": "2020-11-20T09:18:41.797477Z",
     "iopub.status.idle": "2020-11-20T09:18:43.506880Z",
     "shell.execute_reply": "2020-11-20T09:18:43.505605Z",
     "shell.execute_reply.started": "2020-11-20T09:18:41.797912Z"
    }
   },
   "outputs": [
    {
     "data": {
      "image/png": "[encoded data removed]",
      "text/plain": [
       "<Figure size 800x600 with 6 Axes>"
      ]
     },
     "metadata": {},
     "output_type": "display_data"
    }
   ],
   "source": [
    "plot_history(bilstmx2_fc_model_history, nrows=2, ncols=3)"
   ]
  },
  {
   "cell_type": "markdown",
   "metadata": {},
   "source": [
    "## BiLSTM + FC + CRF"
   ]
  },
  {
   "cell_type": "code",
   "execution_count": 344,
   "metadata": {
    "execution": {
     "iopub.execute_input": "2020-11-20T09:43:56.917914Z",
     "iopub.status.busy": "2020-11-20T09:43:56.917421Z",
     "iopub.status.idle": "2020-11-20T09:43:56.988022Z",
     "shell.execute_reply": "2020-11-20T09:43:56.986898Z",
     "shell.execute_reply.started": "2020-11-20T09:43:56.917866Z"
    }
   },
   "outputs": [],
   "source": [
    "bilstm_fc_crf_model = POSTaggingModel(\n",
    "    EMBEDDING_DIMENSION,\n",
    "    HIDDEN_DIMENSION,\n",
    "    len(tags_vocabulary.string),\n",
    "    gru=False,\n",
    "    num_layers=1,\n",
    "    bidirectional=True,\n",
    "    dropout_rate=0.0,\n",
    "    lr=LEARNING_RATE,\n",
    "    padding_index=tags_vocabulary.from_string[PADDING_TOKEN],\n",
    "    crf=True,\n",
    ")"
   ]
  },
  {
   "cell_type": "code",
   "execution_count": 345,
   "metadata": {
    "execution": {
     "iopub.execute_input": "2020-11-20T09:43:58.415477Z",
     "iopub.status.busy": "2020-11-20T09:43:58.415161Z",
     "iopub.status.idle": "2020-11-20T09:43:58.473066Z",
     "shell.execute_reply": "2020-11-20T09:43:58.471983Z",
     "shell.execute_reply.started": "2020-11-20T09:43:58.415436Z"
    }
   },
   "outputs": [
    {
     "name": "stdout",
     "output_type": "stream",
     "text": [
      "The model has 454,350 trainable parameters\n"
     ]
    }
   ],
   "source": [
    "print(f\"The model has {bilstm_fc_crf_model.count_parameters():,} trainable parameters\")"
   ]
  },
  {
   "cell_type": "code",
   "execution_count": 346,
   "metadata": {
    "execution": {
     "iopub.execute_input": "2020-11-20T09:43:58.475703Z",
     "iopub.status.busy": "2020-11-20T09:43:58.475188Z",
     "iopub.status.idle": "2020-11-20T09:43:58.545507Z",
     "shell.execute_reply": "2020-11-20T09:43:58.544369Z",
     "shell.execute_reply.started": "2020-11-20T09:43:58.475662Z"
    }
   },
   "outputs": [],
   "source": [
    "bilstm_fc_crf_model.init_weights()"
   ]
  },
  {
   "cell_type": "code",
   "execution_count": 347,
   "metadata": {
    "execution": {
     "iopub.execute_input": "2020-11-20T09:43:58.547360Z",
     "iopub.status.busy": "2020-11-20T09:43:58.547058Z",
     "iopub.status.idle": "2020-11-20T09:57:55.066626Z",
     "shell.execute_reply": "2020-11-20T09:57:55.065318Z",
     "shell.execute_reply.started": "2020-11-20T09:43:58.547322Z"
    }
   },
   "outputs": [
    {
     "data": {
      "application/vnd.jupyter.widget-view+json": {
       "model_id": "6295973afd06439486222affc0d8eccb",
       "version_major": 2,
       "version_minor": 0
      },
      "text/plain": [
       "HBox(children=(HTML(value='Epoch'), FloatProgress(value=0.0, max=15.0), HTML(value='')))"
      ]
     },
     "metadata": {},
     "output_type": "display_data"
    },
    {
     "data": {
      "application/vnd.jupyter.widget-view+json": {
       "model_id": "a884a46791bd4df299e6837873ad6fc3",
       "version_major": 2,
       "version_minor": 0
      },
      "text/plain": [
       "HBox(children=(HTML(value='Training'), FloatProgress(value=1.0, bar_style='info', layout=Layout(width='20px'),…"
      ]
     },
     "metadata": {},
     "output_type": "display_data"
    },
    {
     "name": "stdout",
     "output_type": "stream",
     "text": [
      "\n"
     ]
    },
    {
     "data": {
      "application/vnd.jupyter.widget-view+json": {
       "model_id": "7ea4a54cc61b4d0ba04ab0c18695e2a2",
       "version_major": 2,
       "version_minor": 0
      },
      "text/plain": [
       "HBox(children=(HTML(value='Validating'), FloatProgress(value=1.0, bar_style='info', layout=Layout(width='20px'…"
      ]
     },
     "metadata": {},
     "output_type": "display_data"
    },
    {
     "name": "stdout",
     "output_type": "stream",
     "text": [
      "\n"
     ]
    },
    {
     "data": {
      "application/vnd.jupyter.widget-view+json": {
       "model_id": "bf8eee4935f94a3ba677ccbdeafd0ac7",
       "version_major": 2,
       "version_minor": 0
      },
      "text/plain": [
       "HBox(children=(HTML(value='Training'), FloatProgress(value=1.0, bar_style='info', layout=Layout(width='20px'),…"
      ]
     },
     "metadata": {},
     "output_type": "display_data"
    },
    {
     "name": "stdout",
     "output_type": "stream",
     "text": [
      "\n"
     ]
    },
    {
     "data": {
      "application/vnd.jupyter.widget-view+json": {
       "model_id": "edce28dae3c94f5883b1afd9ad7f5bd2",
       "version_major": 2,
       "version_minor": 0
      },
      "text/plain": [
       "HBox(children=(HTML(value='Validating'), FloatProgress(value=1.0, bar_style='info', layout=Layout(width='20px'…"
      ]
     },
     "metadata": {},
     "output_type": "display_data"
    },
    {
     "name": "stdout",
     "output_type": "stream",
     "text": [
      "\n"
     ]
    },
    {
     "data": {
      "application/vnd.jupyter.widget-view+json": {
       "model_id": "094177b1a7f2401595108b050b7a5fdc",
       "version_major": 2,
       "version_minor": 0
      },
      "text/plain": [
       "HBox(children=(HTML(value='Training'), FloatProgress(value=1.0, bar_style='info', layout=Layout(width='20px'),…"
      ]
     },
     "metadata": {},
     "output_type": "display_data"
    },
    {
     "name": "stdout",
     "output_type": "stream",
     "text": [
      "\n"
     ]
    },
    {
     "data": {
      "application/vnd.jupyter.widget-view+json": {
       "model_id": "07bf417bf2bc4f0d9e2e390149c75206",
       "version_major": 2,
       "version_minor": 0
      },
      "text/plain": [
       "HBox(children=(HTML(value='Validating'), FloatProgress(value=1.0, bar_style='info', layout=Layout(width='20px'…"
      ]
     },
     "metadata": {},
     "output_type": "display_data"
    },
    {
     "name": "stdout",
     "output_type": "stream",
     "text": [
      "\n"
     ]
    },
    {
     "data": {
      "application/vnd.jupyter.widget-view+json": {
       "model_id": "93f566897df1427fbd689451b655b456",
       "version_major": 2,
       "version_minor": 0
      },
      "text/plain": [
       "HBox(children=(HTML(value='Training'), FloatProgress(value=1.0, bar_style='info', layout=Layout(width='20px'),…"
      ]
     },
     "metadata": {},
     "output_type": "display_data"
    },
    {
     "name": "stdout",
     "output_type": "stream",
     "text": [
      "\n"
     ]
    },
    {
     "data": {
      "application/vnd.jupyter.widget-view+json": {
       "model_id": "9f5c4acc0c1e4653962caed1f82af9c6",
       "version_major": 2,
       "version_minor": 0
      },
      "text/plain": [
       "HBox(children=(HTML(value='Validating'), FloatProgress(value=1.0, bar_style='info', layout=Layout(width='20px'…"
      ]
     },
     "metadata": {},
     "output_type": "display_data"
    },
    {
     "name": "stdout",
     "output_type": "stream",
     "text": [
      "\n"
     ]
    },
    {
     "data": {
      "application/vnd.jupyter.widget-view+json": {
       "model_id": "effc907f0f864d62b17a361981336942",
       "version_major": 2,
       "version_minor": 0
      },
      "text/plain": [
       "HBox(children=(HTML(value='Training'), FloatProgress(value=1.0, bar_style='info', layout=Layout(width='20px'),…"
      ]
     },
     "metadata": {},
     "output_type": "display_data"
    },
    {
     "name": "stdout",
     "output_type": "stream",
     "text": [
      "\n"
     ]
    },
    {
     "data": {
      "application/vnd.jupyter.widget-view+json": {
       "model_id": "ff9c41c4449844c1979c106c4d499bb8",
       "version_major": 2,
       "version_minor": 0
      },
      "text/plain": [
       "HBox(children=(HTML(value='Validating'), FloatProgress(value=1.0, bar_style='info', layout=Layout(width='20px'…"
      ]
     },
     "metadata": {},
     "output_type": "display_data"
    },
    {
     "name": "stdout",
     "output_type": "stream",
     "text": [
      "\n"
     ]
    },
    {
     "data": {
      "application/vnd.jupyter.widget-view+json": {
       "model_id": "7c1fc5214ca44a0495156dbd463c6b27",
       "version_major": 2,
       "version_minor": 0
      },
      "text/plain": [
       "HBox(children=(HTML(value='Training'), FloatProgress(value=1.0, bar_style='info', layout=Layout(width='20px'),…"
      ]
     },
     "metadata": {},
     "output_type": "display_data"
    },
    {
     "name": "stdout",
     "output_type": "stream",
     "text": [
      "\n"
     ]
    },
    {
     "data": {
      "application/vnd.jupyter.widget-view+json": {
       "model_id": "02715e678f474084b942bc23ccd0eade",
       "version_major": 2,
       "version_minor": 0
      },
      "text/plain": [
       "HBox(children=(HTML(value='Validating'), FloatProgress(value=1.0, bar_style='info', layout=Layout(width='20px'…"
      ]
     },
     "metadata": {},
     "output_type": "display_data"
    },
    {
     "name": "stdout",
     "output_type": "stream",
     "text": [
      "\n"
     ]
    },
    {
     "data": {
      "application/vnd.jupyter.widget-view+json": {
       "model_id": "725d9cf3167d4899aa5567939de0d114",
       "version_major": 2,
       "version_minor": 0
      },
      "text/plain": [
       "HBox(children=(HTML(value='Training'), FloatProgress(value=1.0, bar_style='info', layout=Layout(width='20px'),…"
      ]
     },
     "metadata": {},
     "output_type": "display_data"
    },
    {
     "name": "stdout",
     "output_type": "stream",
     "text": [
      "\n"
     ]
    },
    {
     "data": {
      "application/vnd.jupyter.widget-view+json": {
       "model_id": "8447b0ffaaa04c24ba5cfa3013299550",
       "version_major": 2,
       "version_minor": 0
      },
      "text/plain": [
       "HBox(children=(HTML(value='Validating'), FloatProgress(value=1.0, bar_style='info', layout=Layout(width='20px'…"
      ]
     },
     "metadata": {},
     "output_type": "display_data"
    },
    {
     "name": "stdout",
     "output_type": "stream",
     "text": [
      "\n"
     ]
    },
    {
     "data": {
      "application/vnd.jupyter.widget-view+json": {
       "model_id": "6392a55304f940af8c364c60726c2e03",
       "version_major": 2,
       "version_minor": 0
      },
      "text/plain": [
       "HBox(children=(HTML(value='Training'), FloatProgress(value=1.0, bar_style='info', layout=Layout(width='20px'),…"
      ]
     },
     "metadata": {},
     "output_type": "display_data"
    },
    {
     "name": "stdout",
     "output_type": "stream",
     "text": [
      "\n"
     ]
    },
    {
     "data": {
      "application/vnd.jupyter.widget-view+json": {
       "model_id": "1e8f25e26ea345e2ba8d83419df301c1",
       "version_major": 2,
       "version_minor": 0
      },
      "text/plain": [
       "HBox(children=(HTML(value='Validating'), FloatProgress(value=1.0, bar_style='info', layout=Layout(width='20px'…"
      ]
     },
     "metadata": {},
     "output_type": "display_data"
    },
    {
     "name": "stdout",
     "output_type": "stream",
     "text": [
      "\n"
     ]
    },
    {
     "data": {
      "application/vnd.jupyter.widget-view+json": {
       "model_id": "e5b0b4aaba9745c19481ec41b2456dc5",
       "version_major": 2,
       "version_minor": 0
      },
      "text/plain": [
       "HBox(children=(HTML(value='Training'), FloatProgress(value=1.0, bar_style='info', layout=Layout(width='20px'),…"
      ]
     },
     "metadata": {},
     "output_type": "display_data"
    },
    {
     "name": "stdout",
     "output_type": "stream",
     "text": [
      "\n"
     ]
    },
    {
     "data": {
      "application/vnd.jupyter.widget-view+json": {
       "model_id": "b132c63c9cd9403c955554fd6abeb3a0",
       "version_major": 2,
       "version_minor": 0
      },
      "text/plain": [
       "HBox(children=(HTML(value='Validating'), FloatProgress(value=1.0, bar_style='info', layout=Layout(width='20px'…"
      ]
     },
     "metadata": {},
     "output_type": "display_data"
    },
    {
     "name": "stdout",
     "output_type": "stream",
     "text": [
      "\n"
     ]
    },
    {
     "data": {
      "application/vnd.jupyter.widget-view+json": {
       "model_id": "168717de25264cfe862a47324b9339c4",
       "version_major": 2,
       "version_minor": 0
      },
      "text/plain": [
       "HBox(children=(HTML(value='Training'), FloatProgress(value=1.0, bar_style='info', layout=Layout(width='20px'),…"
      ]
     },
     "metadata": {},
     "output_type": "display_data"
    },
    {
     "name": "stdout",
     "output_type": "stream",
     "text": [
      "\n"
     ]
    },
    {
     "data": {
      "application/vnd.jupyter.widget-view+json": {
       "model_id": "a8d08b5f58bc4f09969465d96cfd3277",
       "version_major": 2,
       "version_minor": 0
      },
      "text/plain": [
       "HBox(children=(HTML(value='Validating'), FloatProgress(value=1.0, bar_style='info', layout=Layout(width='20px'…"
      ]
     },
     "metadata": {},
     "output_type": "display_data"
    },
    {
     "name": "stdout",
     "output_type": "stream",
     "text": [
      "\n"
     ]
    },
    {
     "data": {
      "application/vnd.jupyter.widget-view+json": {
       "model_id": "dcf08b7cfc00440285d2ef4c8e639b80",
       "version_major": 2,
       "version_minor": 0
      },
      "text/plain": [
       "HBox(children=(HTML(value='Training'), FloatProgress(value=1.0, bar_style='info', layout=Layout(width='20px'),…"
      ]
     },
     "metadata": {},
     "output_type": "display_data"
    },
    {
     "name": "stdout",
     "output_type": "stream",
     "text": [
      "\n"
     ]
    },
    {
     "data": {
      "application/vnd.jupyter.widget-view+json": {
       "model_id": "337ca630a7344c2da5257bc62884e408",
       "version_major": 2,
       "version_minor": 0
      },
      "text/plain": [
       "HBox(children=(HTML(value='Validating'), FloatProgress(value=1.0, bar_style='info', layout=Layout(width='20px'…"
      ]
     },
     "metadata": {},
     "output_type": "display_data"
    },
    {
     "name": "stdout",
     "output_type": "stream",
     "text": [
      "\n"
     ]
    },
    {
     "data": {
      "application/vnd.jupyter.widget-view+json": {
       "model_id": "557c1b6488264a5981c807a0c29ee4dc",
       "version_major": 2,
       "version_minor": 0
      },
      "text/plain": [
       "HBox(children=(HTML(value='Training'), FloatProgress(value=1.0, bar_style='info', layout=Layout(width='20px'),…"
      ]
     },
     "metadata": {},
     "output_type": "display_data"
    },
    {
     "name": "stdout",
     "output_type": "stream",
     "text": [
      "\n"
     ]
    },
    {
     "data": {
      "application/vnd.jupyter.widget-view+json": {
       "model_id": "578c3cfba2264ad3931c041a8e08382f",
       "version_major": 2,
       "version_minor": 0
      },
      "text/plain": [
       "HBox(children=(HTML(value='Validating'), FloatProgress(value=1.0, bar_style='info', layout=Layout(width='20px'…"
      ]
     },
     "metadata": {},
     "output_type": "display_data"
    },
    {
     "name": "stdout",
     "output_type": "stream",
     "text": [
      "\n"
     ]
    },
    {
     "data": {
      "application/vnd.jupyter.widget-view+json": {
       "model_id": "bb982cea6e3b4e7997dfbbb92a323450",
       "version_major": 2,
       "version_minor": 0
      },
      "text/plain": [
       "HBox(children=(HTML(value='Training'), FloatProgress(value=1.0, bar_style='info', layout=Layout(width='20px'),…"
      ]
     },
     "metadata": {},
     "output_type": "display_data"
    },
    {
     "name": "stdout",
     "output_type": "stream",
     "text": [
      "\n"
     ]
    },
    {
     "data": {
      "application/vnd.jupyter.widget-view+json": {
       "model_id": "f242f3d78aa346d180a9a134becd503f",
       "version_major": 2,
       "version_minor": 0
      },
      "text/plain": [
       "HBox(children=(HTML(value='Validating'), FloatProgress(value=1.0, bar_style='info', layout=Layout(width='20px'…"
      ]
     },
     "metadata": {},
     "output_type": "display_data"
    },
    {
     "name": "stdout",
     "output_type": "stream",
     "text": [
      "\n"
     ]
    },
    {
     "data": {
      "application/vnd.jupyter.widget-view+json": {
       "model_id": "e14221711b0e4af1b41d92bb926d152f",
       "version_major": 2,
       "version_minor": 0
      },
      "text/plain": [
       "HBox(children=(HTML(value='Training'), FloatProgress(value=1.0, bar_style='info', layout=Layout(width='20px'),…"
      ]
     },
     "metadata": {},
     "output_type": "display_data"
    },
    {
     "name": "stdout",
     "output_type": "stream",
     "text": [
      "\n"
     ]
    },
    {
     "data": {
      "application/vnd.jupyter.widget-view+json": {
       "model_id": "b31b6a1734ec468ca5f064381aa10cbb",
       "version_major": 2,
       "version_minor": 0
      },
      "text/plain": [
       "HBox(children=(HTML(value='Validating'), FloatProgress(value=1.0, bar_style='info', layout=Layout(width='20px'…"
      ]
     },
     "metadata": {},
     "output_type": "display_data"
    },
    {
     "name": "stdout",
     "output_type": "stream",
     "text": [
      "\n"
     ]
    },
    {
     "data": {
      "application/vnd.jupyter.widget-view+json": {
       "model_id": "a46c504fdce14078a7bd9e852400d8af",
       "version_major": 2,
       "version_minor": 0
      },
      "text/plain": [
       "HBox(children=(HTML(value='Training'), FloatProgress(value=1.0, bar_style='info', layout=Layout(width='20px'),…"
      ]
     },
     "metadata": {},
     "output_type": "display_data"
    },
    {
     "name": "stdout",
     "output_type": "stream",
     "text": [
      "\n"
     ]
    },
    {
     "data": {
      "application/vnd.jupyter.widget-view+json": {
       "model_id": "cf78b9ac7a60433f98b85b60f0a69885",
       "version_major": 2,
       "version_minor": 0
      },
      "text/plain": [
       "HBox(children=(HTML(value='Validating'), FloatProgress(value=1.0, bar_style='info', layout=Layout(width='20px'…"
      ]
     },
     "metadata": {},
     "output_type": "display_data"
    },
    {
     "name": "stdout",
     "output_type": "stream",
     "text": [
      "\n",
      "\n"
     ]
    },
    {
     "data": {
      "application/vnd.jupyter.widget-view+json": {
       "model_id": "f1177377623c465095dc096f99369e61",
       "version_major": 2,
       "version_minor": 0
      },
      "text/plain": [
       "HBox(children=(HTML(value='Validating'), FloatProgress(value=1.0, bar_style='info', layout=Layout(width='20px'…"
      ]
     },
     "metadata": {},
     "output_type": "display_data"
    },
    {
     "name": "stdout",
     "output_type": "stream",
     "text": [
      "\n",
      "Test loss: 52.987 | Test accuracy: 91.41% | Test F1: 82.92%\n"
     ]
    }
   ],
   "source": [
    "bilstm_fc_crf_model_history = actual_train_val_test(\n",
    "    bilstm_fc_crf_model, \"bilstm_fc_crf_model\",\n",
    ")"
   ]
  },
  {
   "cell_type": "code",
   "execution_count": 348,
   "metadata": {
    "execution": {
     "iopub.execute_input": "2020-11-20T10:04:13.176673Z",
     "iopub.status.busy": "2020-11-20T10:04:13.176204Z",
     "iopub.status.idle": "2020-11-20T10:04:14.821034Z",
     "shell.execute_reply": "2020-11-20T10:04:14.819797Z",
     "shell.execute_reply.started": "2020-11-20T10:04:13.176626Z"
    }
   },
   "outputs": [
    {
     "data": {
      "image/png": "[encoded data removed]",
      "text/plain": [
       "<Figure size 800x600 with 6 Axes>"
      ]
     },
     "metadata": {},
     "output_type": "display_data"
    }
   ],
   "source": [
    "plot_history(bilstm_fc_crf_model_history, nrows=2, ncols=3)"
   ]
  },
  {
   "cell_type": "code",
   "execution_count": null,
   "metadata": {},
   "outputs": [],
   "source": []
  }
 ],
 "metadata": {
  "kernelspec": {
   "display_name": "Python 3",
   "language": "python",
   "name": "python3"
  },
  "language_info": {
   "codemirror_mode": {
    "name": "ipython",
    "version": 3
   },
   "file_extension": ".py",
   "mimetype": "text/x-python",
   "name": "python",
   "nbconvert_exporter": "python",
   "pygments_lexer": "ipython3",
   "version": "3.8.5"
  }
 },
 "nbformat": 4,
 "nbformat_minor": 4
}
