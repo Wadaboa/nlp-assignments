{
 "cells": [
  {
   "cell_type": "markdown",
   "metadata": {},
   "source": [
    "Assignment 3 : Sequence labelling with RNNs\n",
    "In this assignement we will ask you to perform POS tagging.\n",
    "\n",
    "You are asked to follow these steps:\n",
    "\n",
    "- Download the corpora and split it in training and test sets, structuring a dataframe.\n",
    "- Embed the words using GloVe embeddings\n",
    "- Create a baseline model, using a simple neural architecture\n",
    "- Experiment doing small modifications to the model\n",
    "- Evaluate your best model\n",
    "- Analyze the errors of your model\n",
    "- Corpora: Ignore the numeric value in the third column, use only the words/symbols and its label. https://raw.githubusercontent.com/nltk/nltk_data/gh-pages/packages/corpora/dependency_treebank.zip\n",
    "\n",
    "Splits: documents 1-100 are the train set, 101-150 validation set, 151-199 test set.\n",
    "\n",
    "Baseline: two layers architecture: a Bidirectional LSTM and a Dense/Fully-Connected layer on top.\n",
    "\n",
    "Modifications: experiment using a GRU instead of the LSTM, adding an additional LSTM layer, and using a CRF in addition to the LSTM. Each of this change must be done by itself (don't mix these modifications).\n",
    "\n",
    "Training and Experiments: all the experiments must involve only the training and validation sets.\n",
    "\n",
    "Evaluation: in the end, only the best model of your choice must be evaluated on the test set. The main metric must be F1-Macro computed between the various part of speech (without considering punctuation classes).\n",
    "\n",
    "Error Analysis (optional) : analyze the errors done by your model, try to understand which may be the causes and think about how to improve it.\n",
    "\n",
    "Report: You are asked to deliver a small report of about 4-5 lines in the .txt file that sums up your findings."
   ]
  },
  {
   "cell_type": "markdown",
   "metadata": {},
   "source": [
    "https://raw.githubusercontent.com/nltk/nltk_data/gh-pages/packages/corpora/dependency_treebank.zip"
   ]
  },
  {
   "cell_type": "markdown",
   "metadata": {},
   "source": [
    "# Sequence labeling"
   ]
  },
  {
   "cell_type": "code",
   "execution_count": 704,
   "metadata": {
    "execution": {
     "iopub.execute_input": "2020-11-17T16:54:14.946140Z",
     "iopub.status.busy": "2020-11-17T16:54:14.945693Z",
     "iopub.status.idle": "2020-11-17T16:54:15.022367Z",
     "shell.execute_reply": "2020-11-17T16:54:15.021106Z",
     "shell.execute_reply.started": "2020-11-17T16:54:14.946096Z"
    }
   },
   "outputs": [
    {
     "name": "stdout",
     "output_type": "stream",
     "text": [
      "The autoreload extension is already loaded. To reload it, use:\n",
      "  %reload_ext autoreload\n"
     ]
    }
   ],
   "source": [
    "import re\n",
    "import random\n",
    "import time\n",
    "import string\n",
    "from functools import partial\n",
    "\n",
    "import pandas as pd\n",
    "import numpy as np\n",
    "import matplotlib.pyplot as plt\n",
    "import sklearn\n",
    "import nltk\n",
    "import torch\n",
    "import torch.nn as nn\n",
    "import torch.optim as optim\n",
    "from torch.utils.data import Dataset, DataLoader\n",
    "from torch.nn.utils.rnn import pad_sequence, pack_padded_sequence, pad_packed_sequence\n",
    "from torchcrf import CRF\n",
    "from tqdm.notebook import tqdm\n",
    "from nltk.corpus import dependency_treebank\n",
    "\n",
    "import utils\n",
    "\n",
    "%load_ext autoreload\n",
    "%autoreload 2\n",
    "%matplotlib inline"
   ]
  },
  {
   "cell_type": "code",
   "execution_count": 729,
   "metadata": {
    "execution": {
     "iopub.execute_input": "2020-11-17T17:13:19.609126Z",
     "iopub.status.busy": "2020-11-17T17:13:19.608672Z",
     "iopub.status.idle": "2020-11-17T17:13:19.668722Z",
     "shell.execute_reply": "2020-11-17T17:13:19.667562Z",
     "shell.execute_reply.started": "2020-11-17T17:13:19.609082Z"
    }
   },
   "outputs": [],
   "source": [
    "plt.rcParams['figure.figsize'] = [8, 6]\n",
    "plt.rcParams['figure.dpi'] = 100\n",
    "plt.rcParams['axes.xmargin'] = .05\n",
    "plt.rcParams['axes.ymargin'] = .05\n",
    "plt.style.use('ggplot')"
   ]
  },
  {
   "cell_type": "markdown",
   "metadata": {
    "execution": {
     "iopub.execute_input": "2020-11-16T10:57:06.796946Z",
     "iopub.status.busy": "2020-11-16T10:57:06.796528Z",
     "iopub.status.idle": "2020-11-16T10:57:06.854690Z",
     "shell.execute_reply": "2020-11-16T10:57:06.853393Z",
     "shell.execute_reply.started": "2020-11-16T10:57:06.796903Z"
    }
   },
   "source": [
    "## Introduction"
   ]
  },
  {
   "cell_type": "markdown",
   "metadata": {},
   "source": [
    "First of all, let's download the dependency treebank dataset from the NLTK data module$\\dots$"
   ]
  },
  {
   "cell_type": "code",
   "execution_count": 292,
   "metadata": {
    "execution": {
     "iopub.execute_input": "2020-11-16T11:02:02.550200Z",
     "iopub.status.busy": "2020-11-16T11:02:02.549770Z",
     "iopub.status.idle": "2020-11-16T11:02:02.610444Z",
     "shell.execute_reply": "2020-11-16T11:02:02.609181Z",
     "shell.execute_reply.started": "2020-11-16T11:02:02.550156Z"
    }
   },
   "outputs": [
    {
     "name": "stderr",
     "output_type": "stream",
     "text": [
      "[nltk_data] Downloading package dependency_treebank to\n",
      "[nltk_data]     /root/nltk_data...\n",
      "[nltk_data]   Package dependency_treebank is already up-to-date!\n"
     ]
    }
   ],
   "source": [
    "dataset_name = \"dependency_treebank\"\n",
    "\n",
    "try:\n",
    "    nltk.data.find(dataset_name)\n",
    "except LookupError:\n",
    "    nltk.download(dataset_name)"
   ]
  },
  {
   "cell_type": "markdown",
   "metadata": {},
   "source": [
    "Now we may want to fix all the possible sources of randomness, in order to achieve reproducible results."
   ]
  },
  {
   "cell_type": "code",
   "execution_count": 295,
   "metadata": {
    "execution": {
     "iopub.execute_input": "2020-11-16T11:03:01.431274Z",
     "iopub.status.busy": "2020-11-16T11:03:01.430828Z",
     "iopub.status.idle": "2020-11-16T11:03:01.495371Z",
     "shell.execute_reply": "2020-11-16T11:03:01.494179Z",
     "shell.execute_reply.started": "2020-11-16T11:03:01.431231Z"
    }
   },
   "outputs": [],
   "source": [
    "RANDOM_SEED = 42\n",
    "\n",
    "\n",
    "def fix_random(seed):\n",
    "    \"\"\"\n",
    "    Fix all the possible sources of randomness\n",
    "    \"\"\"\n",
    "    np.random.seed(seed)\n",
    "    random.seed(seed)\n",
    "    torch.manual_seed(seed)\n",
    "    torch.cuda.manual_seed(seed)\n",
    "    torch.backends.cudnn.benchmark = False\n",
    "    torch.backends.cudnn.deterministic = True\n",
    "\n",
    "\n",
    "fix_random(RANDOM_SEED)"
   ]
  },
  {
   "cell_type": "markdown",
   "metadata": {},
   "source": [
    "## Data preparation"
   ]
  },
  {
   "cell_type": "markdown",
   "metadata": {},
   "source": [
    "In this code section, each and every file in the dependency treebank dataset will be loaded and corresponding sentences will be splitted with the following reasoning:\n",
    "- Training set range: from file `wsj_0001.dp` to `wsj_0100.dp`\n",
    "- Validation set range: from file `wsj_0101.dp` to `wsj_0150.dp`\n",
    "- Test set range: from file `wsj_0151.dp` to `wsj_0199.dp`"
   ]
  },
  {
   "cell_type": "code",
   "execution_count": 296,
   "metadata": {
    "execution": {
     "iopub.execute_input": "2020-11-16T11:06:05.474543Z",
     "iopub.status.busy": "2020-11-16T11:06:05.474113Z",
     "iopub.status.idle": "2020-11-16T11:06:05.535350Z",
     "shell.execute_reply": "2020-11-16T11:06:05.534303Z",
     "shell.execute_reply.started": "2020-11-16T11:06:05.474499Z"
    }
   },
   "outputs": [],
   "source": [
    "file_prefix = \"wsj_\"\n",
    "file_ext = \".dp\"\n",
    "train_files = [f\"{file_prefix}{i:04d}{file_ext}\" for i in range(1, 101)]\n",
    "val_files = [f\"{file_prefix}{i:04d}{file_ext}\" for i in range(101, 151)]\n",
    "test_files = [f\"{file_prefix}{i:04d}{file_ext}\" for i in range(151, 200)]\n",
    "splits = (\n",
    "    [\"train\"] * len(train_files) + [\"val\"] * len(val_files) + [\"test\"] * len(test_files)\n",
    ")\n",
    "whole_files = train_files + val_files + test_files"
   ]
  },
  {
   "cell_type": "code",
   "execution_count": 297,
   "metadata": {
    "execution": {
     "iopub.execute_input": "2020-11-16T11:06:07.062642Z",
     "iopub.status.busy": "2020-11-16T11:06:07.062324Z",
     "iopub.status.idle": "2020-11-16T11:06:07.121932Z",
     "shell.execute_reply": "2020-11-16T11:06:07.120643Z",
     "shell.execute_reply.started": "2020-11-16T11:06:07.062602Z"
    }
   },
   "outputs": [
    {
     "data": {
      "text/plain": [
       "['wsj_0001.dp',\n",
       " 'wsj_0021.dp',\n",
       " 'wsj_0041.dp',\n",
       " 'wsj_0061.dp',\n",
       " 'wsj_0081.dp',\n",
       " 'wsj_0101.dp',\n",
       " 'wsj_0121.dp',\n",
       " 'wsj_0141.dp',\n",
       " 'wsj_0161.dp',\n",
       " 'wsj_0181.dp']"
      ]
     },
     "execution_count": 297,
     "metadata": {},
     "output_type": "execute_result"
    }
   ],
   "source": [
    "whole_files[0:-1:20]"
   ]
  },
  {
   "cell_type": "markdown",
   "metadata": {},
   "source": [
    "Let's check how are sentences encoded in each file$\\dots$ It seems that they follow the pattern `token \\t tag \\t number \\n`, where `\\t` is the tab symbol and `\\n` the newline one. \n",
    "\n",
    "Since we are only interested in tokens and tags, we can simply discard the last number encountered in the triples in each line of a sentence."
   ]
  },
  {
   "cell_type": "code",
   "execution_count": 298,
   "metadata": {
    "execution": {
     "iopub.execute_input": "2020-11-16T11:06:19.021859Z",
     "iopub.status.busy": "2020-11-16T11:06:19.021444Z",
     "iopub.status.idle": "2020-11-16T11:06:19.082956Z",
     "shell.execute_reply": "2020-11-16T11:06:19.081825Z",
     "shell.execute_reply.started": "2020-11-16T11:06:19.021816Z"
    }
   },
   "outputs": [
    {
     "data": {
      "text/plain": [
       "'Pierre\\tNNP\\t2\\nVinken\\tNNP\\t8\\n,\\t,\\t2\\n61\\tCD\\t5\\nyears\\tNNS\\t6\\nold\\tJJ\\t2\\n,\\t,\\t2\\nwill\\tMD\\t0\\njoin\\tVB\\t8\\nthe\\tDT\\t11\\nboard\\tNN\\t9\\nas\\tIN\\t9\\na\\tDT\\t15\\nnonexecutive\\tJJ\\t15\\ndirector\\tNN\\t12\\nNov.\\tNNP\\t9\\n29\\tCD\\t16\\n.\\t.\\t8\\n\\nMr.\\tNNP\\t2\\nVinken\\tNNP\\t3\\nis\\tVBZ\\t0\\nchairman\\tNN\\t3\\nof\\tIN\\t4\\nElsevier\\tNNP\\t7\\nN.V.\\tNNP\\t12\\n,\\t,\\t12\\nthe\\tDT\\t12\\nDutch\\tNNP\\t12\\npublishing\\tVBG\\t12\\ngroup\\tNN\\t5\\n.\\t.\\t3\\n'"
      ]
     },
     "execution_count": 298,
     "metadata": {},
     "output_type": "execute_result"
    }
   ],
   "source": [
    "dependency_treebank.raw(fileids=whole_files[0])"
   ]
  },
  {
   "cell_type": "code",
   "execution_count": 299,
   "metadata": {
    "execution": {
     "iopub.execute_input": "2020-11-16T11:09:22.431826Z",
     "iopub.status.busy": "2020-11-16T11:09:22.431312Z",
     "iopub.status.idle": "2020-11-16T11:09:22.495822Z",
     "shell.execute_reply": "2020-11-16T11:09:22.494594Z",
     "shell.execute_reply.started": "2020-11-16T11:09:22.431772Z"
    }
   },
   "outputs": [],
   "source": [
    "def parse_file(fileid, preprocessor=None):\n",
    "    \"\"\"\n",
    "    Parse the given file identifier from the dependency treebank corpus\n",
    "    and return a tuple (`tokens`, `tags`), where `tokens` is the list\n",
    "    of tokens retrieved in the document and `tags` is the associated\n",
    "    list of tags (`tokens` and `tags` have the same lenght)\n",
    "    \n",
    "    If you wish to preprocess tokens, you can pass a function to the\n",
    "    `preprocessor` argument, which should take as input only the token\n",
    "    to transform\n",
    "    \"\"\"\n",
    "    file_str = dependency_treebank.raw(fileids=fileid)\n",
    "    splitted_file_str = [\n",
    "        x for x in re.split(\"\\t|\\n\", file_str.strip()) if x.strip() != \"\"\n",
    "    ]\n",
    "    if preprocessor is None:\n",
    "        preprocessor = lambda t: t\n",
    "    tokens, tags = [], []\n",
    "    for i in range(0, len(splitted_file_str), 3):\n",
    "        token = preprocessor(splitted_file_str[i])\n",
    "        tag = splitted_file_str[i + 1]\n",
    "        tokens.append(token)\n",
    "        tags.append(tag)\n",
    "    return tokens, tags\n",
    "\n",
    "\n",
    "def parse_files(fileids, preprocessor=None):\n",
    "    \"\"\"\n",
    "    Parse a set of file identifiers from the dependency treebank corpus\n",
    "    and return two lists, one which contains lists of tokens and one \n",
    "    containing lists of corresponding tags for each file identifier\n",
    "    \"\"\"\n",
    "    tokens_list, tags_list = [], []\n",
    "    for fileid in fileids:\n",
    "        tokens, tags = parse_file(fileid, preprocessor=preprocessor)\n",
    "        tokens_list.append(tokens)\n",
    "        tags_list.append(tags)\n",
    "    return tokens_list, tags_list"
   ]
  },
  {
   "cell_type": "code",
   "execution_count": 300,
   "metadata": {
    "execution": {
     "iopub.execute_input": "2020-11-16T11:09:27.714112Z",
     "iopub.status.busy": "2020-11-16T11:09:27.713713Z",
     "iopub.status.idle": "2020-11-16T11:09:27.778494Z",
     "shell.execute_reply": "2020-11-16T11:09:27.771358Z",
     "shell.execute_reply.started": "2020-11-16T11:09:27.714069Z"
    }
   },
   "outputs": [],
   "source": [
    "def preprocess_token(token):\n",
    "    \"\"\"\n",
    "    Peform small modifications to the given token:\n",
    "        - Transform to lowercase\n",
    "        - Encode numbers as \"<num>\"\n",
    "    \"\"\"\n",
    "    token = token.lower()\n",
    "    token = \"<num>\" if re.match(utils.FLOAT_RE, token) else token\n",
    "    return token"
   ]
  },
  {
   "cell_type": "code",
   "execution_count": 301,
   "metadata": {
    "execution": {
     "iopub.execute_input": "2020-11-16T11:09:37.023270Z",
     "iopub.status.busy": "2020-11-16T11:09:37.022861Z",
     "iopub.status.idle": "2020-11-16T11:09:37.626820Z",
     "shell.execute_reply": "2020-11-16T11:09:37.625473Z",
     "shell.execute_reply.started": "2020-11-16T11:09:37.023228Z"
    }
   },
   "outputs": [],
   "source": [
    "whole_tokens, whole_tags = parse_files(whole_files, preprocessor=preprocess_token)"
   ]
  },
  {
   "cell_type": "markdown",
   "metadata": {},
   "source": [
    "## Data exploration"
   ]
  },
  {
   "cell_type": "markdown",
   "metadata": {},
   "source": [
    "After extracting the tags and tokens for each sentence of the whole dataset, we may want to observe what their distributions look like (e.g. check the most frequent tags)."
   ]
  },
  {
   "cell_type": "code",
   "execution_count": 141,
   "metadata": {
    "execution": {
     "iopub.execute_input": "2020-11-12T17:34:14.291167Z",
     "iopub.status.busy": "2020-11-12T17:34:14.290875Z",
     "iopub.status.idle": "2020-11-12T17:34:14.368225Z",
     "shell.execute_reply": "2020-11-12T17:34:14.366821Z",
     "shell.execute_reply.started": "2020-11-12T17:34:14.291130Z"
    }
   },
   "outputs": [],
   "source": [
    "def flatten(a):\n",
    "    \"\"\"\n",
    "    Given a 2D list, returns its flattened version\n",
    "    \"\"\"\n",
    "    return [i for s in a for i in s]\n",
    "\n",
    "\n",
    "flattened_tags = flatten(whole_tags)\n",
    "flattened_tokens = flatten(whole_tokens)"
   ]
  },
  {
   "cell_type": "markdown",
   "metadata": {},
   "source": [
    "How many unique tags do we have to deal with?"
   ]
  },
  {
   "cell_type": "code",
   "execution_count": 303,
   "metadata": {
    "execution": {
     "iopub.execute_input": "2020-11-16T11:11:57.430856Z",
     "iopub.status.busy": "2020-11-16T11:11:57.430451Z",
     "iopub.status.idle": "2020-11-16T11:11:57.524113Z",
     "shell.execute_reply": "2020-11-16T11:11:57.522834Z",
     "shell.execute_reply.started": "2020-11-16T11:11:57.430814Z"
    }
   },
   "outputs": [
    {
     "name": "stdout",
     "output_type": "stream",
     "text": [
      "There are 45 unique tags in the dataset\n"
     ]
    }
   ],
   "source": [
    "unique_tags = np.unique(flattened_tags)\n",
    "print(f\"There are {len(unique_tags)} unique tags in the dataset\")"
   ]
  },
  {
   "cell_type": "markdown",
   "metadata": {},
   "source": [
    "What are the 10 most frequent tags?"
   ]
  },
  {
   "cell_type": "code",
   "execution_count": 143,
   "metadata": {
    "execution": {
     "iopub.execute_input": "2020-11-12T17:34:15.897727Z",
     "iopub.status.busy": "2020-11-12T17:34:15.897427Z",
     "iopub.status.idle": "2020-11-12T17:34:16.077684Z",
     "shell.execute_reply": "2020-11-12T17:34:16.076675Z",
     "shell.execute_reply.started": "2020-11-12T17:34:15.897690Z"
    }
   },
   "outputs": [
    {
     "data": {
      "text/plain": [
       "[('NN', 13166),\n",
       " ('IN', 9857),\n",
       " ('NNP', 9410),\n",
       " ('DT', 8165),\n",
       " ('NNS', 6047),\n",
       " ('JJ', 5834),\n",
       " (',', 4886),\n",
       " ('.', 3874),\n",
       " ('CD', 3546),\n",
       " ('VBD', 3043)]"
      ]
     },
     "execution_count": 143,
     "metadata": {},
     "output_type": "execute_result"
    }
   ],
   "source": [
    "tags_fd = nltk.probability.FreqDist(flattened_tags)\n",
    "tags_fd.most_common(10)"
   ]
  },
  {
   "cell_type": "markdown",
   "metadata": {},
   "source": [
    "What is the distribution of the whole set of tags?"
   ]
  },
  {
   "cell_type": "code",
   "execution_count": 701,
   "metadata": {
    "execution": {
     "iopub.execute_input": "2020-11-17T16:48:11.637982Z",
     "iopub.status.busy": "2020-11-17T16:48:11.637596Z",
     "iopub.status.idle": "2020-11-17T16:48:12.617765Z",
     "shell.execute_reply": "2020-11-17T16:48:12.616598Z",
     "shell.execute_reply.started": "2020-11-17T16:48:11.637941Z"
    }
   },
   "outputs": [
    {
     "data": {
      "image/png": "[encoded data removed]",
      "text/plain": [
       "<Figure size 800x600 with 1 Axes>"
      ]
     },
     "metadata": {},
     "output_type": "display_data"
    }
   ],
   "source": [
    "tags_fd.plot(title=\"Tags distribution\", cumulative=False)\n",
    "plt.show()"
   ]
  },
  {
   "cell_type": "markdown",
   "metadata": {},
   "source": [
    "How many unique tokens does our dataset have?"
   ]
  },
  {
   "cell_type": "code",
   "execution_count": 321,
   "metadata": {
    "execution": {
     "iopub.execute_input": "2020-11-16T11:22:58.725205Z",
     "iopub.status.busy": "2020-11-16T11:22:58.724776Z",
     "iopub.status.idle": "2020-11-16T11:22:58.852765Z",
     "shell.execute_reply": "2020-11-16T11:22:58.851542Z",
     "shell.execute_reply.started": "2020-11-16T11:22:58.725160Z"
    }
   },
   "outputs": [
    {
     "name": "stdout",
     "output_type": "stream",
     "text": [
      "There are 9964 unique tokens in the dataset\n"
     ]
    }
   ],
   "source": [
    "unique_tokens = np.unique(flattened_tokens)\n",
    "print(f\"There are {len(unique_tokens)} unique tokens in the dataset\")"
   ]
  },
  {
   "cell_type": "markdown",
   "metadata": {},
   "source": [
    "What are the 10 most used tokens?"
   ]
  },
  {
   "cell_type": "code",
   "execution_count": 322,
   "metadata": {
    "execution": {
     "iopub.execute_input": "2020-11-16T11:23:08.825356Z",
     "iopub.status.busy": "2020-11-16T11:23:08.824923Z",
     "iopub.status.idle": "2020-11-16T11:23:09.016744Z",
     "shell.execute_reply": "2020-11-16T11:23:09.015534Z",
     "shell.execute_reply.started": "2020-11-16T11:23:08.825313Z"
    }
   },
   "outputs": [
    {
     "data": {
      "text/plain": [
       "[(',', 4885),\n",
       " ('the', 4764),\n",
       " ('.', 3828),\n",
       " ('<num>', 2471),\n",
       " ('of', 2325),\n",
       " ('to', 2182),\n",
       " ('a', 1988),\n",
       " ('in', 1769),\n",
       " ('and', 1556),\n",
       " (\"'s\", 865)]"
      ]
     },
     "execution_count": 322,
     "metadata": {},
     "output_type": "execute_result"
    }
   ],
   "source": [
    "tokens_fd = nltk.probability.FreqDist(flattened_tokens)\n",
    "tokens_fd.most_common(10)"
   ]
  },
  {
   "cell_type": "markdown",
   "metadata": {},
   "source": [
    "What is the distribution of the top 50 tokens with greatest frequency?"
   ]
  },
  {
   "cell_type": "code",
   "execution_count": 702,
   "metadata": {
    "execution": {
     "iopub.execute_input": "2020-11-17T16:48:20.430161Z",
     "iopub.status.busy": "2020-11-17T16:48:20.429710Z",
     "iopub.status.idle": "2020-11-17T16:48:21.481665Z",
     "shell.execute_reply": "2020-11-17T16:48:21.480518Z",
     "shell.execute_reply.started": "2020-11-17T16:48:20.430118Z"
    }
   },
   "outputs": [
    {
     "data": {
      "image/png": "[encoded data removed]",
      "text/plain": [
       "<Figure size 800x600 with 1 Axes>"
      ]
     },
     "metadata": {},
     "output_type": "display_data"
    }
   ],
   "source": [
    "tokens_fd.plot(50, title=\"Tokens distribution\", cumulative=False)\n",
    "plt.show()"
   ]
  },
  {
   "cell_type": "markdown",
   "metadata": {},
   "source": [
    "## Vocabulary and DataFrame"
   ]
  },
  {
   "cell_type": "markdown",
   "metadata": {},
   "source": [
    "The first thing that we have to do is to build two vocabularies, one for tokens and one for tags. The important things about the vocabulary building procedure are mainly two:\n",
    "1. It must be a deterministic method, i.e. it must output the same result when given the same input\n",
    "2. The first index of the produced vocabulary (i.e. index zero), must contain the padding token, which will be used at training time to pad sequences in the same batch to be of the same lenght"
   ]
  },
  {
   "cell_type": "code",
   "execution_count": 384,
   "metadata": {
    "execution": {
     "iopub.execute_input": "2020-11-17T09:43:32.444239Z",
     "iopub.status.busy": "2020-11-17T09:43:32.443810Z",
     "iopub.status.idle": "2020-11-17T09:43:32.505127Z",
     "shell.execute_reply": "2020-11-17T09:43:32.503977Z",
     "shell.execute_reply.started": "2020-11-17T09:43:32.444196Z"
    }
   },
   "outputs": [],
   "source": [
    "def build_vocabulary(tokens, padding_token=\"0\"):\n",
    "    \"\"\"\n",
    "    Given a list of tokens, builds the corresponding word vocabulary\n",
    "    \"\"\"\n",
    "    assert padding_token not in tokens\n",
    "    words = sorted(set(tokens))\n",
    "    vocabulary, inverse_vocabulary = dict(), dict()\n",
    "    vocabulary[0] = str(padding_token)\n",
    "    inverse_vocabulary[str(padding_token)] = 0\n",
    "    for i, w in tqdm(enumerate(words)):\n",
    "        vocabulary[i + 1] = w\n",
    "        inverse_vocabulary[w] = i + 1\n",
    "    return vocabulary, inverse_vocabulary, [padding_token] + words"
   ]
  },
  {
   "cell_type": "markdown",
   "metadata": {},
   "source": [
    "Since we want to use the same padding token for both words and tags, we have to check that this token does not appear in our unique lists of tokens and tags$\\dots$ \n",
    "\n",
    "We will use the padding token `\"0\"`, since it fulfills both requirements. "
   ]
  },
  {
   "cell_type": "code",
   "execution_count": 385,
   "metadata": {
    "execution": {
     "iopub.execute_input": "2020-11-17T09:43:33.428485Z",
     "iopub.status.busy": "2020-11-17T09:43:33.428144Z",
     "iopub.status.idle": "2020-11-17T09:43:33.488030Z",
     "shell.execute_reply": "2020-11-17T09:43:33.486790Z",
     "shell.execute_reply.started": "2020-11-17T09:43:33.428444Z"
    }
   },
   "outputs": [
    {
     "name": "stdout",
     "output_type": "stream",
     "text": [
      "Is the padding token in one of the two unique lists of tokens or tags? False\n"
     ]
    }
   ],
   "source": [
    "PADDING_TOKEN = \"0\"\n",
    "is_token = PADDING_TOKEN in unique_tokens\n",
    "is_tag = PADDING_TOKEN in unique_tags\n",
    "print(\n",
    "    f\"Is the padding token in one of the two unique lists of tokens or tags? {is_token or is_tag}\"\n",
    ")"
   ]
  },
  {
   "cell_type": "code",
   "execution_count": 386,
   "metadata": {
    "execution": {
     "iopub.execute_input": "2020-11-17T09:43:33.826266Z",
     "iopub.status.busy": "2020-11-17T09:43:33.825949Z",
     "iopub.status.idle": "2020-11-17T09:43:33.917676Z",
     "shell.execute_reply": "2020-11-17T09:43:33.916614Z",
     "shell.execute_reply.started": "2020-11-17T09:43:33.826226Z"
    }
   },
   "outputs": [
    {
     "name": "stderr",
     "output_type": "stream",
     "text": [
      "9964it [00:00, 651544.91it/s]\n"
     ]
    }
   ],
   "source": [
    "index_to_word, word_to_index, word_listing = build_vocabulary(\n",
    "    unique_tokens, padding_token=PADDING_TOKEN\n",
    ")"
   ]
  },
  {
   "cell_type": "code",
   "execution_count": 387,
   "metadata": {
    "execution": {
     "iopub.execute_input": "2020-11-17T09:43:34.770555Z",
     "iopub.status.busy": "2020-11-17T09:43:34.770238Z",
     "iopub.status.idle": "2020-11-17T09:43:34.834275Z",
     "shell.execute_reply": "2020-11-17T09:43:34.832905Z",
     "shell.execute_reply.started": "2020-11-17T09:43:34.770515Z"
    }
   },
   "outputs": [
    {
     "data": {
      "text/plain": [
       "[(0, '0'),\n",
       " (1, '!'),\n",
       " (2, '#'),\n",
       " (3, '$'),\n",
       " (4, '%'),\n",
       " (5, '&'),\n",
       " (6, \"'\"),\n",
       " (7, \"''\"),\n",
       " (8, \"'30s\"),\n",
       " (9, \"'40s\")]"
      ]
     },
     "execution_count": 387,
     "metadata": {},
     "output_type": "execute_result"
    }
   ],
   "source": [
    "list(index_to_word.items())[:10]"
   ]
  },
  {
   "cell_type": "code",
   "execution_count": 388,
   "metadata": {
    "execution": {
     "iopub.execute_input": "2020-11-17T09:43:36.954130Z",
     "iopub.status.busy": "2020-11-17T09:43:36.953700Z",
     "iopub.status.idle": "2020-11-17T09:43:37.016245Z",
     "shell.execute_reply": "2020-11-17T09:43:37.015150Z",
     "shell.execute_reply.started": "2020-11-17T09:43:36.954086Z"
    }
   },
   "outputs": [
    {
     "name": "stderr",
     "output_type": "stream",
     "text": [
      "45it [00:00, 207182.96it/s]\n"
     ]
    }
   ],
   "source": [
    "index_to_tag, tag_to_index, tag_listing = build_vocabulary(\n",
    "    unique_tags, padding_token=PADDING_TOKEN\n",
    ")"
   ]
  },
  {
   "cell_type": "code",
   "execution_count": 389,
   "metadata": {
    "execution": {
     "iopub.execute_input": "2020-11-17T09:43:37.018360Z",
     "iopub.status.busy": "2020-11-17T09:43:37.018060Z",
     "iopub.status.idle": "2020-11-17T09:43:37.072919Z",
     "shell.execute_reply": "2020-11-17T09:43:37.071469Z",
     "shell.execute_reply.started": "2020-11-17T09:43:37.018323Z"
    }
   },
   "outputs": [
    {
     "data": {
      "text/plain": [
       "[(0, '0'),\n",
       " (1, '#'),\n",
       " (2, '$'),\n",
       " (3, \"''\"),\n",
       " (4, ','),\n",
       " (5, '-LRB-'),\n",
       " (6, '-RRB-'),\n",
       " (7, '.'),\n",
       " (8, ':'),\n",
       " (9, 'CC')]"
      ]
     },
     "execution_count": 389,
     "metadata": {},
     "output_type": "execute_result"
    }
   ],
   "source": [
    "list(index_to_tag.items())[:10]"
   ]
  },
  {
   "cell_type": "markdown",
   "metadata": {},
   "source": [
    "We will also store a subset of tokens that will be used to compute evaluation metrics, such as the F1 score, on a restricted number of labels. In particular, we want to compute those metrics without considering the labels for punctuation tags."
   ]
  },
  {
   "cell_type": "code",
   "execution_count": 392,
   "metadata": {
    "execution": {
     "iopub.execute_input": "2020-11-17T09:44:24.004470Z",
     "iopub.status.busy": "2020-11-17T09:44:24.004032Z",
     "iopub.status.idle": "2020-11-17T09:44:24.065708Z",
     "shell.execute_reply": "2020-11-17T09:44:24.064527Z",
     "shell.execute_reply.started": "2020-11-17T09:44:24.004427Z"
    }
   },
   "outputs": [
    {
     "name": "stdout",
     "output_type": "stream",
     "text": [
      "['0', 'DT', 'NNPS', 'WDT', 'IN', 'JJR', 'NN', 'PRP', 'VBD', 'WP$', 'LS', 'MD', 'NNS', 'VB', '``', 'RB', 'RP', 'RBS', 'CC', 'WP', 'VBG', 'CD', 'POS', 'FW', 'VBP', 'NNP', '0', 'UH', 'VBZ', 'JJS', 'PRP$', '-LRB-', '-RRB-', 'JJ', 'SYM', 'EX', \"''\", 'RBR', 'WRB', 'PDT', 'VBN', 'TO']\n"
     ]
    }
   ],
   "source": [
    "no_punct_tags = [PADDING_TOKEN] + list(set(tag_listing) - set(string.punctuation))\n",
    "no_punct_tags_indexes = [tag_to_index[t] for t in no_punct_tags]\n",
    "print(no_punct_tags)"
   ]
  },
  {
   "cell_type": "code",
   "execution_count": 393,
   "metadata": {
    "execution": {
     "iopub.execute_input": "2020-11-17T09:44:40.581917Z",
     "iopub.status.busy": "2020-11-17T09:44:40.581487Z",
     "iopub.status.idle": "2020-11-17T09:44:40.641760Z",
     "shell.execute_reply": "2020-11-17T09:44:40.640339Z",
     "shell.execute_reply.started": "2020-11-17T09:44:40.581874Z"
    }
   },
   "outputs": [],
   "source": [
    "def to_indexes(values, to_index):\n",
    "    \"\"\"\n",
    "    Given a list of keys and a dictionary indexed by those keys,\n",
    "    return the corresponding values in the dictionary\n",
    "    \"\"\"\n",
    "    return [to_index[v] for v in values]\n",
    "\n",
    "\n",
    "whole_indexed_tokens = map(\n",
    "    lambda tokens: to_indexes(tokens, word_to_index), whole_tokens\n",
    ")\n",
    "whole_indexed_tags = map(lambda tags: to_indexes(tags, tag_to_index), whole_tags)"
   ]
  },
  {
   "cell_type": "markdown",
   "metadata": {},
   "source": [
    "Finally, we can build the entire DataFrame, by inserting the following columns:\n",
    "- `tokens`: the list of tokens in a sentence\n",
    "- `indexed_tokens`: the list of indexes of each word in the sentence, taken from the previously built words vocabulary\n",
    "- `tags`: the list of tags associated to each token in a sentence\n",
    "- `indexed_tags`: the list of indexes of each tag in the sentence, taken from the previously built tags vocabulary\n",
    "- `split`: the split (`train`, `val` or `test`) associated to a particular example\n",
    "- `fileid`: the file identifier associated to each sentence"
   ]
  },
  {
   "cell_type": "code",
   "execution_count": 394,
   "metadata": {
    "execution": {
     "iopub.execute_input": "2020-11-17T09:44:43.191995Z",
     "iopub.status.busy": "2020-11-17T09:44:43.191668Z",
     "iopub.status.idle": "2020-11-17T09:44:43.371732Z",
     "shell.execute_reply": "2020-11-17T09:44:43.370741Z",
     "shell.execute_reply.started": "2020-11-17T09:44:43.191954Z"
    }
   },
   "outputs": [
    {
     "data": {
      "text/html": [
       "<div>\n",
       "<style scoped>\n",
       "    .dataframe tbody tr th:only-of-type {\n",
       "        vertical-align: middle;\n",
       "    }\n",
       "\n",
       "    .dataframe tbody tr th {\n",
       "        vertical-align: top;\n",
       "    }\n",
       "\n",
       "    .dataframe thead th {\n",
       "        text-align: right;\n",
       "    }\n",
       "</style>\n",
       "<table border=\"1\" class=\"dataframe\">\n",
       "  <thead>\n",
       "    <tr style=\"text-align: right;\">\n",
       "      <th></th>\n",
       "      <th>tokens</th>\n",
       "      <th>indexed_tokens</th>\n",
       "      <th>tags</th>\n",
       "      <th>indexed_tags</th>\n",
       "      <th>split</th>\n",
       "      <th>fileid</th>\n",
       "    </tr>\n",
       "  </thead>\n",
       "  <tbody>\n",
       "    <tr>\n",
       "      <th>0</th>\n",
       "      <td>[pierre, vinken, ,, &lt;num&gt;, years, old, ,, will...</td>\n",
       "      <td>[6562, 9557, 20, 40, 9919, 6130, 20, 9793, 474...</td>\n",
       "      <td>[NNP, NNP, ,, CD, NNS, JJ, ,, MD, VB, DT, NN, ...</td>\n",
       "      <td>[21, 21, 4, 10, 23, 15, 4, 19, 35, 11, 20, 14,...</td>\n",
       "      <td>train</td>\n",
       "      <td>wsj_0001.dp</td>\n",
       "    </tr>\n",
       "    <tr>\n",
       "      <th>1</th>\n",
       "      <td>[rudolph, agnew, ,, &lt;num&gt;, years, old, and, fo...</td>\n",
       "      <td>[7695, 256, 20, 40, 9919, 6130, 394, 3607, 146...</td>\n",
       "      <td>[NNP, NNP, ,, CD, NNS, JJ, CC, JJ, NN, IN, NNP...</td>\n",
       "      <td>[21, 21, 4, 10, 23, 15, 9, 15, 20, 14, 21, 21,...</td>\n",
       "      <td>train</td>\n",
       "      <td>wsj_0002.dp</td>\n",
       "    </tr>\n",
       "    <tr>\n",
       "      <th>2</th>\n",
       "      <td>[a, form, of, asbestos, once, used, to, make, ...</td>\n",
       "      <td>[45, 3601, 6095, 570, 6146, 9453, 9063, 5302, ...</td>\n",
       "      <td>[DT, NN, IN, NN, RB, VBN, TO, VB, NNP, NN, NNS...</td>\n",
       "      <td>[11, 20, 14, 20, 28, 38, 33, 35, 21, 20, 23, 4...</td>\n",
       "      <td>train</td>\n",
       "      <td>wsj_0003.dp</td>\n",
       "    </tr>\n",
       "    <tr>\n",
       "      <th>3</th>\n",
       "      <td>[yields, on, money-market, mutual, funds, cont...</td>\n",
       "      <td>[9931, 6144, 5688, 5792, 3725, 1968, 9063, 821...</td>\n",
       "      <td>[NNS, IN, JJ, JJ, NNS, VBD, TO, VB, ,, IN, NNS...</td>\n",
       "      <td>[23, 14, 15, 15, 23, 36, 33, 35, 4, 14, 23, 14...</td>\n",
       "      <td>train</td>\n",
       "      <td>wsj_0004.dp</td>\n",
       "    </tr>\n",
       "    <tr>\n",
       "      <th>4</th>\n",
       "      <td>[j.p., bolduc, ,, vice, chairman, of, w.r., gr...</td>\n",
       "      <td>[4701, 1024, 20, 9535, 1462, 6095, 9609, 3894,...</td>\n",
       "      <td>[NNP, NNP, ,, NN, NN, IN, NNP, NNP, CC, NNP, ,...</td>\n",
       "      <td>[21, 21, 4, 20, 20, 14, 21, 21, 9, 21, 4, 41, ...</td>\n",
       "      <td>train</td>\n",
       "      <td>wsj_0005.dp</td>\n",
       "    </tr>\n",
       "  </tbody>\n",
       "</table>\n",
       "</div>"
      ],
      "text/plain": [
       "                                              tokens  \\\n",
       "0  [pierre, vinken, ,, <num>, years, old, ,, will...   \n",
       "1  [rudolph, agnew, ,, <num>, years, old, and, fo...   \n",
       "2  [a, form, of, asbestos, once, used, to, make, ...   \n",
       "3  [yields, on, money-market, mutual, funds, cont...   \n",
       "4  [j.p., bolduc, ,, vice, chairman, of, w.r., gr...   \n",
       "\n",
       "                                      indexed_tokens  \\\n",
       "0  [6562, 9557, 20, 40, 9919, 6130, 20, 9793, 474...   \n",
       "1  [7695, 256, 20, 40, 9919, 6130, 394, 3607, 146...   \n",
       "2  [45, 3601, 6095, 570, 6146, 9453, 9063, 5302, ...   \n",
       "3  [9931, 6144, 5688, 5792, 3725, 1968, 9063, 821...   \n",
       "4  [4701, 1024, 20, 9535, 1462, 6095, 9609, 3894,...   \n",
       "\n",
       "                                                tags  \\\n",
       "0  [NNP, NNP, ,, CD, NNS, JJ, ,, MD, VB, DT, NN, ...   \n",
       "1  [NNP, NNP, ,, CD, NNS, JJ, CC, JJ, NN, IN, NNP...   \n",
       "2  [DT, NN, IN, NN, RB, VBN, TO, VB, NNP, NN, NNS...   \n",
       "3  [NNS, IN, JJ, JJ, NNS, VBD, TO, VB, ,, IN, NNS...   \n",
       "4  [NNP, NNP, ,, NN, NN, IN, NNP, NNP, CC, NNP, ,...   \n",
       "\n",
       "                                        indexed_tags  split       fileid  \n",
       "0  [21, 21, 4, 10, 23, 15, 4, 19, 35, 11, 20, 14,...  train  wsj_0001.dp  \n",
       "1  [21, 21, 4, 10, 23, 15, 9, 15, 20, 14, 21, 21,...  train  wsj_0002.dp  \n",
       "2  [11, 20, 14, 20, 28, 38, 33, 35, 21, 20, 23, 4...  train  wsj_0003.dp  \n",
       "3  [23, 14, 15, 15, 23, 36, 33, 35, 4, 14, 23, 14...  train  wsj_0004.dp  \n",
       "4  [21, 21, 4, 20, 20, 14, 21, 21, 9, 21, 4, 41, ...  train  wsj_0005.dp  "
      ]
     },
     "execution_count": 394,
     "metadata": {},
     "output_type": "execute_result"
    }
   ],
   "source": [
    "df = pd.DataFrame(\n",
    "    {\n",
    "        \"tokens\": whole_tokens,\n",
    "        \"indexed_tokens\": whole_indexed_tokens,\n",
    "        \"tags\": whole_tags,\n",
    "        \"indexed_tags\": whole_indexed_tags,\n",
    "        \"split\": splits,\n",
    "        \"fileid\": whole_files,\n",
    "    }\n",
    ")\n",
    "df.head()"
   ]
  },
  {
   "cell_type": "markdown",
   "metadata": {},
   "source": [
    "## Dataset and DataLoader"
   ]
  },
  {
   "cell_type": "markdown",
   "metadata": {},
   "source": [
    "In order to correctly work with batches and sequences of different lenght inside of each batch, we need to exploit the objects made available by PyTorch. In particular, we need to wrap our `DataFrame` inside a custom `Dataset` subclass, which will be used later as an input for a `DataLoader` object, that will automatically handle the generation of batches from our examples. "
   ]
  },
  {
   "cell_type": "code",
   "execution_count": 395,
   "metadata": {
    "execution": {
     "iopub.execute_input": "2020-11-17T09:44:48.440810Z",
     "iopub.status.busy": "2020-11-17T09:44:48.440138Z",
     "iopub.status.idle": "2020-11-17T09:44:48.523047Z",
     "shell.execute_reply": "2020-11-17T09:44:48.521772Z",
     "shell.execute_reply.started": "2020-11-17T09:44:48.440738Z"
    }
   },
   "outputs": [],
   "source": [
    "class DependencyTreebankDataset(Dataset):\n",
    "    \"\"\"\n",
    "    Dependency treebank dataset for POS tagging\n",
    "    \"\"\"\n",
    "\n",
    "    def __init__(self, df):\n",
    "        self.df = df.copy()\n",
    "        self.df = self.df.reset_index(drop=True)\n",
    "\n",
    "    def __len__(self):\n",
    "        return self.df.shape[0]\n",
    "\n",
    "    def __getitem__(self, index):\n",
    "        assert isinstance(index, int)\n",
    "        tokens = self.df.loc[index, \"indexed_tokens\"]\n",
    "        tags = self.df.loc[index, \"indexed_tags\"]\n",
    "        return tokens, tags"
   ]
  },
  {
   "cell_type": "markdown",
   "metadata": {},
   "source": [
    "We will build and store three different `Dataset` objects, based on the split parameter of the previously built DataFrame, which will be used in different stages of the learning process, i.e. training, validation and testing."
   ]
  },
  {
   "cell_type": "code",
   "execution_count": 396,
   "metadata": {
    "execution": {
     "iopub.execute_input": "2020-11-17T09:44:51.154682Z",
     "iopub.status.busy": "2020-11-17T09:44:51.154361Z",
     "iopub.status.idle": "2020-11-17T09:44:51.216081Z",
     "shell.execute_reply": "2020-11-17T09:44:51.214916Z",
     "shell.execute_reply.started": "2020-11-17T09:44:51.154642Z"
    }
   },
   "outputs": [],
   "source": [
    "train_dataset = DependencyTreebankDataset(df[df[\"split\"] == \"train\"])\n",
    "val_dataset = DependencyTreebankDataset(df[df[\"split\"] == \"val\"])\n",
    "test_dataset = DependencyTreebankDataset(df[df[\"split\"] == \"test\"])"
   ]
  },
  {
   "cell_type": "markdown",
   "metadata": {},
   "source": [
    "Let's see if our `Dataset` building process worked out nicely, by checking the first example in the training dataset$\\dots$"
   ]
  },
  {
   "cell_type": "code",
   "execution_count": 397,
   "metadata": {
    "execution": {
     "iopub.execute_input": "2020-11-17T09:44:52.512604Z",
     "iopub.status.busy": "2020-11-17T09:44:52.512287Z",
     "iopub.status.idle": "2020-11-17T09:44:52.570951Z",
     "shell.execute_reply": "2020-11-17T09:44:52.569876Z",
     "shell.execute_reply.started": "2020-11-17T09:44:52.512563Z"
    }
   },
   "outputs": [
    {
     "name": "stdout",
     "output_type": "stream",
     "text": [
      "([6562, 9557, 20, 40, 9919, 6130, 20, 9793, 4749, 8966, 1013, 568, 45, 5988, 2554, 6028, 40, 27, 5755, 9557, 4676, 1462, 6095, 2953, 5808, 20, 8966, 2826, 7018, 3943, 27], [21, 21, 4, 10, 23, 15, 4, 19, 35, 11, 20, 14, 11, 15, 20, 21, 10, 7, 21, 21, 40, 20, 14, 21, 21, 4, 11, 21, 37, 20, 7])\n"
     ]
    }
   ],
   "source": [
    "print(train_dataset[0])"
   ]
  },
  {
   "cell_type": "markdown",
   "metadata": {},
   "source": [
    "As already mentioned, the `DataLoader` object will be used to automatically handle the generation of batches (with the specified batch size) from the entire list of examples$\\dots$ \n",
    "\n",
    "Another important aspect of `DataLoader`s is that they enable us to pad sequences in the same batch to be of the same lenght (i.e. the lenght of the longest sequence in the batch), by using the previously defined padding token. To do so, we leverage PyTorch's `pad_sequence` function."
   ]
  },
  {
   "cell_type": "code",
   "execution_count": 533,
   "metadata": {
    "execution": {
     "iopub.execute_input": "2020-11-17T15:32:48.609918Z",
     "iopub.status.busy": "2020-11-17T15:32:48.609490Z",
     "iopub.status.idle": "2020-11-17T15:32:48.672356Z",
     "shell.execute_reply": "2020-11-17T15:32:48.670787Z",
     "shell.execute_reply.started": "2020-11-17T15:32:48.609874Z"
    }
   },
   "outputs": [],
   "source": [
    "def pad_batch(batch, padding_token=\"0\"):\n",
    "    \"\"\"\n",
    "    This function expects to receive a list of tuples (i.e. a batch),\n",
    "    s.t. each tuple contains tokens and tags for one sentence in the batch\n",
    "    and returns the same sequences padded with the padding token\n",
    "    \"\"\"\n",
    "    (tokens, tags) = zip(*batch)\n",
    "    tokens_lenghts = [len(x) for x in tokens]\n",
    "    tags_lenghts = [len(y) for y in tags]\n",
    "    padded_tokens = pad_sequence(\n",
    "        [torch.tensor(t) for t in tokens],\n",
    "        batch_first=True,\n",
    "        padding_value=int(padding_token),\n",
    "    )\n",
    "    padded_tags = pad_sequence(\n",
    "        [torch.tensor(t) for t in tags],\n",
    "        batch_first=True,\n",
    "        padding_value=int(padding_token),\n",
    "    )\n",
    "    return padded_tokens, padded_tags, tokens_lenghts, tags_lenghts"
   ]
  },
  {
   "cell_type": "code",
   "execution_count": 534,
   "metadata": {
    "execution": {
     "iopub.execute_input": "2020-11-17T15:32:48.981767Z",
     "iopub.status.busy": "2020-11-17T15:32:48.981453Z",
     "iopub.status.idle": "2020-11-17T15:32:49.038846Z",
     "shell.execute_reply": "2020-11-17T15:32:49.037676Z",
     "shell.execute_reply.started": "2020-11-17T15:32:48.981726Z"
    }
   },
   "outputs": [],
   "source": [
    "batch_size = 5\n",
    "default_dataloader = partial(\n",
    "    DataLoader,\n",
    "    batch_size=batch_size,\n",
    "    shuffle=False,\n",
    "    collate_fn=partial(pad_batch, padding_token=PADDING_TOKEN),\n",
    "    pin_memory=True,\n",
    ")"
   ]
  },
  {
   "cell_type": "markdown",
   "metadata": {},
   "source": [
    "As we did with the `Dataset` wrapper, we will store three different `DataLoader` objects, one for each learning stage."
   ]
  },
  {
   "cell_type": "code",
   "execution_count": 535,
   "metadata": {
    "execution": {
     "iopub.execute_input": "2020-11-17T15:32:49.636477Z",
     "iopub.status.busy": "2020-11-17T15:32:49.636159Z",
     "iopub.status.idle": "2020-11-17T15:32:49.692805Z",
     "shell.execute_reply": "2020-11-17T15:32:49.691638Z",
     "shell.execute_reply.started": "2020-11-17T15:32:49.636437Z"
    }
   },
   "outputs": [],
   "source": [
    "train_dataloader = default_dataloader(train_dataset)\n",
    "val_dataloader = default_dataloader(val_dataset)\n",
    "test_dataloader = default_dataloader(test_dataset)"
   ]
  },
  {
   "cell_type": "markdown",
   "metadata": {},
   "source": [
    "## Building word embeddings"
   ]
  },
  {
   "cell_type": "markdown",
   "metadata": {},
   "source": [
    "The way we represent words in sequence labeling models is still using word embeddings, exploiting methods like `Word2vec` or `GloVe`. In this whole notebook, we will leverage `GloVe` pre-trained embeddings with a fixed dimensionality (e.g. `50`), as given by the `Gensim` library. \n",
    "\n",
    "Because of this, we need to build our embedding matrix, i.e. a matrix $E$ of size $w\\times d$, where $w$ is the number of unique words in our dataset and $d$ is the dimensionality of word embeddings (in our example $d=50$). In order to correctly build the embedding matrix, we need a way to handle OOV (Out Of Vocabulary) words, i.e. words that appear in our dataset but not on the dataset on which the embeddings where trained on. We will try different OOV handling methods:\n",
    "- `uniform`: the OOV word vector is sampled from a uniform distribution in a specific range (e.g. $[-1,1]$)\n",
    "- `normal`: the OOV word vector is sampled from a normal distribution (i.e. a Gaussian with $\\mu=0$ and $\\sigma=1$)\n",
    "- `mean`: the OOV word vector is taken as the average of the not OOV word vectors represented by neighbors of the analyzed word (considering a window size of $1$)\n",
    "- `subword`: the OOV word vector is estimated by a recurrent model, using subword information (i.e. using characters as inputs instead of words)\n",
    "\n",
    "Moreover, we also zero-out the word vector associated with the padding token."
   ]
  },
  {
   "cell_type": "code",
   "execution_count": 598,
   "metadata": {
    "execution": {
     "iopub.execute_input": "2020-11-17T15:59:59.954018Z",
     "iopub.status.busy": "2020-11-17T15:59:59.953591Z",
     "iopub.status.idle": "2020-11-17T16:05:39.410869Z",
     "shell.execute_reply": "2020-11-17T16:05:39.409369Z",
     "shell.execute_reply.started": "2020-11-17T15:59:59.953975Z"
    }
   },
   "outputs": [
    {
     "name": "stdout",
     "output_type": "stream",
     "text": [
      "[==================================================] 100.0% 376.1/376.1MB downloaded\n"
     ]
    }
   ],
   "source": [
    "embedding_dimension = 300\n",
    "embedding_model = utils.load_embedding_model(\n",
    "    \"glove\", embedding_dimension=embedding_dimension\n",
    ")"
   ]
  },
  {
   "cell_type": "code",
   "execution_count": 599,
   "metadata": {
    "execution": {
     "iopub.execute_input": "2020-11-17T16:11:16.431117Z",
     "iopub.status.busy": "2020-11-17T16:11:16.430678Z",
     "iopub.status.idle": "2020-11-17T16:11:16.490778Z",
     "shell.execute_reply": "2020-11-17T16:11:16.489610Z",
     "shell.execute_reply.started": "2020-11-17T16:11:16.431074Z"
    }
   },
   "outputs": [],
   "source": [
    "def check_oov_terms(embedding_model, word_listing):\n",
    "    \"\"\"\n",
    "    Checks differences between pre-trained embedding model vocabulary\n",
    "    and dataset specific vocabulary in order to highlight out-of-vocabulary terms\n",
    "    \"\"\"\n",
    "    oov_terms = []\n",
    "    for word in word_listing:\n",
    "        if word not in embedding_model.vocab:\n",
    "            oov_terms.append(word)\n",
    "    return oov_terms"
   ]
  },
  {
   "cell_type": "code",
   "execution_count": 600,
   "metadata": {
    "execution": {
     "iopub.execute_input": "2020-11-17T16:11:17.473466Z",
     "iopub.status.busy": "2020-11-17T16:11:17.473060Z",
     "iopub.status.idle": "2020-11-17T16:11:17.544734Z",
     "shell.execute_reply": "2020-11-17T16:11:17.543536Z",
     "shell.execute_reply.started": "2020-11-17T16:11:17.473423Z"
    }
   },
   "outputs": [
    {
     "name": "stdout",
     "output_type": "stream",
     "text": [
      "Total OOV terms: 508 (0.05%)\n"
     ]
    }
   ],
   "source": [
    "oov_terms = check_oov_terms(embedding_model, word_listing)\n",
    "print(\n",
    "    f\"Total OOV terms: {len(oov_terms)} ({round(len(oov_terms) / len(word_listing), 2)}%)\"\n",
    ")"
   ]
  },
  {
   "cell_type": "code",
   "execution_count": 601,
   "metadata": {
    "execution": {
     "iopub.execute_input": "2020-11-17T16:11:20.915790Z",
     "iopub.status.busy": "2020-11-17T16:11:20.915387Z",
     "iopub.status.idle": "2020-11-17T16:11:20.980914Z",
     "shell.execute_reply": "2020-11-17T16:11:20.979729Z",
     "shell.execute_reply.started": "2020-11-17T16:11:20.915748Z"
    }
   },
   "outputs": [],
   "source": [
    "def build_embedding_matrix(\n",
    "    embedding_model,\n",
    "    embedding_dimension,\n",
    "    word_to_index,\n",
    "    oov_terms,\n",
    "    method=\"normal\",\n",
    "    padding_token=\"0\",\n",
    "):\n",
    "    \"\"\"\n",
    "    Builds the embedding matrix of a specific dataset given a pre-trained Gensim word embedding model\n",
    "    \"\"\"\n",
    "\n",
    "    def uniform_embedding(embedding_dimension, interval=(-1, 1)):\n",
    "        return interval[0] + np.random.sample(embedding_dimension) + interval[1]\n",
    "\n",
    "    def normal_embedding(embedding_dimension):\n",
    "        return np.random.normal(embedding_dimension)\n",
    "\n",
    "    embedding_matrix = np.zeros((len(word_to_index), embedding_dimension))\n",
    "    for word, index in word_to_index.items():\n",
    "        if word == padding_token:\n",
    "            word_vector = np.zeros((1, embedding_dimension))\n",
    "        # Words that are no OOV are taken from the Gensim model\n",
    "        elif word not in oov_terms:\n",
    "            word_vector = embedding_model[word]\n",
    "        # OOV words computed as random normal vectors\n",
    "        elif method == \"normal\":\n",
    "            word_vector = normal_embedding(embedding_dimension)\n",
    "        # OOV words computed as uniform vectors in range [-1, 1]\n",
    "        elif method == \"uniform\":\n",
    "            word_vector = uniform_embedding(embedding_dimension)\n",
    "        embedding_matrix[index, :] = word_vector\n",
    "    return embedding_matrix"
   ]
  },
  {
   "cell_type": "markdown",
   "metadata": {},
   "source": [
    "Let's build the embedding matrix using the `normal` method for OOV words and check the embedding of a common word like `\"the\"`$\\dots$"
   ]
  },
  {
   "cell_type": "code",
   "execution_count": 602,
   "metadata": {
    "execution": {
     "iopub.execute_input": "2020-11-17T16:11:23.750070Z",
     "iopub.status.busy": "2020-11-17T16:11:23.749712Z",
     "iopub.status.idle": "2020-11-17T16:11:24.166565Z",
     "shell.execute_reply": "2020-11-17T16:11:24.165505Z",
     "shell.execute_reply.started": "2020-11-17T16:11:23.750028Z"
    }
   },
   "outputs": [
    {
     "data": {
      "text/plain": [
       "array([ 4.65600006e-02,  2.13180006e-01, -7.43639981e-03, -4.58539993e-01,\n",
       "       -3.56389992e-02,  2.36430004e-01, -2.88360000e-01,  2.15210006e-01,\n",
       "       -1.34859994e-01, -1.64129996e+00, -2.60910004e-01,  3.24340016e-02,\n",
       "        5.66210002e-02, -4.32960019e-02, -2.16719992e-02,  2.24759996e-01,\n",
       "       -7.51290023e-02, -6.70180023e-02, -1.42470002e-01,  3.88250016e-02,\n",
       "       -1.89510003e-01,  2.99769998e-01,  3.93049985e-01,  1.78870007e-01,\n",
       "       -1.73429996e-01, -2.11779997e-01,  2.36169994e-01, -6.36809990e-02,\n",
       "       -4.23180014e-01, -1.16609998e-01,  9.37540010e-02,  1.72959998e-01,\n",
       "       -3.30729991e-01,  4.91120011e-01, -6.89949989e-01, -9.24620032e-02,\n",
       "        2.47419998e-01, -1.79910004e-01,  9.79079977e-02,  8.31179991e-02,\n",
       "        1.52989998e-01, -2.72760004e-01, -3.89339998e-02,  5.44529974e-01,\n",
       "        5.37370026e-01,  2.91049987e-01, -7.35139987e-03,  4.78800014e-02,\n",
       "       -4.07599986e-01, -2.67590005e-02,  1.79189995e-01,  1.09770000e-02,\n",
       "       -1.09630004e-01, -2.63949990e-01,  7.39900023e-02,  2.62360007e-01,\n",
       "       -1.50800005e-01,  3.46230000e-01,  2.57580012e-01,  1.19709998e-01,\n",
       "       -3.71350013e-02, -7.15930015e-02,  4.38980013e-01, -4.07640003e-02,\n",
       "        1.64250005e-02, -4.46399987e-01,  1.71969995e-01,  4.62459996e-02,\n",
       "        5.86390011e-02,  4.14990000e-02,  5.39479971e-01,  5.24950027e-01,\n",
       "        1.13609999e-01, -4.83149998e-02, -3.63849998e-01,  1.87040001e-01,\n",
       "        9.27610025e-02, -1.11290000e-01, -4.20850009e-01,  1.39919996e-01,\n",
       "       -3.93379986e-01, -6.79450035e-02,  1.21880002e-01,  1.67070001e-01,\n",
       "        7.51689970e-02, -1.55290002e-02, -1.94989994e-01,  1.96380004e-01,\n",
       "        5.31940013e-02,  2.51700014e-01, -3.48450005e-01, -1.06380001e-01,\n",
       "       -3.46920013e-01, -1.90239996e-01, -2.00399995e-01,  1.21540003e-01,\n",
       "       -2.92079985e-01,  2.33529992e-02, -1.16180003e-01, -3.57679993e-01,\n",
       "        6.23040013e-02,  3.58839989e-01,  2.90600006e-02,  7.30049983e-03,\n",
       "        4.94820019e-03, -1.50480002e-01, -1.23130001e-01,  1.93370000e-01,\n",
       "        1.21730000e-01,  4.45030004e-01,  2.51470000e-01,  1.07809998e-01,\n",
       "       -1.77159995e-01,  3.86909992e-02,  8.15299973e-02,  1.46669999e-01,\n",
       "        6.36660010e-02,  6.13319986e-02, -7.55689964e-02, -3.77240002e-01,\n",
       "        1.58500001e-02, -3.03420007e-01,  2.83740014e-01, -4.20130007e-02,\n",
       "       -4.07150015e-02, -1.52689993e-01,  7.49799982e-02,  1.55770004e-01,\n",
       "        1.04330003e-01,  3.13930005e-01,  1.93090007e-01,  1.94289997e-01,\n",
       "        1.51850000e-01, -1.01920001e-01, -1.87849998e-02,  2.07910001e-01,\n",
       "        1.33660004e-01,  1.90380007e-01, -2.55580008e-01,  3.03999990e-01,\n",
       "       -1.89599991e-02,  2.01470003e-01, -4.21099991e-01, -7.51559995e-03,\n",
       "       -2.79769987e-01, -1.93140000e-01,  4.62040007e-02,  1.99709997e-01,\n",
       "       -3.02069992e-01,  2.57349998e-01,  6.81070030e-01, -1.94089994e-01,\n",
       "        2.39840001e-01,  2.24930003e-01,  6.52239978e-01, -1.35609999e-01,\n",
       "       -1.73830003e-01, -4.82090004e-02, -1.18600003e-01,  2.15879991e-03,\n",
       "       -1.95250008e-02,  1.19479999e-01,  1.93460003e-01, -4.08199996e-01,\n",
       "       -8.29659998e-02,  1.66260004e-01, -1.06009997e-01,  3.58610004e-01,\n",
       "        1.69220001e-01,  7.25900009e-02, -2.48030007e-01, -1.00240000e-01,\n",
       "       -5.24909973e-01, -1.77450001e-01, -3.66470009e-01,  2.61799991e-01,\n",
       "       -1.20770000e-02,  8.31900015e-02, -2.15279996e-01,  4.10450011e-01,\n",
       "        2.91359991e-01,  3.08690012e-01,  7.88640007e-02,  3.22070003e-01,\n",
       "       -4.10230011e-02, -1.09700002e-01, -9.20410007e-02, -1.23389997e-01,\n",
       "       -1.64159998e-01,  3.53819996e-01, -8.27739984e-02,  3.31710011e-01,\n",
       "       -2.47380003e-01, -4.89280000e-02,  1.57460004e-01,  1.89879999e-01,\n",
       "       -2.66420003e-02,  6.33149967e-02, -1.06729995e-02,  3.40889990e-01,\n",
       "        1.41059995e+00,  1.34169996e-01,  2.81910002e-01, -2.59400010e-01,\n",
       "        5.52669987e-02, -5.24250008e-02, -2.57889986e-01,  1.91270001e-02,\n",
       "       -2.20839996e-02,  3.21130008e-01,  6.88180029e-02,  5.12070000e-01,\n",
       "        1.64780006e-01, -2.01940000e-01,  2.92320013e-01,  9.85750034e-02,\n",
       "        1.31449997e-02, -1.06519997e-01,  1.35100007e-01, -4.53319997e-02,\n",
       "        2.06970006e-01, -4.84250009e-01, -4.47059989e-01,  3.33050010e-03,\n",
       "        2.92639993e-03, -1.09750003e-01, -2.33250007e-01,  2.24419996e-01,\n",
       "       -1.05030000e-01,  1.23389997e-01,  1.09779999e-01,  4.89940010e-02,\n",
       "       -2.51569986e-01,  4.03189987e-01,  3.53179991e-01,  1.86509997e-01,\n",
       "       -2.36220006e-02, -1.27340004e-01,  1.14749998e-01,  2.73589998e-01,\n",
       "       -2.18659997e-01,  1.57939997e-02,  8.17539990e-01, -2.37920005e-02,\n",
       "       -8.54690015e-01, -1.62029997e-01,  1.80759996e-01,  2.80140005e-02,\n",
       "       -1.43399999e-01,  1.31389999e-03, -9.17349979e-02, -8.97039995e-02,\n",
       "        1.11050002e-01, -1.67030007e-01,  6.83770031e-02, -8.73880014e-02,\n",
       "       -3.97889987e-02,  1.41840000e-02,  2.11870000e-01,  2.85789996e-01,\n",
       "       -2.87970006e-01, -5.89959994e-02, -3.24359983e-02, -4.70090006e-03,\n",
       "       -1.70519993e-01, -3.47409993e-02, -1.14890002e-01,  7.50930011e-02,\n",
       "        9.95260030e-02,  4.81830016e-02, -7.37750009e-02, -4.18170005e-01,\n",
       "        4.12680022e-03,  4.44139987e-01, -1.60620004e-01,  1.42940000e-01,\n",
       "       -2.26279998e+00, -2.73470003e-02,  8.13109994e-01,  7.74169981e-01,\n",
       "       -2.56390005e-01, -1.15759999e-01, -1.19819999e-01, -2.13630006e-01,\n",
       "        2.84289997e-02,  2.72610009e-01,  3.10260002e-02,  9.67819989e-02,\n",
       "        6.77690003e-03,  1.40819997e-01, -1.30639998e-02, -2.96860009e-01,\n",
       "       -7.99129978e-02,  1.94999993e-01,  3.15489992e-02,  2.85059988e-01,\n",
       "       -8.74610022e-02,  9.06109996e-03, -2.09889993e-01,  5.39130010e-02])"
      ]
     },
     "execution_count": 602,
     "metadata": {},
     "output_type": "execute_result"
    }
   ],
   "source": [
    "embedding_matrix = build_embedding_matrix(\n",
    "    embedding_model,\n",
    "    embedding_dimension,\n",
    "    word_to_index,\n",
    "    oov_terms,\n",
    "    method=\"normal\",\n",
    "    padding_token=PADDING_TOKEN,\n",
    ")\n",
    "embedding_matrix[word_to_index[\"the\"]]"
   ]
  },
  {
   "cell_type": "markdown",
   "metadata": {},
   "source": [
    "Let's also check the embedding of the padding token, which should contain all zero entries$\\dots$"
   ]
  },
  {
   "cell_type": "code",
   "execution_count": 603,
   "metadata": {
    "execution": {
     "iopub.execute_input": "2020-11-17T16:11:27.431338Z",
     "iopub.status.busy": "2020-11-17T16:11:27.430920Z",
     "iopub.status.idle": "2020-11-17T16:11:27.497034Z",
     "shell.execute_reply": "2020-11-17T16:11:27.495819Z",
     "shell.execute_reply.started": "2020-11-17T16:11:27.431295Z"
    }
   },
   "outputs": [
    {
     "data": {
      "text/plain": [
       "array([0., 0., 0., 0., 0., 0., 0., 0., 0., 0., 0., 0., 0., 0., 0., 0., 0.,\n",
       "       0., 0., 0., 0., 0., 0., 0., 0., 0., 0., 0., 0., 0., 0., 0., 0., 0.,\n",
       "       0., 0., 0., 0., 0., 0., 0., 0., 0., 0., 0., 0., 0., 0., 0., 0., 0.,\n",
       "       0., 0., 0., 0., 0., 0., 0., 0., 0., 0., 0., 0., 0., 0., 0., 0., 0.,\n",
       "       0., 0., 0., 0., 0., 0., 0., 0., 0., 0., 0., 0., 0., 0., 0., 0., 0.,\n",
       "       0., 0., 0., 0., 0., 0., 0., 0., 0., 0., 0., 0., 0., 0., 0., 0., 0.,\n",
       "       0., 0., 0., 0., 0., 0., 0., 0., 0., 0., 0., 0., 0., 0., 0., 0., 0.,\n",
       "       0., 0., 0., 0., 0., 0., 0., 0., 0., 0., 0., 0., 0., 0., 0., 0., 0.,\n",
       "       0., 0., 0., 0., 0., 0., 0., 0., 0., 0., 0., 0., 0., 0., 0., 0., 0.,\n",
       "       0., 0., 0., 0., 0., 0., 0., 0., 0., 0., 0., 0., 0., 0., 0., 0., 0.,\n",
       "       0., 0., 0., 0., 0., 0., 0., 0., 0., 0., 0., 0., 0., 0., 0., 0., 0.,\n",
       "       0., 0., 0., 0., 0., 0., 0., 0., 0., 0., 0., 0., 0., 0., 0., 0., 0.,\n",
       "       0., 0., 0., 0., 0., 0., 0., 0., 0., 0., 0., 0., 0., 0., 0., 0., 0.,\n",
       "       0., 0., 0., 0., 0., 0., 0., 0., 0., 0., 0., 0., 0., 0., 0., 0., 0.,\n",
       "       0., 0., 0., 0., 0., 0., 0., 0., 0., 0., 0., 0., 0., 0., 0., 0., 0.,\n",
       "       0., 0., 0., 0., 0., 0., 0., 0., 0., 0., 0., 0., 0., 0., 0., 0., 0.,\n",
       "       0., 0., 0., 0., 0., 0., 0., 0., 0., 0., 0., 0., 0., 0., 0., 0., 0.,\n",
       "       0., 0., 0., 0., 0., 0., 0., 0., 0., 0., 0.])"
      ]
     },
     "execution_count": 603,
     "metadata": {},
     "output_type": "execute_result"
    }
   ],
   "source": [
    "embedding_matrix[word_to_index[PADDING_TOKEN]]"
   ]
  },
  {
   "cell_type": "markdown",
   "metadata": {},
   "source": [
    "## Learning utils"
   ]
  },
  {
   "cell_type": "code",
   "execution_count": 607,
   "metadata": {
    "execution": {
     "iopub.execute_input": "2020-11-17T16:12:25.429353Z",
     "iopub.status.busy": "2020-11-17T16:12:25.429035Z",
     "iopub.status.idle": "2020-11-17T16:12:25.490288Z",
     "shell.execute_reply": "2020-11-17T16:12:25.489096Z",
     "shell.execute_reply.started": "2020-11-17T16:12:25.429313Z"
    }
   },
   "outputs": [],
   "source": [
    "def categorical_accuracy(predictions, ground_truth, padding_index=0, batch_first=True):\n",
    "    \"\"\"\n",
    "    Returns accuracy score over the given batch of data\n",
    "    \"\"\"\n",
    "    if batch_first:\n",
    "        predictions = predictions.view(-1, predictions.shape[-1])\n",
    "        ground_truth = ground_truth.view(-1)\n",
    "    max_predictions = predictions.argmax(dim=1, keepdim=True)\n",
    "    non_pad_elements = torch.where(ground_truth != padding_index)[0]\n",
    "    correct = (\n",
    "        max_predictions[non_pad_elements].squeeze(1).eq(ground_truth[non_pad_elements])\n",
    "    )\n",
    "    return correct.sum() / torch.FloatTensor([ground_truth[non_pad_elements].shape[0]])"
   ]
  },
  {
   "cell_type": "code",
   "execution_count": 730,
   "metadata": {
    "execution": {
     "iopub.execute_input": "2020-11-17T17:24:05.117255Z",
     "iopub.status.busy": "2020-11-17T17:24:05.116801Z",
     "iopub.status.idle": "2020-11-17T17:24:05.179199Z",
     "shell.execute_reply": "2020-11-17T17:24:05.177944Z",
     "shell.execute_reply.started": "2020-11-17T17:24:05.117211Z"
    }
   },
   "outputs": [],
   "source": [
    "def f1_score(predictions, ground_truth, labels=None, padding_index=0, batch_first=True):\n",
    "    \"\"\"\n",
    "    Returns F1-macro score over the given batch of data\n",
    "    \"\"\"\n",
    "    if batch_first:\n",
    "        predictions = predictions.view(-1, predictions.shape[-1])\n",
    "        ground_truth = ground_truth.view(-1)\n",
    "    max_predictions = predictions.argmax(dim=1)\n",
    "    non_pad_elements = torch.where(ground_truth != padding_index)[0]\n",
    "    return sklearn.metrics.f1_score(\n",
    "        ground_truth[non_pad_elements].cpu().detach().tolist(),\n",
    "        max_predictions[non_pad_elements].cpu().detach().tolist(),\n",
    "        labels=labels,\n",
    "        average=\"macro\",\n",
    "    )"
   ]
  },
  {
   "cell_type": "code",
   "execution_count": 739,
   "metadata": {
    "execution": {
     "iopub.execute_input": "2020-11-17T17:29:54.196264Z",
     "iopub.status.busy": "2020-11-17T17:29:54.195819Z",
     "iopub.status.idle": "2020-11-17T17:29:54.260824Z",
     "shell.execute_reply": "2020-11-17T17:29:54.259408Z",
     "shell.execute_reply.started": "2020-11-17T17:29:54.196221Z"
    }
   },
   "outputs": [],
   "source": [
    "def train(model, dataloader):\n",
    "    \"\"\"\n",
    "    Train the given model with the given dataloader\n",
    "    \"\"\"\n",
    "    epoch_loss, epoch_acc, epoch_f1 = 0, 0, 0\n",
    "    model.train()\n",
    "    dataloader_progress = tqdm(enumerate(dataloader))\n",
    "    for i, batch in dataloader_progress:\n",
    "        model.optimizer.zero_grad()\n",
    "        tokens, tags, tokens_lenghts, tags_lenghts = batch\n",
    "        predictions = model(tokens, tokens_lenghts)\n",
    "        loss = model.loss(predictions, tags)\n",
    "        acc = categorical_accuracy(predictions, tags)\n",
    "        f1 = f1_score(predictions, tags, labels=no_punct_tags_indexes)\n",
    "        loss.backward()\n",
    "        model.optimizer.step()\n",
    "        epoch_loss = epoch_loss + ((loss.item() - epoch_loss) / (i + 1))\n",
    "        epoch_acc = epoch_acc + ((acc.item() - epoch_acc) / (i + 1))\n",
    "        epoch_f1 = epoch_f1 + ((f1.item() - epoch_f1) / (i + 1))\n",
    "        dataloader_progress.set_postfix({\"epoch_train_f1\": f\"{epoch_f1 * 100:.2f}\"})\n",
    "\n",
    "    return epoch_loss, epoch_acc, epoch_f1"
   ]
  },
  {
   "cell_type": "code",
   "execution_count": 740,
   "metadata": {
    "execution": {
     "iopub.execute_input": "2020-11-17T17:29:54.733102Z",
     "iopub.status.busy": "2020-11-17T17:29:54.732780Z",
     "iopub.status.idle": "2020-11-17T17:29:54.795833Z",
     "shell.execute_reply": "2020-11-17T17:29:54.794700Z",
     "shell.execute_reply.started": "2020-11-17T17:29:54.733062Z"
    }
   },
   "outputs": [],
   "source": [
    "def evaluate(model, dataloader):\n",
    "    \"\"\"\n",
    "    Evaluate the given model with the given dataloader\n",
    "    \"\"\"\n",
    "    epoch_loss, epoch_acc, epoch_f1 = 0, 0, 0\n",
    "    model.eval()\n",
    "    with torch.no_grad():\n",
    "        dataloader_progress = tqdm(enumerate(dataloader))\n",
    "        for i, batch in dataloader_progress:\n",
    "            tokens, tags, tokens_lenghts, tags_lenghts = batch\n",
    "            predictions = model(tokens, tokens_lenghts)\n",
    "            loss = model.loss(predictions, tags)\n",
    "            acc = categorical_accuracy(predictions, tags)\n",
    "            f1 = f1_score(predictions, tags, no_punct_tags_indexes)\n",
    "            epoch_loss = epoch_loss + ((loss.item() - epoch_loss) / (i + 1))\n",
    "            epoch_acc = epoch_acc + ((acc.item() - epoch_acc) / (i + 1))\n",
    "            epoch_f1 = epoch_f1 + ((f1.item() - epoch_f1) / (i + 1))\n",
    "            dataloader_progress.set_postfix({\"epoch_val_f1\": f\"{epoch_f1 * 100:.2f}\"})\n",
    "\n",
    "    return epoch_loss, epoch_acc, epoch_f1"
   ]
  },
  {
   "cell_type": "code",
   "execution_count": 741,
   "metadata": {
    "execution": {
     "iopub.execute_input": "2020-11-17T17:29:55.428336Z",
     "iopub.status.busy": "2020-11-17T17:29:55.428008Z",
     "iopub.status.idle": "2020-11-17T17:29:55.493169Z",
     "shell.execute_reply": "2020-11-17T17:29:55.491955Z",
     "shell.execute_reply.started": "2020-11-17T17:29:55.428295Z"
    }
   },
   "outputs": [],
   "source": [
    "def train_val_test(\n",
    "    model, model_name, train_dataloader, val_dataloader, test_dataloader, epochs=10\n",
    "):\n",
    "    \"\"\"\n",
    "    Perform training, validation and testing on the given model,\n",
    "    for the specified number of epochs\n",
    "    \"\"\"\n",
    "    history = {\n",
    "        \"train_loss\": [],\n",
    "        \"train_acc\": [],\n",
    "        \"train_f1\": [],\n",
    "        \"val_loss\": [],\n",
    "        \"val_acc\": [],\n",
    "        \"val_f1\": [],\n",
    "    }\n",
    "    best_val_loss = float(\"inf\")\n",
    "    epoch_progress = tqdm(range(epochs))\n",
    "    for epoch in epoch_progress:\n",
    "        # Perform training\n",
    "        train_loss, train_acc, train_f1 = train(model, train_dataloader)\n",
    "        history[\"train_loss\"].append(train_loss)\n",
    "        history[\"train_acc\"].append(train_acc)\n",
    "        history[\"train_f1\"].append(train_f1)\n",
    "\n",
    "        # Perform evaluation\n",
    "        val_loss, val_acc, val_f1 = evaluate(model, val_dataloader)\n",
    "        history[\"val_loss\"].append(val_loss)\n",
    "        history[\"val_acc\"].append(val_acc)\n",
    "        history[\"val_f1\"].append(val_f1)\n",
    "\n",
    "        # Update progress bar\n",
    "        epoch_progress.set_postfix({\"val_acc\": f\"{val_acc * 100:.2f}\"})\n",
    "\n",
    "        # Save the best model so far\n",
    "        if val_loss < best_val_loss:\n",
    "            best_val_loss = val_loss\n",
    "            torch.save(model.state_dict(), f\"models/{model_name}.pt\")\n",
    "\n",
    "    # Test the model\n",
    "    model.load_state_dict(torch.load(f\"models/{model_name}.pt\"))\n",
    "    test_loss, test_acc, test_f1 = evaluate(model, test_dataloader)\n",
    "    print(\n",
    "        f\"Test loss: {test_loss:.3f} | Test accuracy: {test_acc * 100:.2f}% | Test F1: {test_f1 * 100:.2f}%\"\n",
    "    )\n",
    "\n",
    "    return history"
   ]
  },
  {
   "cell_type": "code",
   "execution_count": 742,
   "metadata": {
    "execution": {
     "iopub.execute_input": "2020-11-17T17:29:56.982371Z",
     "iopub.status.busy": "2020-11-17T17:29:56.982005Z",
     "iopub.status.idle": "2020-11-17T17:29:57.043394Z",
     "shell.execute_reply": "2020-11-17T17:29:57.042242Z",
     "shell.execute_reply.started": "2020-11-17T17:29:56.982330Z"
    }
   },
   "outputs": [],
   "source": [
    "def plot_history(history, nrows=2, ncols=3):\n",
    "    \"\"\"\n",
    "    Given an history dictionary (as built in the `train_val_test` function),\n",
    "    plots the whole training information\n",
    "    \"\"\"\n",
    "    assert nrows * ncols == len(history)\n",
    "    fig, axes = plt.subplots(nrows, ncols)\n",
    "    grid = np.arange(len(history)).reshape(nrows, ncols)\n",
    "    for v, k in enumerate(history):\n",
    "        i, j = np.argwhere(grid == v).reshape(-1)\n",
    "        axes[i, j].plot(history[k])\n",
    "        axes[i, j].legend([k])\n",
    "    plt.tight_layout()\n",
    "    plt.show()"
   ]
  },
  {
   "cell_type": "markdown",
   "metadata": {},
   "source": [
    "## Model definition"
   ]
  },
  {
   "cell_type": "code",
   "execution_count": 687,
   "metadata": {
    "execution": {
     "iopub.execute_input": "2020-11-17T16:40:27.917942Z",
     "iopub.status.busy": "2020-11-17T16:40:27.917514Z",
     "iopub.status.idle": "2020-11-17T16:40:27.994904Z",
     "shell.execute_reply": "2020-11-17T16:40:27.993668Z",
     "shell.execute_reply.started": "2020-11-17T16:40:27.917899Z"
    }
   },
   "outputs": [],
   "source": [
    "class POSTaggingModel(nn.Module):\n",
    "    def __init__(\n",
    "        self,\n",
    "        input_dimension,\n",
    "        embedding_dimension,\n",
    "        hidden_dimension,\n",
    "        output_dimension,\n",
    "        embedding_matrix=None,\n",
    "        retrain_embeddings=True,\n",
    "        gru=True,\n",
    "        num_layers=1,\n",
    "        bidirectional=True,\n",
    "        dropout_rate=0.0,\n",
    "        lr=1e-3,\n",
    "        padding_index=0,\n",
    "        crf=False,\n",
    "    ):\n",
    "        \"\"\"\n",
    "        Build a generic POS tagging model, with recurrent modules\n",
    "        \"\"\"\n",
    "        super().__init__()\n",
    "        \n",
    "        # Padding\n",
    "        self.padding_index = padding_index\n",
    "        \n",
    "        # Get device\n",
    "        self.device = torch.device(\"cuda\" if torch.cuda.is_available() else \"cpu\")\n",
    "        \n",
    "        # Embedding module\n",
    "        self.embedding = nn.Embedding(\n",
    "            input_dimension, embedding_dimension, padding_idx=self.padding_index\n",
    "        )\n",
    "        if embedding_matrix is not None:\n",
    "            assert (\n",
    "                embedding_matrix.shape[0] == input_dimension\n",
    "                and embedding_matrix.shape[1] == embedding_dimension\n",
    "            )\n",
    "            self.embedding.weight = nn.Parameter(torch.FloatTensor(embedding_matrix))\n",
    "        self.embedding.weight.requires_grad = retrain_embeddings\n",
    "\n",
    "        # Recurrent module\n",
    "        recurrent_module = nn.GRU if gru else nn.LSTM\n",
    "        self.recurrent_module = recurrent_module(\n",
    "            embedding_dimension,\n",
    "            hidden_dimension,\n",
    "            batch_first=True,\n",
    "            num_layers=num_layers,\n",
    "            bidirectional=bidirectional,\n",
    "            dropout=dropout_rate if num_layers > 1 else 0,\n",
    "        )\n",
    "\n",
    "        # Dense and dropout layers\n",
    "        self.dense = nn.Linear(\n",
    "            hidden_dimension * 2 if bidirectional else hidden_dimension,\n",
    "            output_dimension,\n",
    "        )\n",
    "        self.dropout = nn.Dropout(dropout_rate)\n",
    "\n",
    "        # Criterion\n",
    "        self.crf = crf\n",
    "        self.criterion = (\n",
    "            nn.CrossEntropyLoss(ignore_index=padding_index).to(self.device)\n",
    "            if not self.crf\n",
    "            else CRF(output_dimension, batch_first=True)\n",
    "        )\n",
    "\n",
    "        # Optimizer\n",
    "        self.lr = lr\n",
    "        self.optimizer = optim.Adam(self.parameters(), lr=lr)\n",
    "        \n",
    "        # Transfer model to device\n",
    "        self.to(self.device)\n",
    "\n",
    "    def forward(self, tokens, tokens_lenghts):\n",
    "        embedded = self.dropout(self.embedding(tokens))\n",
    "        packed = pack_padded_sequence(\n",
    "            embedded, tokens_lenghts, batch_first=True, enforce_sorted=False\n",
    "        )\n",
    "        packed_outputs, (hidden, cell) = self.recurrent_module(packed)\n",
    "        padded_outputs, outputs_lengths = pad_packed_sequence(\n",
    "            packed_outputs, batch_first=True\n",
    "        )\n",
    "        predictions = self.dense(self.dropout(padded_outputs))\n",
    "        return predictions\n",
    "\n",
    "    def loss(self, predictions, tags):\n",
    "        if not self.crf:\n",
    "            predictions = predictions.view(-1, predictions.shape[-1])\n",
    "            tags = tags.view(-1)\n",
    "            return self.criterion(predictions, tags)\n",
    "        \n",
    "        mask = torch.zeros(tags.shape, dtype=torch.uint8)\n",
    "        mask[mask == self.padding_index] = 0\n",
    "        return -self.criterion(predictions, tags, mask=mask)"
   ]
  },
  {
   "cell_type": "code",
   "execution_count": 688,
   "metadata": {
    "execution": {
     "iopub.execute_input": "2020-11-17T16:40:28.438229Z",
     "iopub.status.busy": "2020-11-17T16:40:28.437910Z",
     "iopub.status.idle": "2020-11-17T16:40:28.495307Z",
     "shell.execute_reply": "2020-11-17T16:40:28.494071Z",
     "shell.execute_reply.started": "2020-11-17T16:40:28.438189Z"
    }
   },
   "outputs": [],
   "source": [
    "def count_parameters(model):\n",
    "    return sum(p.numel() for p in model.parameters() if p.requires_grad)"
   ]
  },
  {
   "cell_type": "code",
   "execution_count": 689,
   "metadata": {
    "execution": {
     "iopub.execute_input": "2020-11-17T16:40:28.497473Z",
     "iopub.status.busy": "2020-11-17T16:40:28.497175Z",
     "iopub.status.idle": "2020-11-17T16:40:28.549057Z",
     "shell.execute_reply": "2020-11-17T16:40:28.547482Z",
     "shell.execute_reply.started": "2020-11-17T16:40:28.497436Z"
    }
   },
   "outputs": [],
   "source": [
    "def init_weights(model):\n",
    "    for name, param in model.named_parameters():\n",
    "        nn.init.normal_(param.data, mean=0, std=0.1)"
   ]
  },
  {
   "cell_type": "code",
   "execution_count": 744,
   "metadata": {
    "execution": {
     "iopub.execute_input": "2020-11-17T17:31:41.190704Z",
     "iopub.status.busy": "2020-11-17T17:31:41.190240Z",
     "iopub.status.idle": "2020-11-17T17:31:41.248691Z",
     "shell.execute_reply": "2020-11-17T17:31:41.247382Z",
     "shell.execute_reply.started": "2020-11-17T17:31:41.190660Z"
    }
   },
   "outputs": [],
   "source": [
    "hidden_dimension = 128\n",
    "num_epochs = 30"
   ]
  },
  {
   "cell_type": "markdown",
   "metadata": {},
   "source": [
    "## Baseline model (BiLSTM + FC)"
   ]
  },
  {
   "cell_type": "code",
   "execution_count": 691,
   "metadata": {
    "execution": {
     "iopub.execute_input": "2020-11-17T16:40:29.564285Z",
     "iopub.status.busy": "2020-11-17T16:40:29.563955Z",
     "iopub.status.idle": "2020-11-17T16:40:29.761497Z",
     "shell.execute_reply": "2020-11-17T16:40:29.760209Z",
     "shell.execute_reply.started": "2020-11-17T16:40:29.564244Z"
    }
   },
   "outputs": [],
   "source": [
    "bilstm_fc_model = POSTaggingModel(\n",
    "    len(word_to_index),\n",
    "    embedding_dimension,\n",
    "    hidden_dimension,\n",
    "    len(tag_to_index),\n",
    "    embedding_matrix=embedding_matrix,\n",
    "    retrain_embeddings=False,\n",
    "    gru=False,\n",
    "    num_layers=1,\n",
    "    bidirectional=True,\n",
    "    dropout_rate=0.0,\n",
    "    padding_index=tag_to_index[PADDING_TOKEN],\n",
    "    crf=False,\n",
    ")"
   ]
  },
  {
   "cell_type": "code",
   "execution_count": 692,
   "metadata": {
    "execution": {
     "iopub.execute_input": "2020-11-17T16:40:31.514207Z",
     "iopub.status.busy": "2020-11-17T16:40:31.513879Z",
     "iopub.status.idle": "2020-11-17T16:40:31.572254Z",
     "shell.execute_reply": "2020-11-17T16:40:31.571027Z",
     "shell.execute_reply.started": "2020-11-17T16:40:31.514167Z"
    }
   },
   "outputs": [
    {
     "name": "stdout",
     "output_type": "stream",
     "text": [
      "The model has 452,142 trainable parameters\n"
     ]
    }
   ],
   "source": [
    "print(f\"The model has {count_parameters(bilstm_fc_model):,} trainable parameters\")"
   ]
  },
  {
   "cell_type": "code",
   "execution_count": 693,
   "metadata": {
    "execution": {
     "iopub.execute_input": "2020-11-17T16:40:31.887302Z",
     "iopub.status.busy": "2020-11-17T16:40:31.886977Z",
     "iopub.status.idle": "2020-11-17T16:40:32.222910Z",
     "shell.execute_reply": "2020-11-17T16:40:32.221740Z",
     "shell.execute_reply.started": "2020-11-17T16:40:31.887261Z"
    }
   },
   "outputs": [
    {
     "data": {
      "text/plain": [
       "POSTaggingModel(\n",
       "  (embedding): Embedding(9965, 300, padding_idx=0)\n",
       "  (recurrent_module): LSTM(300, 128, batch_first=True, bidirectional=True)\n",
       "  (dense): Linear(in_features=256, out_features=46, bias=True)\n",
       "  (dropout): Dropout(p=0.0, inplace=False)\n",
       "  (criterion): CrossEntropyLoss()\n",
       ")"
      ]
     },
     "execution_count": 693,
     "metadata": {},
     "output_type": "execute_result"
    }
   ],
   "source": [
    "bilstm_fc_model.apply(init_weights)"
   ]
  },
  {
   "cell_type": "code",
   "execution_count": 743,
   "metadata": {
    "execution": {
     "iopub.execute_input": "2020-11-17T17:30:03.489548Z",
     "iopub.status.busy": "2020-11-17T17:30:03.489105Z",
     "iopub.status.idle": "2020-11-17T17:30:44.943231Z",
     "shell.execute_reply": "2020-11-17T17:30:44.941205Z",
     "shell.execute_reply.started": "2020-11-17T17:30:03.489505Z"
    }
   },
   "outputs": [
    {
     "data": {
      "application/vnd.jupyter.widget-view+json": {
       "model_id": "7a63fb8d4910437c87fdbad0d7c861c5",
       "version_major": 2,
       "version_minor": 0
      },
      "text/plain": [
       "HBox(children=(HTML(value=''), FloatProgress(value=0.0, max=2.0), HTML(value='')))"
      ]
     },
     "metadata": {},
     "output_type": "display_data"
    },
    {
     "data": {
      "application/vnd.jupyter.widget-view+json": {
       "model_id": "a382ad0bc0aa46a7813f75297064ae6f",
       "version_major": 2,
       "version_minor": 0
      },
      "text/plain": [
       "HBox(children=(HTML(value=''), FloatProgress(value=1.0, bar_style='info', layout=Layout(width='20px'), max=1.0…"
      ]
     },
     "metadata": {},
     "output_type": "display_data"
    },
    {
     "name": "stdout",
     "output_type": "stream",
     "text": [
      "\n",
      "\n"
     ]
    },
    {
     "ename": "KeyboardInterrupt",
     "evalue": "",
     "output_type": "error",
     "traceback": [
      "\u001b[0;31m---------------------------------------------------------------------------\u001b[0m",
      "\u001b[0;31mKeyboardInterrupt\u001b[0m                         Traceback (most recent call last)",
      "\u001b[0;32m<ipython-input-743-72fe8df170c9>\u001b[0m in \u001b[0;36m<module>\u001b[0;34m\u001b[0m\n\u001b[0;32m----> 1\u001b[0;31m bilstm_fc_model_history = train_val_test(\n\u001b[0m\u001b[1;32m      2\u001b[0m     \u001b[0mbilstm_fc_model\u001b[0m\u001b[0;34m,\u001b[0m\u001b[0;34m\u001b[0m\u001b[0;34m\u001b[0m\u001b[0m\n\u001b[1;32m      3\u001b[0m     \u001b[0;34m\"bilstm_fc_model\"\u001b[0m\u001b[0;34m,\u001b[0m\u001b[0;34m\u001b[0m\u001b[0;34m\u001b[0m\u001b[0m\n\u001b[1;32m      4\u001b[0m     \u001b[0mtrain_dataloader\u001b[0m\u001b[0;34m,\u001b[0m\u001b[0;34m\u001b[0m\u001b[0;34m\u001b[0m\u001b[0m\n\u001b[1;32m      5\u001b[0m     \u001b[0mval_dataloader\u001b[0m\u001b[0;34m,\u001b[0m\u001b[0;34m\u001b[0m\u001b[0;34m\u001b[0m\u001b[0m\n",
      "\u001b[0;32m<ipython-input-741-f702280efd39>\u001b[0m in \u001b[0;36mtrain_val_test\u001b[0;34m(model, model_name, train_dataloader, val_dataloader, test_dataloader, epochs)\u001b[0m\n\u001b[1;32m     18\u001b[0m     \u001b[0;32mfor\u001b[0m \u001b[0mepoch\u001b[0m \u001b[0;32min\u001b[0m \u001b[0mepoch_progress\u001b[0m\u001b[0;34m:\u001b[0m\u001b[0;34m\u001b[0m\u001b[0;34m\u001b[0m\u001b[0m\n\u001b[1;32m     19\u001b[0m         \u001b[0;31m# Perform training\u001b[0m\u001b[0;34m\u001b[0m\u001b[0;34m\u001b[0m\u001b[0;34m\u001b[0m\u001b[0m\n\u001b[0;32m---> 20\u001b[0;31m         \u001b[0mtrain_loss\u001b[0m\u001b[0;34m,\u001b[0m \u001b[0mtrain_acc\u001b[0m\u001b[0;34m,\u001b[0m \u001b[0mtrain_f1\u001b[0m \u001b[0;34m=\u001b[0m \u001b[0mtrain\u001b[0m\u001b[0;34m(\u001b[0m\u001b[0mmodel\u001b[0m\u001b[0;34m,\u001b[0m \u001b[0mtrain_dataloader\u001b[0m\u001b[0;34m)\u001b[0m\u001b[0;34m\u001b[0m\u001b[0;34m\u001b[0m\u001b[0m\n\u001b[0m\u001b[1;32m     21\u001b[0m         \u001b[0mhistory\u001b[0m\u001b[0;34m[\u001b[0m\u001b[0;34m\"train_loss\"\u001b[0m\u001b[0;34m]\u001b[0m\u001b[0;34m.\u001b[0m\u001b[0mappend\u001b[0m\u001b[0;34m(\u001b[0m\u001b[0mtrain_loss\u001b[0m\u001b[0;34m)\u001b[0m\u001b[0;34m\u001b[0m\u001b[0;34m\u001b[0m\u001b[0m\n\u001b[1;32m     22\u001b[0m         \u001b[0mhistory\u001b[0m\u001b[0;34m[\u001b[0m\u001b[0;34m\"train_acc\"\u001b[0m\u001b[0;34m]\u001b[0m\u001b[0;34m.\u001b[0m\u001b[0mappend\u001b[0m\u001b[0;34m(\u001b[0m\u001b[0mtrain_acc\u001b[0m\u001b[0;34m)\u001b[0m\u001b[0;34m\u001b[0m\u001b[0;34m\u001b[0m\u001b[0m\n",
      "\u001b[0;32m<ipython-input-739-aab6c888852c>\u001b[0m in \u001b[0;36mtrain\u001b[0;34m(model, dataloader)\u001b[0m\n\u001b[1;32m     13\u001b[0m         \u001b[0macc\u001b[0m \u001b[0;34m=\u001b[0m \u001b[0mcategorical_accuracy\u001b[0m\u001b[0;34m(\u001b[0m\u001b[0mpredictions\u001b[0m\u001b[0;34m,\u001b[0m \u001b[0mtags\u001b[0m\u001b[0;34m)\u001b[0m\u001b[0;34m\u001b[0m\u001b[0;34m\u001b[0m\u001b[0m\n\u001b[1;32m     14\u001b[0m         \u001b[0mf1\u001b[0m \u001b[0;34m=\u001b[0m \u001b[0mf1_score\u001b[0m\u001b[0;34m(\u001b[0m\u001b[0mpredictions\u001b[0m\u001b[0;34m,\u001b[0m \u001b[0mtags\u001b[0m\u001b[0;34m,\u001b[0m \u001b[0mlabels\u001b[0m\u001b[0;34m=\u001b[0m\u001b[0mno_punct_tags_indexes\u001b[0m\u001b[0;34m)\u001b[0m\u001b[0;34m\u001b[0m\u001b[0;34m\u001b[0m\u001b[0m\n\u001b[0;32m---> 15\u001b[0;31m         \u001b[0mloss\u001b[0m\u001b[0;34m.\u001b[0m\u001b[0mbackward\u001b[0m\u001b[0;34m(\u001b[0m\u001b[0;34m)\u001b[0m\u001b[0;34m\u001b[0m\u001b[0;34m\u001b[0m\u001b[0m\n\u001b[0m\u001b[1;32m     16\u001b[0m         \u001b[0mmodel\u001b[0m\u001b[0;34m.\u001b[0m\u001b[0moptimizer\u001b[0m\u001b[0;34m.\u001b[0m\u001b[0mstep\u001b[0m\u001b[0;34m(\u001b[0m\u001b[0;34m)\u001b[0m\u001b[0;34m\u001b[0m\u001b[0;34m\u001b[0m\u001b[0m\n\u001b[1;32m     17\u001b[0m         \u001b[0mepoch_loss\u001b[0m \u001b[0;34m=\u001b[0m \u001b[0mepoch_loss\u001b[0m \u001b[0;34m+\u001b[0m \u001b[0;34m(\u001b[0m\u001b[0;34m(\u001b[0m\u001b[0mloss\u001b[0m\u001b[0;34m.\u001b[0m\u001b[0mitem\u001b[0m\u001b[0;34m(\u001b[0m\u001b[0;34m)\u001b[0m \u001b[0;34m-\u001b[0m \u001b[0mepoch_loss\u001b[0m\u001b[0;34m)\u001b[0m \u001b[0;34m/\u001b[0m \u001b[0;34m(\u001b[0m\u001b[0mi\u001b[0m \u001b[0;34m+\u001b[0m \u001b[0;36m1\u001b[0m\u001b[0;34m)\u001b[0m\u001b[0;34m)\u001b[0m\u001b[0;34m\u001b[0m\u001b[0;34m\u001b[0m\u001b[0m\n",
      "\u001b[0;32m~/anaconda3/lib/python3.8/site-packages/torch/tensor.py\u001b[0m in \u001b[0;36mbackward\u001b[0;34m(self, gradient, retain_graph, create_graph)\u001b[0m\n\u001b[1;32m    219\u001b[0m                 \u001b[0mretain_graph\u001b[0m\u001b[0;34m=\u001b[0m\u001b[0mretain_graph\u001b[0m\u001b[0;34m,\u001b[0m\u001b[0;34m\u001b[0m\u001b[0;34m\u001b[0m\u001b[0m\n\u001b[1;32m    220\u001b[0m                 create_graph=create_graph)\n\u001b[0;32m--> 221\u001b[0;31m         \u001b[0mtorch\u001b[0m\u001b[0;34m.\u001b[0m\u001b[0mautograd\u001b[0m\u001b[0;34m.\u001b[0m\u001b[0mbackward\u001b[0m\u001b[0;34m(\u001b[0m\u001b[0mself\u001b[0m\u001b[0;34m,\u001b[0m \u001b[0mgradient\u001b[0m\u001b[0;34m,\u001b[0m \u001b[0mretain_graph\u001b[0m\u001b[0;34m,\u001b[0m \u001b[0mcreate_graph\u001b[0m\u001b[0;34m)\u001b[0m\u001b[0;34m\u001b[0m\u001b[0;34m\u001b[0m\u001b[0m\n\u001b[0m\u001b[1;32m    222\u001b[0m \u001b[0;34m\u001b[0m\u001b[0m\n\u001b[1;32m    223\u001b[0m     \u001b[0;32mdef\u001b[0m \u001b[0mregister_hook\u001b[0m\u001b[0;34m(\u001b[0m\u001b[0mself\u001b[0m\u001b[0;34m,\u001b[0m \u001b[0mhook\u001b[0m\u001b[0;34m)\u001b[0m\u001b[0;34m:\u001b[0m\u001b[0;34m\u001b[0m\u001b[0;34m\u001b[0m\u001b[0m\n",
      "\u001b[0;32m~/anaconda3/lib/python3.8/site-packages/torch/autograd/__init__.py\u001b[0m in \u001b[0;36mbackward\u001b[0;34m(tensors, grad_tensors, retain_graph, create_graph, grad_variables)\u001b[0m\n\u001b[1;32m    128\u001b[0m         \u001b[0mretain_graph\u001b[0m \u001b[0;34m=\u001b[0m \u001b[0mcreate_graph\u001b[0m\u001b[0;34m\u001b[0m\u001b[0;34m\u001b[0m\u001b[0m\n\u001b[1;32m    129\u001b[0m \u001b[0;34m\u001b[0m\u001b[0m\n\u001b[0;32m--> 130\u001b[0;31m     Variable._execution_engine.run_backward(\n\u001b[0m\u001b[1;32m    131\u001b[0m         \u001b[0mtensors\u001b[0m\u001b[0;34m,\u001b[0m \u001b[0mgrad_tensors_\u001b[0m\u001b[0;34m,\u001b[0m \u001b[0mretain_graph\u001b[0m\u001b[0;34m,\u001b[0m \u001b[0mcreate_graph\u001b[0m\u001b[0;34m,\u001b[0m\u001b[0;34m\u001b[0m\u001b[0;34m\u001b[0m\u001b[0m\n\u001b[1;32m    132\u001b[0m         allow_unreachable=True)  # allow_unreachable flag\n",
      "\u001b[0;31mKeyboardInterrupt\u001b[0m: "
     ]
    }
   ],
   "source": [
    "bilstm_fc_model_history = train_val_test(\n",
    "    bilstm_fc_model,\n",
    "    \"bilstm_fc_model\",\n",
    "    train_dataloader,\n",
    "    val_dataloader,\n",
    "    test_dataloader,\n",
    "    epochs=num_epochs,\n",
    ")"
   ]
  },
  {
   "cell_type": "code",
   "execution_count": 728,
   "metadata": {
    "execution": {
     "iopub.execute_input": "2020-11-17T17:13:06.152495Z",
     "iopub.status.busy": "2020-11-17T17:13:06.152046Z",
     "iopub.status.idle": "2020-11-17T17:13:07.676276Z",
     "shell.execute_reply": "2020-11-17T17:13:07.675011Z",
     "shell.execute_reply.started": "2020-11-17T17:13:06.152452Z"
    }
   },
   "outputs": [
    {
     "data": {
      "image/png": "[encoded data removed]",
      "text/plain": [
       "<Figure size 800x600 with 6 Axes>"
      ]
     },
     "metadata": {},
     "output_type": "display_data"
    }
   ],
   "source": [
    "plot_history(bilstm_fc_model_history, nrows=2, ncols=3)"
   ]
  },
  {
   "cell_type": "markdown",
   "metadata": {},
   "source": [
    "## BiGRU + FC"
   ]
  },
  {
   "cell_type": "code",
   "execution_count": 445,
   "metadata": {
    "execution": {
     "iopub.execute_input": "2020-11-17T10:11:15.715309Z",
     "iopub.status.busy": "2020-11-17T10:11:15.714981Z",
     "iopub.status.idle": "2020-11-17T10:11:15.802305Z",
     "shell.execute_reply": "2020-11-17T10:11:15.801178Z",
     "shell.execute_reply.started": "2020-11-17T10:11:15.715268Z"
    }
   },
   "outputs": [],
   "source": [
    "bigru_fc_model = POSTaggingModel(\n",
    "    len(word_to_index),\n",
    "    embedding_dimension,\n",
    "    hidden_dimension,\n",
    "    len(tag_to_index),\n",
    "    embedding_matrix=embedding_matrix,\n",
    "    retrain_embeddings=False,\n",
    "    gru=True,\n",
    "    num_layers=1,\n",
    "    bidirectional=True,\n",
    "    dropout_rate=0.0,\n",
    "    padding_token=PADDING_TOKEN,\n",
    "    padding_index=tags_to_index[PADDING_TOKEN],\n",
    "    crf=False\n",
    ")"
   ]
  },
  {
   "cell_type": "code",
   "execution_count": 446,
   "metadata": {
    "execution": {
     "iopub.execute_input": "2020-11-17T10:11:16.154522Z",
     "iopub.status.busy": "2020-11-17T10:11:16.154206Z",
     "iopub.status.idle": "2020-11-17T10:11:16.212521Z",
     "shell.execute_reply": "2020-11-17T10:11:16.211345Z",
     "shell.execute_reply.started": "2020-11-17T10:11:16.154482Z"
    }
   },
   "outputs": [
    {
     "name": "stdout",
     "output_type": "stream",
     "text": [
      "The model has 150,062 trainable parameters\n"
     ]
    }
   ],
   "source": [
    "print(f\"The model has {count_parameters(bigru_fc_model):,} trainable parameters\")"
   ]
  },
  {
   "cell_type": "code",
   "execution_count": 447,
   "metadata": {
    "execution": {
     "iopub.execute_input": "2020-11-17T10:11:19.430006Z",
     "iopub.status.busy": "2020-11-17T10:11:19.429572Z",
     "iopub.status.idle": "2020-11-17T10:11:19.554604Z",
     "shell.execute_reply": "2020-11-17T10:11:19.553544Z",
     "shell.execute_reply.started": "2020-11-17T10:11:19.429962Z"
    }
   },
   "outputs": [
    {
     "data": {
      "text/plain": [
       "POSTaggingModel(\n",
       "  (embedding): Embedding(9965, 50, padding_idx=0)\n",
       "  (recurrent_module): GRU(50, 128, batch_first=True, bidirectional=True)\n",
       "  (dense): Linear(in_features=256, out_features=46, bias=True)\n",
       "  (dropout): Dropout(p=0.0, inplace=False)\n",
       "  (criterion): CrossEntropyLoss()\n",
       ")"
      ]
     },
     "execution_count": 447,
     "metadata": {},
     "output_type": "execute_result"
    }
   ],
   "source": [
    "bigru_fc_model.apply(init_weights)"
   ]
  },
  {
   "cell_type": "code",
   "execution_count": 454,
   "metadata": {
    "execution": {
     "iopub.execute_input": "2020-11-17T10:11:42.491283Z",
     "iopub.status.busy": "2020-11-17T10:11:42.490957Z",
     "iopub.status.idle": "2020-11-17T10:25:00.206313Z",
     "shell.execute_reply": "2020-11-17T10:25:00.204026Z",
     "shell.execute_reply.started": "2020-11-17T10:11:42.491242Z"
    }
   },
   "outputs": [
    {
     "name": "stderr",
     "output_type": "stream",
     "text": [
      "  0%|          | 0/20 [00:00<?, ?it/s]"
     ]
    },
    {
     "name": "stdout",
     "output_type": "stream",
     "text": [
      "Epoch: 01\n",
      "Training...\n"
     ]
    },
    {
     "name": "stderr",
     "output_type": "stream",
     "text": [
      "100%|██████████| 20/20 [01:22<00:00,  4.15s/it]\n",
      "  0%|          | 0/10 [00:00<?, ?it/s]"
     ]
    },
    {
     "name": "stdout",
     "output_type": "stream",
     "text": [
      "Evaluating...\n"
     ]
    },
    {
     "name": "stderr",
     "output_type": "stream",
     "text": [
      "100%|██████████| 10/10 [00:05<00:00,  1.90it/s]\n",
      "  0%|          | 0/20 [00:00<?, ?it/s]"
     ]
    },
    {
     "name": "stdout",
     "output_type": "stream",
     "text": [
      "Epoch Time: 88.30042099952698s\n",
      "Train loss: 3.349 | Train accuracy: 12.84% | Train F1: 1.42%\n",
      "Validation loss: 2.953 | Validation accuracy: 14.02% | Validation F1: 1.48%\n",
      "Saving new checkpoint...\n",
      "\n",
      "Epoch: 02\n",
      "Training...\n"
     ]
    },
    {
     "name": "stderr",
     "output_type": "stream",
     "text": [
      "100%|██████████| 20/20 [01:14<00:00,  3.72s/it]\n",
      "  0%|          | 0/10 [00:00<?, ?it/s]"
     ]
    },
    {
     "name": "stdout",
     "output_type": "stream",
     "text": [
      "Evaluating...\n"
     ]
    },
    {
     "name": "stderr",
     "output_type": "stream",
     "text": [
      "100%|██████████| 10/10 [00:05<00:00,  1.91it/s]\n",
      "  0%|          | 0/20 [00:00<?, ?it/s]"
     ]
    },
    {
     "name": "stdout",
     "output_type": "stream",
     "text": [
      "Epoch Time: 79.6214325428009s\n",
      "Train loss: 2.848 | Train accuracy: 21.27% | Train F1: 3.18%\n",
      "Validation loss: 2.770 | Validation accuracy: 29.21% | Validation F1: 4.27%\n",
      "Saving new checkpoint...\n",
      "\n",
      "Epoch: 03\n",
      "Training...\n"
     ]
    },
    {
     "name": "stderr",
     "output_type": "stream",
     "text": [
      "100%|██████████| 20/20 [01:13<00:00,  3.67s/it]\n",
      "  0%|          | 0/10 [00:00<?, ?it/s]"
     ]
    },
    {
     "name": "stdout",
     "output_type": "stream",
     "text": [
      "Evaluating...\n"
     ]
    },
    {
     "name": "stderr",
     "output_type": "stream",
     "text": [
      "100%|██████████| 10/10 [00:05<00:00,  1.91it/s]\n",
      "  0%|          | 0/20 [00:00<?, ?it/s]"
     ]
    },
    {
     "name": "stdout",
     "output_type": "stream",
     "text": [
      "Epoch Time: 78.7057318687439s\n",
      "Train loss: 2.648 | Train accuracy: 32.41% | Train F1: 5.67%\n",
      "Validation loss: 2.535 | Validation accuracy: 39.08% | Validation F1: 8.70%\n",
      "Saving new checkpoint...\n",
      "\n",
      "Epoch: 04\n",
      "Training...\n"
     ]
    },
    {
     "name": "stderr",
     "output_type": "stream",
     "text": [
      "100%|██████████| 20/20 [01:14<00:00,  3.71s/it]\n",
      "  0%|          | 0/10 [00:00<?, ?it/s]"
     ]
    },
    {
     "name": "stdout",
     "output_type": "stream",
     "text": [
      "Evaluating...\n"
     ]
    },
    {
     "name": "stderr",
     "output_type": "stream",
     "text": [
      "100%|██████████| 10/10 [00:05<00:00,  1.90it/s]\n",
      "  0%|          | 0/20 [00:00<?, ?it/s]"
     ]
    },
    {
     "name": "stdout",
     "output_type": "stream",
     "text": [
      "Epoch Time: 79.58505821228027s\n",
      "Train loss: 2.401 | Train accuracy: 42.59% | Train F1: 9.56%\n",
      "Validation loss: 2.276 | Validation accuracy: 44.87% | Validation F1: 10.92%\n",
      "Saving new checkpoint...\n",
      "\n",
      "Epoch: 05\n",
      "Training...\n"
     ]
    },
    {
     "name": "stderr",
     "output_type": "stream",
     "text": [
      "100%|██████████| 20/20 [01:13<00:00,  3.70s/it]\n",
      "  0%|          | 0/10 [00:00<?, ?it/s]"
     ]
    },
    {
     "name": "stdout",
     "output_type": "stream",
     "text": [
      "Evaluating...\n"
     ]
    },
    {
     "name": "stderr",
     "output_type": "stream",
     "text": [
      "100%|██████████| 10/10 [00:05<00:00,  1.93it/s]\n",
      "  0%|          | 0/20 [00:00<?, ?it/s]"
     ]
    },
    {
     "name": "stdout",
     "output_type": "stream",
     "text": [
      "Epoch Time: 79.17587208747864s\n",
      "Train loss: 2.153 | Train accuracy: 45.70% | Train F1: 11.68%\n",
      "Validation loss: 2.053 | Validation accuracy: 46.25% | Validation F1: 12.36%\n",
      "Saving new checkpoint...\n",
      "\n",
      "Epoch: 06\n",
      "Training...\n"
     ]
    },
    {
     "name": "stderr",
     "output_type": "stream",
     "text": [
      "100%|██████████| 20/20 [01:12<00:00,  3.63s/it]\n",
      "  0%|          | 0/10 [00:00<?, ?it/s]"
     ]
    },
    {
     "name": "stdout",
     "output_type": "stream",
     "text": [
      "Evaluating...\n"
     ]
    },
    {
     "name": "stderr",
     "output_type": "stream",
     "text": [
      "100%|██████████| 10/10 [00:05<00:00,  1.93it/s]\n",
      "  0%|          | 0/20 [00:00<?, ?it/s]"
     ]
    },
    {
     "name": "stdout",
     "output_type": "stream",
     "text": [
      "Epoch Time: 77.77035212516785s\n",
      "Train loss: 1.950 | Train accuracy: 47.68% | Train F1: 13.93%\n",
      "Validation loss: 1.887 | Validation accuracy: 48.94% | Validation F1: 15.72%\n",
      "Saving new checkpoint...\n",
      "\n",
      "Epoch: 07\n",
      "Training...\n"
     ]
    },
    {
     "name": "stderr",
     "output_type": "stream",
     "text": [
      "100%|██████████| 20/20 [01:12<00:00,  3.63s/it]\n",
      "  0%|          | 0/10 [00:00<?, ?it/s]"
     ]
    },
    {
     "name": "stdout",
     "output_type": "stream",
     "text": [
      "Evaluating...\n"
     ]
    },
    {
     "name": "stderr",
     "output_type": "stream",
     "text": [
      "100%|██████████| 10/10 [00:05<00:00,  1.93it/s]\n",
      "  0%|          | 0/20 [00:00<?, ?it/s]"
     ]
    },
    {
     "name": "stdout",
     "output_type": "stream",
     "text": [
      "Epoch Time: 77.77018451690674s\n",
      "Train loss: 1.798 | Train accuracy: 51.01% | Train F1: 18.31%\n",
      "Validation loss: 1.761 | Validation accuracy: 52.64% | Validation F1: 21.40%\n",
      "Saving new checkpoint...\n",
      "\n",
      "Epoch: 08\n",
      "Training...\n"
     ]
    },
    {
     "name": "stderr",
     "output_type": "stream",
     "text": [
      "100%|██████████| 20/20 [01:13<00:00,  3.66s/it]\n",
      "  0%|          | 0/10 [00:00<?, ?it/s]"
     ]
    },
    {
     "name": "stdout",
     "output_type": "stream",
     "text": [
      "Evaluating...\n"
     ]
    },
    {
     "name": "stderr",
     "output_type": "stream",
     "text": [
      "100%|██████████| 10/10 [00:05<00:00,  1.93it/s]\n",
      "  0%|          | 0/20 [00:00<?, ?it/s]"
     ]
    },
    {
     "name": "stdout",
     "output_type": "stream",
     "text": [
      "Epoch Time: 78.4188117980957s\n",
      "Train loss: 1.682 | Train accuracy: 53.86% | Train F1: 22.77%\n",
      "Validation loss: 1.669 | Validation accuracy: 54.24% | Validation F1: 23.77%\n",
      "Saving new checkpoint...\n",
      "\n",
      "Epoch: 09\n",
      "Training...\n"
     ]
    },
    {
     "name": "stderr",
     "output_type": "stream",
     "text": [
      "100%|██████████| 20/20 [01:13<00:00,  3.67s/it]\n",
      "  0%|          | 0/10 [00:00<?, ?it/s]"
     ]
    },
    {
     "name": "stdout",
     "output_type": "stream",
     "text": [
      "Evaluating...\n"
     ]
    },
    {
     "name": "stderr",
     "output_type": "stream",
     "text": [
      "100%|██████████| 10/10 [00:05<00:00,  1.94it/s]\n",
      "  0%|          | 0/20 [00:00<?, ?it/s]"
     ]
    },
    {
     "name": "stdout",
     "output_type": "stream",
     "text": [
      "Epoch Time: 78.72956728935242s\n",
      "Train loss: 1.594 | Train accuracy: 55.42% | Train F1: 24.91%\n",
      "Validation loss: 1.601 | Validation accuracy: 55.34% | Validation F1: 25.26%\n",
      "Saving new checkpoint...\n",
      "\n",
      "Epoch: 10\n",
      "Training...\n"
     ]
    },
    {
     "name": "stderr",
     "output_type": "stream",
     "text": [
      "100%|██████████| 20/20 [01:14<00:00,  3.71s/it]\n",
      "  0%|          | 0/10 [00:00<?, ?it/s]"
     ]
    },
    {
     "name": "stdout",
     "output_type": "stream",
     "text": [
      "Evaluating...\n"
     ]
    },
    {
     "name": "stderr",
     "output_type": "stream",
     "text": [
      "100%|██████████| 10/10 [00:05<00:00,  1.92it/s]"
     ]
    },
    {
     "name": "stdout",
     "output_type": "stream",
     "text": [
      "Epoch Time: 79.40816378593445s\n",
      "Train loss: 1.525 | Train accuracy: 56.81% | Train F1: 26.50%\n",
      "Validation loss: 1.548 | Validation accuracy: 56.21% | Validation F1: 26.84%\n",
      "Saving new checkpoint...\n",
      "\n",
      "Testing...\n"
     ]
    },
    {
     "name": "stderr",
     "output_type": "stream",
     "text": [
      "\n"
     ]
    },
    {
     "ename": "TypeError",
     "evalue": "evaluate() takes 2 positional arguments but 3 were given",
     "output_type": "error",
     "traceback": [
      "\u001b[0;31m---------------------------------------------------------------------------\u001b[0m",
      "\u001b[0;31mTypeError\u001b[0m                                 Traceback (most recent call last)",
      "\u001b[0;32m<ipython-input-454-527bd1d1dab6>\u001b[0m in \u001b[0;36m<module>\u001b[0;34m\u001b[0m\n\u001b[0;32m----> 1\u001b[0;31m \u001b[0mtrain_val_test\u001b[0m\u001b[0;34m(\u001b[0m\u001b[0mbigru_fc_model\u001b[0m\u001b[0;34m,\u001b[0m \u001b[0;34m\"bigru_fc_model\"\u001b[0m\u001b[0;34m,\u001b[0m \u001b[0mepochs\u001b[0m\u001b[0;34m=\u001b[0m\u001b[0;36m10\u001b[0m\u001b[0;34m)\u001b[0m\u001b[0;34m\u001b[0m\u001b[0;34m\u001b[0m\u001b[0m\n\u001b[0m",
      "\u001b[0;32m<ipython-input-453-87829eef4fd6>\u001b[0m in \u001b[0;36mtrain_val_test\u001b[0;34m(model, model_name, epochs)\u001b[0m\n\u001b[1;32m     35\u001b[0m     \u001b[0mmodel\u001b[0m\u001b[0;34m.\u001b[0m\u001b[0mload_state_dict\u001b[0m\u001b[0;34m(\u001b[0m\u001b[0mtorch\u001b[0m\u001b[0;34m.\u001b[0m\u001b[0mload\u001b[0m\u001b[0;34m(\u001b[0m\u001b[0;34mf\"models/{model_name}.pt\"\u001b[0m\u001b[0;34m)\u001b[0m\u001b[0;34m)\u001b[0m\u001b[0;34m\u001b[0m\u001b[0;34m\u001b[0m\u001b[0m\n\u001b[1;32m     36\u001b[0m     \u001b[0mprint\u001b[0m\u001b[0;34m(\u001b[0m\u001b[0;34m\"Testing...\"\u001b[0m\u001b[0;34m)\u001b[0m\u001b[0;34m\u001b[0m\u001b[0;34m\u001b[0m\u001b[0m\n\u001b[0;32m---> 37\u001b[0;31m     \u001b[0mtest_loss\u001b[0m\u001b[0;34m,\u001b[0m \u001b[0mtest_acc\u001b[0m\u001b[0;34m,\u001b[0m \u001b[0mtest_f1\u001b[0m \u001b[0;34m=\u001b[0m \u001b[0mevaluate\u001b[0m\u001b[0;34m(\u001b[0m\u001b[0mmodel\u001b[0m\u001b[0;34m,\u001b[0m \u001b[0mtest_dataloader\u001b[0m\u001b[0;34m,\u001b[0m \u001b[0mcriterion\u001b[0m\u001b[0;34m)\u001b[0m\u001b[0;34m\u001b[0m\u001b[0;34m\u001b[0m\u001b[0m\n\u001b[0m\u001b[1;32m     38\u001b[0m     print(\n\u001b[1;32m     39\u001b[0m         \u001b[0;34mf\"Test loss: {test_loss:.3f} | Test accuracy: {test_acc * 100:.2f}% | Test F1: {test_f1 * 100:.2f}%\"\u001b[0m\u001b[0;34m\u001b[0m\u001b[0;34m\u001b[0m\u001b[0m\n",
      "\u001b[0;31mTypeError\u001b[0m: evaluate() takes 2 positional arguments but 3 were given"
     ]
    }
   ],
   "source": [
    "bigru_fc_model_history = train_val_test(\n",
    "    bigru_fc_model,\n",
    "    \"bigru_fc_model\",\n",
    "    train_dataloader,\n",
    "    val_dataloader,\n",
    "    test_dataloader,\n",
    "    epochs=num_epochs,\n",
    ")"
   ]
  },
  {
   "cell_type": "code",
   "execution_count": null,
   "metadata": {},
   "outputs": [],
   "source": [
    "plot_history(bigru_fc_model_history, nrows=2, ncols=3)"
   ]
  },
  {
   "cell_type": "markdown",
   "metadata": {},
   "source": [
    "## BiLSTMx2 + FC"
   ]
  },
  {
   "cell_type": "code",
   "execution_count": null,
   "metadata": {},
   "outputs": [],
   "source": [
    "bilstmx2_fc_model = POSTaggingModel(\n",
    "    len(word_to_index),\n",
    "    embedding_dimension,\n",
    "    hidden_dimension,\n",
    "    len(tag_to_index),\n",
    "    embedding_matrix=embedding_matrix,\n",
    "    retrain_embeddings=False,\n",
    "    gru=False,\n",
    "    num_layers=2,\n",
    "    bidirectional=True,\n",
    "    dropout_rate=0.0,\n",
    "    padding_token=PADDING_TOKEN,\n",
    "    padding_index=tags_to_index[PADDING_TOKEN],\n",
    "    crf=False\n",
    ")"
   ]
  },
  {
   "cell_type": "code",
   "execution_count": null,
   "metadata": {},
   "outputs": [],
   "source": [
    "print(f\"The model has {count_parameters(bilstmx2_fc_model):,} trainable parameters\")"
   ]
  },
  {
   "cell_type": "code",
   "execution_count": null,
   "metadata": {},
   "outputs": [],
   "source": [
    "bilstmx2_fc_model.apply(init_weights)"
   ]
  },
  {
   "cell_type": "code",
   "execution_count": null,
   "metadata": {},
   "outputs": [],
   "source": [
    "bilstmx2_fc_model_history = train_val_test(\n",
    "    bilstmx2_fc_model,\n",
    "    \"bigru_fc_model\",\n",
    "    train_dataloader,\n",
    "    val_dataloader,\n",
    "    test_dataloader,\n",
    "    epochs=num_epochs,\n",
    ")"
   ]
  },
  {
   "cell_type": "code",
   "execution_count": null,
   "metadata": {},
   "outputs": [],
   "source": [
    "plot_history(bilstmx2_fc_model_history, nrows=2, ncols=3)"
   ]
  },
  {
   "cell_type": "markdown",
   "metadata": {},
   "source": [
    "## BiLSTM + FC + CRF"
   ]
  },
  {
   "cell_type": "code",
   "execution_count": 590,
   "metadata": {
    "execution": {
     "iopub.execute_input": "2020-11-17T15:49:24.430097Z",
     "iopub.status.busy": "2020-11-17T15:49:24.429668Z",
     "iopub.status.idle": "2020-11-17T15:49:24.518156Z",
     "shell.execute_reply": "2020-11-17T15:49:24.516941Z",
     "shell.execute_reply.started": "2020-11-17T15:49:24.430055Z"
    }
   },
   "outputs": [],
   "source": [
    "bilstm_fc_crf_model = POSTaggingModel(\n",
    "    len(word_to_index),\n",
    "    embedding_dimension,\n",
    "    hidden_dimension,\n",
    "    len(tag_to_index),\n",
    "    embedding_matrix=embedding_matrix,\n",
    "    retrain_embeddings=False,\n",
    "    gru=False,\n",
    "    num_layers=1,\n",
    "    bidirectional=True,\n",
    "    dropout_rate=0.0,\n",
    "    padding_token=PADDING_TOKEN,\n",
    "    padding_index=tags_to_index[PADDING_TOKEN],\n",
    "    crf=True\n",
    ")"
   ]
  },
  {
   "cell_type": "code",
   "execution_count": 591,
   "metadata": {
    "execution": {
     "iopub.execute_input": "2020-11-17T15:49:24.897230Z",
     "iopub.status.busy": "2020-11-17T15:49:24.896904Z",
     "iopub.status.idle": "2020-11-17T15:49:24.956255Z",
     "shell.execute_reply": "2020-11-17T15:49:24.955060Z",
     "shell.execute_reply.started": "2020-11-17T15:49:24.897189Z"
    }
   },
   "outputs": [
    {
     "name": "stdout",
     "output_type": "stream",
     "text": [
      "The model has 198,350 trainable parameters\n"
     ]
    }
   ],
   "source": [
    "print(f\"The model has {count_parameters(bilstm_fc_crf_model):,} trainable parameters\")"
   ]
  },
  {
   "cell_type": "code",
   "execution_count": 592,
   "metadata": {
    "execution": {
     "iopub.execute_input": "2020-11-17T15:49:26.427542Z",
     "iopub.status.busy": "2020-11-17T15:49:26.427211Z",
     "iopub.status.idle": "2020-11-17T15:49:26.544993Z",
     "shell.execute_reply": "2020-11-17T15:49:26.543847Z",
     "shell.execute_reply.started": "2020-11-17T15:49:26.427501Z"
    }
   },
   "outputs": [
    {
     "data": {
      "text/plain": [
       "POSTaggingModel(\n",
       "  (embedding): Embedding(9965, 50, padding_idx=0)\n",
       "  (recurrent_module): LSTM(50, 128, batch_first=True, bidirectional=True)\n",
       "  (dense): Linear(in_features=256, out_features=46, bias=True)\n",
       "  (dropout): Dropout(p=0.0, inplace=False)\n",
       "  (crf_model): CRF(num_tags=46)\n",
       "  (criterion): CrossEntropyLoss()\n",
       ")"
      ]
     },
     "execution_count": 592,
     "metadata": {},
     "output_type": "execute_result"
    }
   ],
   "source": [
    "bilstm_fc_crf_model.apply(init_weights)"
   ]
  },
  {
   "cell_type": "code",
   "execution_count": 593,
   "metadata": {
    "execution": {
     "iopub.execute_input": "2020-11-17T15:49:26.834684Z",
     "iopub.status.busy": "2020-11-17T15:49:26.834360Z",
     "iopub.status.idle": "2020-11-17T15:58:54.535007Z",
     "shell.execute_reply": "2020-11-17T15:58:54.532847Z",
     "shell.execute_reply.started": "2020-11-17T15:49:26.834643Z"
    }
   },
   "outputs": [
    {
     "name": "stderr",
     "output_type": "stream",
     "text": [
      "  0%|          | 0/20 [00:00<?, ?it/s]"
     ]
    },
    {
     "name": "stdout",
     "output_type": "stream",
     "text": [
      "Epoch: 01\n",
      "Training...\n"
     ]
    },
    {
     "name": "stderr",
     "output_type": "stream",
     "text": [
      "100%|██████████| 20/20 [02:32<00:00,  7.64s/it]\n",
      "  0%|          | 0/10 [00:00<?, ?it/s]"
     ]
    },
    {
     "name": "stdout",
     "output_type": "stream",
     "text": [
      "Evaluating...\n"
     ]
    },
    {
     "name": "stderr",
     "output_type": "stream",
     "text": [
      "100%|██████████| 10/10 [00:15<00:00,  1.56s/it]\n",
      "  0%|          | 0/20 [00:00<?, ?it/s]"
     ]
    },
    {
     "name": "stdout",
     "output_type": "stream",
     "text": [
      "Epoch Time: 168.58916068077087s\n",
      "Train loss: 20165.382 | Train accuracy: 11.49% | Train F1: 0.56%\n",
      "Validation loss: 25934.849 | Validation accuracy: 15.24% | Validation F1: 0.87%\n",
      "Saving new checkpoint...\n",
      "\n",
      "Epoch: 02\n",
      "Training...\n"
     ]
    },
    {
     "name": "stderr",
     "output_type": "stream",
     "text": [
      "100%|██████████| 20/20 [02:10<00:00,  6.52s/it]\n",
      "  0%|          | 0/10 [00:00<?, ?it/s]"
     ]
    },
    {
     "name": "stdout",
     "output_type": "stream",
     "text": [
      "Evaluating...\n"
     ]
    },
    {
     "name": "stderr",
     "output_type": "stream",
     "text": [
      "100%|██████████| 10/10 [00:15<00:00,  1.55s/it]\n",
      "  0%|          | 0/20 [00:00<?, ?it/s]"
     ]
    },
    {
     "name": "stdout",
     "output_type": "stream",
     "text": [
      "Epoch Time: 145.92825746536255s\n",
      "Train loss: 19081.923 | Train accuracy: 14.71% | Train F1: 1.13%\n",
      "Validation loss: 25313.605 | Validation accuracy: 20.05% | Validation F1: 2.45%\n",
      "Saving new checkpoint...\n",
      "\n",
      "Epoch: 03\n",
      "Training...\n"
     ]
    },
    {
     "name": "stderr",
     "output_type": "stream",
     "text": [
      "100%|██████████| 20/20 [02:10<00:00,  6.50s/it]\n",
      "  0%|          | 0/10 [00:00<?, ?it/s]"
     ]
    },
    {
     "name": "stdout",
     "output_type": "stream",
     "text": [
      "Evaluating...\n"
     ]
    },
    {
     "name": "stderr",
     "output_type": "stream",
     "text": [
      "100%|██████████| 10/10 [00:15<00:00,  1.54s/it]\n",
      "  0%|          | 0/20 [00:00<?, ?it/s]"
     ]
    },
    {
     "name": "stdout",
     "output_type": "stream",
     "text": [
      "Epoch Time: 145.58926653862s\n",
      "Train loss: 18662.460 | Train accuracy: 21.80% | Train F1: 2.98%\n",
      "Validation loss: 24741.357 | Validation accuracy: 21.03% | Validation F1: 2.73%\n",
      "Saving new checkpoint...\n",
      "\n",
      "Epoch: 04\n",
      "Training...\n"
     ]
    },
    {
     "name": "stderr",
     "output_type": "stream",
     "text": [
      " 80%|████████  | 16/20 [01:47<00:26,  6.72s/it]\n"
     ]
    },
    {
     "ename": "KeyboardInterrupt",
     "evalue": "",
     "output_type": "error",
     "traceback": [
      "\u001b[0;31m---------------------------------------------------------------------------\u001b[0m",
      "\u001b[0;31mKeyboardInterrupt\u001b[0m                         Traceback (most recent call last)",
      "\u001b[0;32m<ipython-input-593-b1cbd7908313>\u001b[0m in \u001b[0;36m<module>\u001b[0;34m\u001b[0m\n\u001b[0;32m----> 1\u001b[0;31m \u001b[0mtrain_val_test\u001b[0m\u001b[0;34m(\u001b[0m\u001b[0mbilstm_fc_crf_model\u001b[0m\u001b[0;34m,\u001b[0m \u001b[0;34m\"bilstm_fc_crf_model\"\u001b[0m\u001b[0;34m,\u001b[0m \u001b[0mepochs\u001b[0m\u001b[0;34m=\u001b[0m\u001b[0;36m10\u001b[0m\u001b[0;34m)\u001b[0m\u001b[0;34m\u001b[0m\u001b[0;34m\u001b[0m\u001b[0m\n\u001b[0m",
      "\u001b[0;32m<ipython-input-518-bb0eb39608a7>\u001b[0m in \u001b[0;36mtrain_val_test\u001b[0;34m(model, model_name, epochs)\u001b[0m\n\u001b[1;32m     10\u001b[0m         \u001b[0mstart_time\u001b[0m \u001b[0;34m=\u001b[0m \u001b[0mtime\u001b[0m\u001b[0;34m.\u001b[0m\u001b[0mtime\u001b[0m\u001b[0;34m(\u001b[0m\u001b[0;34m)\u001b[0m\u001b[0;34m\u001b[0m\u001b[0;34m\u001b[0m\u001b[0m\n\u001b[1;32m     11\u001b[0m         \u001b[0mprint\u001b[0m\u001b[0;34m(\u001b[0m\u001b[0;34mf\"Training...\"\u001b[0m\u001b[0;34m)\u001b[0m\u001b[0;34m\u001b[0m\u001b[0;34m\u001b[0m\u001b[0m\n\u001b[0;32m---> 12\u001b[0;31m         \u001b[0mtrain_loss\u001b[0m\u001b[0;34m,\u001b[0m \u001b[0mtrain_acc\u001b[0m\u001b[0;34m,\u001b[0m \u001b[0mtrain_f1\u001b[0m \u001b[0;34m=\u001b[0m \u001b[0mtrain\u001b[0m\u001b[0;34m(\u001b[0m\u001b[0mmodel\u001b[0m\u001b[0;34m,\u001b[0m \u001b[0mtrain_dataloader\u001b[0m\u001b[0;34m)\u001b[0m\u001b[0;34m\u001b[0m\u001b[0;34m\u001b[0m\u001b[0m\n\u001b[0m\u001b[1;32m     13\u001b[0m         \u001b[0mprint\u001b[0m\u001b[0;34m(\u001b[0m\u001b[0;34mf\"Evaluating...\"\u001b[0m\u001b[0;34m)\u001b[0m\u001b[0;34m\u001b[0m\u001b[0;34m\u001b[0m\u001b[0m\n\u001b[1;32m     14\u001b[0m         \u001b[0mval_loss\u001b[0m\u001b[0;34m,\u001b[0m \u001b[0mval_acc\u001b[0m\u001b[0;34m,\u001b[0m \u001b[0mval_f1\u001b[0m \u001b[0;34m=\u001b[0m \u001b[0mevaluate\u001b[0m\u001b[0;34m(\u001b[0m\u001b[0mmodel\u001b[0m\u001b[0;34m,\u001b[0m \u001b[0mval_dataloader\u001b[0m\u001b[0;34m)\u001b[0m\u001b[0;34m\u001b[0m\u001b[0;34m\u001b[0m\u001b[0m\n",
      "\u001b[0;32m<ipython-input-587-7f1cbeea352d>\u001b[0m in \u001b[0;36mtrain\u001b[0;34m(model, dataloader)\u001b[0m\n\u001b[1;32m     11\u001b[0m         \u001b[0macc\u001b[0m \u001b[0;34m=\u001b[0m \u001b[0mcategorical_accuracy\u001b[0m\u001b[0;34m(\u001b[0m\u001b[0mpredictions\u001b[0m\u001b[0;34m,\u001b[0m \u001b[0mtags\u001b[0m\u001b[0;34m)\u001b[0m\u001b[0;34m\u001b[0m\u001b[0;34m\u001b[0m\u001b[0m\n\u001b[1;32m     12\u001b[0m         \u001b[0mf1\u001b[0m \u001b[0;34m=\u001b[0m \u001b[0mf1_score\u001b[0m\u001b[0;34m(\u001b[0m\u001b[0mpredictions\u001b[0m\u001b[0;34m,\u001b[0m \u001b[0mtags\u001b[0m\u001b[0;34m,\u001b[0m \u001b[0mlabels\u001b[0m\u001b[0;34m=\u001b[0m\u001b[0mno_punct_tags_indexes\u001b[0m\u001b[0;34m)\u001b[0m\u001b[0;34m\u001b[0m\u001b[0;34m\u001b[0m\u001b[0m\n\u001b[0;32m---> 13\u001b[0;31m         \u001b[0mloss\u001b[0m\u001b[0;34m.\u001b[0m\u001b[0mbackward\u001b[0m\u001b[0;34m(\u001b[0m\u001b[0;34m)\u001b[0m\u001b[0;34m\u001b[0m\u001b[0;34m\u001b[0m\u001b[0m\n\u001b[0m\u001b[1;32m     14\u001b[0m         \u001b[0mmodel\u001b[0m\u001b[0;34m.\u001b[0m\u001b[0moptimizer\u001b[0m\u001b[0;34m.\u001b[0m\u001b[0mstep\u001b[0m\u001b[0;34m(\u001b[0m\u001b[0;34m)\u001b[0m\u001b[0;34m\u001b[0m\u001b[0;34m\u001b[0m\u001b[0m\n\u001b[1;32m     15\u001b[0m         \u001b[0mepoch_loss\u001b[0m \u001b[0;34m+=\u001b[0m \u001b[0mloss\u001b[0m\u001b[0;34m.\u001b[0m\u001b[0mitem\u001b[0m\u001b[0;34m(\u001b[0m\u001b[0;34m)\u001b[0m\u001b[0;34m\u001b[0m\u001b[0;34m\u001b[0m\u001b[0m\n",
      "\u001b[0;32m~/anaconda3/lib/python3.8/site-packages/torch/tensor.py\u001b[0m in \u001b[0;36mbackward\u001b[0;34m(self, gradient, retain_graph, create_graph)\u001b[0m\n\u001b[1;32m    219\u001b[0m                 \u001b[0mretain_graph\u001b[0m\u001b[0;34m=\u001b[0m\u001b[0mretain_graph\u001b[0m\u001b[0;34m,\u001b[0m\u001b[0;34m\u001b[0m\u001b[0;34m\u001b[0m\u001b[0m\n\u001b[1;32m    220\u001b[0m                 create_graph=create_graph)\n\u001b[0;32m--> 221\u001b[0;31m         \u001b[0mtorch\u001b[0m\u001b[0;34m.\u001b[0m\u001b[0mautograd\u001b[0m\u001b[0;34m.\u001b[0m\u001b[0mbackward\u001b[0m\u001b[0;34m(\u001b[0m\u001b[0mself\u001b[0m\u001b[0;34m,\u001b[0m \u001b[0mgradient\u001b[0m\u001b[0;34m,\u001b[0m \u001b[0mretain_graph\u001b[0m\u001b[0;34m,\u001b[0m \u001b[0mcreate_graph\u001b[0m\u001b[0;34m)\u001b[0m\u001b[0;34m\u001b[0m\u001b[0;34m\u001b[0m\u001b[0m\n\u001b[0m\u001b[1;32m    222\u001b[0m \u001b[0;34m\u001b[0m\u001b[0m\n\u001b[1;32m    223\u001b[0m     \u001b[0;32mdef\u001b[0m \u001b[0mregister_hook\u001b[0m\u001b[0;34m(\u001b[0m\u001b[0mself\u001b[0m\u001b[0;34m,\u001b[0m \u001b[0mhook\u001b[0m\u001b[0;34m)\u001b[0m\u001b[0;34m:\u001b[0m\u001b[0;34m\u001b[0m\u001b[0;34m\u001b[0m\u001b[0m\n",
      "\u001b[0;32m~/anaconda3/lib/python3.8/site-packages/torch/autograd/__init__.py\u001b[0m in \u001b[0;36mbackward\u001b[0;34m(tensors, grad_tensors, retain_graph, create_graph, grad_variables)\u001b[0m\n\u001b[1;32m    128\u001b[0m         \u001b[0mretain_graph\u001b[0m \u001b[0;34m=\u001b[0m \u001b[0mcreate_graph\u001b[0m\u001b[0;34m\u001b[0m\u001b[0;34m\u001b[0m\u001b[0m\n\u001b[1;32m    129\u001b[0m \u001b[0;34m\u001b[0m\u001b[0m\n\u001b[0;32m--> 130\u001b[0;31m     Variable._execution_engine.run_backward(\n\u001b[0m\u001b[1;32m    131\u001b[0m         \u001b[0mtensors\u001b[0m\u001b[0;34m,\u001b[0m \u001b[0mgrad_tensors_\u001b[0m\u001b[0;34m,\u001b[0m \u001b[0mretain_graph\u001b[0m\u001b[0;34m,\u001b[0m \u001b[0mcreate_graph\u001b[0m\u001b[0;34m,\u001b[0m\u001b[0;34m\u001b[0m\u001b[0;34m\u001b[0m\u001b[0m\n\u001b[1;32m    132\u001b[0m         allow_unreachable=True)  # allow_unreachable flag\n",
      "\u001b[0;31mKeyboardInterrupt\u001b[0m: "
     ]
    }
   ],
   "source": [
    "bilstm_fc_crf_model_history = train_val_test(\n",
    "    bilstm_fc_crf_model,\n",
    "    \"bilstm_fc_crf_model\",\n",
    "    train_dataloader,\n",
    "    val_dataloader,\n",
    "    test_dataloader,\n",
    "    epochs=num_epochs,\n",
    ")"
   ]
  },
  {
   "cell_type": "code",
   "execution_count": null,
   "metadata": {},
   "outputs": [],
   "source": [
    "plot_history(bilstm_fc_crf_model_history, nrows=2, ncols=3)"
   ]
  },
  {
   "cell_type": "code",
   "execution_count": null,
   "metadata": {},
   "outputs": [],
   "source": []
  }
 ],
 "metadata": {
  "kernelspec": {
   "display_name": "Python 3",
   "language": "python",
   "name": "python3"
  },
  "language_info": {
   "codemirror_mode": {
    "name": "ipython",
    "version": 3
   },
   "file_extension": ".py",
   "mimetype": "text/x-python",
   "name": "python",
   "nbconvert_exporter": "python",
   "pygments_lexer": "ipython3",
   "version": "3.8.5"
  }
 },
 "nbformat": 4,
 "nbformat_minor": 4
}
