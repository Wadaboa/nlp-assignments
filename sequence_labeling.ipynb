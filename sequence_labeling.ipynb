{
 "cells": [
  {
   "cell_type": "markdown",
   "metadata": {},
   "source": [
    "Assignment 3 : Sequence labelling with RNNs\n",
    "In this assignement we will ask you to perform POS tagging.\n",
    "\n",
    "You are asked to follow these steps:\n",
    "\n",
    "- Download the corpora and split it in training and test sets, structuring a dataframe.\n",
    "- Embed the words using GloVe embeddings\n",
    "- Create a baseline model, using a simple neural architecture\n",
    "- Experiment doing small modifications to the model\n",
    "- Evaluate your best model\n",
    "- Analyze the errors of your model\n",
    "- Corpora: Ignore the numeric value in the third column, use only the words/symbols and its label. https://raw.githubusercontent.com/nltk/nltk_data/gh-pages/packages/corpora/dependency_treebank.zip\n",
    "\n",
    "Splits: documents 1-100 are the train set, 101-150 validation set, 151-199 test set.\n",
    "\n",
    "Baseline: two layers architecture: a Bidirectional LSTM and a Dense/Fully-Connected layer on top.\n",
    "\n",
    "Modifications: experiment using a GRU instead of the LSTM, adding an additional LSTM layer, and using a CRF in addition to the LSTM. Each of this change must be done by itself (don't mix these modifications).\n",
    "\n",
    "Training and Experiments: all the experiments must involve only the training and validation sets.\n",
    "\n",
    "Evaluation: in the end, only the best model of your choice must be evaluated on the test set. The main metric must be F1-Macro computed between the various part of speech (without considering punctuation classes).\n",
    "\n",
    "Error Analysis (optional) : analyze the errors done by your model, try to understand which may be the causes and think about how to improve it.\n",
    "\n",
    "Report: You are asked to deliver a small report of about 4-5 lines in the .txt file that sums up your findings."
   ]
  },
  {
   "cell_type": "markdown",
   "metadata": {},
   "source": [
    "https://raw.githubusercontent.com/nltk/nltk_data/gh-pages/packages/corpora/dependency_treebank.zip"
   ]
  },
  {
   "cell_type": "markdown",
   "metadata": {},
   "source": [
    "# Sequence labeling"
   ]
  },
  {
   "cell_type": "code",
   "execution_count": 466,
   "metadata": {
    "execution": {
     "iopub.execute_input": "2020-11-17T10:49:46.433533Z",
     "iopub.status.busy": "2020-11-17T10:49:46.433176Z",
     "iopub.status.idle": "2020-11-17T10:49:46.641767Z",
     "shell.execute_reply": "2020-11-17T10:49:46.640544Z",
     "shell.execute_reply.started": "2020-11-17T10:49:46.433492Z"
    }
   },
   "outputs": [
    {
     "name": "stdout",
     "output_type": "stream",
     "text": [
      "The autoreload extension is already loaded. To reload it, use:\n",
      "  %reload_ext autoreload\n"
     ]
    }
   ],
   "source": [
    "import re\n",
    "import random\n",
    "import time\n",
    "import string\n",
    "from functools import partial\n",
    "\n",
    "import pandas as pd\n",
    "import numpy as np\n",
    "import matplotlib.pyplot as plt\n",
    "import sklearn\n",
    "import nltk\n",
    "import torch\n",
    "import torch.nn as nn\n",
    "import torch.optim as optim\n",
    "from torch.utils.data import Dataset, DataLoader\n",
    "from torch.nn.utils.rnn import pad_sequence, pack_padded_sequence, pad_packed_sequence\n",
    "from torchcrf import CRF\n",
    "from tqdm import tqdm\n",
    "from nltk.corpus import dependency_treebank\n",
    "\n",
    "import utils\n",
    "\n",
    "%load_ext autoreload\n",
    "%autoreload 2\n",
    "%matplotlib inline"
   ]
  },
  {
   "cell_type": "code",
   "execution_count": 319,
   "metadata": {
    "execution": {
     "iopub.execute_input": "2020-11-16T11:21:47.431019Z",
     "iopub.status.busy": "2020-11-16T11:21:47.430618Z",
     "iopub.status.idle": "2020-11-16T11:21:47.490472Z",
     "shell.execute_reply": "2020-11-16T11:21:47.489279Z",
     "shell.execute_reply.started": "2020-11-16T11:21:47.430976Z"
    }
   },
   "outputs": [],
   "source": [
    "plt.rcParams['figure.figsize'] = [8, 4]\n",
    "plt.rcParams['figure.dpi'] = 100\n",
    "plt.rcParams['axes.xmargin'] = .05\n",
    "plt.rcParams['axes.ymargin'] = .05"
   ]
  },
  {
   "cell_type": "markdown",
   "metadata": {
    "execution": {
     "iopub.execute_input": "2020-11-16T10:57:06.796946Z",
     "iopub.status.busy": "2020-11-16T10:57:06.796528Z",
     "iopub.status.idle": "2020-11-16T10:57:06.854690Z",
     "shell.execute_reply": "2020-11-16T10:57:06.853393Z",
     "shell.execute_reply.started": "2020-11-16T10:57:06.796903Z"
    }
   },
   "source": [
    "## Introduction"
   ]
  },
  {
   "cell_type": "markdown",
   "metadata": {},
   "source": [
    "First of all, let's download the dependency treebank dataset from the NLTK data module$\\dots$"
   ]
  },
  {
   "cell_type": "code",
   "execution_count": 292,
   "metadata": {
    "execution": {
     "iopub.execute_input": "2020-11-16T11:02:02.550200Z",
     "iopub.status.busy": "2020-11-16T11:02:02.549770Z",
     "iopub.status.idle": "2020-11-16T11:02:02.610444Z",
     "shell.execute_reply": "2020-11-16T11:02:02.609181Z",
     "shell.execute_reply.started": "2020-11-16T11:02:02.550156Z"
    }
   },
   "outputs": [
    {
     "name": "stderr",
     "output_type": "stream",
     "text": [
      "[nltk_data] Downloading package dependency_treebank to\n",
      "[nltk_data]     /root/nltk_data...\n",
      "[nltk_data]   Package dependency_treebank is already up-to-date!\n"
     ]
    }
   ],
   "source": [
    "dataset_name = \"dependency_treebank\"\n",
    "\n",
    "\n",
    "try:\n",
    "    nltk.data.find(dataset_name)\n",
    "except LookupError:\n",
    "    nltk.download(dataset_name)"
   ]
  },
  {
   "cell_type": "markdown",
   "metadata": {},
   "source": [
    "Now we may want to fix all the possible sources of randomness, in order to achieve reproducible results."
   ]
  },
  {
   "cell_type": "code",
   "execution_count": 295,
   "metadata": {
    "execution": {
     "iopub.execute_input": "2020-11-16T11:03:01.431274Z",
     "iopub.status.busy": "2020-11-16T11:03:01.430828Z",
     "iopub.status.idle": "2020-11-16T11:03:01.495371Z",
     "shell.execute_reply": "2020-11-16T11:03:01.494179Z",
     "shell.execute_reply.started": "2020-11-16T11:03:01.431231Z"
    }
   },
   "outputs": [],
   "source": [
    "RANDOM_SEED = 42\n",
    "\n",
    "\n",
    "def fix_random(seed):\n",
    "    \"\"\"\n",
    "    Fix all the possible sources of randomness\n",
    "    \"\"\"\n",
    "    np.random.seed(seed)\n",
    "    random.seed(seed)\n",
    "    torch.manual_seed(seed)\n",
    "    torch.cuda.manual_seed(seed)\n",
    "    torch.backends.cudnn.benchmark = False\n",
    "    torch.backends.cudnn.deterministic = True\n",
    "\n",
    "\n",
    "fix_random(RANDOM_SEED)"
   ]
  },
  {
   "cell_type": "markdown",
   "metadata": {},
   "source": [
    "## Data preparation"
   ]
  },
  {
   "cell_type": "markdown",
   "metadata": {},
   "source": [
    "In this code section, each and every file in the dependency treebank dataset will be loaded and corresponding sentences will be splitted with the following reasoning:\n",
    "- Training set range: from file `wsj_0001.dp` to `wsj_0100.dp`\n",
    "- Validation set range: from file `wsj_0101.dp` to `wsj_0150.dp`\n",
    "- Test set range: from file `wsj_0151.dp` to `wsj_0199.dp`"
   ]
  },
  {
   "cell_type": "code",
   "execution_count": 296,
   "metadata": {
    "execution": {
     "iopub.execute_input": "2020-11-16T11:06:05.474543Z",
     "iopub.status.busy": "2020-11-16T11:06:05.474113Z",
     "iopub.status.idle": "2020-11-16T11:06:05.535350Z",
     "shell.execute_reply": "2020-11-16T11:06:05.534303Z",
     "shell.execute_reply.started": "2020-11-16T11:06:05.474499Z"
    }
   },
   "outputs": [],
   "source": [
    "file_prefix = \"wsj_\"\n",
    "file_ext = \".dp\"\n",
    "train_files = [f\"{file_prefix}{i:04d}{file_ext}\" for i in range(1, 101)]\n",
    "val_files = [f\"{file_prefix}{i:04d}{file_ext}\" for i in range(101, 151)]\n",
    "test_files = [f\"{file_prefix}{i:04d}{file_ext}\" for i in range(151, 200)]\n",
    "splits = (\n",
    "    [\"train\"] * len(train_files) + [\"val\"] * len(val_files) + [\"test\"] * len(test_files)\n",
    ")\n",
    "whole_files = train_files + val_files + test_files"
   ]
  },
  {
   "cell_type": "code",
   "execution_count": 297,
   "metadata": {
    "execution": {
     "iopub.execute_input": "2020-11-16T11:06:07.062642Z",
     "iopub.status.busy": "2020-11-16T11:06:07.062324Z",
     "iopub.status.idle": "2020-11-16T11:06:07.121932Z",
     "shell.execute_reply": "2020-11-16T11:06:07.120643Z",
     "shell.execute_reply.started": "2020-11-16T11:06:07.062602Z"
    }
   },
   "outputs": [
    {
     "data": {
      "text/plain": [
       "['wsj_0001.dp',\n",
       " 'wsj_0021.dp',\n",
       " 'wsj_0041.dp',\n",
       " 'wsj_0061.dp',\n",
       " 'wsj_0081.dp',\n",
       " 'wsj_0101.dp',\n",
       " 'wsj_0121.dp',\n",
       " 'wsj_0141.dp',\n",
       " 'wsj_0161.dp',\n",
       " 'wsj_0181.dp']"
      ]
     },
     "execution_count": 297,
     "metadata": {},
     "output_type": "execute_result"
    }
   ],
   "source": [
    "whole_files[0:-1:20]"
   ]
  },
  {
   "cell_type": "markdown",
   "metadata": {},
   "source": [
    "Let's check how are sentences encoded in each file$\\dots$ It seems that they follow the pattern `token \\t tag \\t number \\n`, where `\\t` is the tab symbol and `\\n` the newline one. \n",
    "\n",
    "Since we are only interested in tokens and tags, we can simply discard the last number encountered in the triples in each line of a sentence."
   ]
  },
  {
   "cell_type": "code",
   "execution_count": 298,
   "metadata": {
    "execution": {
     "iopub.execute_input": "2020-11-16T11:06:19.021859Z",
     "iopub.status.busy": "2020-11-16T11:06:19.021444Z",
     "iopub.status.idle": "2020-11-16T11:06:19.082956Z",
     "shell.execute_reply": "2020-11-16T11:06:19.081825Z",
     "shell.execute_reply.started": "2020-11-16T11:06:19.021816Z"
    }
   },
   "outputs": [
    {
     "data": {
      "text/plain": [
       "'Pierre\\tNNP\\t2\\nVinken\\tNNP\\t8\\n,\\t,\\t2\\n61\\tCD\\t5\\nyears\\tNNS\\t6\\nold\\tJJ\\t2\\n,\\t,\\t2\\nwill\\tMD\\t0\\njoin\\tVB\\t8\\nthe\\tDT\\t11\\nboard\\tNN\\t9\\nas\\tIN\\t9\\na\\tDT\\t15\\nnonexecutive\\tJJ\\t15\\ndirector\\tNN\\t12\\nNov.\\tNNP\\t9\\n29\\tCD\\t16\\n.\\t.\\t8\\n\\nMr.\\tNNP\\t2\\nVinken\\tNNP\\t3\\nis\\tVBZ\\t0\\nchairman\\tNN\\t3\\nof\\tIN\\t4\\nElsevier\\tNNP\\t7\\nN.V.\\tNNP\\t12\\n,\\t,\\t12\\nthe\\tDT\\t12\\nDutch\\tNNP\\t12\\npublishing\\tVBG\\t12\\ngroup\\tNN\\t5\\n.\\t.\\t3\\n'"
      ]
     },
     "execution_count": 298,
     "metadata": {},
     "output_type": "execute_result"
    }
   ],
   "source": [
    "dependency_treebank.raw(fileids=whole_files[0])"
   ]
  },
  {
   "cell_type": "code",
   "execution_count": 299,
   "metadata": {
    "execution": {
     "iopub.execute_input": "2020-11-16T11:09:22.431826Z",
     "iopub.status.busy": "2020-11-16T11:09:22.431312Z",
     "iopub.status.idle": "2020-11-16T11:09:22.495822Z",
     "shell.execute_reply": "2020-11-16T11:09:22.494594Z",
     "shell.execute_reply.started": "2020-11-16T11:09:22.431772Z"
    }
   },
   "outputs": [],
   "source": [
    "def parse_file(fileid, preprocessor=None):\n",
    "    \"\"\"\n",
    "    Parse the given file identifier from the dependency treebank corpus\n",
    "    and return a tuple (`tokens`, `tags`), where `tokens` is the list\n",
    "    of tokens retrieved in the document and `tags` is the associated\n",
    "    list of tags (`tokens` and `tags` have the same lenght)\n",
    "    \n",
    "    If you wish to preprocess tokens, you can pass a function to the\n",
    "    `preprocessor` argument, which should take as input only the token\n",
    "    to transform\n",
    "    \"\"\"\n",
    "    file_str = dependency_treebank.raw(fileids=fileid)\n",
    "    splitted_file_str = [\n",
    "        x for x in re.split(\"\\t|\\n\", file_str.strip()) if x.strip() != \"\"\n",
    "    ]\n",
    "    if preprocessor is None:\n",
    "        preprocessor = lambda t: t\n",
    "    tokens, tags = [], []\n",
    "    for i in range(0, len(splitted_file_str), 3):\n",
    "        token = preprocessor(splitted_file_str[i])\n",
    "        tag = splitted_file_str[i + 1]\n",
    "        tokens.append(token)\n",
    "        tags.append(tag)\n",
    "    return tokens, tags\n",
    "\n",
    "\n",
    "def parse_files(fileids, preprocessor=None):\n",
    "    \"\"\"\n",
    "    Parse a set of file identifiers from the dependency treebank corpus\n",
    "    and return two lists, one which contains lists of tokens and one \n",
    "    containing lists of corresponding tags for each file identifier\n",
    "    \"\"\"\n",
    "    tokens_list, tags_list = [], []\n",
    "    for fileid in fileids:\n",
    "        tokens, tags = parse_file(fileid, preprocessor=preprocessor)\n",
    "        tokens_list.append(tokens)\n",
    "        tags_list.append(tags)\n",
    "    return tokens_list, tags_list"
   ]
  },
  {
   "cell_type": "code",
   "execution_count": 300,
   "metadata": {
    "execution": {
     "iopub.execute_input": "2020-11-16T11:09:27.714112Z",
     "iopub.status.busy": "2020-11-16T11:09:27.713713Z",
     "iopub.status.idle": "2020-11-16T11:09:27.778494Z",
     "shell.execute_reply": "2020-11-16T11:09:27.771358Z",
     "shell.execute_reply.started": "2020-11-16T11:09:27.714069Z"
    }
   },
   "outputs": [],
   "source": [
    "def preprocess_token(token):\n",
    "    \"\"\"\n",
    "    Peform small modifications to the given token:\n",
    "        - Transform to lowercase\n",
    "        - Encode numbers as \"<num>\"\n",
    "    \"\"\"\n",
    "    token = token.lower()\n",
    "    token = \"<num>\" if re.match(utils.FLOAT_RE, token) else token\n",
    "    return token"
   ]
  },
  {
   "cell_type": "code",
   "execution_count": 301,
   "metadata": {
    "execution": {
     "iopub.execute_input": "2020-11-16T11:09:37.023270Z",
     "iopub.status.busy": "2020-11-16T11:09:37.022861Z",
     "iopub.status.idle": "2020-11-16T11:09:37.626820Z",
     "shell.execute_reply": "2020-11-16T11:09:37.625473Z",
     "shell.execute_reply.started": "2020-11-16T11:09:37.023228Z"
    }
   },
   "outputs": [],
   "source": [
    "whole_tokens, whole_tags = parse_files(whole_files, preprocessor=preprocess_token)"
   ]
  },
  {
   "cell_type": "markdown",
   "metadata": {},
   "source": [
    "## Data exploration"
   ]
  },
  {
   "cell_type": "markdown",
   "metadata": {},
   "source": [
    "After extracting the tags and tokens for each sentence of the whole dataset, we may want to observe what their distributions look like (e.g. check the most frequent tags)."
   ]
  },
  {
   "cell_type": "code",
   "execution_count": 141,
   "metadata": {
    "execution": {
     "iopub.execute_input": "2020-11-12T17:34:14.291167Z",
     "iopub.status.busy": "2020-11-12T17:34:14.290875Z",
     "iopub.status.idle": "2020-11-12T17:34:14.368225Z",
     "shell.execute_reply": "2020-11-12T17:34:14.366821Z",
     "shell.execute_reply.started": "2020-11-12T17:34:14.291130Z"
    }
   },
   "outputs": [],
   "source": [
    "def flatten(a):\n",
    "    \"\"\"\n",
    "    Given a 2D list, returns its flattened version\n",
    "    \"\"\"\n",
    "    return [i for s in a for i in s]\n",
    "\n",
    "\n",
    "flattened_tags = flatten(whole_tags)\n",
    "flattened_tokens = flatten(whole_tokens)"
   ]
  },
  {
   "cell_type": "markdown",
   "metadata": {},
   "source": [
    "How many unique tags do we have to deal with?"
   ]
  },
  {
   "cell_type": "code",
   "execution_count": 303,
   "metadata": {
    "execution": {
     "iopub.execute_input": "2020-11-16T11:11:57.430856Z",
     "iopub.status.busy": "2020-11-16T11:11:57.430451Z",
     "iopub.status.idle": "2020-11-16T11:11:57.524113Z",
     "shell.execute_reply": "2020-11-16T11:11:57.522834Z",
     "shell.execute_reply.started": "2020-11-16T11:11:57.430814Z"
    }
   },
   "outputs": [
    {
     "name": "stdout",
     "output_type": "stream",
     "text": [
      "There are 45 unique tags in the dataset\n"
     ]
    }
   ],
   "source": [
    "unique_tags = np.unique(flattened_tags)\n",
    "print(f\"There are {len(unique_tags)} unique tags in the dataset\")"
   ]
  },
  {
   "cell_type": "markdown",
   "metadata": {},
   "source": [
    "What are the 10 most frequent tags?"
   ]
  },
  {
   "cell_type": "code",
   "execution_count": 143,
   "metadata": {
    "execution": {
     "iopub.execute_input": "2020-11-12T17:34:15.897727Z",
     "iopub.status.busy": "2020-11-12T17:34:15.897427Z",
     "iopub.status.idle": "2020-11-12T17:34:16.077684Z",
     "shell.execute_reply": "2020-11-12T17:34:16.076675Z",
     "shell.execute_reply.started": "2020-11-12T17:34:15.897690Z"
    }
   },
   "outputs": [
    {
     "data": {
      "text/plain": [
       "[('NN', 13166),\n",
       " ('IN', 9857),\n",
       " ('NNP', 9410),\n",
       " ('DT', 8165),\n",
       " ('NNS', 6047),\n",
       " ('JJ', 5834),\n",
       " (',', 4886),\n",
       " ('.', 3874),\n",
       " ('CD', 3546),\n",
       " ('VBD', 3043)]"
      ]
     },
     "execution_count": 143,
     "metadata": {},
     "output_type": "execute_result"
    }
   ],
   "source": [
    "tags_fd = nltk.probability.FreqDist(flattened_tags)\n",
    "tags_fd.most_common(10)"
   ]
  },
  {
   "cell_type": "markdown",
   "metadata": {},
   "source": [
    "What is the distribution of the whole set of tags?"
   ]
  },
  {
   "cell_type": "code",
   "execution_count": 324,
   "metadata": {
    "execution": {
     "iopub.execute_input": "2020-11-16T11:28:54.432113Z",
     "iopub.status.busy": "2020-11-16T11:28:54.431683Z",
     "iopub.status.idle": "2020-11-16T11:28:55.388331Z",
     "shell.execute_reply": "2020-11-16T11:28:55.387140Z",
     "shell.execute_reply.started": "2020-11-16T11:28:54.432070Z"
    }
   },
   "outputs": [
    {
     "data": {
      "image/png": "[encoded data removed]",
      "text/plain": [
       "<Figure size 800x400 with 1 Axes>"
      ]
     },
     "metadata": {
      "needs_background": "light"
     },
     "output_type": "display_data"
    }
   ],
   "source": [
    "tags_fd.plot(title=\"Tags distribution\", cumulative=False)\n",
    "plt.show()"
   ]
  },
  {
   "cell_type": "markdown",
   "metadata": {},
   "source": [
    "How many unique tokens does our dataset have?"
   ]
  },
  {
   "cell_type": "code",
   "execution_count": 321,
   "metadata": {
    "execution": {
     "iopub.execute_input": "2020-11-16T11:22:58.725205Z",
     "iopub.status.busy": "2020-11-16T11:22:58.724776Z",
     "iopub.status.idle": "2020-11-16T11:22:58.852765Z",
     "shell.execute_reply": "2020-11-16T11:22:58.851542Z",
     "shell.execute_reply.started": "2020-11-16T11:22:58.725160Z"
    }
   },
   "outputs": [
    {
     "name": "stdout",
     "output_type": "stream",
     "text": [
      "There are 9964 unique tokens in the dataset\n"
     ]
    }
   ],
   "source": [
    "unique_tokens = np.unique(flattened_tokens)\n",
    "print(f\"There are {len(unique_tokens)} unique tokens in the dataset\")"
   ]
  },
  {
   "cell_type": "markdown",
   "metadata": {},
   "source": [
    "What are the 10 most used tokens?"
   ]
  },
  {
   "cell_type": "code",
   "execution_count": 322,
   "metadata": {
    "execution": {
     "iopub.execute_input": "2020-11-16T11:23:08.825356Z",
     "iopub.status.busy": "2020-11-16T11:23:08.824923Z",
     "iopub.status.idle": "2020-11-16T11:23:09.016744Z",
     "shell.execute_reply": "2020-11-16T11:23:09.015534Z",
     "shell.execute_reply.started": "2020-11-16T11:23:08.825313Z"
    }
   },
   "outputs": [
    {
     "data": {
      "text/plain": [
       "[(',', 4885),\n",
       " ('the', 4764),\n",
       " ('.', 3828),\n",
       " ('<num>', 2471),\n",
       " ('of', 2325),\n",
       " ('to', 2182),\n",
       " ('a', 1988),\n",
       " ('in', 1769),\n",
       " ('and', 1556),\n",
       " (\"'s\", 865)]"
      ]
     },
     "execution_count": 322,
     "metadata": {},
     "output_type": "execute_result"
    }
   ],
   "source": [
    "tokens_fd = nltk.probability.FreqDist(flattened_tokens)\n",
    "tokens_fd.most_common(10)"
   ]
  },
  {
   "cell_type": "markdown",
   "metadata": {},
   "source": [
    "What is the distribution of the top 50 tokens with greatest frequency?"
   ]
  },
  {
   "cell_type": "code",
   "execution_count": 325,
   "metadata": {
    "execution": {
     "iopub.execute_input": "2020-11-16T11:29:02.593809Z",
     "iopub.status.busy": "2020-11-16T11:29:02.593369Z",
     "iopub.status.idle": "2020-11-16T11:29:03.620794Z",
     "shell.execute_reply": "2020-11-16T11:29:03.619560Z",
     "shell.execute_reply.started": "2020-11-16T11:29:02.593765Z"
    }
   },
   "outputs": [
    {
     "data": {
      "image/png": "[encoded data removed]",
      "text/plain": [
       "<Figure size 800x400 with 1 Axes>"
      ]
     },
     "metadata": {
      "needs_background": "light"
     },
     "output_type": "display_data"
    }
   ],
   "source": [
    "tokens_fd.plot(50, title=\"Tokens distribution\", cumulative=False)\n",
    "plt.show()"
   ]
  },
  {
   "cell_type": "markdown",
   "metadata": {},
   "source": [
    "## Vocabulary and DataFrame"
   ]
  },
  {
   "cell_type": "markdown",
   "metadata": {},
   "source": [
    "The first thing that we have to do is to build two vocabularies, one for tokens and one for tags. The important things about the vocabulary building procedure are mainly two:\n",
    "1. It must be a deterministic method, i.e. it must output the same result when given the same input\n",
    "2. The first index of the produced vocabulary (i.e. index zero), must contain the padding token, which will be used at training time to pad sequences in the same batch to be of the same lenght"
   ]
  },
  {
   "cell_type": "code",
   "execution_count": 384,
   "metadata": {
    "execution": {
     "iopub.execute_input": "2020-11-17T09:43:32.444239Z",
     "iopub.status.busy": "2020-11-17T09:43:32.443810Z",
     "iopub.status.idle": "2020-11-17T09:43:32.505127Z",
     "shell.execute_reply": "2020-11-17T09:43:32.503977Z",
     "shell.execute_reply.started": "2020-11-17T09:43:32.444196Z"
    }
   },
   "outputs": [],
   "source": [
    "def build_vocabulary(tokens, padding_token=\"0\"):\n",
    "    \"\"\"\n",
    "    Given a list of tokens, builds the corresponding word vocabulary\n",
    "    \"\"\"\n",
    "    assert padding_token not in tokens\n",
    "    words = sorted(set(tokens))\n",
    "    vocabulary, inverse_vocabulary = dict(), dict()\n",
    "    vocabulary[0] = str(padding_token)\n",
    "    inverse_vocabulary[str(padding_token)] = 0\n",
    "    for i, w in tqdm(enumerate(words)):\n",
    "        vocabulary[i + 1] = w\n",
    "        inverse_vocabulary[w] = i + 1\n",
    "    return vocabulary, inverse_vocabulary, [padding_token] + words"
   ]
  },
  {
   "cell_type": "markdown",
   "metadata": {},
   "source": [
    "Since we want to use the same padding token for both words and tags, we have to check that this token does not appear in our unique lists of tokens and tags$\\dots$ \n",
    "\n",
    "We will use the padding token `\"0\"`, since it fulfills both requirements. "
   ]
  },
  {
   "cell_type": "code",
   "execution_count": 385,
   "metadata": {
    "execution": {
     "iopub.execute_input": "2020-11-17T09:43:33.428485Z",
     "iopub.status.busy": "2020-11-17T09:43:33.428144Z",
     "iopub.status.idle": "2020-11-17T09:43:33.488030Z",
     "shell.execute_reply": "2020-11-17T09:43:33.486790Z",
     "shell.execute_reply.started": "2020-11-17T09:43:33.428444Z"
    }
   },
   "outputs": [
    {
     "name": "stdout",
     "output_type": "stream",
     "text": [
      "Is the padding token in one of the two unique lists of tokens or tags? False\n"
     ]
    }
   ],
   "source": [
    "PADDING_TOKEN = \"0\"\n",
    "is_token = PADDING_TOKEN in unique_tokens\n",
    "is_tag = PADDING_TOKEN in unique_tags\n",
    "print(\n",
    "    f\"Is the padding token in one of the two unique lists of tokens or tags? {is_token or is_tag}\"\n",
    ")"
   ]
  },
  {
   "cell_type": "code",
   "execution_count": 386,
   "metadata": {
    "execution": {
     "iopub.execute_input": "2020-11-17T09:43:33.826266Z",
     "iopub.status.busy": "2020-11-17T09:43:33.825949Z",
     "iopub.status.idle": "2020-11-17T09:43:33.917676Z",
     "shell.execute_reply": "2020-11-17T09:43:33.916614Z",
     "shell.execute_reply.started": "2020-11-17T09:43:33.826226Z"
    }
   },
   "outputs": [
    {
     "name": "stderr",
     "output_type": "stream",
     "text": [
      "9964it [00:00, 651544.91it/s]\n"
     ]
    }
   ],
   "source": [
    "index_to_word, word_to_index, word_listing = build_vocabulary(\n",
    "    unique_tokens, padding_token=PADDING_TOKEN\n",
    ")"
   ]
  },
  {
   "cell_type": "code",
   "execution_count": 387,
   "metadata": {
    "execution": {
     "iopub.execute_input": "2020-11-17T09:43:34.770555Z",
     "iopub.status.busy": "2020-11-17T09:43:34.770238Z",
     "iopub.status.idle": "2020-11-17T09:43:34.834275Z",
     "shell.execute_reply": "2020-11-17T09:43:34.832905Z",
     "shell.execute_reply.started": "2020-11-17T09:43:34.770515Z"
    }
   },
   "outputs": [
    {
     "data": {
      "text/plain": [
       "[(0, '0'),\n",
       " (1, '!'),\n",
       " (2, '#'),\n",
       " (3, '$'),\n",
       " (4, '%'),\n",
       " (5, '&'),\n",
       " (6, \"'\"),\n",
       " (7, \"''\"),\n",
       " (8, \"'30s\"),\n",
       " (9, \"'40s\")]"
      ]
     },
     "execution_count": 387,
     "metadata": {},
     "output_type": "execute_result"
    }
   ],
   "source": [
    "list(index_to_word.items())[:10]"
   ]
  },
  {
   "cell_type": "code",
   "execution_count": 388,
   "metadata": {
    "execution": {
     "iopub.execute_input": "2020-11-17T09:43:36.954130Z",
     "iopub.status.busy": "2020-11-17T09:43:36.953700Z",
     "iopub.status.idle": "2020-11-17T09:43:37.016245Z",
     "shell.execute_reply": "2020-11-17T09:43:37.015150Z",
     "shell.execute_reply.started": "2020-11-17T09:43:36.954086Z"
    }
   },
   "outputs": [
    {
     "name": "stderr",
     "output_type": "stream",
     "text": [
      "45it [00:00, 207182.96it/s]\n"
     ]
    }
   ],
   "source": [
    "index_to_tag, tag_to_index, tag_listing = build_vocabulary(\n",
    "    unique_tags, padding_token=PADDING_TOKEN\n",
    ")"
   ]
  },
  {
   "cell_type": "code",
   "execution_count": 389,
   "metadata": {
    "execution": {
     "iopub.execute_input": "2020-11-17T09:43:37.018360Z",
     "iopub.status.busy": "2020-11-17T09:43:37.018060Z",
     "iopub.status.idle": "2020-11-17T09:43:37.072919Z",
     "shell.execute_reply": "2020-11-17T09:43:37.071469Z",
     "shell.execute_reply.started": "2020-11-17T09:43:37.018323Z"
    }
   },
   "outputs": [
    {
     "data": {
      "text/plain": [
       "[(0, '0'),\n",
       " (1, '#'),\n",
       " (2, '$'),\n",
       " (3, \"''\"),\n",
       " (4, ','),\n",
       " (5, '-LRB-'),\n",
       " (6, '-RRB-'),\n",
       " (7, '.'),\n",
       " (8, ':'),\n",
       " (9, 'CC')]"
      ]
     },
     "execution_count": 389,
     "metadata": {},
     "output_type": "execute_result"
    }
   ],
   "source": [
    "list(index_to_tag.items())[:10]"
   ]
  },
  {
   "cell_type": "markdown",
   "metadata": {},
   "source": [
    "We will also store a subset of tokens that will be used to compute evaluation metrics, such as the F1 score, on a restricted number of labels. In particular, we want to compute those metrics without considering the labels for punctuation tags."
   ]
  },
  {
   "cell_type": "code",
   "execution_count": 392,
   "metadata": {
    "execution": {
     "iopub.execute_input": "2020-11-17T09:44:24.004470Z",
     "iopub.status.busy": "2020-11-17T09:44:24.004032Z",
     "iopub.status.idle": "2020-11-17T09:44:24.065708Z",
     "shell.execute_reply": "2020-11-17T09:44:24.064527Z",
     "shell.execute_reply.started": "2020-11-17T09:44:24.004427Z"
    }
   },
   "outputs": [
    {
     "name": "stdout",
     "output_type": "stream",
     "text": [
      "['0', 'DT', 'NNPS', 'WDT', 'IN', 'JJR', 'NN', 'PRP', 'VBD', 'WP$', 'LS', 'MD', 'NNS', 'VB', '``', 'RB', 'RP', 'RBS', 'CC', 'WP', 'VBG', 'CD', 'POS', 'FW', 'VBP', 'NNP', '0', 'UH', 'VBZ', 'JJS', 'PRP$', '-LRB-', '-RRB-', 'JJ', 'SYM', 'EX', \"''\", 'RBR', 'WRB', 'PDT', 'VBN', 'TO']\n"
     ]
    }
   ],
   "source": [
    "no_punct_tags = [PADDING_TOKEN] + list(set(tag_listing) - set(string.punctuation))\n",
    "no_punct_tags_indexes = [tag_to_index[t] for t in no_punct_tags]\n",
    "print(no_punct_tags)"
   ]
  },
  {
   "cell_type": "code",
   "execution_count": 393,
   "metadata": {
    "execution": {
     "iopub.execute_input": "2020-11-17T09:44:40.581917Z",
     "iopub.status.busy": "2020-11-17T09:44:40.581487Z",
     "iopub.status.idle": "2020-11-17T09:44:40.641760Z",
     "shell.execute_reply": "2020-11-17T09:44:40.640339Z",
     "shell.execute_reply.started": "2020-11-17T09:44:40.581874Z"
    }
   },
   "outputs": [],
   "source": [
    "def to_indexes(values, to_index):\n",
    "    \"\"\"\n",
    "    Given a list of keys and a dictionary indexed by those keys,\n",
    "    return the corresponding values in the dictionary\n",
    "    \"\"\"\n",
    "    return [to_index[v] for v in values]\n",
    "\n",
    "\n",
    "whole_indexed_tokens = map(\n",
    "    lambda tokens: to_indexes(tokens, word_to_index), whole_tokens\n",
    ")\n",
    "whole_indexed_tags = map(lambda tags: to_indexes(tags, tag_to_index), whole_tags)"
   ]
  },
  {
   "cell_type": "markdown",
   "metadata": {},
   "source": [
    "Finally, we can build the entire DataFrame, by inserting the following columns:\n",
    "- `tokens`: the list of tokens in a sentence\n",
    "- `indexed_tokens`: the list of indexes of each word in the sentence, taken from the previously built words vocabulary\n",
    "- `tags`: the list of tags associated to each token in a sentence\n",
    "- `indexed_tags`: the list of indexes of each tag in the sentence, taken from the previously built tags vocabulary\n",
    "- `split`: the split (`train`, `val` or `test`) associated to a particular example\n",
    "- `fileid`: the file identifier associated to each sentence"
   ]
  },
  {
   "cell_type": "code",
   "execution_count": 394,
   "metadata": {
    "execution": {
     "iopub.execute_input": "2020-11-17T09:44:43.191995Z",
     "iopub.status.busy": "2020-11-17T09:44:43.191668Z",
     "iopub.status.idle": "2020-11-17T09:44:43.371732Z",
     "shell.execute_reply": "2020-11-17T09:44:43.370741Z",
     "shell.execute_reply.started": "2020-11-17T09:44:43.191954Z"
    }
   },
   "outputs": [
    {
     "data": {
      "text/html": [
       "<div>\n",
       "<style scoped>\n",
       "    .dataframe tbody tr th:only-of-type {\n",
       "        vertical-align: middle;\n",
       "    }\n",
       "\n",
       "    .dataframe tbody tr th {\n",
       "        vertical-align: top;\n",
       "    }\n",
       "\n",
       "    .dataframe thead th {\n",
       "        text-align: right;\n",
       "    }\n",
       "</style>\n",
       "<table border=\"1\" class=\"dataframe\">\n",
       "  <thead>\n",
       "    <tr style=\"text-align: right;\">\n",
       "      <th></th>\n",
       "      <th>tokens</th>\n",
       "      <th>indexed_tokens</th>\n",
       "      <th>tags</th>\n",
       "      <th>indexed_tags</th>\n",
       "      <th>split</th>\n",
       "      <th>fileid</th>\n",
       "    </tr>\n",
       "  </thead>\n",
       "  <tbody>\n",
       "    <tr>\n",
       "      <th>0</th>\n",
       "      <td>[pierre, vinken, ,, &lt;num&gt;, years, old, ,, will...</td>\n",
       "      <td>[6562, 9557, 20, 40, 9919, 6130, 20, 9793, 474...</td>\n",
       "      <td>[NNP, NNP, ,, CD, NNS, JJ, ,, MD, VB, DT, NN, ...</td>\n",
       "      <td>[21, 21, 4, 10, 23, 15, 4, 19, 35, 11, 20, 14,...</td>\n",
       "      <td>train</td>\n",
       "      <td>wsj_0001.dp</td>\n",
       "    </tr>\n",
       "    <tr>\n",
       "      <th>1</th>\n",
       "      <td>[rudolph, agnew, ,, &lt;num&gt;, years, old, and, fo...</td>\n",
       "      <td>[7695, 256, 20, 40, 9919, 6130, 394, 3607, 146...</td>\n",
       "      <td>[NNP, NNP, ,, CD, NNS, JJ, CC, JJ, NN, IN, NNP...</td>\n",
       "      <td>[21, 21, 4, 10, 23, 15, 9, 15, 20, 14, 21, 21,...</td>\n",
       "      <td>train</td>\n",
       "      <td>wsj_0002.dp</td>\n",
       "    </tr>\n",
       "    <tr>\n",
       "      <th>2</th>\n",
       "      <td>[a, form, of, asbestos, once, used, to, make, ...</td>\n",
       "      <td>[45, 3601, 6095, 570, 6146, 9453, 9063, 5302, ...</td>\n",
       "      <td>[DT, NN, IN, NN, RB, VBN, TO, VB, NNP, NN, NNS...</td>\n",
       "      <td>[11, 20, 14, 20, 28, 38, 33, 35, 21, 20, 23, 4...</td>\n",
       "      <td>train</td>\n",
       "      <td>wsj_0003.dp</td>\n",
       "    </tr>\n",
       "    <tr>\n",
       "      <th>3</th>\n",
       "      <td>[yields, on, money-market, mutual, funds, cont...</td>\n",
       "      <td>[9931, 6144, 5688, 5792, 3725, 1968, 9063, 821...</td>\n",
       "      <td>[NNS, IN, JJ, JJ, NNS, VBD, TO, VB, ,, IN, NNS...</td>\n",
       "      <td>[23, 14, 15, 15, 23, 36, 33, 35, 4, 14, 23, 14...</td>\n",
       "      <td>train</td>\n",
       "      <td>wsj_0004.dp</td>\n",
       "    </tr>\n",
       "    <tr>\n",
       "      <th>4</th>\n",
       "      <td>[j.p., bolduc, ,, vice, chairman, of, w.r., gr...</td>\n",
       "      <td>[4701, 1024, 20, 9535, 1462, 6095, 9609, 3894,...</td>\n",
       "      <td>[NNP, NNP, ,, NN, NN, IN, NNP, NNP, CC, NNP, ,...</td>\n",
       "      <td>[21, 21, 4, 20, 20, 14, 21, 21, 9, 21, 4, 41, ...</td>\n",
       "      <td>train</td>\n",
       "      <td>wsj_0005.dp</td>\n",
       "    </tr>\n",
       "  </tbody>\n",
       "</table>\n",
       "</div>"
      ],
      "text/plain": [
       "                                              tokens  \\\n",
       "0  [pierre, vinken, ,, <num>, years, old, ,, will...   \n",
       "1  [rudolph, agnew, ,, <num>, years, old, and, fo...   \n",
       "2  [a, form, of, asbestos, once, used, to, make, ...   \n",
       "3  [yields, on, money-market, mutual, funds, cont...   \n",
       "4  [j.p., bolduc, ,, vice, chairman, of, w.r., gr...   \n",
       "\n",
       "                                      indexed_tokens  \\\n",
       "0  [6562, 9557, 20, 40, 9919, 6130, 20, 9793, 474...   \n",
       "1  [7695, 256, 20, 40, 9919, 6130, 394, 3607, 146...   \n",
       "2  [45, 3601, 6095, 570, 6146, 9453, 9063, 5302, ...   \n",
       "3  [9931, 6144, 5688, 5792, 3725, 1968, 9063, 821...   \n",
       "4  [4701, 1024, 20, 9535, 1462, 6095, 9609, 3894,...   \n",
       "\n",
       "                                                tags  \\\n",
       "0  [NNP, NNP, ,, CD, NNS, JJ, ,, MD, VB, DT, NN, ...   \n",
       "1  [NNP, NNP, ,, CD, NNS, JJ, CC, JJ, NN, IN, NNP...   \n",
       "2  [DT, NN, IN, NN, RB, VBN, TO, VB, NNP, NN, NNS...   \n",
       "3  [NNS, IN, JJ, JJ, NNS, VBD, TO, VB, ,, IN, NNS...   \n",
       "4  [NNP, NNP, ,, NN, NN, IN, NNP, NNP, CC, NNP, ,...   \n",
       "\n",
       "                                        indexed_tags  split       fileid  \n",
       "0  [21, 21, 4, 10, 23, 15, 4, 19, 35, 11, 20, 14,...  train  wsj_0001.dp  \n",
       "1  [21, 21, 4, 10, 23, 15, 9, 15, 20, 14, 21, 21,...  train  wsj_0002.dp  \n",
       "2  [11, 20, 14, 20, 28, 38, 33, 35, 21, 20, 23, 4...  train  wsj_0003.dp  \n",
       "3  [23, 14, 15, 15, 23, 36, 33, 35, 4, 14, 23, 14...  train  wsj_0004.dp  \n",
       "4  [21, 21, 4, 20, 20, 14, 21, 21, 9, 21, 4, 41, ...  train  wsj_0005.dp  "
      ]
     },
     "execution_count": 394,
     "metadata": {},
     "output_type": "execute_result"
    }
   ],
   "source": [
    "df = pd.DataFrame(\n",
    "    {\n",
    "        \"tokens\": whole_tokens,\n",
    "        \"indexed_tokens\": whole_indexed_tokens,\n",
    "        \"tags\": whole_tags,\n",
    "        \"indexed_tags\": whole_indexed_tags,\n",
    "        \"split\": splits,\n",
    "        \"fileid\": whole_files,\n",
    "    }\n",
    ")\n",
    "df.head()"
   ]
  },
  {
   "cell_type": "markdown",
   "metadata": {},
   "source": [
    "## Dataset and DataLoader"
   ]
  },
  {
   "cell_type": "markdown",
   "metadata": {},
   "source": [
    "In order to correctly work with batches and sequences of different lenght inside of each batch, we need to exploit the objects made available by PyTorch. In particular, we need to wrap our `DataFrame` inside a custom `Dataset` subclass, which will be used later as an input for a `DataLoader` object, that will automatically handle the generation of batches from our examples. "
   ]
  },
  {
   "cell_type": "code",
   "execution_count": 395,
   "metadata": {
    "execution": {
     "iopub.execute_input": "2020-11-17T09:44:48.440810Z",
     "iopub.status.busy": "2020-11-17T09:44:48.440138Z",
     "iopub.status.idle": "2020-11-17T09:44:48.523047Z",
     "shell.execute_reply": "2020-11-17T09:44:48.521772Z",
     "shell.execute_reply.started": "2020-11-17T09:44:48.440738Z"
    }
   },
   "outputs": [],
   "source": [
    "class DependencyTreebankDataset(Dataset):\n",
    "    \"\"\"\n",
    "    Dependency treebank dataset for POS tagging\n",
    "    \"\"\"\n",
    "\n",
    "    def __init__(self, df):\n",
    "        self.df = df.copy()\n",
    "        self.df = self.df.reset_index(drop=True)\n",
    "\n",
    "    def __len__(self):\n",
    "        return self.df.shape[0]\n",
    "\n",
    "    def __getitem__(self, index):\n",
    "        assert isinstance(index, int)\n",
    "        tokens = self.df.loc[index, \"indexed_tokens\"]\n",
    "        tags = self.df.loc[index, \"indexed_tags\"]\n",
    "        return tokens, tags"
   ]
  },
  {
   "cell_type": "markdown",
   "metadata": {},
   "source": [
    "We will build and store three different `Dataset` objects, based on the split parameter of the previously built DataFrame, which will be used in different stages of the learning process, i.e. training, validation and testing."
   ]
  },
  {
   "cell_type": "code",
   "execution_count": 396,
   "metadata": {
    "execution": {
     "iopub.execute_input": "2020-11-17T09:44:51.154682Z",
     "iopub.status.busy": "2020-11-17T09:44:51.154361Z",
     "iopub.status.idle": "2020-11-17T09:44:51.216081Z",
     "shell.execute_reply": "2020-11-17T09:44:51.214916Z",
     "shell.execute_reply.started": "2020-11-17T09:44:51.154642Z"
    }
   },
   "outputs": [],
   "source": [
    "train_dataset = DependencyTreebankDataset(df[df[\"split\"] == \"train\"])\n",
    "val_dataset = DependencyTreebankDataset(df[df[\"split\"] == \"val\"])\n",
    "test_dataset = DependencyTreebankDataset(df[df[\"split\"] == \"test\"])"
   ]
  },
  {
   "cell_type": "markdown",
   "metadata": {},
   "source": [
    "Let's see if our `Dataset` building process worked out nicely, by checking the first example in the training dataset$\\dots$"
   ]
  },
  {
   "cell_type": "code",
   "execution_count": 397,
   "metadata": {
    "execution": {
     "iopub.execute_input": "2020-11-17T09:44:52.512604Z",
     "iopub.status.busy": "2020-11-17T09:44:52.512287Z",
     "iopub.status.idle": "2020-11-17T09:44:52.570951Z",
     "shell.execute_reply": "2020-11-17T09:44:52.569876Z",
     "shell.execute_reply.started": "2020-11-17T09:44:52.512563Z"
    }
   },
   "outputs": [
    {
     "name": "stdout",
     "output_type": "stream",
     "text": [
      "([6562, 9557, 20, 40, 9919, 6130, 20, 9793, 4749, 8966, 1013, 568, 45, 5988, 2554, 6028, 40, 27, 5755, 9557, 4676, 1462, 6095, 2953, 5808, 20, 8966, 2826, 7018, 3943, 27], [21, 21, 4, 10, 23, 15, 4, 19, 35, 11, 20, 14, 11, 15, 20, 21, 10, 7, 21, 21, 40, 20, 14, 21, 21, 4, 11, 21, 37, 20, 7])\n"
     ]
    }
   ],
   "source": [
    "print(train_dataset[0])"
   ]
  },
  {
   "cell_type": "markdown",
   "metadata": {},
   "source": [
    "As already mentioned, the `DataLoader` object will be used to automatically handle the generation of batches (with the specified batch size) from the entire list of examples$\\dots$ \n",
    "\n",
    "Another important aspect of `DataLoader`s is that they enable us to pad sequences in the same batch to be of the same lenght (i.e. the lenght of the longest sequence in the batch), by using the previously defined padding token. To do so, we leverage PyTorch's `pad_sequence` function."
   ]
  },
  {
   "cell_type": "code",
   "execution_count": 398,
   "metadata": {
    "execution": {
     "iopub.execute_input": "2020-11-17T09:44:56.429503Z",
     "iopub.status.busy": "2020-11-17T09:44:56.429121Z",
     "iopub.status.idle": "2020-11-17T09:44:56.490809Z",
     "shell.execute_reply": "2020-11-17T09:44:56.489619Z",
     "shell.execute_reply.started": "2020-11-17T09:44:56.429461Z"
    }
   },
   "outputs": [],
   "source": [
    "def pad_batch(batch, padding_token=\"0\"):\n",
    "    \"\"\"\n",
    "    This function expects to receive a list of tuples (i.e. a batch),\n",
    "    s.t. each tuple contains tokens and tags for one sentence in the batch\n",
    "    and returns the same sequences padded with the padding token\n",
    "    \"\"\"\n",
    "    (tokens, tags) = zip(*batch)\n",
    "    tokens_lenghts = [len(x) for x in tokens]\n",
    "    tags_lenghts = [len(y) for y in tags]\n",
    "    padded_tokens = pad_sequence(\n",
    "        [torch.tensor(t) for t in tokens],\n",
    "        batch_first=True,\n",
    "        padding_value=int(padding_token),\n",
    "    )\n",
    "    padded_tags = pad_sequence(\n",
    "        [torch.tensor(t) for t in tags],\n",
    "        batch_first=True,\n",
    "        padding_value=int(padding_token),\n",
    "    )\n",
    "    return padded_tokens, padded_tags, tokens_lenghts, tags_lenghts"
   ]
  },
  {
   "cell_type": "code",
   "execution_count": 399,
   "metadata": {
    "execution": {
     "iopub.execute_input": "2020-11-17T09:44:57.025123Z",
     "iopub.status.busy": "2020-11-17T09:44:57.024807Z",
     "iopub.status.idle": "2020-11-17T09:44:57.082916Z",
     "shell.execute_reply": "2020-11-17T09:44:57.081704Z",
     "shell.execute_reply.started": "2020-11-17T09:44:57.025083Z"
    }
   },
   "outputs": [],
   "source": [
    "batch_size = 5\n",
    "default_dataloader = partial(\n",
    "    DataLoader,\n",
    "    batch_size=batch_size,\n",
    "    shuffle=False,\n",
    "    collate_fn=partial(pad_batch, padding_token=PADDING_TOKEN),\n",
    "    pin_memory=True,\n",
    ")"
   ]
  },
  {
   "cell_type": "markdown",
   "metadata": {},
   "source": [
    "As we did with the `Dataset` wrapper, we will store three different `DataLoader` objects, one for each learning stage."
   ]
  },
  {
   "cell_type": "code",
   "execution_count": 400,
   "metadata": {
    "execution": {
     "iopub.execute_input": "2020-11-17T09:44:58.849032Z",
     "iopub.status.busy": "2020-11-17T09:44:58.848714Z",
     "iopub.status.idle": "2020-11-17T09:44:58.906204Z",
     "shell.execute_reply": "2020-11-17T09:44:58.905002Z",
     "shell.execute_reply.started": "2020-11-17T09:44:58.848992Z"
    }
   },
   "outputs": [],
   "source": [
    "train_dataloader = default_dataloader(train_dataset)\n",
    "val_dataloader = default_dataloader(val_dataset)\n",
    "test_dataloader = default_dataloader(test_dataset)"
   ]
  },
  {
   "cell_type": "markdown",
   "metadata": {},
   "source": [
    "## Word embeddings"
   ]
  },
  {
   "cell_type": "markdown",
   "metadata": {},
   "source": [
    "The way we represent words in sequence labeling models is still using word embeddings, exploiting methods like `Word2vec` or `GloVe`. In this whole notebook, we will leverage `GloVe` pre-trained embeddings with a fixed dimensionality of `50`, as given by the `Gensim` library. \n",
    "\n",
    "Because of this, we need to build our embedding matrix, i.e. a matrix $E$ of size $w\\times d$, where $w$ is the number of unique words in our dataset and $d$ is the dimensionality of word embeddings (in our example $d=50$). In order to correctly build the embedding matrix, we need a way to handle OOV (Out Of Vocabulary) words, i.e. words that appear in our dataset but not on the dataset on which the embeddings where trained on. We will try different OOV handling methods:\n",
    "- `uniform`: the OOV word vector is sampled from a uniform distribution in a specific range (e.g. $[-1,1]$)\n",
    "- `normal`: the OOV word vector is sampled from a normal distribution (i.e. a Gaussian with $\\mu=0$ and $\\sigma=1$)\n",
    "- `mean`: the OOV word vector is taken as the average of the not OOV word vectors represented by neighbors of the analyzed word (considering a window size of $1$)\n",
    "- `subword`: the OOV word vector is estimated by a recurrent model, using subword information (i.e. using characters as inputs instead of words)\n",
    "\n",
    "Moreover, we also zero-out the word vector associated with the padding token."
   ]
  },
  {
   "cell_type": "code",
   "execution_count": 401,
   "metadata": {
    "execution": {
     "iopub.execute_input": "2020-11-17T09:45:04.083684Z",
     "iopub.status.busy": "2020-11-17T09:45:04.083273Z",
     "iopub.status.idle": "2020-11-17T09:45:55.131624Z",
     "shell.execute_reply": "2020-11-17T09:45:55.129949Z",
     "shell.execute_reply.started": "2020-11-17T09:45:04.083641Z"
    }
   },
   "outputs": [],
   "source": [
    "embedding_dimension = 50\n",
    "embedding_model = utils.load_embedding_model(\n",
    "    \"glove\", embedding_dimension=embedding_dimension\n",
    ")"
   ]
  },
  {
   "cell_type": "code",
   "execution_count": 402,
   "metadata": {
    "execution": {
     "iopub.execute_input": "2020-11-17T09:45:55.438920Z",
     "iopub.status.busy": "2020-11-17T09:45:55.438606Z",
     "iopub.status.idle": "2020-11-17T09:45:55.497011Z",
     "shell.execute_reply": "2020-11-17T09:45:55.495923Z",
     "shell.execute_reply.started": "2020-11-17T09:45:55.438879Z"
    }
   },
   "outputs": [],
   "source": [
    "def check_oov_terms(embedding_model, word_listing):\n",
    "    \"\"\"\n",
    "    Checks differences between pre-trained embedding model vocabulary\n",
    "    and dataset specific vocabulary in order to highlight out-of-vocabulary terms\n",
    "    \"\"\"\n",
    "    oov_terms = []\n",
    "    for word in word_listing:\n",
    "        if word not in embedding_model.vocab:\n",
    "            oov_terms.append(word)\n",
    "    return oov_terms"
   ]
  },
  {
   "cell_type": "code",
   "execution_count": 403,
   "metadata": {
    "execution": {
     "iopub.execute_input": "2020-11-17T09:45:55.499530Z",
     "iopub.status.busy": "2020-11-17T09:45:55.499227Z",
     "iopub.status.idle": "2020-11-17T09:45:55.558576Z",
     "shell.execute_reply": "2020-11-17T09:45:55.556984Z",
     "shell.execute_reply.started": "2020-11-17T09:45:55.499493Z"
    }
   },
   "outputs": [
    {
     "name": "stdout",
     "output_type": "stream",
     "text": [
      "Total OOV terms: 508 (0.05%)\n"
     ]
    }
   ],
   "source": [
    "oov_terms = check_oov_terms(embedding_model, word_listing)\n",
    "print(\n",
    "    f\"Total OOV terms: {len(oov_terms)} ({round(len(oov_terms) / len(word_listing), 2)}%)\"\n",
    ")"
   ]
  },
  {
   "cell_type": "code",
   "execution_count": 404,
   "metadata": {
    "execution": {
     "iopub.execute_input": "2020-11-17T09:45:55.560490Z",
     "iopub.status.busy": "2020-11-17T09:45:55.560191Z",
     "iopub.status.idle": "2020-11-17T09:45:55.617324Z",
     "shell.execute_reply": "2020-11-17T09:45:55.616042Z",
     "shell.execute_reply.started": "2020-11-17T09:45:55.560453Z"
    }
   },
   "outputs": [],
   "source": [
    "def build_embedding_matrix(\n",
    "    embedding_model,\n",
    "    embedding_dimension,\n",
    "    word_to_index,\n",
    "    oov_terms,\n",
    "    method=\"normal\",\n",
    "    padding_token=\"0\",\n",
    "):\n",
    "    \"\"\"\n",
    "    Builds the embedding matrix of a specific dataset given a pre-trained Gensim word embedding model\n",
    "    \"\"\"\n",
    "\n",
    "    def uniform_embedding(embedding_dimension, interval=(-1, 1)):\n",
    "        return interval[0] + np.random.sample(embedding_dimension) + interval[1]\n",
    "\n",
    "    def normal_embedding(embedding_dimension):\n",
    "        return np.random.normal(embedding_dimension)\n",
    "\n",
    "    embedding_matrix = np.zeros((len(word_to_index), embedding_dimension))\n",
    "    for word, index in word_to_index.items():\n",
    "        if word == padding_token:\n",
    "            word_vector = np.zeros((1, embedding_dimension))\n",
    "        # Words that are no OOV are taken from the Gensim model\n",
    "        elif word not in oov_terms:\n",
    "            word_vector = embedding_model[word]\n",
    "        # OOV words computed as random normal vectors\n",
    "        elif method == \"normal\":\n",
    "            word_vector = normal_embedding(embedding_dimension)\n",
    "        # OOV words computed as uniform vectors in range [-1, 1]\n",
    "        elif method == \"uniform\":\n",
    "            word_vector = uniform_embedding(embedding_dimension)\n",
    "        embedding_matrix[index, :] = word_vector\n",
    "    return embedding_matrix"
   ]
  },
  {
   "cell_type": "markdown",
   "metadata": {},
   "source": [
    "Let's build the embedding matrix using the `normal` method for OOV words and check the embedding of a common word like `\"the\"`$\\dots$"
   ]
  },
  {
   "cell_type": "code",
   "execution_count": 405,
   "metadata": {
    "execution": {
     "iopub.execute_input": "2020-11-17T09:46:03.729172Z",
     "iopub.status.busy": "2020-11-17T09:46:03.728742Z",
     "iopub.status.idle": "2020-11-17T09:46:04.060526Z",
     "shell.execute_reply": "2020-11-17T09:46:04.059237Z",
     "shell.execute_reply.started": "2020-11-17T09:46:03.729129Z"
    }
   },
   "outputs": [
    {
     "data": {
      "text/plain": [
       "array([ 4.18000013e-01,  2.49679998e-01, -4.12420005e-01,  1.21699996e-01,\n",
       "        3.45270008e-01, -4.44569997e-02, -4.96879995e-01, -1.78619996e-01,\n",
       "       -6.60229998e-04, -6.56599998e-01,  2.78430015e-01, -1.47670001e-01,\n",
       "       -5.56770027e-01,  1.46579996e-01, -9.50950012e-03,  1.16579998e-02,\n",
       "        1.02040000e-01, -1.27920002e-01, -8.44299972e-01, -1.21809997e-01,\n",
       "       -1.68009996e-02, -3.32789987e-01, -1.55200005e-01, -2.31309995e-01,\n",
       "       -1.91809997e-01, -1.88230002e+00, -7.67459989e-01,  9.90509987e-02,\n",
       "       -4.21249986e-01, -1.95260003e-01,  4.00710011e+00, -1.85939997e-01,\n",
       "       -5.22870004e-01, -3.16810012e-01,  5.92130003e-04,  7.44489999e-03,\n",
       "        1.77780002e-01, -1.58969998e-01,  1.20409997e-02, -5.42230010e-02,\n",
       "       -2.98709989e-01, -1.57490000e-01, -3.47579986e-01, -4.56370004e-02,\n",
       "       -4.42510009e-01,  1.87849998e-01,  2.78489990e-03, -1.84110001e-01,\n",
       "       -1.15139998e-01, -7.85809994e-01])"
      ]
     },
     "execution_count": 405,
     "metadata": {},
     "output_type": "execute_result"
    }
   ],
   "source": [
    "embedding_matrix = build_embedding_matrix(\n",
    "    embedding_model,\n",
    "    embedding_dimension,\n",
    "    word_to_index,\n",
    "    oov_terms,\n",
    "    method=\"normal\",\n",
    "    padding_token=PADDING_TOKEN,\n",
    ")\n",
    "embedding_matrix[word_to_index[\"the\"]]"
   ]
  },
  {
   "cell_type": "markdown",
   "metadata": {},
   "source": [
    "Let's also check the embedding of the padding token, which should contain all zero entries$\\dots$"
   ]
  },
  {
   "cell_type": "code",
   "execution_count": 406,
   "metadata": {
    "execution": {
     "iopub.execute_input": "2020-11-17T09:46:05.428426Z",
     "iopub.status.busy": "2020-11-17T09:46:05.428105Z",
     "iopub.status.idle": "2020-11-17T09:46:05.489097Z",
     "shell.execute_reply": "2020-11-17T09:46:05.487892Z",
     "shell.execute_reply.started": "2020-11-17T09:46:05.428385Z"
    }
   },
   "outputs": [
    {
     "data": {
      "text/plain": [
       "array([0., 0., 0., 0., 0., 0., 0., 0., 0., 0., 0., 0., 0., 0., 0., 0., 0.,\n",
       "       0., 0., 0., 0., 0., 0., 0., 0., 0., 0., 0., 0., 0., 0., 0., 0., 0.,\n",
       "       0., 0., 0., 0., 0., 0., 0., 0., 0., 0., 0., 0., 0., 0., 0., 0.])"
      ]
     },
     "execution_count": 406,
     "metadata": {},
     "output_type": "execute_result"
    }
   ],
   "source": [
    "embedding_matrix[word_to_index[PADDING_TOKEN]]"
   ]
  },
  {
   "cell_type": "markdown",
   "metadata": {},
   "source": [
    "## Learning utils"
   ]
  },
  {
   "cell_type": "code",
   "execution_count": 449,
   "metadata": {
    "execution": {
     "iopub.execute_input": "2020-11-17T10:11:31.752736Z",
     "iopub.status.busy": "2020-11-17T10:11:31.752285Z",
     "iopub.status.idle": "2020-11-17T10:11:31.814184Z",
     "shell.execute_reply": "2020-11-17T10:11:31.812953Z",
     "shell.execute_reply.started": "2020-11-17T10:11:31.752690Z"
    }
   },
   "outputs": [],
   "source": [
    "def categorical_accuracy(predictions, ground_truth, padding_index=0):\n",
    "    \"\"\"\n",
    "    Returns accuracy score over the given batch of data\n",
    "    \"\"\"\n",
    "    max_predictions = predictions.argmax(dim=1, keepdim=True)\n",
    "    non_pad_elements = torch.where(ground_truth != padding_index)[0]\n",
    "    correct = (\n",
    "        max_predictions[non_pad_elements].squeeze(1).eq(ground_truth[non_pad_elements])\n",
    "    )\n",
    "    return correct.sum() / torch.FloatTensor([ground_truth[non_pad_elements].shape[0]])"
   ]
  },
  {
   "cell_type": "code",
   "execution_count": 450,
   "metadata": {
    "execution": {
     "iopub.execute_input": "2020-11-17T10:11:32.117653Z",
     "iopub.status.busy": "2020-11-17T10:11:32.117344Z",
     "iopub.status.idle": "2020-11-17T10:11:32.178007Z",
     "shell.execute_reply": "2020-11-17T10:11:32.176965Z",
     "shell.execute_reply.started": "2020-11-17T10:11:32.117613Z"
    }
   },
   "outputs": [],
   "source": [
    "def f1_score(predictions, ground_truth, labels=None, padding_index=0):\n",
    "    \"\"\"\n",
    "    Returns F1-macro score over the given batch of data\n",
    "    \"\"\"\n",
    "    max_predictions = predictions.argmax(dim=1)\n",
    "    non_pad_elements = torch.where(ground_truth != padding_index)[0]\n",
    "    return sklearn.metrics.f1_score(\n",
    "        ground_truth[non_pad_elements].cpu().detach().tolist(),\n",
    "        max_predictions[non_pad_elements].cpu().detach().tolist(),\n",
    "        labels=labels,\n",
    "        average=\"macro\",\n",
    "    )"
   ]
  },
  {
   "cell_type": "code",
   "execution_count": 473,
   "metadata": {
    "execution": {
     "iopub.execute_input": "2020-11-17T10:52:35.066556Z",
     "iopub.status.busy": "2020-11-17T10:52:35.066122Z",
     "iopub.status.idle": "2020-11-17T10:52:35.180619Z",
     "shell.execute_reply": "2020-11-17T10:52:35.179190Z",
     "shell.execute_reply.started": "2020-11-17T10:52:35.066514Z"
    }
   },
   "outputs": [],
   "source": [
    "def train(model, dataloader):\n",
    "    \"\"\"\n",
    "    Train the given model with the given dataloader\n",
    "    \"\"\"\n",
    "    epoch_loss, epoch_acc, epoch_f1 = 0, 0, 0\n",
    "    model.train()\n",
    "    for tokens, tags, tokens_lenghts, tags_lenghts in tqdm(dataloader):\n",
    "        model.optimizer.zero_grad()\n",
    "        predictions = model(tokens, tokens_lenghts, tags=tags)\n",
    "        print(predictions)\n",
    "        predictions = predictions.view(-1, predictions.shape[-1])\n",
    "        tags = tags.view(-1)\n",
    "        loss = model.criterion(predictions, tags)\n",
    "        acc = categorical_accuracy(predictions, tags)\n",
    "        f1 = f1_score(predictions, tags, labels=no_punct_tags_indexes)\n",
    "        loss.backward()\n",
    "        model.optimizer.step()\n",
    "        epoch_loss += loss.item()\n",
    "        epoch_acc += acc.item()\n",
    "        epoch_f1 += f1.item()\n",
    "\n",
    "    return (\n",
    "        epoch_loss / len(dataloader),\n",
    "        epoch_acc / len(dataloader),\n",
    "        epoch_f1 / len(dataloader),\n",
    "    )"
   ]
  },
  {
   "cell_type": "code",
   "execution_count": 452,
   "metadata": {
    "execution": {
     "iopub.execute_input": "2020-11-17T10:11:37.773617Z",
     "iopub.status.busy": "2020-11-17T10:11:37.773304Z",
     "iopub.status.idle": "2020-11-17T10:11:37.837447Z",
     "shell.execute_reply": "2020-11-17T10:11:37.836281Z",
     "shell.execute_reply.started": "2020-11-17T10:11:37.773577Z"
    }
   },
   "outputs": [],
   "source": [
    "def evaluate(model, dataloader):\n",
    "    \"\"\"\n",
    "    Evaluate the given model with the given dataloader\n",
    "    \"\"\"\n",
    "    epoch_loss, epoch_acc, epoch_f1 = 0, 0, 0\n",
    "    model.eval()\n",
    "    with torch.no_grad():\n",
    "        for tokens, tags, tokens_lenghts, tags_lenghts in tqdm(dataloader):\n",
    "            predictions = model(tokens, tokens_lenghts)\n",
    "            predictions = predictions.view(-1, predictions.shape[-1])\n",
    "            tags = tags.view(-1)\n",
    "            loss = model.criterion(predictions, tags)\n",
    "            acc = categorical_accuracy(predictions, tags)\n",
    "            f1 = f1_score(predictions, tags, no_punct_tags_indexes)\n",
    "            epoch_loss += loss.item()\n",
    "            epoch_acc += acc.item()\n",
    "            epoch_f1 += f1.item()\n",
    "\n",
    "    return (\n",
    "        epoch_loss / len(dataloader),\n",
    "        epoch_acc / len(dataloader),\n",
    "        epoch_f1 / len(dataloader),\n",
    "    )"
   ]
  },
  {
   "cell_type": "code",
   "execution_count": 455,
   "metadata": {
    "execution": {
     "iopub.execute_input": "2020-11-17T10:27:41.516757Z",
     "iopub.status.busy": "2020-11-17T10:27:41.516316Z",
     "iopub.status.idle": "2020-11-17T10:27:41.583548Z",
     "shell.execute_reply": "2020-11-17T10:27:41.582331Z",
     "shell.execute_reply.started": "2020-11-17T10:27:41.516713Z"
    }
   },
   "outputs": [],
   "source": [
    "def train_val_test(model, model_name, epochs=10):\n",
    "    \"\"\"\n",
    "    Perform training, validation and testing on the given model,\n",
    "    for the specified number of epochs\n",
    "    \"\"\"\n",
    "    best_val_loss = float(\"inf\")\n",
    "    for epoch in range(epochs):\n",
    "        # Perform train and validation\n",
    "        print(f\"Epoch: {epoch + 1:02}\")\n",
    "        start_time = time.time()\n",
    "        print(f\"Training...\")\n",
    "        train_loss, train_acc, train_f1 = train(model, train_dataloader)\n",
    "        print(f\"Evaluating...\")\n",
    "        val_loss, val_acc, val_f1 = evaluate(model, val_dataloader)\n",
    "        end_time = time.time()\n",
    "\n",
    "        # Print epoch stats\n",
    "        print(f\"Epoch Time: {end_time - start_time}s\")\n",
    "        print(\n",
    "            f\"Train loss: {train_loss:.3f} | Train accuracy: {train_acc * 100:.2f}% | Train F1: {train_f1 * 100:.2f}%\"\n",
    "        )\n",
    "        print(\n",
    "            f\"Validation loss: {val_loss:.3f} | Validation accuracy: {val_acc * 100:.2f}% | Validation F1: {val_f1 * 100:.2f}%\"\n",
    "        )\n",
    "\n",
    "        # Save the best model so far\n",
    "        if val_loss < best_val_loss:\n",
    "            print(\"Saving new checkpoint...\")\n",
    "            best_val_loss = val_loss\n",
    "            torch.save(model.state_dict(), f\"models/{model_name}.pt\")\n",
    "\n",
    "        print()\n",
    "\n",
    "    # Test the model\n",
    "    model.load_state_dict(torch.load(f\"models/{model_name}.pt\"))\n",
    "    print(\"Testing...\")\n",
    "    test_loss, test_acc, test_f1 = evaluate(model, test_dataloader)\n",
    "    print(\n",
    "        f\"Test loss: {test_loss:.3f} | Test accuracy: {test_acc * 100:.2f}% | Test F1: {test_f1 * 100:.2f}%\"\n",
    "    )"
   ]
  },
  {
   "cell_type": "markdown",
   "metadata": {},
   "source": [
    "## Model definition"
   ]
  },
  {
   "cell_type": "code",
   "execution_count": 464,
   "metadata": {
    "execution": {
     "iopub.execute_input": "2020-11-17T10:49:07.609893Z",
     "iopub.status.busy": "2020-11-17T10:49:07.609447Z",
     "iopub.status.idle": "2020-11-17T10:49:07.684409Z",
     "shell.execute_reply": "2020-11-17T10:49:07.683127Z",
     "shell.execute_reply.started": "2020-11-17T10:49:07.609849Z"
    }
   },
   "outputs": [],
   "source": [
    "class POSTaggingModel(nn.Module):\n",
    "    def __init__(\n",
    "        self,\n",
    "        input_dimension,\n",
    "        embedding_dimension,\n",
    "        hidden_dimension,\n",
    "        output_dimension,\n",
    "        embedding_matrix=None,\n",
    "        retrain_embeddings=True,\n",
    "        gru=True,\n",
    "        num_layers=1,\n",
    "        bidirectional=True,\n",
    "        dropout_rate=0.0,\n",
    "        lr=1e-3,\n",
    "        padding_index=0,\n",
    "        crf=False,\n",
    "    ):\n",
    "        \"\"\"\n",
    "        Build a generic POS tagging model, with recurrent modules\n",
    "        \"\"\"\n",
    "        super().__init__()\n",
    "\n",
    "        # Embedding module\n",
    "        self.embedding = nn.Embedding(\n",
    "            input_dimension, embedding_dimension, padding_idx=padding_index\n",
    "        )\n",
    "        if embedding_matrix is not None:\n",
    "            assert (\n",
    "                embedding_matrix.shape[0] == input_dimension\n",
    "                and embedding_matrix.shape[1] == embedding_dimension\n",
    "            )\n",
    "            self.embedding.weight = nn.Parameter(torch.FloatTensor(embedding_matrix))\n",
    "        self.embedding.weight.requires_grad = retrain_embeddings\n",
    "\n",
    "        # Recurrent module\n",
    "        recurrent_module = nn.GRU if gru else nn.LSTM\n",
    "        self.recurrent_module = recurrent_module(\n",
    "            embedding_dimension,\n",
    "            hidden_dimension,\n",
    "            batch_first=True,\n",
    "            num_layers=num_layers,\n",
    "            bidirectional=bidirectional,\n",
    "            dropout=dropout_rate if num_layers > 1 else 0,\n",
    "        )\n",
    "\n",
    "        # Dense/Dropout\n",
    "        self.dense = nn.Linear(\n",
    "            hidden_dimension * 2 if bidirectional else hidden_dimension,\n",
    "            output_dimension,\n",
    "        )\n",
    "        self.dropout = nn.Dropout(dropout_rate)\n",
    "        \n",
    "        # CRF\n",
    "        self.crf = crf\n",
    "        if self.crf:\n",
    "            self.crf_model = CRF(output_dimension, batch_first=True)\n",
    "\n",
    "        # Get device and transfer\n",
    "        self.device = torch.device(\"cuda\" if torch.cuda.is_available() else \"cpu\")\n",
    "        self.to(self.device)\n",
    "\n",
    "        # Optimizer and criterion\n",
    "        self.lr = lr\n",
    "        self.optimizer = optim.Adam(self.parameters(), lr=lr)\n",
    "        self.criterion = nn.CrossEntropyLoss(ignore_index=padding_index).to(self.device)\n",
    "\n",
    "    def forward(self, tokens, tokens_lenghts, tags=None):\n",
    "        embedded = self.dropout(self.embedding(tokens))\n",
    "        packed = pack_padded_sequence(\n",
    "            embedded, tokens_lenghts, batch_first=True, enforce_sorted=False\n",
    "        )\n",
    "        packed_outputs, (hidden, cell) = self.recurrent_module(packed)\n",
    "        padded_outputs, outputs_lengths = pad_packed_sequence(\n",
    "            packed_outputs, batch_first=True\n",
    "        )\n",
    "        predictions = self.dense(self.dropout(padded_outputs))\n",
    "        if self.crf:\n",
    "            assert tags is not None\n",
    "            return -self.crf_model(predictions, tags)\n",
    "        return predictions"
   ]
  },
  {
   "cell_type": "code",
   "execution_count": 457,
   "metadata": {
    "execution": {
     "iopub.execute_input": "2020-11-17T10:27:45.937832Z",
     "iopub.status.busy": "2020-11-17T10:27:45.937511Z",
     "iopub.status.idle": "2020-11-17T10:27:45.995870Z",
     "shell.execute_reply": "2020-11-17T10:27:45.994533Z",
     "shell.execute_reply.started": "2020-11-17T10:27:45.937792Z"
    }
   },
   "outputs": [],
   "source": [
    "def count_parameters(model):\n",
    "    return sum(p.numel() for p in model.parameters() if p.requires_grad)"
   ]
  },
  {
   "cell_type": "code",
   "execution_count": 458,
   "metadata": {
    "execution": {
     "iopub.execute_input": "2020-11-17T10:27:46.284889Z",
     "iopub.status.busy": "2020-11-17T10:27:46.284574Z",
     "iopub.status.idle": "2020-11-17T10:27:46.342769Z",
     "shell.execute_reply": "2020-11-17T10:27:46.341680Z",
     "shell.execute_reply.started": "2020-11-17T10:27:46.284849Z"
    }
   },
   "outputs": [],
   "source": [
    "def init_weights(model):\n",
    "    for name, param in model.named_parameters():\n",
    "        nn.init.normal_(param.data, mean=0, std=0.1)"
   ]
  },
  {
   "cell_type": "code",
   "execution_count": 459,
   "metadata": {
    "execution": {
     "iopub.execute_input": "2020-11-17T10:27:46.440651Z",
     "iopub.status.busy": "2020-11-17T10:27:46.440351Z",
     "iopub.status.idle": "2020-11-17T10:27:46.491410Z",
     "shell.execute_reply": "2020-11-17T10:27:46.490443Z",
     "shell.execute_reply.started": "2020-11-17T10:27:46.440614Z"
    }
   },
   "outputs": [],
   "source": [
    "hidden_dimension = 128"
   ]
  },
  {
   "cell_type": "markdown",
   "metadata": {},
   "source": [
    "## Baseline model (BiLSTM + FC)"
   ]
  },
  {
   "cell_type": "code",
   "execution_count": 460,
   "metadata": {
    "execution": {
     "iopub.execute_input": "2020-11-17T10:27:48.428519Z",
     "iopub.status.busy": "2020-11-17T10:27:48.428203Z",
     "iopub.status.idle": "2020-11-17T10:27:48.514372Z",
     "shell.execute_reply": "2020-11-17T10:27:48.513158Z",
     "shell.execute_reply.started": "2020-11-17T10:27:48.428478Z"
    }
   },
   "outputs": [],
   "source": [
    "bilstm_fc_model = POSTaggingModel(\n",
    "    len(word_to_index),\n",
    "    embedding_dimension,\n",
    "    hidden_dimension,\n",
    "    len(tag_to_index),\n",
    "    embedding_matrix=embedding_matrix,\n",
    "    retrain_embeddings=False,\n",
    "    gru=False,\n",
    "    num_layers=1,\n",
    "    bidirectional=True,\n",
    "    dropout_rate=0.0,\n",
    "    crf=False,\n",
    ")"
   ]
  },
  {
   "cell_type": "code",
   "execution_count": 461,
   "metadata": {
    "execution": {
     "iopub.execute_input": "2020-11-17T10:27:48.781576Z",
     "iopub.status.busy": "2020-11-17T10:27:48.781251Z",
     "iopub.status.idle": "2020-11-17T10:27:48.839632Z",
     "shell.execute_reply": "2020-11-17T10:27:48.838491Z",
     "shell.execute_reply.started": "2020-11-17T10:27:48.781535Z"
    }
   },
   "outputs": [
    {
     "name": "stdout",
     "output_type": "stream",
     "text": [
      "The model has 196,142 trainable parameters\n"
     ]
    }
   ],
   "source": [
    "print(f\"The model has {count_parameters(bilstm_fc_model):,} trainable parameters\")"
   ]
  },
  {
   "cell_type": "code",
   "execution_count": 462,
   "metadata": {
    "execution": {
     "iopub.execute_input": "2020-11-17T10:28:04.020969Z",
     "iopub.status.busy": "2020-11-17T10:28:04.020521Z",
     "iopub.status.idle": "2020-11-17T10:28:04.138594Z",
     "shell.execute_reply": "2020-11-17T10:28:04.137403Z",
     "shell.execute_reply.started": "2020-11-17T10:28:04.020925Z"
    }
   },
   "outputs": [
    {
     "data": {
      "text/plain": [
       "POSTaggingModel(\n",
       "  (embedding): Embedding(9965, 50, padding_idx=0)\n",
       "  (recurrent_module): LSTM(50, 128, batch_first=True, bidirectional=True)\n",
       "  (dense): Linear(in_features=256, out_features=46, bias=True)\n",
       "  (dropout): Dropout(p=0.0, inplace=False)\n",
       "  (criterion): CrossEntropyLoss()\n",
       ")"
      ]
     },
     "execution_count": 462,
     "metadata": {},
     "output_type": "execute_result"
    }
   ],
   "source": [
    "bilstm_fc_model.apply(init_weights)"
   ]
  },
  {
   "cell_type": "code",
   "execution_count": 463,
   "metadata": {
    "execution": {
     "iopub.execute_input": "2020-11-17T10:28:07.021001Z",
     "iopub.status.busy": "2020-11-17T10:28:07.020547Z",
     "iopub.status.idle": "2020-11-17T10:43:49.368669Z",
     "shell.execute_reply": "2020-11-17T10:43:49.367234Z",
     "shell.execute_reply.started": "2020-11-17T10:28:07.020956Z"
    }
   },
   "outputs": [
    {
     "name": "stderr",
     "output_type": "stream",
     "text": [
      "  0%|          | 0/20 [00:00<?, ?it/s]"
     ]
    },
    {
     "name": "stdout",
     "output_type": "stream",
     "text": [
      "Epoch: 01\n",
      "Training...\n"
     ]
    },
    {
     "name": "stderr",
     "output_type": "stream",
     "text": [
      "100%|██████████| 20/20 [01:25<00:00,  4.28s/it]\n",
      "  0%|          | 0/10 [00:00<?, ?it/s]"
     ]
    },
    {
     "name": "stdout",
     "output_type": "stream",
     "text": [
      "Evaluating...\n"
     ]
    },
    {
     "name": "stderr",
     "output_type": "stream",
     "text": [
      "100%|██████████| 10/10 [00:05<00:00,  1.76it/s]\n",
      "  0%|          | 0/20 [00:00<?, ?it/s]"
     ]
    },
    {
     "name": "stdout",
     "output_type": "stream",
     "text": [
      "Epoch Time: 91.43602967262268s\n",
      "Train loss: 3.385 | Train accuracy: 12.23% | Train F1: 0.80%\n",
      "Validation loss: 2.997 | Validation accuracy: 10.40% | Validation F1: 1.26%\n",
      "Saving new checkpoint...\n",
      "\n",
      "Epoch: 02\n",
      "Training...\n"
     ]
    },
    {
     "name": "stderr",
     "output_type": "stream",
     "text": [
      "100%|██████████| 20/20 [01:25<00:00,  4.25s/it]\n",
      "  0%|          | 0/10 [00:00<?, ?it/s]"
     ]
    },
    {
     "name": "stdout",
     "output_type": "stream",
     "text": [
      "Evaluating...\n"
     ]
    },
    {
     "name": "stderr",
     "output_type": "stream",
     "text": [
      "100%|██████████| 10/10 [00:05<00:00,  1.75it/s]\n",
      "  0%|          | 0/20 [00:00<?, ?it/s]"
     ]
    },
    {
     "name": "stdout",
     "output_type": "stream",
     "text": [
      "Epoch Time: 90.8708004951477s\n",
      "Train loss: 2.926 | Train accuracy: 15.06% | Train F1: 1.52%\n",
      "Validation loss: 2.886 | Validation accuracy: 20.25% | Validation F1: 2.54%\n",
      "Saving new checkpoint...\n",
      "\n",
      "Epoch: 03\n",
      "Training...\n"
     ]
    },
    {
     "name": "stderr",
     "output_type": "stream",
     "text": [
      "100%|██████████| 20/20 [01:30<00:00,  4.52s/it]\n",
      "  0%|          | 0/10 [00:00<?, ?it/s]"
     ]
    },
    {
     "name": "stdout",
     "output_type": "stream",
     "text": [
      "Evaluating...\n"
     ]
    },
    {
     "name": "stderr",
     "output_type": "stream",
     "text": [
      "100%|██████████| 10/10 [00:05<00:00,  1.76it/s]\n",
      "  0%|          | 0/20 [00:00<?, ?it/s]"
     ]
    },
    {
     "name": "stdout",
     "output_type": "stream",
     "text": [
      "Epoch Time: 96.20594072341919s\n",
      "Train loss: 2.812 | Train accuracy: 25.61% | Train F1: 3.99%\n",
      "Validation loss: 2.755 | Validation accuracy: 34.38% | Validation F1: 4.56%\n",
      "Saving new checkpoint...\n",
      "\n",
      "Epoch: 04\n",
      "Training...\n"
     ]
    },
    {
     "name": "stderr",
     "output_type": "stream",
     "text": [
      "100%|██████████| 20/20 [01:30<00:00,  4.52s/it]\n",
      "  0%|          | 0/10 [00:00<?, ?it/s]"
     ]
    },
    {
     "name": "stdout",
     "output_type": "stream",
     "text": [
      "Evaluating...\n"
     ]
    },
    {
     "name": "stderr",
     "output_type": "stream",
     "text": [
      "100%|██████████| 10/10 [00:05<00:00,  1.76it/s]\n",
      "  0%|          | 0/20 [00:00<?, ?it/s]"
     ]
    },
    {
     "name": "stdout",
     "output_type": "stream",
     "text": [
      "Epoch Time: 96.20536804199219s\n",
      "Train loss: 2.647 | Train accuracy: 34.45% | Train F1: 4.30%\n",
      "Validation loss: 2.554 | Validation accuracy: 34.35% | Validation F1: 4.26%\n",
      "Saving new checkpoint...\n",
      "\n",
      "Epoch: 05\n",
      "Training...\n"
     ]
    },
    {
     "name": "stderr",
     "output_type": "stream",
     "text": [
      "100%|██████████| 20/20 [01:30<00:00,  4.51s/it]\n",
      "  0%|          | 0/10 [00:00<?, ?it/s]"
     ]
    },
    {
     "name": "stdout",
     "output_type": "stream",
     "text": [
      "Evaluating...\n"
     ]
    },
    {
     "name": "stderr",
     "output_type": "stream",
     "text": [
      "100%|██████████| 10/10 [00:05<00:00,  1.75it/s]\n",
      "  0%|          | 0/20 [00:00<?, ?it/s]"
     ]
    },
    {
     "name": "stdout",
     "output_type": "stream",
     "text": [
      "Epoch Time: 96.04599714279175s\n",
      "Train loss: 2.434 | Train accuracy: 37.62% | Train F1: 6.62%\n",
      "Validation loss: 2.341 | Validation accuracy: 38.42% | Validation F1: 7.67%\n",
      "Saving new checkpoint...\n",
      "\n",
      "Epoch: 06\n",
      "Training...\n"
     ]
    },
    {
     "name": "stderr",
     "output_type": "stream",
     "text": [
      "100%|██████████| 20/20 [01:24<00:00,  4.24s/it]\n",
      "  0%|          | 0/10 [00:00<?, ?it/s]"
     ]
    },
    {
     "name": "stdout",
     "output_type": "stream",
     "text": [
      "Evaluating...\n"
     ]
    },
    {
     "name": "stderr",
     "output_type": "stream",
     "text": [
      "100%|██████████| 10/10 [00:05<00:00,  1.75it/s]\n",
      "  0%|          | 0/20 [00:00<?, ?it/s]"
     ]
    },
    {
     "name": "stdout",
     "output_type": "stream",
     "text": [
      "Epoch Time: 90.57815456390381s\n",
      "Train loss: 2.226 | Train accuracy: 42.12% | Train F1: 9.93%\n",
      "Validation loss: 2.149 | Validation accuracy: 43.37% | Validation F1: 10.59%\n",
      "Saving new checkpoint...\n",
      "\n",
      "Epoch: 07\n",
      "Training...\n"
     ]
    },
    {
     "name": "stderr",
     "output_type": "stream",
     "text": [
      "100%|██████████| 20/20 [01:29<00:00,  4.47s/it]\n",
      "  0%|          | 0/10 [00:00<?, ?it/s]"
     ]
    },
    {
     "name": "stdout",
     "output_type": "stream",
     "text": [
      "Evaluating...\n"
     ]
    },
    {
     "name": "stderr",
     "output_type": "stream",
     "text": [
      "100%|██████████| 10/10 [00:05<00:00,  1.75it/s]\n",
      "  0%|          | 0/20 [00:00<?, ?it/s]"
     ]
    },
    {
     "name": "stdout",
     "output_type": "stream",
     "text": [
      "Epoch Time: 95.2311761379242s\n",
      "Train loss: 2.048 | Train accuracy: 45.16% | Train F1: 12.02%\n",
      "Validation loss: 1.988 | Validation accuracy: 46.81% | Validation F1: 12.89%\n",
      "Saving new checkpoint...\n",
      "\n",
      "Epoch: 08\n",
      "Training...\n"
     ]
    },
    {
     "name": "stderr",
     "output_type": "stream",
     "text": [
      "100%|██████████| 20/20 [01:29<00:00,  4.49s/it]\n",
      "  0%|          | 0/10 [00:00<?, ?it/s]"
     ]
    },
    {
     "name": "stdout",
     "output_type": "stream",
     "text": [
      "Evaluating...\n"
     ]
    },
    {
     "name": "stderr",
     "output_type": "stream",
     "text": [
      "100%|██████████| 10/10 [00:05<00:00,  1.76it/s]\n",
      "  0%|          | 0/20 [00:00<?, ?it/s]"
     ]
    },
    {
     "name": "stdout",
     "output_type": "stream",
     "text": [
      "Epoch Time: 95.57822299003601s\n",
      "Train loss: 1.907 | Train accuracy: 47.59% | Train F1: 14.36%\n",
      "Validation loss: 1.863 | Validation accuracy: 48.76% | Validation F1: 15.22%\n",
      "Saving new checkpoint...\n",
      "\n",
      "Epoch: 09\n",
      "Training...\n"
     ]
    },
    {
     "name": "stderr",
     "output_type": "stream",
     "text": [
      "100%|██████████| 20/20 [01:25<00:00,  4.29s/it]\n",
      "  0%|          | 0/10 [00:00<?, ?it/s]"
     ]
    },
    {
     "name": "stdout",
     "output_type": "stream",
     "text": [
      "Evaluating...\n"
     ]
    },
    {
     "name": "stderr",
     "output_type": "stream",
     "text": [
      "100%|██████████| 10/10 [00:05<00:00,  1.75it/s]\n",
      "  0%|          | 0/20 [00:00<?, ?it/s]"
     ]
    },
    {
     "name": "stdout",
     "output_type": "stream",
     "text": [
      "Epoch Time: 91.57166862487793s\n",
      "Train loss: 1.793 | Train accuracy: 49.81% | Train F1: 17.12%\n",
      "Validation loss: 1.769 | Validation accuracy: 51.14% | Validation F1: 18.49%\n",
      "Saving new checkpoint...\n",
      "\n",
      "Epoch: 10\n",
      "Training...\n"
     ]
    },
    {
     "name": "stderr",
     "output_type": "stream",
     "text": [
      "100%|██████████| 20/20 [01:29<00:00,  4.48s/it]\n",
      "  0%|          | 0/10 [00:00<?, ?it/s]"
     ]
    },
    {
     "name": "stdout",
     "output_type": "stream",
     "text": [
      "Evaluating...\n"
     ]
    },
    {
     "name": "stderr",
     "output_type": "stream",
     "text": [
      "100%|██████████| 10/10 [00:05<00:00,  1.74it/s]\n",
      "  0%|          | 0/10 [00:00<?, ?it/s]"
     ]
    },
    {
     "name": "stdout",
     "output_type": "stream",
     "text": [
      "Epoch Time: 95.38486552238464s\n",
      "Train loss: 1.703 | Train accuracy: 51.76% | Train F1: 19.96%\n",
      "Validation loss: 1.699 | Validation accuracy: 52.90% | Validation F1: 20.89%\n",
      "Saving new checkpoint...\n",
      "\n",
      "Testing...\n"
     ]
    },
    {
     "name": "stderr",
     "output_type": "stream",
     "text": [
      "100%|██████████| 10/10 [00:03<00:00,  3.28it/s]"
     ]
    },
    {
     "name": "stdout",
     "output_type": "stream",
     "text": [
      "Test loss: 1.582 | Test accuracy: 56.85% | Test F1: 22.15%\n"
     ]
    },
    {
     "name": "stderr",
     "output_type": "stream",
     "text": [
      "\n"
     ]
    }
   ],
   "source": [
    "train_val_test(bilstm_fc_model, \"bilstm_fc_model\", epochs=10)"
   ]
  },
  {
   "cell_type": "markdown",
   "metadata": {},
   "source": [
    "## BiGRU + FC"
   ]
  },
  {
   "cell_type": "code",
   "execution_count": 445,
   "metadata": {
    "execution": {
     "iopub.execute_input": "2020-11-17T10:11:15.715309Z",
     "iopub.status.busy": "2020-11-17T10:11:15.714981Z",
     "iopub.status.idle": "2020-11-17T10:11:15.802305Z",
     "shell.execute_reply": "2020-11-17T10:11:15.801178Z",
     "shell.execute_reply.started": "2020-11-17T10:11:15.715268Z"
    }
   },
   "outputs": [],
   "source": [
    "bigru_fc_model = POSTaggingModel(\n",
    "    len(word_to_index),\n",
    "    embedding_dimension,\n",
    "    hidden_dimension,\n",
    "    len(tag_to_index),\n",
    "    embedding_matrix=embedding_matrix,\n",
    "    retrain_embeddings=False,\n",
    "    gru=True,\n",
    "    num_layers=1,\n",
    "    bidirectional=True,\n",
    "    dropout_rate=0.0,\n",
    "    crf=False\n",
    ")"
   ]
  },
  {
   "cell_type": "code",
   "execution_count": 446,
   "metadata": {
    "execution": {
     "iopub.execute_input": "2020-11-17T10:11:16.154522Z",
     "iopub.status.busy": "2020-11-17T10:11:16.154206Z",
     "iopub.status.idle": "2020-11-17T10:11:16.212521Z",
     "shell.execute_reply": "2020-11-17T10:11:16.211345Z",
     "shell.execute_reply.started": "2020-11-17T10:11:16.154482Z"
    }
   },
   "outputs": [
    {
     "name": "stdout",
     "output_type": "stream",
     "text": [
      "The model has 150,062 trainable parameters\n"
     ]
    }
   ],
   "source": [
    "print(f\"The model has {count_parameters(bigru_fc_model):,} trainable parameters\")"
   ]
  },
  {
   "cell_type": "code",
   "execution_count": 447,
   "metadata": {
    "execution": {
     "iopub.execute_input": "2020-11-17T10:11:19.430006Z",
     "iopub.status.busy": "2020-11-17T10:11:19.429572Z",
     "iopub.status.idle": "2020-11-17T10:11:19.554604Z",
     "shell.execute_reply": "2020-11-17T10:11:19.553544Z",
     "shell.execute_reply.started": "2020-11-17T10:11:19.429962Z"
    }
   },
   "outputs": [
    {
     "data": {
      "text/plain": [
       "POSTaggingModel(\n",
       "  (embedding): Embedding(9965, 50, padding_idx=0)\n",
       "  (recurrent_module): GRU(50, 128, batch_first=True, bidirectional=True)\n",
       "  (dense): Linear(in_features=256, out_features=46, bias=True)\n",
       "  (dropout): Dropout(p=0.0, inplace=False)\n",
       "  (criterion): CrossEntropyLoss()\n",
       ")"
      ]
     },
     "execution_count": 447,
     "metadata": {},
     "output_type": "execute_result"
    }
   ],
   "source": [
    "bigru_fc_model.apply(init_weights)"
   ]
  },
  {
   "cell_type": "code",
   "execution_count": 454,
   "metadata": {
    "execution": {
     "iopub.execute_input": "2020-11-17T10:11:42.491283Z",
     "iopub.status.busy": "2020-11-17T10:11:42.490957Z",
     "iopub.status.idle": "2020-11-17T10:25:00.206313Z",
     "shell.execute_reply": "2020-11-17T10:25:00.204026Z",
     "shell.execute_reply.started": "2020-11-17T10:11:42.491242Z"
    }
   },
   "outputs": [
    {
     "name": "stderr",
     "output_type": "stream",
     "text": [
      "  0%|          | 0/20 [00:00<?, ?it/s]"
     ]
    },
    {
     "name": "stdout",
     "output_type": "stream",
     "text": [
      "Epoch: 01\n",
      "Training...\n"
     ]
    },
    {
     "name": "stderr",
     "output_type": "stream",
     "text": [
      "100%|██████████| 20/20 [01:22<00:00,  4.15s/it]\n",
      "  0%|          | 0/10 [00:00<?, ?it/s]"
     ]
    },
    {
     "name": "stdout",
     "output_type": "stream",
     "text": [
      "Evaluating...\n"
     ]
    },
    {
     "name": "stderr",
     "output_type": "stream",
     "text": [
      "100%|██████████| 10/10 [00:05<00:00,  1.90it/s]\n",
      "  0%|          | 0/20 [00:00<?, ?it/s]"
     ]
    },
    {
     "name": "stdout",
     "output_type": "stream",
     "text": [
      "Epoch Time: 88.30042099952698s\n",
      "Train loss: 3.349 | Train accuracy: 12.84% | Train F1: 1.42%\n",
      "Validation loss: 2.953 | Validation accuracy: 14.02% | Validation F1: 1.48%\n",
      "Saving new checkpoint...\n",
      "\n",
      "Epoch: 02\n",
      "Training...\n"
     ]
    },
    {
     "name": "stderr",
     "output_type": "stream",
     "text": [
      "100%|██████████| 20/20 [01:14<00:00,  3.72s/it]\n",
      "  0%|          | 0/10 [00:00<?, ?it/s]"
     ]
    },
    {
     "name": "stdout",
     "output_type": "stream",
     "text": [
      "Evaluating...\n"
     ]
    },
    {
     "name": "stderr",
     "output_type": "stream",
     "text": [
      "100%|██████████| 10/10 [00:05<00:00,  1.91it/s]\n",
      "  0%|          | 0/20 [00:00<?, ?it/s]"
     ]
    },
    {
     "name": "stdout",
     "output_type": "stream",
     "text": [
      "Epoch Time: 79.6214325428009s\n",
      "Train loss: 2.848 | Train accuracy: 21.27% | Train F1: 3.18%\n",
      "Validation loss: 2.770 | Validation accuracy: 29.21% | Validation F1: 4.27%\n",
      "Saving new checkpoint...\n",
      "\n",
      "Epoch: 03\n",
      "Training...\n"
     ]
    },
    {
     "name": "stderr",
     "output_type": "stream",
     "text": [
      "100%|██████████| 20/20 [01:13<00:00,  3.67s/it]\n",
      "  0%|          | 0/10 [00:00<?, ?it/s]"
     ]
    },
    {
     "name": "stdout",
     "output_type": "stream",
     "text": [
      "Evaluating...\n"
     ]
    },
    {
     "name": "stderr",
     "output_type": "stream",
     "text": [
      "100%|██████████| 10/10 [00:05<00:00,  1.91it/s]\n",
      "  0%|          | 0/20 [00:00<?, ?it/s]"
     ]
    },
    {
     "name": "stdout",
     "output_type": "stream",
     "text": [
      "Epoch Time: 78.7057318687439s\n",
      "Train loss: 2.648 | Train accuracy: 32.41% | Train F1: 5.67%\n",
      "Validation loss: 2.535 | Validation accuracy: 39.08% | Validation F1: 8.70%\n",
      "Saving new checkpoint...\n",
      "\n",
      "Epoch: 04\n",
      "Training...\n"
     ]
    },
    {
     "name": "stderr",
     "output_type": "stream",
     "text": [
      "100%|██████████| 20/20 [01:14<00:00,  3.71s/it]\n",
      "  0%|          | 0/10 [00:00<?, ?it/s]"
     ]
    },
    {
     "name": "stdout",
     "output_type": "stream",
     "text": [
      "Evaluating...\n"
     ]
    },
    {
     "name": "stderr",
     "output_type": "stream",
     "text": [
      "100%|██████████| 10/10 [00:05<00:00,  1.90it/s]\n",
      "  0%|          | 0/20 [00:00<?, ?it/s]"
     ]
    },
    {
     "name": "stdout",
     "output_type": "stream",
     "text": [
      "Epoch Time: 79.58505821228027s\n",
      "Train loss: 2.401 | Train accuracy: 42.59% | Train F1: 9.56%\n",
      "Validation loss: 2.276 | Validation accuracy: 44.87% | Validation F1: 10.92%\n",
      "Saving new checkpoint...\n",
      "\n",
      "Epoch: 05\n",
      "Training...\n"
     ]
    },
    {
     "name": "stderr",
     "output_type": "stream",
     "text": [
      "100%|██████████| 20/20 [01:13<00:00,  3.70s/it]\n",
      "  0%|          | 0/10 [00:00<?, ?it/s]"
     ]
    },
    {
     "name": "stdout",
     "output_type": "stream",
     "text": [
      "Evaluating...\n"
     ]
    },
    {
     "name": "stderr",
     "output_type": "stream",
     "text": [
      "100%|██████████| 10/10 [00:05<00:00,  1.93it/s]\n",
      "  0%|          | 0/20 [00:00<?, ?it/s]"
     ]
    },
    {
     "name": "stdout",
     "output_type": "stream",
     "text": [
      "Epoch Time: 79.17587208747864s\n",
      "Train loss: 2.153 | Train accuracy: 45.70% | Train F1: 11.68%\n",
      "Validation loss: 2.053 | Validation accuracy: 46.25% | Validation F1: 12.36%\n",
      "Saving new checkpoint...\n",
      "\n",
      "Epoch: 06\n",
      "Training...\n"
     ]
    },
    {
     "name": "stderr",
     "output_type": "stream",
     "text": [
      "100%|██████████| 20/20 [01:12<00:00,  3.63s/it]\n",
      "  0%|          | 0/10 [00:00<?, ?it/s]"
     ]
    },
    {
     "name": "stdout",
     "output_type": "stream",
     "text": [
      "Evaluating...\n"
     ]
    },
    {
     "name": "stderr",
     "output_type": "stream",
     "text": [
      "100%|██████████| 10/10 [00:05<00:00,  1.93it/s]\n",
      "  0%|          | 0/20 [00:00<?, ?it/s]"
     ]
    },
    {
     "name": "stdout",
     "output_type": "stream",
     "text": [
      "Epoch Time: 77.77035212516785s\n",
      "Train loss: 1.950 | Train accuracy: 47.68% | Train F1: 13.93%\n",
      "Validation loss: 1.887 | Validation accuracy: 48.94% | Validation F1: 15.72%\n",
      "Saving new checkpoint...\n",
      "\n",
      "Epoch: 07\n",
      "Training...\n"
     ]
    },
    {
     "name": "stderr",
     "output_type": "stream",
     "text": [
      "100%|██████████| 20/20 [01:12<00:00,  3.63s/it]\n",
      "  0%|          | 0/10 [00:00<?, ?it/s]"
     ]
    },
    {
     "name": "stdout",
     "output_type": "stream",
     "text": [
      "Evaluating...\n"
     ]
    },
    {
     "name": "stderr",
     "output_type": "stream",
     "text": [
      "100%|██████████| 10/10 [00:05<00:00,  1.93it/s]\n",
      "  0%|          | 0/20 [00:00<?, ?it/s]"
     ]
    },
    {
     "name": "stdout",
     "output_type": "stream",
     "text": [
      "Epoch Time: 77.77018451690674s\n",
      "Train loss: 1.798 | Train accuracy: 51.01% | Train F1: 18.31%\n",
      "Validation loss: 1.761 | Validation accuracy: 52.64% | Validation F1: 21.40%\n",
      "Saving new checkpoint...\n",
      "\n",
      "Epoch: 08\n",
      "Training...\n"
     ]
    },
    {
     "name": "stderr",
     "output_type": "stream",
     "text": [
      "100%|██████████| 20/20 [01:13<00:00,  3.66s/it]\n",
      "  0%|          | 0/10 [00:00<?, ?it/s]"
     ]
    },
    {
     "name": "stdout",
     "output_type": "stream",
     "text": [
      "Evaluating...\n"
     ]
    },
    {
     "name": "stderr",
     "output_type": "stream",
     "text": [
      "100%|██████████| 10/10 [00:05<00:00,  1.93it/s]\n",
      "  0%|          | 0/20 [00:00<?, ?it/s]"
     ]
    },
    {
     "name": "stdout",
     "output_type": "stream",
     "text": [
      "Epoch Time: 78.4188117980957s\n",
      "Train loss: 1.682 | Train accuracy: 53.86% | Train F1: 22.77%\n",
      "Validation loss: 1.669 | Validation accuracy: 54.24% | Validation F1: 23.77%\n",
      "Saving new checkpoint...\n",
      "\n",
      "Epoch: 09\n",
      "Training...\n"
     ]
    },
    {
     "name": "stderr",
     "output_type": "stream",
     "text": [
      "100%|██████████| 20/20 [01:13<00:00,  3.67s/it]\n",
      "  0%|          | 0/10 [00:00<?, ?it/s]"
     ]
    },
    {
     "name": "stdout",
     "output_type": "stream",
     "text": [
      "Evaluating...\n"
     ]
    },
    {
     "name": "stderr",
     "output_type": "stream",
     "text": [
      "100%|██████████| 10/10 [00:05<00:00,  1.94it/s]\n",
      "  0%|          | 0/20 [00:00<?, ?it/s]"
     ]
    },
    {
     "name": "stdout",
     "output_type": "stream",
     "text": [
      "Epoch Time: 78.72956728935242s\n",
      "Train loss: 1.594 | Train accuracy: 55.42% | Train F1: 24.91%\n",
      "Validation loss: 1.601 | Validation accuracy: 55.34% | Validation F1: 25.26%\n",
      "Saving new checkpoint...\n",
      "\n",
      "Epoch: 10\n",
      "Training...\n"
     ]
    },
    {
     "name": "stderr",
     "output_type": "stream",
     "text": [
      "100%|██████████| 20/20 [01:14<00:00,  3.71s/it]\n",
      "  0%|          | 0/10 [00:00<?, ?it/s]"
     ]
    },
    {
     "name": "stdout",
     "output_type": "stream",
     "text": [
      "Evaluating...\n"
     ]
    },
    {
     "name": "stderr",
     "output_type": "stream",
     "text": [
      "100%|██████████| 10/10 [00:05<00:00,  1.92it/s]"
     ]
    },
    {
     "name": "stdout",
     "output_type": "stream",
     "text": [
      "Epoch Time: 79.40816378593445s\n",
      "Train loss: 1.525 | Train accuracy: 56.81% | Train F1: 26.50%\n",
      "Validation loss: 1.548 | Validation accuracy: 56.21% | Validation F1: 26.84%\n",
      "Saving new checkpoint...\n",
      "\n",
      "Testing...\n"
     ]
    },
    {
     "name": "stderr",
     "output_type": "stream",
     "text": [
      "\n"
     ]
    },
    {
     "ename": "TypeError",
     "evalue": "evaluate() takes 2 positional arguments but 3 were given",
     "output_type": "error",
     "traceback": [
      "\u001b[0;31m---------------------------------------------------------------------------\u001b[0m",
      "\u001b[0;31mTypeError\u001b[0m                                 Traceback (most recent call last)",
      "\u001b[0;32m<ipython-input-454-527bd1d1dab6>\u001b[0m in \u001b[0;36m<module>\u001b[0;34m\u001b[0m\n\u001b[0;32m----> 1\u001b[0;31m \u001b[0mtrain_val_test\u001b[0m\u001b[0;34m(\u001b[0m\u001b[0mbigru_fc_model\u001b[0m\u001b[0;34m,\u001b[0m \u001b[0;34m\"bigru_fc_model\"\u001b[0m\u001b[0;34m,\u001b[0m \u001b[0mepochs\u001b[0m\u001b[0;34m=\u001b[0m\u001b[0;36m10\u001b[0m\u001b[0;34m)\u001b[0m\u001b[0;34m\u001b[0m\u001b[0;34m\u001b[0m\u001b[0m\n\u001b[0m",
      "\u001b[0;32m<ipython-input-453-87829eef4fd6>\u001b[0m in \u001b[0;36mtrain_val_test\u001b[0;34m(model, model_name, epochs)\u001b[0m\n\u001b[1;32m     35\u001b[0m     \u001b[0mmodel\u001b[0m\u001b[0;34m.\u001b[0m\u001b[0mload_state_dict\u001b[0m\u001b[0;34m(\u001b[0m\u001b[0mtorch\u001b[0m\u001b[0;34m.\u001b[0m\u001b[0mload\u001b[0m\u001b[0;34m(\u001b[0m\u001b[0;34mf\"models/{model_name}.pt\"\u001b[0m\u001b[0;34m)\u001b[0m\u001b[0;34m)\u001b[0m\u001b[0;34m\u001b[0m\u001b[0;34m\u001b[0m\u001b[0m\n\u001b[1;32m     36\u001b[0m     \u001b[0mprint\u001b[0m\u001b[0;34m(\u001b[0m\u001b[0;34m\"Testing...\"\u001b[0m\u001b[0;34m)\u001b[0m\u001b[0;34m\u001b[0m\u001b[0;34m\u001b[0m\u001b[0m\n\u001b[0;32m---> 37\u001b[0;31m     \u001b[0mtest_loss\u001b[0m\u001b[0;34m,\u001b[0m \u001b[0mtest_acc\u001b[0m\u001b[0;34m,\u001b[0m \u001b[0mtest_f1\u001b[0m \u001b[0;34m=\u001b[0m \u001b[0mevaluate\u001b[0m\u001b[0;34m(\u001b[0m\u001b[0mmodel\u001b[0m\u001b[0;34m,\u001b[0m \u001b[0mtest_dataloader\u001b[0m\u001b[0;34m,\u001b[0m \u001b[0mcriterion\u001b[0m\u001b[0;34m)\u001b[0m\u001b[0;34m\u001b[0m\u001b[0;34m\u001b[0m\u001b[0m\n\u001b[0m\u001b[1;32m     38\u001b[0m     print(\n\u001b[1;32m     39\u001b[0m         \u001b[0;34mf\"Test loss: {test_loss:.3f} | Test accuracy: {test_acc * 100:.2f}% | Test F1: {test_f1 * 100:.2f}%\"\u001b[0m\u001b[0;34m\u001b[0m\u001b[0;34m\u001b[0m\u001b[0m\n",
      "\u001b[0;31mTypeError\u001b[0m: evaluate() takes 2 positional arguments but 3 were given"
     ]
    }
   ],
   "source": [
    "train_val_test(bigru_fc_model, \"bigru_fc_model\", epochs=10)"
   ]
  },
  {
   "cell_type": "markdown",
   "metadata": {},
   "source": [
    "## BiLSTMx2 + FC"
   ]
  },
  {
   "cell_type": "code",
   "execution_count": null,
   "metadata": {},
   "outputs": [],
   "source": [
    "bilstmx2_fc_model = POSTaggingModel(\n",
    "    len(word_to_index),\n",
    "    embedding_dimension,\n",
    "    hidden_dimension,\n",
    "    len(tag_to_index),\n",
    "    embedding_matrix=embedding_matrix,\n",
    "    retrain_embeddings=False,\n",
    "    gru=False,\n",
    "    num_layers=2,\n",
    "    bidirectional=True,\n",
    "    dropout_rate=0.0,\n",
    "    crf=False\n",
    ")"
   ]
  },
  {
   "cell_type": "code",
   "execution_count": null,
   "metadata": {},
   "outputs": [],
   "source": [
    "print(f\"The model has {count_parameters(bilstmx2_fc_model):,} trainable parameters\")"
   ]
  },
  {
   "cell_type": "code",
   "execution_count": null,
   "metadata": {},
   "outputs": [],
   "source": [
    "bilstmx2_fc_model.apply(init_weights)"
   ]
  },
  {
   "cell_type": "code",
   "execution_count": null,
   "metadata": {},
   "outputs": [],
   "source": [
    "train_val_test(bilstmx2_fc_model, \"bigru_fc_model\", epochs=10)"
   ]
  },
  {
   "cell_type": "markdown",
   "metadata": {},
   "source": [
    "## BiLSTM + FC + CRF"
   ]
  },
  {
   "cell_type": "code",
   "execution_count": 467,
   "metadata": {
    "execution": {
     "iopub.execute_input": "2020-11-17T10:49:51.430249Z",
     "iopub.status.busy": "2020-11-17T10:49:51.429886Z",
     "iopub.status.idle": "2020-11-17T10:49:51.518340Z",
     "shell.execute_reply": "2020-11-17T10:49:51.517131Z",
     "shell.execute_reply.started": "2020-11-17T10:49:51.430207Z"
    }
   },
   "outputs": [],
   "source": [
    "bilstm_fc_crf_model = POSTaggingModel(\n",
    "    len(word_to_index),\n",
    "    embedding_dimension,\n",
    "    hidden_dimension,\n",
    "    len(tag_to_index),\n",
    "    embedding_matrix=embedding_matrix,\n",
    "    retrain_embeddings=False,\n",
    "    gru=False,\n",
    "    num_layers=1,\n",
    "    bidirectional=True,\n",
    "    dropout_rate=0.0,\n",
    "    crf=True\n",
    ")"
   ]
  },
  {
   "cell_type": "code",
   "execution_count": 468,
   "metadata": {
    "execution": {
     "iopub.execute_input": "2020-11-17T10:49:52.917759Z",
     "iopub.status.busy": "2020-11-17T10:49:52.917442Z",
     "iopub.status.idle": "2020-11-17T10:49:52.976322Z",
     "shell.execute_reply": "2020-11-17T10:49:52.975031Z",
     "shell.execute_reply.started": "2020-11-17T10:49:52.917719Z"
    }
   },
   "outputs": [
    {
     "name": "stdout",
     "output_type": "stream",
     "text": [
      "The model has 198,350 trainable parameters\n"
     ]
    }
   ],
   "source": [
    "print(f\"The model has {count_parameters(bilstm_fc_crf_model):,} trainable parameters\")"
   ]
  },
  {
   "cell_type": "code",
   "execution_count": 469,
   "metadata": {
    "execution": {
     "iopub.execute_input": "2020-11-17T10:49:57.111656Z",
     "iopub.status.busy": "2020-11-17T10:49:57.111252Z",
     "iopub.status.idle": "2020-11-17T10:49:57.228675Z",
     "shell.execute_reply": "2020-11-17T10:49:57.227491Z",
     "shell.execute_reply.started": "2020-11-17T10:49:57.111613Z"
    }
   },
   "outputs": [
    {
     "data": {
      "text/plain": [
       "POSTaggingModel(\n",
       "  (embedding): Embedding(9965, 50, padding_idx=0)\n",
       "  (recurrent_module): LSTM(50, 128, batch_first=True, bidirectional=True)\n",
       "  (dense): Linear(in_features=256, out_features=46, bias=True)\n",
       "  (dropout): Dropout(p=0.0, inplace=False)\n",
       "  (crf_model): CRF(num_tags=46)\n",
       "  (criterion): CrossEntropyLoss()\n",
       ")"
      ]
     },
     "execution_count": 469,
     "metadata": {},
     "output_type": "execute_result"
    }
   ],
   "source": [
    "bilstm_fc_crf_model.apply(init_weights)"
   ]
  },
  {
   "cell_type": "code",
   "execution_count": 474,
   "metadata": {
    "execution": {
     "iopub.execute_input": "2020-11-17T10:52:39.519287Z",
     "iopub.status.busy": "2020-11-17T10:52:39.518879Z",
     "iopub.status.idle": "2020-11-17T10:52:40.653114Z",
     "shell.execute_reply": "2020-11-17T10:52:40.651469Z",
     "shell.execute_reply.started": "2020-11-17T10:52:39.519245Z"
    }
   },
   "outputs": [
    {
     "name": "stderr",
     "output_type": "stream",
     "text": [
      "  0%|          | 0/20 [00:00<?, ?it/s]"
     ]
    },
    {
     "name": "stdout",
     "output_type": "stream",
     "text": [
      "Epoch: 01\n",
      "Training...\n"
     ]
    },
    {
     "name": "stderr",
     "output_type": "stream",
     "text": [
      "  0%|          | 0/20 [00:01<?, ?it/s]"
     ]
    },
    {
     "name": "stdout",
     "output_type": "stream",
     "text": [
      "tensor(13649.2959, grad_fn=<NegBackward>)\n"
     ]
    },
    {
     "name": "stderr",
     "output_type": "stream",
     "text": [
      "\n"
     ]
    },
    {
     "ename": "IndexError",
     "evalue": "tuple index out of range",
     "output_type": "error",
     "traceback": [
      "\u001b[0;31m---------------------------------------------------------------------------\u001b[0m",
      "\u001b[0;31mIndexError\u001b[0m                                Traceback (most recent call last)",
      "\u001b[0;32m<ipython-input-474-7c92ec1cb56a>\u001b[0m in \u001b[0;36m<module>\u001b[0;34m\u001b[0m\n\u001b[0;32m----> 1\u001b[0;31m \u001b[0mtrain_val_test\u001b[0m\u001b[0;34m(\u001b[0m\u001b[0mbilstm_fc_crf_model\u001b[0m\u001b[0;34m,\u001b[0m \u001b[0;34m\"bigru_fc_model\"\u001b[0m\u001b[0;34m,\u001b[0m \u001b[0mepochs\u001b[0m\u001b[0;34m=\u001b[0m\u001b[0;36m10\u001b[0m\u001b[0;34m)\u001b[0m\u001b[0;34m\u001b[0m\u001b[0;34m\u001b[0m\u001b[0m\n\u001b[0m",
      "\u001b[0;32m<ipython-input-455-bb0eb39608a7>\u001b[0m in \u001b[0;36mtrain_val_test\u001b[0;34m(model, model_name, epochs)\u001b[0m\n\u001b[1;32m     10\u001b[0m         \u001b[0mstart_time\u001b[0m \u001b[0;34m=\u001b[0m \u001b[0mtime\u001b[0m\u001b[0;34m.\u001b[0m\u001b[0mtime\u001b[0m\u001b[0;34m(\u001b[0m\u001b[0;34m)\u001b[0m\u001b[0;34m\u001b[0m\u001b[0;34m\u001b[0m\u001b[0m\n\u001b[1;32m     11\u001b[0m         \u001b[0mprint\u001b[0m\u001b[0;34m(\u001b[0m\u001b[0;34mf\"Training...\"\u001b[0m\u001b[0;34m)\u001b[0m\u001b[0;34m\u001b[0m\u001b[0;34m\u001b[0m\u001b[0m\n\u001b[0;32m---> 12\u001b[0;31m         \u001b[0mtrain_loss\u001b[0m\u001b[0;34m,\u001b[0m \u001b[0mtrain_acc\u001b[0m\u001b[0;34m,\u001b[0m \u001b[0mtrain_f1\u001b[0m \u001b[0;34m=\u001b[0m \u001b[0mtrain\u001b[0m\u001b[0;34m(\u001b[0m\u001b[0mmodel\u001b[0m\u001b[0;34m,\u001b[0m \u001b[0mtrain_dataloader\u001b[0m\u001b[0;34m)\u001b[0m\u001b[0;34m\u001b[0m\u001b[0;34m\u001b[0m\u001b[0m\n\u001b[0m\u001b[1;32m     13\u001b[0m         \u001b[0mprint\u001b[0m\u001b[0;34m(\u001b[0m\u001b[0;34mf\"Evaluating...\"\u001b[0m\u001b[0;34m)\u001b[0m\u001b[0;34m\u001b[0m\u001b[0;34m\u001b[0m\u001b[0m\n\u001b[1;32m     14\u001b[0m         \u001b[0mval_loss\u001b[0m\u001b[0;34m,\u001b[0m \u001b[0mval_acc\u001b[0m\u001b[0;34m,\u001b[0m \u001b[0mval_f1\u001b[0m \u001b[0;34m=\u001b[0m \u001b[0mevaluate\u001b[0m\u001b[0;34m(\u001b[0m\u001b[0mmodel\u001b[0m\u001b[0;34m,\u001b[0m \u001b[0mval_dataloader\u001b[0m\u001b[0;34m)\u001b[0m\u001b[0;34m\u001b[0m\u001b[0;34m\u001b[0m\u001b[0m\n",
      "\u001b[0;32m<ipython-input-473-ca4b9a8b219c>\u001b[0m in \u001b[0;36mtrain\u001b[0;34m(model, dataloader)\u001b[0m\n\u001b[1;32m      9\u001b[0m         \u001b[0mpredictions\u001b[0m \u001b[0;34m=\u001b[0m \u001b[0mmodel\u001b[0m\u001b[0;34m(\u001b[0m\u001b[0mtokens\u001b[0m\u001b[0;34m,\u001b[0m \u001b[0mtokens_lenghts\u001b[0m\u001b[0;34m,\u001b[0m \u001b[0mtags\u001b[0m\u001b[0;34m=\u001b[0m\u001b[0mtags\u001b[0m\u001b[0;34m)\u001b[0m\u001b[0;34m\u001b[0m\u001b[0;34m\u001b[0m\u001b[0m\n\u001b[1;32m     10\u001b[0m         \u001b[0mprint\u001b[0m\u001b[0;34m(\u001b[0m\u001b[0mpredictions\u001b[0m\u001b[0;34m)\u001b[0m\u001b[0;34m\u001b[0m\u001b[0;34m\u001b[0m\u001b[0m\n\u001b[0;32m---> 11\u001b[0;31m         \u001b[0mpredictions\u001b[0m \u001b[0;34m=\u001b[0m \u001b[0mpredictions\u001b[0m\u001b[0;34m.\u001b[0m\u001b[0mview\u001b[0m\u001b[0;34m(\u001b[0m\u001b[0;34m-\u001b[0m\u001b[0;36m1\u001b[0m\u001b[0;34m,\u001b[0m \u001b[0mpredictions\u001b[0m\u001b[0;34m.\u001b[0m\u001b[0mshape\u001b[0m\u001b[0;34m[\u001b[0m\u001b[0;34m-\u001b[0m\u001b[0;36m1\u001b[0m\u001b[0;34m]\u001b[0m\u001b[0;34m)\u001b[0m\u001b[0;34m\u001b[0m\u001b[0;34m\u001b[0m\u001b[0m\n\u001b[0m\u001b[1;32m     12\u001b[0m         \u001b[0mtags\u001b[0m \u001b[0;34m=\u001b[0m \u001b[0mtags\u001b[0m\u001b[0;34m.\u001b[0m\u001b[0mview\u001b[0m\u001b[0;34m(\u001b[0m\u001b[0;34m-\u001b[0m\u001b[0;36m1\u001b[0m\u001b[0;34m)\u001b[0m\u001b[0;34m\u001b[0m\u001b[0;34m\u001b[0m\u001b[0m\n\u001b[1;32m     13\u001b[0m         \u001b[0mloss\u001b[0m \u001b[0;34m=\u001b[0m \u001b[0mmodel\u001b[0m\u001b[0;34m.\u001b[0m\u001b[0mcriterion\u001b[0m\u001b[0;34m(\u001b[0m\u001b[0mpredictions\u001b[0m\u001b[0;34m,\u001b[0m \u001b[0mtags\u001b[0m\u001b[0;34m)\u001b[0m\u001b[0;34m\u001b[0m\u001b[0;34m\u001b[0m\u001b[0m\n",
      "\u001b[0;31mIndexError\u001b[0m: tuple index out of range"
     ]
    }
   ],
   "source": [
    "train_val_test(bilstm_fc_crf_model, \"bigru_fc_model\", epochs=10)"
   ]
  },
  {
   "cell_type": "code",
   "execution_count": null,
   "metadata": {},
   "outputs": [],
   "source": []
  }
 ],
 "metadata": {
  "kernelspec": {
   "display_name": "Python 3",
   "language": "python",
   "name": "python3"
  },
  "language_info": {
   "codemirror_mode": {
    "name": "ipython",
    "version": 3
   },
   "file_extension": ".py",
   "mimetype": "text/x-python",
   "name": "python",
   "nbconvert_exporter": "python",
   "pygments_lexer": "ipython3",
   "version": "3.8.5"
  }
 },
 "nbformat": 4,
 "nbformat_minor": 4
}
