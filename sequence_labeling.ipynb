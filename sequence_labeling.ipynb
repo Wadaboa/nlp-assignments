{
 "cells": [
  {
   "cell_type": "markdown",
   "metadata": {},
   "source": [
    "Assignment 3 : Sequence labelling with RNNs\n",
    "In this assignement we will ask you to perform POS tagging.\n",
    "\n",
    "You are asked to follow these steps:\n",
    "\n",
    "- Download the corpora and split it in training and test sets, structuring a dataframe.\n",
    "- Embed the words using GloVe embeddings\n",
    "- Create a baseline model, using a simple neural architecture\n",
    "- Experiment doing small modifications to the model\n",
    "- Evaluate your best model\n",
    "- Analyze the errors of your model\n",
    "- Corpora: Ignore the numeric value in the third column, use only the words/symbols and its label. https://raw.githubusercontent.com/nltk/nltk_data/gh-pages/packages/corpora/dependency_treebank.zip\n",
    "\n",
    "Splits: documents 1-100 are the train set, 101-150 validation set, 151-199 test set.\n",
    "\n",
    "Baseline: two layers architecture: a Bidirectional LSTM and a Dense/Fully-Connected layer on top.\n",
    "\n",
    "Modifications: experiment using a GRU instead of the LSTM, adding an additional LSTM layer, and using a CRF in addition to the LSTM. Each of this change must be done by itself (don't mix these modifications).\n",
    "\n",
    "Training and Experiments: all the experiments must involve only the training and validation sets.\n",
    "\n",
    "Evaluation: in the end, only the best model of your choice must be evaluated on the test set. The main metric must be F1-Macro computed between the various part of speech (without considering punctuation classes).\n",
    "\n",
    "Error Analysis (optional) : analyze the errors done by your model, try to understand which may be the causes and think about how to improve it.\n",
    "\n",
    "Report: You are asked to deliver a small report of about 4-5 lines in the .txt file that sums up your findings."
   ]
  },
  {
   "cell_type": "markdown",
   "metadata": {},
   "source": [
    "https://raw.githubusercontent.com/nltk/nltk_data/gh-pages/packages/corpora/dependency_treebank.zip"
   ]
  },
  {
   "cell_type": "markdown",
   "metadata": {},
   "source": [
    "# Sequence labeling"
   ]
  },
  {
   "cell_type": "code",
   "execution_count": 45,
   "metadata": {
    "execution": {
     "iopub.execute_input": "2020-11-10T17:19:51.531188Z",
     "iopub.status.busy": "2020-11-10T17:19:51.530768Z",
     "iopub.status.idle": "2020-11-10T17:19:51.597784Z",
     "shell.execute_reply": "2020-11-10T17:19:51.596740Z",
     "shell.execute_reply.started": "2020-11-10T17:19:51.531144Z"
    }
   },
   "outputs": [
    {
     "name": "stdout",
     "output_type": "stream",
     "text": [
      "The autoreload extension is already loaded. To reload it, use:\n",
      "  %reload_ext autoreload\n"
     ]
    },
    {
     "name": "stderr",
     "output_type": "stream",
     "text": [
      "[nltk_data] Downloading package dependency_treebank to\n",
      "[nltk_data]     /root/nltk_data...\n",
      "[nltk_data]   Package dependency_treebank is already up-to-date!\n"
     ]
    }
   ],
   "source": [
    "import re\n",
    "\n",
    "import pandas as pd\n",
    "import numpy as np\n",
    "import nltk\n",
    "\n",
    "from nltk.corpus import dependency_treebank\n",
    "nltk.download('dependency_treebank')\n",
    "\n",
    "import utils\n",
    "\n",
    "%load_ext autoreload\n",
    "%autoreload 2\n",
    "%matplotlib inline"
   ]
  },
  {
   "cell_type": "code",
   "execution_count": 3,
   "metadata": {
    "execution": {
     "iopub.execute_input": "2020-11-10T16:48:55.537174Z",
     "iopub.status.busy": "2020-11-10T16:48:55.536862Z",
     "iopub.status.idle": "2020-11-10T16:48:55.581955Z",
     "shell.execute_reply": "2020-11-10T16:48:55.580700Z",
     "shell.execute_reply.started": "2020-11-10T16:48:55.537137Z"
    }
   },
   "outputs": [],
   "source": [
    "RANDOM_SEED = 42\n",
    "np.random.seed(RANDOM_SEED)"
   ]
  },
  {
   "cell_type": "code",
   "execution_count": 60,
   "metadata": {
    "execution": {
     "iopub.execute_input": "2020-11-10T17:37:39.530163Z",
     "iopub.status.busy": "2020-11-10T17:37:39.529732Z",
     "iopub.status.idle": "2020-11-10T17:37:39.585885Z",
     "shell.execute_reply": "2020-11-10T17:37:39.584767Z",
     "shell.execute_reply.started": "2020-11-10T17:37:39.530118Z"
    }
   },
   "outputs": [],
   "source": [
    "file_prefix = \"wsj_\"\n",
    "file_ext = \".dp\"\n",
    "train_set_files = [f\"{file_prefix}{i:04d}{file_ext}\" for i in range(1, 101)]\n",
    "validation_set_files = [f\"{file_prefix}{i:04d}{file_ext}\" for i in range(101, 151)]\n",
    "test_set_files = [f\"{file_prefix}{i:04d}{file_ext}\" for i in range(151, 200)]"
   ]
  },
  {
   "cell_type": "code",
   "execution_count": 61,
   "metadata": {
    "execution": {
     "iopub.execute_input": "2020-11-10T17:37:39.759860Z",
     "iopub.status.busy": "2020-11-10T17:37:39.759496Z",
     "iopub.status.idle": "2020-11-10T17:37:39.806123Z",
     "shell.execute_reply": "2020-11-10T17:37:39.804957Z",
     "shell.execute_reply.started": "2020-11-10T17:37:39.759822Z"
    }
   },
   "outputs": [
    {
     "data": {
      "text/plain": [
       "['wsj_0001.dp',\n",
       " 'wsj_0021.dp',\n",
       " 'wsj_0041.dp',\n",
       " 'wsj_0061.dp',\n",
       " 'wsj_0081.dp',\n",
       " 'wsj_0101.dp',\n",
       " 'wsj_0121.dp',\n",
       " 'wsj_0141.dp',\n",
       " 'wsj_0161.dp',\n",
       " 'wsj_0181.dp']"
      ]
     },
     "execution_count": 61,
     "metadata": {},
     "output_type": "execute_result"
    }
   ],
   "source": [
    "(train_set_files + validation_set_files + test_set_files)[0:200:20]"
   ]
  },
  {
   "cell_type": "code",
   "execution_count": 62,
   "metadata": {
    "execution": {
     "iopub.execute_input": "2020-11-10T17:37:45.529790Z",
     "iopub.status.busy": "2020-11-10T17:37:45.529370Z",
     "iopub.status.idle": "2020-11-10T17:37:45.582602Z",
     "shell.execute_reply": "2020-11-10T17:37:45.581280Z",
     "shell.execute_reply.started": "2020-11-10T17:37:45.529745Z"
    }
   },
   "outputs": [
    {
     "data": {
      "text/plain": [
       "'Pierre\\tNNP\\t2\\nVinken\\tNNP\\t8\\n,\\t,\\t2\\n61\\tCD\\t5\\nyears\\tNNS\\t6\\nold\\tJJ\\t2\\n,\\t,\\t2\\nwill\\tMD\\t0\\njoin\\tVB\\t8\\nthe\\tDT\\t11\\nboard\\tNN\\t9\\nas\\tIN\\t9\\na\\tDT\\t15\\nnonexecutive\\tJJ\\t15\\ndirector\\tNN\\t12\\nNov.\\tNNP\\t9\\n29\\tCD\\t16\\n.\\t.\\t8\\n\\nMr.\\tNNP\\t2\\nVinken\\tNNP\\t3\\nis\\tVBZ\\t0\\nchairman\\tNN\\t3\\nof\\tIN\\t4\\nElsevier\\tNNP\\t7\\nN.V.\\tNNP\\t12\\n,\\t,\\t12\\nthe\\tDT\\t12\\nDutch\\tNNP\\t12\\npublishing\\tVBG\\t12\\ngroup\\tNN\\t5\\n.\\t.\\t3\\n'"
      ]
     },
     "execution_count": 62,
     "metadata": {},
     "output_type": "execute_result"
    }
   ],
   "source": [
    "dependency_treebank.raw(fileids=train_set_files[0])"
   ]
  },
  {
   "cell_type": "code",
   "execution_count": 63,
   "metadata": {
    "execution": {
     "iopub.execute_input": "2020-11-10T17:37:54.060221Z",
     "iopub.status.busy": "2020-11-10T17:37:54.059790Z",
     "iopub.status.idle": "2020-11-10T17:37:54.117230Z",
     "shell.execute_reply": "2020-11-10T17:37:54.115700Z",
     "shell.execute_reply.started": "2020-11-10T17:37:54.060176Z"
    }
   },
   "outputs": [],
   "source": [
    "def parse_file(fileid):\n",
    "    file_str = dependency_treebank.raw(fileids=fileid)\n",
    "    splitted_file_str = [\n",
    "        x for x in re.split(\"\\t|\\n\", file_str.strip()) if x.strip() != \"\"\n",
    "    ]\n",
    "    parsed_file = []\n",
    "    for i in range(0, len(splitted_file_str), 3):\n",
    "        token = splitted_file_str[i]\n",
    "        tag = splitted_file_str[i + 1]\n",
    "        parsed_file.append((token, tag))\n",
    "    return parsed_file\n",
    "\n",
    "\n",
    "def parse_files(fileids):\n",
    "    parsed_files = dict()\n",
    "    for fileid in fileids:\n",
    "        parsed_files[fileid] = parse_file(fileid)\n",
    "    return parsed_files"
   ]
  },
  {
   "cell_type": "code",
   "execution_count": 68,
   "metadata": {
    "execution": {
     "iopub.execute_input": "2020-11-10T17:39:18.136369Z",
     "iopub.status.busy": "2020-11-10T17:39:18.136012Z",
     "iopub.status.idle": "2020-11-10T17:39:18.339891Z",
     "shell.execute_reply": "2020-11-10T17:39:18.338659Z",
     "shell.execute_reply.started": "2020-11-10T17:39:18.136327Z"
    }
   },
   "outputs": [
    {
     "data": {
      "text/plain": [
       "[('Pierre', 'NNP'),\n",
       " ('Vinken', 'NNP'),\n",
       " (',', ','),\n",
       " ('61', 'CD'),\n",
       " ('years', 'NNS'),\n",
       " ('old', 'JJ'),\n",
       " (',', ','),\n",
       " ('will', 'MD'),\n",
       " ('join', 'VB'),\n",
       " ('the', 'DT'),\n",
       " ('board', 'NN'),\n",
       " ('as', 'IN'),\n",
       " ('a', 'DT'),\n",
       " ('nonexecutive', 'JJ'),\n",
       " ('director', 'NN'),\n",
       " ('Nov.', 'NNP'),\n",
       " ('29', 'CD'),\n",
       " ('.', '.'),\n",
       " ('Mr.', 'NNP'),\n",
       " ('Vinken', 'NNP'),\n",
       " ('is', 'VBZ'),\n",
       " ('chairman', 'NN'),\n",
       " ('of', 'IN'),\n",
       " ('Elsevier', 'NNP'),\n",
       " ('N.V.', 'NNP'),\n",
       " (',', ','),\n",
       " ('the', 'DT'),\n",
       " ('Dutch', 'NNP'),\n",
       " ('publishing', 'VBG'),\n",
       " ('group', 'NN'),\n",
       " ('.', '.')]"
      ]
     },
     "execution_count": 68,
     "metadata": {},
     "output_type": "execute_result"
    }
   ],
   "source": [
    "training_dict = parse_files(train_set_range)\n",
    "training_sentences = list(training_dict.values())\n",
    "training_sentences[0]"
   ]
  },
  {
   "cell_type": "code",
   "execution_count": null,
   "metadata": {},
   "outputs": [],
   "source": []
  }
 ],
 "metadata": {
  "kernelspec": {
   "display_name": "Python 3",
   "language": "python",
   "name": "python3"
  },
  "language_info": {
   "codemirror_mode": {
    "name": "ipython",
    "version": 3
   },
   "file_extension": ".py",
   "mimetype": "text/x-python",
   "name": "python",
   "nbconvert_exporter": "python",
   "pygments_lexer": "ipython3",
   "version": "3.8.5"
  }
 },
 "nbformat": 4,
 "nbformat_minor": 4
}
