{
 "cells": [
  {
   "cell_type": "markdown",
   "metadata": {},
   "source": [
    "Assignment 3 : Sequence labelling with RNNs\n",
    "In this assignement we will ask you to perform POS tagging.\n",
    "\n",
    "You are asked to follow these steps:\n",
    "\n",
    "- Download the corpora and split it in training and test sets, structuring a dataframe.\n",
    "- Embed the words using GloVe embeddings\n",
    "- Create a baseline model, using a simple neural architecture\n",
    "- Experiment doing small modifications to the model\n",
    "- Evaluate your best model\n",
    "- Analyze the errors of your model\n",
    "- Corpora: Ignore the numeric value in the third column, use only the words/symbols and its label. https://raw.githubusercontent.com/nltk/nltk_data/gh-pages/packages/corpora/dependency_treebank.zip\n",
    "\n",
    "Splits: documents 1-100 are the train set, 101-150 validation set, 151-199 test set.\n",
    "\n",
    "Baseline: two layers architecture: a Bidirectional LSTM and a Dense/Fully-Connected layer on top.\n",
    "\n",
    "Modifications: experiment using a GRU instead of the LSTM, adding an additional LSTM layer, and using a CRF in addition to the LSTM. Each of this change must be done by itself (don't mix these modifications).\n",
    "\n",
    "Training and Experiments: all the experiments must involve only the training and validation sets.\n",
    "\n",
    "Evaluation: in the end, only the best model of your choice must be evaluated on the test set. The main metric must be F1-Macro computed between the various part of speech (without considering punctuation classes).\n",
    "\n",
    "Error Analysis (optional) : analyze the errors done by your model, try to understand which may be the causes and think about how to improve it.\n",
    "\n",
    "Report: You are asked to deliver a small report of about 4-5 lines in the .txt file that sums up your findings."
   ]
  },
  {
   "cell_type": "markdown",
   "metadata": {},
   "source": [
    "https://raw.githubusercontent.com/nltk/nltk_data/gh-pages/packages/corpora/dependency_treebank.zip"
   ]
  },
  {
   "cell_type": "markdown",
   "metadata": {},
   "source": [
    "# Sequence labeling"
   ]
  },
  {
   "cell_type": "code",
   "execution_count": 1,
   "metadata": {
    "execution": {
     "iopub.execute_input": "2020-11-12T16:11:35.178466Z",
     "iopub.status.busy": "2020-11-12T16:11:35.178104Z",
     "iopub.status.idle": "2020-11-12T16:11:38.424753Z",
     "shell.execute_reply": "2020-11-12T16:11:38.423404Z",
     "shell.execute_reply.started": "2020-11-12T16:11:35.178376Z"
    }
   },
   "outputs": [],
   "source": [
    "import re\n",
    "import random\n",
    "import time\n",
    "from functools import partial\n",
    "\n",
    "from tqdm import tqdm\n",
    "import pandas as pd\n",
    "import numpy as np\n",
    "import torch\n",
    "import torch.nn as nn\n",
    "import torch.optim as optim\n",
    "from torch.utils.data import Dataset, DataLoader\n",
    "from torch.nn.utils.rnn import pad_sequence, pack_padded_sequence, pad_packed_sequence\n",
    "import nltk\n",
    "from nltk.corpus import dependency_treebank\n",
    "\n",
    "import utils\n",
    "\n",
    "%load_ext autoreload\n",
    "%autoreload 2\n",
    "%matplotlib inline"
   ]
  },
  {
   "cell_type": "code",
   "execution_count": 2,
   "metadata": {
    "execution": {
     "iopub.execute_input": "2020-11-12T16:11:38.427960Z",
     "iopub.status.busy": "2020-11-12T16:11:38.427561Z",
     "iopub.status.idle": "2020-11-12T16:11:38.716162Z",
     "shell.execute_reply": "2020-11-12T16:11:38.715085Z",
     "shell.execute_reply.started": "2020-11-12T16:11:38.427919Z"
    }
   },
   "outputs": [
    {
     "name": "stderr",
     "output_type": "stream",
     "text": [
      "[nltk_data] Downloading package dependency_treebank to\n",
      "[nltk_data]     /root/nltk_data...\n",
      "[nltk_data]   Package dependency_treebank is already up-to-date!\n"
     ]
    },
    {
     "data": {
      "text/plain": [
       "True"
      ]
     },
     "execution_count": 2,
     "metadata": {},
     "output_type": "execute_result"
    }
   ],
   "source": [
    "nltk.download(\"dependency_treebank\")"
   ]
  },
  {
   "cell_type": "code",
   "execution_count": 3,
   "metadata": {
    "execution": {
     "iopub.execute_input": "2020-11-12T16:11:38.718352Z",
     "iopub.status.busy": "2020-11-12T16:11:38.718042Z",
     "iopub.status.idle": "2020-11-12T16:11:38.773780Z",
     "shell.execute_reply": "2020-11-12T16:11:38.772722Z",
     "shell.execute_reply.started": "2020-11-12T16:11:38.718315Z"
    }
   },
   "outputs": [],
   "source": [
    "RANDOM_SEED = 42\n",
    "\n",
    "\n",
    "def fix_random(seed):\n",
    "    \"\"\"\n",
    "    Fix all the possible sources of randomness\n",
    "    \"\"\"\n",
    "    np.random.seed(seed)\n",
    "    random.seed(seed)\n",
    "    torch.manual_seed(seed)\n",
    "    torch.cuda.manual_seed(seed)\n",
    "    torch.backends.cudnn.benchmark = False\n",
    "    torch.backends.cudnn.deterministic = True\n",
    "\n",
    "\n",
    "fix_random(RANDOM_SEED)"
   ]
  },
  {
   "cell_type": "code",
   "execution_count": 4,
   "metadata": {
    "execution": {
     "iopub.execute_input": "2020-11-12T16:11:38.775571Z",
     "iopub.status.busy": "2020-11-12T16:11:38.775249Z",
     "iopub.status.idle": "2020-11-12T16:11:38.830956Z",
     "shell.execute_reply": "2020-11-12T16:11:38.829874Z",
     "shell.execute_reply.started": "2020-11-12T16:11:38.775523Z"
    }
   },
   "outputs": [],
   "source": [
    "file_prefix = \"wsj_\"\n",
    "file_ext = \".dp\"\n",
    "train_files = [f\"{file_prefix}{i:04d}{file_ext}\" for i in range(1, 101)]\n",
    "val_files = [f\"{file_prefix}{i:04d}{file_ext}\" for i in range(101, 151)]\n",
    "test_files = [f\"{file_prefix}{i:04d}{file_ext}\" for i in range(151, 200)]\n",
    "splits = (\n",
    "    [\"train\"] * len(train_files) + [\"val\"] * len(val_files) + [\"test\"] * len(test_files)\n",
    ")\n",
    "whole_files = train_files + val_files + test_files"
   ]
  },
  {
   "cell_type": "code",
   "execution_count": 5,
   "metadata": {
    "execution": {
     "iopub.execute_input": "2020-11-12T16:11:38.832663Z",
     "iopub.status.busy": "2020-11-12T16:11:38.832362Z",
     "iopub.status.idle": "2020-11-12T16:11:38.885658Z",
     "shell.execute_reply": "2020-11-12T16:11:38.884630Z",
     "shell.execute_reply.started": "2020-11-12T16:11:38.832626Z"
    }
   },
   "outputs": [
    {
     "data": {
      "text/plain": [
       "['wsj_0001.dp',\n",
       " 'wsj_0021.dp',\n",
       " 'wsj_0041.dp',\n",
       " 'wsj_0061.dp',\n",
       " 'wsj_0081.dp',\n",
       " 'wsj_0101.dp',\n",
       " 'wsj_0121.dp',\n",
       " 'wsj_0141.dp',\n",
       " 'wsj_0161.dp',\n",
       " 'wsj_0181.dp']"
      ]
     },
     "execution_count": 5,
     "metadata": {},
     "output_type": "execute_result"
    }
   ],
   "source": [
    "whole_files[0:-1:20]"
   ]
  },
  {
   "cell_type": "code",
   "execution_count": 6,
   "metadata": {
    "execution": {
     "iopub.execute_input": "2020-11-12T16:11:38.887659Z",
     "iopub.status.busy": "2020-11-12T16:11:38.887344Z",
     "iopub.status.idle": "2020-11-12T16:11:38.941951Z",
     "shell.execute_reply": "2020-11-12T16:11:38.940933Z",
     "shell.execute_reply.started": "2020-11-12T16:11:38.887621Z"
    }
   },
   "outputs": [
    {
     "data": {
      "text/plain": [
       "'Pierre\\tNNP\\t2\\nVinken\\tNNP\\t8\\n,\\t,\\t2\\n61\\tCD\\t5\\nyears\\tNNS\\t6\\nold\\tJJ\\t2\\n,\\t,\\t2\\nwill\\tMD\\t0\\njoin\\tVB\\t8\\nthe\\tDT\\t11\\nboard\\tNN\\t9\\nas\\tIN\\t9\\na\\tDT\\t15\\nnonexecutive\\tJJ\\t15\\ndirector\\tNN\\t12\\nNov.\\tNNP\\t9\\n29\\tCD\\t16\\n.\\t.\\t8\\n\\nMr.\\tNNP\\t2\\nVinken\\tNNP\\t3\\nis\\tVBZ\\t0\\nchairman\\tNN\\t3\\nof\\tIN\\t4\\nElsevier\\tNNP\\t7\\nN.V.\\tNNP\\t12\\n,\\t,\\t12\\nthe\\tDT\\t12\\nDutch\\tNNP\\t12\\npublishing\\tVBG\\t12\\ngroup\\tNN\\t5\\n.\\t.\\t3\\n'"
      ]
     },
     "execution_count": 6,
     "metadata": {},
     "output_type": "execute_result"
    }
   ],
   "source": [
    "dependency_treebank.raw(fileids=whole_files[0])"
   ]
  },
  {
   "cell_type": "code",
   "execution_count": 119,
   "metadata": {
    "execution": {
     "iopub.execute_input": "2020-11-12T17:05:03.853246Z",
     "iopub.status.busy": "2020-11-12T17:05:03.852820Z",
     "iopub.status.idle": "2020-11-12T17:05:03.924706Z",
     "shell.execute_reply": "2020-11-12T17:05:03.923519Z",
     "shell.execute_reply.started": "2020-11-12T17:05:03.853203Z"
    }
   },
   "outputs": [],
   "source": [
    "def parse_file(fileid, preprocessor=None):\n",
    "    \"\"\"\n",
    "    Parse the given file identifier from the dependency treebank corpus\n",
    "    and return a tuple (`tokens`, `tags`), where `tokens` is the list\n",
    "    of tokens retrieved in the document and `tags` is the associated\n",
    "    list of tags (`tokens` and `tags` have the same lenght)\n",
    "    \n",
    "    If you wish to preprocess tokens, you can pass a function to the\n",
    "    `preprocessor` argument, which should take as input only the token\n",
    "    to transform\n",
    "    \"\"\"\n",
    "    file_str = dependency_treebank.raw(fileids=fileid)\n",
    "    splitted_file_str = [\n",
    "        x for x in re.split(\"\\t|\\n\", file_str.strip()) if x.strip() != \"\"\n",
    "    ]\n",
    "    if preprocessor is None:\n",
    "        preprocessor = lambda t: t\n",
    "    tokens, tags = [], []\n",
    "    for i in range(0, len(splitted_file_str), 3):\n",
    "        token = preprocessor(splitted_file_str[i])\n",
    "        tag = splitted_file_str[i + 1]\n",
    "        tokens.append(token)\n",
    "        tags.append(tag)\n",
    "    return tokens, tags\n",
    "\n",
    "\n",
    "def parse_files(fileids, preprocessor=None):\n",
    "    \"\"\"\n",
    "    Parse a set of file identifiers from the dependency treebank corpus\n",
    "    and return two lists, one which contains lists of tokens and one \n",
    "    containing lists of corresponding tags for each file identifier\n",
    "    \"\"\"\n",
    "    tokens_list, tags_list = [], []\n",
    "    for fileid in fileids:\n",
    "        tokens, tags = parse_file(fileid, preprocessor=preprocessor)\n",
    "        tokens_list.append(tokens)\n",
    "        tags_list.append(tags)\n",
    "    return tokens_list, tags_list"
   ]
  },
  {
   "cell_type": "code",
   "execution_count": 120,
   "metadata": {
    "execution": {
     "iopub.execute_input": "2020-11-12T17:05:04.427178Z",
     "iopub.status.busy": "2020-11-12T17:05:04.426877Z",
     "iopub.status.idle": "2020-11-12T17:05:04.478940Z",
     "shell.execute_reply": "2020-11-12T17:05:04.477818Z",
     "shell.execute_reply.started": "2020-11-12T17:05:04.427141Z"
    }
   },
   "outputs": [],
   "source": [
    "def preprocess_token(token):\n",
    "    \"\"\"\n",
    "    Peform small modifications to the given token:\n",
    "        - Transform to lowercase\n",
    "        - Encode numbers as \"<num>\"\n",
    "    \"\"\"\n",
    "    token = token.lower()\n",
    "    token = \"<num>\" if re.match(utils.FLOAT_RE, token) else token\n",
    "    return token"
   ]
  },
  {
   "cell_type": "code",
   "execution_count": 114,
   "metadata": {
    "execution": {
     "iopub.execute_input": "2020-11-12T17:03:55.889172Z",
     "iopub.status.busy": "2020-11-12T17:03:55.888871Z",
     "iopub.status.idle": "2020-11-12T17:03:56.472460Z",
     "shell.execute_reply": "2020-11-12T17:03:56.471166Z",
     "shell.execute_reply.started": "2020-11-12T17:03:55.889135Z"
    }
   },
   "outputs": [],
   "source": [
    "whole_tokens, whole_tags = parse_files(whole_files, preprocessor=preprocess_token)"
   ]
  },
  {
   "cell_type": "code",
   "execution_count": 115,
   "metadata": {
    "execution": {
     "iopub.execute_input": "2020-11-12T17:04:08.477398Z",
     "iopub.status.busy": "2020-11-12T17:04:08.476962Z",
     "iopub.status.idle": "2020-11-12T17:04:08.560146Z",
     "shell.execute_reply": "2020-11-12T17:04:08.558799Z",
     "shell.execute_reply.started": "2020-11-12T17:04:08.477355Z"
    }
   },
   "outputs": [],
   "source": [
    "def flatten(a):\n",
    "    \"\"\"\n",
    "    Given a 2D list, returns its flattened version\n",
    "    \"\"\"\n",
    "    return [i for s in a for i in s]\n",
    "\n",
    "\n",
    "flattened_tags = flatten(whole_tags)\n",
    "flattened_tokens = flatten(whole_tokens)"
   ]
  },
  {
   "cell_type": "code",
   "execution_count": 116,
   "metadata": {
    "execution": {
     "iopub.execute_input": "2020-11-12T17:04:09.080511Z",
     "iopub.status.busy": "2020-11-12T17:04:09.080209Z",
     "iopub.status.idle": "2020-11-12T17:04:09.166616Z",
     "shell.execute_reply": "2020-11-12T17:04:09.165558Z",
     "shell.execute_reply.started": "2020-11-12T17:04:09.080474Z"
    }
   },
   "outputs": [
    {
     "data": {
      "text/plain": [
       "45"
      ]
     },
     "execution_count": 116,
     "metadata": {},
     "output_type": "execute_result"
    }
   ],
   "source": [
    "unique_tags = np.unique(flattened_tags)\n",
    "len(unique_tags)"
   ]
  },
  {
   "cell_type": "code",
   "execution_count": 117,
   "metadata": {
    "execution": {
     "iopub.execute_input": "2020-11-12T17:04:09.907177Z",
     "iopub.status.busy": "2020-11-12T17:04:09.906869Z",
     "iopub.status.idle": "2020-11-12T17:04:10.088180Z",
     "shell.execute_reply": "2020-11-12T17:04:10.087099Z",
     "shell.execute_reply.started": "2020-11-12T17:04:09.907140Z"
    }
   },
   "outputs": [
    {
     "data": {
      "text/plain": [
       "[('NN', 13166),\n",
       " ('IN', 9857),\n",
       " ('NNP', 9410),\n",
       " ('DT', 8165),\n",
       " ('NNS', 6047),\n",
       " ('JJ', 5834),\n",
       " (',', 4886),\n",
       " ('.', 3874),\n",
       " ('CD', 3546),\n",
       " ('VBD', 3043)]"
      ]
     },
     "execution_count": 117,
     "metadata": {},
     "output_type": "execute_result"
    }
   ],
   "source": [
    "tags_fd = nltk.probability.FreqDist(flattened_tags)\n",
    "tags_fd.most_common(10)"
   ]
  },
  {
   "cell_type": "code",
   "execution_count": 118,
   "metadata": {
    "execution": {
     "iopub.execute_input": "2020-11-12T17:04:11.863138Z",
     "iopub.status.busy": "2020-11-12T17:04:11.862836Z",
     "iopub.status.idle": "2020-11-12T17:04:11.976764Z",
     "shell.execute_reply": "2020-11-12T17:04:11.975570Z",
     "shell.execute_reply.started": "2020-11-12T17:04:11.863101Z"
    }
   },
   "outputs": [
    {
     "data": {
      "text/plain": [
       "9964"
      ]
     },
     "execution_count": 118,
     "metadata": {},
     "output_type": "execute_result"
    }
   ],
   "source": [
    "unique_tokens = np.unique(flattened_tokens)\n",
    "len(unique_tokens)"
   ]
  },
  {
   "cell_type": "code",
   "execution_count": 104,
   "metadata": {
    "execution": {
     "iopub.execute_input": "2020-11-12T16:58:12.033901Z",
     "iopub.status.busy": "2020-11-12T16:58:12.033566Z",
     "iopub.status.idle": "2020-11-12T16:58:12.217236Z",
     "shell.execute_reply": "2020-11-12T16:58:12.216197Z",
     "shell.execute_reply.started": "2020-11-12T16:58:12.033862Z"
    }
   },
   "outputs": [
    {
     "data": {
      "text/plain": [
       "[(',', 4885),\n",
       " ('the', 4764),\n",
       " ('.', 3828),\n",
       " ('of', 2325),\n",
       " ('<float>', 2229),\n",
       " ('to', 2182),\n",
       " ('a', 1988),\n",
       " ('in', 1769),\n",
       " ('and', 1556),\n",
       " (\"'s\", 865)]"
      ]
     },
     "execution_count": 104,
     "metadata": {},
     "output_type": "execute_result"
    }
   ],
   "source": [
    "tokens_fd = nltk.probability.FreqDist(flattened_tokens)\n",
    "tokens_fd.most_common(10)"
   ]
  },
  {
   "cell_type": "code",
   "execution_count": 84,
   "metadata": {
    "execution": {
     "iopub.execute_input": "2020-11-12T16:50:10.961023Z",
     "iopub.status.busy": "2020-11-12T16:50:10.960720Z",
     "iopub.status.idle": "2020-11-12T16:50:11.015834Z",
     "shell.execute_reply": "2020-11-12T16:50:11.014661Z",
     "shell.execute_reply.started": "2020-11-12T16:50:10.960986Z"
    }
   },
   "outputs": [],
   "source": [
    "def build_vocabulary(tokens, padding_token=\"0\"):\n",
    "    \"\"\"\n",
    "    Given a list of tokens, builds the corresponding word vocabulary\n",
    "    \"\"\"\n",
    "    words = sorted(set(tokens))\n",
    "    vocabulary, inverse_vocabulary = dict(), dict()\n",
    "    vocabulary[0] = str(padding_token)\n",
    "    inverse_vocabulary[str(padding_token)] = 0\n",
    "    for i, w in tqdm(enumerate(words)):\n",
    "        vocabulary[i + 1] = w\n",
    "        inverse_vocabulary[w] = i + 1\n",
    "    return vocabulary, inverse_vocabulary, words"
   ]
  },
  {
   "cell_type": "code",
   "execution_count": 85,
   "metadata": {
    "execution": {
     "iopub.execute_input": "2020-11-12T16:50:11.427726Z",
     "iopub.status.busy": "2020-11-12T16:50:11.427407Z",
     "iopub.status.idle": "2020-11-12T16:50:11.481074Z",
     "shell.execute_reply": "2020-11-12T16:50:11.479748Z",
     "shell.execute_reply.started": "2020-11-12T16:50:11.427689Z"
    }
   },
   "outputs": [
    {
     "data": {
      "text/plain": [
       "False"
      ]
     },
     "execution_count": 85,
     "metadata": {},
     "output_type": "execute_result"
    }
   ],
   "source": [
    "PADDING_TOKEN = \"0\"\n",
    "PADDING_TOKEN in (flattened_tokens, flattened_tags)"
   ]
  },
  {
   "cell_type": "code",
   "execution_count": 86,
   "metadata": {
    "execution": {
     "iopub.execute_input": "2020-11-12T16:50:12.034949Z",
     "iopub.status.busy": "2020-11-12T16:50:12.034648Z",
     "iopub.status.idle": "2020-11-12T16:50:12.122854Z",
     "shell.execute_reply": "2020-11-12T16:50:12.121763Z",
     "shell.execute_reply.started": "2020-11-12T16:50:12.034912Z"
    }
   },
   "outputs": [
    {
     "name": "stderr",
     "output_type": "stream",
     "text": [
      "10947it [00:00, 585516.67it/s]\n"
     ]
    }
   ],
   "source": [
    "index_to_word, word_to_index, word_listing = build_vocabulary(\n",
    "    flattened_tokens, padding_token=PADDING_TOKEN\n",
    ")"
   ]
  },
  {
   "cell_type": "code",
   "execution_count": 87,
   "metadata": {
    "execution": {
     "iopub.execute_input": "2020-11-12T16:50:15.429402Z",
     "iopub.status.busy": "2020-11-12T16:50:15.429067Z",
     "iopub.status.idle": "2020-11-12T16:50:15.497686Z",
     "shell.execute_reply": "2020-11-12T16:50:15.496640Z",
     "shell.execute_reply.started": "2020-11-12T16:50:15.429364Z"
    }
   },
   "outputs": [
    {
     "data": {
      "text/plain": [
       "[(0, '0'),\n",
       " (1, '!'),\n",
       " (2, '#'),\n",
       " (3, '$'),\n",
       " (4, '%'),\n",
       " (5, '&'),\n",
       " (6, \"'\"),\n",
       " (7, \"''\"),\n",
       " (8, \"'30s\"),\n",
       " (9, \"'40s\")]"
      ]
     },
     "execution_count": 87,
     "metadata": {},
     "output_type": "execute_result"
    }
   ],
   "source": [
    "list(index_to_word.items())[:10]"
   ]
  },
  {
   "cell_type": "code",
   "execution_count": 88,
   "metadata": {
    "execution": {
     "iopub.execute_input": "2020-11-12T16:50:17.582396Z",
     "iopub.status.busy": "2020-11-12T16:50:17.582062Z",
     "iopub.status.idle": "2020-11-12T16:50:17.647495Z",
     "shell.execute_reply": "2020-11-12T16:50:17.646488Z",
     "shell.execute_reply.started": "2020-11-12T16:50:17.582358Z"
    }
   },
   "outputs": [
    {
     "name": "stderr",
     "output_type": "stream",
     "text": [
      "45it [00:00, 201004.98it/s]\n"
     ]
    }
   ],
   "source": [
    "index_to_tag, tag_to_index, tag_listing = build_vocabulary(\n",
    "    flattened_tags, padding_token=PADDING_TOKEN\n",
    ")"
   ]
  },
  {
   "cell_type": "code",
   "execution_count": 89,
   "metadata": {
    "execution": {
     "iopub.execute_input": "2020-11-12T16:50:18.429449Z",
     "iopub.status.busy": "2020-11-12T16:50:18.429150Z",
     "iopub.status.idle": "2020-11-12T16:50:18.483703Z",
     "shell.execute_reply": "2020-11-12T16:50:18.482567Z",
     "shell.execute_reply.started": "2020-11-12T16:50:18.429412Z"
    }
   },
   "outputs": [
    {
     "data": {
      "text/plain": [
       "[(0, '0'),\n",
       " (1, '#'),\n",
       " (2, '$'),\n",
       " (3, \"''\"),\n",
       " (4, ','),\n",
       " (5, '-LRB-'),\n",
       " (6, '-RRB-'),\n",
       " (7, '.'),\n",
       " (8, ':'),\n",
       " (9, 'CC')]"
      ]
     },
     "execution_count": 89,
     "metadata": {},
     "output_type": "execute_result"
    }
   ],
   "source": [
    "list(index_to_tag.items())[:10]"
   ]
  },
  {
   "cell_type": "code",
   "execution_count": 90,
   "metadata": {
    "execution": {
     "iopub.execute_input": "2020-11-12T16:50:20.102563Z",
     "iopub.status.busy": "2020-11-12T16:50:20.102263Z",
     "iopub.status.idle": "2020-11-12T16:50:20.156081Z",
     "shell.execute_reply": "2020-11-12T16:50:20.154906Z",
     "shell.execute_reply.started": "2020-11-12T16:50:20.102527Z"
    }
   },
   "outputs": [],
   "source": [
    "def to_indexes(values, to_index):\n",
    "    \"\"\"\n",
    "    Given a list of keys and a dictionary indexed by those keys,\n",
    "    return the corresponding values in the dictionary\n",
    "    \"\"\"\n",
    "    return [to_index[v] for v in values]\n",
    "\n",
    "\n",
    "whole_indexed_tokens = map(\n",
    "    lambda tokens: to_indexes(tokens, word_to_index), whole_tokens\n",
    ")\n",
    "whole_indexed_tags = map(lambda tags: to_indexes(tags, tag_to_index), whole_tags)"
   ]
  },
  {
   "cell_type": "code",
   "execution_count": 91,
   "metadata": {
    "execution": {
     "iopub.execute_input": "2020-11-12T16:50:22.151710Z",
     "iopub.status.busy": "2020-11-12T16:50:22.151352Z",
     "iopub.status.idle": "2020-11-12T16:50:22.308374Z",
     "shell.execute_reply": "2020-11-12T16:50:22.307090Z",
     "shell.execute_reply.started": "2020-11-12T16:50:22.151672Z"
    }
   },
   "outputs": [
    {
     "data": {
      "text/html": [
       "<div>\n",
       "<style scoped>\n",
       "    .dataframe tbody tr th:only-of-type {\n",
       "        vertical-align: middle;\n",
       "    }\n",
       "\n",
       "    .dataframe tbody tr th {\n",
       "        vertical-align: top;\n",
       "    }\n",
       "\n",
       "    .dataframe thead th {\n",
       "        text-align: right;\n",
       "    }\n",
       "</style>\n",
       "<table border=\"1\" class=\"dataframe\">\n",
       "  <thead>\n",
       "    <tr style=\"text-align: right;\">\n",
       "      <th></th>\n",
       "      <th>tokens</th>\n",
       "      <th>indexed_tokens</th>\n",
       "      <th>tags</th>\n",
       "      <th>indexed_tags</th>\n",
       "      <th>split</th>\n",
       "      <th>fileid</th>\n",
       "    </tr>\n",
       "  </thead>\n",
       "  <tbody>\n",
       "    <tr>\n",
       "      <th>0</th>\n",
       "      <td>[pierre, vinken, ,, 61, years, old, ,, will, j...</td>\n",
       "      <td>[7545, 10540, 20, 822, 10902, 7113, 20, 10776,...</td>\n",
       "      <td>[NNP, NNP, ,, CD, NNS, JJ, ,, MD, VB, DT, NN, ...</td>\n",
       "      <td>[21, 21, 4, 10, 23, 15, 4, 19, 35, 11, 20, 14,...</td>\n",
       "      <td>train</td>\n",
       "      <td>wsj_0001.dp</td>\n",
       "    </tr>\n",
       "    <tr>\n",
       "      <th>1</th>\n",
       "      <td>[rudolph, agnew, ,, 55, years, old, and, forme...</td>\n",
       "      <td>[8678, 1239, 20, 771, 10902, 7113, 1377, 4590,...</td>\n",
       "      <td>[NNP, NNP, ,, CD, NNS, JJ, CC, JJ, NN, IN, NNP...</td>\n",
       "      <td>[21, 21, 4, 10, 23, 15, 9, 15, 20, 14, 21, 21,...</td>\n",
       "      <td>train</td>\n",
       "      <td>wsj_0002.dp</td>\n",
       "    </tr>\n",
       "    <tr>\n",
       "      <th>2</th>\n",
       "      <td>[a, form, of, asbestos, once, used, to, make, ...</td>\n",
       "      <td>[1028, 4584, 7078, 1553, 7129, 10436, 10046, 6...</td>\n",
       "      <td>[DT, NN, IN, NN, RB, VBN, TO, VB, NNP, NN, NNS...</td>\n",
       "      <td>[11, 20, 14, 20, 28, 38, 33, 35, 21, 20, 23, 4...</td>\n",
       "      <td>train</td>\n",
       "      <td>wsj_0003.dp</td>\n",
       "    </tr>\n",
       "    <tr>\n",
       "      <th>3</th>\n",
       "      <td>[yields, on, money-market, mutual, funds, cont...</td>\n",
       "      <td>[10914, 7127, 6671, 6775, 4708, 2951, 10046, 9...</td>\n",
       "      <td>[NNS, IN, JJ, JJ, NNS, VBD, TO, VB, ,, IN, NNS...</td>\n",
       "      <td>[23, 14, 15, 15, 23, 36, 33, 35, 4, 14, 23, 14...</td>\n",
       "      <td>train</td>\n",
       "      <td>wsj_0004.dp</td>\n",
       "    </tr>\n",
       "    <tr>\n",
       "      <th>4</th>\n",
       "      <td>[j.p., bolduc, ,, vice, chairman, of, w.r., gr...</td>\n",
       "      <td>[5684, 2007, 20, 10518, 2445, 7078, 10592, 487...</td>\n",
       "      <td>[NNP, NNP, ,, NN, NN, IN, NNP, NNP, CC, NNP, ,...</td>\n",
       "      <td>[21, 21, 4, 20, 20, 14, 21, 21, 9, 21, 4, 41, ...</td>\n",
       "      <td>train</td>\n",
       "      <td>wsj_0005.dp</td>\n",
       "    </tr>\n",
       "  </tbody>\n",
       "</table>\n",
       "</div>"
      ],
      "text/plain": [
       "                                              tokens  \\\n",
       "0  [pierre, vinken, ,, 61, years, old, ,, will, j...   \n",
       "1  [rudolph, agnew, ,, 55, years, old, and, forme...   \n",
       "2  [a, form, of, asbestos, once, used, to, make, ...   \n",
       "3  [yields, on, money-market, mutual, funds, cont...   \n",
       "4  [j.p., bolduc, ,, vice, chairman, of, w.r., gr...   \n",
       "\n",
       "                                      indexed_tokens  \\\n",
       "0  [7545, 10540, 20, 822, 10902, 7113, 20, 10776,...   \n",
       "1  [8678, 1239, 20, 771, 10902, 7113, 1377, 4590,...   \n",
       "2  [1028, 4584, 7078, 1553, 7129, 10436, 10046, 6...   \n",
       "3  [10914, 7127, 6671, 6775, 4708, 2951, 10046, 9...   \n",
       "4  [5684, 2007, 20, 10518, 2445, 7078, 10592, 487...   \n",
       "\n",
       "                                                tags  \\\n",
       "0  [NNP, NNP, ,, CD, NNS, JJ, ,, MD, VB, DT, NN, ...   \n",
       "1  [NNP, NNP, ,, CD, NNS, JJ, CC, JJ, NN, IN, NNP...   \n",
       "2  [DT, NN, IN, NN, RB, VBN, TO, VB, NNP, NN, NNS...   \n",
       "3  [NNS, IN, JJ, JJ, NNS, VBD, TO, VB, ,, IN, NNS...   \n",
       "4  [NNP, NNP, ,, NN, NN, IN, NNP, NNP, CC, NNP, ,...   \n",
       "\n",
       "                                        indexed_tags  split       fileid  \n",
       "0  [21, 21, 4, 10, 23, 15, 4, 19, 35, 11, 20, 14,...  train  wsj_0001.dp  \n",
       "1  [21, 21, 4, 10, 23, 15, 9, 15, 20, 14, 21, 21,...  train  wsj_0002.dp  \n",
       "2  [11, 20, 14, 20, 28, 38, 33, 35, 21, 20, 23, 4...  train  wsj_0003.dp  \n",
       "3  [23, 14, 15, 15, 23, 36, 33, 35, 4, 14, 23, 14...  train  wsj_0004.dp  \n",
       "4  [21, 21, 4, 20, 20, 14, 21, 21, 9, 21, 4, 41, ...  train  wsj_0005.dp  "
      ]
     },
     "execution_count": 91,
     "metadata": {},
     "output_type": "execute_result"
    }
   ],
   "source": [
    "df = pd.DataFrame(\n",
    "    {\n",
    "        \"tokens\": whole_tokens,\n",
    "        \"indexed_tokens\": whole_indexed_tokens,\n",
    "        \"tags\": whole_tags,\n",
    "        \"indexed_tags\": whole_indexed_tags,\n",
    "        \"split\": splits,\n",
    "        \"fileid\": whole_files,\n",
    "    }\n",
    ")\n",
    "df.head()"
   ]
  },
  {
   "cell_type": "code",
   "execution_count": 57,
   "metadata": {
    "execution": {
     "iopub.execute_input": "2020-11-12T16:21:50.098754Z",
     "iopub.status.busy": "2020-11-12T16:21:50.098402Z",
     "iopub.status.idle": "2020-11-12T16:21:50.158807Z",
     "shell.execute_reply": "2020-11-12T16:21:50.157648Z",
     "shell.execute_reply.started": "2020-11-12T16:21:50.098712Z"
    }
   },
   "outputs": [],
   "source": [
    "class DependencyTreebankDataset(Dataset):\n",
    "    \"\"\"\n",
    "    Dependency treebank dataset for POS tagging\n",
    "    \"\"\"\n",
    "\n",
    "    def __init__(self, df):\n",
    "        self.df = df.copy()\n",
    "        self.df = self.df.reset_index(drop=True)\n",
    "\n",
    "    def __len__(self):\n",
    "        return self.df.shape[0]\n",
    "\n",
    "    def __getitem__(self, index):\n",
    "        assert isinstance(index, int)\n",
    "        tokens = self.df.loc[index, \"indexed_tokens\"]\n",
    "        tags = self.df.loc[index, \"indexed_tags\"]\n",
    "        return tokens, tags"
   ]
  },
  {
   "cell_type": "code",
   "execution_count": 58,
   "metadata": {
    "execution": {
     "iopub.execute_input": "2020-11-12T16:21:50.913032Z",
     "iopub.status.busy": "2020-11-12T16:21:50.912731Z",
     "iopub.status.idle": "2020-11-12T16:21:50.970999Z",
     "shell.execute_reply": "2020-11-12T16:21:50.969943Z",
     "shell.execute_reply.started": "2020-11-12T16:21:50.912996Z"
    }
   },
   "outputs": [],
   "source": [
    "train_dataset = DependencyTreebankDataset(df[df[\"split\"] == \"train\"])\n",
    "val_dataset = DependencyTreebankDataset(df[df[\"split\"] == \"val\"])\n",
    "test_dataset = DependencyTreebankDataset(df[df[\"split\"] == \"test\"])"
   ]
  },
  {
   "cell_type": "code",
   "execution_count": 46,
   "metadata": {
    "execution": {
     "iopub.execute_input": "2020-11-12T16:15:13.425436Z",
     "iopub.status.busy": "2020-11-12T16:15:13.425028Z",
     "iopub.status.idle": "2020-11-12T16:15:13.483271Z",
     "shell.execute_reply": "2020-11-12T16:15:13.482152Z",
     "shell.execute_reply.started": "2020-11-12T16:15:13.425393Z"
    }
   },
   "outputs": [
    {
     "name": "stdout",
     "output_type": "stream",
     "text": [
      "([3328, 4106, 21, 824, 11941, 8847, 21, 11846, 7920, 11191, 5034, 4686, 4264, 8743, 6224, 3123, 520, 28, 2991, 4106, 7898, 5340, 8819, 1970, 3016, 21, 11191, 1911, 9593, 7327, 28], [21, 21, 4, 10, 23, 15, 4, 19, 35, 11, 20, 14, 11, 15, 20, 21, 10, 7, 21, 21, 40, 20, 14, 21, 21, 4, 11, 21, 37, 20, 7])\n"
     ]
    }
   ],
   "source": [
    "print(train_dataset[0])"
   ]
  },
  {
   "cell_type": "code",
   "execution_count": 70,
   "metadata": {
    "execution": {
     "iopub.execute_input": "2020-11-12T16:24:25.105248Z",
     "iopub.status.busy": "2020-11-12T16:24:25.104829Z",
     "iopub.status.idle": "2020-11-12T16:24:25.169108Z",
     "shell.execute_reply": "2020-11-12T16:24:25.167829Z",
     "shell.execute_reply.started": "2020-11-12T16:24:25.105206Z"
    }
   },
   "outputs": [],
   "source": [
    "def pad_batch(batch):\n",
    "    \"\"\"\n",
    "    This function expects to receive a list of tuples (i.e. a batch),\n",
    "    s.t. each tuple contains tokens and tags for one sentence in the batch\n",
    "    and returns the same sequences padded with the padding token\n",
    "    \"\"\"\n",
    "    (tokens, tags) = zip(*batch)\n",
    "    tokens_lenghts = [len(x) for x in tokens]\n",
    "    tags_lenghts = [len(y) for y in tags]\n",
    "    padded_tokens = pad_sequence(\n",
    "        [torch.tensor(t) for t in tokens],\n",
    "        batch_first=True,\n",
    "        padding_value=int(PADDING_TOKEN),\n",
    "    )\n",
    "    padded_tags = pad_sequence(\n",
    "        [torch.tensor(t) for t in tags],\n",
    "        batch_first=True,\n",
    "        padding_value=int(PADDING_TOKEN),\n",
    "    )\n",
    "    return padded_tokens, padded_tags, tokens_lenghts, tags_lenghts\n",
    "\n",
    "\n",
    "batch_size = 5\n",
    "default_dataloader = partial(\n",
    "    DataLoader,\n",
    "    batch_size=batch_size,\n",
    "    shuffle=False,\n",
    "    collate_fn=pad_batch,\n",
    "    pin_memory=True,\n",
    ")\n",
    "train_dataloader = default_dataloader(train_dataset)\n",
    "val_dataloader = default_dataloader(val_dataset)\n",
    "test_dataloader = default_dataloader(test_dataset)"
   ]
  },
  {
   "cell_type": "code",
   "execution_count": 25,
   "metadata": {
    "execution": {
     "iopub.execute_input": "2020-11-12T16:11:40.686028Z",
     "iopub.status.busy": "2020-11-12T16:11:40.685728Z",
     "iopub.status.idle": "2020-11-12T16:12:31.238671Z",
     "shell.execute_reply": "2020-11-12T16:12:31.236975Z",
     "shell.execute_reply.started": "2020-11-12T16:11:40.685991Z"
    }
   },
   "outputs": [],
   "source": [
    "embedding_dimension = 50\n",
    "embedding_model = utils.load_embedding_model(\"glove\", embedding_dimension=embedding_dimension)"
   ]
  },
  {
   "cell_type": "code",
   "execution_count": 26,
   "metadata": {
    "execution": {
     "iopub.execute_input": "2020-11-12T16:12:31.248665Z",
     "iopub.status.busy": "2020-11-12T16:12:31.248317Z",
     "iopub.status.idle": "2020-11-12T16:12:31.317093Z",
     "shell.execute_reply": "2020-11-12T16:12:31.315938Z",
     "shell.execute_reply.started": "2020-11-12T16:12:31.248624Z"
    }
   },
   "outputs": [],
   "source": [
    "def check_oov_terms(embedding_model, word_listing):\n",
    "    \"\"\"\n",
    "    Checks differences between pre-trained embedding model vocabulary\n",
    "    and dataset specific vocabulary in order to highlight out-of-vocabulary terms\n",
    "    \"\"\"\n",
    "    oov_terms = []\n",
    "    for word in word_listing:\n",
    "        if word not in embedding_model.vocab:\n",
    "            oov_terms.append(word)\n",
    "    return oov_terms"
   ]
  },
  {
   "cell_type": "code",
   "execution_count": 27,
   "metadata": {
    "execution": {
     "iopub.execute_input": "2020-11-12T16:12:31.320493Z",
     "iopub.status.busy": "2020-11-12T16:12:31.320186Z",
     "iopub.status.idle": "2020-11-12T16:12:31.387356Z",
     "shell.execute_reply": "2020-11-12T16:12:31.386298Z",
     "shell.execute_reply.started": "2020-11-12T16:12:31.320456Z"
    }
   },
   "outputs": [
    {
     "name": "stdout",
     "output_type": "stream",
     "text": [
      "Total OOV terms: 3745 (0.31%)\n"
     ]
    }
   ],
   "source": [
    "oov_terms = check_oov_terms(embedding_model, word_listing)\n",
    "print(\n",
    "    f\"Total OOV terms: {len(oov_terms)} ({round(len(oov_terms) / len(word_listing), 2)}%)\"\n",
    ")"
   ]
  },
  {
   "cell_type": "code",
   "execution_count": 28,
   "metadata": {
    "execution": {
     "iopub.execute_input": "2020-11-12T16:12:31.389009Z",
     "iopub.status.busy": "2020-11-12T16:12:31.388713Z",
     "iopub.status.idle": "2020-11-12T16:12:31.446681Z",
     "shell.execute_reply": "2020-11-12T16:12:31.445614Z",
     "shell.execute_reply.started": "2020-11-12T16:12:31.388973Z"
    }
   },
   "outputs": [],
   "source": [
    "def build_embedding_matrix(\n",
    "    embedding_model,\n",
    "    embedding_dimension,\n",
    "    word_to_index,\n",
    "    oov_terms,\n",
    "    method=\"normal\",\n",
    "    padding_token=\"0\"\n",
    "):\n",
    "    \"\"\"\n",
    "    Builds the embedding matrix of a specific dataset given a pre-trained Gensim word embedding model\n",
    "    \"\"\"\n",
    "\n",
    "    def uniform_embedding(embedding_dimension, interval=(-1, 1)):\n",
    "        return interval[0] + np.random.sample(embedding_dimension) + interval[1]\n",
    "\n",
    "    def normal_embedding(embedding_dimension):\n",
    "        return np.random.normal(embedding_dimension)\n",
    "\n",
    "    embedding_matrix = np.zeros((len(word_to_index), embedding_dimension))\n",
    "    for word, index in word_to_index.items():\n",
    "        if word == padding_token:\n",
    "            word_vector = np.zeros((1, embedding_dimension))\n",
    "        # Words that are no OOV are taken from the Gensim model\n",
    "        elif word not in oov_terms:\n",
    "            word_vector = embedding_model[word]\n",
    "        # OOV words computed as random normal vectors\n",
    "        elif method == \"normal\":\n",
    "            word_vector = normal_embedding(embedding_dimension)\n",
    "        # OOV words computed as uniform vectors in range [-1, 1]\n",
    "        elif method == \"uniform\":\n",
    "            word_vector = uniform_embedding(embedding_dimension)\n",
    "        embedding_matrix[index, :] = word_vector\n",
    "    return embedding_matrix"
   ]
  },
  {
   "cell_type": "code",
   "execution_count": 29,
   "metadata": {
    "execution": {
     "iopub.execute_input": "2020-11-12T16:12:31.448609Z",
     "iopub.status.busy": "2020-11-12T16:12:31.448178Z",
     "iopub.status.idle": "2020-11-12T16:12:33.320231Z",
     "shell.execute_reply": "2020-11-12T16:12:33.319089Z",
     "shell.execute_reply.started": "2020-11-12T16:12:31.448568Z"
    }
   },
   "outputs": [
    {
     "data": {
      "text/plain": [
       "array([ 4.18000013e-01,  2.49679998e-01, -4.12420005e-01,  1.21699996e-01,\n",
       "        3.45270008e-01, -4.44569997e-02, -4.96879995e-01, -1.78619996e-01,\n",
       "       -6.60229998e-04, -6.56599998e-01,  2.78430015e-01, -1.47670001e-01,\n",
       "       -5.56770027e-01,  1.46579996e-01, -9.50950012e-03,  1.16579998e-02,\n",
       "        1.02040000e-01, -1.27920002e-01, -8.44299972e-01, -1.21809997e-01,\n",
       "       -1.68009996e-02, -3.32789987e-01, -1.55200005e-01, -2.31309995e-01,\n",
       "       -1.91809997e-01, -1.88230002e+00, -7.67459989e-01,  9.90509987e-02,\n",
       "       -4.21249986e-01, -1.95260003e-01,  4.00710011e+00, -1.85939997e-01,\n",
       "       -5.22870004e-01, -3.16810012e-01,  5.92130003e-04,  7.44489999e-03,\n",
       "        1.77780002e-01, -1.58969998e-01,  1.20409997e-02, -5.42230010e-02,\n",
       "       -2.98709989e-01, -1.57490000e-01, -3.47579986e-01, -4.56370004e-02,\n",
       "       -4.42510009e-01,  1.87849998e-01,  2.78489990e-03, -1.84110001e-01,\n",
       "       -1.15139998e-01, -7.85809994e-01])"
      ]
     },
     "execution_count": 29,
     "metadata": {},
     "output_type": "execute_result"
    }
   ],
   "source": [
    "embedding_matrix = build_embedding_matrix(\n",
    "    embedding_model,\n",
    "    embedding_dimension,\n",
    "    word_to_index,\n",
    "    oov_terms,\n",
    "    method=\"normal\",\n",
    "    padding_token=PADDING_TOKEN,\n",
    ")\n",
    "embedding_matrix[word_to_index[\"the\"]]"
   ]
  },
  {
   "cell_type": "code",
   "execution_count": 30,
   "metadata": {
    "execution": {
     "iopub.execute_input": "2020-11-12T16:12:33.322307Z",
     "iopub.status.busy": "2020-11-12T16:12:33.321990Z",
     "iopub.status.idle": "2020-11-12T16:12:33.380735Z",
     "shell.execute_reply": "2020-11-12T16:12:33.379711Z",
     "shell.execute_reply.started": "2020-11-12T16:12:33.322267Z"
    }
   },
   "outputs": [
    {
     "data": {
      "text/plain": [
       "array([0., 0., 0., 0., 0., 0., 0., 0., 0., 0., 0., 0., 0., 0., 0., 0., 0.,\n",
       "       0., 0., 0., 0., 0., 0., 0., 0., 0., 0., 0., 0., 0., 0., 0., 0., 0.,\n",
       "       0., 0., 0., 0., 0., 0., 0., 0., 0., 0., 0., 0., 0., 0., 0., 0.])"
      ]
     },
     "execution_count": 30,
     "metadata": {},
     "output_type": "execute_result"
    }
   ],
   "source": [
    "embedding_matrix[0]"
   ]
  },
  {
   "cell_type": "code",
   "execution_count": 31,
   "metadata": {
    "execution": {
     "iopub.execute_input": "2020-11-12T16:12:33.382723Z",
     "iopub.status.busy": "2020-11-12T16:12:33.382423Z",
     "iopub.status.idle": "2020-11-12T16:12:33.443945Z",
     "shell.execute_reply": "2020-11-12T16:12:33.442846Z",
     "shell.execute_reply.started": "2020-11-12T16:12:33.382687Z"
    }
   },
   "outputs": [],
   "source": [
    "class POSTaggingModel(nn.Module):\n",
    "    def __init__(\n",
    "        self,\n",
    "        input_dimension,\n",
    "        embedding_dimension,\n",
    "        hidden_dimension,\n",
    "        output_dimension,\n",
    "        embedding_matrix=None,\n",
    "        retrain_embeddings=True,\n",
    "        gru=True,\n",
    "        num_layers=1,\n",
    "        bidirectional=True,\n",
    "        dropout_rate=0.0,\n",
    "    ):\n",
    "        \"\"\"\n",
    "        Build a generic POS tagging model, with recurrent modules\n",
    "        \"\"\"\n",
    "        super().__init__()\n",
    "\n",
    "        # Embedding module\n",
    "        self.embedding = nn.Embedding(\n",
    "            input_dimension, embedding_dimension, padding_idx=0\n",
    "        )\n",
    "        if embedding_matrix is not None:\n",
    "            assert (\n",
    "                embedding_matrix.shape[0] == input_dimension\n",
    "                and embedding_matrix.shape[1] == embedding_dimension\n",
    "            )\n",
    "            self.embedding.weight = nn.Parameter(torch.FloatTensor(embedding_matrix))\n",
    "        self.embedding.weight.requires_grad = retrain_embeddings\n",
    "\n",
    "        # Recurrent module\n",
    "        recurrent_module = nn.GRU if gru else nn.LSTM\n",
    "        self.recurrent_module = recurrent_module(\n",
    "            embedding_dimension,\n",
    "            hidden_dimension,\n",
    "            batch_first=True,\n",
    "            num_layers=num_layers,\n",
    "            bidirectional=bidirectional,\n",
    "            dropout=dropout_rate if num_layers > 1 else 0,\n",
    "        )\n",
    "\n",
    "        # Dense and dropout\n",
    "        self.dense = nn.Linear(\n",
    "            hidden_dimension * 2 if bidirectional else hidden_dimension,\n",
    "            output_dimension,\n",
    "        )\n",
    "        self.dropout = nn.Dropout(dropout_rate)\n",
    "\n",
    "    def forward(self, tokens, tokens_lenghts):\n",
    "        embedded = self.dropout(self.embedding(tokens))\n",
    "        packed = pack_padded_sequence(\n",
    "            embedded, tokens_lenghts, batch_first=True, enforce_sorted=False\n",
    "        )\n",
    "        packed_outputs, (hidden, cell) = self.recurrent_module(packed)\n",
    "        padded_outputs, outputs_lengths = pad_packed_sequence(\n",
    "            packed_outputs, batch_first=True\n",
    "        )\n",
    "        predictions = self.dense(self.dropout(padded_outputs))\n",
    "        return predictions"
   ]
  },
  {
   "cell_type": "code",
   "execution_count": 32,
   "metadata": {
    "execution": {
     "iopub.execute_input": "2020-11-12T16:12:33.445576Z",
     "iopub.status.busy": "2020-11-12T16:12:33.445280Z",
     "iopub.status.idle": "2020-11-12T16:12:33.536294Z",
     "shell.execute_reply": "2020-11-12T16:12:33.535124Z",
     "shell.execute_reply.started": "2020-11-12T16:12:33.445540Z"
    }
   },
   "outputs": [],
   "source": [
    "hidden_dimension = 128\n",
    "num_layers = 1\n",
    "bidirectional = True\n",
    "dropout_rate = 0.0\n",
    "\n",
    "model = POSTaggingModel(\n",
    "    len(word_to_index),\n",
    "    embedding_dimension,\n",
    "    hidden_dimension,\n",
    "    len(tag_to_index),\n",
    "    embedding_matrix=embedding_matrix,\n",
    "    retrain_embeddings=True,\n",
    "    gru=False,\n",
    "    num_layers=num_layers,\n",
    "    bidirectional=bidirectional,\n",
    "    dropout_rate=dropout_rate,\n",
    ")"
   ]
  },
  {
   "cell_type": "code",
   "execution_count": 33,
   "metadata": {
    "execution": {
     "iopub.execute_input": "2020-11-12T16:12:33.538053Z",
     "iopub.status.busy": "2020-11-12T16:12:33.537742Z",
     "iopub.status.idle": "2020-11-12T16:12:33.593409Z",
     "shell.execute_reply": "2020-11-12T16:12:33.592042Z",
     "shell.execute_reply.started": "2020-11-12T16:12:33.538015Z"
    }
   },
   "outputs": [
    {
     "name": "stdout",
     "output_type": "stream",
     "text": [
      "The model has 794,592 trainable parameters\n"
     ]
    }
   ],
   "source": [
    "def count_parameters(model):\n",
    "    return sum(p.numel() for p in model.parameters() if p.requires_grad)\n",
    "\n",
    "\n",
    "print(f\"The model has {count_parameters(model):,} trainable parameters\")"
   ]
  },
  {
   "cell_type": "code",
   "execution_count": 34,
   "metadata": {
    "execution": {
     "iopub.execute_input": "2020-11-12T16:12:33.595795Z",
     "iopub.status.busy": "2020-11-12T16:12:33.595306Z",
     "iopub.status.idle": "2020-11-12T16:12:33.727876Z",
     "shell.execute_reply": "2020-11-12T16:12:33.726572Z",
     "shell.execute_reply.started": "2020-11-12T16:12:33.595735Z"
    }
   },
   "outputs": [
    {
     "data": {
      "text/plain": [
       "POSTaggingModel(\n",
       "  (embedding): Embedding(11969, 50, padding_idx=0)\n",
       "  (recurrent_module): LSTM(50, 128, batch_first=True, bidirectional=True)\n",
       "  (dense): Linear(in_features=256, out_features=46, bias=True)\n",
       "  (dropout): Dropout(p=0.0, inplace=False)\n",
       ")"
      ]
     },
     "execution_count": 34,
     "metadata": {},
     "output_type": "execute_result"
    }
   ],
   "source": [
    "def init_weights(m):\n",
    "    for name, param in m.named_parameters():\n",
    "        nn.init.normal_(param.data, mean=0, std=0.1)\n",
    "\n",
    "\n",
    "model.apply(init_weights)"
   ]
  },
  {
   "cell_type": "code",
   "execution_count": 35,
   "metadata": {
    "execution": {
     "iopub.execute_input": "2020-11-12T16:12:33.730074Z",
     "iopub.status.busy": "2020-11-12T16:12:33.729612Z",
     "iopub.status.idle": "2020-11-12T16:12:33.785945Z",
     "shell.execute_reply": "2020-11-12T16:12:33.784734Z",
     "shell.execute_reply.started": "2020-11-12T16:12:33.730020Z"
    }
   },
   "outputs": [],
   "source": [
    "optimizer = optim.Adam(model.parameters())\n",
    "criterion = nn.CrossEntropyLoss(ignore_index=0)"
   ]
  },
  {
   "cell_type": "code",
   "execution_count": 36,
   "metadata": {
    "execution": {
     "iopub.execute_input": "2020-11-12T16:12:33.788241Z",
     "iopub.status.busy": "2020-11-12T16:12:33.787774Z",
     "iopub.status.idle": "2020-11-12T16:12:33.850667Z",
     "shell.execute_reply": "2020-11-12T16:12:33.849119Z",
     "shell.execute_reply.started": "2020-11-12T16:12:33.788183Z"
    }
   },
   "outputs": [
    {
     "name": "stdout",
     "output_type": "stream",
     "text": [
      "cpu\n"
     ]
    },
    {
     "name": "stderr",
     "output_type": "stream",
     "text": [
      "/root/anaconda3/lib/python3.8/site-packages/torch/cuda/__init__.py:52: UserWarning: CUDA initialization: Found no NVIDIA driver on your system. Please check that you have an NVIDIA GPU and installed a driver from http://www.nvidia.com/Download/index.aspx (Triggered internally at  /pytorch/c10/cuda/CUDAFunctions.cpp:100.)\n",
      "  return torch._C._cuda_getDeviceCount() > 0\n"
     ]
    }
   ],
   "source": [
    "device = torch.device(\"cuda\" if torch.cuda.is_available() else \"cpu\")\n",
    "model = model.to(device)\n",
    "criterion = criterion.to(device)\n",
    "print(device)"
   ]
  },
  {
   "cell_type": "code",
   "execution_count": 37,
   "metadata": {
    "execution": {
     "iopub.execute_input": "2020-11-12T16:12:33.853163Z",
     "iopub.status.busy": "2020-11-12T16:12:33.852700Z",
     "iopub.status.idle": "2020-11-12T16:12:33.911010Z",
     "shell.execute_reply": "2020-11-12T16:12:33.909890Z",
     "shell.execute_reply.started": "2020-11-12T16:12:33.853110Z"
    }
   },
   "outputs": [],
   "source": [
    "def categorical_accuracy(preds, y):\n",
    "    \"\"\"\n",
    "    Returns accuracy per batch\n",
    "    \"\"\"\n",
    "    max_preds = preds.argmax(dim=1, keepdim=True)\n",
    "    non_pad_elements = torch.where(y != 0)\n",
    "    correct = max_preds[non_pad_elements].squeeze(1).eq(y[non_pad_elements])\n",
    "    return correct.sum() / torch.FloatTensor([y[non_pad_elements].shape[0]])"
   ]
  },
  {
   "cell_type": "code",
   "execution_count": 73,
   "metadata": {
    "execution": {
     "iopub.execute_input": "2020-11-12T16:25:35.018232Z",
     "iopub.status.busy": "2020-11-12T16:25:35.017805Z",
     "iopub.status.idle": "2020-11-12T16:25:35.082065Z",
     "shell.execute_reply": "2020-11-12T16:25:35.080881Z",
     "shell.execute_reply.started": "2020-11-12T16:25:35.018188Z"
    }
   },
   "outputs": [],
   "source": [
    "def train(model, dataloader, optimizer, criterion):\n",
    "    \"\"\"\n",
    "    Train the given model with the given dataloader, optimizer and criterion\n",
    "    \"\"\"\n",
    "    epoch_loss, epoch_acc = 0, 0\n",
    "    model.train()\n",
    "    for tokens, tags, tokens_lenghts, tags_lenghts in tqdm(dataloader):\n",
    "        optimizer.zero_grad()\n",
    "        predictions = model(tokens, tokens_lenghts)\n",
    "        predictions = predictions.view(-1, predictions.shape[-1])\n",
    "        tags = tags.view(-1)\n",
    "        loss = criterion(predictions, tags)\n",
    "        acc = categorical_accuracy(predictions, tags)\n",
    "        loss.backward()\n",
    "        optimizer.step()\n",
    "        epoch_loss += loss.item()\n",
    "        epoch_acc += acc.item()\n",
    "\n",
    "    return epoch_loss / len(dataloader), epoch_acc / len(dataloader)"
   ]
  },
  {
   "cell_type": "code",
   "execution_count": 74,
   "metadata": {
    "execution": {
     "iopub.execute_input": "2020-11-12T16:25:35.427461Z",
     "iopub.status.busy": "2020-11-12T16:25:35.427161Z",
     "iopub.status.idle": "2020-11-12T16:25:35.483144Z",
     "shell.execute_reply": "2020-11-12T16:25:35.482075Z",
     "shell.execute_reply.started": "2020-11-12T16:25:35.427424Z"
    }
   },
   "outputs": [],
   "source": [
    "def evaluate(model, dataloader, criterion):\n",
    "    \"\"\"\n",
    "    Evaluate the given model with the given dataloader, optimizer and criterion\n",
    "    \"\"\"\n",
    "    epoch_loss, epoch_acc = 0, 0\n",
    "    model.eval()\n",
    "    with torch.no_grad():\n",
    "        for tokens, tags, tokens_lenghts, tags_lenghts in tqdm(dataloader):\n",
    "            predictions = model(tokens, tokens_lenghts)\n",
    "            predictions = predictions.view(-1, predictions.shape[-1])\n",
    "            tags = tags.view(-1)\n",
    "            loss = criterion(predictions, tags)\n",
    "            acc = categorical_accuracy(predictions, tags)\n",
    "            epoch_loss += loss.item()\n",
    "            epoch_acc += acc.item()\n",
    "\n",
    "    return epoch_loss / len(dataloader), epoch_acc / len(dataloader)"
   ]
  },
  {
   "cell_type": "code",
   "execution_count": 122,
   "metadata": {
    "execution": {
     "iopub.execute_input": "2020-11-12T17:18:14.429076Z",
     "iopub.status.busy": "2020-11-12T17:18:14.428648Z",
     "iopub.status.idle": "2020-11-12T17:18:14.493605Z",
     "shell.execute_reply": "2020-11-12T17:18:14.492399Z",
     "shell.execute_reply.started": "2020-11-12T17:18:14.429032Z"
    }
   },
   "outputs": [],
   "source": [
    "def train_val_test(model, model_name, epochs=10):\n",
    "    \"\"\"\n",
    "    Perform training, validation and testing on the given model,\n",
    "    for the specified number of epochs\n",
    "    \"\"\"\n",
    "    best_val_loss = float(\"inf\")\n",
    "    for epoch in range(epochs):\n",
    "        # Perform train and validation\n",
    "        print(f\"Epoch: {epoch + 1:02}\")\n",
    "        start_time = time.time()\n",
    "        print(f\"Training...\")\n",
    "        train_loss, train_acc = train(model, train_dataloader, optimizer, criterion)\n",
    "        print(f\"Evaluating...\")\n",
    "        val_loss, val_acc = evaluate(model, val_dataloader, criterion)\n",
    "        end_time = time.time()\n",
    "\n",
    "        # Print epoch stats\n",
    "        print(f\"Epoch Time: {end_time - start_time}s\")\n",
    "        print(\n",
    "            f\"Training loss: {train_loss:.3f} | Train accuracy: {train_acc * 100:.2f}%\"\n",
    "        )\n",
    "        print(\n",
    "            f\"Validation Loss: {val_loss:.3f} | Validation accuracy: {val_acc * 100:.2f}%\"\n",
    "        )\n",
    "\n",
    "        # Save the best model so far\n",
    "        if val_loss < best_val_loss:\n",
    "            print(\"Saving new checkpoint...\")\n",
    "            best_val_loss = val_loss\n",
    "            torch.save(model.state_dict(), f\"models/{model_name}.pt\")\n",
    "\n",
    "        print()\n",
    "\n",
    "    # Test the model\n",
    "    model.load_state_dict(torch.load(f\"models/{model_name}.pt\"))\n",
    "    print(\"Testing...\")\n",
    "    test_loss, test_acc = evaluate(model, test_dataloader, criterion)\n",
    "    print(f\"Test loss: {test_loss:.3f} | Test accuracy: {test_acc * 100:.2f}%\")"
   ]
  },
  {
   "cell_type": "code",
   "execution_count": null,
   "metadata": {},
   "outputs": [],
   "source": []
  }
 ],
 "metadata": {
  "kernelspec": {
   "display_name": "Python 3",
   "language": "python",
   "name": "python3"
  },
  "language_info": {
   "codemirror_mode": {
    "name": "ipython",
    "version": 3
   },
   "file_extension": ".py",
   "mimetype": "text/x-python",
   "name": "python",
   "nbconvert_exporter": "python",
   "pygments_lexer": "ipython3",
   "version": "3.8.5"
  }
 },
 "nbformat": 4,
 "nbformat_minor": 4
}
